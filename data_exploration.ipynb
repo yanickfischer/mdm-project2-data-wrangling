{
 "cells": [
  {
   "cell_type": "markdown",
   "metadata": {},
   "source": [
    "## Notebook Info:\n",
    "\n",
    "In diesem Notebook wird initial eine Daten-Exploration gemacht, als Vorstufe für die spätere Architektur der ML-Modelle in Java und Springboot.\n",
    "Ebenfalls werden letzte Anpassungen an den Daten vorgenommen.\n",
    "Dazu zählen aufgaben wie:\n",
    "-Vorbereitung Columns für Verwendung in ML-Modellen\n",
    "-Standardisierung / Normailsierung von Daten"
   ]
  },
  {
   "cell_type": "code",
   "execution_count": 1,
   "metadata": {},
   "outputs": [],
   "source": [
    "import pandas as pd\n",
    "import numpy as np\n",
    "import matplotlib.pyplot as plt\n",
    "import seaborn as sns\n"
   ]
  },
  {
   "cell_type": "code",
   "execution_count": 12,
   "metadata": {},
   "outputs": [
    {
     "data": {
      "text/html": [
       "<div>\n",
       "<style scoped>\n",
       "    .dataframe tbody tr th:only-of-type {\n",
       "        vertical-align: middle;\n",
       "    }\n",
       "\n",
       "    .dataframe tbody tr th {\n",
       "        vertical-align: top;\n",
       "    }\n",
       "\n",
       "    .dataframe thead th {\n",
       "        text-align: right;\n",
       "    }\n",
       "</style>\n",
       "<table border=\"1\" class=\"dataframe\">\n",
       "  <thead>\n",
       "    <tr style=\"text-align: right;\">\n",
       "      <th></th>\n",
       "      <th>country_or_area</th>\n",
       "      <th>year</th>\n",
       "      <th>unit</th>\n",
       "      <th>quantity</th>\n",
       "      <th>category</th>\n",
       "      <th>commodity</th>\n",
       "      <th>transaction_type</th>\n",
       "      <th>additional_transaction_info</th>\n",
       "    </tr>\n",
       "  </thead>\n",
       "  <tbody>\n",
       "    <tr>\n",
       "      <th>0</th>\n",
       "      <td>Austria</td>\n",
       "      <td>1996</td>\n",
       "      <td>Metric tons,  thousand</td>\n",
       "      <td>5.0</td>\n",
       "      <td>additives_and_oxygenates</td>\n",
       "      <td>additives and oxygenates</td>\n",
       "      <td>exports</td>\n",
       "      <td>NaN</td>\n",
       "    </tr>\n",
       "    <tr>\n",
       "      <th>1</th>\n",
       "      <td>Austria</td>\n",
       "      <td>1995</td>\n",
       "      <td>Metric tons,  thousand</td>\n",
       "      <td>17.0</td>\n",
       "      <td>additives_and_oxygenates</td>\n",
       "      <td>additives and oxygenates</td>\n",
       "      <td>exports</td>\n",
       "      <td>NaN</td>\n",
       "    </tr>\n",
       "    <tr>\n",
       "      <th>2</th>\n",
       "      <td>Belgium</td>\n",
       "      <td>2014</td>\n",
       "      <td>Metric tons,  thousand</td>\n",
       "      <td>0.0</td>\n",
       "      <td>additives_and_oxygenates</td>\n",
       "      <td>additives and oxygenates</td>\n",
       "      <td>exports</td>\n",
       "      <td>NaN</td>\n",
       "    </tr>\n",
       "    <tr>\n",
       "      <th>3</th>\n",
       "      <td>Belgium</td>\n",
       "      <td>2013</td>\n",
       "      <td>Metric tons,  thousand</td>\n",
       "      <td>0.0</td>\n",
       "      <td>additives_and_oxygenates</td>\n",
       "      <td>additives and oxygenates</td>\n",
       "      <td>exports</td>\n",
       "      <td>NaN</td>\n",
       "    </tr>\n",
       "    <tr>\n",
       "      <th>4</th>\n",
       "      <td>Belgium</td>\n",
       "      <td>2012</td>\n",
       "      <td>Metric tons,  thousand</td>\n",
       "      <td>35.0</td>\n",
       "      <td>additives_and_oxygenates</td>\n",
       "      <td>additives and oxygenates</td>\n",
       "      <td>exports</td>\n",
       "      <td>NaN</td>\n",
       "    </tr>\n",
       "  </tbody>\n",
       "</table>\n",
       "</div>"
      ],
      "text/plain": [
       "  country_or_area  year                    unit  quantity  \\\n",
       "0         Austria  1996  Metric tons,  thousand       5.0   \n",
       "1         Austria  1995  Metric tons,  thousand      17.0   \n",
       "2         Belgium  2014  Metric tons,  thousand       0.0   \n",
       "3         Belgium  2013  Metric tons,  thousand       0.0   \n",
       "4         Belgium  2012  Metric tons,  thousand      35.0   \n",
       "\n",
       "                   category                 commodity transaction_type  \\\n",
       "0  additives_and_oxygenates  additives and oxygenates          exports   \n",
       "1  additives_and_oxygenates  additives and oxygenates          exports   \n",
       "2  additives_and_oxygenates  additives and oxygenates          exports   \n",
       "3  additives_and_oxygenates  additives and oxygenates          exports   \n",
       "4  additives_and_oxygenates  additives and oxygenates          exports   \n",
       "\n",
       "  additional_transaction_info  \n",
       "0                         NaN  \n",
       "1                         NaN  \n",
       "2                         NaN  \n",
       "3                         NaN  \n",
       "4                         NaN  "
      ]
     },
     "metadata": {},
     "output_type": "display_data"
    }
   ],
   "source": [
    "\n",
    "# Bessere Plot-Darstellung direkt im Notebook\n",
    "%matplotlib inline\n",
    "\n",
    "# Pfad zu deiner bereinigten Datei (bitte anpassen falls nötig)\n",
    "DATA_FILE = \"data/energy_cleaned_europe.csv\"\n",
    "\n",
    "# DataFrame laden\n",
    "df = pd.read_csv(DATA_FILE)\n",
    "\n",
    "# Kurze Vorschau auf die Daten\n",
    "display(df.head())"
   ]
  },
  {
   "cell_type": "code",
   "execution_count": 3,
   "metadata": {},
   "outputs": [
    {
     "name": "stdout",
     "output_type": "stream",
     "text": [
      "<class 'pandas.core.frame.DataFrame'>\n",
      "RangeIndex: 446601 entries, 0 to 446600\n",
      "Data columns (total 8 columns):\n",
      " #   Column                       Non-Null Count   Dtype  \n",
      "---  ------                       --------------   -----  \n",
      " 0   country_or_area              446601 non-null  object \n",
      " 1   year                         446601 non-null  int64  \n",
      " 2   unit                         446601 non-null  object \n",
      " 3   quantity                     446601 non-null  float64\n",
      " 4   category                     446601 non-null  object \n",
      " 5   commodity                    446601 non-null  object \n",
      " 6   transaction_type             444961 non-null  object \n",
      " 7   additional_transaction_info  28806 non-null   object \n",
      "dtypes: float64(1), int64(1), object(6)\n",
      "memory usage: 27.3+ MB\n"
     ]
    }
   ],
   "source": [
    "# Struktur der Daten prüfen\n",
    "df.info()\n"
   ]
  },
  {
   "cell_type": "code",
   "execution_count": 4,
   "metadata": {},
   "outputs": [
    {
     "name": "stdout",
     "output_type": "stream",
     "text": [
      "\n",
      "Anzahl fehlender Werte pro Spalte:\n"
     ]
    },
    {
     "data": {
      "text/plain": [
       "country_or_area                     0\n",
       "year                                0\n",
       "unit                                0\n",
       "quantity                            0\n",
       "category                            0\n",
       "commodity                           0\n",
       "transaction_type                 1640\n",
       "additional_transaction_info    417795\n",
       "dtype: int64"
      ]
     },
     "metadata": {},
     "output_type": "display_data"
    },
    {
     "name": "stdout",
     "output_type": "stream",
     "text": [
      "\n",
      "Einzigartige Länder:\n"
     ]
    },
    {
     "data": {
      "text/plain": [
       "array(['Austria', 'Belgium', 'Czech Republic', 'Finland', 'France',\n",
       "       'Greece', 'Hungary', 'Italy', 'Netherlands', 'Romania', 'Serbia',\n",
       "       'Slovakia', 'Ukraine', 'United Kingdom', 'Bulgaria', 'Croatia',\n",
       "       'Lithuania', 'Poland', 'Portugal', 'Spain', 'Sweden',\n",
       "       'Switzerland', 'North Macedonia', 'Germany', 'Norway', 'Denmark',\n",
       "       'Ireland', 'Moldova', 'Iceland', 'Latvia', 'Luxembourg', 'Estonia',\n",
       "       'Slovenia', 'Malta', 'Belarus', 'Cyprus', 'Albania',\n",
       "       'Bosnia and Herzegovina', 'Montenegro', 'Andorra', 'Liechtenstein'],\n",
       "      dtype=object)"
      ]
     },
     "metadata": {},
     "output_type": "display_data"
    },
    {
     "name": "stdout",
     "output_type": "stream",
     "text": [
      "\n",
      "Einzigartige Energieträger:\n"
     ]
    },
    {
     "data": {
      "text/plain": [
       "array(['additives and oxygenates', 'animal waste', 'anthracite',\n",
       "       'aviation gasoline', 'bagasse', 'biodiesel', 'biogases',\n",
       "       'biogasoline', 'bitumen', 'black liquor', 'blast furnace gas',\n",
       "       'brown coal briquettes', 'brown coal', 'lignite brown coal',\n",
       "       'lignite brown coal- recoverable resources', 'charcoal',\n",
       "       'coal tar', 'coke oven gas', 'coking coal',\n",
       "       'conventional crude oil', 'crude petroleum',\n",
       "       'direct use of geothermal heat',\n",
       "       'direct use of solar thermal heat',\n",
       "       'electricity generating capacity', 'electricity', 'ethane',\n",
       "       'falling water', 'fuel oil', 'fuelwood', 'gas coke',\n",
       "       'gas oil/ diesel oil', 'gas oil/ diesel oil ',\n",
       "       'gasoline-type jet fuel', 'gasworks gas', 'coal', 'hard coal',\n",
       "       'hrad coal', 'from chemical sources', 'from combustible fuels',\n",
       "       'from electric boilers', 'from heat pumps', 'from other sources',\n",
       "       'geothermal', 'heat', 'heat production', 'nuclear',\n",
       "       'solar thermal', 'industrial waste', 'kerosene-type jet fuel',\n",
       "       'lignite', 'liquefied petroleum gas (lpg)',\n",
       "       'liquified petroleum gas (lpg)', 'lubricants', 'motor gasoline',\n",
       "       'municipal waste', 'municipal wastes', 'naphtha',\n",
       "       'natural gas (including lng)', 'natural gas liquids',\n",
       "       'of which: biodiesel', 'of which: biogasoline', 'oil shale',\n",
       "       'other bituminous coal', 'other hydrocarbons', 'other kerosene',\n",
       "       'other liquid biofuels', 'other oil products n.e.c.',\n",
       "       'other recovered gases', 'vegetal waste', 'paraffin waxes',\n",
       "       'patent fuel', 'peat', 'peat (for fuel use)', 'peat products',\n",
       "       'petroleum coke', 'feedstocks', 'refinery gas',\n",
       "       'sub-bituminous coal', 'from chemical heat', 'hydro',\n",
       "       'of which: pumped hydro', 'solar', 'solar photovoltaic',\n",
       "       'tide, wave and marine', 'wind', 'total refinery output',\n",
       "       'total refinery throughput', 'uranium',\n",
       "       'white spirit and special boiling point industrial spirits'],\n",
       "      dtype=object)"
      ]
     },
     "metadata": {},
     "output_type": "display_data"
    },
    {
     "name": "stdout",
     "output_type": "stream",
     "text": [
      "\n",
      "Arten von Transaktionen (Exporte, Importe, Produktion, etc.):\n"
     ]
    },
    {
     "data": {
      "text/plain": [
       "array(['exports', 'imports', 'production', 'receipts from other sources',\n",
       "       'stock changes', 'total energy supply',\n",
       "       'transfers and recycled products', 'transformation',\n",
       "       'transformation in oil refineries',\n",
       "       'consumption by food and tobacco',\n",
       "       'consumption by manufacturing, construction and non-fuel industry',\n",
       "       'consumption by non-metallic minerals', 'consumption by other',\n",
       "       'consumption by other manuf., const. and non-fuel min. ind.',\n",
       "       'consumption in agriculture, forestry and fishing',\n",
       "       'consumption not elsewhere specified (industry)',\n",
       "       'final consumption', 'final energy consumption',\n",
       "       'transformation in electricity, chp and heat plants',\n",
       "       'transformation in electricity plants',\n",
       "       'commerce and public services',\n",
       "       'consumption by agriculture, forestry and fishing',\n",
       "       'consumption by chemical and petrochemical',\n",
       "       'consumption by construction', 'consumption by iron and steel',\n",
       "       'consumption by machinery', 'consumption by mining and quarrying',\n",
       "       'consumption by non-ferrous metals',\n",
       "       'consumption by other manuf., const. and non-fuel ind.',\n",
       "       'consumption by paper, pulp and print', 'consumption by rail',\n",
       "       'consumption by textile and leather',\n",
       "       'consumption by wood and wood products industry',\n",
       "       'consumption in households', 'consumption in transport',\n",
       "       'consumption not elsewhere specified (other)',\n",
       "       'consumption not elsewhere specified (transport)',\n",
       "       'energy industries own use', 'losses', 'non-energy use',\n",
       "       'other transformation', 'own use by coal mines',\n",
       "       'own use by coke ovens',\n",
       "       'own use by electricity, chp and heat plants',\n",
       "       'transformation in blast furnaces',\n",
       "       'transformation in briquetting plants',\n",
       "       'transformation in chp plants', 'transformation in heat plants',\n",
       "       'consumption by transport', 'consumption by transport equipment',\n",
       "       'consumption in domestic aviation',\n",
       "       'international aviation bunkers', 'production from plants',\n",
       "       'production from refineries', 'other energy industry own use',\n",
       "       'consumption by commerce and public services',\n",
       "       'consumption by domestic navigation', 'consumption by households',\n",
       "       'consumption by manufacturing, construction and non-fuel mining industry',\n",
       "       'consumption by other manufacturing, construction and non-fuel mining industry',\n",
       "       'consumption by road', 'net transfers',\n",
       "       'other transformation processes not elsewhere classified',\n",
       "       'consumption by wood and wood products',\n",
       "       'own use by biogas production plants',\n",
       "       'transformation in natural gas blending plants',\n",
       "       'consumption by other consumers', 'non-energy uses',\n",
       "       'own use by oil refineries', 'own use by blast furnaces',\n",
       "       'own use by electricity, heat and chp plants',\n",
       "       'transformation in coke ovens',\n",
       "       'consumption by briquetting plants',\n",
       "       'consumption by chemical and petrochemical industry',\n",
       "       'consumption by coal mines',\n",
       "       'consumption by iron and steel industry',\n",
       "       'consumption for non-energy uses', 'consumption in rail',\n",
       "       'transformation in gas works', 'changes in stocks',\n",
       "       'consumption by construction industry',\n",
       "       'consumption by food, beverage and tobacco industry',\n",
       "       'consumption by machinery industry',\n",
       "       'consumption by mining and quarrying industry',\n",
       "       'consumption by non-ferrous metals industry',\n",
       "       'consumption by non-metallic minerals industry',\n",
       "       'consumption by transport equipment industry',\n",
       "       'own use by briquetting plants',\n",
       "       'transformation in autoproducer chp plants',\n",
       "       'transformation in autoproducer electricity plants',\n",
       "       'transformation in autoproducer heat plants',\n",
       "       'transformation in main activity chp plants',\n",
       "       'transformation in main activity electricity plants',\n",
       "       'transformation in main activity heat plants',\n",
       "       'additional resources', nan, 'total known reserves',\n",
       "       'total resources in place', 'own use by gas works',\n",
       "       'consumption by textile and leather industry',\n",
       "       'transformation in main activity producer chp plants',\n",
       "       'transformation in main activity producer electricity plants',\n",
       "       'transformation in main activity producer heat plants',\n",
       "       'own use by oil and gas extraction', 'production from off-shore',\n",
       "       'refinery capacity', 'reserves', 'reserves from oil shale',\n",
       "       'reserves from oil shale and tar sands', 'reserves from tar sands',\n",
       "       'from other sources', 'pumped hydro', 'solar pv', 'solar thermal',\n",
       "       'net installed capacity of electric power plants, public combustible fuels',\n",
       "       'net installed capacity of electric power plants, public geothermal',\n",
       "       'net installed capacity of electric power plants, public hydro',\n",
       "       'net installed capacity of electric power plants, public nuclear',\n",
       "       'net installed capacity of electric power plants public solar',\n",
       "       'net installed capacity of electric power plants, public tide, wave, marine',\n",
       "       'net installed capacity of electric power plants, public wind',\n",
       "       'net installed capacity of electric power plants, self-producer combustible fuels',\n",
       "       'net installed capacity of electric power plants, self-producer geothermal',\n",
       "       'net installed capacity of electric power plants, self-producer hydro',\n",
       "       'net installed capacity of electric power plants, self-producer nuclear',\n",
       "       'net installed capacity of electric power plants, self-producer solar',\n",
       "       'net installed capacity of electric power plants, self-producer tide, wave, marine',\n",
       "       'net installed capacity of electric power plants, self-producer wind',\n",
       "       'total net installed capacity of electric power plants, autoproducer',\n",
       "       'total net installed capacity of electric power plants, combustible fuels',\n",
       "       'total net installed capacity of electric power plants, geothermal',\n",
       "       'total net installed capacity of electric power plants, hydro',\n",
       "       'total net installed capacity of electric power plants, main activity',\n",
       "       'total net installed capacity of electric power plants, main activity & autoproducer',\n",
       "       'total net installed capacity of electric power plants, nuclear',\n",
       "       'total net installed capacity of electric power plants, solar',\n",
       "       'total net installed capacity of electric power plants, tide, wave, marine',\n",
       "       'total net installed capacity of electric power plants, wind',\n",
       "       'consumption by industries not elsewhere specified',\n",
       "       'transformation in petrochemical plants',\n",
       "       'total hydraulic resources', 'consumption by domestic aviation',\n",
       "       'consumption by pipeline transport', 'consumption in road',\n",
       "       'international marine bunkers',\n",
       "       'transformation in charcoal plants',\n",
       "       'consumption in domestic navigation',\n",
       "       'total geothermal production', 'recoverable reserves',\n",
       "       'consumption by food and tobacco industry',\n",
       "       'consumption by other transport',\n",
       "       'own use by other energy producers', 'autoproducer',\n",
       "       'main activity', 'consumption by lng/regasification plants',\n",
       "       'gross demand', 'gross production', 'net production',\n",
       "       'own use by coal liquefaction plants',\n",
       "       'own use by nuclear fuel extraction and processing',\n",
       "       'autoproducer total', 'main activity total',\n",
       "       'used for electricity production', 'total hydro production',\n",
       "       'consumption by other consumers not elsewhere specified',\n",
       "       'transformation in other energy-producing plants',\n",
       "       'own use in coal mines', 'own use in coke ovens',\n",
       "       'consumption by other transportation',\n",
       "       'consumption by other manufacturing, construction and non-fuel',\n",
       "       'extraction loss shrinkage', 'flared', 'flared and vented',\n",
       "       'memo:gross production', 'own use by lng/regasification plants',\n",
       "       're-injected', 'total resources', 'vented',\n",
       "       'total nuclear production',\n",
       "       'transformation in coal liquefaction plants',\n",
       "       'consumption in commerce and public services',\n",
       "       'consumption by chemical and petrochemicalindustry',\n",
       "       'conversion in briquetting plants', 'recoverable',\n",
       "       'own use in electricity, chp and heat plants',\n",
       "       'total solar production', 'consumption by chemical industry',\n",
       "       'consumption by electricity, chp and heat plants',\n",
       "       'consumption by energy sector',\n",
       "       'transformation main activity chp plants',\n",
       "       'transformation main activity heat plants',\n",
       "       'total thermal production', 'total tide, wave production',\n",
       "       'consumption by commercial and public services',\n",
       "       'own use by pump-storage plants', 'total production, autoproducer',\n",
       "       'total production, main activity', 'used for electric boilers',\n",
       "       'used for heat pumps', 'estimated additional reserves',\n",
       "       'reasonably assured reserves',\n",
       "       'consumption by industry & construction',\n",
       "       'consumption by other industries and construction',\n",
       "       'total wind production'], dtype=object)"
      ]
     },
     "metadata": {},
     "output_type": "display_data"
    }
   ],
   "source": [
    "\n",
    "# Überprüfen auf fehlende Werte\n",
    "print(\"\\nAnzahl fehlender Werte pro Spalte:\")\n",
    "display(df.isnull().sum())\n",
    "\n",
    "# Übersicht über alle Länder\n",
    "print(\"\\nEinzigartige Länder:\")\n",
    "display(df['country_or_area'].unique())\n",
    "\n",
    "# Übersicht über alle Energiearten (Commodities)\n",
    "print(\"\\nEinzigartige Energieträger:\")\n",
    "display(df['commodity'].unique())\n",
    "\n",
    "# Übersicht über Transaktionstypen\n",
    "print(\"\\nArten von Transaktionen (Exporte, Importe, Produktion, etc.):\")\n",
    "display(df['transaction_type'].unique())\n",
    "\n"
   ]
  },
  {
   "cell_type": "markdown",
   "metadata": {},
   "source": [
    "\n",
    "# 4. Fragestellung 1: 🔮 Prognose Schweiz\n",
    "# \"Wie entwickelt sich der Energie-Mix der Schweiz über die Jahre?\""
   ]
  },
  {
   "cell_type": "code",
   "execution_count": 5,
   "metadata": {},
   "outputs": [
    {
     "data": {
      "image/png": "[encoded data removed]",
      "text/plain": [
       "<Figure size 1400x800 with 1 Axes>"
      ]
     },
     "metadata": {},
     "output_type": "display_data"
    }
   ],
   "source": [
    "\n",
    "\n",
    "# Fokus auf die Schweiz\n",
    "df_switzerland = df[df['country_or_area'] == 'Switzerland']\n",
    "\n",
    "# Gruppieren nach Jahr und Energieart\n",
    "pivot_switzerland = df_switzerland.pivot_table(\n",
    "    index='year',\n",
    "    columns='commodity',\n",
    "    values='quantity',\n",
    "    aggfunc='sum',\n",
    "    fill_value=0\n",
    ")\n",
    "\n",
    "# Entwicklung des Energie-Mixes über die Zeit plotten\n",
    "pivot_switzerland.plot(kind='line', figsize=(14, 8))\n",
    "plt.title('Energie-Mix Entwicklung in der Schweiz')\n",
    "plt.xlabel('Jahr')\n",
    "plt.ylabel('Menge (nach Einheit)')\n",
    "plt.legend(bbox_to_anchor=(1.05, 1), loc='upper left')\n",
    "plt.grid(True)\n",
    "plt.show()\n",
    "\n"
   ]
  },
  {
   "cell_type": "markdown",
   "metadata": {},
   "source": [
    "\n",
    "# 5. Fragestellung 2: 🌍 Vergleich \"Wie grün sind Länder?\"\n",
    "#    Länder auf Basis ihres Energie-Mixes bewerten\n"
   ]
  },
  {
   "cell_type": "code",
   "execution_count": 6,
   "metadata": {},
   "outputs": [
    {
     "name": "stdout",
     "output_type": "stream",
     "text": [
      "Liste der Energieträger (Commodities):\n",
      "- additives and oxygenates\n",
      "- animal waste\n",
      "- anthracite\n",
      "- aviation gasoline\n",
      "- bagasse\n",
      "- biodiesel\n",
      "- biogases\n",
      "- biogasoline\n",
      "- bitumen\n",
      "- black liquor\n",
      "- blast furnace gas\n",
      "- brown coal briquettes\n",
      "- brown coal\n",
      "- lignite brown coal\n",
      "- lignite brown coal- recoverable resources\n",
      "- charcoal\n",
      "- coal tar\n",
      "- coke oven gas\n",
      "- coking coal\n",
      "- conventional crude oil\n",
      "- crude petroleum\n",
      "- direct use of geothermal heat\n",
      "- direct use of solar thermal heat\n",
      "- electricity generating capacity\n",
      "- electricity\n",
      "- ethane\n",
      "- falling water\n",
      "- fuel oil\n",
      "- fuelwood\n",
      "- gas coke\n",
      "- gas oil/ diesel oil\n",
      "- gas oil/ diesel oil \n",
      "- gasoline-type jet fuel\n",
      "- gasworks gas\n",
      "- coal\n",
      "- hard coal\n",
      "- hrad coal\n",
      "- from chemical sources\n",
      "- from combustible fuels\n",
      "- from electric boilers\n",
      "- from heat pumps\n",
      "- from other sources\n",
      "- geothermal\n",
      "- heat\n",
      "- heat production\n",
      "- nuclear\n",
      "- solar thermal\n",
      "- industrial waste\n",
      "- kerosene-type jet fuel\n",
      "- lignite\n",
      "- liquefied petroleum gas (lpg)\n",
      "- liquified petroleum gas (lpg)\n",
      "- lubricants\n",
      "- motor gasoline\n",
      "- municipal waste\n",
      "- municipal wastes\n",
      "- naphtha\n",
      "- natural gas (including lng)\n",
      "- natural gas liquids\n",
      "- of which: biodiesel\n",
      "- of which: biogasoline\n",
      "- oil shale\n",
      "- other bituminous coal\n",
      "- other hydrocarbons\n",
      "- other kerosene\n",
      "- other liquid biofuels\n",
      "- other oil products n.e.c.\n",
      "- other recovered gases\n",
      "- vegetal waste\n",
      "- paraffin waxes\n",
      "- patent fuel\n",
      "- peat\n",
      "- peat (for fuel use)\n",
      "- peat products\n",
      "- petroleum coke\n",
      "- feedstocks\n",
      "- refinery gas\n",
      "- sub-bituminous coal\n",
      "- from chemical heat\n",
      "- hydro\n",
      "- of which: pumped hydro\n",
      "- solar\n",
      "- solar photovoltaic\n",
      "- tide, wave and marine\n",
      "- wind\n",
      "- total refinery output\n",
      "- total refinery throughput\n",
      "- uranium\n",
      "- white spirit and special boiling point industrial spirits\n"
     ]
    }
   ],
   "source": [
    "# Alle einzigartigen Energieträger (Commodities) auflisten\n",
    "\n",
    "unique_commodities = df['commodity'].unique()\n",
    "\n",
    "print(\"Liste der Energieträger (Commodities):\")\n",
    "for commodity in unique_commodities:\n",
    "    print(\"-\", commodity)"
   ]
  },
  {
   "cell_type": "code",
   "execution_count": 7,
   "metadata": {},
   "outputs": [],
   "source": [
    "# Definieren der grünen Energieträger (basierend auf GPT-Labelling)\n",
    "green_commodities = [\n",
    "    'solar', 'solar photovoltaic', 'solar thermal', \n",
    "    'wind', 'hydro', 'falling water', \n",
    "    'geothermal', 'direct use of geothermal heat', 'direct use of solar thermal heat',\n",
    "    'tide, wave and marine',\n",
    "    'biodiesel', 'biogases', 'biogasoline',\n",
    "    'vegetal waste', 'animal waste', 'municipal waste', 'municipal wastes'\n",
    "]\n",
    "\n",
    "# Neue Spalte: True wenn Commodity in der Liste der grünen Energieträger\n",
    "df['is_green_energy'] = df['commodity'].str.lower().isin(green_commodities)"
   ]
  },
  {
   "cell_type": "code",
   "execution_count": 8,
   "metadata": {},
   "outputs": [
    {
     "data": {
      "image/png": "[encoded data removed]",
      "text/plain": [
       "<Figure size 1000x600 with 1 Axes>"
      ]
     },
     "metadata": {},
     "output_type": "display_data"
    }
   ],
   "source": [
    "# ----------------------------------------\n",
    "# 1. Energieproduktion aggregieren nach Ländern basierend auf grüner Energie\n",
    "# ----------------------------------------\n",
    "\n",
    "# Fokus auf Produktion\n",
    "df_production = df[df['transaction_type'] == 'production']\n",
    "\n",
    "# Gruppieren: Summe der produzierten Energie je Land und is_green_energy-Kategorie\n",
    "pivot_production = df_production.pivot_table(\n",
    "    index='country_or_area',\n",
    "    columns='is_green_energy',\n",
    "    values='quantity',\n",
    "    aggfunc='sum',\n",
    "    fill_value=0\n",
    ")\n",
    "\n",
    "# Spalten umbenennen für bessere Lesbarkeit\n",
    "pivot_production = pivot_production.rename(columns={True: 'green_energy_total', False: 'non_green_energy_total'})\n",
    "\n",
    "# Gesamte produzierte Energie (alle Energieträger zusammen)\n",
    "pivot_production['total_energy'] = pivot_production['green_energy_total'] + pivot_production['non_green_energy_total']\n",
    "\n",
    "# Anteil grüner Energie berechnen\n",
    "pivot_production['green_share'] = pivot_production['green_energy_total'] / pivot_production['total_energy']\n",
    "\n",
    "# ----------------------------------------\n",
    "# 2. Ergebnisse visualisieren\n",
    "# ----------------------------------------\n",
    "\n",
    "# Länder sortieren nach Anteil grüner Energie\n",
    "pivot_production_sorted = pivot_production.sort_values('green_share', ascending=False)\n",
    "\n",
    "# Plot: Top 10 Länder mit höchstem Anteil grüner Energie\n",
    "pivot_production_sorted['green_share'].head(10).plot(kind='barh', figsize=(10,6))\n",
    "plt.title('Top 10 Länder mit höchstem Anteil an grüner Energie')\n",
    "plt.xlabel('Anteil grüne Energie (%)')\n",
    "plt.grid(True)\n",
    "plt.show()"
   ]
  },
  {
   "cell_type": "markdown",
   "metadata": {},
   "source": [
    "# Data Discovery with Plotly"
   ]
  },
  {
   "cell_type": "code",
   "execution_count": 9,
   "metadata": {},
   "outputs": [],
   "source": [
    "import plotly.express as px\n"
   ]
  },
  {
   "cell_type": "markdown",
   "metadata": {},
   "source": [
    "# 1. Daten vorbereiten: Grüne Energie pro Land und Jahr\n"
   ]
  },
  {
   "cell_type": "code",
   "execution_count": 10,
   "metadata": {},
   "outputs": [],
   "source": [
    "# Fokus auf Produktionsdaten\n",
    "df_production = df[df['transaction_type'] == 'production']\n",
    "\n",
    "# Nur grüne Energieträger auswählen\n",
    "df_green = df_production[df_production['is_green_energy'] == True]\n",
    "\n",
    "# Aggregieren: Summe der grünen Energie je Jahr und Land\n",
    "df_green_year_country = df_green.groupby(['year', 'country_or_area'])['quantity'].sum().reset_index()\n"
   ]
  },
  {
   "cell_type": "markdown",
   "metadata": {},
   "source": [
    "# 2. Interaktive Visualisierung: Dropdown pro Jahr\n"
   ]
  },
  {
   "cell_type": "code",
   "execution_count": 11,
   "metadata": {},
   "outputs": [
    {
     "data": {
      "application/vnd.plotly.v1+json": {
       "config": {
        "plotlyServerURL": "https://plot.ly"
       },
       "data": [
        {
         "hovertemplate": "Land=%{y}<br>year=1990<br>Produzierte Menge (nach Einheit)=%{x}<extra></extra>",
         "legendgroup": "Austria",
         "marker": {
          "color": "#636efa",
          "pattern": {
           "shape": ""
          }
         },
         "name": "Austria",
         "orientation": "h",
         "showlegend": true,
         "textposition": "auto",
         "type": "bar",
         "x": {
          "bdata": "AAAAAAB+t0A=",
          "dtype": "f8"
         },
         "xaxis": "x",
         "y": [
          "Austria"
         ],
         "yaxis": "y"
        },
        {
         "hovertemplate": "Land=%{y}<br>year=1990<br>Produzierte Menge (nach Einheit)=%{x}<extra></extra>",
         "legendgroup": "Belgium",
         "marker": {
          "color": "#EF553B",
          "pattern": {
           "shape": ""
          }
         },
         "name": "Belgium",
         "orientation": "h",
         "showlegend": true,
         "textposition": "auto",
         "type": "bar",
         "x": {
          "bdata": "AAAAAICAx0A=",
          "dtype": "f8"
         },
         "xaxis": "x",
         "y": [
          "Belgium"
         ],
         "yaxis": "y"
        },
        {
         "hovertemplate": "Land=%{y}<br>year=1990<br>Produzierte Menge (nach Einheit)=%{x}<extra></extra>",
         "legendgroup": "Denmark",
         "marker": {
          "color": "#00cc96",
          "pattern": {
           "shape": ""
          }
         },
         "name": "Denmark",
         "orientation": "h",
         "showlegend": true,
         "textposition": "auto",
         "type": "bar",
         "x": {
          "bdata": "AAAAAADJ3EA=",
          "dtype": "f8"
         },
         "xaxis": "x",
         "y": [
          "Denmark"
         ],
         "yaxis": "y"
        },
        {
         "hovertemplate": "Land=%{y}<br>year=1990<br>Produzierte Menge (nach Einheit)=%{x}<extra></extra>",
         "legendgroup": "Finland",
         "marker": {
          "color": "#ab63fa",
          "pattern": {
           "shape": ""
          }
         },
         "name": "Finland",
         "orientation": "h",
         "showlegend": true,
         "textposition": "auto",
         "type": "bar",
         "x": {
          "bdata": "AAAAAACTu0A=",
          "dtype": "f8"
         },
         "xaxis": "x",
         "y": [
          "Finland"
         ],
         "yaxis": "y"
        },
        {
         "hovertemplate": "Land=%{y}<br>year=1990<br>Produzierte Menge (nach Einheit)=%{x}<extra></extra>",
         "legendgroup": "France",
         "marker": {
          "color": "#FFA15A",
          "pattern": {
           "shape": ""
          }
         },
         "name": "France",
         "orientation": "h",
         "showlegend": true,
         "textposition": "auto",
         "type": "bar",
         "x": {
          "bdata": "AAAAAEC96kA=",
          "dtype": "f8"
         },
         "xaxis": "x",
         "y": [
          "France"
         ],
         "yaxis": "y"
        },
        {
         "hovertemplate": "Land=%{y}<br>year=1990<br>Produzierte Menge (nach Einheit)=%{x}<extra></extra>",
         "legendgroup": "Greece",
         "marker": {
          "color": "#19d3f3",
          "pattern": {
           "shape": ""
          }
         },
         "name": "Greece",
         "orientation": "h",
         "showlegend": true,
         "textposition": "auto",
         "type": "bar",
         "x": {
          "bdata": "AAAAAAAgrkA=",
          "dtype": "f8"
         },
         "xaxis": "x",
         "y": [
          "Greece"
         ],
         "yaxis": "y"
        },
        {
         "hovertemplate": "Land=%{y}<br>year=1990<br>Produzierte Menge (nach Einheit)=%{x}<extra></extra>",
         "legendgroup": "Hungary",
         "marker": {
          "color": "#FF6692",
          "pattern": {
           "shape": ""
          }
         },
         "name": "Hungary",
         "orientation": "h",
         "showlegend": true,
         "textposition": "auto",
         "type": "bar",
         "x": {
          "bdata": "AAAAAIBKxEA=",
          "dtype": "f8"
         },
         "xaxis": "x",
         "y": [
          "Hungary"
         ],
         "yaxis": "y"
        },
        {
         "hovertemplate": "Land=%{y}<br>year=1990<br>Produzierte Menge (nach Einheit)=%{x}<extra></extra>",
         "legendgroup": "Ireland",
         "marker": {
          "color": "#B6E880",
          "pattern": {
           "shape": ""
          }
         },
         "name": "Ireland",
         "orientation": "h",
         "showlegend": true,
         "textposition": "auto",
         "type": "bar",
         "x": {
          "bdata": "AAAAAADAV0A=",
          "dtype": "f8"
         },
         "xaxis": "x",
         "y": [
          "Ireland"
         ],
         "yaxis": "y"
        },
        {
         "hovertemplate": "Land=%{y}<br>year=1990<br>Produzierte Menge (nach Einheit)=%{x}<extra></extra>",
         "legendgroup": "Italy",
         "marker": {
          "color": "#FF97FF",
          "pattern": {
           "shape": ""
          }
         },
         "name": "Italy",
         "orientation": "h",
         "showlegend": true,
         "textposition": "auto",
         "type": "bar",
         "x": {
          "bdata": "AAAAAAB23EA=",
          "dtype": "f8"
         },
         "xaxis": "x",
         "y": [
          "Italy"
         ],
         "yaxis": "y"
        },
        {
         "hovertemplate": "Land=%{y}<br>year=1990<br>Produzierte Menge (nach Einheit)=%{x}<extra></extra>",
         "legendgroup": "Luxembourg",
         "marker": {
          "color": "#FECB52",
          "pattern": {
           "shape": ""
          }
         },
         "name": "Luxembourg",
         "orientation": "h",
         "showlegend": true,
         "textposition": "auto",
         "type": "bar",
         "x": {
          "bdata": "AAAAAADQjUA=",
          "dtype": "f8"
         },
         "xaxis": "x",
         "y": [
          "Luxembourg"
         ],
         "yaxis": "y"
        },
        {
         "hovertemplate": "Land=%{y}<br>year=1990<br>Produzierte Menge (nach Einheit)=%{x}<extra></extra>",
         "legendgroup": "Netherlands",
         "marker": {
          "color": "#636efa",
          "pattern": {
           "shape": ""
          }
         },
         "name": "Netherlands",
         "orientation": "h",
         "showlegend": true,
         "textposition": "auto",
         "type": "bar",
         "x": {
          "bdata": "AAAAAAAO2UA=",
          "dtype": "f8"
         },
         "xaxis": "x",
         "y": [
          "Netherlands"
         ],
         "yaxis": "y"
        },
        {
         "hovertemplate": "Land=%{y}<br>year=1990<br>Produzierte Menge (nach Einheit)=%{x}<extra></extra>",
         "legendgroup": "Norway",
         "marker": {
          "color": "#EF553B",
          "pattern": {
           "shape": ""
          }
         },
         "name": "Norway",
         "orientation": "h",
         "showlegend": true,
         "textposition": "auto",
         "type": "bar",
         "x": {
          "bdata": "AAAAAACjsUA=",
          "dtype": "f8"
         },
         "xaxis": "x",
         "y": [
          "Norway"
         ],
         "yaxis": "y"
        },
        {
         "hovertemplate": "Land=%{y}<br>year=1990<br>Produzierte Menge (nach Einheit)=%{x}<extra></extra>",
         "legendgroup": "Poland",
         "marker": {
          "color": "#00cc96",
          "pattern": {
           "shape": ""
          }
         },
         "name": "Poland",
         "orientation": "h",
         "showlegend": true,
         "textposition": "auto",
         "type": "bar",
         "x": {
          "bdata": "AAAAAIDN7UA=",
          "dtype": "f8"
         },
         "xaxis": "x",
         "y": [
          "Poland"
         ],
         "yaxis": "y"
        },
        {
         "hovertemplate": "Land=%{y}<br>year=1990<br>Produzierte Menge (nach Einheit)=%{x}<extra></extra>",
         "legendgroup": "Portugal",
         "marker": {
          "color": "#ab63fa",
          "pattern": {
           "shape": ""
          }
         },
         "name": "Portugal",
         "orientation": "h",
         "showlegend": true,
         "textposition": "auto",
         "type": "bar",
         "x": {
          "bdata": "AAAAAEDS4EA=",
          "dtype": "f8"
         },
         "xaxis": "x",
         "y": [
          "Portugal"
         ],
         "yaxis": "y"
        },
        {
         "hovertemplate": "Land=%{y}<br>year=1990<br>Produzierte Menge (nach Einheit)=%{x}<extra></extra>",
         "legendgroup": "Spain",
         "marker": {
          "color": "#FFA15A",
          "pattern": {
           "shape": ""
          }
         },
         "name": "Spain",
         "orientation": "h",
         "showlegend": true,
         "textposition": "auto",
         "type": "bar",
         "x": {
          "bdata": "AAAAAGDX40A=",
          "dtype": "f8"
         },
         "xaxis": "x",
         "y": [
          "Spain"
         ],
         "yaxis": "y"
        },
        {
         "hovertemplate": "Land=%{y}<br>year=1990<br>Produzierte Menge (nach Einheit)=%{x}<extra></extra>",
         "legendgroup": "Sweden",
         "marker": {
          "color": "#19d3f3",
          "pattern": {
           "shape": ""
          }
         },
         "name": "Sweden",
         "orientation": "h",
         "showlegend": true,
         "textposition": "auto",
         "type": "bar",
         "x": {
          "bdata": "AAAAAICe1EA=",
          "dtype": "f8"
         },
         "xaxis": "x",
         "y": [
          "Sweden"
         ],
         "yaxis": "y"
        },
        {
         "hovertemplate": "Land=%{y}<br>year=1990<br>Produzierte Menge (nach Einheit)=%{x}<extra></extra>",
         "legendgroup": "Switzerland",
         "marker": {
          "color": "#FF6692",
          "pattern": {
           "shape": ""
          }
         },
         "name": "Switzerland",
         "orientation": "h",
         "showlegend": true,
         "textposition": "auto",
         "type": "bar",
         "x": {
          "bdata": "AAAAAEAz2EA=",
          "dtype": "f8"
         },
         "xaxis": "x",
         "y": [
          "Switzerland"
         ],
         "yaxis": "y"
        },
        {
         "hovertemplate": "Land=%{y}<br>year=1990<br>Produzierte Menge (nach Einheit)=%{x}<extra></extra>",
         "legendgroup": "United Kingdom",
         "marker": {
          "color": "#B6E880",
          "pattern": {
           "shape": ""
          }
         },
         "name": "United Kingdom",
         "orientation": "h",
         "showlegend": true,
         "textposition": "auto",
         "type": "bar",
         "x": {
          "bdata": "AAAAAAAWz0A=",
          "dtype": "f8"
         },
         "xaxis": "x",
         "y": [
          "United Kingdom"
         ],
         "yaxis": "y"
        }
       ],
       "frames": [
        {
         "data": [
          {
           "hovertemplate": "Land=%{y}<br>year=1990<br>Produzierte Menge (nach Einheit)=%{x}<extra></extra>",
           "legendgroup": "Austria",
           "marker": {
            "color": "#636efa",
            "pattern": {
             "shape": ""
            }
           },
           "name": "Austria",
           "orientation": "h",
           "showlegend": true,
           "textposition": "auto",
           "type": "bar",
           "x": {
            "bdata": "AAAAAAB+t0A=",
            "dtype": "f8"
           },
           "xaxis": "x",
           "y": [
            "Austria"
           ],
           "yaxis": "y"
          },
          {
           "hovertemplate": "Land=%{y}<br>year=1990<br>Produzierte Menge (nach Einheit)=%{x}<extra></extra>",
           "legendgroup": "Belgium",
           "marker": {
            "color": "#EF553B",
            "pattern": {
             "shape": ""
            }
           },
           "name": "Belgium",
           "orientation": "h",
           "showlegend": true,
           "textposition": "auto",
           "type": "bar",
           "x": {
            "bdata": "AAAAAICAx0A=",
            "dtype": "f8"
           },
           "xaxis": "x",
           "y": [
            "Belgium"
           ],
           "yaxis": "y"
          },
          {
           "hovertemplate": "Land=%{y}<br>year=1990<br>Produzierte Menge (nach Einheit)=%{x}<extra></extra>",
           "legendgroup": "Denmark",
           "marker": {
            "color": "#00cc96",
            "pattern": {
             "shape": ""
            }
           },
           "name": "Denmark",
           "orientation": "h",
           "showlegend": true,
           "textposition": "auto",
           "type": "bar",
           "x": {
            "bdata": "AAAAAADJ3EA=",
            "dtype": "f8"
           },
           "xaxis": "x",
           "y": [
            "Denmark"
           ],
           "yaxis": "y"
          },
          {
           "hovertemplate": "Land=%{y}<br>year=1990<br>Produzierte Menge (nach Einheit)=%{x}<extra></extra>",
           "legendgroup": "Finland",
           "marker": {
            "color": "#ab63fa",
            "pattern": {
             "shape": ""
            }
           },
           "name": "Finland",
           "orientation": "h",
           "showlegend": true,
           "textposition": "auto",
           "type": "bar",
           "x": {
            "bdata": "AAAAAACTu0A=",
            "dtype": "f8"
           },
           "xaxis": "x",
           "y": [
            "Finland"
           ],
           "yaxis": "y"
          },
          {
           "hovertemplate": "Land=%{y}<br>year=1990<br>Produzierte Menge (nach Einheit)=%{x}<extra></extra>",
           "legendgroup": "France",
           "marker": {
            "color": "#FFA15A",
            "pattern": {
             "shape": ""
            }
           },
           "name": "France",
           "orientation": "h",
           "showlegend": true,
           "textposition": "auto",
           "type": "bar",
           "x": {
            "bdata": "AAAAAEC96kA=",
            "dtype": "f8"
           },
           "xaxis": "x",
           "y": [
            "France"
           ],
           "yaxis": "y"
          },
          {
           "hovertemplate": "Land=%{y}<br>year=1990<br>Produzierte Menge (nach Einheit)=%{x}<extra></extra>",
           "legendgroup": "Greece",
           "marker": {
            "color": "#19d3f3",
            "pattern": {
             "shape": ""
            }
           },
           "name": "Greece",
           "orientation": "h",
           "showlegend": true,
           "textposition": "auto",
           "type": "bar",
           "x": {
            "bdata": "AAAAAAAgrkA=",
            "dtype": "f8"
           },
           "xaxis": "x",
           "y": [
            "Greece"
           ],
           "yaxis": "y"
          },
          {
           "hovertemplate": "Land=%{y}<br>year=1990<br>Produzierte Menge (nach Einheit)=%{x}<extra></extra>",
           "legendgroup": "Hungary",
           "marker": {
            "color": "#FF6692",
            "pattern": {
             "shape": ""
            }
           },
           "name": "Hungary",
           "orientation": "h",
           "showlegend": true,
           "textposition": "auto",
           "type": "bar",
           "x": {
            "bdata": "AAAAAIBKxEA=",
            "dtype": "f8"
           },
           "xaxis": "x",
           "y": [
            "Hungary"
           ],
           "yaxis": "y"
          },
          {
           "hovertemplate": "Land=%{y}<br>year=1990<br>Produzierte Menge (nach Einheit)=%{x}<extra></extra>",
           "legendgroup": "Ireland",
           "marker": {
            "color": "#B6E880",
            "pattern": {
             "shape": ""
            }
           },
           "name": "Ireland",
           "orientation": "h",
           "showlegend": true,
           "textposition": "auto",
           "type": "bar",
           "x": {
            "bdata": "AAAAAADAV0A=",
            "dtype": "f8"
           },
           "xaxis": "x",
           "y": [
            "Ireland"
           ],
           "yaxis": "y"
          },
          {
           "hovertemplate": "Land=%{y}<br>year=1990<br>Produzierte Menge (nach Einheit)=%{x}<extra></extra>",
           "legendgroup": "Italy",
           "marker": {
            "color": "#FF97FF",
            "pattern": {
             "shape": ""
            }
           },
           "name": "Italy",
           "orientation": "h",
           "showlegend": true,
           "textposition": "auto",
           "type": "bar",
           "x": {
            "bdata": "AAAAAAB23EA=",
            "dtype": "f8"
           },
           "xaxis": "x",
           "y": [
            "Italy"
           ],
           "yaxis": "y"
          },
          {
           "hovertemplate": "Land=%{y}<br>year=1990<br>Produzierte Menge (nach Einheit)=%{x}<extra></extra>",
           "legendgroup": "Luxembourg",
           "marker": {
            "color": "#FECB52",
            "pattern": {
             "shape": ""
            }
           },
           "name": "Luxembourg",
           "orientation": "h",
           "showlegend": true,
           "textposition": "auto",
           "type": "bar",
           "x": {
            "bdata": "AAAAAADQjUA=",
            "dtype": "f8"
           },
           "xaxis": "x",
           "y": [
            "Luxembourg"
           ],
           "yaxis": "y"
          },
          {
           "hovertemplate": "Land=%{y}<br>year=1990<br>Produzierte Menge (nach Einheit)=%{x}<extra></extra>",
           "legendgroup": "Netherlands",
           "marker": {
            "color": "#636efa",
            "pattern": {
             "shape": ""
            }
           },
           "name": "Netherlands",
           "orientation": "h",
           "showlegend": true,
           "textposition": "auto",
           "type": "bar",
           "x": {
            "bdata": "AAAAAAAO2UA=",
            "dtype": "f8"
           },
           "xaxis": "x",
           "y": [
            "Netherlands"
           ],
           "yaxis": "y"
          },
          {
           "hovertemplate": "Land=%{y}<br>year=1990<br>Produzierte Menge (nach Einheit)=%{x}<extra></extra>",
           "legendgroup": "Norway",
           "marker": {
            "color": "#EF553B",
            "pattern": {
             "shape": ""
            }
           },
           "name": "Norway",
           "orientation": "h",
           "showlegend": true,
           "textposition": "auto",
           "type": "bar",
           "x": {
            "bdata": "AAAAAACjsUA=",
            "dtype": "f8"
           },
           "xaxis": "x",
           "y": [
            "Norway"
           ],
           "yaxis": "y"
          },
          {
           "hovertemplate": "Land=%{y}<br>year=1990<br>Produzierte Menge (nach Einheit)=%{x}<extra></extra>",
           "legendgroup": "Poland",
           "marker": {
            "color": "#00cc96",
            "pattern": {
             "shape": ""
            }
           },
           "name": "Poland",
           "orientation": "h",
           "showlegend": true,
           "textposition": "auto",
           "type": "bar",
           "x": {
            "bdata": "AAAAAIDN7UA=",
            "dtype": "f8"
           },
           "xaxis": "x",
           "y": [
            "Poland"
           ],
           "yaxis": "y"
          },
          {
           "hovertemplate": "Land=%{y}<br>year=1990<br>Produzierte Menge (nach Einheit)=%{x}<extra></extra>",
           "legendgroup": "Portugal",
           "marker": {
            "color": "#ab63fa",
            "pattern": {
             "shape": ""
            }
           },
           "name": "Portugal",
           "orientation": "h",
           "showlegend": true,
           "textposition": "auto",
           "type": "bar",
           "x": {
            "bdata": "AAAAAEDS4EA=",
            "dtype": "f8"
           },
           "xaxis": "x",
           "y": [
            "Portugal"
           ],
           "yaxis": "y"
          },
          {
           "hovertemplate": "Land=%{y}<br>year=1990<br>Produzierte Menge (nach Einheit)=%{x}<extra></extra>",
           "legendgroup": "Spain",
           "marker": {
            "color": "#FFA15A",
            "pattern": {
             "shape": ""
            }
           },
           "name": "Spain",
           "orientation": "h",
           "showlegend": true,
           "textposition": "auto",
           "type": "bar",
           "x": {
            "bdata": "AAAAAGDX40A=",
            "dtype": "f8"
           },
           "xaxis": "x",
           "y": [
            "Spain"
           ],
           "yaxis": "y"
          },
          {
           "hovertemplate": "Land=%{y}<br>year=1990<br>Produzierte Menge (nach Einheit)=%{x}<extra></extra>",
           "legendgroup": "Sweden",
           "marker": {
            "color": "#19d3f3",
            "pattern": {
             "shape": ""
            }
           },
           "name": "Sweden",
           "orientation": "h",
           "showlegend": true,
           "textposition": "auto",
           "type": "bar",
           "x": {
            "bdata": "AAAAAICe1EA=",
            "dtype": "f8"
           },
           "xaxis": "x",
           "y": [
            "Sweden"
           ],
           "yaxis": "y"
          },
          {
           "hovertemplate": "Land=%{y}<br>year=1990<br>Produzierte Menge (nach Einheit)=%{x}<extra></extra>",
           "legendgroup": "Switzerland",
           "marker": {
            "color": "#FF6692",
            "pattern": {
             "shape": ""
            }
           },
           "name": "Switzerland",
           "orientation": "h",
           "showlegend": true,
           "textposition": "auto",
           "type": "bar",
           "x": {
            "bdata": "AAAAAEAz2EA=",
            "dtype": "f8"
           },
           "xaxis": "x",
           "y": [
            "Switzerland"
           ],
           "yaxis": "y"
          },
          {
           "hovertemplate": "Land=%{y}<br>year=1990<br>Produzierte Menge (nach Einheit)=%{x}<extra></extra>",
           "legendgroup": "United Kingdom",
           "marker": {
            "color": "#B6E880",
            "pattern": {
             "shape": ""
            }
           },
           "name": "United Kingdom",
           "orientation": "h",
           "showlegend": true,
           "textposition": "auto",
           "type": "bar",
           "x": {
            "bdata": "AAAAAAAWz0A=",
            "dtype": "f8"
           },
           "xaxis": "x",
           "y": [
            "United Kingdom"
           ],
           "yaxis": "y"
          }
         ],
         "name": "1990"
        },
        {
         "data": [
          {
           "hovertemplate": "Land=%{y}<br>year=1991<br>Produzierte Menge (nach Einheit)=%{x}<extra></extra>",
           "legendgroup": "Austria",
           "marker": {
            "color": "#636efa",
            "pattern": {
             "shape": ""
            }
           },
           "name": "Austria",
           "orientation": "h",
           "showlegend": true,
           "textposition": "auto",
           "type": "bar",
           "x": {
            "bdata": "AAAAAAA/vEA=",
            "dtype": "f8"
           },
           "xaxis": "x",
           "y": [
            "Austria"
           ],
           "yaxis": "y"
          },
          {
           "hovertemplate": "Land=%{y}<br>year=1991<br>Produzierte Menge (nach Einheit)=%{x}<extra></extra>",
           "legendgroup": "Belgium",
           "marker": {
            "color": "#EF553B",
            "pattern": {
             "shape": ""
            }
           },
           "name": "Belgium",
           "orientation": "h",
           "showlegend": true,
           "textposition": "auto",
           "type": "bar",
           "x": {
            "bdata": "AAAAAIB3yEA=",
            "dtype": "f8"
           },
           "xaxis": "x",
           "y": [
            "Belgium"
           ],
           "yaxis": "y"
          },
          {
           "hovertemplate": "Land=%{y}<br>year=1991<br>Produzierte Menge (nach Einheit)=%{x}<extra></extra>",
           "legendgroup": "Denmark",
           "marker": {
            "color": "#00cc96",
            "pattern": {
             "shape": ""
            }
           },
           "name": "Denmark",
           "orientation": "h",
           "showlegend": true,
           "textposition": "auto",
           "type": "bar",
           "x": {
            "bdata": "AAAAAAD23kA=",
            "dtype": "f8"
           },
           "xaxis": "x",
           "y": [
            "Denmark"
           ],
           "yaxis": "y"
          },
          {
           "hovertemplate": "Land=%{y}<br>year=1991<br>Produzierte Menge (nach Einheit)=%{x}<extra></extra>",
           "legendgroup": "Finland",
           "marker": {
            "color": "#ab63fa",
            "pattern": {
             "shape": ""
            }
           },
           "name": "Finland",
           "orientation": "h",
           "showlegend": true,
           "textposition": "auto",
           "type": "bar",
           "x": {
            "bdata": "AAAAAADdu0A=",
            "dtype": "f8"
           },
           "xaxis": "x",
           "y": [
            "Finland"
           ],
           "yaxis": "y"
          },
          {
           "hovertemplate": "Land=%{y}<br>year=1991<br>Produzierte Menge (nach Einheit)=%{x}<extra></extra>",
           "legendgroup": "France",
           "marker": {
            "color": "#FFA15A",
            "pattern": {
             "shape": ""
            }
           },
           "name": "France",
           "orientation": "h",
           "showlegend": true,
           "textposition": "auto",
           "type": "bar",
           "x": {
            "bdata": "AAAAAAAo7UA=",
            "dtype": "f8"
           },
           "xaxis": "x",
           "y": [
            "France"
           ],
           "yaxis": "y"
          },
          {
           "hovertemplate": "Land=%{y}<br>year=1991<br>Produzierte Menge (nach Einheit)=%{x}<extra></extra>",
           "legendgroup": "Greece",
           "marker": {
            "color": "#19d3f3",
            "pattern": {
             "shape": ""
            }
           },
           "name": "Greece",
           "orientation": "h",
           "showlegend": true,
           "textposition": "auto",
           "type": "bar",
           "x": {
            "bdata": "AAAAAAAgrkA=",
            "dtype": "f8"
           },
           "xaxis": "x",
           "y": [
            "Greece"
           ],
           "yaxis": "y"
          },
          {
           "hovertemplate": "Land=%{y}<br>year=1991<br>Produzierte Menge (nach Einheit)=%{x}<extra></extra>",
           "legendgroup": "Hungary",
           "marker": {
            "color": "#FF6692",
            "pattern": {
             "shape": ""
            }
           },
           "name": "Hungary",
           "orientation": "h",
           "showlegend": true,
           "textposition": "auto",
           "type": "bar",
           "x": {
            "bdata": "AAAAAABgzUA=",
            "dtype": "f8"
           },
           "xaxis": "x",
           "y": [
            "Hungary"
           ],
           "yaxis": "y"
          },
          {
           "hovertemplate": "Land=%{y}<br>year=1991<br>Produzierte Menge (nach Einheit)=%{x}<extra></extra>",
           "legendgroup": "Ireland",
           "marker": {
            "color": "#B6E880",
            "pattern": {
             "shape": ""
            }
           },
           "name": "Ireland",
           "orientation": "h",
           "showlegend": true,
           "textposition": "auto",
           "type": "bar",
           "x": {
            "bdata": "AAAAAADAXUA=",
            "dtype": "f8"
           },
           "xaxis": "x",
           "y": [
            "Ireland"
           ],
           "yaxis": "y"
          },
          {
           "hovertemplate": "Land=%{y}<br>year=1991<br>Produzierte Menge (nach Einheit)=%{x}<extra></extra>",
           "legendgroup": "Italy",
           "marker": {
            "color": "#FF97FF",
            "pattern": {
             "shape": ""
            }
           },
           "name": "Italy",
           "orientation": "h",
           "showlegend": true,
           "textposition": "auto",
           "type": "bar",
           "x": {
            "bdata": "AAAAAADV4EA=",
            "dtype": "f8"
           },
           "xaxis": "x",
           "y": [
            "Italy"
           ],
           "yaxis": "y"
          },
          {
           "hovertemplate": "Land=%{y}<br>year=1991<br>Produzierte Menge (nach Einheit)=%{x}<extra></extra>",
           "legendgroup": "Luxembourg",
           "marker": {
            "color": "#FECB52",
            "pattern": {
             "shape": ""
            }
           },
           "name": "Luxembourg",
           "orientation": "h",
           "showlegend": true,
           "textposition": "auto",
           "type": "bar",
           "x": {
            "bdata": "AAAAAAB4jkA=",
            "dtype": "f8"
           },
           "xaxis": "x",
           "y": [
            "Luxembourg"
           ],
           "yaxis": "y"
          },
          {
           "hovertemplate": "Land=%{y}<br>year=1991<br>Produzierte Menge (nach Einheit)=%{x}<extra></extra>",
           "legendgroup": "Netherlands",
           "marker": {
            "color": "#636efa",
            "pattern": {
             "shape": ""
            }
           },
           "name": "Netherlands",
           "orientation": "h",
           "showlegend": true,
           "textposition": "auto",
           "type": "bar",
           "x": {
            "bdata": "AAAAAIBT2UA=",
            "dtype": "f8"
           },
           "xaxis": "x",
           "y": [
            "Netherlands"
           ],
           "yaxis": "y"
          },
          {
           "hovertemplate": "Land=%{y}<br>year=1991<br>Produzierte Menge (nach Einheit)=%{x}<extra></extra>",
           "legendgroup": "Norway",
           "marker": {
            "color": "#EF553B",
            "pattern": {
             "shape": ""
            }
           },
           "name": "Norway",
           "orientation": "h",
           "showlegend": true,
           "textposition": "auto",
           "type": "bar",
           "x": {
            "bdata": "AAAAAACGs0A=",
            "dtype": "f8"
           },
           "xaxis": "x",
           "y": [
            "Norway"
           ],
           "yaxis": "y"
          },
          {
           "hovertemplate": "Land=%{y}<br>year=1991<br>Produzierte Menge (nach Einheit)=%{x}<extra></extra>",
           "legendgroup": "Poland",
           "marker": {
            "color": "#00cc96",
            "pattern": {
             "shape": ""
            }
           },
           "name": "Poland",
           "orientation": "h",
           "showlegend": true,
           "textposition": "auto",
           "type": "bar",
           "x": {
            "bdata": "AAAAAAA16UA=",
            "dtype": "f8"
           },
           "xaxis": "x",
           "y": [
            "Poland"
           ],
           "yaxis": "y"
          },
          {
           "hovertemplate": "Land=%{y}<br>year=1991<br>Produzierte Menge (nach Einheit)=%{x}<extra></extra>",
           "legendgroup": "Portugal",
           "marker": {
            "color": "#ab63fa",
            "pattern": {
             "shape": ""
            }
           },
           "name": "Portugal",
           "orientation": "h",
           "showlegend": true,
           "textposition": "auto",
           "type": "bar",
           "x": {
            "bdata": "AAAAAEC83EA=",
            "dtype": "f8"
           },
           "xaxis": "x",
           "y": [
            "Portugal"
           ],
           "yaxis": "y"
          },
          {
           "hovertemplate": "Land=%{y}<br>year=1991<br>Produzierte Menge (nach Einheit)=%{x}<extra></extra>",
           "legendgroup": "Spain",
           "marker": {
            "color": "#FFA15A",
            "pattern": {
             "shape": ""
            }
           },
           "name": "Spain",
           "orientation": "h",
           "showlegend": true,
           "textposition": "auto",
           "type": "bar",
           "x": {
            "bdata": "AAAAAKB85EA=",
            "dtype": "f8"
           },
           "xaxis": "x",
           "y": [
            "Spain"
           ],
           "yaxis": "y"
          },
          {
           "hovertemplate": "Land=%{y}<br>year=1991<br>Produzierte Menge (nach Einheit)=%{x}<extra></extra>",
           "legendgroup": "Sweden",
           "marker": {
            "color": "#19d3f3",
            "pattern": {
             "shape": ""
            }
           },
           "name": "Sweden",
           "orientation": "h",
           "showlegend": true,
           "textposition": "auto",
           "type": "bar",
           "x": {
            "bdata": "AAAAAICbzEA=",
            "dtype": "f8"
           },
           "xaxis": "x",
           "y": [
            "Sweden"
           ],
           "yaxis": "y"
          },
          {
           "hovertemplate": "Land=%{y}<br>year=1991<br>Produzierte Menge (nach Einheit)=%{x}<extra></extra>",
           "legendgroup": "Switzerland",
           "marker": {
            "color": "#FF6692",
            "pattern": {
             "shape": ""
            }
           },
           "name": "Switzerland",
           "orientation": "h",
           "showlegend": true,
           "textposition": "auto",
           "type": "bar",
           "x": {
            "bdata": "AAAAAIDT2EA=",
            "dtype": "f8"
           },
           "xaxis": "x",
           "y": [
            "Switzerland"
           ],
           "yaxis": "y"
          },
          {
           "hovertemplate": "Land=%{y}<br>year=1991<br>Produzierte Menge (nach Einheit)=%{x}<extra></extra>",
           "legendgroup": "United Kingdom",
           "marker": {
            "color": "#B6E880",
            "pattern": {
             "shape": ""
            }
           },
           "name": "United Kingdom",
           "orientation": "h",
           "showlegend": true,
           "textposition": "auto",
           "type": "bar",
           "x": {
            "bdata": "AAAAAAAP0UA=",
            "dtype": "f8"
           },
           "xaxis": "x",
           "y": [
            "United Kingdom"
           ],
           "yaxis": "y"
          },
          {
           "hovertemplate": "Land=%{y}<br>year=1991<br>Produzierte Menge (nach Einheit)=%{x}<extra></extra>",
           "legendgroup": "Germany",
           "marker": {
            "color": "#FF97FF",
            "pattern": {
             "shape": ""
            }
           },
           "name": "Germany",
           "orientation": "h",
           "showlegend": true,
           "textposition": "auto",
           "type": "bar",
           "x": {
            "bdata": "AAAAAIBV7EA=",
            "dtype": "f8"
           },
           "xaxis": "x",
           "y": [
            "Germany"
           ],
           "yaxis": "y"
          }
         ],
         "name": "1991"
        },
        {
         "data": [
          {
           "hovertemplate": "Land=%{y}<br>year=1992<br>Produzierte Menge (nach Einheit)=%{x}<extra></extra>",
           "legendgroup": "Austria",
           "marker": {
            "color": "#636efa",
            "pattern": {
             "shape": ""
            }
           },
           "name": "Austria",
           "orientation": "h",
           "showlegend": true,
           "textposition": "auto",
           "type": "bar",
           "x": {
            "bdata": "AAAAAADsv0A=",
            "dtype": "f8"
           },
           "xaxis": "x",
           "y": [
            "Austria"
           ],
           "yaxis": "y"
          },
          {
           "hovertemplate": "Land=%{y}<br>year=1992<br>Produzierte Menge (nach Einheit)=%{x}<extra></extra>",
           "legendgroup": "Belgium",
           "marker": {
            "color": "#EF553B",
            "pattern": {
             "shape": ""
            }
           },
           "name": "Belgium",
           "orientation": "h",
           "showlegend": true,
           "textposition": "auto",
           "type": "bar",
           "x": {
            "bdata": "AAAAAIDWyEA=",
            "dtype": "f8"
           },
           "xaxis": "x",
           "y": [
            "Belgium"
           ],
           "yaxis": "y"
          },
          {
           "hovertemplate": "Land=%{y}<br>year=1992<br>Produzierte Menge (nach Einheit)=%{x}<extra></extra>",
           "legendgroup": "Denmark",
           "marker": {
            "color": "#00cc96",
            "pattern": {
             "shape": ""
            }
           },
           "name": "Denmark",
           "orientation": "h",
           "showlegend": true,
           "textposition": "auto",
           "type": "bar",
           "x": {
            "bdata": "AAAAAABF4EA=",
            "dtype": "f8"
           },
           "xaxis": "x",
           "y": [
            "Denmark"
           ],
           "yaxis": "y"
          },
          {
           "hovertemplate": "Land=%{y}<br>year=1992<br>Produzierte Menge (nach Einheit)=%{x}<extra></extra>",
           "legendgroup": "Finland",
           "marker": {
            "color": "#ab63fa",
            "pattern": {
             "shape": ""
            }
           },
           "name": "Finland",
           "orientation": "h",
           "showlegend": true,
           "textposition": "auto",
           "type": "bar",
           "x": {
            "bdata": "AAAAAAB5t0A=",
            "dtype": "f8"
           },
           "xaxis": "x",
           "y": [
            "Finland"
           ],
           "yaxis": "y"
          },
          {
           "hovertemplate": "Land=%{y}<br>year=1992<br>Produzierte Menge (nach Einheit)=%{x}<extra></extra>",
           "legendgroup": "France",
           "marker": {
            "color": "#FFA15A",
            "pattern": {
             "shape": ""
            }
           },
           "name": "France",
           "orientation": "h",
           "showlegend": true,
           "textposition": "auto",
           "type": "bar",
           "x": {
            "bdata": "AAAAAAAo7UA=",
            "dtype": "f8"
           },
           "xaxis": "x",
           "y": [
            "France"
           ],
           "yaxis": "y"
          },
          {
           "hovertemplate": "Land=%{y}<br>year=1992<br>Produzierte Menge (nach Einheit)=%{x}<extra></extra>",
           "legendgroup": "Greece",
           "marker": {
            "color": "#19d3f3",
            "pattern": {
             "shape": ""
            }
           },
           "name": "Greece",
           "orientation": "h",
           "showlegend": true,
           "textposition": "auto",
           "type": "bar",
           "x": {
            "bdata": "AAAAAAAyrkA=",
            "dtype": "f8"
           },
           "xaxis": "x",
           "y": [
            "Greece"
           ],
           "yaxis": "y"
          },
          {
           "hovertemplate": "Land=%{y}<br>year=1992<br>Produzierte Menge (nach Einheit)=%{x}<extra></extra>",
           "legendgroup": "Hungary",
           "marker": {
            "color": "#FF6692",
            "pattern": {
             "shape": ""
            }
           },
           "name": "Hungary",
           "orientation": "h",
           "showlegend": true,
           "textposition": "auto",
           "type": "bar",
           "x": {
            "bdata": "AAAAAIAvzkA=",
            "dtype": "f8"
           },
           "xaxis": "x",
           "y": [
            "Hungary"
           ],
           "yaxis": "y"
          },
          {
           "hovertemplate": "Land=%{y}<br>year=1992<br>Produzierte Menge (nach Einheit)=%{x}<extra></extra>",
           "legendgroup": "Ireland",
           "marker": {
            "color": "#B6E880",
            "pattern": {
             "shape": ""
            }
           },
           "name": "Ireland",
           "orientation": "h",
           "showlegend": true,
           "textposition": "auto",
           "type": "bar",
           "x": {
            "bdata": "AAAAAABAXUA=",
            "dtype": "f8"
           },
           "xaxis": "x",
           "y": [
            "Ireland"
           ],
           "yaxis": "y"
          },
          {
           "hovertemplate": "Land=%{y}<br>year=1992<br>Produzierte Menge (nach Einheit)=%{x}<extra></extra>",
           "legendgroup": "Italy",
           "marker": {
            "color": "#FF97FF",
            "pattern": {
             "shape": ""
            }
           },
           "name": "Italy",
           "orientation": "h",
           "showlegend": true,
           "textposition": "auto",
           "type": "bar",
           "x": {
            "bdata": "AAAAAGDy40A=",
            "dtype": "f8"
           },
           "xaxis": "x",
           "y": [
            "Italy"
           ],
           "yaxis": "y"
          },
          {
           "hovertemplate": "Land=%{y}<br>year=1992<br>Produzierte Menge (nach Einheit)=%{x}<extra></extra>",
           "legendgroup": "Luxembourg",
           "marker": {
            "color": "#FECB52",
            "pattern": {
             "shape": ""
            }
           },
           "name": "Luxembourg",
           "orientation": "h",
           "showlegend": true,
           "textposition": "auto",
           "type": "bar",
           "x": {
            "bdata": "AAAAAACgj0A=",
            "dtype": "f8"
           },
           "xaxis": "x",
           "y": [
            "Luxembourg"
           ],
           "yaxis": "y"
          },
          {
           "hovertemplate": "Land=%{y}<br>year=1992<br>Produzierte Menge (nach Einheit)=%{x}<extra></extra>",
           "legendgroup": "Netherlands",
           "marker": {
            "color": "#636efa",
            "pattern": {
             "shape": ""
            }
           },
           "name": "Netherlands",
           "orientation": "h",
           "showlegend": true,
           "textposition": "auto",
           "type": "bar",
           "x": {
            "bdata": "AAAAAIDf2UA=",
            "dtype": "f8"
           },
           "xaxis": "x",
           "y": [
            "Netherlands"
           ],
           "yaxis": "y"
          },
          {
           "hovertemplate": "Land=%{y}<br>year=1992<br>Produzierte Menge (nach Einheit)=%{x}<extra></extra>",
           "legendgroup": "Norway",
           "marker": {
            "color": "#EF553B",
            "pattern": {
             "shape": ""
            }
           },
           "name": "Norway",
           "orientation": "h",
           "showlegend": true,
           "textposition": "auto",
           "type": "bar",
           "x": {
            "bdata": "AAAAAABXsUA=",
            "dtype": "f8"
           },
           "xaxis": "x",
           "y": [
            "Norway"
           ],
           "yaxis": "y"
          },
          {
           "hovertemplate": "Land=%{y}<br>year=1992<br>Produzierte Menge (nach Einheit)=%{x}<extra></extra>",
           "legendgroup": "Poland",
           "marker": {
            "color": "#00cc96",
            "pattern": {
             "shape": ""
            }
           },
           "name": "Poland",
           "orientation": "h",
           "showlegend": true,
           "textposition": "auto",
           "type": "bar",
           "x": {
            "bdata": "AAAAAKDv60A=",
            "dtype": "f8"
           },
           "xaxis": "x",
           "y": [
            "Poland"
           ],
           "yaxis": "y"
          },
          {
           "hovertemplate": "Land=%{y}<br>year=1992<br>Produzierte Menge (nach Einheit)=%{x}<extra></extra>",
           "legendgroup": "Portugal",
           "marker": {
            "color": "#ab63fa",
            "pattern": {
             "shape": ""
            }
           },
           "name": "Portugal",
           "orientation": "h",
           "showlegend": true,
           "textposition": "auto",
           "type": "bar",
           "x": {
            "bdata": "AAAAAMCN2kA=",
            "dtype": "f8"
           },
           "xaxis": "x",
           "y": [
            "Portugal"
           ],
           "yaxis": "y"
          },
          {
           "hovertemplate": "Land=%{y}<br>year=1992<br>Produzierte Menge (nach Einheit)=%{x}<extra></extra>",
           "legendgroup": "Spain",
           "marker": {
            "color": "#FFA15A",
            "pattern": {
             "shape": ""
            }
           },
           "name": "Spain",
           "orientation": "h",
           "showlegend": true,
           "textposition": "auto",
           "type": "bar",
           "x": {
            "bdata": "AAAAAECO5EA=",
            "dtype": "f8"
           },
           "xaxis": "x",
           "y": [
            "Spain"
           ],
           "yaxis": "y"
          },
          {
           "hovertemplate": "Land=%{y}<br>year=1992<br>Produzierte Menge (nach Einheit)=%{x}<extra></extra>",
           "legendgroup": "Sweden",
           "marker": {
            "color": "#19d3f3",
            "pattern": {
             "shape": ""
            }
           },
           "name": "Sweden",
           "orientation": "h",
           "showlegend": true,
           "textposition": "auto",
           "type": "bar",
           "x": {
            "bdata": "AAAAAAAm0kA=",
            "dtype": "f8"
           },
           "xaxis": "x",
           "y": [
            "Sweden"
           ],
           "yaxis": "y"
          },
          {
           "hovertemplate": "Land=%{y}<br>year=1992<br>Produzierte Menge (nach Einheit)=%{x}<extra></extra>",
           "legendgroup": "Switzerland",
           "marker": {
            "color": "#FF6692",
            "pattern": {
             "shape": ""
            }
           },
           "name": "Switzerland",
           "orientation": "h",
           "showlegend": true,
           "textposition": "auto",
           "type": "bar",
           "x": {
            "bdata": "AAAAAICG2EA=",
            "dtype": "f8"
           },
           "xaxis": "x",
           "y": [
            "Switzerland"
           ],
           "yaxis": "y"
          },
          {
           "hovertemplate": "Land=%{y}<br>year=1992<br>Produzierte Menge (nach Einheit)=%{x}<extra></extra>",
           "legendgroup": "United Kingdom",
           "marker": {
            "color": "#B6E880",
            "pattern": {
             "shape": ""
            }
           },
           "name": "United Kingdom",
           "orientation": "h",
           "showlegend": true,
           "textposition": "auto",
           "type": "bar",
           "x": {
            "bdata": "AAAAAAAU1EA=",
            "dtype": "f8"
           },
           "xaxis": "x",
           "y": [
            "United Kingdom"
           ],
           "yaxis": "y"
          },
          {
           "hovertemplate": "Land=%{y}<br>year=1992<br>Produzierte Menge (nach Einheit)=%{x}<extra></extra>",
           "legendgroup": "Germany",
           "marker": {
            "color": "#FF97FF",
            "pattern": {
             "shape": ""
            }
           },
           "name": "Germany",
           "orientation": "h",
           "showlegend": true,
           "textposition": "auto",
           "type": "bar",
           "x": {
            "bdata": "AAAAAKB57EA=",
            "dtype": "f8"
           },
           "xaxis": "x",
           "y": [
            "Germany"
           ],
           "yaxis": "y"
          },
          {
           "hovertemplate": "Land=%{y}<br>year=1992<br>Produzierte Menge (nach Einheit)=%{x}<extra></extra>",
           "legendgroup": "Belarus",
           "marker": {
            "color": "#FECB52",
            "pattern": {
             "shape": ""
            }
           },
           "name": "Belarus",
           "orientation": "h",
           "showlegend": true,
           "textposition": "auto",
           "type": "bar",
           "x": {
            "bdata": "AAAAAAAAAAA=",
            "dtype": "f8"
           },
           "xaxis": "x",
           "y": [
            "Belarus"
           ],
           "yaxis": "y"
          },
          {
           "hovertemplate": "Land=%{y}<br>year=1992<br>Produzierte Menge (nach Einheit)=%{x}<extra></extra>",
           "legendgroup": "Croatia",
           "marker": {
            "color": "#636efa",
            "pattern": {
             "shape": ""
            }
           },
           "name": "Croatia",
           "orientation": "h",
           "showlegend": true,
           "textposition": "auto",
           "type": "bar",
           "x": {
            "bdata": "AAAAAAAAAAA=",
            "dtype": "f8"
           },
           "xaxis": "x",
           "y": [
            "Croatia"
           ],
           "yaxis": "y"
          },
          {
           "hovertemplate": "Land=%{y}<br>year=1992<br>Produzierte Menge (nach Einheit)=%{x}<extra></extra>",
           "legendgroup": "Czech Republic",
           "marker": {
            "color": "#EF553B",
            "pattern": {
             "shape": ""
            }
           },
           "name": "Czech Republic",
           "orientation": "h",
           "showlegend": true,
           "textposition": "auto",
           "type": "bar",
           "x": {
            "bdata": "AAAAAAAACEA=",
            "dtype": "f8"
           },
           "xaxis": "x",
           "y": [
            "Czech Republic"
           ],
           "yaxis": "y"
          },
          {
           "hovertemplate": "Land=%{y}<br>year=1992<br>Produzierte Menge (nach Einheit)=%{x}<extra></extra>",
           "legendgroup": "Estonia",
           "marker": {
            "color": "#00cc96",
            "pattern": {
             "shape": ""
            }
           },
           "name": "Estonia",
           "orientation": "h",
           "showlegend": true,
           "textposition": "auto",
           "type": "bar",
           "x": {
            "bdata": "AAAAAADckUA=",
            "dtype": "f8"
           },
           "xaxis": "x",
           "y": [
            "Estonia"
           ],
           "yaxis": "y"
          },
          {
           "hovertemplate": "Land=%{y}<br>year=1992<br>Produzierte Menge (nach Einheit)=%{x}<extra></extra>",
           "legendgroup": "Latvia",
           "marker": {
            "color": "#ab63fa",
            "pattern": {
             "shape": ""
            }
           },
           "name": "Latvia",
           "orientation": "h",
           "showlegend": true,
           "textposition": "auto",
           "type": "bar",
           "x": {
            "bdata": "AAAAAAAAAAA=",
            "dtype": "f8"
           },
           "xaxis": "x",
           "y": [
            "Latvia"
           ],
           "yaxis": "y"
          },
          {
           "hovertemplate": "Land=%{y}<br>year=1992<br>Produzierte Menge (nach Einheit)=%{x}<extra></extra>",
           "legendgroup": "Lithuania",
           "marker": {
            "color": "#FFA15A",
            "pattern": {
             "shape": ""
            }
           },
           "name": "Lithuania",
           "orientation": "h",
           "showlegend": true,
           "textposition": "auto",
           "type": "bar",
           "x": {
            "bdata": "AAAAAACkskA=",
            "dtype": "f8"
           },
           "xaxis": "x",
           "y": [
            "Lithuania"
           ],
           "yaxis": "y"
          },
          {
           "hovertemplate": "Land=%{y}<br>year=1992<br>Produzierte Menge (nach Einheit)=%{x}<extra></extra>",
           "legendgroup": "Romania",
           "marker": {
            "color": "#19d3f3",
            "pattern": {
             "shape": ""
            }
           },
           "name": "Romania",
           "orientation": "h",
           "showlegend": true,
           "textposition": "auto",
           "type": "bar",
           "x": {
            "bdata": "AAAAAADiwkA=",
            "dtype": "f8"
           },
           "xaxis": "x",
           "y": [
            "Romania"
           ],
           "yaxis": "y"
          }
         ],
         "name": "1992"
        },
        {
         "data": [
          {
           "hovertemplate": "Land=%{y}<br>year=1993<br>Produzierte Menge (nach Einheit)=%{x}<extra></extra>",
           "legendgroup": "Austria",
           "marker": {
            "color": "#636efa",
            "pattern": {
             "shape": ""
            }
           },
           "name": "Austria",
           "orientation": "h",
           "showlegend": true,
           "textposition": "auto",
           "type": "bar",
           "x": {
            "bdata": "AAAAAIDmx0A=",
            "dtype": "f8"
           },
           "xaxis": "x",
           "y": [
            "Austria"
           ],
           "yaxis": "y"
          },
          {
           "hovertemplate": "Land=%{y}<br>year=1993<br>Produzierte Menge (nach Einheit)=%{x}<extra></extra>",
           "legendgroup": "Belgium",
           "marker": {
            "color": "#EF553B",
            "pattern": {
             "shape": ""
            }
           },
           "name": "Belgium",
           "orientation": "h",
           "showlegend": true,
           "textposition": "auto",
           "type": "bar",
           "x": {
            "bdata": "AAAAAID9yUA=",
            "dtype": "f8"
           },
           "xaxis": "x",
           "y": [
            "Belgium"
           ],
           "yaxis": "y"
          },
          {
           "hovertemplate": "Land=%{y}<br>year=1993<br>Produzierte Menge (nach Einheit)=%{x}<extra></extra>",
           "legendgroup": "Denmark",
           "marker": {
            "color": "#00cc96",
            "pattern": {
             "shape": ""
            }
           },
           "name": "Denmark",
           "orientation": "h",
           "showlegend": true,
           "textposition": "auto",
           "type": "bar",
           "x": {
            "bdata": "AAAAAIDr4EA=",
            "dtype": "f8"
           },
           "xaxis": "x",
           "y": [
            "Denmark"
           ],
           "yaxis": "y"
          },
          {
           "hovertemplate": "Land=%{y}<br>year=1993<br>Produzierte Menge (nach Einheit)=%{x}<extra></extra>",
           "legendgroup": "Finland",
           "marker": {
            "color": "#ab63fa",
            "pattern": {
             "shape": ""
            }
           },
           "name": "Finland",
           "orientation": "h",
           "showlegend": true,
           "textposition": "auto",
           "type": "bar",
           "x": {
            "bdata": "AAAAAAAVvEA=",
            "dtype": "f8"
           },
           "xaxis": "x",
           "y": [
            "Finland"
           ],
           "yaxis": "y"
          },
          {
           "hovertemplate": "Land=%{y}<br>year=1993<br>Produzierte Menge (nach Einheit)=%{x}<extra></extra>",
           "legendgroup": "France",
           "marker": {
            "color": "#FFA15A",
            "pattern": {
             "shape": ""
            }
           },
           "name": "France",
           "orientation": "h",
           "showlegend": true,
           "textposition": "auto",
           "type": "bar",
           "x": {
            "bdata": "AAAAAABk7UA=",
            "dtype": "f8"
           },
           "xaxis": "x",
           "y": [
            "France"
           ],
           "yaxis": "y"
          },
          {
           "hovertemplate": "Land=%{y}<br>year=1993<br>Produzierte Menge (nach Einheit)=%{x}<extra></extra>",
           "legendgroup": "Greece",
           "marker": {
            "color": "#19d3f3",
            "pattern": {
             "shape": ""
            }
           },
           "name": "Greece",
           "orientation": "h",
           "showlegend": true,
           "textposition": "auto",
           "type": "bar",
           "x": {
            "bdata": "AAAAAAA2rkA=",
            "dtype": "f8"
           },
           "xaxis": "x",
           "y": [
            "Greece"
           ],
           "yaxis": "y"
          },
          {
           "hovertemplate": "Land=%{y}<br>year=1993<br>Produzierte Menge (nach Einheit)=%{x}<extra></extra>",
           "legendgroup": "Hungary",
           "marker": {
            "color": "#FF6692",
            "pattern": {
             "shape": ""
            }
           },
           "name": "Hungary",
           "orientation": "h",
           "showlegend": true,
           "textposition": "auto",
           "type": "bar",
           "x": {
            "bdata": "AAAAAIA2z0A=",
            "dtype": "f8"
           },
           "xaxis": "x",
           "y": [
            "Hungary"
           ],
           "yaxis": "y"
          },
          {
           "hovertemplate": "Land=%{y}<br>year=1993<br>Produzierte Menge (nach Einheit)=%{x}<extra></extra>",
           "legendgroup": "Ireland",
           "marker": {
            "color": "#B6E880",
            "pattern": {
             "shape": ""
            }
           },
           "name": "Ireland",
           "orientation": "h",
           "showlegend": true,
           "textposition": "auto",
           "type": "bar",
           "x": {
            "bdata": "AAAAAAAAY0A=",
            "dtype": "f8"
           },
           "xaxis": "x",
           "y": [
            "Ireland"
           ],
           "yaxis": "y"
          },
          {
           "hovertemplate": "Land=%{y}<br>year=1993<br>Produzierte Menge (nach Einheit)=%{x}<extra></extra>",
           "legendgroup": "Italy",
           "marker": {
            "color": "#FF97FF",
            "pattern": {
             "shape": ""
            }
           },
           "name": "Italy",
           "orientation": "h",
           "showlegend": true,
           "textposition": "auto",
           "type": "bar",
           "x": {
            "bdata": "AAAAACDX4kA=",
            "dtype": "f8"
           },
           "xaxis": "x",
           "y": [
            "Italy"
           ],
           "yaxis": "y"
          },
          {
           "hovertemplate": "Land=%{y}<br>year=1993<br>Produzierte Menge (nach Einheit)=%{x}<extra></extra>",
           "legendgroup": "Luxembourg",
           "marker": {
            "color": "#FECB52",
            "pattern": {
             "shape": ""
            }
           },
           "name": "Luxembourg",
           "orientation": "h",
           "showlegend": true,
           "textposition": "auto",
           "type": "bar",
           "x": {
            "bdata": "AAAAAAAgjkA=",
            "dtype": "f8"
           },
           "xaxis": "x",
           "y": [
            "Luxembourg"
           ],
           "yaxis": "y"
          },
          {
           "hovertemplate": "Land=%{y}<br>year=1993<br>Produzierte Menge (nach Einheit)=%{x}<extra></extra>",
           "legendgroup": "Netherlands",
           "marker": {
            "color": "#636efa",
            "pattern": {
             "shape": ""
            }
           },
           "name": "Netherlands",
           "orientation": "h",
           "showlegend": true,
           "textposition": "auto",
           "type": "bar",
           "x": {
            "bdata": "AAAAAMCi3UA=",
            "dtype": "f8"
           },
           "xaxis": "x",
           "y": [
            "Netherlands"
           ],
           "yaxis": "y"
          },
          {
           "hovertemplate": "Land=%{y}<br>year=1993<br>Produzierte Menge (nach Einheit)=%{x}<extra></extra>",
           "legendgroup": "Norway",
           "marker": {
            "color": "#EF553B",
            "pattern": {
             "shape": ""
            }
           },
           "name": "Norway",
           "orientation": "h",
           "showlegend": true,
           "textposition": "auto",
           "type": "bar",
           "x": {
            "bdata": "AAAAAAAvs0A=",
            "dtype": "f8"
           },
           "xaxis": "x",
           "y": [
            "Norway"
           ],
           "yaxis": "y"
          },
          {
           "hovertemplate": "Land=%{y}<br>year=1993<br>Produzierte Menge (nach Einheit)=%{x}<extra></extra>",
           "legendgroup": "Poland",
           "marker": {
            "color": "#00cc96",
            "pattern": {
             "shape": ""
            }
           },
           "name": "Poland",
           "orientation": "h",
           "showlegend": true,
           "textposition": "auto",
           "type": "bar",
           "x": {
            "bdata": "AAAAAMCC1UA=",
            "dtype": "f8"
           },
           "xaxis": "x",
           "y": [
            "Poland"
           ],
           "yaxis": "y"
          },
          {
           "hovertemplate": "Land=%{y}<br>year=1993<br>Produzierte Menge (nach Einheit)=%{x}<extra></extra>",
           "legendgroup": "Portugal",
           "marker": {
            "color": "#ab63fa",
            "pattern": {
             "shape": ""
            }
           },
           "name": "Portugal",
           "orientation": "h",
           "showlegend": true,
           "textposition": "auto",
           "type": "bar",
           "x": {
            "bdata": "AAAAAACZ20A=",
            "dtype": "f8"
           },
           "xaxis": "x",
           "y": [
            "Portugal"
           ],
           "yaxis": "y"
          },
          {
           "hovertemplate": "Land=%{y}<br>year=1993<br>Produzierte Menge (nach Einheit)=%{x}<extra></extra>",
           "legendgroup": "Spain",
           "marker": {
            "color": "#FFA15A",
            "pattern": {
             "shape": ""
            }
           },
           "name": "Spain",
           "orientation": "h",
           "showlegend": true,
           "textposition": "auto",
           "type": "bar",
           "x": {
            "bdata": "AAAAAACP5EA=",
            "dtype": "f8"
           },
           "xaxis": "x",
           "y": [
            "Spain"
           ],
           "yaxis": "y"
          },
          {
           "hovertemplate": "Land=%{y}<br>year=1993<br>Produzierte Menge (nach Einheit)=%{x}<extra></extra>",
           "legendgroup": "Sweden",
           "marker": {
            "color": "#19d3f3",
            "pattern": {
             "shape": ""
            }
           },
           "name": "Sweden",
           "orientation": "h",
           "showlegend": true,
           "textposition": "auto",
           "type": "bar",
           "x": {
            "bdata": "AAAAAAAm00A=",
            "dtype": "f8"
           },
           "xaxis": "x",
           "y": [
            "Sweden"
           ],
           "yaxis": "y"
          },
          {
           "hovertemplate": "Land=%{y}<br>year=1993<br>Produzierte Menge (nach Einheit)=%{x}<extra></extra>",
           "legendgroup": "Switzerland",
           "marker": {
            "color": "#FF6692",
            "pattern": {
             "shape": ""
            }
           },
           "name": "Switzerland",
           "orientation": "h",
           "showlegend": true,
           "textposition": "auto",
           "type": "bar",
           "x": {
            "bdata": "AAAAAEAn2UA=",
            "dtype": "f8"
           },
           "xaxis": "x",
           "y": [
            "Switzerland"
           ],
           "yaxis": "y"
          },
          {
           "hovertemplate": "Land=%{y}<br>year=1993<br>Produzierte Menge (nach Einheit)=%{x}<extra></extra>",
           "legendgroup": "United Kingdom",
           "marker": {
            "color": "#B6E880",
            "pattern": {
             "shape": ""
            }
           },
           "name": "United Kingdom",
           "orientation": "h",
           "showlegend": true,
           "textposition": "auto",
           "type": "bar",
           "x": {
            "bdata": "AAAAAIBq10A=",
            "dtype": "f8"
           },
           "xaxis": "x",
           "y": [
            "United Kingdom"
           ],
           "yaxis": "y"
          },
          {
           "hovertemplate": "Land=%{y}<br>year=1993<br>Produzierte Menge (nach Einheit)=%{x}<extra></extra>",
           "legendgroup": "Germany",
           "marker": {
            "color": "#FF97FF",
            "pattern": {
             "shape": ""
            }
           },
           "name": "Germany",
           "orientation": "h",
           "showlegend": true,
           "textposition": "auto",
           "type": "bar",
           "x": {
            "bdata": "AAAAAIDE7EA=",
            "dtype": "f8"
           },
           "xaxis": "x",
           "y": [
            "Germany"
           ],
           "yaxis": "y"
          },
          {
           "hovertemplate": "Land=%{y}<br>year=1993<br>Produzierte Menge (nach Einheit)=%{x}<extra></extra>",
           "legendgroup": "Belarus",
           "marker": {
            "color": "#FECB52",
            "pattern": {
             "shape": ""
            }
           },
           "name": "Belarus",
           "orientation": "h",
           "showlegend": true,
           "textposition": "auto",
           "type": "bar",
           "x": {
            "bdata": "AAAAAAAAAAA=",
            "dtype": "f8"
           },
           "xaxis": "x",
           "y": [
            "Belarus"
           ],
           "yaxis": "y"
          },
          {
           "hovertemplate": "Land=%{y}<br>year=1993<br>Produzierte Menge (nach Einheit)=%{x}<extra></extra>",
           "legendgroup": "Croatia",
           "marker": {
            "color": "#636efa",
            "pattern": {
             "shape": ""
            }
           },
           "name": "Croatia",
           "orientation": "h",
           "showlegend": true,
           "textposition": "auto",
           "type": "bar",
           "x": {
            "bdata": "AAAAAAAAAAA=",
            "dtype": "f8"
           },
           "xaxis": "x",
           "y": [
            "Croatia"
           ],
           "yaxis": "y"
          },
          {
           "hovertemplate": "Land=%{y}<br>year=1993<br>Produzierte Menge (nach Einheit)=%{x}<extra></extra>",
           "legendgroup": "Czech Republic",
           "marker": {
            "color": "#EF553B",
            "pattern": {
             "shape": ""
            }
           },
           "name": "Czech Republic",
           "orientation": "h",
           "showlegend": true,
           "textposition": "auto",
           "type": "bar",
           "x": {
            "bdata": "AAAAAABMnUA=",
            "dtype": "f8"
           },
           "xaxis": "x",
           "y": [
            "Czech Republic"
           ],
           "yaxis": "y"
          },
          {
           "hovertemplate": "Land=%{y}<br>year=1993<br>Produzierte Menge (nach Einheit)=%{x}<extra></extra>",
           "legendgroup": "Latvia",
           "marker": {
            "color": "#ab63fa",
            "pattern": {
             "shape": ""
            }
           },
           "name": "Latvia",
           "orientation": "h",
           "showlegend": true,
           "textposition": "auto",
           "type": "bar",
           "x": {
            "bdata": "AAAAAAAAjkA=",
            "dtype": "f8"
           },
           "xaxis": "x",
           "y": [
            "Latvia"
           ],
           "yaxis": "y"
          },
          {
           "hovertemplate": "Land=%{y}<br>year=1993<br>Produzierte Menge (nach Einheit)=%{x}<extra></extra>",
           "legendgroup": "Lithuania",
           "marker": {
            "color": "#FFA15A",
            "pattern": {
             "shape": ""
            }
           },
           "name": "Lithuania",
           "orientation": "h",
           "showlegend": true,
           "textposition": "auto",
           "type": "bar",
           "x": {
            "bdata": "AAAAAAAPvEA=",
            "dtype": "f8"
           },
           "xaxis": "x",
           "y": [
            "Lithuania"
           ],
           "yaxis": "y"
          },
          {
           "hovertemplate": "Land=%{y}<br>year=1993<br>Produzierte Menge (nach Einheit)=%{x}<extra></extra>",
           "legendgroup": "Romania",
           "marker": {
            "color": "#19d3f3",
            "pattern": {
             "shape": ""
            }
           },
           "name": "Romania",
           "orientation": "h",
           "showlegend": true,
           "textposition": "auto",
           "type": "bar",
           "x": {
            "bdata": "AAAAAAAAAAA=",
            "dtype": "f8"
           },
           "xaxis": "x",
           "y": [
            "Romania"
           ],
           "yaxis": "y"
          },
          {
           "hovertemplate": "Land=%{y}<br>year=1993<br>Produzierte Menge (nach Einheit)=%{x}<extra></extra>",
           "legendgroup": "Iceland",
           "marker": {
            "color": "#FF6692",
            "pattern": {
             "shape": ""
            }
           },
           "name": "Iceland",
           "orientation": "h",
           "showlegend": true,
           "textposition": "auto",
           "type": "bar",
           "x": {
            "bdata": "AAAAAACARkA=",
            "dtype": "f8"
           },
           "xaxis": "x",
           "y": [
            "Iceland"
           ],
           "yaxis": "y"
          }
         ],
         "name": "1993"
        },
        {
         "data": [
          {
           "hovertemplate": "Land=%{y}<br>year=1994<br>Produzierte Menge (nach Einheit)=%{x}<extra></extra>",
           "legendgroup": "Austria",
           "marker": {
            "color": "#636efa",
            "pattern": {
             "shape": ""
            }
           },
           "name": "Austria",
           "orientation": "h",
           "showlegend": true,
           "textposition": "auto",
           "type": "bar",
           "x": {
            "bdata": "AAAAAADCyUA=",
            "dtype": "f8"
           },
           "xaxis": "x",
           "y": [
            "Austria"
           ],
           "yaxis": "y"
          },
          {
           "hovertemplate": "Land=%{y}<br>year=1994<br>Produzierte Menge (nach Einheit)=%{x}<extra></extra>",
           "legendgroup": "Belgium",
           "marker": {
            "color": "#EF553B",
            "pattern": {
             "shape": ""
            }
           },
           "name": "Belgium",
           "orientation": "h",
           "showlegend": true,
           "textposition": "auto",
           "type": "bar",
           "x": {
            "bdata": "AAAAAAAqyUA=",
            "dtype": "f8"
           },
           "xaxis": "x",
           "y": [
            "Belgium"
           ],
           "yaxis": "y"
          },
          {
           "hovertemplate": "Land=%{y}<br>year=1994<br>Produzierte Menge (nach Einheit)=%{x}<extra></extra>",
           "legendgroup": "Denmark",
           "marker": {
            "color": "#00cc96",
            "pattern": {
             "shape": ""
            }
           },
           "name": "Denmark",
           "orientation": "h",
           "showlegend": true,
           "textposition": "auto",
           "type": "bar",
           "x": {
            "bdata": "AAAAAODX4EA=",
            "dtype": "f8"
           },
           "xaxis": "x",
           "y": [
            "Denmark"
           ],
           "yaxis": "y"
          },
          {
           "hovertemplate": "Land=%{y}<br>year=1994<br>Produzierte Menge (nach Einheit)=%{x}<extra></extra>",
           "legendgroup": "Finland",
           "marker": {
            "color": "#ab63fa",
            "pattern": {
             "shape": ""
            }
           },
           "name": "Finland",
           "orientation": "h",
           "showlegend": true,
           "textposition": "auto",
           "type": "bar",
           "x": {
            "bdata": "AAAAAADsu0A=",
            "dtype": "f8"
           },
           "xaxis": "x",
           "y": [
            "Finland"
           ],
           "yaxis": "y"
          },
          {
           "hovertemplate": "Land=%{y}<br>year=1994<br>Produzierte Menge (nach Einheit)=%{x}<extra></extra>",
           "legendgroup": "France",
           "marker": {
            "color": "#FFA15A",
            "pattern": {
             "shape": ""
            }
           },
           "name": "France",
           "orientation": "h",
           "showlegend": true,
           "textposition": "auto",
           "type": "bar",
           "x": {
            "bdata": "AAAAAOCV7UA=",
            "dtype": "f8"
           },
           "xaxis": "x",
           "y": [
            "France"
           ],
           "yaxis": "y"
          },
          {
           "hovertemplate": "Land=%{y}<br>year=1994<br>Produzierte Menge (nach Einheit)=%{x}<extra></extra>",
           "legendgroup": "Greece",
           "marker": {
            "color": "#19d3f3",
            "pattern": {
             "shape": ""
            }
           },
           "name": "Greece",
           "orientation": "h",
           "showlegend": true,
           "textposition": "auto",
           "type": "bar",
           "x": {
            "bdata": "AAAAAAA6rkA=",
            "dtype": "f8"
           },
           "xaxis": "x",
           "y": [
            "Greece"
           ],
           "yaxis": "y"
          },
          {
           "hovertemplate": "Land=%{y}<br>year=1994<br>Produzierte Menge (nach Einheit)=%{x}<extra></extra>",
           "legendgroup": "Hungary",
           "marker": {
            "color": "#FF6692",
            "pattern": {
             "shape": ""
            }
           },
           "name": "Hungary",
           "orientation": "h",
           "showlegend": true,
           "textposition": "auto",
           "type": "bar",
           "x": {
            "bdata": "AAAAAIAV0EA=",
            "dtype": "f8"
           },
           "xaxis": "x",
           "y": [
            "Hungary"
           ],
           "yaxis": "y"
          },
          {
           "hovertemplate": "Land=%{y}<br>year=1994<br>Produzierte Menge (nach Einheit)=%{x}<extra></extra>",
           "legendgroup": "Ireland",
           "marker": {
            "color": "#B6E880",
            "pattern": {
             "shape": ""
            }
           },
           "name": "Ireland",
           "orientation": "h",
           "showlegend": true,
           "textposition": "auto",
           "type": "bar",
           "x": {
            "bdata": "AAAAAAAAWkA=",
            "dtype": "f8"
           },
           "xaxis": "x",
           "y": [
            "Ireland"
           ],
           "yaxis": "y"
          },
          {
           "hovertemplate": "Land=%{y}<br>year=1994<br>Produzierte Menge (nach Einheit)=%{x}<extra></extra>",
           "legendgroup": "Italy",
           "marker": {
            "color": "#FF97FF",
            "pattern": {
             "shape": ""
            }
           },
           "name": "Italy",
           "orientation": "h",
           "showlegend": true,
           "textposition": "auto",
           "type": "bar",
           "x": {
            "bdata": "AAAAAMAR5kA=",
            "dtype": "f8"
           },
           "xaxis": "x",
           "y": [
            "Italy"
           ],
           "yaxis": "y"
          },
          {
           "hovertemplate": "Land=%{y}<br>year=1994<br>Produzierte Menge (nach Einheit)=%{x}<extra></extra>",
           "legendgroup": "Luxembourg",
           "marker": {
            "color": "#FECB52",
            "pattern": {
             "shape": ""
            }
           },
           "name": "Luxembourg",
           "orientation": "h",
           "showlegend": true,
           "textposition": "auto",
           "type": "bar",
           "x": {
            "bdata": "AAAAAAB4jUA=",
            "dtype": "f8"
           },
           "xaxis": "x",
           "y": [
            "Luxembourg"
           ],
           "yaxis": "y"
          },
          {
           "hovertemplate": "Land=%{y}<br>year=1994<br>Produzierte Menge (nach Einheit)=%{x}<extra></extra>",
           "legendgroup": "Netherlands",
           "marker": {
            "color": "#636efa",
            "pattern": {
             "shape": ""
            }
           },
           "name": "Netherlands",
           "orientation": "h",
           "showlegend": true,
           "textposition": "auto",
           "type": "bar",
           "x": {
            "bdata": "AAAAAEBE3UA=",
            "dtype": "f8"
           },
           "xaxis": "x",
           "y": [
            "Netherlands"
           ],
           "yaxis": "y"
          },
          {
           "hovertemplate": "Land=%{y}<br>year=1994<br>Produzierte Menge (nach Einheit)=%{x}<extra></extra>",
           "legendgroup": "Norway",
           "marker": {
            "color": "#EF553B",
            "pattern": {
             "shape": ""
            }
           },
           "name": "Norway",
           "orientation": "h",
           "showlegend": true,
           "textposition": "auto",
           "type": "bar",
           "x": {
            "bdata": "AAAAAAACtEA=",
            "dtype": "f8"
           },
           "xaxis": "x",
           "y": [
            "Norway"
           ],
           "yaxis": "y"
          },
          {
           "hovertemplate": "Land=%{y}<br>year=1994<br>Produzierte Menge (nach Einheit)=%{x}<extra></extra>",
           "legendgroup": "Poland",
           "marker": {
            "color": "#00cc96",
            "pattern": {
             "shape": ""
            }
           },
           "name": "Poland",
           "orientation": "h",
           "showlegend": true,
           "textposition": "auto",
           "type": "bar",
           "x": {
            "bdata": "AAAAAECK0kA=",
            "dtype": "f8"
           },
           "xaxis": "x",
           "y": [
            "Poland"
           ],
           "yaxis": "y"
          },
          {
           "hovertemplate": "Land=%{y}<br>year=1994<br>Produzierte Menge (nach Einheit)=%{x}<extra></extra>",
           "legendgroup": "Portugal",
           "marker": {
            "color": "#ab63fa",
            "pattern": {
             "shape": ""
            }
           },
           "name": "Portugal",
           "orientation": "h",
           "showlegend": true,
           "textposition": "auto",
           "type": "bar",
           "x": {
            "bdata": "AAAAAIAn3EA=",
            "dtype": "f8"
           },
           "xaxis": "x",
           "y": [
            "Portugal"
           ],
           "yaxis": "y"
          },
          {
           "hovertemplate": "Land=%{y}<br>year=1994<br>Produzierte Menge (nach Einheit)=%{x}<extra></extra>",
           "legendgroup": "Spain",
           "marker": {
            "color": "#FFA15A",
            "pattern": {
             "shape": ""
            }
           },
           "name": "Spain",
           "orientation": "h",
           "showlegend": true,
           "textposition": "auto",
           "type": "bar",
           "x": {
            "bdata": "AAAAACBU5UA=",
            "dtype": "f8"
           },
           "xaxis": "x",
           "y": [
            "Spain"
           ],
           "yaxis": "y"
          },
          {
           "hovertemplate": "Land=%{y}<br>year=1994<br>Produzierte Menge (nach Einheit)=%{x}<extra></extra>",
           "legendgroup": "Sweden",
           "marker": {
            "color": "#19d3f3",
            "pattern": {
             "shape": ""
            }
           },
           "name": "Sweden",
           "orientation": "h",
           "showlegend": true,
           "textposition": "auto",
           "type": "bar",
           "x": {
            "bdata": "AAAAAECW0kA=",
            "dtype": "f8"
           },
           "xaxis": "x",
           "y": [
            "Sweden"
           ],
           "yaxis": "y"
          },
          {
           "hovertemplate": "Land=%{y}<br>year=1994<br>Produzierte Menge (nach Einheit)=%{x}<extra></extra>",
           "legendgroup": "Switzerland",
           "marker": {
            "color": "#FF6692",
            "pattern": {
             "shape": ""
            }
           },
           "name": "Switzerland",
           "orientation": "h",
           "showlegend": true,
           "textposition": "auto",
           "type": "bar",
           "x": {
            "bdata": "AAAAAIDW2kA=",
            "dtype": "f8"
           },
           "xaxis": "x",
           "y": [
            "Switzerland"
           ],
           "yaxis": "y"
          },
          {
           "hovertemplate": "Land=%{y}<br>year=1994<br>Produzierte Menge (nach Einheit)=%{x}<extra></extra>",
           "legendgroup": "United Kingdom",
           "marker": {
            "color": "#B6E880",
            "pattern": {
             "shape": ""
            }
           },
           "name": "United Kingdom",
           "orientation": "h",
           "showlegend": true,
           "textposition": "auto",
           "type": "bar",
           "x": {
            "bdata": "AAAAAAAm3kA=",
            "dtype": "f8"
           },
           "xaxis": "x",
           "y": [
            "United Kingdom"
           ],
           "yaxis": "y"
          },
          {
           "hovertemplate": "Land=%{y}<br>year=1994<br>Produzierte Menge (nach Einheit)=%{x}<extra></extra>",
           "legendgroup": "Germany",
           "marker": {
            "color": "#FF97FF",
            "pattern": {
             "shape": ""
            }
           },
           "name": "Germany",
           "orientation": "h",
           "showlegend": true,
           "textposition": "auto",
           "type": "bar",
           "x": {
            "bdata": "AAAAAIA37UA=",
            "dtype": "f8"
           },
           "xaxis": "x",
           "y": [
            "Germany"
           ],
           "yaxis": "y"
          },
          {
           "hovertemplate": "Land=%{y}<br>year=1994<br>Produzierte Menge (nach Einheit)=%{x}<extra></extra>",
           "legendgroup": "Belarus",
           "marker": {
            "color": "#FECB52",
            "pattern": {
             "shape": ""
            }
           },
           "name": "Belarus",
           "orientation": "h",
           "showlegend": true,
           "textposition": "auto",
           "type": "bar",
           "x": {
            "bdata": "AAAAAAAAAAA=",
            "dtype": "f8"
           },
           "xaxis": "x",
           "y": [
            "Belarus"
           ],
           "yaxis": "y"
          },
          {
           "hovertemplate": "Land=%{y}<br>year=1994<br>Produzierte Menge (nach Einheit)=%{x}<extra></extra>",
           "legendgroup": "Croatia",
           "marker": {
            "color": "#636efa",
            "pattern": {
             "shape": ""
            }
           },
           "name": "Croatia",
           "orientation": "h",
           "showlegend": true,
           "textposition": "auto",
           "type": "bar",
           "x": {
            "bdata": "AAAAAAAAAAA=",
            "dtype": "f8"
           },
           "xaxis": "x",
           "y": [
            "Croatia"
           ],
           "yaxis": "y"
          },
          {
           "hovertemplate": "Land=%{y}<br>year=1994<br>Produzierte Menge (nach Einheit)=%{x}<extra></extra>",
           "legendgroup": "Czech Republic",
           "marker": {
            "color": "#EF553B",
            "pattern": {
             "shape": ""
            }
           },
           "name": "Czech Republic",
           "orientation": "h",
           "showlegend": true,
           "textposition": "auto",
           "type": "bar",
           "x": {
            "bdata": "AAAAAAD8nkA=",
            "dtype": "f8"
           },
           "xaxis": "x",
           "y": [
            "Czech Republic"
           ],
           "yaxis": "y"
          },
          {
           "hovertemplate": "Land=%{y}<br>year=1994<br>Produzierte Menge (nach Einheit)=%{x}<extra></extra>",
           "legendgroup": "Estonia",
           "marker": {
            "color": "#00cc96",
            "pattern": {
             "shape": ""
            }
           },
           "name": "Estonia",
           "orientation": "h",
           "showlegend": true,
           "textposition": "auto",
           "type": "bar",
           "x": {
            "bdata": "AAAAAAAANEA=",
            "dtype": "f8"
           },
           "xaxis": "x",
           "y": [
            "Estonia"
           ],
           "yaxis": "y"
          },
          {
           "hovertemplate": "Land=%{y}<br>year=1994<br>Produzierte Menge (nach Einheit)=%{x}<extra></extra>",
           "legendgroup": "Latvia",
           "marker": {
            "color": "#ab63fa",
            "pattern": {
             "shape": ""
            }
           },
           "name": "Latvia",
           "orientation": "h",
           "showlegend": true,
           "textposition": "auto",
           "type": "bar",
           "x": {
            "bdata": "AAAAAAB8nkA=",
            "dtype": "f8"
           },
           "xaxis": "x",
           "y": [
            "Latvia"
           ],
           "yaxis": "y"
          },
          {
           "hovertemplate": "Land=%{y}<br>year=1994<br>Produzierte Menge (nach Einheit)=%{x}<extra></extra>",
           "legendgroup": "Lithuania",
           "marker": {
            "color": "#FFA15A",
            "pattern": {
             "shape": ""
            }
           },
           "name": "Lithuania",
           "orientation": "h",
           "showlegend": true,
           "textposition": "auto",
           "type": "bar",
           "x": {
            "bdata": "AAAAAACmvEA=",
            "dtype": "f8"
           },
           "xaxis": "x",
           "y": [
            "Lithuania"
           ],
           "yaxis": "y"
          },
          {
           "hovertemplate": "Land=%{y}<br>year=1994<br>Produzierte Menge (nach Einheit)=%{x}<extra></extra>",
           "legendgroup": "Romania",
           "marker": {
            "color": "#19d3f3",
            "pattern": {
             "shape": ""
            }
           },
           "name": "Romania",
           "orientation": "h",
           "showlegend": true,
           "textposition": "auto",
           "type": "bar",
           "x": {
            "bdata": "AAAAAABIwkA=",
            "dtype": "f8"
           },
           "xaxis": "x",
           "y": [
            "Romania"
           ],
           "yaxis": "y"
          },
          {
           "hovertemplate": "Land=%{y}<br>year=1994<br>Produzierte Menge (nach Einheit)=%{x}<extra></extra>",
           "legendgroup": "Iceland",
           "marker": {
            "color": "#FF6692",
            "pattern": {
             "shape": ""
            }
           },
           "name": "Iceland",
           "orientation": "h",
           "showlegend": true,
           "textposition": "auto",
           "type": "bar",
           "x": {
            "bdata": "AAAAAACARkA=",
            "dtype": "f8"
           },
           "xaxis": "x",
           "y": [
            "Iceland"
           ],
           "yaxis": "y"
          }
         ],
         "name": "1994"
        },
        {
         "data": [
          {
           "hovertemplate": "Land=%{y}<br>year=1995<br>Produzierte Menge (nach Einheit)=%{x}<extra></extra>",
           "legendgroup": "Austria",
           "marker": {
            "color": "#636efa",
            "pattern": {
             "shape": ""
            }
           },
           "name": "Austria",
           "orientation": "h",
           "showlegend": true,
           "textposition": "auto",
           "type": "bar",
           "x": {
            "bdata": "AAAAAAB1yEA=",
            "dtype": "f8"
           },
           "xaxis": "x",
           "y": [
            "Austria"
           ],
           "yaxis": "y"
          },
          {
           "hovertemplate": "Land=%{y}<br>year=1995<br>Produzierte Menge (nach Einheit)=%{x}<extra></extra>",
           "legendgroup": "Belgium",
           "marker": {
            "color": "#EF553B",
            "pattern": {
             "shape": ""
            }
           },
           "name": "Belgium",
           "orientation": "h",
           "showlegend": true,
           "textposition": "auto",
           "type": "bar",
           "x": {
            "bdata": "AAAAAIBXzkA=",
            "dtype": "f8"
           },
           "xaxis": "x",
           "y": [
            "Belgium"
           ],
           "yaxis": "y"
          },
          {
           "hovertemplate": "Land=%{y}<br>year=1995<br>Produzierte Menge (nach Einheit)=%{x}<extra></extra>",
           "legendgroup": "Denmark",
           "marker": {
            "color": "#00cc96",
            "pattern": {
             "shape": ""
            }
           },
           "name": "Denmark",
           "orientation": "h",
           "showlegend": true,
           "textposition": "auto",
           "type": "bar",
           "x": {
            "bdata": "AAAAAKCJ4kA=",
            "dtype": "f8"
           },
           "xaxis": "x",
           "y": [
            "Denmark"
           ],
           "yaxis": "y"
          },
          {
           "hovertemplate": "Land=%{y}<br>year=1995<br>Produzierte Menge (nach Einheit)=%{x}<extra></extra>",
           "legendgroup": "Finland",
           "marker": {
            "color": "#ab63fa",
            "pattern": {
             "shape": ""
            }
           },
           "name": "Finland",
           "orientation": "h",
           "showlegend": true,
           "textposition": "auto",
           "type": "bar",
           "x": {
            "bdata": "AAAAAABJu0A=",
            "dtype": "f8"
           },
           "xaxis": "x",
           "y": [
            "Finland"
           ],
           "yaxis": "y"
          },
          {
           "hovertemplate": "Land=%{y}<br>year=1995<br>Produzierte Menge (nach Einheit)=%{x}<extra></extra>",
           "legendgroup": "France",
           "marker": {
            "color": "#FFA15A",
            "pattern": {
             "shape": ""
            }
           },
           "name": "France",
           "orientation": "h",
           "showlegend": true,
           "textposition": "auto",
           "type": "bar",
           "x": {
            "bdata": "AAAAAFCr8EA=",
            "dtype": "f8"
           },
           "xaxis": "x",
           "y": [
            "France"
           ],
           "yaxis": "y"
          },
          {
           "hovertemplate": "Land=%{y}<br>year=1995<br>Produzierte Menge (nach Einheit)=%{x}<extra></extra>",
           "legendgroup": "Greece",
           "marker": {
            "color": "#19d3f3",
            "pattern": {
             "shape": ""
            }
           },
           "name": "Greece",
           "orientation": "h",
           "showlegend": true,
           "textposition": "auto",
           "type": "bar",
           "x": {
            "bdata": "AAAAAAA2rkA=",
            "dtype": "f8"
           },
           "xaxis": "x",
           "y": [
            "Greece"
           ],
           "yaxis": "y"
          },
          {
           "hovertemplate": "Land=%{y}<br>year=1995<br>Produzierte Menge (nach Einheit)=%{x}<extra></extra>",
           "legendgroup": "Hungary",
           "marker": {
            "color": "#FF6692",
            "pattern": {
             "shape": ""
            }
           },
           "name": "Hungary",
           "orientation": "h",
           "showlegend": true,
           "textposition": "auto",
           "type": "bar",
           "x": {
            "bdata": "AAAAAMBU0UA=",
            "dtype": "f8"
           },
           "xaxis": "x",
           "y": [
            "Hungary"
           ],
           "yaxis": "y"
          },
          {
           "hovertemplate": "Land=%{y}<br>year=1995<br>Produzierte Menge (nach Einheit)=%{x}<extra></extra>",
           "legendgroup": "Ireland",
           "marker": {
            "color": "#B6E880",
            "pattern": {
             "shape": ""
            }
           },
           "name": "Ireland",
           "orientation": "h",
           "showlegend": true,
           "textposition": "auto",
           "type": "bar",
           "x": {
            "bdata": "AAAAAADAXUA=",
            "dtype": "f8"
           },
           "xaxis": "x",
           "y": [
            "Ireland"
           ],
           "yaxis": "y"
          },
          {
           "hovertemplate": "Land=%{y}<br>year=1995<br>Produzierte Menge (nach Einheit)=%{x}<extra></extra>",
           "legendgroup": "Italy",
           "marker": {
            "color": "#FF97FF",
            "pattern": {
             "shape": ""
            }
           },
           "name": "Italy",
           "orientation": "h",
           "showlegend": true,
           "textposition": "auto",
           "type": "bar",
           "x": {
            "bdata": "AAAAAMDX5UA=",
            "dtype": "f8"
           },
           "xaxis": "x",
           "y": [
            "Italy"
           ],
           "yaxis": "y"
          },
          {
           "hovertemplate": "Land=%{y}<br>year=1995<br>Produzierte Menge (nach Einheit)=%{x}<extra></extra>",
           "legendgroup": "Luxembourg",
           "marker": {
            "color": "#FECB52",
            "pattern": {
             "shape": ""
            }
           },
           "name": "Luxembourg",
           "orientation": "h",
           "showlegend": true,
           "textposition": "auto",
           "type": "bar",
           "x": {
            "bdata": "AAAAAABAjEA=",
            "dtype": "f8"
           },
           "xaxis": "x",
           "y": [
            "Luxembourg"
           ],
           "yaxis": "y"
          },
          {
           "hovertemplate": "Land=%{y}<br>year=1995<br>Produzierte Menge (nach Einheit)=%{x}<extra></extra>",
           "legendgroup": "Netherlands",
           "marker": {
            "color": "#636efa",
            "pattern": {
             "shape": ""
            }
           },
           "name": "Netherlands",
           "orientation": "h",
           "showlegend": true,
           "textposition": "auto",
           "type": "bar",
           "x": {
            "bdata": "AAAAACCu4EA=",
            "dtype": "f8"
           },
           "xaxis": "x",
           "y": [
            "Netherlands"
           ],
           "yaxis": "y"
          },
          {
           "hovertemplate": "Land=%{y}<br>year=1995<br>Produzierte Menge (nach Einheit)=%{x}<extra></extra>",
           "legendgroup": "Norway",
           "marker": {
            "color": "#EF553B",
            "pattern": {
             "shape": ""
            }
           },
           "name": "Norway",
           "orientation": "h",
           "showlegend": true,
           "textposition": "auto",
           "type": "bar",
           "x": {
            "bdata": "AAAAAABatUA=",
            "dtype": "f8"
           },
           "xaxis": "x",
           "y": [
            "Norway"
           ],
           "yaxis": "y"
          },
          {
           "hovertemplate": "Land=%{y}<br>year=1995<br>Produzierte Menge (nach Einheit)=%{x}<extra></extra>",
           "legendgroup": "Poland",
           "marker": {
            "color": "#00cc96",
            "pattern": {
             "shape": ""
            }
           },
           "name": "Poland",
           "orientation": "h",
           "showlegend": true,
           "textposition": "auto",
           "type": "bar",
           "x": {
            "bdata": "AAAAAEAg1UA=",
            "dtype": "f8"
           },
           "xaxis": "x",
           "y": [
            "Poland"
           ],
           "yaxis": "y"
          },
          {
           "hovertemplate": "Land=%{y}<br>year=1995<br>Produzierte Menge (nach Einheit)=%{x}<extra></extra>",
           "legendgroup": "Portugal",
           "marker": {
            "color": "#ab63fa",
            "pattern": {
             "shape": ""
            }
           },
           "name": "Portugal",
           "orientation": "h",
           "showlegend": true,
           "textposition": "auto",
           "type": "bar",
           "x": {
            "bdata": "AAAAAMCB3UA=",
            "dtype": "f8"
           },
           "xaxis": "x",
           "y": [
            "Portugal"
           ],
           "yaxis": "y"
          },
          {
           "hovertemplate": "Land=%{y}<br>year=1995<br>Produzierte Menge (nach Einheit)=%{x}<extra></extra>",
           "legendgroup": "Spain",
           "marker": {
            "color": "#FFA15A",
            "pattern": {
             "shape": ""
            }
           },
           "name": "Spain",
           "orientation": "h",
           "showlegend": true,
           "textposition": "auto",
           "type": "bar",
           "x": {
            "bdata": "AAAAAMBU5EA=",
            "dtype": "f8"
           },
           "xaxis": "x",
           "y": [
            "Spain"
           ],
           "yaxis": "y"
          },
          {
           "hovertemplate": "Land=%{y}<br>year=1995<br>Produzierte Menge (nach Einheit)=%{x}<extra></extra>",
           "legendgroup": "Sweden",
           "marker": {
            "color": "#19d3f3",
            "pattern": {
             "shape": ""
            }
           },
           "name": "Sweden",
           "orientation": "h",
           "showlegend": true,
           "textposition": "auto",
           "type": "bar",
           "x": {
            "bdata": "AAAAAMAr10A=",
            "dtype": "f8"
           },
           "xaxis": "x",
           "y": [
            "Sweden"
           ],
           "yaxis": "y"
          },
          {
           "hovertemplate": "Land=%{y}<br>year=1995<br>Produzierte Menge (nach Einheit)=%{x}<extra></extra>",
           "legendgroup": "Switzerland",
           "marker": {
            "color": "#FF6692",
            "pattern": {
             "shape": ""
            }
           },
           "name": "Switzerland",
           "orientation": "h",
           "showlegend": true,
           "textposition": "auto",
           "type": "bar",
           "x": {
            "bdata": "AAAAAIAs2kA=",
            "dtype": "f8"
           },
           "xaxis": "x",
           "y": [
            "Switzerland"
           ],
           "yaxis": "y"
          },
          {
           "hovertemplate": "Land=%{y}<br>year=1995<br>Produzierte Menge (nach Einheit)=%{x}<extra></extra>",
           "legendgroup": "United Kingdom",
           "marker": {
            "color": "#B6E880",
            "pattern": {
             "shape": ""
            }
           },
           "name": "United Kingdom",
           "orientation": "h",
           "showlegend": true,
           "textposition": "auto",
           "type": "bar",
           "x": {
            "bdata": "AAAAAAAw4EA=",
            "dtype": "f8"
           },
           "xaxis": "x",
           "y": [
            "United Kingdom"
           ],
           "yaxis": "y"
          },
          {
           "hovertemplate": "Land=%{y}<br>year=1995<br>Produzierte Menge (nach Einheit)=%{x}<extra></extra>",
           "legendgroup": "Germany",
           "marker": {
            "color": "#FF97FF",
            "pattern": {
             "shape": ""
            }
           },
           "name": "Germany",
           "orientation": "h",
           "showlegend": true,
           "textposition": "auto",
           "type": "bar",
           "x": {
            "bdata": "AAAAAODM7UA=",
            "dtype": "f8"
           },
           "xaxis": "x",
           "y": [
            "Germany"
           ],
           "yaxis": "y"
          },
          {
           "hovertemplate": "Land=%{y}<br>year=1995<br>Produzierte Menge (nach Einheit)=%{x}<extra></extra>",
           "legendgroup": "Belarus",
           "marker": {
            "color": "#FECB52",
            "pattern": {
             "shape": ""
            }
           },
           "name": "Belarus",
           "orientation": "h",
           "showlegend": true,
           "textposition": "auto",
           "type": "bar",
           "x": {
            "bdata": "AAAAAAAAAAA=",
            "dtype": "f8"
           },
           "xaxis": "x",
           "y": [
            "Belarus"
           ],
           "yaxis": "y"
          },
          {
           "hovertemplate": "Land=%{y}<br>year=1995<br>Produzierte Menge (nach Einheit)=%{x}<extra></extra>",
           "legendgroup": "Croatia",
           "marker": {
            "color": "#636efa",
            "pattern": {
             "shape": ""
            }
           },
           "name": "Croatia",
           "orientation": "h",
           "showlegend": true,
           "textposition": "auto",
           "type": "bar",
           "x": {
            "bdata": "AAAAAAAAAAA=",
            "dtype": "f8"
           },
           "xaxis": "x",
           "y": [
            "Croatia"
           ],
           "yaxis": "y"
          },
          {
           "hovertemplate": "Land=%{y}<br>year=1995<br>Produzierte Menge (nach Einheit)=%{x}<extra></extra>",
           "legendgroup": "Czech Republic",
           "marker": {
            "color": "#EF553B",
            "pattern": {
             "shape": ""
            }
           },
           "name": "Czech Republic",
           "orientation": "h",
           "showlegend": true,
           "textposition": "auto",
           "type": "bar",
           "x": {
            "bdata": "AAAAAABUlkA=",
            "dtype": "f8"
           },
           "xaxis": "x",
           "y": [
            "Czech Republic"
           ],
           "yaxis": "y"
          },
          {
           "hovertemplate": "Land=%{y}<br>year=1995<br>Produzierte Menge (nach Einheit)=%{x}<extra></extra>",
           "legendgroup": "Estonia",
           "marker": {
            "color": "#00cc96",
            "pattern": {
             "shape": ""
            }
           },
           "name": "Estonia",
           "orientation": "h",
           "showlegend": true,
           "textposition": "auto",
           "type": "bar",
           "x": {
            "bdata": "AAAAAABAVUA=",
            "dtype": "f8"
           },
           "xaxis": "x",
           "y": [
            "Estonia"
           ],
           "yaxis": "y"
          },
          {
           "hovertemplate": "Land=%{y}<br>year=1995<br>Produzierte Menge (nach Einheit)=%{x}<extra></extra>",
           "legendgroup": "Latvia",
           "marker": {
            "color": "#ab63fa",
            "pattern": {
             "shape": ""
            }
           },
           "name": "Latvia",
           "orientation": "h",
           "showlegend": true,
           "textposition": "auto",
           "type": "bar",
           "x": {
            "bdata": "AAAAAACupkA=",
            "dtype": "f8"
           },
           "xaxis": "x",
           "y": [
            "Latvia"
           ],
           "yaxis": "y"
          },
          {
           "hovertemplate": "Land=%{y}<br>year=1995<br>Produzierte Menge (nach Einheit)=%{x}<extra></extra>",
           "legendgroup": "Lithuania",
           "marker": {
            "color": "#FFA15A",
            "pattern": {
             "shape": ""
            }
           },
           "name": "Lithuania",
           "orientation": "h",
           "showlegend": true,
           "textposition": "auto",
           "type": "bar",
           "x": {
            "bdata": "AAAAAACtvkA=",
            "dtype": "f8"
           },
           "xaxis": "x",
           "y": [
            "Lithuania"
           ],
           "yaxis": "y"
          },
          {
           "hovertemplate": "Land=%{y}<br>year=1995<br>Produzierte Menge (nach Einheit)=%{x}<extra></extra>",
           "legendgroup": "Romania",
           "marker": {
            "color": "#19d3f3",
            "pattern": {
             "shape": ""
            }
           },
           "name": "Romania",
           "orientation": "h",
           "showlegend": true,
           "textposition": "auto",
           "type": "bar",
           "x": {
            "bdata": "AAAAAABev0A=",
            "dtype": "f8"
           },
           "xaxis": "x",
           "y": [
            "Romania"
           ],
           "yaxis": "y"
          },
          {
           "hovertemplate": "Land=%{y}<br>year=1995<br>Produzierte Menge (nach Einheit)=%{x}<extra></extra>",
           "legendgroup": "Iceland",
           "marker": {
            "color": "#FF6692",
            "pattern": {
             "shape": ""
            }
           },
           "name": "Iceland",
           "orientation": "h",
           "showlegend": true,
           "textposition": "auto",
           "type": "bar",
           "x": {
            "bdata": "AAAAAACARkA=",
            "dtype": "f8"
           },
           "xaxis": "x",
           "y": [
            "Iceland"
           ],
           "yaxis": "y"
          }
         ],
         "name": "1995"
        },
        {
         "data": [
          {
           "hovertemplate": "Land=%{y}<br>year=1996<br>Produzierte Menge (nach Einheit)=%{x}<extra></extra>",
           "legendgroup": "Austria",
           "marker": {
            "color": "#636efa",
            "pattern": {
             "shape": ""
            }
           },
           "name": "Austria",
           "orientation": "h",
           "showlegend": true,
           "textposition": "auto",
           "type": "bar",
           "x": {
            "bdata": "AAAAAIBXx0A=",
            "dtype": "f8"
           },
           "xaxis": "x",
           "y": [
            "Austria"
           ],
           "yaxis": "y"
          },
          {
           "hovertemplate": "Land=%{y}<br>year=1996<br>Produzierte Menge (nach Einheit)=%{x}<extra></extra>",
           "legendgroup": "Belgium",
           "marker": {
            "color": "#EF553B",
            "pattern": {
             "shape": ""
            }
           },
           "name": "Belgium",
           "orientation": "h",
           "showlegend": true,
           "textposition": "auto",
           "type": "bar",
           "x": {
            "bdata": "AAAAAAAxzkA=",
            "dtype": "f8"
           },
           "xaxis": "x",
           "y": [
            "Belgium"
           ],
           "yaxis": "y"
          },
          {
           "hovertemplate": "Land=%{y}<br>year=1996<br>Produzierte Menge (nach Einheit)=%{x}<extra></extra>",
           "legendgroup": "Denmark",
           "marker": {
            "color": "#00cc96",
            "pattern": {
             "shape": ""
            }
           },
           "name": "Denmark",
           "orientation": "h",
           "showlegend": true,
           "textposition": "auto",
           "type": "bar",
           "x": {
            "bdata": "AAAAAKDM40A=",
            "dtype": "f8"
           },
           "xaxis": "x",
           "y": [
            "Denmark"
           ],
           "yaxis": "y"
          },
          {
           "hovertemplate": "Land=%{y}<br>year=1996<br>Produzierte Menge (nach Einheit)=%{x}<extra></extra>",
           "legendgroup": "Finland",
           "marker": {
            "color": "#ab63fa",
            "pattern": {
             "shape": ""
            }
           },
           "name": "Finland",
           "orientation": "h",
           "showlegend": true,
           "textposition": "auto",
           "type": "bar",
           "x": {
            "bdata": "AAAAAAC+vkA=",
            "dtype": "f8"
           },
           "xaxis": "x",
           "y": [
            "Finland"
           ],
           "yaxis": "y"
          },
          {
           "hovertemplate": "Land=%{y}<br>year=1996<br>Produzierte Menge (nach Einheit)=%{x}<extra></extra>",
           "legendgroup": "France",
           "marker": {
            "color": "#FFA15A",
            "pattern": {
             "shape": ""
            }
           },
           "name": "France",
           "orientation": "h",
           "showlegend": true,
           "textposition": "auto",
           "type": "bar",
           "x": {
            "bdata": "AAAAAMA98UA=",
            "dtype": "f8"
           },
           "xaxis": "x",
           "y": [
            "France"
           ],
           "yaxis": "y"
          },
          {
           "hovertemplate": "Land=%{y}<br>year=1996<br>Produzierte Menge (nach Einheit)=%{x}<extra></extra>",
           "legendgroup": "Greece",
           "marker": {
            "color": "#19d3f3",
            "pattern": {
             "shape": ""
            }
           },
           "name": "Greece",
           "orientation": "h",
           "showlegend": true,
           "textposition": "auto",
           "type": "bar",
           "x": {
            "bdata": "AAAAAAAqvEA=",
            "dtype": "f8"
           },
           "xaxis": "x",
           "y": [
            "Greece"
           ],
           "yaxis": "y"
          },
          {
           "hovertemplate": "Land=%{y}<br>year=1996<br>Produzierte Menge (nach Einheit)=%{x}<extra></extra>",
           "legendgroup": "Hungary",
           "marker": {
            "color": "#FF6692",
            "pattern": {
             "shape": ""
            }
           },
           "name": "Hungary",
           "orientation": "h",
           "showlegend": true,
           "textposition": "auto",
           "type": "bar",
           "x": {
            "bdata": "AAAAAAAz0EA=",
            "dtype": "f8"
           },
           "xaxis": "x",
           "y": [
            "Hungary"
           ],
           "yaxis": "y"
          },
          {
           "hovertemplate": "Land=%{y}<br>year=1996<br>Produzierte Menge (nach Einheit)=%{x}<extra></extra>",
           "legendgroup": "Ireland",
           "marker": {
            "color": "#B6E880",
            "pattern": {
             "shape": ""
            }
           },
           "name": "Ireland",
           "orientation": "h",
           "showlegend": true,
           "textposition": "auto",
           "type": "bar",
           "x": {
            "bdata": "AAAAAADAe0A=",
            "dtype": "f8"
           },
           "xaxis": "x",
           "y": [
            "Ireland"
           ],
           "yaxis": "y"
          },
          {
           "hovertemplate": "Land=%{y}<br>year=1996<br>Produzierte Menge (nach Einheit)=%{x}<extra></extra>",
           "legendgroup": "Italy",
           "marker": {
            "color": "#FF97FF",
            "pattern": {
             "shape": ""
            }
           },
           "name": "Italy",
           "orientation": "h",
           "showlegend": true,
           "textposition": "auto",
           "type": "bar",
           "x": {
            "bdata": "AAAAAACr5UA=",
            "dtype": "f8"
           },
           "xaxis": "x",
           "y": [
            "Italy"
           ],
           "yaxis": "y"
          },
          {
           "hovertemplate": "Land=%{y}<br>year=1996<br>Produzierte Menge (nach Einheit)=%{x}<extra></extra>",
           "legendgroup": "Luxembourg",
           "marker": {
            "color": "#FECB52",
            "pattern": {
             "shape": ""
            }
           },
           "name": "Luxembourg",
           "orientation": "h",
           "showlegend": true,
           "textposition": "auto",
           "type": "bar",
           "x": {
            "bdata": "AAAAAAAAhkA=",
            "dtype": "f8"
           },
           "xaxis": "x",
           "y": [
            "Luxembourg"
           ],
           "yaxis": "y"
          },
          {
           "hovertemplate": "Land=%{y}<br>year=1996<br>Produzierte Menge (nach Einheit)=%{x}<extra></extra>",
           "legendgroup": "Netherlands",
           "marker": {
            "color": "#636efa",
            "pattern": {
             "shape": ""
            }
           },
           "name": "Netherlands",
           "orientation": "h",
           "showlegend": true,
           "textposition": "auto",
           "type": "bar",
           "x": {
            "bdata": "AAAAAMAe5UA=",
            "dtype": "f8"
           },
           "xaxis": "x",
           "y": [
            "Netherlands"
           ],
           "yaxis": "y"
          },
          {
           "hovertemplate": "Land=%{y}<br>year=1996<br>Produzierte Menge (nach Einheit)=%{x}<extra></extra>",
           "legendgroup": "Norway",
           "marker": {
            "color": "#EF553B",
            "pattern": {
             "shape": ""
            }
           },
           "name": "Norway",
           "orientation": "h",
           "showlegend": true,
           "textposition": "auto",
           "type": "bar",
           "x": {
            "bdata": "AAAAAADetEA=",
            "dtype": "f8"
           },
           "xaxis": "x",
           "y": [
            "Norway"
           ],
           "yaxis": "y"
          },
          {
           "hovertemplate": "Land=%{y}<br>year=1996<br>Produzierte Menge (nach Einheit)=%{x}<extra></extra>",
           "legendgroup": "Poland",
           "marker": {
            "color": "#00cc96",
            "pattern": {
             "shape": ""
            }
           },
           "name": "Poland",
           "orientation": "h",
           "showlegend": true,
           "textposition": "auto",
           "type": "bar",
           "x": {
            "bdata": "AAAAAEBD00A=",
            "dtype": "f8"
           },
           "xaxis": "x",
           "y": [
            "Poland"
           ],
           "yaxis": "y"
          },
          {
           "hovertemplate": "Land=%{y}<br>year=1996<br>Produzierte Menge (nach Einheit)=%{x}<extra></extra>",
           "legendgroup": "Portugal",
           "marker": {
            "color": "#ab63fa",
            "pattern": {
             "shape": ""
            }
           },
           "name": "Portugal",
           "orientation": "h",
           "showlegend": true,
           "textposition": "auto",
           "type": "bar",
           "x": {
            "bdata": "AAAAAID/20A=",
            "dtype": "f8"
           },
           "xaxis": "x",
           "y": [
            "Portugal"
           ],
           "yaxis": "y"
          },
          {
           "hovertemplate": "Land=%{y}<br>year=1996<br>Produzierte Menge (nach Einheit)=%{x}<extra></extra>",
           "legendgroup": "Spain",
           "marker": {
            "color": "#FFA15A",
            "pattern": {
             "shape": ""
            }
           },
           "name": "Spain",
           "orientation": "h",
           "showlegend": true,
           "textposition": "auto",
           "type": "bar",
           "x": {
            "bdata": "AAAAAIDX5EA=",
            "dtype": "f8"
           },
           "xaxis": "x",
           "y": [
            "Spain"
           ],
           "yaxis": "y"
          },
          {
           "hovertemplate": "Land=%{y}<br>year=1996<br>Produzierte Menge (nach Einheit)=%{x}<extra></extra>",
           "legendgroup": "Sweden",
           "marker": {
            "color": "#19d3f3",
            "pattern": {
             "shape": ""
            }
           },
           "name": "Sweden",
           "orientation": "h",
           "showlegend": true,
           "textposition": "auto",
           "type": "bar",
           "x": {
            "bdata": "AAAAAAAg4UA=",
            "dtype": "f8"
           },
           "xaxis": "x",
           "y": [
            "Sweden"
           ],
           "yaxis": "y"
          },
          {
           "hovertemplate": "Land=%{y}<br>year=1996<br>Produzierte Menge (nach Einheit)=%{x}<extra></extra>",
           "legendgroup": "Switzerland",
           "marker": {
            "color": "#FF6692",
            "pattern": {
             "shape": ""
            }
           },
           "name": "Switzerland",
           "orientation": "h",
           "showlegend": true,
           "textposition": "auto",
           "type": "bar",
           "x": {
            "bdata": "AAAAAADv2UA=",
            "dtype": "f8"
           },
           "xaxis": "x",
           "y": [
            "Switzerland"
           ],
           "yaxis": "y"
          },
          {
           "hovertemplate": "Land=%{y}<br>year=1996<br>Produzierte Menge (nach Einheit)=%{x}<extra></extra>",
           "legendgroup": "United Kingdom",
           "marker": {
            "color": "#B6E880",
            "pattern": {
             "shape": ""
            }
           },
           "name": "United Kingdom",
           "orientation": "h",
           "showlegend": true,
           "textposition": "auto",
           "type": "bar",
           "x": {
            "bdata": "AAAAAEBC4UA=",
            "dtype": "f8"
           },
           "xaxis": "x",
           "y": [
            "United Kingdom"
           ],
           "yaxis": "y"
          },
          {
           "hovertemplate": "Land=%{y}<br>year=1996<br>Produzierte Menge (nach Einheit)=%{x}<extra></extra>",
           "legendgroup": "Germany",
           "marker": {
            "color": "#FF97FF",
            "pattern": {
             "shape": ""
            }
           },
           "name": "Germany",
           "orientation": "h",
           "showlegend": true,
           "textposition": "auto",
           "type": "bar",
           "x": {
            "bdata": "AAAAAGAr8EA=",
            "dtype": "f8"
           },
           "xaxis": "x",
           "y": [
            "Germany"
           ],
           "yaxis": "y"
          },
          {
           "hovertemplate": "Land=%{y}<br>year=1996<br>Produzierte Menge (nach Einheit)=%{x}<extra></extra>",
           "legendgroup": "Belarus",
           "marker": {
            "color": "#FECB52",
            "pattern": {
             "shape": ""
            }
           },
           "name": "Belarus",
           "orientation": "h",
           "showlegend": true,
           "textposition": "auto",
           "type": "bar",
           "x": {
            "bdata": "AAAAAABAVEA=",
            "dtype": "f8"
           },
           "xaxis": "x",
           "y": [
            "Belarus"
           ],
           "yaxis": "y"
          },
          {
           "hovertemplate": "Land=%{y}<br>year=1996<br>Produzierte Menge (nach Einheit)=%{x}<extra></extra>",
           "legendgroup": "Croatia",
           "marker": {
            "color": "#636efa",
            "pattern": {
             "shape": ""
            }
           },
           "name": "Croatia",
           "orientation": "h",
           "showlegend": true,
           "textposition": "auto",
           "type": "bar",
           "x": {
            "bdata": "AAAAAAAAAAA=",
            "dtype": "f8"
           },
           "xaxis": "x",
           "y": [
            "Croatia"
           ],
           "yaxis": "y"
          },
          {
           "hovertemplate": "Land=%{y}<br>year=1996<br>Produzierte Menge (nach Einheit)=%{x}<extra></extra>",
           "legendgroup": "Czech Republic",
           "marker": {
            "color": "#EF553B",
            "pattern": {
             "shape": ""
            }
           },
           "name": "Czech Republic",
           "orientation": "h",
           "showlegend": true,
           "textposition": "auto",
           "type": "bar",
           "x": {
            "bdata": "AAAAAACgg0A=",
            "dtype": "f8"
           },
           "xaxis": "x",
           "y": [
            "Czech Republic"
           ],
           "yaxis": "y"
          },
          {
           "hovertemplate": "Land=%{y}<br>year=1996<br>Produzierte Menge (nach Einheit)=%{x}<extra></extra>",
           "legendgroup": "Estonia",
           "marker": {
            "color": "#00cc96",
            "pattern": {
             "shape": ""
            }
           },
           "name": "Estonia",
           "orientation": "h",
           "showlegend": true,
           "textposition": "auto",
           "type": "bar",
           "x": {
            "bdata": "AAAAAAAATEA=",
            "dtype": "f8"
           },
           "xaxis": "x",
           "y": [
            "Estonia"
           ],
           "yaxis": "y"
          },
          {
           "hovertemplate": "Land=%{y}<br>year=1996<br>Produzierte Menge (nach Einheit)=%{x}<extra></extra>",
           "legendgroup": "Latvia",
           "marker": {
            "color": "#ab63fa",
            "pattern": {
             "shape": ""
            }
           },
           "name": "Latvia",
           "orientation": "h",
           "showlegend": true,
           "textposition": "auto",
           "type": "bar",
           "x": {
            "bdata": "AAAAAABQp0A=",
            "dtype": "f8"
           },
           "xaxis": "x",
           "y": [
            "Latvia"
           ],
           "yaxis": "y"
          },
          {
           "hovertemplate": "Land=%{y}<br>year=1996<br>Produzierte Menge (nach Einheit)=%{x}<extra></extra>",
           "legendgroup": "Lithuania",
           "marker": {
            "color": "#FFA15A",
            "pattern": {
             "shape": ""
            }
           },
           "name": "Lithuania",
           "orientation": "h",
           "showlegend": true,
           "textposition": "auto",
           "type": "bar",
           "x": {
            "bdata": "AAAAAICUwEA=",
            "dtype": "f8"
           },
           "xaxis": "x",
           "y": [
            "Lithuania"
           ],
           "yaxis": "y"
          },
          {
           "hovertemplate": "Land=%{y}<br>year=1996<br>Produzierte Menge (nach Einheit)=%{x}<extra></extra>",
           "legendgroup": "Iceland",
           "marker": {
            "color": "#FF6692",
            "pattern": {
             "shape": ""
            }
           },
           "name": "Iceland",
           "orientation": "h",
           "showlegend": true,
           "textposition": "auto",
           "type": "bar",
           "x": {
            "bdata": "AAAAAACARkA=",
            "dtype": "f8"
           },
           "xaxis": "x",
           "y": [
            "Iceland"
           ],
           "yaxis": "y"
          }
         ],
         "name": "1996"
        },
        {
         "data": [
          {
           "hovertemplate": "Land=%{y}<br>year=1997<br>Produzierte Menge (nach Einheit)=%{x}<extra></extra>",
           "legendgroup": "Austria",
           "marker": {
            "color": "#636efa",
            "pattern": {
             "shape": ""
            }
           },
           "name": "Austria",
           "orientation": "h",
           "showlegend": true,
           "textposition": "auto",
           "type": "bar",
           "x": {
            "bdata": "AAAAAIBSxkA=",
            "dtype": "f8"
           },
           "xaxis": "x",
           "y": [
            "Austria"
           ],
           "yaxis": "y"
          },
          {
           "hovertemplate": "Land=%{y}<br>year=1997<br>Produzierte Menge (nach Einheit)=%{x}<extra></extra>",
           "legendgroup": "Belgium",
           "marker": {
            "color": "#EF553B",
            "pattern": {
             "shape": ""
            }
           },
           "name": "Belgium",
           "orientation": "h",
           "showlegend": true,
           "textposition": "auto",
           "type": "bar",
           "x": {
            "bdata": "AAAAAEAK0EA=",
            "dtype": "f8"
           },
           "xaxis": "x",
           "y": [
            "Belgium"
           ],
           "yaxis": "y"
          },
          {
           "hovertemplate": "Land=%{y}<br>year=1997<br>Produzierte Menge (nach Einheit)=%{x}<extra></extra>",
           "legendgroup": "Denmark",
           "marker": {
            "color": "#00cc96",
            "pattern": {
             "shape": ""
            }
           },
           "name": "Denmark",
           "orientation": "h",
           "showlegend": true,
           "textposition": "auto",
           "type": "bar",
           "x": {
            "bdata": "AAAAAGAK5UA=",
            "dtype": "f8"
           },
           "xaxis": "x",
           "y": [
            "Denmark"
           ],
           "yaxis": "y"
          },
          {
           "hovertemplate": "Land=%{y}<br>year=1997<br>Produzierte Menge (nach Einheit)=%{x}<extra></extra>",
           "legendgroup": "Finland",
           "marker": {
            "color": "#ab63fa",
            "pattern": {
             "shape": ""
            }
           },
           "name": "Finland",
           "orientation": "h",
           "showlegend": true,
           "textposition": "auto",
           "type": "bar",
           "x": {
            "bdata": "AAAAAABIlEA=",
            "dtype": "f8"
           },
           "xaxis": "x",
           "y": [
            "Finland"
           ],
           "yaxis": "y"
          },
          {
           "hovertemplate": "Land=%{y}<br>year=1997<br>Produzierte Menge (nach Einheit)=%{x}<extra></extra>",
           "legendgroup": "France",
           "marker": {
            "color": "#FFA15A",
            "pattern": {
             "shape": ""
            }
           },
           "name": "France",
           "orientation": "h",
           "showlegend": true,
           "textposition": "auto",
           "type": "bar",
           "x": {
            "bdata": "AAAAAIB/8UA=",
            "dtype": "f8"
           },
           "xaxis": "x",
           "y": [
            "France"
           ],
           "yaxis": "y"
          },
          {
           "hovertemplate": "Land=%{y}<br>year=1997<br>Produzierte Menge (nach Einheit)=%{x}<extra></extra>",
           "legendgroup": "Greece",
           "marker": {
            "color": "#19d3f3",
            "pattern": {
             "shape": ""
            }
           },
           "name": "Greece",
           "orientation": "h",
           "showlegend": true,
           "textposition": "auto",
           "type": "bar",
           "x": {
            "bdata": "AAAAAAD+u0A=",
            "dtype": "f8"
           },
           "xaxis": "x",
           "y": [
            "Greece"
           ],
           "yaxis": "y"
          },
          {
           "hovertemplate": "Land=%{y}<br>year=1997<br>Produzierte Menge (nach Einheit)=%{x}<extra></extra>",
           "legendgroup": "Hungary",
           "marker": {
            "color": "#FF6692",
            "pattern": {
             "shape": ""
            }
           },
           "name": "Hungary",
           "orientation": "h",
           "showlegend": true,
           "textposition": "auto",
           "type": "bar",
           "x": {
            "bdata": "AAAAAEB80EA=",
            "dtype": "f8"
           },
           "xaxis": "x",
           "y": [
            "Hungary"
           ],
           "yaxis": "y"
          },
          {
           "hovertemplate": "Land=%{y}<br>year=1997<br>Produzierte Menge (nach Einheit)=%{x}<extra></extra>",
           "legendgroup": "Ireland",
           "marker": {
            "color": "#B6E880",
            "pattern": {
             "shape": ""
            }
           },
           "name": "Ireland",
           "orientation": "h",
           "showlegend": true,
           "textposition": "auto",
           "type": "bar",
           "x": {
            "bdata": "AAAAAAAMkUA=",
            "dtype": "f8"
           },
           "xaxis": "x",
           "y": [
            "Ireland"
           ],
           "yaxis": "y"
          },
          {
           "hovertemplate": "Land=%{y}<br>year=1997<br>Produzierte Menge (nach Einheit)=%{x}<extra></extra>",
           "legendgroup": "Italy",
           "marker": {
            "color": "#FF97FF",
            "pattern": {
             "shape": ""
            }
           },
           "name": "Italy",
           "orientation": "h",
           "showlegend": true,
           "textposition": "auto",
           "type": "bar",
           "x": {
            "bdata": "AAAAACB66EA=",
            "dtype": "f8"
           },
           "xaxis": "x",
           "y": [
            "Italy"
           ],
           "yaxis": "y"
          },
          {
           "hovertemplate": "Land=%{y}<br>year=1997<br>Produzierte Menge (nach Einheit)=%{x}<extra></extra>",
           "legendgroup": "Luxembourg",
           "marker": {
            "color": "#FECB52",
            "pattern": {
             "shape": ""
            }
           },
           "name": "Luxembourg",
           "orientation": "h",
           "showlegend": true,
           "textposition": "auto",
           "type": "bar",
           "x": {
            "bdata": "AAAAAADIiUA=",
            "dtype": "f8"
           },
           "xaxis": "x",
           "y": [
            "Luxembourg"
           ],
           "yaxis": "y"
          },
          {
           "hovertemplate": "Land=%{y}<br>year=1997<br>Produzierte Menge (nach Einheit)=%{x}<extra></extra>",
           "legendgroup": "Netherlands",
           "marker": {
            "color": "#636efa",
            "pattern": {
             "shape": ""
            }
           },
           "name": "Netherlands",
           "orientation": "h",
           "showlegend": true,
           "textposition": "auto",
           "type": "bar",
           "x": {
            "bdata": "AAAAAGBm6EA=",
            "dtype": "f8"
           },
           "xaxis": "x",
           "y": [
            "Netherlands"
           ],
           "yaxis": "y"
          },
          {
           "hovertemplate": "Land=%{y}<br>year=1997<br>Produzierte Menge (nach Einheit)=%{x}<extra></extra>",
           "legendgroup": "Norway",
           "marker": {
            "color": "#EF553B",
            "pattern": {
             "shape": ""
            }
           },
           "name": "Norway",
           "orientation": "h",
           "showlegend": true,
           "textposition": "auto",
           "type": "bar",
           "x": {
            "bdata": "AAAAAAC/tkA=",
            "dtype": "f8"
           },
           "xaxis": "x",
           "y": [
            "Norway"
           ],
           "yaxis": "y"
          },
          {
           "hovertemplate": "Land=%{y}<br>year=1997<br>Produzierte Menge (nach Einheit)=%{x}<extra></extra>",
           "legendgroup": "Poland",
           "marker": {
            "color": "#00cc96",
            "pattern": {
             "shape": ""
            }
           },
           "name": "Poland",
           "orientation": "h",
           "showlegend": true,
           "textposition": "auto",
           "type": "bar",
           "x": {
            "bdata": "AAAAAICo2kA=",
            "dtype": "f8"
           },
           "xaxis": "x",
           "y": [
            "Poland"
           ],
           "yaxis": "y"
          },
          {
           "hovertemplate": "Land=%{y}<br>year=1997<br>Produzierte Menge (nach Einheit)=%{x}<extra></extra>",
           "legendgroup": "Portugal",
           "marker": {
            "color": "#ab63fa",
            "pattern": {
             "shape": ""
            }
           },
           "name": "Portugal",
           "orientation": "h",
           "showlegend": true,
           "textposition": "auto",
           "type": "bar",
           "x": {
            "bdata": "AAAAAID13EA=",
            "dtype": "f8"
           },
           "xaxis": "x",
           "y": [
            "Portugal"
           ],
           "yaxis": "y"
          },
          {
           "hovertemplate": "Land=%{y}<br>year=1997<br>Produzierte Menge (nach Einheit)=%{x}<extra></extra>",
           "legendgroup": "Spain",
           "marker": {
            "color": "#FFA15A",
            "pattern": {
             "shape": ""
            }
           },
           "name": "Spain",
           "orientation": "h",
           "showlegend": true,
           "textposition": "auto",
           "type": "bar",
           "x": {
            "bdata": "AAAAAGBE5UA=",
            "dtype": "f8"
           },
           "xaxis": "x",
           "y": [
            "Spain"
           ],
           "yaxis": "y"
          },
          {
           "hovertemplate": "Land=%{y}<br>year=1997<br>Produzierte Menge (nach Einheit)=%{x}<extra></extra>",
           "legendgroup": "Sweden",
           "marker": {
            "color": "#19d3f3",
            "pattern": {
             "shape": ""
            }
           },
           "name": "Sweden",
           "orientation": "h",
           "showlegend": true,
           "textposition": "auto",
           "type": "bar",
           "x": {
            "bdata": "AAAAAOAV4kA=",
            "dtype": "f8"
           },
           "xaxis": "x",
           "y": [
            "Sweden"
           ],
           "yaxis": "y"
          },
          {
           "hovertemplate": "Land=%{y}<br>year=1997<br>Produzierte Menge (nach Einheit)=%{x}<extra></extra>",
           "legendgroup": "Switzerland",
           "marker": {
            "color": "#FF6692",
            "pattern": {
             "shape": ""
            }
           },
           "name": "Switzerland",
           "orientation": "h",
           "showlegend": true,
           "textposition": "auto",
           "type": "bar",
           "x": {
            "bdata": "AAAAAADh2kA=",
            "dtype": "f8"
           },
           "xaxis": "x",
           "y": [
            "Switzerland"
           ],
           "yaxis": "y"
          },
          {
           "hovertemplate": "Land=%{y}<br>year=1997<br>Produzierte Menge (nach Einheit)=%{x}<extra></extra>",
           "legendgroup": "United Kingdom",
           "marker": {
            "color": "#B6E880",
            "pattern": {
             "shape": ""
            }
           },
           "name": "United Kingdom",
           "orientation": "h",
           "showlegend": true,
           "textposition": "auto",
           "type": "bar",
           "x": {
            "bdata": "AAAAACBB40A=",
            "dtype": "f8"
           },
           "xaxis": "x",
           "y": [
            "United Kingdom"
           ],
           "yaxis": "y"
          },
          {
           "hovertemplate": "Land=%{y}<br>year=1997<br>Produzierte Menge (nach Einheit)=%{x}<extra></extra>",
           "legendgroup": "Germany",
           "marker": {
            "color": "#FF97FF",
            "pattern": {
             "shape": ""
            }
           },
           "name": "Germany",
           "orientation": "h",
           "showlegend": true,
           "textposition": "auto",
           "type": "bar",
           "x": {
            "bdata": "AAAAABCN8EA=",
            "dtype": "f8"
           },
           "xaxis": "x",
           "y": [
            "Germany"
           ],
           "yaxis": "y"
          },
          {
           "hovertemplate": "Land=%{y}<br>year=1997<br>Produzierte Menge (nach Einheit)=%{x}<extra></extra>",
           "legendgroup": "Belarus",
           "marker": {
            "color": "#FECB52",
            "pattern": {
             "shape": ""
            }
           },
           "name": "Belarus",
           "orientation": "h",
           "showlegend": true,
           "textposition": "auto",
           "type": "bar",
           "x": {
            "bdata": "AAAAAADAbEA=",
            "dtype": "f8"
           },
           "xaxis": "x",
           "y": [
            "Belarus"
           ],
           "yaxis": "y"
          },
          {
           "hovertemplate": "Land=%{y}<br>year=1997<br>Produzierte Menge (nach Einheit)=%{x}<extra></extra>",
           "legendgroup": "Croatia",
           "marker": {
            "color": "#636efa",
            "pattern": {
             "shape": ""
            }
           },
           "name": "Croatia",
           "orientation": "h",
           "showlegend": true,
           "textposition": "auto",
           "type": "bar",
           "x": {
            "bdata": "AAAAAAAAAAA=",
            "dtype": "f8"
           },
           "xaxis": "x",
           "y": [
            "Croatia"
           ],
           "yaxis": "y"
          },
          {
           "hovertemplate": "Land=%{y}<br>year=1997<br>Produzierte Menge (nach Einheit)=%{x}<extra></extra>",
           "legendgroup": "Czech Republic",
           "marker": {
            "color": "#EF553B",
            "pattern": {
             "shape": ""
            }
           },
           "name": "Czech Republic",
           "orientation": "h",
           "showlegend": true,
           "textposition": "auto",
           "type": "bar",
           "x": {
            "bdata": "AAAAAAA2oUA=",
            "dtype": "f8"
           },
           "xaxis": "x",
           "y": [
            "Czech Republic"
           ],
           "yaxis": "y"
          },
          {
           "hovertemplate": "Land=%{y}<br>year=1997<br>Produzierte Menge (nach Einheit)=%{x}<extra></extra>",
           "legendgroup": "Estonia",
           "marker": {
            "color": "#00cc96",
            "pattern": {
             "shape": ""
            }
           },
           "name": "Estonia",
           "orientation": "h",
           "showlegend": true,
           "textposition": "auto",
           "type": "bar",
           "x": {
            "bdata": "AAAAAAAATUA=",
            "dtype": "f8"
           },
           "xaxis": "x",
           "y": [
            "Estonia"
           ],
           "yaxis": "y"
          },
          {
           "hovertemplate": "Land=%{y}<br>year=1997<br>Produzierte Menge (nach Einheit)=%{x}<extra></extra>",
           "legendgroup": "Latvia",
           "marker": {
            "color": "#ab63fa",
            "pattern": {
             "shape": ""
            }
           },
           "name": "Latvia",
           "orientation": "h",
           "showlegend": true,
           "textposition": "auto",
           "type": "bar",
           "x": {
            "bdata": "AAAAAAC1v0A=",
            "dtype": "f8"
           },
           "xaxis": "x",
           "y": [
            "Latvia"
           ],
           "yaxis": "y"
          },
          {
           "hovertemplate": "Land=%{y}<br>year=1997<br>Produzierte Menge (nach Einheit)=%{x}<extra></extra>",
           "legendgroup": "Lithuania",
           "marker": {
            "color": "#FFA15A",
            "pattern": {
             "shape": ""
            }
           },
           "name": "Lithuania",
           "orientation": "h",
           "showlegend": true,
           "textposition": "auto",
           "type": "bar",
           "x": {
            "bdata": "AAAAAADjwEA=",
            "dtype": "f8"
           },
           "xaxis": "x",
           "y": [
            "Lithuania"
           ],
           "yaxis": "y"
          },
          {
           "hovertemplate": "Land=%{y}<br>year=1997<br>Produzierte Menge (nach Einheit)=%{x}<extra></extra>",
           "legendgroup": "Iceland",
           "marker": {
            "color": "#FF6692",
            "pattern": {
             "shape": ""
            }
           },
           "name": "Iceland",
           "orientation": "h",
           "showlegend": true,
           "textposition": "auto",
           "type": "bar",
           "x": {
            "bdata": "AAAAAACARkA=",
            "dtype": "f8"
           },
           "xaxis": "x",
           "y": [
            "Iceland"
           ],
           "yaxis": "y"
          }
         ],
         "name": "1997"
        },
        {
         "data": [
          {
           "hovertemplate": "Land=%{y}<br>year=1998<br>Produzierte Menge (nach Einheit)=%{x}<extra></extra>",
           "legendgroup": "Austria",
           "marker": {
            "color": "#636efa",
            "pattern": {
             "shape": ""
            }
           },
           "name": "Austria",
           "orientation": "h",
           "showlegend": true,
           "textposition": "auto",
           "type": "bar",
           "x": {
            "bdata": "AAAAAIDLxUA=",
            "dtype": "f8"
           },
           "xaxis": "x",
           "y": [
            "Austria"
           ],
           "yaxis": "y"
          },
          {
           "hovertemplate": "Land=%{y}<br>year=1998<br>Produzierte Menge (nach Einheit)=%{x}<extra></extra>",
           "legendgroup": "Belgium",
           "marker": {
            "color": "#EF553B",
            "pattern": {
             "shape": ""
            }
           },
           "name": "Belgium",
           "orientation": "h",
           "showlegend": true,
           "textposition": "auto",
           "type": "bar",
           "x": {
            "bdata": "AAAAAABmz0A=",
            "dtype": "f8"
           },
           "xaxis": "x",
           "y": [
            "Belgium"
           ],
           "yaxis": "y"
          },
          {
           "hovertemplate": "Land=%{y}<br>year=1998<br>Produzierte Menge (nach Einheit)=%{x}<extra></extra>",
           "legendgroup": "Denmark",
           "marker": {
            "color": "#00cc96",
            "pattern": {
             "shape": ""
            }
           },
           "name": "Denmark",
           "orientation": "h",
           "showlegend": true,
           "textposition": "auto",
           "type": "bar",
           "x": {
            "bdata": "AAAAAEAV5UA=",
            "dtype": "f8"
           },
           "xaxis": "x",
           "y": [
            "Denmark"
           ],
           "yaxis": "y"
          },
          {
           "hovertemplate": "Land=%{y}<br>year=1998<br>Produzierte Menge (nach Einheit)=%{x}<extra></extra>",
           "legendgroup": "Finland",
           "marker": {
            "color": "#ab63fa",
            "pattern": {
             "shape": ""
            }
           },
           "name": "Finland",
           "orientation": "h",
           "showlegend": true,
           "textposition": "auto",
           "type": "bar",
           "x": {
            "bdata": "AAAAAACUkUA=",
            "dtype": "f8"
           },
           "xaxis": "x",
           "y": [
            "Finland"
           ],
           "yaxis": "y"
          },
          {
           "hovertemplate": "Land=%{y}<br>year=1998<br>Produzierte Menge (nach Einheit)=%{x}<extra></extra>",
           "legendgroup": "France",
           "marker": {
            "color": "#FFA15A",
            "pattern": {
             "shape": ""
            }
           },
           "name": "France",
           "orientation": "h",
           "showlegend": true,
           "textposition": "auto",
           "type": "bar",
           "x": {
            "bdata": "AAAAAED/8UA=",
            "dtype": "f8"
           },
           "xaxis": "x",
           "y": [
            "France"
           ],
           "yaxis": "y"
          },
          {
           "hovertemplate": "Land=%{y}<br>year=1998<br>Produzierte Menge (nach Einheit)=%{x}<extra></extra>",
           "legendgroup": "Greece",
           "marker": {
            "color": "#19d3f3",
            "pattern": {
             "shape": ""
            }
           },
           "name": "Greece",
           "orientation": "h",
           "showlegend": true,
           "textposition": "auto",
           "type": "bar",
           "x": {
            "bdata": "AAAAAACSvEA=",
            "dtype": "f8"
           },
           "xaxis": "x",
           "y": [
            "Greece"
           ],
           "yaxis": "y"
          },
          {
           "hovertemplate": "Land=%{y}<br>year=1998<br>Produzierte Menge (nach Einheit)=%{x}<extra></extra>",
           "legendgroup": "Hungary",
           "marker": {
            "color": "#FF6692",
            "pattern": {
             "shape": ""
            }
           },
           "name": "Hungary",
           "orientation": "h",
           "showlegend": true,
           "textposition": "auto",
           "type": "bar",
           "x": {
            "bdata": "AAAAAIDEzkA=",
            "dtype": "f8"
           },
           "xaxis": "x",
           "y": [
            "Hungary"
           ],
           "yaxis": "y"
          },
          {
           "hovertemplate": "Land=%{y}<br>year=1998<br>Produzierte Menge (nach Einheit)=%{x}<extra></extra>",
           "legendgroup": "Ireland",
           "marker": {
            "color": "#B6E880",
            "pattern": {
             "shape": ""
            }
           },
           "name": "Ireland",
           "orientation": "h",
           "showlegend": true,
           "textposition": "auto",
           "type": "bar",
           "x": {
            "bdata": "AAAAAACskEA=",
            "dtype": "f8"
           },
           "xaxis": "x",
           "y": [
            "Ireland"
           ],
           "yaxis": "y"
          },
          {
           "hovertemplate": "Land=%{y}<br>year=1998<br>Produzierte Menge (nach Einheit)=%{x}<extra></extra>",
           "legendgroup": "Italy",
           "marker": {
            "color": "#FF97FF",
            "pattern": {
             "shape": ""
            }
           },
           "name": "Italy",
           "orientation": "h",
           "showlegend": true,
           "textposition": "auto",
           "type": "bar",
           "x": {
            "bdata": "AAAAAACc60A=",
            "dtype": "f8"
           },
           "xaxis": "x",
           "y": [
            "Italy"
           ],
           "yaxis": "y"
          },
          {
           "hovertemplate": "Land=%{y}<br>year=1998<br>Produzierte Menge (nach Einheit)=%{x}<extra></extra>",
           "legendgroup": "Luxembourg",
           "marker": {
            "color": "#FECB52",
            "pattern": {
             "shape": ""
            }
           },
           "name": "Luxembourg",
           "orientation": "h",
           "showlegend": true,
           "textposition": "auto",
           "type": "bar",
           "x": {
            "bdata": "AAAAAACQkUA=",
            "dtype": "f8"
           },
           "xaxis": "x",
           "y": [
            "Luxembourg"
           ],
           "yaxis": "y"
          },
          {
           "hovertemplate": "Land=%{y}<br>year=1998<br>Produzierte Menge (nach Einheit)=%{x}<extra></extra>",
           "legendgroup": "Netherlands",
           "marker": {
            "color": "#636efa",
            "pattern": {
             "shape": ""
            }
           },
           "name": "Netherlands",
           "orientation": "h",
           "showlegend": true,
           "textposition": "auto",
           "type": "bar",
           "x": {
            "bdata": "AAAAAECA6kA=",
            "dtype": "f8"
           },
           "xaxis": "x",
           "y": [
            "Netherlands"
           ],
           "yaxis": "y"
          },
          {
           "hovertemplate": "Land=%{y}<br>year=1998<br>Produzierte Menge (nach Einheit)=%{x}<extra></extra>",
           "legendgroup": "Norway",
           "marker": {
            "color": "#EF553B",
            "pattern": {
             "shape": ""
            }
           },
           "name": "Norway",
           "orientation": "h",
           "showlegend": true,
           "textposition": "auto",
           "type": "bar",
           "x": {
            "bdata": "AAAAAADSuEA=",
            "dtype": "f8"
           },
           "xaxis": "x",
           "y": [
            "Norway"
           ],
           "yaxis": "y"
          },
          {
           "hovertemplate": "Land=%{y}<br>year=1998<br>Produzierte Menge (nach Einheit)=%{x}<extra></extra>",
           "legendgroup": "Poland",
           "marker": {
            "color": "#00cc96",
            "pattern": {
             "shape": ""
            }
           },
           "name": "Poland",
           "orientation": "h",
           "showlegend": true,
           "textposition": "auto",
           "type": "bar",
           "x": {
            "bdata": "AAAAAMDP2UA=",
            "dtype": "f8"
           },
           "xaxis": "x",
           "y": [
            "Poland"
           ],
           "yaxis": "y"
          },
          {
           "hovertemplate": "Land=%{y}<br>year=1998<br>Produzierte Menge (nach Einheit)=%{x}<extra></extra>",
           "legendgroup": "Portugal",
           "marker": {
            "color": "#ab63fa",
            "pattern": {
             "shape": ""
            }
           },
           "name": "Portugal",
           "orientation": "h",
           "showlegend": true,
           "textposition": "auto",
           "type": "bar",
           "x": {
            "bdata": "AAAAAECL3EA=",
            "dtype": "f8"
           },
           "xaxis": "x",
           "y": [
            "Portugal"
           ],
           "yaxis": "y"
          },
          {
           "hovertemplate": "Land=%{y}<br>year=1998<br>Produzierte Menge (nach Einheit)=%{x}<extra></extra>",
           "legendgroup": "Spain",
           "marker": {
            "color": "#FFA15A",
            "pattern": {
             "shape": ""
            }
           },
           "name": "Spain",
           "orientation": "h",
           "showlegend": true,
           "textposition": "auto",
           "type": "bar",
           "x": {
            "bdata": "AAAAAIA95UA=",
            "dtype": "f8"
           },
           "xaxis": "x",
           "y": [
            "Spain"
           ],
           "yaxis": "y"
          },
          {
           "hovertemplate": "Land=%{y}<br>year=1998<br>Produzierte Menge (nach Einheit)=%{x}<extra></extra>",
           "legendgroup": "Sweden",
           "marker": {
            "color": "#19d3f3",
            "pattern": {
             "shape": ""
            }
           },
           "name": "Sweden",
           "orientation": "h",
           "showlegend": true,
           "textposition": "auto",
           "type": "bar",
           "x": {
            "bdata": "AAAAAKDX4EA=",
            "dtype": "f8"
           },
           "xaxis": "x",
           "y": [
            "Sweden"
           ],
           "yaxis": "y"
          },
          {
           "hovertemplate": "Land=%{y}<br>year=1998<br>Produzierte Menge (nach Einheit)=%{x}<extra></extra>",
           "legendgroup": "Switzerland",
           "marker": {
            "color": "#FF6692",
            "pattern": {
             "shape": ""
            }
           },
           "name": "Switzerland",
           "orientation": "h",
           "showlegend": true,
           "textposition": "auto",
           "type": "bar",
           "x": {
            "bdata": "AAAAAED93EA=",
            "dtype": "f8"
           },
           "xaxis": "x",
           "y": [
            "Switzerland"
           ],
           "yaxis": "y"
          },
          {
           "hovertemplate": "Land=%{y}<br>year=1998<br>Produzierte Menge (nach Einheit)=%{x}<extra></extra>",
           "legendgroup": "United Kingdom",
           "marker": {
            "color": "#B6E880",
            "pattern": {
             "shape": ""
            }
           },
           "name": "United Kingdom",
           "orientation": "h",
           "showlegend": true,
           "textposition": "auto",
           "type": "bar",
           "x": {
            "bdata": "AAAAAECy5kA=",
            "dtype": "f8"
           },
           "xaxis": "x",
           "y": [
            "United Kingdom"
           ],
           "yaxis": "y"
          },
          {
           "hovertemplate": "Land=%{y}<br>year=1998<br>Produzierte Menge (nach Einheit)=%{x}<extra></extra>",
           "legendgroup": "Germany",
           "marker": {
            "color": "#FF97FF",
            "pattern": {
             "shape": ""
            }
           },
           "name": "Germany",
           "orientation": "h",
           "showlegend": true,
           "textposition": "auto",
           "type": "bar",
           "x": {
            "bdata": "AAAAABC/8UA=",
            "dtype": "f8"
           },
           "xaxis": "x",
           "y": [
            "Germany"
           ],
           "yaxis": "y"
          },
          {
           "hovertemplate": "Land=%{y}<br>year=1998<br>Produzierte Menge (nach Einheit)=%{x}<extra></extra>",
           "legendgroup": "Belarus",
           "marker": {
            "color": "#FECB52",
            "pattern": {
             "shape": ""
            }
           },
           "name": "Belarus",
           "orientation": "h",
           "showlegend": true,
           "textposition": "auto",
           "type": "bar",
           "x": {
            "bdata": "AAAAAADgcEA=",
            "dtype": "f8"
           },
           "xaxis": "x",
           "y": [
            "Belarus"
           ],
           "yaxis": "y"
          },
          {
           "hovertemplate": "Land=%{y}<br>year=1998<br>Produzierte Menge (nach Einheit)=%{x}<extra></extra>",
           "legendgroup": "Croatia",
           "marker": {
            "color": "#636efa",
            "pattern": {
             "shape": ""
            }
           },
           "name": "Croatia",
           "orientation": "h",
           "showlegend": true,
           "textposition": "auto",
           "type": "bar",
           "x": {
            "bdata": "AAAAAAAAAAA=",
            "dtype": "f8"
           },
           "xaxis": "x",
           "y": [
            "Croatia"
           ],
           "yaxis": "y"
          },
          {
           "hovertemplate": "Land=%{y}<br>year=1998<br>Produzierte Menge (nach Einheit)=%{x}<extra></extra>",
           "legendgroup": "Czech Republic",
           "marker": {
            "color": "#EF553B",
            "pattern": {
             "shape": ""
            }
           },
           "name": "Czech Republic",
           "orientation": "h",
           "showlegend": true,
           "textposition": "auto",
           "type": "bar",
           "x": {
            "bdata": "AAAAAACgnUA=",
            "dtype": "f8"
           },
           "xaxis": "x",
           "y": [
            "Czech Republic"
           ],
           "yaxis": "y"
          },
          {
           "hovertemplate": "Land=%{y}<br>year=1998<br>Produzierte Menge (nach Einheit)=%{x}<extra></extra>",
           "legendgroup": "Estonia",
           "marker": {
            "color": "#00cc96",
            "pattern": {
             "shape": ""
            }
           },
           "name": "Estonia",
           "orientation": "h",
           "showlegend": true,
           "textposition": "auto",
           "type": "bar",
           "x": {
            "bdata": "AAAAAACAUUA=",
            "dtype": "f8"
           },
           "xaxis": "x",
           "y": [
            "Estonia"
           ],
           "yaxis": "y"
          },
          {
           "hovertemplate": "Land=%{y}<br>year=1998<br>Produzierte Menge (nach Einheit)=%{x}<extra></extra>",
           "legendgroup": "Latvia",
           "marker": {
            "color": "#ab63fa",
            "pattern": {
             "shape": ""
            }
           },
           "name": "Latvia",
           "orientation": "h",
           "showlegend": true,
           "textposition": "auto",
           "type": "bar",
           "x": {
            "bdata": "AAAAAAAjuEA=",
            "dtype": "f8"
           },
           "xaxis": "x",
           "y": [
            "Latvia"
           ],
           "yaxis": "y"
          },
          {
           "hovertemplate": "Land=%{y}<br>year=1998<br>Produzierte Menge (nach Einheit)=%{x}<extra></extra>",
           "legendgroup": "Lithuania",
           "marker": {
            "color": "#FFA15A",
            "pattern": {
             "shape": ""
            }
           },
           "name": "Lithuania",
           "orientation": "h",
           "showlegend": true,
           "textposition": "auto",
           "type": "bar",
           "x": {
            "bdata": "AAAAAADVwkA=",
            "dtype": "f8"
           },
           "xaxis": "x",
           "y": [
            "Lithuania"
           ],
           "yaxis": "y"
          },
          {
           "hovertemplate": "Land=%{y}<br>year=1998<br>Produzierte Menge (nach Einheit)=%{x}<extra></extra>",
           "legendgroup": "Iceland",
           "marker": {
            "color": "#FF6692",
            "pattern": {
             "shape": ""
            }
           },
           "name": "Iceland",
           "orientation": "h",
           "showlegend": true,
           "textposition": "auto",
           "type": "bar",
           "x": {
            "bdata": "AAAAAACARkA=",
            "dtype": "f8"
           },
           "xaxis": "x",
           "y": [
            "Iceland"
           ],
           "yaxis": "y"
          }
         ],
         "name": "1998"
        },
        {
         "data": [
          {
           "hovertemplate": "Land=%{y}<br>year=1999<br>Produzierte Menge (nach Einheit)=%{x}<extra></extra>",
           "legendgroup": "Austria",
           "marker": {
            "color": "#636efa",
            "pattern": {
             "shape": ""
            }
           },
           "name": "Austria",
           "orientation": "h",
           "showlegend": true,
           "textposition": "auto",
           "type": "bar",
           "x": {
            "bdata": "AAAAAICew0A=",
            "dtype": "f8"
           },
           "xaxis": "x",
           "y": [
            "Austria"
           ],
           "yaxis": "y"
          },
          {
           "hovertemplate": "Land=%{y}<br>year=1999<br>Produzierte Menge (nach Einheit)=%{x}<extra></extra>",
           "legendgroup": "Belgium",
           "marker": {
            "color": "#EF553B",
            "pattern": {
             "shape": ""
            }
           },
           "name": "Belgium",
           "orientation": "h",
           "showlegend": true,
           "textposition": "auto",
           "type": "bar",
           "x": {
            "bdata": "AAAAAADcz0A=",
            "dtype": "f8"
           },
           "xaxis": "x",
           "y": [
            "Belgium"
           ],
           "yaxis": "y"
          },
          {
           "hovertemplate": "Land=%{y}<br>year=1999<br>Produzierte Menge (nach Einheit)=%{x}<extra></extra>",
           "legendgroup": "Denmark",
           "marker": {
            "color": "#00cc96",
            "pattern": {
             "shape": ""
            }
           },
           "name": "Denmark",
           "orientation": "h",
           "showlegend": true,
           "textposition": "auto",
           "type": "bar",
           "x": {
            "bdata": "AAAAACA25kA=",
            "dtype": "f8"
           },
           "xaxis": "x",
           "y": [
            "Denmark"
           ],
           "yaxis": "y"
          },
          {
           "hovertemplate": "Land=%{y}<br>year=1999<br>Produzierte Menge (nach Einheit)=%{x}<extra></extra>",
           "legendgroup": "Finland",
           "marker": {
            "color": "#ab63fa",
            "pattern": {
             "shape": ""
            }
           },
           "name": "Finland",
           "orientation": "h",
           "showlegend": true,
           "textposition": "auto",
           "type": "bar",
           "x": {
            "bdata": "AAAAAACElUA=",
            "dtype": "f8"
           },
           "xaxis": "x",
           "y": [
            "Finland"
           ],
           "yaxis": "y"
          },
          {
           "hovertemplate": "Land=%{y}<br>year=1999<br>Produzierte Menge (nach Einheit)=%{x}<extra></extra>",
           "legendgroup": "France",
           "marker": {
            "color": "#FFA15A",
            "pattern": {
             "shape": ""
            }
           },
           "name": "France",
           "orientation": "h",
           "showlegend": true,
           "textposition": "auto",
           "type": "bar",
           "x": {
            "bdata": "AAAAAKAT9EA=",
            "dtype": "f8"
           },
           "xaxis": "x",
           "y": [
            "France"
           ],
           "yaxis": "y"
          },
          {
           "hovertemplate": "Land=%{y}<br>year=1999<br>Produzierte Menge (nach Einheit)=%{x}<extra></extra>",
           "legendgroup": "Greece",
           "marker": {
            "color": "#19d3f3",
            "pattern": {
             "shape": ""
            }
           },
           "name": "Greece",
           "orientation": "h",
           "showlegend": true,
           "textposition": "auto",
           "type": "bar",
           "x": {
            "bdata": "AAAAAADKwkA=",
            "dtype": "f8"
           },
           "xaxis": "x",
           "y": [
            "Greece"
           ],
           "yaxis": "y"
          },
          {
           "hovertemplate": "Land=%{y}<br>year=1999<br>Produzierte Menge (nach Einheit)=%{x}<extra></extra>",
           "legendgroup": "Hungary",
           "marker": {
            "color": "#FF6692",
            "pattern": {
             "shape": ""
            }
           },
           "name": "Hungary",
           "orientation": "h",
           "showlegend": true,
           "textposition": "auto",
           "type": "bar",
           "x": {
            "bdata": "AAAAAADqo0A=",
            "dtype": "f8"
           },
           "xaxis": "x",
           "y": [
            "Hungary"
           ],
           "yaxis": "y"
          },
          {
           "hovertemplate": "Land=%{y}<br>year=1999<br>Produzierte Menge (nach Einheit)=%{x}<extra></extra>",
           "legendgroup": "Ireland",
           "marker": {
            "color": "#B6E880",
            "pattern": {
             "shape": ""
            }
           },
           "name": "Ireland",
           "orientation": "h",
           "showlegend": true,
           "textposition": "auto",
           "type": "bar",
           "x": {
            "bdata": "AAAAAAD0kUA=",
            "dtype": "f8"
           },
           "xaxis": "x",
           "y": [
            "Ireland"
           ],
           "yaxis": "y"
          },
          {
           "hovertemplate": "Land=%{y}<br>year=1999<br>Produzierte Menge (nach Einheit)=%{x}<extra></extra>",
           "legendgroup": "Italy",
           "marker": {
            "color": "#FF97FF",
            "pattern": {
             "shape": ""
            }
           },
           "name": "Italy",
           "orientation": "h",
           "showlegend": true,
           "textposition": "auto",
           "type": "bar",
           "x": {
            "bdata": "AAAAAIBg1UA=",
            "dtype": "f8"
           },
           "xaxis": "x",
           "y": [
            "Italy"
           ],
           "yaxis": "y"
          },
          {
           "hovertemplate": "Land=%{y}<br>year=1999<br>Produzierte Menge (nach Einheit)=%{x}<extra></extra>",
           "legendgroup": "Luxembourg",
           "marker": {
            "color": "#FECB52",
            "pattern": {
             "shape": ""
            }
           },
           "name": "Luxembourg",
           "orientation": "h",
           "showlegend": true,
           "textposition": "auto",
           "type": "bar",
           "x": {
            "bdata": "AAAAAAAUk0A=",
            "dtype": "f8"
           },
           "xaxis": "x",
           "y": [
            "Luxembourg"
           ],
           "yaxis": "y"
          },
          {
           "hovertemplate": "Land=%{y}<br>year=1999<br>Produzierte Menge (nach Einheit)=%{x}<extra></extra>",
           "legendgroup": "Netherlands",
           "marker": {
            "color": "#636efa",
            "pattern": {
             "shape": ""
            }
           },
           "name": "Netherlands",
           "orientation": "h",
           "showlegend": true,
           "textposition": "auto",
           "type": "bar",
           "x": {
            "bdata": "AAAAACAj7EA=",
            "dtype": "f8"
           },
           "xaxis": "x",
           "y": [
            "Netherlands"
           ],
           "yaxis": "y"
          },
          {
           "hovertemplate": "Land=%{y}<br>year=1999<br>Produzierte Menge (nach Einheit)=%{x}<extra></extra>",
           "legendgroup": "Norway",
           "marker": {
            "color": "#EF553B",
            "pattern": {
             "shape": ""
            }
           },
           "name": "Norway",
           "orientation": "h",
           "showlegend": true,
           "textposition": "auto",
           "type": "bar",
           "x": {
            "bdata": "AAAAAACDukA=",
            "dtype": "f8"
           },
           "xaxis": "x",
           "y": [
            "Norway"
           ],
           "yaxis": "y"
          },
          {
           "hovertemplate": "Land=%{y}<br>year=1999<br>Produzierte Menge (nach Einheit)=%{x}<extra></extra>",
           "legendgroup": "Poland",
           "marker": {
            "color": "#00cc96",
            "pattern": {
             "shape": ""
            }
           },
           "name": "Poland",
           "orientation": "h",
           "showlegend": true,
           "textposition": "auto",
           "type": "bar",
           "x": {
            "bdata": "AAAAAMC72kA=",
            "dtype": "f8"
           },
           "xaxis": "x",
           "y": [
            "Poland"
           ],
           "yaxis": "y"
          },
          {
           "hovertemplate": "Land=%{y}<br>year=1999<br>Produzierte Menge (nach Einheit)=%{x}<extra></extra>",
           "legendgroup": "Portugal",
           "marker": {
            "color": "#ab63fa",
            "pattern": {
             "shape": ""
            }
           },
           "name": "Portugal",
           "orientation": "h",
           "showlegend": true,
           "textposition": "auto",
           "type": "bar",
           "x": {
            "bdata": "AAAAAECm30A=",
            "dtype": "f8"
           },
           "xaxis": "x",
           "y": [
            "Portugal"
           ],
           "yaxis": "y"
          },
          {
           "hovertemplate": "Land=%{y}<br>year=1999<br>Produzierte Menge (nach Einheit)=%{x}<extra></extra>",
           "legendgroup": "Spain",
           "marker": {
            "color": "#FFA15A",
            "pattern": {
             "shape": ""
            }
           },
           "name": "Spain",
           "orientation": "h",
           "showlegend": true,
           "textposition": "auto",
           "type": "bar",
           "x": {
            "bdata": "AAAAAIBB3UA=",
            "dtype": "f8"
           },
           "xaxis": "x",
           "y": [
            "Spain"
           ],
           "yaxis": "y"
          },
          {
           "hovertemplate": "Land=%{y}<br>year=1999<br>Produzierte Menge (nach Einheit)=%{x}<extra></extra>",
           "legendgroup": "Sweden",
           "marker": {
            "color": "#19d3f3",
            "pattern": {
             "shape": ""
            }
           },
           "name": "Sweden",
           "orientation": "h",
           "showlegend": true,
           "textposition": "auto",
           "type": "bar",
           "x": {
            "bdata": "AAAAAPDJ80A=",
            "dtype": "f8"
           },
           "xaxis": "x",
           "y": [
            "Sweden"
           ],
           "yaxis": "y"
          },
          {
           "hovertemplate": "Land=%{y}<br>year=1999<br>Produzierte Menge (nach Einheit)=%{x}<extra></extra>",
           "legendgroup": "Switzerland",
           "marker": {
            "color": "#FF6692",
            "pattern": {
             "shape": ""
            }
           },
           "name": "Switzerland",
           "orientation": "h",
           "showlegend": true,
           "textposition": "auto",
           "type": "bar",
           "x": {
            "bdata": "AAAAAEAq4UA=",
            "dtype": "f8"
           },
           "xaxis": "x",
           "y": [
            "Switzerland"
           ],
           "yaxis": "y"
          },
          {
           "hovertemplate": "Land=%{y}<br>year=1999<br>Produzierte Menge (nach Einheit)=%{x}<extra></extra>",
           "legendgroup": "United Kingdom",
           "marker": {
            "color": "#B6E880",
            "pattern": {
             "shape": ""
            }
           },
           "name": "United Kingdom",
           "orientation": "h",
           "showlegend": true,
           "textposition": "auto",
           "type": "bar",
           "x": {
            "bdata": "AAAAACDi6kA=",
            "dtype": "f8"
           },
           "xaxis": "x",
           "y": [
            "United Kingdom"
           ],
           "yaxis": "y"
          },
          {
           "hovertemplate": "Land=%{y}<br>year=1999<br>Produzierte Menge (nach Einheit)=%{x}<extra></extra>",
           "legendgroup": "Germany",
           "marker": {
            "color": "#FF97FF",
            "pattern": {
             "shape": ""
            }
           },
           "name": "Germany",
           "orientation": "h",
           "showlegend": true,
           "textposition": "auto",
           "type": "bar",
           "x": {
            "bdata": "AAAAAAADEEE=",
            "dtype": "f8"
           },
           "xaxis": "x",
           "y": [
            "Germany"
           ],
           "yaxis": "y"
          },
          {
           "hovertemplate": "Land=%{y}<br>year=1999<br>Produzierte Menge (nach Einheit)=%{x}<extra></extra>",
           "legendgroup": "Belarus",
           "marker": {
            "color": "#FECB52",
            "pattern": {
             "shape": ""
            }
           },
           "name": "Belarus",
           "orientation": "h",
           "showlegend": true,
           "textposition": "auto",
           "type": "bar",
           "x": {
            "bdata": "AAAAAAAQdEA=",
            "dtype": "f8"
           },
           "xaxis": "x",
           "y": [
            "Belarus"
           ],
           "yaxis": "y"
          },
          {
           "hovertemplate": "Land=%{y}<br>year=1999<br>Produzierte Menge (nach Einheit)=%{x}<extra></extra>",
           "legendgroup": "Croatia",
           "marker": {
            "color": "#636efa",
            "pattern": {
             "shape": ""
            }
           },
           "name": "Croatia",
           "orientation": "h",
           "showlegend": true,
           "textposition": "auto",
           "type": "bar",
           "x": {
            "bdata": "AAAAAAAAAAA=",
            "dtype": "f8"
           },
           "xaxis": "x",
           "y": [
            "Croatia"
           ],
           "yaxis": "y"
          },
          {
           "hovertemplate": "Land=%{y}<br>year=1999<br>Produzierte Menge (nach Einheit)=%{x}<extra></extra>",
           "legendgroup": "Czech Republic",
           "marker": {
            "color": "#EF553B",
            "pattern": {
             "shape": ""
            }
           },
           "name": "Czech Republic",
           "orientation": "h",
           "showlegend": true,
           "textposition": "auto",
           "type": "bar",
           "x": {
            "bdata": "AAAAAAAqs0A=",
            "dtype": "f8"
           },
           "xaxis": "x",
           "y": [
            "Czech Republic"
           ],
           "yaxis": "y"
          },
          {
           "hovertemplate": "Land=%{y}<br>year=1999<br>Produzierte Menge (nach Einheit)=%{x}<extra></extra>",
           "legendgroup": "Estonia",
           "marker": {
            "color": "#00cc96",
            "pattern": {
             "shape": ""
            }
           },
           "name": "Estonia",
           "orientation": "h",
           "showlegend": true,
           "textposition": "auto",
           "type": "bar",
           "x": {
            "bdata": "AAAAAAAAW0A=",
            "dtype": "f8"
           },
           "xaxis": "x",
           "y": [
            "Estonia"
           ],
           "yaxis": "y"
          },
          {
           "hovertemplate": "Land=%{y}<br>year=1999<br>Produzierte Menge (nach Einheit)=%{x}<extra></extra>",
           "legendgroup": "Latvia",
           "marker": {
            "color": "#ab63fa",
            "pattern": {
             "shape": ""
            }
           },
           "name": "Latvia",
           "orientation": "h",
           "showlegend": true,
           "textposition": "auto",
           "type": "bar",
           "x": {
            "bdata": "AAAAAAAAAAA=",
            "dtype": "f8"
           },
           "xaxis": "x",
           "y": [
            "Latvia"
           ],
           "yaxis": "y"
          },
          {
           "hovertemplate": "Land=%{y}<br>year=1999<br>Produzierte Menge (nach Einheit)=%{x}<extra></extra>",
           "legendgroup": "Lithuania",
           "marker": {
            "color": "#FFA15A",
            "pattern": {
             "shape": ""
            }
           },
           "name": "Lithuania",
           "orientation": "h",
           "showlegend": true,
           "textposition": "auto",
           "type": "bar",
           "x": {
            "bdata": "AAAAAABMxEA=",
            "dtype": "f8"
           },
           "xaxis": "x",
           "y": [
            "Lithuania"
           ],
           "yaxis": "y"
          },
          {
           "hovertemplate": "Land=%{y}<br>year=1999<br>Produzierte Menge (nach Einheit)=%{x}<extra></extra>",
           "legendgroup": "Iceland",
           "marker": {
            "color": "#FF6692",
            "pattern": {
             "shape": ""
            }
           },
           "name": "Iceland",
           "orientation": "h",
           "showlegend": true,
           "textposition": "auto",
           "type": "bar",
           "x": {
            "bdata": "AAAAAACARkA=",
            "dtype": "f8"
           },
           "xaxis": "x",
           "y": [
            "Iceland"
           ],
           "yaxis": "y"
          },
          {
           "hovertemplate": "Land=%{y}<br>year=1999<br>Produzierte Menge (nach Einheit)=%{x}<extra></extra>",
           "legendgroup": "Slovenia",
           "marker": {
            "color": "#B6E880",
            "pattern": {
             "shape": ""
            }
           },
           "name": "Slovenia",
           "orientation": "h",
           "showlegend": true,
           "textposition": "auto",
           "type": "bar",
           "x": {
            "bdata": "AAAAAAAAN0A=",
            "dtype": "f8"
           },
           "xaxis": "x",
           "y": [
            "Slovenia"
           ],
           "yaxis": "y"
          }
         ],
         "name": "1999"
        },
        {
         "data": [
          {
           "hovertemplate": "Land=%{y}<br>year=2000<br>Produzierte Menge (nach Einheit)=%{x}<extra></extra>",
           "legendgroup": "Austria",
           "marker": {
            "color": "#636efa",
            "pattern": {
             "shape": ""
            }
           },
           "name": "Austria",
           "orientation": "h",
           "showlegend": true,
           "textposition": "auto",
           "type": "bar",
           "x": {
            "bdata": "AAAAAAD2wUA=",
            "dtype": "f8"
           },
           "xaxis": "x",
           "y": [
            "Austria"
           ],
           "yaxis": "y"
          },
          {
           "hovertemplate": "Land=%{y}<br>year=2000<br>Produzierte Menge (nach Einheit)=%{x}<extra></extra>",
           "legendgroup": "Belgium",
           "marker": {
            "color": "#EF553B",
            "pattern": {
             "shape": ""
            }
           },
           "name": "Belgium",
           "orientation": "h",
           "showlegend": true,
           "textposition": "auto",
           "type": "bar",
           "x": {
            "bdata": "AAAAAIDU0UA=",
            "dtype": "f8"
           },
           "xaxis": "x",
           "y": [
            "Belgium"
           ],
           "yaxis": "y"
          },
          {
           "hovertemplate": "Land=%{y}<br>year=2000<br>Produzierte Menge (nach Einheit)=%{x}<extra></extra>",
           "legendgroup": "Denmark",
           "marker": {
            "color": "#00cc96",
            "pattern": {
             "shape": ""
            }
           },
           "name": "Denmark",
           "orientation": "h",
           "showlegend": true,
           "textposition": "auto",
           "type": "bar",
           "x": {
            "bdata": "AAAAAIBA5kA=",
            "dtype": "f8"
           },
           "xaxis": "x",
           "y": [
            "Denmark"
           ],
           "yaxis": "y"
          },
          {
           "hovertemplate": "Land=%{y}<br>year=2000<br>Produzierte Menge (nach Einheit)=%{x}<extra></extra>",
           "legendgroup": "Finland",
           "marker": {
            "color": "#ab63fa",
            "pattern": {
             "shape": ""
            }
           },
           "name": "Finland",
           "orientation": "h",
           "showlegend": true,
           "textposition": "auto",
           "type": "bar",
           "x": {
            "bdata": "AAAAAABrsUA=",
            "dtype": "f8"
           },
           "xaxis": "x",
           "y": [
            "Finland"
           ],
           "yaxis": "y"
          },
          {
           "hovertemplate": "Land=%{y}<br>year=2000<br>Produzierte Menge (nach Einheit)=%{x}<extra></extra>",
           "legendgroup": "France",
           "marker": {
            "color": "#FFA15A",
            "pattern": {
             "shape": ""
            }
           },
           "name": "France",
           "orientation": "h",
           "showlegend": true,
           "textposition": "auto",
           "type": "bar",
           "x": {
            "bdata": "AAAAADCh9UA=",
            "dtype": "f8"
           },
           "xaxis": "x",
           "y": [
            "France"
           ],
           "yaxis": "y"
          },
          {
           "hovertemplate": "Land=%{y}<br>year=2000<br>Produzierte Menge (nach Einheit)=%{x}<extra></extra>",
           "legendgroup": "Greece",
           "marker": {
            "color": "#19d3f3",
            "pattern": {
             "shape": ""
            }
           },
           "name": "Greece",
           "orientation": "h",
           "showlegend": true,
           "textposition": "auto",
           "type": "bar",
           "x": {
            "bdata": "AAAAAAB8w0A=",
            "dtype": "f8"
           },
           "xaxis": "x",
           "y": [
            "Greece"
           ],
           "yaxis": "y"
          },
          {
           "hovertemplate": "Land=%{y}<br>year=2000<br>Produzierte Menge (nach Einheit)=%{x}<extra></extra>",
           "legendgroup": "Hungary",
           "marker": {
            "color": "#FF6692",
            "pattern": {
             "shape": ""
            }
           },
           "name": "Hungary",
           "orientation": "h",
           "showlegend": true,
           "textposition": "auto",
           "type": "bar",
           "x": {
            "bdata": "AAAAAADqo0A=",
            "dtype": "f8"
           },
           "xaxis": "x",
           "y": [
            "Hungary"
           ],
           "yaxis": "y"
          },
          {
           "hovertemplate": "Land=%{y}<br>year=2000<br>Produzierte Menge (nach Einheit)=%{x}<extra></extra>",
           "legendgroup": "Ireland",
           "marker": {
            "color": "#B6E880",
            "pattern": {
             "shape": ""
            }
           },
           "name": "Ireland",
           "orientation": "h",
           "showlegend": true,
           "textposition": "auto",
           "type": "bar",
           "x": {
            "bdata": "AAAAAABAkkA=",
            "dtype": "f8"
           },
           "xaxis": "x",
           "y": [
            "Ireland"
           ],
           "yaxis": "y"
          },
          {
           "hovertemplate": "Land=%{y}<br>year=2000<br>Produzierte Menge (nach Einheit)=%{x}<extra></extra>",
           "legendgroup": "Italy",
           "marker": {
            "color": "#FF97FF",
            "pattern": {
             "shape": ""
            }
           },
           "name": "Italy",
           "orientation": "h",
           "showlegend": true,
           "textposition": "auto",
           "type": "bar",
           "x": {
            "bdata": "AAAAAAAC00A=",
            "dtype": "f8"
           },
           "xaxis": "x",
           "y": [
            "Italy"
           ],
           "yaxis": "y"
          },
          {
           "hovertemplate": "Land=%{y}<br>year=2000<br>Produzierte Menge (nach Einheit)=%{x}<extra></extra>",
           "legendgroup": "Luxembourg",
           "marker": {
            "color": "#FECB52",
            "pattern": {
             "shape": ""
            }
           },
           "name": "Luxembourg",
           "orientation": "h",
           "showlegend": true,
           "textposition": "auto",
           "type": "bar",
           "x": {
            "bdata": "AAAAAAAAk0A=",
            "dtype": "f8"
           },
           "xaxis": "x",
           "y": [
            "Luxembourg"
           ],
           "yaxis": "y"
          },
          {
           "hovertemplate": "Land=%{y}<br>year=2000<br>Produzierte Menge (nach Einheit)=%{x}<extra></extra>",
           "legendgroup": "Netherlands",
           "marker": {
            "color": "#636efa",
            "pattern": {
             "shape": ""
            }
           },
           "name": "Netherlands",
           "orientation": "h",
           "showlegend": true,
           "textposition": "auto",
           "type": "bar",
           "x": {
            "bdata": "AAAAAOCw7EA=",
            "dtype": "f8"
           },
           "xaxis": "x",
           "y": [
            "Netherlands"
           ],
           "yaxis": "y"
          },
          {
           "hovertemplate": "Land=%{y}<br>year=2000<br>Produzierte Menge (nach Einheit)=%{x}<extra></extra>",
           "legendgroup": "Norway",
           "marker": {
            "color": "#EF553B",
            "pattern": {
             "shape": ""
            }
           },
           "name": "Norway",
           "orientation": "h",
           "showlegend": true,
           "textposition": "auto",
           "type": "bar",
           "x": {
            "bdata": "AAAAAAA4uUA=",
            "dtype": "f8"
           },
           "xaxis": "x",
           "y": [
            "Norway"
           ],
           "yaxis": "y"
          },
          {
           "hovertemplate": "Land=%{y}<br>year=2000<br>Produzierte Menge (nach Einheit)=%{x}<extra></extra>",
           "legendgroup": "Poland",
           "marker": {
            "color": "#00cc96",
            "pattern": {
             "shape": ""
            }
           },
           "name": "Poland",
           "orientation": "h",
           "showlegend": true,
           "textposition": "auto",
           "type": "bar",
           "x": {
            "bdata": "AAAAAACZ20A=",
            "dtype": "f8"
           },
           "xaxis": "x",
           "y": [
            "Poland"
           ],
           "yaxis": "y"
          },
          {
           "hovertemplate": "Land=%{y}<br>year=2000<br>Produzierte Menge (nach Einheit)=%{x}<extra></extra>",
           "legendgroup": "Portugal",
           "marker": {
            "color": "#ab63fa",
            "pattern": {
             "shape": ""
            }
           },
           "name": "Portugal",
           "orientation": "h",
           "showlegend": true,
           "textposition": "auto",
           "type": "bar",
           "x": {
            "bdata": "AAAAAKDT4UA=",
            "dtype": "f8"
           },
           "xaxis": "x",
           "y": [
            "Portugal"
           ],
           "yaxis": "y"
          },
          {
           "hovertemplate": "Land=%{y}<br>year=2000<br>Produzierte Menge (nach Einheit)=%{x}<extra></extra>",
           "legendgroup": "Spain",
           "marker": {
            "color": "#FFA15A",
            "pattern": {
             "shape": ""
            }
           },
           "name": "Spain",
           "orientation": "h",
           "showlegend": true,
           "textposition": "auto",
           "type": "bar",
           "x": {
            "bdata": "AAAAAAAg10A=",
            "dtype": "f8"
           },
           "xaxis": "x",
           "y": [
            "Spain"
           ],
           "yaxis": "y"
          },
          {
           "hovertemplate": "Land=%{y}<br>year=2000<br>Produzierte Menge (nach Einheit)=%{x}<extra></extra>",
           "legendgroup": "Sweden",
           "marker": {
            "color": "#19d3f3",
            "pattern": {
             "shape": ""
            }
           },
           "name": "Sweden",
           "orientation": "h",
           "showlegend": true,
           "textposition": "auto",
           "type": "bar",
           "x": {
            "bdata": "AAAAAKDo50A=",
            "dtype": "f8"
           },
           "xaxis": "x",
           "y": [
            "Sweden"
           ],
           "yaxis": "y"
          },
          {
           "hovertemplate": "Land=%{y}<br>year=2000<br>Produzierte Menge (nach Einheit)=%{x}<extra></extra>",
           "legendgroup": "Switzerland",
           "marker": {
            "color": "#FF6692",
            "pattern": {
             "shape": ""
            }
           },
           "name": "Switzerland",
           "orientation": "h",
           "showlegend": true,
           "textposition": "auto",
           "type": "bar",
           "x": {
            "bdata": "AAAAAIBZ4kA=",
            "dtype": "f8"
           },
           "xaxis": "x",
           "y": [
            "Switzerland"
           ],
           "yaxis": "y"
          },
          {
           "hovertemplate": "Land=%{y}<br>year=2000<br>Produzierte Menge (nach Einheit)=%{x}<extra></extra>",
           "legendgroup": "United Kingdom",
           "marker": {
            "color": "#B6E880",
            "pattern": {
             "shape": ""
            }
           },
           "name": "United Kingdom",
           "orientation": "h",
           "showlegend": true,
           "textposition": "auto",
           "type": "bar",
           "x": {
            "bdata": "AAAAAGAZ70A=",
            "dtype": "f8"
           },
           "xaxis": "x",
           "y": [
            "United Kingdom"
           ],
           "yaxis": "y"
          },
          {
           "hovertemplate": "Land=%{y}<br>year=2000<br>Produzierte Menge (nach Einheit)=%{x}<extra></extra>",
           "legendgroup": "Germany",
           "marker": {
            "color": "#FF97FF",
            "pattern": {
             "shape": ""
            }
           },
           "name": "Germany",
           "orientation": "h",
           "showlegend": true,
           "textposition": "auto",
           "type": "bar",
           "x": {
            "bdata": "AAAAAMzoEEE=",
            "dtype": "f8"
           },
           "xaxis": "x",
           "y": [
            "Germany"
           ],
           "yaxis": "y"
          },
          {
           "hovertemplate": "Land=%{y}<br>year=2000<br>Produzierte Menge (nach Einheit)=%{x}<extra></extra>",
           "legendgroup": "Belarus",
           "marker": {
            "color": "#FECB52",
            "pattern": {
             "shape": ""
            }
           },
           "name": "Belarus",
           "orientation": "h",
           "showlegend": true,
           "textposition": "auto",
           "type": "bar",
           "x": {
            "bdata": "AAAAAACAfUA=",
            "dtype": "f8"
           },
           "xaxis": "x",
           "y": [
            "Belarus"
           ],
           "yaxis": "y"
          },
          {
           "hovertemplate": "Land=%{y}<br>year=2000<br>Produzierte Menge (nach Einheit)=%{x}<extra></extra>",
           "legendgroup": "Croatia",
           "marker": {
            "color": "#636efa",
            "pattern": {
             "shape": ""
            }
           },
           "name": "Croatia",
           "orientation": "h",
           "showlegend": true,
           "textposition": "auto",
           "type": "bar",
           "x": {
            "bdata": "AAAAAAAAAAA=",
            "dtype": "f8"
           },
           "xaxis": "x",
           "y": [
            "Croatia"
           ],
           "yaxis": "y"
          },
          {
           "hovertemplate": "Land=%{y}<br>year=2000<br>Produzierte Menge (nach Einheit)=%{x}<extra></extra>",
           "legendgroup": "Czech Republic",
           "marker": {
            "color": "#EF553B",
            "pattern": {
             "shape": ""
            }
           },
           "name": "Czech Republic",
           "orientation": "h",
           "showlegend": true,
           "textposition": "auto",
           "type": "bar",
           "x": {
            "bdata": "AAAAAACgtEA=",
            "dtype": "f8"
           },
           "xaxis": "x",
           "y": [
            "Czech Republic"
           ],
           "yaxis": "y"
          },
          {
           "hovertemplate": "Land=%{y}<br>year=2000<br>Produzierte Menge (nach Einheit)=%{x}<extra></extra>",
           "legendgroup": "Estonia",
           "marker": {
            "color": "#00cc96",
            "pattern": {
             "shape": ""
            }
           },
           "name": "Estonia",
           "orientation": "h",
           "showlegend": true,
           "textposition": "auto",
           "type": "bar",
           "x": {
            "bdata": "AAAAAAAAU0A=",
            "dtype": "f8"
           },
           "xaxis": "x",
           "y": [
            "Estonia"
           ],
           "yaxis": "y"
          },
          {
           "hovertemplate": "Land=%{y}<br>year=2000<br>Produzierte Menge (nach Einheit)=%{x}<extra></extra>",
           "legendgroup": "Latvia",
           "marker": {
            "color": "#ab63fa",
            "pattern": {
             "shape": ""
            }
           },
           "name": "Latvia",
           "orientation": "h",
           "showlegend": true,
           "textposition": "auto",
           "type": "bar",
           "x": {
            "bdata": "AAAAAAAAAAA=",
            "dtype": "f8"
           },
           "xaxis": "x",
           "y": [
            "Latvia"
           ],
           "yaxis": "y"
          },
          {
           "hovertemplate": "Land=%{y}<br>year=2000<br>Produzierte Menge (nach Einheit)=%{x}<extra></extra>",
           "legendgroup": "Lithuania",
           "marker": {
            "color": "#FFA15A",
            "pattern": {
             "shape": ""
            }
           },
           "name": "Lithuania",
           "orientation": "h",
           "showlegend": true,
           "textposition": "auto",
           "type": "bar",
           "x": {
            "bdata": "AAAAAAB/xEA=",
            "dtype": "f8"
           },
           "xaxis": "x",
           "y": [
            "Lithuania"
           ],
           "yaxis": "y"
          },
          {
           "hovertemplate": "Land=%{y}<br>year=2000<br>Produzierte Menge (nach Einheit)=%{x}<extra></extra>",
           "legendgroup": "Iceland",
           "marker": {
            "color": "#FF6692",
            "pattern": {
             "shape": ""
            }
           },
           "name": "Iceland",
           "orientation": "h",
           "showlegend": true,
           "textposition": "auto",
           "type": "bar",
           "x": {
            "bdata": "AAAAAAAATEA=",
            "dtype": "f8"
           },
           "xaxis": "x",
           "y": [
            "Iceland"
           ],
           "yaxis": "y"
          },
          {
           "hovertemplate": "Land=%{y}<br>year=2000<br>Produzierte Menge (nach Einheit)=%{x}<extra></extra>",
           "legendgroup": "Slovenia",
           "marker": {
            "color": "#B6E880",
            "pattern": {
             "shape": ""
            }
           },
           "name": "Slovenia",
           "orientation": "h",
           "showlegend": true,
           "textposition": "auto",
           "type": "bar",
           "x": {
            "bdata": "AAAAAAAAY0A=",
            "dtype": "f8"
           },
           "xaxis": "x",
           "y": [
            "Slovenia"
           ],
           "yaxis": "y"
          },
          {
           "hovertemplate": "Land=%{y}<br>year=2000<br>Produzierte Menge (nach Einheit)=%{x}<extra></extra>",
           "legendgroup": "Cyprus",
           "marker": {
            "color": "#FF97FF",
            "pattern": {
             "shape": ""
            }
           },
           "name": "Cyprus",
           "orientation": "h",
           "showlegend": true,
           "textposition": "auto",
           "type": "bar",
           "x": {
            "bdata": "AAAAAACAREA=",
            "dtype": "f8"
           },
           "xaxis": "x",
           "y": [
            "Cyprus"
           ],
           "yaxis": "y"
          }
         ],
         "name": "2000"
        },
        {
         "data": [
          {
           "hovertemplate": "Land=%{y}<br>year=2001<br>Produzierte Menge (nach Einheit)=%{x}<extra></extra>",
           "legendgroup": "Austria",
           "marker": {
            "color": "#636efa",
            "pattern": {
             "shape": ""
            }
           },
           "name": "Austria",
           "orientation": "h",
           "showlegend": true,
           "textposition": "auto",
           "type": "bar",
           "x": {
            "bdata": "AAAAAIANyEA=",
            "dtype": "f8"
           },
           "xaxis": "x",
           "y": [
            "Austria"
           ],
           "yaxis": "y"
          },
          {
           "hovertemplate": "Land=%{y}<br>year=2001<br>Produzierte Menge (nach Einheit)=%{x}<extra></extra>",
           "legendgroup": "Belgium",
           "marker": {
            "color": "#EF553B",
            "pattern": {
             "shape": ""
            }
           },
           "name": "Belgium",
           "orientation": "h",
           "showlegend": true,
           "textposition": "auto",
           "type": "bar",
           "x": {
            "bdata": "AAAAAICh1EA=",
            "dtype": "f8"
           },
           "xaxis": "x",
           "y": [
            "Belgium"
           ],
           "yaxis": "y"
          },
          {
           "hovertemplate": "Land=%{y}<br>year=2001<br>Produzierte Menge (nach Einheit)=%{x}<extra></extra>",
           "legendgroup": "Denmark",
           "marker": {
            "color": "#00cc96",
            "pattern": {
             "shape": ""
            }
           },
           "name": "Denmark",
           "orientation": "h",
           "showlegend": true,
           "textposition": "auto",
           "type": "bar",
           "x": {
            "bdata": "AAAAAGAF6EA=",
            "dtype": "f8"
           },
           "xaxis": "x",
           "y": [
            "Denmark"
           ],
           "yaxis": "y"
          },
          {
           "hovertemplate": "Land=%{y}<br>year=2001<br>Produzierte Menge (nach Einheit)=%{x}<extra></extra>",
           "legendgroup": "Finland",
           "marker": {
            "color": "#ab63fa",
            "pattern": {
             "shape": ""
            }
           },
           "name": "Finland",
           "orientation": "h",
           "showlegend": true,
           "textposition": "auto",
           "type": "bar",
           "x": {
            "bdata": "AAAAAADLtEA=",
            "dtype": "f8"
           },
           "xaxis": "x",
           "y": [
            "Finland"
           ],
           "yaxis": "y"
          },
          {
           "hovertemplate": "Land=%{y}<br>year=2001<br>Produzierte Menge (nach Einheit)=%{x}<extra></extra>",
           "legendgroup": "France",
           "marker": {
            "color": "#FFA15A",
            "pattern": {
             "shape": ""
            }
           },
           "name": "France",
           "orientation": "h",
           "showlegend": true,
           "textposition": "auto",
           "type": "bar",
           "x": {
            "bdata": "AAAAAACQ9kA=",
            "dtype": "f8"
           },
           "xaxis": "x",
           "y": [
            "France"
           ],
           "yaxis": "y"
          },
          {
           "hovertemplate": "Land=%{y}<br>year=2001<br>Produzierte Menge (nach Einheit)=%{x}<extra></extra>",
           "legendgroup": "Greece",
           "marker": {
            "color": "#19d3f3",
            "pattern": {
             "shape": ""
            }
           },
           "name": "Greece",
           "orientation": "h",
           "showlegend": true,
           "textposition": "auto",
           "type": "bar",
           "x": {
            "bdata": "AAAAAADrxUA=",
            "dtype": "f8"
           },
           "xaxis": "x",
           "y": [
            "Greece"
           ],
           "yaxis": "y"
          },
          {
           "hovertemplate": "Land=%{y}<br>year=2001<br>Produzierte Menge (nach Einheit)=%{x}<extra></extra>",
           "legendgroup": "Hungary",
           "marker": {
            "color": "#FF6692",
            "pattern": {
             "shape": ""
            }
           },
           "name": "Hungary",
           "orientation": "h",
           "showlegend": true,
           "textposition": "auto",
           "type": "bar",
           "x": {
            "bdata": "AAAAAADgpUA=",
            "dtype": "f8"
           },
           "xaxis": "x",
           "y": [
            "Hungary"
           ],
           "yaxis": "y"
          },
          {
           "hovertemplate": "Land=%{y}<br>year=2001<br>Produzierte Menge (nach Einheit)=%{x}<extra></extra>",
           "legendgroup": "Ireland",
           "marker": {
            "color": "#B6E880",
            "pattern": {
             "shape": ""
            }
           },
           "name": "Ireland",
           "orientation": "h",
           "showlegend": true,
           "textposition": "auto",
           "type": "bar",
           "x": {
            "bdata": "AAAAAACEkkA=",
            "dtype": "f8"
           },
           "xaxis": "x",
           "y": [
            "Ireland"
           ],
           "yaxis": "y"
          },
          {
           "hovertemplate": "Land=%{y}<br>year=2001<br>Produzierte Menge (nach Einheit)=%{x}<extra></extra>",
           "legendgroup": "Italy",
           "marker": {
            "color": "#FF97FF",
            "pattern": {
             "shape": ""
            }
           },
           "name": "Italy",
           "orientation": "h",
           "showlegend": true,
           "textposition": "auto",
           "type": "bar",
           "x": {
            "bdata": "AAAAAMCr1kA=",
            "dtype": "f8"
           },
           "xaxis": "x",
           "y": [
            "Italy"
           ],
           "yaxis": "y"
          },
          {
           "hovertemplate": "Land=%{y}<br>year=2001<br>Produzierte Menge (nach Einheit)=%{x}<extra></extra>",
           "legendgroup": "Luxembourg",
           "marker": {
            "color": "#FECB52",
            "pattern": {
             "shape": ""
            }
           },
           "name": "Luxembourg",
           "orientation": "h",
           "showlegend": true,
           "textposition": "auto",
           "type": "bar",
           "x": {
            "bdata": "AAAAAABAk0A=",
            "dtype": "f8"
           },
           "xaxis": "x",
           "y": [
            "Luxembourg"
           ],
           "yaxis": "y"
          },
          {
           "hovertemplate": "Land=%{y}<br>year=2001<br>Produzierte Menge (nach Einheit)=%{x}<extra></extra>",
           "legendgroup": "Netherlands",
           "marker": {
            "color": "#636efa",
            "pattern": {
             "shape": ""
            }
           },
           "name": "Netherlands",
           "orientation": "h",
           "showlegend": true,
           "textposition": "auto",
           "type": "bar",
           "x": {
            "bdata": "AAAAAMAa7kA=",
            "dtype": "f8"
           },
           "xaxis": "x",
           "y": [
            "Netherlands"
           ],
           "yaxis": "y"
          },
          {
           "hovertemplate": "Land=%{y}<br>year=2001<br>Produzierte Menge (nach Einheit)=%{x}<extra></extra>",
           "legendgroup": "Norway",
           "marker": {
            "color": "#EF553B",
            "pattern": {
             "shape": ""
            }
           },
           "name": "Norway",
           "orientation": "h",
           "showlegend": true,
           "textposition": "auto",
           "type": "bar",
           "x": {
            "bdata": "AAAAAAAcvEA=",
            "dtype": "f8"
           },
           "xaxis": "x",
           "y": [
            "Norway"
           ],
           "yaxis": "y"
          },
          {
           "hovertemplate": "Land=%{y}<br>year=2001<br>Produzierte Menge (nach Einheit)=%{x}<extra></extra>",
           "legendgroup": "Poland",
           "marker": {
            "color": "#00cc96",
            "pattern": {
             "shape": ""
            }
           },
           "name": "Poland",
           "orientation": "h",
           "showlegend": true,
           "textposition": "auto",
           "type": "bar",
           "x": {
            "bdata": "AAAAAICe3UA=",
            "dtype": "f8"
           },
           "xaxis": "x",
           "y": [
            "Poland"
           ],
           "yaxis": "y"
          },
          {
           "hovertemplate": "Land=%{y}<br>year=2001<br>Produzierte Menge (nach Einheit)=%{x}<extra></extra>",
           "legendgroup": "Portugal",
           "marker": {
            "color": "#ab63fa",
            "pattern": {
             "shape": ""
            }
           },
           "name": "Portugal",
           "orientation": "h",
           "showlegend": true,
           "textposition": "auto",
           "type": "bar",
           "x": {
            "bdata": "AAAAAICE4UA=",
            "dtype": "f8"
           },
           "xaxis": "x",
           "y": [
            "Portugal"
           ],
           "yaxis": "y"
          },
          {
           "hovertemplate": "Land=%{y}<br>year=2001<br>Produzierte Menge (nach Einheit)=%{x}<extra></extra>",
           "legendgroup": "Spain",
           "marker": {
            "color": "#FFA15A",
            "pattern": {
             "shape": ""
            }
           },
           "name": "Spain",
           "orientation": "h",
           "showlegend": true,
           "textposition": "auto",
           "type": "bar",
           "x": {
            "bdata": "AAAAAEAr5UA=",
            "dtype": "f8"
           },
           "xaxis": "x",
           "y": [
            "Spain"
           ],
           "yaxis": "y"
          },
          {
           "hovertemplate": "Land=%{y}<br>year=2001<br>Produzierte Menge (nach Einheit)=%{x}<extra></extra>",
           "legendgroup": "Sweden",
           "marker": {
            "color": "#19d3f3",
            "pattern": {
             "shape": ""
            }
           },
           "name": "Sweden",
           "orientation": "h",
           "showlegend": true,
           "textposition": "auto",
           "type": "bar",
           "x": {
            "bdata": "AAAAAADH6EA=",
            "dtype": "f8"
           },
           "xaxis": "x",
           "y": [
            "Sweden"
           ],
           "yaxis": "y"
          },
          {
           "hovertemplate": "Land=%{y}<br>year=2001<br>Produzierte Menge (nach Einheit)=%{x}<extra></extra>",
           "legendgroup": "Switzerland",
           "marker": {
            "color": "#FF6692",
            "pattern": {
             "shape": ""
            }
           },
           "name": "Switzerland",
           "orientation": "h",
           "showlegend": true,
           "textposition": "auto",
           "type": "bar",
           "x": {
            "bdata": "AAAAAADF4kA=",
            "dtype": "f8"
           },
           "xaxis": "x",
           "y": [
            "Switzerland"
           ],
           "yaxis": "y"
          },
          {
           "hovertemplate": "Land=%{y}<br>year=2001<br>Produzierte Menge (nach Einheit)=%{x}<extra></extra>",
           "legendgroup": "United Kingdom",
           "marker": {
            "color": "#B6E880",
            "pattern": {
             "shape": ""
            }
           },
           "name": "United Kingdom",
           "orientation": "h",
           "showlegend": true,
           "textposition": "auto",
           "type": "bar",
           "x": {
            "bdata": "AAAAAKC48UA=",
            "dtype": "f8"
           },
           "xaxis": "x",
           "y": [
            "United Kingdom"
           ],
           "yaxis": "y"
          },
          {
           "hovertemplate": "Land=%{y}<br>year=2001<br>Produzierte Menge (nach Einheit)=%{x}<extra></extra>",
           "legendgroup": "Germany",
           "marker": {
            "color": "#FF97FF",
            "pattern": {
             "shape": ""
            }
           },
           "name": "Germany",
           "orientation": "h",
           "showlegend": true,
           "textposition": "auto",
           "type": "bar",
           "x": {
            "bdata": "AAAAAITfEUE=",
            "dtype": "f8"
           },
           "xaxis": "x",
           "y": [
            "Germany"
           ],
           "yaxis": "y"
          },
          {
           "hovertemplate": "Land=%{y}<br>year=2001<br>Produzierte Menge (nach Einheit)=%{x}<extra></extra>",
           "legendgroup": "Belarus",
           "marker": {
            "color": "#FECB52",
            "pattern": {
             "shape": ""
            }
           },
           "name": "Belarus",
           "orientation": "h",
           "showlegend": true,
           "textposition": "auto",
           "type": "bar",
           "x": {
            "bdata": "AAAAAAAohEA=",
            "dtype": "f8"
           },
           "xaxis": "x",
           "y": [
            "Belarus"
           ],
           "yaxis": "y"
          },
          {
           "hovertemplate": "Land=%{y}<br>year=2001<br>Produzierte Menge (nach Einheit)=%{x}<extra></extra>",
           "legendgroup": "Croatia",
           "marker": {
            "color": "#636efa",
            "pattern": {
             "shape": ""
            }
           },
           "name": "Croatia",
           "orientation": "h",
           "showlegend": true,
           "textposition": "auto",
           "type": "bar",
           "x": {
            "bdata": "AAAAAAAAAAA=",
            "dtype": "f8"
           },
           "xaxis": "x",
           "y": [
            "Croatia"
           ],
           "yaxis": "y"
          },
          {
           "hovertemplate": "Land=%{y}<br>year=2001<br>Produzierte Menge (nach Einheit)=%{x}<extra></extra>",
           "legendgroup": "Czech Republic",
           "marker": {
            "color": "#EF553B",
            "pattern": {
             "shape": ""
            }
           },
           "name": "Czech Republic",
           "orientation": "h",
           "showlegend": true,
           "textposition": "auto",
           "type": "bar",
           "x": {
            "bdata": "AAAAAACbt0A=",
            "dtype": "f8"
           },
           "xaxis": "x",
           "y": [
            "Czech Republic"
           ],
           "yaxis": "y"
          },
          {
           "hovertemplate": "Land=%{y}<br>year=2001<br>Produzierte Menge (nach Einheit)=%{x}<extra></extra>",
           "legendgroup": "Estonia",
           "marker": {
            "color": "#00cc96",
            "pattern": {
             "shape": ""
            }
           },
           "name": "Estonia",
           "orientation": "h",
           "showlegend": true,
           "textposition": "auto",
           "type": "bar",
           "x": {
            "bdata": "AAAAAACAVEA=",
            "dtype": "f8"
           },
           "xaxis": "x",
           "y": [
            "Estonia"
           ],
           "yaxis": "y"
          },
          {
           "hovertemplate": "Land=%{y}<br>year=2001<br>Produzierte Menge (nach Einheit)=%{x}<extra></extra>",
           "legendgroup": "Latvia",
           "marker": {
            "color": "#ab63fa",
            "pattern": {
             "shape": ""
            }
           },
           "name": "Latvia",
           "orientation": "h",
           "showlegend": true,
           "textposition": "auto",
           "type": "bar",
           "x": {
            "bdata": "AAAAAAAAAAA=",
            "dtype": "f8"
           },
           "xaxis": "x",
           "y": [
            "Latvia"
           ],
           "yaxis": "y"
          },
          {
           "hovertemplate": "Land=%{y}<br>year=2001<br>Produzierte Menge (nach Einheit)=%{x}<extra></extra>",
           "legendgroup": "Lithuania",
           "marker": {
            "color": "#FFA15A",
            "pattern": {
             "shape": ""
            }
           },
           "name": "Lithuania",
           "orientation": "h",
           "showlegend": true,
           "textposition": "auto",
           "type": "bar",
           "x": {
            "bdata": "AAAAAACZxEA=",
            "dtype": "f8"
           },
           "xaxis": "x",
           "y": [
            "Lithuania"
           ],
           "yaxis": "y"
          },
          {
           "hovertemplate": "Land=%{y}<br>year=2001<br>Produzierte Menge (nach Einheit)=%{x}<extra></extra>",
           "legendgroup": "Romania",
           "marker": {
            "color": "#19d3f3",
            "pattern": {
             "shape": ""
            }
           },
           "name": "Romania",
           "orientation": "h",
           "showlegend": true,
           "textposition": "auto",
           "type": "bar",
           "x": {
            "bdata": "AAAAAAAAAAA=",
            "dtype": "f8"
           },
           "xaxis": "x",
           "y": [
            "Romania"
           ],
           "yaxis": "y"
          },
          {
           "hovertemplate": "Land=%{y}<br>year=2001<br>Produzierte Menge (nach Einheit)=%{x}<extra></extra>",
           "legendgroup": "Iceland",
           "marker": {
            "color": "#FF6692",
            "pattern": {
             "shape": ""
            }
           },
           "name": "Iceland",
           "orientation": "h",
           "showlegend": true,
           "textposition": "auto",
           "type": "bar",
           "x": {
            "bdata": "AAAAAAAATEA=",
            "dtype": "f8"
           },
           "xaxis": "x",
           "y": [
            "Iceland"
           ],
           "yaxis": "y"
          },
          {
           "hovertemplate": "Land=%{y}<br>year=2001<br>Produzierte Menge (nach Einheit)=%{x}<extra></extra>",
           "legendgroup": "Slovenia",
           "marker": {
            "color": "#B6E880",
            "pattern": {
             "shape": ""
            }
           },
           "name": "Slovenia",
           "orientation": "h",
           "showlegend": true,
           "textposition": "auto",
           "type": "bar",
           "x": {
            "bdata": "AAAAAADAZkA=",
            "dtype": "f8"
           },
           "xaxis": "x",
           "y": [
            "Slovenia"
           ],
           "yaxis": "y"
          },
          {
           "hovertemplate": "Land=%{y}<br>year=2001<br>Produzierte Menge (nach Einheit)=%{x}<extra></extra>",
           "legendgroup": "Cyprus",
           "marker": {
            "color": "#FF97FF",
            "pattern": {
             "shape": ""
            }
           },
           "name": "Cyprus",
           "orientation": "h",
           "showlegend": true,
           "textposition": "auto",
           "type": "bar",
           "x": {
            "bdata": "AAAAAACAUUA=",
            "dtype": "f8"
           },
           "xaxis": "x",
           "y": [
            "Cyprus"
           ],
           "yaxis": "y"
          },
          {
           "hovertemplate": "Land=%{y}<br>year=2001<br>Produzierte Menge (nach Einheit)=%{x}<extra></extra>",
           "legendgroup": "Slovakia",
           "marker": {
            "color": "#FECB52",
            "pattern": {
             "shape": ""
            }
           },
           "name": "Slovakia",
           "orientation": "h",
           "showlegend": true,
           "textposition": "auto",
           "type": "bar",
           "x": {
            "bdata": "AAAAAAAclEA=",
            "dtype": "f8"
           },
           "xaxis": "x",
           "y": [
            "Slovakia"
           ],
           "yaxis": "y"
          }
         ],
         "name": "2001"
        },
        {
         "data": [
          {
           "hovertemplate": "Land=%{y}<br>year=2002<br>Produzierte Menge (nach Einheit)=%{x}<extra></extra>",
           "legendgroup": "Austria",
           "marker": {
            "color": "#636efa",
            "pattern": {
             "shape": ""
            }
           },
           "name": "Austria",
           "orientation": "h",
           "showlegend": true,
           "textposition": "auto",
           "type": "bar",
           "x": {
            "bdata": "AAAAAICkxkA=",
            "dtype": "f8"
           },
           "xaxis": "x",
           "y": [
            "Austria"
           ],
           "yaxis": "y"
          },
          {
           "hovertemplate": "Land=%{y}<br>year=2002<br>Produzierte Menge (nach Einheit)=%{x}<extra></extra>",
           "legendgroup": "Belgium",
           "marker": {
            "color": "#EF553B",
            "pattern": {
             "shape": ""
            }
           },
           "name": "Belgium",
           "orientation": "h",
           "showlegend": true,
           "textposition": "auto",
           "type": "bar",
           "x": {
            "bdata": "AAAAAECi00A=",
            "dtype": "f8"
           },
           "xaxis": "x",
           "y": [
            "Belgium"
           ],
           "yaxis": "y"
          },
          {
           "hovertemplate": "Land=%{y}<br>year=2002<br>Produzierte Menge (nach Einheit)=%{x}<extra></extra>",
           "legendgroup": "Denmark",
           "marker": {
            "color": "#00cc96",
            "pattern": {
             "shape": ""
            }
           },
           "name": "Denmark",
           "orientation": "h",
           "showlegend": true,
           "textposition": "auto",
           "type": "bar",
           "x": {
            "bdata": "AAAAAMDn6UA=",
            "dtype": "f8"
           },
           "xaxis": "x",
           "y": [
            "Denmark"
           ],
           "yaxis": "y"
          },
          {
           "hovertemplate": "Land=%{y}<br>year=2002<br>Produzierte Menge (nach Einheit)=%{x}<extra></extra>",
           "legendgroup": "Finland",
           "marker": {
            "color": "#ab63fa",
            "pattern": {
             "shape": ""
            }
           },
           "name": "Finland",
           "orientation": "h",
           "showlegend": true,
           "textposition": "auto",
           "type": "bar",
           "x": {
            "bdata": "AAAAAABNtUA=",
            "dtype": "f8"
           },
           "xaxis": "x",
           "y": [
            "Finland"
           ],
           "yaxis": "y"
          },
          {
           "hovertemplate": "Land=%{y}<br>year=2002<br>Produzierte Menge (nach Einheit)=%{x}<extra></extra>",
           "legendgroup": "France",
           "marker": {
            "color": "#FFA15A",
            "pattern": {
             "shape": ""
            }
           },
           "name": "France",
           "orientation": "h",
           "showlegend": true,
           "textposition": "auto",
           "type": "bar",
           "x": {
            "bdata": "AAAAAAAT+EA=",
            "dtype": "f8"
           },
           "xaxis": "x",
           "y": [
            "France"
           ],
           "yaxis": "y"
          },
          {
           "hovertemplate": "Land=%{y}<br>year=2002<br>Produzierte Menge (nach Einheit)=%{x}<extra></extra>",
           "legendgroup": "Greece",
           "marker": {
            "color": "#19d3f3",
            "pattern": {
             "shape": ""
            }
           },
           "name": "Greece",
           "orientation": "h",
           "showlegend": true,
           "textposition": "auto",
           "type": "bar",
           "x": {
            "bdata": "AAAAAIACyEA=",
            "dtype": "f8"
           },
           "xaxis": "x",
           "y": [
            "Greece"
           ],
           "yaxis": "y"
          },
          {
           "hovertemplate": "Land=%{y}<br>year=2002<br>Produzierte Menge (nach Einheit)=%{x}<extra></extra>",
           "legendgroup": "Hungary",
           "marker": {
            "color": "#FF6692",
            "pattern": {
             "shape": ""
            }
           },
           "name": "Hungary",
           "orientation": "h",
           "showlegend": true,
           "textposition": "auto",
           "type": "bar",
           "x": {
            "bdata": "AAAAAADgpkA=",
            "dtype": "f8"
           },
           "xaxis": "x",
           "y": [
            "Hungary"
           ],
           "yaxis": "y"
          },
          {
           "hovertemplate": "Land=%{y}<br>year=2002<br>Produzierte Menge (nach Einheit)=%{x}<extra></extra>",
           "legendgroup": "Ireland",
           "marker": {
            "color": "#B6E880",
            "pattern": {
             "shape": ""
            }
           },
           "name": "Ireland",
           "orientation": "h",
           "showlegend": true,
           "textposition": "auto",
           "type": "bar",
           "x": {
            "bdata": "AAAAAAD4jkA=",
            "dtype": "f8"
           },
           "xaxis": "x",
           "y": [
            "Ireland"
           ],
           "yaxis": "y"
          },
          {
           "hovertemplate": "Land=%{y}<br>year=2002<br>Produzierte Menge (nach Einheit)=%{x}<extra></extra>",
           "legendgroup": "Italy",
           "marker": {
            "color": "#FF97FF",
            "pattern": {
             "shape": ""
            }
           },
           "name": "Italy",
           "orientation": "h",
           "showlegend": true,
           "textposition": "auto",
           "type": "bar",
           "x": {
            "bdata": "AAAAAIBC2kA=",
            "dtype": "f8"
           },
           "xaxis": "x",
           "y": [
            "Italy"
           ],
           "yaxis": "y"
          },
          {
           "hovertemplate": "Land=%{y}<br>year=2002<br>Produzierte Menge (nach Einheit)=%{x}<extra></extra>",
           "legendgroup": "Luxembourg",
           "marker": {
            "color": "#FECB52",
            "pattern": {
             "shape": ""
            }
           },
           "name": "Luxembourg",
           "orientation": "h",
           "showlegend": true,
           "textposition": "auto",
           "type": "bar",
           "x": {
            "bdata": "AAAAAADkk0A=",
            "dtype": "f8"
           },
           "xaxis": "x",
           "y": [
            "Luxembourg"
           ],
           "yaxis": "y"
          },
          {
           "hovertemplate": "Land=%{y}<br>year=2002<br>Produzierte Menge (nach Einheit)=%{x}<extra></extra>",
           "legendgroup": "Netherlands",
           "marker": {
            "color": "#636efa",
            "pattern": {
             "shape": ""
            }
           },
           "name": "Netherlands",
           "orientation": "h",
           "showlegend": true,
           "textposition": "auto",
           "type": "bar",
           "x": {
            "bdata": "AAAAABBZ8EA=",
            "dtype": "f8"
           },
           "xaxis": "x",
           "y": [
            "Netherlands"
           ],
           "yaxis": "y"
          },
          {
           "hovertemplate": "Land=%{y}<br>year=2002<br>Produzierte Menge (nach Einheit)=%{x}<extra></extra>",
           "legendgroup": "Norway",
           "marker": {
            "color": "#EF553B",
            "pattern": {
             "shape": ""
            }
           },
           "name": "Norway",
           "orientation": "h",
           "showlegend": true,
           "textposition": "auto",
           "type": "bar",
           "x": {
            "bdata": "AAAAAABoukA=",
            "dtype": "f8"
           },
           "xaxis": "x",
           "y": [
            "Norway"
           ],
           "yaxis": "y"
          },
          {
           "hovertemplate": "Land=%{y}<br>year=2002<br>Produzierte Menge (nach Einheit)=%{x}<extra></extra>",
           "legendgroup": "Poland",
           "marker": {
            "color": "#00cc96",
            "pattern": {
             "shape": ""
            }
           },
           "name": "Poland",
           "orientation": "h",
           "showlegend": true,
           "textposition": "auto",
           "type": "bar",
           "x": {
            "bdata": "AAAAAABR4EA=",
            "dtype": "f8"
           },
           "xaxis": "x",
           "y": [
            "Poland"
           ],
           "yaxis": "y"
          },
          {
           "hovertemplate": "Land=%{y}<br>year=2002<br>Produzierte Menge (nach Einheit)=%{x}<extra></extra>",
           "legendgroup": "Portugal",
           "marker": {
            "color": "#ab63fa",
            "pattern": {
             "shape": ""
            }
           },
           "name": "Portugal",
           "orientation": "h",
           "showlegend": true,
           "textposition": "auto",
           "type": "bar",
           "x": {
            "bdata": "AAAAAABM4kA=",
            "dtype": "f8"
           },
           "xaxis": "x",
           "y": [
            "Portugal"
           ],
           "yaxis": "y"
          },
          {
           "hovertemplate": "Land=%{y}<br>year=2002<br>Produzierte Menge (nach Einheit)=%{x}<extra></extra>",
           "legendgroup": "Spain",
           "marker": {
            "color": "#FFA15A",
            "pattern": {
             "shape": ""
            }
           },
           "name": "Spain",
           "orientation": "h",
           "showlegend": true,
           "textposition": "auto",
           "type": "bar",
           "x": {
            "bdata": "AAAAAKAv6EA=",
            "dtype": "f8"
           },
           "xaxis": "x",
           "y": [
            "Spain"
           ],
           "yaxis": "y"
          },
          {
           "hovertemplate": "Land=%{y}<br>year=2002<br>Produzierte Menge (nach Einheit)=%{x}<extra></extra>",
           "legendgroup": "Sweden",
           "marker": {
            "color": "#19d3f3",
            "pattern": {
             "shape": ""
            }
           },
           "name": "Sweden",
           "orientation": "h",
           "showlegend": true,
           "textposition": "auto",
           "type": "bar",
           "x": {
            "bdata": "AAAAACDv5kA=",
            "dtype": "f8"
           },
           "xaxis": "x",
           "y": [
            "Sweden"
           ],
           "yaxis": "y"
          },
          {
           "hovertemplate": "Land=%{y}<br>year=2002<br>Produzierte Menge (nach Einheit)=%{x}<extra></extra>",
           "legendgroup": "Switzerland",
           "marker": {
            "color": "#FF6692",
            "pattern": {
             "shape": ""
            }
           },
           "name": "Switzerland",
           "orientation": "h",
           "showlegend": true,
           "textposition": "auto",
           "type": "bar",
           "x": {
            "bdata": "AAAAAGC640A=",
            "dtype": "f8"
           },
           "xaxis": "x",
           "y": [
            "Switzerland"
           ],
           "yaxis": "y"
          },
          {
           "hovertemplate": "Land=%{y}<br>year=2002<br>Produzierte Menge (nach Einheit)=%{x}<extra></extra>",
           "legendgroup": "United Kingdom",
           "marker": {
            "color": "#B6E880",
            "pattern": {
             "shape": ""
            }
           },
           "name": "United Kingdom",
           "orientation": "h",
           "showlegend": true,
           "textposition": "auto",
           "type": "bar",
           "x": {
            "bdata": "AAAAAOCJ80A=",
            "dtype": "f8"
           },
           "xaxis": "x",
           "y": [
            "United Kingdom"
           ],
           "yaxis": "y"
          },
          {
           "hovertemplate": "Land=%{y}<br>year=2002<br>Produzierte Menge (nach Einheit)=%{x}<extra></extra>",
           "legendgroup": "Germany",
           "marker": {
            "color": "#FF97FF",
            "pattern": {
             "shape": ""
            }
           },
           "name": "Germany",
           "orientation": "h",
           "showlegend": true,
           "textposition": "auto",
           "type": "bar",
           "x": {
            "bdata": "AAAAAMwIE0E=",
            "dtype": "f8"
           },
           "xaxis": "x",
           "y": [
            "Germany"
           ],
           "yaxis": "y"
          },
          {
           "hovertemplate": "Land=%{y}<br>year=2002<br>Produzierte Menge (nach Einheit)=%{x}<extra></extra>",
           "legendgroup": "Belarus",
           "marker": {
            "color": "#FECB52",
            "pattern": {
             "shape": ""
            }
           },
           "name": "Belarus",
           "orientation": "h",
           "showlegend": true,
           "textposition": "auto",
           "type": "bar",
           "x": {
            "bdata": "AAAAAAAwjUA=",
            "dtype": "f8"
           },
           "xaxis": "x",
           "y": [
            "Belarus"
           ],
           "yaxis": "y"
          },
          {
           "hovertemplate": "Land=%{y}<br>year=2002<br>Produzierte Menge (nach Einheit)=%{x}<extra></extra>",
           "legendgroup": "Croatia",
           "marker": {
            "color": "#636efa",
            "pattern": {
             "shape": ""
            }
           },
           "name": "Croatia",
           "orientation": "h",
           "showlegend": true,
           "textposition": "auto",
           "type": "bar",
           "x": {
            "bdata": "AAAAAAAAAAA=",
            "dtype": "f8"
           },
           "xaxis": "x",
           "y": [
            "Croatia"
           ],
           "yaxis": "y"
          },
          {
           "hovertemplate": "Land=%{y}<br>year=2002<br>Produzierte Menge (nach Einheit)=%{x}<extra></extra>",
           "legendgroup": "Czech Republic",
           "marker": {
            "color": "#EF553B",
            "pattern": {
             "shape": ""
            }
           },
           "name": "Czech Republic",
           "orientation": "h",
           "showlegend": true,
           "textposition": "auto",
           "type": "bar",
           "x": {
            "bdata": "AAAAAADst0A=",
            "dtype": "f8"
           },
           "xaxis": "x",
           "y": [
            "Czech Republic"
           ],
           "yaxis": "y"
          },
          {
           "hovertemplate": "Land=%{y}<br>year=2002<br>Produzierte Menge (nach Einheit)=%{x}<extra></extra>",
           "legendgroup": "Estonia",
           "marker": {
            "color": "#00cc96",
            "pattern": {
             "shape": ""
            }
           },
           "name": "Estonia",
           "orientation": "h",
           "showlegend": true,
           "textposition": "auto",
           "type": "bar",
           "x": {
            "bdata": "AAAAAADAVUA=",
            "dtype": "f8"
           },
           "xaxis": "x",
           "y": [
            "Estonia"
           ],
           "yaxis": "y"
          },
          {
           "hovertemplate": "Land=%{y}<br>year=2002<br>Produzierte Menge (nach Einheit)=%{x}<extra></extra>",
           "legendgroup": "Latvia",
           "marker": {
            "color": "#ab63fa",
            "pattern": {
             "shape": ""
            }
           },
           "name": "Latvia",
           "orientation": "h",
           "showlegend": true,
           "textposition": "auto",
           "type": "bar",
           "x": {
            "bdata": "AAAAAACAS0A=",
            "dtype": "f8"
           },
           "xaxis": "x",
           "y": [
            "Latvia"
           ],
           "yaxis": "y"
          },
          {
           "hovertemplate": "Land=%{y}<br>year=2002<br>Produzierte Menge (nach Einheit)=%{x}<extra></extra>",
           "legendgroup": "Lithuania",
           "marker": {
            "color": "#FFA15A",
            "pattern": {
             "shape": ""
            }
           },
           "name": "Lithuania",
           "orientation": "h",
           "showlegend": true,
           "textposition": "auto",
           "type": "bar",
           "x": {
            "bdata": "AAAAAAD+xUA=",
            "dtype": "f8"
           },
           "xaxis": "x",
           "y": [
            "Lithuania"
           ],
           "yaxis": "y"
          },
          {
           "hovertemplate": "Land=%{y}<br>year=2002<br>Produzierte Menge (nach Einheit)=%{x}<extra></extra>",
           "legendgroup": "Romania",
           "marker": {
            "color": "#19d3f3",
            "pattern": {
             "shape": ""
            }
           },
           "name": "Romania",
           "orientation": "h",
           "showlegend": true,
           "textposition": "auto",
           "type": "bar",
           "x": {
            "bdata": "AAAAAAAAPkA=",
            "dtype": "f8"
           },
           "xaxis": "x",
           "y": [
            "Romania"
           ],
           "yaxis": "y"
          },
          {
           "hovertemplate": "Land=%{y}<br>year=2002<br>Produzierte Menge (nach Einheit)=%{x}<extra></extra>",
           "legendgroup": "Iceland",
           "marker": {
            "color": "#FF6692",
            "pattern": {
             "shape": ""
            }
           },
           "name": "Iceland",
           "orientation": "h",
           "showlegend": true,
           "textposition": "auto",
           "type": "bar",
           "x": {
            "bdata": "AAAAAACAUUA=",
            "dtype": "f8"
           },
           "xaxis": "x",
           "y": [
            "Iceland"
           ],
           "yaxis": "y"
          },
          {
           "hovertemplate": "Land=%{y}<br>year=2002<br>Produzierte Menge (nach Einheit)=%{x}<extra></extra>",
           "legendgroup": "Slovenia",
           "marker": {
            "color": "#B6E880",
            "pattern": {
             "shape": ""
            }
           },
           "name": "Slovenia",
           "orientation": "h",
           "showlegend": true,
           "textposition": "auto",
           "type": "bar",
           "x": {
            "bdata": "AAAAAADgf0A=",
            "dtype": "f8"
           },
           "xaxis": "x",
           "y": [
            "Slovenia"
           ],
           "yaxis": "y"
          },
          {
           "hovertemplate": "Land=%{y}<br>year=2002<br>Produzierte Menge (nach Einheit)=%{x}<extra></extra>",
           "legendgroup": "Cyprus",
           "marker": {
            "color": "#FF97FF",
            "pattern": {
             "shape": ""
            }
           },
           "name": "Cyprus",
           "orientation": "h",
           "showlegend": true,
           "textposition": "auto",
           "type": "bar",
           "x": {
            "bdata": "AAAAAACAVkA=",
            "dtype": "f8"
           },
           "xaxis": "x",
           "y": [
            "Cyprus"
           ],
           "yaxis": "y"
          },
          {
           "hovertemplate": "Land=%{y}<br>year=2002<br>Produzierte Menge (nach Einheit)=%{x}<extra></extra>",
           "legendgroup": "Slovakia",
           "marker": {
            "color": "#FECB52",
            "pattern": {
             "shape": ""
            }
           },
           "name": "Slovakia",
           "orientation": "h",
           "showlegend": true,
           "textposition": "auto",
           "type": "bar",
           "x": {
            "bdata": "AAAAAACAc0A=",
            "dtype": "f8"
           },
           "xaxis": "x",
           "y": [
            "Slovakia"
           ],
           "yaxis": "y"
          },
          {
           "hovertemplate": "Land=%{y}<br>year=2002<br>Produzierte Menge (nach Einheit)=%{x}<extra></extra>",
           "legendgroup": "Andorra",
           "marker": {
            "color": "#636efa",
            "pattern": {
             "shape": ""
            }
           },
           "name": "Andorra",
           "orientation": "h",
           "showlegend": true,
           "textposition": "auto",
           "type": "bar",
           "x": {
            "bdata": "AAAAAAAAAAA=",
            "dtype": "f8"
           },
           "xaxis": "x",
           "y": [
            "Andorra"
           ],
           "yaxis": "y"
          }
         ],
         "name": "2002"
        },
        {
         "data": [
          {
           "hovertemplate": "Land=%{y}<br>year=2003<br>Produzierte Menge (nach Einheit)=%{x}<extra></extra>",
           "legendgroup": "Austria",
           "marker": {
            "color": "#636efa",
            "pattern": {
             "shape": ""
            }
           },
           "name": "Austria",
           "orientation": "h",
           "showlegend": true,
           "textposition": "auto",
           "type": "bar",
           "x": {
            "bdata": "AAAAAIAXyUA=",
            "dtype": "f8"
           },
           "xaxis": "x",
           "y": [
            "Austria"
           ],
           "yaxis": "y"
          },
          {
           "hovertemplate": "Land=%{y}<br>year=2003<br>Produzierte Menge (nach Einheit)=%{x}<extra></extra>",
           "legendgroup": "Belgium",
           "marker": {
            "color": "#EF553B",
            "pattern": {
             "shape": ""
            }
           },
           "name": "Belgium",
           "orientation": "h",
           "showlegend": true,
           "textposition": "auto",
           "type": "bar",
           "x": {
            "bdata": "AAAAAEA+2UA=",
            "dtype": "f8"
           },
           "xaxis": "x",
           "y": [
            "Belgium"
           ],
           "yaxis": "y"
          },
          {
           "hovertemplate": "Land=%{y}<br>year=2003<br>Produzierte Menge (nach Einheit)=%{x}<extra></extra>",
           "legendgroup": "Denmark",
           "marker": {
            "color": "#00cc96",
            "pattern": {
             "shape": ""
            }
           },
           "name": "Denmark",
           "orientation": "h",
           "showlegend": true,
           "textposition": "auto",
           "type": "bar",
           "x": {
            "bdata": "AAAAAMAW7EA=",
            "dtype": "f8"
           },
           "xaxis": "x",
           "y": [
            "Denmark"
           ],
           "yaxis": "y"
          },
          {
           "hovertemplate": "Land=%{y}<br>year=2003<br>Produzierte Menge (nach Einheit)=%{x}<extra></extra>",
           "legendgroup": "Finland",
           "marker": {
            "color": "#ab63fa",
            "pattern": {
             "shape": ""
            }
           },
           "name": "Finland",
           "orientation": "h",
           "showlegend": true,
           "textposition": "auto",
           "type": "bar",
           "x": {
            "bdata": "AAAAAAClu0A=",
            "dtype": "f8"
           },
           "xaxis": "x",
           "y": [
            "Finland"
           ],
           "yaxis": "y"
          },
          {
           "hovertemplate": "Land=%{y}<br>year=2003<br>Produzierte Menge (nach Einheit)=%{x}<extra></extra>",
           "legendgroup": "France",
           "marker": {
            "color": "#FFA15A",
            "pattern": {
             "shape": ""
            }
           },
           "name": "France",
           "orientation": "h",
           "showlegend": true,
           "textposition": "auto",
           "type": "bar",
           "x": {
            "bdata": "AAAAAEBD+UA=",
            "dtype": "f8"
           },
           "xaxis": "x",
           "y": [
            "France"
           ],
           "yaxis": "y"
          },
          {
           "hovertemplate": "Land=%{y}<br>year=2003<br>Produzierte Menge (nach Einheit)=%{x}<extra></extra>",
           "legendgroup": "Greece",
           "marker": {
            "color": "#19d3f3",
            "pattern": {
             "shape": ""
            }
           },
           "name": "Greece",
           "orientation": "h",
           "showlegend": true,
           "textposition": "auto",
           "type": "bar",
           "x": {
            "bdata": "AAAAAIBuwUA=",
            "dtype": "f8"
           },
           "xaxis": "x",
           "y": [
            "Greece"
           ],
           "yaxis": "y"
          },
          {
           "hovertemplate": "Land=%{y}<br>year=2003<br>Produzierte Menge (nach Einheit)=%{x}<extra></extra>",
           "legendgroup": "Hungary",
           "marker": {
            "color": "#FF6692",
            "pattern": {
             "shape": ""
            }
           },
           "name": "Hungary",
           "orientation": "h",
           "showlegend": true,
           "textposition": "auto",
           "type": "bar",
           "x": {
            "bdata": "AAAAAACOpEA=",
            "dtype": "f8"
           },
           "xaxis": "x",
           "y": [
            "Hungary"
           ],
           "yaxis": "y"
          },
          {
           "hovertemplate": "Land=%{y}<br>year=2003<br>Produzierte Menge (nach Einheit)=%{x}<extra></extra>",
           "legendgroup": "Ireland",
           "marker": {
            "color": "#B6E880",
            "pattern": {
             "shape": ""
            }
           },
           "name": "Ireland",
           "orientation": "h",
           "showlegend": true,
           "textposition": "auto",
           "type": "bar",
           "x": {
            "bdata": "AAAAAABepUA=",
            "dtype": "f8"
           },
           "xaxis": "x",
           "y": [
            "Ireland"
           ],
           "yaxis": "y"
          },
          {
           "hovertemplate": "Land=%{y}<br>year=2003<br>Produzierte Menge (nach Einheit)=%{x}<extra></extra>",
           "legendgroup": "Italy",
           "marker": {
            "color": "#FF97FF",
            "pattern": {
             "shape": ""
            }
           },
           "name": "Italy",
           "orientation": "h",
           "showlegend": true,
           "textposition": "auto",
           "type": "bar",
           "x": {
            "bdata": "AAAAAKBb40A=",
            "dtype": "f8"
           },
           "xaxis": "x",
           "y": [
            "Italy"
           ],
           "yaxis": "y"
          },
          {
           "hovertemplate": "Land=%{y}<br>year=2003<br>Produzierte Menge (nach Einheit)=%{x}<extra></extra>",
           "legendgroup": "Luxembourg",
           "marker": {
            "color": "#FECB52",
            "pattern": {
             "shape": ""
            }
           },
           "name": "Luxembourg",
           "orientation": "h",
           "showlegend": true,
           "textposition": "auto",
           "type": "bar",
           "x": {
            "bdata": "AAAAAAAwlkA=",
            "dtype": "f8"
           },
           "xaxis": "x",
           "y": [
            "Luxembourg"
           ],
           "yaxis": "y"
          },
          {
           "hovertemplate": "Land=%{y}<br>year=2003<br>Produzierte Menge (nach Einheit)=%{x}<extra></extra>",
           "legendgroup": "Netherlands",
           "marker": {
            "color": "#636efa",
            "pattern": {
             "shape": ""
            }
           },
           "name": "Netherlands",
           "orientation": "h",
           "showlegend": true,
           "textposition": "auto",
           "type": "bar",
           "x": {
            "bdata": "AAAAAFC28EA=",
            "dtype": "f8"
           },
           "xaxis": "x",
           "y": [
            "Netherlands"
           ],
           "yaxis": "y"
          },
          {
           "hovertemplate": "Land=%{y}<br>year=2003<br>Produzierte Menge (nach Einheit)=%{x}<extra></extra>",
           "legendgroup": "Norway",
           "marker": {
            "color": "#EF553B",
            "pattern": {
             "shape": ""
            }
           },
           "name": "Norway",
           "orientation": "h",
           "showlegend": true,
           "textposition": "auto",
           "type": "bar",
           "x": {
            "bdata": "AAAAAAAbwkA=",
            "dtype": "f8"
           },
           "xaxis": "x",
           "y": [
            "Norway"
           ],
           "yaxis": "y"
          },
          {
           "hovertemplate": "Land=%{y}<br>year=2003<br>Produzierte Menge (nach Einheit)=%{x}<extra></extra>",
           "legendgroup": "Poland",
           "marker": {
            "color": "#00cc96",
            "pattern": {
             "shape": ""
            }
           },
           "name": "Poland",
           "orientation": "h",
           "showlegend": true,
           "textposition": "auto",
           "type": "bar",
           "x": {
            "bdata": "AAAAAGBt4UA=",
            "dtype": "f8"
           },
           "xaxis": "x",
           "y": [
            "Poland"
           ],
           "yaxis": "y"
          },
          {
           "hovertemplate": "Land=%{y}<br>year=2003<br>Produzierte Menge (nach Einheit)=%{x}<extra></extra>",
           "legendgroup": "Portugal",
           "marker": {
            "color": "#ab63fa",
            "pattern": {
             "shape": ""
            }
           },
           "name": "Portugal",
           "orientation": "h",
           "showlegend": true,
           "textposition": "auto",
           "type": "bar",
           "x": {
            "bdata": "AAAAAIAA40A=",
            "dtype": "f8"
           },
           "xaxis": "x",
           "y": [
            "Portugal"
           ],
           "yaxis": "y"
          },
          {
           "hovertemplate": "Land=%{y}<br>year=2003<br>Produzierte Menge (nach Einheit)=%{x}<extra></extra>",
           "legendgroup": "Spain",
           "marker": {
            "color": "#FFA15A",
            "pattern": {
             "shape": ""
            }
           },
           "name": "Spain",
           "orientation": "h",
           "showlegend": true,
           "textposition": "auto",
           "type": "bar",
           "x": {
            "bdata": "AAAAAGCz60A=",
            "dtype": "f8"
           },
           "xaxis": "x",
           "y": [
            "Spain"
           ],
           "yaxis": "y"
          },
          {
           "hovertemplate": "Land=%{y}<br>year=2003<br>Produzierte Menge (nach Einheit)=%{x}<extra></extra>",
           "legendgroup": "Sweden",
           "marker": {
            "color": "#19d3f3",
            "pattern": {
             "shape": ""
            }
           },
           "name": "Sweden",
           "orientation": "h",
           "showlegend": true,
           "textposition": "auto",
           "type": "bar",
           "x": {
            "bdata": "AAAAAKDT6kA=",
            "dtype": "f8"
           },
           "xaxis": "x",
           "y": [
            "Sweden"
           ],
           "yaxis": "y"
          },
          {
           "hovertemplate": "Land=%{y}<br>year=2003<br>Produzierte Menge (nach Einheit)=%{x}<extra></extra>",
           "legendgroup": "Switzerland",
           "marker": {
            "color": "#FF6692",
            "pattern": {
             "shape": ""
            }
           },
           "name": "Switzerland",
           "orientation": "h",
           "showlegend": true,
           "textposition": "auto",
           "type": "bar",
           "x": {
            "bdata": "AAAAAACL40A=",
            "dtype": "f8"
           },
           "xaxis": "x",
           "y": [
            "Switzerland"
           ],
           "yaxis": "y"
          },
          {
           "hovertemplate": "Land=%{y}<br>year=2003<br>Produzierte Menge (nach Einheit)=%{x}<extra></extra>",
           "legendgroup": "United Kingdom",
           "marker": {
            "color": "#B6E880",
            "pattern": {
             "shape": ""
            }
           },
           "name": "United Kingdom",
           "orientation": "h",
           "showlegend": true,
           "textposition": "auto",
           "type": "bar",
           "x": {
            "bdata": "AAAAACC89UA=",
            "dtype": "f8"
           },
           "xaxis": "x",
           "y": [
            "United Kingdom"
           ],
           "yaxis": "y"
          },
          {
           "hovertemplate": "Land=%{y}<br>year=2003<br>Produzierte Menge (nach Einheit)=%{x}<extra></extra>",
           "legendgroup": "Germany",
           "marker": {
            "color": "#FF97FF",
            "pattern": {
             "shape": ""
            }
           },
           "name": "Germany",
           "orientation": "h",
           "showlegend": true,
           "textposition": "auto",
           "type": "bar",
           "x": {
            "bdata": "AAAAACgZAUE=",
            "dtype": "f8"
           },
           "xaxis": "x",
           "y": [
            "Germany"
           ],
           "yaxis": "y"
          },
          {
           "hovertemplate": "Land=%{y}<br>year=2003<br>Produzierte Menge (nach Einheit)=%{x}<extra></extra>",
           "legendgroup": "Belarus",
           "marker": {
            "color": "#FECB52",
            "pattern": {
             "shape": ""
            }
           },
           "name": "Belarus",
           "orientation": "h",
           "showlegend": true,
           "textposition": "auto",
           "type": "bar",
           "x": {
            "bdata": "AAAAAABckkA=",
            "dtype": "f8"
           },
           "xaxis": "x",
           "y": [
            "Belarus"
           ],
           "yaxis": "y"
          },
          {
           "hovertemplate": "Land=%{y}<br>year=2003<br>Produzierte Menge (nach Einheit)=%{x}<extra></extra>",
           "legendgroup": "Croatia",
           "marker": {
            "color": "#636efa",
            "pattern": {
             "shape": ""
            }
           },
           "name": "Croatia",
           "orientation": "h",
           "showlegend": true,
           "textposition": "auto",
           "type": "bar",
           "x": {
            "bdata": "AAAAAAAAAAA=",
            "dtype": "f8"
           },
           "xaxis": "x",
           "y": [
            "Croatia"
           ],
           "yaxis": "y"
          },
          {
           "hovertemplate": "Land=%{y}<br>year=2003<br>Produzierte Menge (nach Einheit)=%{x}<extra></extra>",
           "legendgroup": "Czech Republic",
           "marker": {
            "color": "#EF553B",
            "pattern": {
             "shape": ""
            }
           },
           "name": "Czech Republic",
           "orientation": "h",
           "showlegend": true,
           "textposition": "auto",
           "type": "bar",
           "x": {
            "bdata": "AAAAAACXt0A=",
            "dtype": "f8"
           },
           "xaxis": "x",
           "y": [
            "Czech Republic"
           ],
           "yaxis": "y"
          },
          {
           "hovertemplate": "Land=%{y}<br>year=2003<br>Produzierte Menge (nach Einheit)=%{x}<extra></extra>",
           "legendgroup": "Estonia",
           "marker": {
            "color": "#00cc96",
            "pattern": {
             "shape": ""
            }
           },
           "name": "Estonia",
           "orientation": "h",
           "showlegend": true,
           "textposition": "auto",
           "type": "bar",
           "x": {
            "bdata": "AAAAAACmrEA=",
            "dtype": "f8"
           },
           "xaxis": "x",
           "y": [
            "Estonia"
           ],
           "yaxis": "y"
          },
          {
           "hovertemplate": "Land=%{y}<br>year=2003<br>Produzierte Menge (nach Einheit)=%{x}<extra></extra>",
           "legendgroup": "Latvia",
           "marker": {
            "color": "#ab63fa",
            "pattern": {
             "shape": ""
            }
           },
           "name": "Latvia",
           "orientation": "h",
           "showlegend": true,
           "textposition": "auto",
           "type": "bar",
           "x": {
            "bdata": "AAAAAADgY0A=",
            "dtype": "f8"
           },
           "xaxis": "x",
           "y": [
            "Latvia"
           ],
           "yaxis": "y"
          },
          {
           "hovertemplate": "Land=%{y}<br>year=2003<br>Produzierte Menge (nach Einheit)=%{x}<extra></extra>",
           "legendgroup": "Lithuania",
           "marker": {
            "color": "#FFA15A",
            "pattern": {
             "shape": ""
            }
           },
           "name": "Lithuania",
           "orientation": "h",
           "showlegend": true,
           "textposition": "auto",
           "type": "bar",
           "x": {
            "bdata": "AAAAAIA7xkA=",
            "dtype": "f8"
           },
           "xaxis": "x",
           "y": [
            "Lithuania"
           ],
           "yaxis": "y"
          },
          {
           "hovertemplate": "Land=%{y}<br>year=2003<br>Produzierte Menge (nach Einheit)=%{x}<extra></extra>",
           "legendgroup": "Romania",
           "marker": {
            "color": "#19d3f3",
            "pattern": {
             "shape": ""
            }
           },
           "name": "Romania",
           "orientation": "h",
           "showlegend": true,
           "textposition": "auto",
           "type": "bar",
           "x": {
            "bdata": "AAAAAAAAAAA=",
            "dtype": "f8"
           },
           "xaxis": "x",
           "y": [
            "Romania"
           ],
           "yaxis": "y"
          },
          {
           "hovertemplate": "Land=%{y}<br>year=2003<br>Produzierte Menge (nach Einheit)=%{x}<extra></extra>",
           "legendgroup": "Iceland",
           "marker": {
            "color": "#FF6692",
            "pattern": {
             "shape": ""
            }
           },
           "name": "Iceland",
           "orientation": "h",
           "showlegend": true,
           "textposition": "auto",
           "type": "bar",
           "x": {
            "bdata": "AAAAAACAUUA=",
            "dtype": "f8"
           },
           "xaxis": "x",
           "y": [
            "Iceland"
           ],
           "yaxis": "y"
          },
          {
           "hovertemplate": "Land=%{y}<br>year=2003<br>Produzierte Menge (nach Einheit)=%{x}<extra></extra>",
           "legendgroup": "Slovenia",
           "marker": {
            "color": "#B6E880",
            "pattern": {
             "shape": ""
            }
           },
           "name": "Slovenia",
           "orientation": "h",
           "showlegend": true,
           "textposition": "auto",
           "type": "bar",
           "x": {
            "bdata": "AAAAAACAgkA=",
            "dtype": "f8"
           },
           "xaxis": "x",
           "y": [
            "Slovenia"
           ],
           "yaxis": "y"
          },
          {
           "hovertemplate": "Land=%{y}<br>year=2003<br>Produzierte Menge (nach Einheit)=%{x}<extra></extra>",
           "legendgroup": "Cyprus",
           "marker": {
            "color": "#FF97FF",
            "pattern": {
             "shape": ""
            }
           },
           "name": "Cyprus",
           "orientation": "h",
           "showlegend": true,
           "textposition": "auto",
           "type": "bar",
           "x": {
            "bdata": "AAAAAABgakA=",
            "dtype": "f8"
           },
           "xaxis": "x",
           "y": [
            "Cyprus"
           ],
           "yaxis": "y"
          },
          {
           "hovertemplate": "Land=%{y}<br>year=2003<br>Produzierte Menge (nach Einheit)=%{x}<extra></extra>",
           "legendgroup": "Slovakia",
           "marker": {
            "color": "#FECB52",
            "pattern": {
             "shape": ""
            }
           },
           "name": "Slovakia",
           "orientation": "h",
           "showlegend": true,
           "textposition": "auto",
           "type": "bar",
           "x": {
            "bdata": "AAAAAABEk0A=",
            "dtype": "f8"
           },
           "xaxis": "x",
           "y": [
            "Slovakia"
           ],
           "yaxis": "y"
          },
          {
           "hovertemplate": "Land=%{y}<br>year=2003<br>Produzierte Menge (nach Einheit)=%{x}<extra></extra>",
           "legendgroup": "Andorra",
           "marker": {
            "color": "#636efa",
            "pattern": {
             "shape": ""
            }
           },
           "name": "Andorra",
           "orientation": "h",
           "showlegend": true,
           "textposition": "auto",
           "type": "bar",
           "x": {
            "bdata": "AAAAAAAAAAA=",
            "dtype": "f8"
           },
           "xaxis": "x",
           "y": [
            "Andorra"
           ],
           "yaxis": "y"
          },
          {
           "hovertemplate": "Land=%{y}<br>year=2003<br>Produzierte Menge (nach Einheit)=%{x}<extra></extra>",
           "legendgroup": "Moldova",
           "marker": {
            "color": "#EF553B",
            "pattern": {
             "shape": ""
            }
           },
           "name": "Moldova",
           "orientation": "h",
           "showlegend": true,
           "textposition": "auto",
           "type": "bar",
           "x": {
            "bdata": "AAAAAAAgdEA=",
            "dtype": "f8"
           },
           "xaxis": "x",
           "y": [
            "Moldova"
           ],
           "yaxis": "y"
          }
         ],
         "name": "2003"
        },
        {
         "data": [
          {
           "hovertemplate": "Land=%{y}<br>year=2004<br>Produzierte Menge (nach Einheit)=%{x}<extra></extra>",
           "legendgroup": "Austria",
           "marker": {
            "color": "#636efa",
            "pattern": {
             "shape": ""
            }
           },
           "name": "Austria",
           "orientation": "h",
           "showlegend": true,
           "textposition": "auto",
           "type": "bar",
           "x": {
            "bdata": "AAAAAACf0UA=",
            "dtype": "f8"
           },
           "xaxis": "x",
           "y": [
            "Austria"
           ],
           "yaxis": "y"
          },
          {
           "hovertemplate": "Land=%{y}<br>year=2004<br>Produzierte Menge (nach Einheit)=%{x}<extra></extra>",
           "legendgroup": "Belgium",
           "marker": {
            "color": "#EF553B",
            "pattern": {
             "shape": ""
            }
           },
           "name": "Belgium",
           "orientation": "h",
           "showlegend": true,
           "textposition": "auto",
           "type": "bar",
           "x": {
            "bdata": "AAAAAACE2UA=",
            "dtype": "f8"
           },
           "xaxis": "x",
           "y": [
            "Belgium"
           ],
           "yaxis": "y"
          },
          {
           "hovertemplate": "Land=%{y}<br>year=2004<br>Produzierte Menge (nach Einheit)=%{x}<extra></extra>",
           "legendgroup": "Denmark",
           "marker": {
            "color": "#00cc96",
            "pattern": {
             "shape": ""
            }
           },
           "name": "Denmark",
           "orientation": "h",
           "showlegend": true,
           "textposition": "auto",
           "type": "bar",
           "x": {
            "bdata": "AAAAAOAh7UA=",
            "dtype": "f8"
           },
           "xaxis": "x",
           "y": [
            "Denmark"
           ],
           "yaxis": "y"
          },
          {
           "hovertemplate": "Land=%{y}<br>year=2004<br>Produzierte Menge (nach Einheit)=%{x}<extra></extra>",
           "legendgroup": "Finland",
           "marker": {
            "color": "#ab63fa",
            "pattern": {
             "shape": ""
            }
           },
           "name": "Finland",
           "orientation": "h",
           "showlegend": true,
           "textposition": "auto",
           "type": "bar",
           "x": {
            "bdata": "AAAAAACmv0A=",
            "dtype": "f8"
           },
           "xaxis": "x",
           "y": [
            "Finland"
           ],
           "yaxis": "y"
          },
          {
           "hovertemplate": "Land=%{y}<br>year=2004<br>Produzierte Menge (nach Einheit)=%{x}<extra></extra>",
           "legendgroup": "France",
           "marker": {
            "color": "#FFA15A",
            "pattern": {
             "shape": ""
            }
           },
           "name": "France",
           "orientation": "h",
           "showlegend": true,
           "textposition": "auto",
           "type": "bar",
           "x": {
            "bdata": "AAAAAKAh+0A=",
            "dtype": "f8"
           },
           "xaxis": "x",
           "y": [
            "France"
           ],
           "yaxis": "y"
          },
          {
           "hovertemplate": "Land=%{y}<br>year=2004<br>Produzierte Menge (nach Einheit)=%{x}<extra></extra>",
           "legendgroup": "Greece",
           "marker": {
            "color": "#19d3f3",
            "pattern": {
             "shape": ""
            }
           },
           "name": "Greece",
           "orientation": "h",
           "showlegend": true,
           "textposition": "auto",
           "type": "bar",
           "x": {
            "bdata": "AAAAAACawkA=",
            "dtype": "f8"
           },
           "xaxis": "x",
           "y": [
            "Greece"
           ],
           "yaxis": "y"
          },
          {
           "hovertemplate": "Land=%{y}<br>year=2004<br>Produzierte Menge (nach Einheit)=%{x}<extra></extra>",
           "legendgroup": "Hungary",
           "marker": {
            "color": "#FF6692",
            "pattern": {
             "shape": ""
            }
           },
           "name": "Hungary",
           "orientation": "h",
           "showlegend": true,
           "textposition": "auto",
           "type": "bar",
           "x": {
            "bdata": "AAAAAAAMnEA=",
            "dtype": "f8"
           },
           "xaxis": "x",
           "y": [
            "Hungary"
           ],
           "yaxis": "y"
          },
          {
           "hovertemplate": "Land=%{y}<br>year=2004<br>Produzierte Menge (nach Einheit)=%{x}<extra></extra>",
           "legendgroup": "Ireland",
           "marker": {
            "color": "#B6E880",
            "pattern": {
             "shape": ""
            }
           },
           "name": "Ireland",
           "orientation": "h",
           "showlegend": true,
           "textposition": "auto",
           "type": "bar",
           "x": {
            "bdata": "AAAAAADWpkA=",
            "dtype": "f8"
           },
           "xaxis": "x",
           "y": [
            "Ireland"
           ],
           "yaxis": "y"
          },
          {
           "hovertemplate": "Land=%{y}<br>year=2004<br>Produzierte Menge (nach Einheit)=%{x}<extra></extra>",
           "legendgroup": "Italy",
           "marker": {
            "color": "#FF97FF",
            "pattern": {
             "shape": ""
            }
           },
           "name": "Italy",
           "orientation": "h",
           "showlegend": true,
           "textposition": "auto",
           "type": "bar",
           "x": {
            "bdata": "AAAAAMDR6kA=",
            "dtype": "f8"
           },
           "xaxis": "x",
           "y": [
            "Italy"
           ],
           "yaxis": "y"
          },
          {
           "hovertemplate": "Land=%{y}<br>year=2004<br>Produzierte Menge (nach Einheit)=%{x}<extra></extra>",
           "legendgroup": "Luxembourg",
           "marker": {
            "color": "#FECB52",
            "pattern": {
             "shape": ""
            }
           },
           "name": "Luxembourg",
           "orientation": "h",
           "showlegend": true,
           "textposition": "auto",
           "type": "bar",
           "x": {
            "bdata": "AAAAAAAsmUA=",
            "dtype": "f8"
           },
           "xaxis": "x",
           "y": [
            "Luxembourg"
           ],
           "yaxis": "y"
          },
          {
           "hovertemplate": "Land=%{y}<br>year=2004<br>Produzierte Menge (nach Einheit)=%{x}<extra></extra>",
           "legendgroup": "Netherlands",
           "marker": {
            "color": "#636efa",
            "pattern": {
             "shape": ""
            }
           },
           "name": "Netherlands",
           "orientation": "h",
           "showlegend": true,
           "textposition": "auto",
           "type": "bar",
           "x": {
            "bdata": "AAAAAJCb8UA=",
            "dtype": "f8"
           },
           "xaxis": "x",
           "y": [
            "Netherlands"
           ],
           "yaxis": "y"
          },
          {
           "hovertemplate": "Land=%{y}<br>year=2004<br>Produzierte Menge (nach Einheit)=%{x}<extra></extra>",
           "legendgroup": "Norway",
           "marker": {
            "color": "#EF553B",
            "pattern": {
             "shape": ""
            }
           },
           "name": "Norway",
           "orientation": "h",
           "showlegend": true,
           "textposition": "auto",
           "type": "bar",
           "x": {
            "bdata": "AAAAAAD5wEA=",
            "dtype": "f8"
           },
           "xaxis": "x",
           "y": [
            "Norway"
           ],
           "yaxis": "y"
          },
          {
           "hovertemplate": "Land=%{y}<br>year=2004<br>Produzierte Menge (nach Einheit)=%{x}<extra></extra>",
           "legendgroup": "Poland",
           "marker": {
            "color": "#00cc96",
            "pattern": {
             "shape": ""
            }
           },
           "name": "Poland",
           "orientation": "h",
           "showlegend": true,
           "textposition": "auto",
           "type": "bar",
           "x": {
            "bdata": "AAAAAMDP40A=",
            "dtype": "f8"
           },
           "xaxis": "x",
           "y": [
            "Poland"
           ],
           "yaxis": "y"
          },
          {
           "hovertemplate": "Land=%{y}<br>year=2004<br>Produzierte Menge (nach Einheit)=%{x}<extra></extra>",
           "legendgroup": "Portugal",
           "marker": {
            "color": "#ab63fa",
            "pattern": {
             "shape": ""
            }
           },
           "name": "Portugal",
           "orientation": "h",
           "showlegend": true,
           "textposition": "auto",
           "type": "bar",
           "x": {
            "bdata": "AAAAAICp40A=",
            "dtype": "f8"
           },
           "xaxis": "x",
           "y": [
            "Portugal"
           ],
           "yaxis": "y"
          },
          {
           "hovertemplate": "Land=%{y}<br>year=2004<br>Produzierte Menge (nach Einheit)=%{x}<extra></extra>",
           "legendgroup": "Spain",
           "marker": {
            "color": "#FFA15A",
            "pattern": {
             "shape": ""
            }
           },
           "name": "Spain",
           "orientation": "h",
           "showlegend": true,
           "textposition": "auto",
           "type": "bar",
           "x": {
            "bdata": "AAAAAEDx7EA=",
            "dtype": "f8"
           },
           "xaxis": "x",
           "y": [
            "Spain"
           ],
           "yaxis": "y"
          },
          {
           "hovertemplate": "Land=%{y}<br>year=2004<br>Produzierte Menge (nach Einheit)=%{x}<extra></extra>",
           "legendgroup": "Sweden",
           "marker": {
            "color": "#19d3f3",
            "pattern": {
             "shape": ""
            }
           },
           "name": "Sweden",
           "orientation": "h",
           "showlegend": true,
           "textposition": "auto",
           "type": "bar",
           "x": {
            "bdata": "AAAAAOCu60A=",
            "dtype": "f8"
           },
           "xaxis": "x",
           "y": [
            "Sweden"
           ],
           "yaxis": "y"
          },
          {
           "hovertemplate": "Land=%{y}<br>year=2004<br>Produzierte Menge (nach Einheit)=%{x}<extra></extra>",
           "legendgroup": "Switzerland",
           "marker": {
            "color": "#FF6692",
            "pattern": {
             "shape": ""
            }
           },
           "name": "Switzerland",
           "orientation": "h",
           "showlegend": true,
           "textposition": "auto",
           "type": "bar",
           "x": {
            "bdata": "AAAAACDI40A=",
            "dtype": "f8"
           },
           "xaxis": "x",
           "y": [
            "Switzerland"
           ],
           "yaxis": "y"
          },
          {
           "hovertemplate": "Land=%{y}<br>year=2004<br>Produzierte Menge (nach Einheit)=%{x}<extra></extra>",
           "legendgroup": "United Kingdom",
           "marker": {
            "color": "#B6E880",
            "pattern": {
             "shape": ""
            }
           },
           "name": "United Kingdom",
           "orientation": "h",
           "showlegend": true,
           "textposition": "auto",
           "type": "bar",
           "x": {
            "bdata": "AAAAABCF9kA=",
            "dtype": "f8"
           },
           "xaxis": "x",
           "y": [
            "United Kingdom"
           ],
           "yaxis": "y"
          },
          {
           "hovertemplate": "Land=%{y}<br>year=2004<br>Produzierte Menge (nach Einheit)=%{x}<extra></extra>",
           "legendgroup": "Germany",
           "marker": {
            "color": "#FF97FF",
            "pattern": {
             "shape": ""
            }
           },
           "name": "Germany",
           "orientation": "h",
           "showlegend": true,
           "textposition": "auto",
           "type": "bar",
           "x": {
            "bdata": "AAAAAGBMAUE=",
            "dtype": "f8"
           },
           "xaxis": "x",
           "y": [
            "Germany"
           ],
           "yaxis": "y"
          },
          {
           "hovertemplate": "Land=%{y}<br>year=2004<br>Produzierte Menge (nach Einheit)=%{x}<extra></extra>",
           "legendgroup": "Belarus",
           "marker": {
            "color": "#FECB52",
            "pattern": {
             "shape": ""
            }
           },
           "name": "Belarus",
           "orientation": "h",
           "showlegend": true,
           "textposition": "auto",
           "type": "bar",
           "x": {
            "bdata": "AAAAAAA8lUA=",
            "dtype": "f8"
           },
           "xaxis": "x",
           "y": [
            "Belarus"
           ],
           "yaxis": "y"
          },
          {
           "hovertemplate": "Land=%{y}<br>year=2004<br>Produzierte Menge (nach Einheit)=%{x}<extra></extra>",
           "legendgroup": "Croatia",
           "marker": {
            "color": "#636efa",
            "pattern": {
             "shape": ""
            }
           },
           "name": "Croatia",
           "orientation": "h",
           "showlegend": true,
           "textposition": "auto",
           "type": "bar",
           "x": {
            "bdata": "AAAAAAAAAAA=",
            "dtype": "f8"
           },
           "xaxis": "x",
           "y": [
            "Croatia"
           ],
           "yaxis": "y"
          },
          {
           "hovertemplate": "Land=%{y}<br>year=2004<br>Produzierte Menge (nach Einheit)=%{x}<extra></extra>",
           "legendgroup": "Czech Republic",
           "marker": {
            "color": "#EF553B",
            "pattern": {
             "shape": ""
            }
           },
           "name": "Czech Republic",
           "orientation": "h",
           "showlegend": true,
           "textposition": "auto",
           "type": "bar",
           "x": {
            "bdata": "AAAAAABsu0A=",
            "dtype": "f8"
           },
           "xaxis": "x",
           "y": [
            "Czech Republic"
           ],
           "yaxis": "y"
          },
          {
           "hovertemplate": "Land=%{y}<br>year=2004<br>Produzierte Menge (nach Einheit)=%{x}<extra></extra>",
           "legendgroup": "Estonia",
           "marker": {
            "color": "#00cc96",
            "pattern": {
             "shape": ""
            }
           },
           "name": "Estonia",
           "orientation": "h",
           "showlegend": true,
           "textposition": "auto",
           "type": "bar",
           "x": {
            "bdata": "AAAAAADUrEA=",
            "dtype": "f8"
           },
           "xaxis": "x",
           "y": [
            "Estonia"
           ],
           "yaxis": "y"
          },
          {
           "hovertemplate": "Land=%{y}<br>year=2004<br>Produzierte Menge (nach Einheit)=%{x}<extra></extra>",
           "legendgroup": "Latvia",
           "marker": {
            "color": "#ab63fa",
            "pattern": {
             "shape": ""
            }
           },
           "name": "Latvia",
           "orientation": "h",
           "showlegend": true,
           "textposition": "auto",
           "type": "bar",
           "x": {
            "bdata": "AAAAAABwckA=",
            "dtype": "f8"
           },
           "xaxis": "x",
           "y": [
            "Latvia"
           ],
           "yaxis": "y"
          },
          {
           "hovertemplate": "Land=%{y}<br>year=2004<br>Produzierte Menge (nach Einheit)=%{x}<extra></extra>",
           "legendgroup": "Lithuania",
           "marker": {
            "color": "#FFA15A",
            "pattern": {
             "shape": ""
            }
           },
           "name": "Lithuania",
           "orientation": "h",
           "showlegend": true,
           "textposition": "auto",
           "type": "bar",
           "x": {
            "bdata": "AAAAAIAQx0A=",
            "dtype": "f8"
           },
           "xaxis": "x",
           "y": [
            "Lithuania"
           ],
           "yaxis": "y"
          },
          {
           "hovertemplate": "Land=%{y}<br>year=2004<br>Produzierte Menge (nach Einheit)=%{x}<extra></extra>",
           "legendgroup": "Romania",
           "marker": {
            "color": "#19d3f3",
            "pattern": {
             "shape": ""
            }
           },
           "name": "Romania",
           "orientation": "h",
           "showlegend": true,
           "textposition": "auto",
           "type": "bar",
           "x": {
            "bdata": "AAAAAAAAAAA=",
            "dtype": "f8"
           },
           "xaxis": "x",
           "y": [
            "Romania"
           ],
           "yaxis": "y"
          },
          {
           "hovertemplate": "Land=%{y}<br>year=2004<br>Produzierte Menge (nach Einheit)=%{x}<extra></extra>",
           "legendgroup": "Iceland",
           "marker": {
            "color": "#FF6692",
            "pattern": {
             "shape": ""
            }
           },
           "name": "Iceland",
           "orientation": "h",
           "showlegend": true,
           "textposition": "auto",
           "type": "bar",
           "x": {
            "bdata": "AAAAAACAWEA=",
            "dtype": "f8"
           },
           "xaxis": "x",
           "y": [
            "Iceland"
           ],
           "yaxis": "y"
          },
          {
           "hovertemplate": "Land=%{y}<br>year=2004<br>Produzierte Menge (nach Einheit)=%{x}<extra></extra>",
           "legendgroup": "Slovenia",
           "marker": {
            "color": "#B6E880",
            "pattern": {
             "shape": ""
            }
           },
           "name": "Slovenia",
           "orientation": "h",
           "showlegend": true,
           "textposition": "auto",
           "type": "bar",
           "x": {
            "bdata": "AAAAAABohkA=",
            "dtype": "f8"
           },
           "xaxis": "x",
           "y": [
            "Slovenia"
           ],
           "yaxis": "y"
          },
          {
           "hovertemplate": "Land=%{y}<br>year=2004<br>Produzierte Menge (nach Einheit)=%{x}<extra></extra>",
           "legendgroup": "Cyprus",
           "marker": {
            "color": "#FF97FF",
            "pattern": {
             "shape": ""
            }
           },
           "name": "Cyprus",
           "orientation": "h",
           "showlegend": true,
           "textposition": "auto",
           "type": "bar",
           "x": {
            "bdata": "AAAAAADAX0A=",
            "dtype": "f8"
           },
           "xaxis": "x",
           "y": [
            "Cyprus"
           ],
           "yaxis": "y"
          },
          {
           "hovertemplate": "Land=%{y}<br>year=2004<br>Produzierte Menge (nach Einheit)=%{x}<extra></extra>",
           "legendgroup": "Slovakia",
           "marker": {
            "color": "#FECB52",
            "pattern": {
             "shape": ""
            }
           },
           "name": "Slovakia",
           "orientation": "h",
           "showlegend": true,
           "textposition": "auto",
           "type": "bar",
           "x": {
            "bdata": "AAAAAADEpkA=",
            "dtype": "f8"
           },
           "xaxis": "x",
           "y": [
            "Slovakia"
           ],
           "yaxis": "y"
          },
          {
           "hovertemplate": "Land=%{y}<br>year=2004<br>Produzierte Menge (nach Einheit)=%{x}<extra></extra>",
           "legendgroup": "Andorra",
           "marker": {
            "color": "#636efa",
            "pattern": {
             "shape": ""
            }
           },
           "name": "Andorra",
           "orientation": "h",
           "showlegend": true,
           "textposition": "auto",
           "type": "bar",
           "x": {
            "bdata": "zczMzMzMLEA=",
            "dtype": "f8"
           },
           "xaxis": "x",
           "y": [
            "Andorra"
           ],
           "yaxis": "y"
          },
          {
           "hovertemplate": "Land=%{y}<br>year=2004<br>Produzierte Menge (nach Einheit)=%{x}<extra></extra>",
           "legendgroup": "Moldova",
           "marker": {
            "color": "#EF553B",
            "pattern": {
             "shape": ""
            }
           },
           "name": "Moldova",
           "orientation": "h",
           "showlegend": true,
           "textposition": "auto",
           "type": "bar",
           "x": {
            "bdata": "AAAAAACwfEA=",
            "dtype": "f8"
           },
           "xaxis": "x",
           "y": [
            "Moldova"
           ],
           "yaxis": "y"
          }
         ],
         "name": "2004"
        },
        {
         "data": [
          {
           "hovertemplate": "Land=%{y}<br>year=2005<br>Produzierte Menge (nach Einheit)=%{x}<extra></extra>",
           "legendgroup": "Austria",
           "marker": {
            "color": "#636efa",
            "pattern": {
             "shape": ""
            }
           },
           "name": "Austria",
           "orientation": "h",
           "showlegend": true,
           "textposition": "auto",
           "type": "bar",
           "x": {
            "bdata": "AAAAAMCI0UA=",
            "dtype": "f8"
           },
           "xaxis": "x",
           "y": [
            "Austria"
           ],
           "yaxis": "y"
          },
          {
           "hovertemplate": "Land=%{y}<br>year=2005<br>Produzierte Menge (nach Einheit)=%{x}<extra></extra>",
           "legendgroup": "Belgium",
           "marker": {
            "color": "#EF553B",
            "pattern": {
             "shape": ""
            }
           },
           "name": "Belgium",
           "orientation": "h",
           "showlegend": true,
           "textposition": "auto",
           "type": "bar",
           "x": {
            "bdata": "AAAAAMBp3kA=",
            "dtype": "f8"
           },
           "xaxis": "x",
           "y": [
            "Belgium"
           ],
           "yaxis": "y"
          },
          {
           "hovertemplate": "Land=%{y}<br>year=2005<br>Produzierte Menge (nach Einheit)=%{x}<extra></extra>",
           "legendgroup": "Denmark",
           "marker": {
            "color": "#00cc96",
            "pattern": {
             "shape": ""
            }
           },
           "name": "Denmark",
           "orientation": "h",
           "showlegend": true,
           "textposition": "auto",
           "type": "bar",
           "x": {
            "bdata": "AAAAAEDB7UA=",
            "dtype": "f8"
           },
           "xaxis": "x",
           "y": [
            "Denmark"
           ],
           "yaxis": "y"
          },
          {
           "hovertemplate": "Land=%{y}<br>year=2005<br>Produzierte Menge (nach Einheit)=%{x}<extra></extra>",
           "legendgroup": "Finland",
           "marker": {
            "color": "#ab63fa",
            "pattern": {
             "shape": ""
            }
           },
           "name": "Finland",
           "orientation": "h",
           "showlegend": true,
           "textposition": "auto",
           "type": "bar",
           "x": {
            "bdata": "AAAAAACZwkA=",
            "dtype": "f8"
           },
           "xaxis": "x",
           "y": [
            "Finland"
           ],
           "yaxis": "y"
          },
          {
           "hovertemplate": "Land=%{y}<br>year=2005<br>Produzierte Menge (nach Einheit)=%{x}<extra></extra>",
           "legendgroup": "France",
           "marker": {
            "color": "#FFA15A",
            "pattern": {
             "shape": ""
            }
           },
           "name": "France",
           "orientation": "h",
           "showlegend": true,
           "textposition": "auto",
           "type": "bar",
           "x": {
            "bdata": "AAAAAGCY+kA=",
            "dtype": "f8"
           },
           "xaxis": "x",
           "y": [
            "France"
           ],
           "yaxis": "y"
          },
          {
           "hovertemplate": "Land=%{y}<br>year=2005<br>Produzierte Menge (nach Einheit)=%{x}<extra></extra>",
           "legendgroup": "Greece",
           "marker": {
            "color": "#19d3f3",
            "pattern": {
             "shape": ""
            }
           },
           "name": "Greece",
           "orientation": "h",
           "showlegend": true,
           "textposition": "auto",
           "type": "bar",
           "x": {
            "bdata": "AAAAAAA1xUA=",
            "dtype": "f8"
           },
           "xaxis": "x",
           "y": [
            "Greece"
           ],
           "yaxis": "y"
          },
          {
           "hovertemplate": "Land=%{y}<br>year=2005<br>Produzierte Menge (nach Einheit)=%{x}<extra></extra>",
           "legendgroup": "Hungary",
           "marker": {
            "color": "#FF6692",
            "pattern": {
             "shape": ""
            }
           },
           "name": "Hungary",
           "orientation": "h",
           "showlegend": true,
           "textposition": "auto",
           "type": "bar",
           "x": {
            "bdata": "AAAAAABIsUA=",
            "dtype": "f8"
           },
           "xaxis": "x",
           "y": [
            "Hungary"
           ],
           "yaxis": "y"
          },
          {
           "hovertemplate": "Land=%{y}<br>year=2005<br>Produzierte Menge (nach Einheit)=%{x}<extra></extra>",
           "legendgroup": "Ireland",
           "marker": {
            "color": "#B6E880",
            "pattern": {
             "shape": ""
            }
           },
           "name": "Ireland",
           "orientation": "h",
           "showlegend": true,
           "textposition": "auto",
           "type": "bar",
           "x": {
            "bdata": "AAAAAACaq0A=",
            "dtype": "f8"
           },
           "xaxis": "x",
           "y": [
            "Ireland"
           ],
           "yaxis": "y"
          },
          {
           "hovertemplate": "Land=%{y}<br>year=2005<br>Produzierte Menge (nach Einheit)=%{x}<extra></extra>",
           "legendgroup": "Italy",
           "marker": {
            "color": "#FF97FF",
            "pattern": {
             "shape": ""
            }
           },
           "name": "Italy",
           "orientation": "h",
           "showlegend": true,
           "textposition": "auto",
           "type": "bar",
           "x": {
            "bdata": "AAAAAIBu7UA=",
            "dtype": "f8"
           },
           "xaxis": "x",
           "y": [
            "Italy"
           ],
           "yaxis": "y"
          },
          {
           "hovertemplate": "Land=%{y}<br>year=2005<br>Produzierte Menge (nach Einheit)=%{x}<extra></extra>",
           "legendgroup": "Luxembourg",
           "marker": {
            "color": "#FECB52",
            "pattern": {
             "shape": ""
            }
           },
           "name": "Luxembourg",
           "orientation": "h",
           "showlegend": true,
           "textposition": "auto",
           "type": "bar",
           "x": {
            "bdata": "AAAAAADQl0A=",
            "dtype": "f8"
           },
           "xaxis": "x",
           "y": [
            "Luxembourg"
           ],
           "yaxis": "y"
          },
          {
           "hovertemplate": "Land=%{y}<br>year=2005<br>Produzierte Menge (nach Einheit)=%{x}<extra></extra>",
           "legendgroup": "Netherlands",
           "marker": {
            "color": "#636efa",
            "pattern": {
             "shape": ""
            }
           },
           "name": "Netherlands",
           "orientation": "h",
           "showlegend": true,
           "textposition": "auto",
           "type": "bar",
           "x": {
            "bdata": "AAAAAPCL8UA=",
            "dtype": "f8"
           },
           "xaxis": "x",
           "y": [
            "Netherlands"
           ],
           "yaxis": "y"
          },
          {
           "hovertemplate": "Land=%{y}<br>year=2005<br>Produzierte Menge (nach Einheit)=%{x}<extra></extra>",
           "legendgroup": "Norway",
           "marker": {
            "color": "#EF553B",
            "pattern": {
             "shape": ""
            }
           },
           "name": "Norway",
           "orientation": "h",
           "showlegend": true,
           "textposition": "auto",
           "type": "bar",
           "x": {
            "bdata": "AAAAAACgwkA=",
            "dtype": "f8"
           },
           "xaxis": "x",
           "y": [
            "Norway"
           ],
           "yaxis": "y"
          },
          {
           "hovertemplate": "Land=%{y}<br>year=2005<br>Produzierte Menge (nach Einheit)=%{x}<extra></extra>",
           "legendgroup": "Poland",
           "marker": {
            "color": "#00cc96",
            "pattern": {
             "shape": ""
            }
           },
           "name": "Poland",
           "orientation": "h",
           "showlegend": true,
           "textposition": "auto",
           "type": "bar",
           "x": {
            "bdata": "AAAAAICB5kA=",
            "dtype": "f8"
           },
           "xaxis": "x",
           "y": [
            "Poland"
           ],
           "yaxis": "y"
          },
          {
           "hovertemplate": "Land=%{y}<br>year=2005<br>Produzierte Menge (nach Einheit)=%{x}<extra></extra>",
           "legendgroup": "Portugal",
           "marker": {
            "color": "#ab63fa",
            "pattern": {
             "shape": ""
            }
           },
           "name": "Portugal",
           "orientation": "h",
           "showlegend": true,
           "textposition": "auto",
           "type": "bar",
           "x": {
            "bdata": "AAAAAKDk5EA=",
            "dtype": "f8"
           },
           "xaxis": "x",
           "y": [
            "Portugal"
           ],
           "yaxis": "y"
          },
          {
           "hovertemplate": "Land=%{y}<br>year=2005<br>Produzierte Menge (nach Einheit)=%{x}<extra></extra>",
           "legendgroup": "Spain",
           "marker": {
            "color": "#FFA15A",
            "pattern": {
             "shape": ""
            }
           },
           "name": "Spain",
           "orientation": "h",
           "showlegend": true,
           "textposition": "auto",
           "type": "bar",
           "x": {
            "bdata": "AAAAANAy8EA=",
            "dtype": "f8"
           },
           "xaxis": "x",
           "y": [
            "Spain"
           ],
           "yaxis": "y"
          },
          {
           "hovertemplate": "Land=%{y}<br>year=2005<br>Produzierte Menge (nach Einheit)=%{x}<extra></extra>",
           "legendgroup": "Sweden",
           "marker": {
            "color": "#19d3f3",
            "pattern": {
             "shape": ""
            }
           },
           "name": "Sweden",
           "orientation": "h",
           "showlegend": true,
           "textposition": "auto",
           "type": "bar",
           "x": {
            "bdata": "AAAAAACh8kA=",
            "dtype": "f8"
           },
           "xaxis": "x",
           "y": [
            "Sweden"
           ],
           "yaxis": "y"
          },
          {
           "hovertemplate": "Land=%{y}<br>year=2005<br>Produzierte Menge (nach Einheit)=%{x}<extra></extra>",
           "legendgroup": "Switzerland",
           "marker": {
            "color": "#FF6692",
            "pattern": {
             "shape": ""
            }
           },
           "name": "Switzerland",
           "orientation": "h",
           "showlegend": true,
           "textposition": "auto",
           "type": "bar",
           "x": {
            "bdata": "AAAAAMDf5EA=",
            "dtype": "f8"
           },
           "xaxis": "x",
           "y": [
            "Switzerland"
           ],
           "yaxis": "y"
          },
          {
           "hovertemplate": "Land=%{y}<br>year=2005<br>Produzierte Menge (nach Einheit)=%{x}<extra></extra>",
           "legendgroup": "United Kingdom",
           "marker": {
            "color": "#B6E880",
            "pattern": {
             "shape": ""
            }
           },
           "name": "United Kingdom",
           "orientation": "h",
           "showlegend": true,
           "textposition": "auto",
           "type": "bar",
           "x": {
            "bdata": "AAAAAFAi/EA=",
            "dtype": "f8"
           },
           "xaxis": "x",
           "y": [
            "United Kingdom"
           ],
           "yaxis": "y"
          },
          {
           "hovertemplate": "Land=%{y}<br>year=2005<br>Produzierte Menge (nach Einheit)=%{x}<extra></extra>",
           "legendgroup": "Germany",
           "marker": {
            "color": "#FF97FF",
            "pattern": {
             "shape": ""
            }
           },
           "name": "Germany",
           "orientation": "h",
           "showlegend": true,
           "textposition": "auto",
           "type": "bar",
           "x": {
            "bdata": "AAAAAEgwCEE=",
            "dtype": "f8"
           },
           "xaxis": "x",
           "y": [
            "Germany"
           ],
           "yaxis": "y"
          },
          {
           "hovertemplate": "Land=%{y}<br>year=2005<br>Produzierte Menge (nach Einheit)=%{x}<extra></extra>",
           "legendgroup": "Belarus",
           "marker": {
            "color": "#FECB52",
            "pattern": {
             "shape": ""
            }
           },
           "name": "Belarus",
           "orientation": "h",
           "showlegend": true,
           "textposition": "auto",
           "type": "bar",
           "x": {
            "bdata": "AAAAAAB4mUA=",
            "dtype": "f8"
           },
           "xaxis": "x",
           "y": [
            "Belarus"
           ],
           "yaxis": "y"
          },
          {
           "hovertemplate": "Land=%{y}<br>year=2005<br>Produzierte Menge (nach Einheit)=%{x}<extra></extra>",
           "legendgroup": "Croatia",
           "marker": {
            "color": "#636efa",
            "pattern": {
             "shape": ""
            }
           },
           "name": "Croatia",
           "orientation": "h",
           "showlegend": true,
           "textposition": "auto",
           "type": "bar",
           "x": {
            "bdata": "AAAAAACgYUA=",
            "dtype": "f8"
           },
           "xaxis": "x",
           "y": [
            "Croatia"
           ],
           "yaxis": "y"
          },
          {
           "hovertemplate": "Land=%{y}<br>year=2005<br>Produzierte Menge (nach Einheit)=%{x}<extra></extra>",
           "legendgroup": "Czech Republic",
           "marker": {
            "color": "#EF553B",
            "pattern": {
             "shape": ""
            }
           },
           "name": "Czech Republic",
           "orientation": "h",
           "showlegend": true,
           "textposition": "auto",
           "type": "bar",
           "x": {
            "bdata": "AAAAAABMvEA=",
            "dtype": "f8"
           },
           "xaxis": "x",
           "y": [
            "Czech Republic"
           ],
           "yaxis": "y"
          },
          {
           "hovertemplate": "Land=%{y}<br>year=2005<br>Produzierte Menge (nach Einheit)=%{x}<extra></extra>",
           "legendgroup": "Estonia",
           "marker": {
            "color": "#00cc96",
            "pattern": {
             "shape": ""
            }
           },
           "name": "Estonia",
           "orientation": "h",
           "showlegend": true,
           "textposition": "auto",
           "type": "bar",
           "x": {
            "bdata": "AAAAAAA8skA=",
            "dtype": "f8"
           },
           "xaxis": "x",
           "y": [
            "Estonia"
           ],
           "yaxis": "y"
          },
          {
           "hovertemplate": "Land=%{y}<br>year=2005<br>Produzierte Menge (nach Einheit)=%{x}<extra></extra>",
           "legendgroup": "Latvia",
           "marker": {
            "color": "#ab63fa",
            "pattern": {
             "shape": ""
            }
           },
           "name": "Latvia",
           "orientation": "h",
           "showlegend": true,
           "textposition": "auto",
           "type": "bar",
           "x": {
            "bdata": "AAAAAABwdUA=",
            "dtype": "f8"
           },
           "xaxis": "x",
           "y": [
            "Latvia"
           ],
           "yaxis": "y"
          },
          {
           "hovertemplate": "Land=%{y}<br>year=2005<br>Produzierte Menge (nach Einheit)=%{x}<extra></extra>",
           "legendgroup": "Lithuania",
           "marker": {
            "color": "#FFA15A",
            "pattern": {
             "shape": ""
            }
           },
           "name": "Lithuania",
           "orientation": "h",
           "showlegend": true,
           "textposition": "auto",
           "type": "bar",
           "x": {
            "bdata": "AAAAAIDTy0A=",
            "dtype": "f8"
           },
           "xaxis": "x",
           "y": [
            "Lithuania"
           ],
           "yaxis": "y"
          },
          {
           "hovertemplate": "Land=%{y}<br>year=2005<br>Produzierte Menge (nach Einheit)=%{x}<extra></extra>",
           "legendgroup": "Romania",
           "marker": {
            "color": "#19d3f3",
            "pattern": {
             "shape": ""
            }
           },
           "name": "Romania",
           "orientation": "h",
           "showlegend": true,
           "textposition": "auto",
           "type": "bar",
           "x": {
            "bdata": "AAAAAAAAAAA=",
            "dtype": "f8"
           },
           "xaxis": "x",
           "y": [
            "Romania"
           ],
           "yaxis": "y"
          },
          {
           "hovertemplate": "Land=%{y}<br>year=2005<br>Produzierte Menge (nach Einheit)=%{x}<extra></extra>",
           "legendgroup": "Iceland",
           "marker": {
            "color": "#FF6692",
            "pattern": {
             "shape": ""
            }
           },
           "name": "Iceland",
           "orientation": "h",
           "showlegend": true,
           "textposition": "auto",
           "type": "bar",
           "x": {
            "bdata": "AAAAAAAAXEA=",
            "dtype": "f8"
           },
           "xaxis": "x",
           "y": [
            "Iceland"
           ],
           "yaxis": "y"
          },
          {
           "hovertemplate": "Land=%{y}<br>year=2005<br>Produzierte Menge (nach Einheit)=%{x}<extra></extra>",
           "legendgroup": "Slovenia",
           "marker": {
            "color": "#B6E880",
            "pattern": {
             "shape": ""
            }
           },
           "name": "Slovenia",
           "orientation": "h",
           "showlegend": true,
           "textposition": "auto",
           "type": "bar",
           "x": {
            "bdata": "AAAAAACQh0A=",
            "dtype": "f8"
           },
           "xaxis": "x",
           "y": [
            "Slovenia"
           ],
           "yaxis": "y"
          },
          {
           "hovertemplate": "Land=%{y}<br>year=2005<br>Produzierte Menge (nach Einheit)=%{x}<extra></extra>",
           "legendgroup": "Cyprus",
           "marker": {
            "color": "#FF97FF",
            "pattern": {
             "shape": ""
            }
           },
           "name": "Cyprus",
           "orientation": "h",
           "showlegend": true,
           "textposition": "auto",
           "type": "bar",
           "x": {
            "bdata": "AAAAAAAAQ0A=",
            "dtype": "f8"
           },
           "xaxis": "x",
           "y": [
            "Cyprus"
           ],
           "yaxis": "y"
          },
          {
           "hovertemplate": "Land=%{y}<br>year=2005<br>Produzierte Menge (nach Einheit)=%{x}<extra></extra>",
           "legendgroup": "Slovakia",
           "marker": {
            "color": "#FECB52",
            "pattern": {
             "shape": ""
            }
           },
           "name": "Slovakia",
           "orientation": "h",
           "showlegend": true,
           "textposition": "auto",
           "type": "bar",
           "x": {
            "bdata": "AAAAAACMr0A=",
            "dtype": "f8"
           },
           "xaxis": "x",
           "y": [
            "Slovakia"
           ],
           "yaxis": "y"
          },
          {
           "hovertemplate": "Land=%{y}<br>year=2005<br>Produzierte Menge (nach Einheit)=%{x}<extra></extra>",
           "legendgroup": "Andorra",
           "marker": {
            "color": "#636efa",
            "pattern": {
             "shape": ""
            }
           },
           "name": "Andorra",
           "orientation": "h",
           "showlegend": true,
           "textposition": "auto",
           "type": "bar",
           "x": {
            "bdata": "zczMzMzMLEA=",
            "dtype": "f8"
           },
           "xaxis": "x",
           "y": [
            "Andorra"
           ],
           "yaxis": "y"
          },
          {
           "hovertemplate": "Land=%{y}<br>year=2005<br>Produzierte Menge (nach Einheit)=%{x}<extra></extra>",
           "legendgroup": "Moldova",
           "marker": {
            "color": "#EF553B",
            "pattern": {
             "shape": ""
            }
           },
           "name": "Moldova",
           "orientation": "h",
           "showlegend": true,
           "textposition": "auto",
           "type": "bar",
           "x": {
            "bdata": "AAAAAABwfEA=",
            "dtype": "f8"
           },
           "xaxis": "x",
           "y": [
            "Moldova"
           ],
           "yaxis": "y"
          }
         ],
         "name": "2005"
        },
        {
         "data": [
          {
           "hovertemplate": "Land=%{y}<br>year=2006<br>Produzierte Menge (nach Einheit)=%{x}<extra></extra>",
           "legendgroup": "Austria",
           "marker": {
            "color": "#636efa",
            "pattern": {
             "shape": ""
            }
           },
           "name": "Austria",
           "orientation": "h",
           "showlegend": true,
           "textposition": "auto",
           "type": "bar",
           "x": {
            "bdata": "AAAAAECu1kA=",
            "dtype": "f8"
           },
           "xaxis": "x",
           "y": [
            "Austria"
           ],
           "yaxis": "y"
          },
          {
           "hovertemplate": "Land=%{y}<br>year=2006<br>Produzierte Menge (nach Einheit)=%{x}<extra></extra>",
           "legendgroup": "Belgium",
           "marker": {
            "color": "#EF553B",
            "pattern": {
             "shape": ""
            }
           },
           "name": "Belgium",
           "orientation": "h",
           "showlegend": true,
           "textposition": "auto",
           "type": "bar",
           "x": {
            "bdata": "AAAAAGBL4UA=",
            "dtype": "f8"
           },
           "xaxis": "x",
           "y": [
            "Belgium"
           ],
           "yaxis": "y"
          },
          {
           "hovertemplate": "Land=%{y}<br>year=2006<br>Produzierte Menge (nach Einheit)=%{x}<extra></extra>",
           "legendgroup": "Denmark",
           "marker": {
            "color": "#00cc96",
            "pattern": {
             "shape": ""
            }
           },
           "name": "Denmark",
           "orientation": "h",
           "showlegend": true,
           "textposition": "auto",
           "type": "bar",
           "x": {
            "bdata": "AAAAAABQ7kA=",
            "dtype": "f8"
           },
           "xaxis": "x",
           "y": [
            "Denmark"
           ],
           "yaxis": "y"
          },
          {
           "hovertemplate": "Land=%{y}<br>year=2006<br>Produzierte Menge (nach Einheit)=%{x}<extra></extra>",
           "legendgroup": "Finland",
           "marker": {
            "color": "#ab63fa",
            "pattern": {
             "shape": ""
            }
           },
           "name": "Finland",
           "orientation": "h",
           "showlegend": true,
           "textposition": "auto",
           "type": "bar",
           "x": {
            "bdata": "AAAAAICxwEA=",
            "dtype": "f8"
           },
           "xaxis": "x",
           "y": [
            "Finland"
           ],
           "yaxis": "y"
          },
          {
           "hovertemplate": "Land=%{y}<br>year=2006<br>Produzierte Menge (nach Einheit)=%{x}<extra></extra>",
           "legendgroup": "France",
           "marker": {
            "color": "#FFA15A",
            "pattern": {
             "shape": ""
            }
           },
           "name": "France",
           "orientation": "h",
           "showlegend": true,
           "textposition": "auto",
           "type": "bar",
           "x": {
            "bdata": "AAAAACCU+UA=",
            "dtype": "f8"
           },
           "xaxis": "x",
           "y": [
            "France"
           ],
           "yaxis": "y"
          },
          {
           "hovertemplate": "Land=%{y}<br>year=2006<br>Produzierte Menge (nach Einheit)=%{x}<extra></extra>",
           "legendgroup": "Greece",
           "marker": {
            "color": "#19d3f3",
            "pattern": {
             "shape": ""
            }
           },
           "name": "Greece",
           "orientation": "h",
           "showlegend": true,
           "textposition": "auto",
           "type": "bar",
           "x": {
            "bdata": "AAAAAABMw0A=",
            "dtype": "f8"
           },
           "xaxis": "x",
           "y": [
            "Greece"
           ],
           "yaxis": "y"
          },
          {
           "hovertemplate": "Land=%{y}<br>year=2006<br>Produzierte Menge (nach Einheit)=%{x}<extra></extra>",
           "legendgroup": "Hungary",
           "marker": {
            "color": "#FF6692",
            "pattern": {
             "shape": ""
            }
           },
           "name": "Hungary",
           "orientation": "h",
           "showlegend": true,
           "textposition": "auto",
           "type": "bar",
           "x": {
            "bdata": "AAAAAIC7w0A=",
            "dtype": "f8"
           },
           "xaxis": "x",
           "y": [
            "Hungary"
           ],
           "yaxis": "y"
          },
          {
           "hovertemplate": "Land=%{y}<br>year=2006<br>Produzierte Menge (nach Einheit)=%{x}<extra></extra>",
           "legendgroup": "Ireland",
           "marker": {
            "color": "#B6E880",
            "pattern": {
             "shape": ""
            }
           },
           "name": "Ireland",
           "orientation": "h",
           "showlegend": true,
           "textposition": "auto",
           "type": "bar",
           "x": {
            "bdata": "AAAAAAD4rUA=",
            "dtype": "f8"
           },
           "xaxis": "x",
           "y": [
            "Ireland"
           ],
           "yaxis": "y"
          },
          {
           "hovertemplate": "Land=%{y}<br>year=2006<br>Produzierte Menge (nach Einheit)=%{x}<extra></extra>",
           "legendgroup": "Italy",
           "marker": {
            "color": "#FF97FF",
            "pattern": {
             "shape": ""
            }
           },
           "name": "Italy",
           "orientation": "h",
           "showlegend": true,
           "textposition": "auto",
           "type": "bar",
           "x": {
            "bdata": "AAAAACDS8EA=",
            "dtype": "f8"
           },
           "xaxis": "x",
           "y": [
            "Italy"
           ],
           "yaxis": "y"
          },
          {
           "hovertemplate": "Land=%{y}<br>year=2006<br>Produzierte Menge (nach Einheit)=%{x}<extra></extra>",
           "legendgroup": "Luxembourg",
           "marker": {
            "color": "#FECB52",
            "pattern": {
             "shape": ""
            }
           },
           "name": "Luxembourg",
           "orientation": "h",
           "showlegend": true,
           "textposition": "auto",
           "type": "bar",
           "x": {
            "bdata": "AAAAAAAcmkA=",
            "dtype": "f8"
           },
           "xaxis": "x",
           "y": [
            "Luxembourg"
           ],
           "yaxis": "y"
          },
          {
           "hovertemplate": "Land=%{y}<br>year=2006<br>Produzierte Menge (nach Einheit)=%{x}<extra></extra>",
           "legendgroup": "Netherlands",
           "marker": {
            "color": "#636efa",
            "pattern": {
             "shape": ""
            }
           },
           "name": "Netherlands",
           "orientation": "h",
           "showlegend": true,
           "textposition": "auto",
           "type": "bar",
           "x": {
            "bdata": "AAAAAGDZ8EA=",
            "dtype": "f8"
           },
           "xaxis": "x",
           "y": [
            "Netherlands"
           ],
           "yaxis": "y"
          },
          {
           "hovertemplate": "Land=%{y}<br>year=2006<br>Produzierte Menge (nach Einheit)=%{x}<extra></extra>",
           "legendgroup": "Norway",
           "marker": {
            "color": "#EF553B",
            "pattern": {
             "shape": ""
            }
           },
           "name": "Norway",
           "orientation": "h",
           "showlegend": true,
           "textposition": "auto",
           "type": "bar",
           "x": {
            "bdata": "AAAAAIARw0A=",
            "dtype": "f8"
           },
           "xaxis": "x",
           "y": [
            "Norway"
           ],
           "yaxis": "y"
          },
          {
           "hovertemplate": "Land=%{y}<br>year=2006<br>Produzierte Menge (nach Einheit)=%{x}<extra></extra>",
           "legendgroup": "Poland",
           "marker": {
            "color": "#00cc96",
            "pattern": {
             "shape": ""
            }
           },
           "name": "Poland",
           "orientation": "h",
           "showlegend": true,
           "textposition": "auto",
           "type": "bar",
           "x": {
            "bdata": "AAAAAOAY6EA=",
            "dtype": "f8"
           },
           "xaxis": "x",
           "y": [
            "Poland"
           ],
           "yaxis": "y"
          },
          {
           "hovertemplate": "Land=%{y}<br>year=2006<br>Produzierte Menge (nach Einheit)=%{x}<extra></extra>",
           "legendgroup": "Portugal",
           "marker": {
            "color": "#ab63fa",
            "pattern": {
             "shape": ""
            }
           },
           "name": "Portugal",
           "orientation": "h",
           "showlegend": true,
           "textposition": "auto",
           "type": "bar",
           "x": {
            "bdata": "AAAAAMCX5EA=",
            "dtype": "f8"
           },
           "xaxis": "x",
           "y": [
            "Portugal"
           ],
           "yaxis": "y"
          },
          {
           "hovertemplate": "Land=%{y}<br>year=2006<br>Produzierte Menge (nach Einheit)=%{x}<extra></extra>",
           "legendgroup": "Spain",
           "marker": {
            "color": "#FFA15A",
            "pattern": {
             "shape": ""
            }
           },
           "name": "Spain",
           "orientation": "h",
           "showlegend": true,
           "textposition": "auto",
           "type": "bar",
           "x": {
            "bdata": "AAAAAFDS8EA=",
            "dtype": "f8"
           },
           "xaxis": "x",
           "y": [
            "Spain"
           ],
           "yaxis": "y"
          },
          {
           "hovertemplate": "Land=%{y}<br>year=2006<br>Produzierte Menge (nach Einheit)=%{x}<extra></extra>",
           "legendgroup": "Sweden",
           "marker": {
            "color": "#19d3f3",
            "pattern": {
             "shape": ""
            }
           },
           "name": "Sweden",
           "orientation": "h",
           "showlegend": true,
           "textposition": "auto",
           "type": "bar",
           "x": {
            "bdata": "AAAAAGBv4EA=",
            "dtype": "f8"
           },
           "xaxis": "x",
           "y": [
            "Sweden"
           ],
           "yaxis": "y"
          },
          {
           "hovertemplate": "Land=%{y}<br>year=2006<br>Produzierte Menge (nach Einheit)=%{x}<extra></extra>",
           "legendgroup": "Switzerland",
           "marker": {
            "color": "#FF6692",
            "pattern": {
             "shape": ""
            }
           },
           "name": "Switzerland",
           "orientation": "h",
           "showlegend": true,
           "textposition": "auto",
           "type": "bar",
           "x": {
            "bdata": "AAAAAAC75kA=",
            "dtype": "f8"
           },
           "xaxis": "x",
           "y": [
            "Switzerland"
           ],
           "yaxis": "y"
          },
          {
           "hovertemplate": "Land=%{y}<br>year=2006<br>Produzierte Menge (nach Einheit)=%{x}<extra></extra>",
           "legendgroup": "United Kingdom",
           "marker": {
            "color": "#B6E880",
            "pattern": {
             "shape": ""
            }
           },
           "name": "United Kingdom",
           "orientation": "h",
           "showlegend": true,
           "textposition": "auto",
           "type": "bar",
           "x": {
            "bdata": "AAAAADAk/EA=",
            "dtype": "f8"
           },
           "xaxis": "x",
           "y": [
            "United Kingdom"
           ],
           "yaxis": "y"
          },
          {
           "hovertemplate": "Land=%{y}<br>year=2006<br>Produzierte Menge (nach Einheit)=%{x}<extra></extra>",
           "legendgroup": "Germany",
           "marker": {
            "color": "#FF97FF",
            "pattern": {
             "shape": ""
            }
           },
           "name": "Germany",
           "orientation": "h",
           "showlegend": true,
           "textposition": "auto",
           "type": "bar",
           "x": {
            "bdata": "AAAAAKg8DUE=",
            "dtype": "f8"
           },
           "xaxis": "x",
           "y": [
            "Germany"
           ],
           "yaxis": "y"
          },
          {
           "hovertemplate": "Land=%{y}<br>year=2006<br>Produzierte Menge (nach Einheit)=%{x}<extra></extra>",
           "legendgroup": "Belarus",
           "marker": {
            "color": "#FECB52",
            "pattern": {
             "shape": ""
            }
           },
           "name": "Belarus",
           "orientation": "h",
           "showlegend": true,
           "textposition": "auto",
           "type": "bar",
           "x": {
            "bdata": "AAAAAACOoUA=",
            "dtype": "f8"
           },
           "xaxis": "x",
           "y": [
            "Belarus"
           ],
           "yaxis": "y"
          },
          {
           "hovertemplate": "Land=%{y}<br>year=2006<br>Produzierte Menge (nach Einheit)=%{x}<extra></extra>",
           "legendgroup": "Croatia",
           "marker": {
            "color": "#636efa",
            "pattern": {
             "shape": ""
            }
           },
           "name": "Croatia",
           "orientation": "h",
           "showlegend": true,
           "textposition": "auto",
           "type": "bar",
           "x": {
            "bdata": "AAAAAABAU0A=",
            "dtype": "f8"
           },
           "xaxis": "x",
           "y": [
            "Croatia"
           ],
           "yaxis": "y"
          },
          {
           "hovertemplate": "Land=%{y}<br>year=2006<br>Produzierte Menge (nach Einheit)=%{x}<extra></extra>",
           "legendgroup": "Czech Republic",
           "marker": {
            "color": "#EF553B",
            "pattern": {
             "shape": ""
            }
           },
           "name": "Czech Republic",
           "orientation": "h",
           "showlegend": true,
           "textposition": "auto",
           "type": "bar",
           "x": {
            "bdata": "AAAAAAAwwEA=",
            "dtype": "f8"
           },
           "xaxis": "x",
           "y": [
            "Czech Republic"
           ],
           "yaxis": "y"
          },
          {
           "hovertemplate": "Land=%{y}<br>year=2006<br>Produzierte Menge (nach Einheit)=%{x}<extra></extra>",
           "legendgroup": "Estonia",
           "marker": {
            "color": "#00cc96",
            "pattern": {
             "shape": ""
            }
           },
           "name": "Estonia",
           "orientation": "h",
           "showlegend": true,
           "textposition": "auto",
           "type": "bar",
           "x": {
            "bdata": "AAAAAACntEA=",
            "dtype": "f8"
           },
           "xaxis": "x",
           "y": [
            "Estonia"
           ],
           "yaxis": "y"
          },
          {
           "hovertemplate": "Land=%{y}<br>year=2006<br>Produzierte Menge (nach Einheit)=%{x}<extra></extra>",
           "legendgroup": "Latvia",
           "marker": {
            "color": "#ab63fa",
            "pattern": {
             "shape": ""
            }
           },
           "name": "Latvia",
           "orientation": "h",
           "showlegend": true,
           "textposition": "auto",
           "type": "bar",
           "x": {
            "bdata": "AAAAAABAdUA=",
            "dtype": "f8"
           },
           "xaxis": "x",
           "y": [
            "Latvia"
           ],
           "yaxis": "y"
          },
          {
           "hovertemplate": "Land=%{y}<br>year=2006<br>Produzierte Menge (nach Einheit)=%{x}<extra></extra>",
           "legendgroup": "Lithuania",
           "marker": {
            "color": "#FFA15A",
            "pattern": {
             "shape": ""
            }
           },
           "name": "Lithuania",
           "orientation": "h",
           "showlegend": true,
           "textposition": "auto",
           "type": "bar",
           "x": {
            "bdata": "AAAAAICyzUA=",
            "dtype": "f8"
           },
           "xaxis": "x",
           "y": [
            "Lithuania"
           ],
           "yaxis": "y"
          },
          {
           "hovertemplate": "Land=%{y}<br>year=2006<br>Produzierte Menge (nach Einheit)=%{x}<extra></extra>",
           "legendgroup": "Romania",
           "marker": {
            "color": "#19d3f3",
            "pattern": {
             "shape": ""
            }
           },
           "name": "Romania",
           "orientation": "h",
           "showlegend": true,
           "textposition": "auto",
           "type": "bar",
           "x": {
            "bdata": "AAAAAAAAAAA=",
            "dtype": "f8"
           },
           "xaxis": "x",
           "y": [
            "Romania"
           ],
           "yaxis": "y"
          },
          {
           "hovertemplate": "Land=%{y}<br>year=2006<br>Produzierte Menge (nach Einheit)=%{x}<extra></extra>",
           "legendgroup": "Iceland",
           "marker": {
            "color": "#FF6692",
            "pattern": {
             "shape": ""
            }
           },
           "name": "Iceland",
           "orientation": "h",
           "showlegend": true,
           "textposition": "auto",
           "type": "bar",
           "x": {
            "bdata": "AAAAAAAAWEA=",
            "dtype": "f8"
           },
           "xaxis": "x",
           "y": [
            "Iceland"
           ],
           "yaxis": "y"
          },
          {
           "hovertemplate": "Land=%{y}<br>year=2006<br>Produzierte Menge (nach Einheit)=%{x}<extra></extra>",
           "legendgroup": "Slovenia",
           "marker": {
            "color": "#B6E880",
            "pattern": {
             "shape": ""
            }
           },
           "name": "Slovenia",
           "orientation": "h",
           "showlegend": true,
           "textposition": "auto",
           "type": "bar",
           "x": {
            "bdata": "AAAAAADgiEA=",
            "dtype": "f8"
           },
           "xaxis": "x",
           "y": [
            "Slovenia"
           ],
           "yaxis": "y"
          },
          {
           "hovertemplate": "Land=%{y}<br>year=2006<br>Produzierte Menge (nach Einheit)=%{x}<extra></extra>",
           "legendgroup": "Cyprus",
           "marker": {
            "color": "#FF97FF",
            "pattern": {
             "shape": ""
            }
           },
           "name": "Cyprus",
           "orientation": "h",
           "showlegend": true,
           "textposition": "auto",
           "type": "bar",
           "x": {
            "bdata": "AAAAAAAAT0A=",
            "dtype": "f8"
           },
           "xaxis": "x",
           "y": [
            "Cyprus"
           ],
           "yaxis": "y"
          },
          {
           "hovertemplate": "Land=%{y}<br>year=2006<br>Produzierte Menge (nach Einheit)=%{x}<extra></extra>",
           "legendgroup": "Slovakia",
           "marker": {
            "color": "#FECB52",
            "pattern": {
             "shape": ""
            }
           },
           "name": "Slovakia",
           "orientation": "h",
           "showlegend": true,
           "textposition": "auto",
           "type": "bar",
           "x": {
            "bdata": "AAAAAAD2skA=",
            "dtype": "f8"
           },
           "xaxis": "x",
           "y": [
            "Slovakia"
           ],
           "yaxis": "y"
          },
          {
           "hovertemplate": "Land=%{y}<br>year=2006<br>Produzierte Menge (nach Einheit)=%{x}<extra></extra>",
           "legendgroup": "Andorra",
           "marker": {
            "color": "#636efa",
            "pattern": {
             "shape": ""
            }
           },
           "name": "Andorra",
           "orientation": "h",
           "showlegend": true,
           "textposition": "auto",
           "type": "bar",
           "x": {
            "bdata": "zczMzMzMTEA=",
            "dtype": "f8"
           },
           "xaxis": "x",
           "y": [
            "Andorra"
           ],
           "yaxis": "y"
          },
          {
           "hovertemplate": "Land=%{y}<br>year=2006<br>Produzierte Menge (nach Einheit)=%{x}<extra></extra>",
           "legendgroup": "Moldova",
           "marker": {
            "color": "#EF553B",
            "pattern": {
             "shape": ""
            }
           },
           "name": "Moldova",
           "orientation": "h",
           "showlegend": true,
           "textposition": "auto",
           "type": "bar",
           "x": {
            "bdata": "AAAAAAAQfkA=",
            "dtype": "f8"
           },
           "xaxis": "x",
           "y": [
            "Moldova"
           ],
           "yaxis": "y"
          }
         ],
         "name": "2006"
        },
        {
         "data": [
          {
           "hovertemplate": "Land=%{y}<br>year=2007<br>Produzierte Menge (nach Einheit)=%{x}<extra></extra>",
           "legendgroup": "Austria",
           "marker": {
            "color": "#636efa",
            "pattern": {
             "shape": ""
            }
           },
           "name": "Austria",
           "orientation": "h",
           "showlegend": true,
           "textposition": "auto",
           "type": "bar",
           "x": {
            "bdata": "AAAAAEDV1kA=",
            "dtype": "f8"
           },
           "xaxis": "x",
           "y": [
            "Austria"
           ],
           "yaxis": "y"
          },
          {
           "hovertemplate": "Land=%{y}<br>year=2007<br>Produzierte Menge (nach Einheit)=%{x}<extra></extra>",
           "legendgroup": "Belgium",
           "marker": {
            "color": "#EF553B",
            "pattern": {
             "shape": ""
            }
           },
           "name": "Belgium",
           "orientation": "h",
           "showlegend": true,
           "textposition": "auto",
           "type": "bar",
           "x": {
            "bdata": "AAAAAKCq4EA=",
            "dtype": "f8"
           },
           "xaxis": "x",
           "y": [
            "Belgium"
           ],
           "yaxis": "y"
          },
          {
           "hovertemplate": "Land=%{y}<br>year=2007<br>Produzierte Menge (nach Einheit)=%{x}<extra></extra>",
           "legendgroup": "Denmark",
           "marker": {
            "color": "#00cc96",
            "pattern": {
             "shape": ""
            }
           },
           "name": "Denmark",
           "orientation": "h",
           "showlegend": true,
           "textposition": "auto",
           "type": "bar",
           "x": {
            "bdata": "AAAAAEAa70A=",
            "dtype": "f8"
           },
           "xaxis": "x",
           "y": [
            "Denmark"
           ],
           "yaxis": "y"
          },
          {
           "hovertemplate": "Land=%{y}<br>year=2007<br>Produzierte Menge (nach Einheit)=%{x}<extra></extra>",
           "legendgroup": "Finland",
           "marker": {
            "color": "#ab63fa",
            "pattern": {
             "shape": ""
            }
           },
           "name": "Finland",
           "orientation": "h",
           "showlegend": true,
           "textposition": "auto",
           "type": "bar",
           "x": {
            "bdata": "AAAAAABWw0A=",
            "dtype": "f8"
           },
           "xaxis": "x",
           "y": [
            "Finland"
           ],
           "yaxis": "y"
          },
          {
           "hovertemplate": "Land=%{y}<br>year=2007<br>Produzierte Menge (nach Einheit)=%{x}<extra></extra>",
           "legendgroup": "France",
           "marker": {
            "color": "#FFA15A",
            "pattern": {
             "shape": ""
            }
           },
           "name": "France",
           "orientation": "h",
           "showlegend": true,
           "textposition": "auto",
           "type": "bar",
           "x": {
            "bdata": "AAAAAJCQ+kA=",
            "dtype": "f8"
           },
           "xaxis": "x",
           "y": [
            "France"
           ],
           "yaxis": "y"
          },
          {
           "hovertemplate": "Land=%{y}<br>year=2007<br>Produzierte Menge (nach Einheit)=%{x}<extra></extra>",
           "legendgroup": "Greece",
           "marker": {
            "color": "#19d3f3",
            "pattern": {
             "shape": ""
            }
           },
           "name": "Greece",
           "orientation": "h",
           "showlegend": true,
           "textposition": "auto",
           "type": "bar",
           "x": {
            "bdata": "AAAAAIDtw0A=",
            "dtype": "f8"
           },
           "xaxis": "x",
           "y": [
            "Greece"
           ],
           "yaxis": "y"
          },
          {
           "hovertemplate": "Land=%{y}<br>year=2007<br>Produzierte Menge (nach Einheit)=%{x}<extra></extra>",
           "legendgroup": "Hungary",
           "marker": {
            "color": "#FF6692",
            "pattern": {
             "shape": ""
            }
           },
           "name": "Hungary",
           "orientation": "h",
           "showlegend": true,
           "textposition": "auto",
           "type": "bar",
           "x": {
            "bdata": "AAAAAIApxUA=",
            "dtype": "f8"
           },
           "xaxis": "x",
           "y": [
            "Hungary"
           ],
           "yaxis": "y"
          },
          {
           "hovertemplate": "Land=%{y}<br>year=2007<br>Produzierte Menge (nach Einheit)=%{x}<extra></extra>",
           "legendgroup": "Ireland",
           "marker": {
            "color": "#B6E880",
            "pattern": {
             "shape": ""
            }
           },
           "name": "Ireland",
           "orientation": "h",
           "showlegend": true,
           "textposition": "auto",
           "type": "bar",
           "x": {
            "bdata": "AAAAAAAksUA=",
            "dtype": "f8"
           },
           "xaxis": "x",
           "y": [
            "Ireland"
           ],
           "yaxis": "y"
          },
          {
           "hovertemplate": "Land=%{y}<br>year=2007<br>Produzierte Menge (nach Einheit)=%{x}<extra></extra>",
           "legendgroup": "Italy",
           "marker": {
            "color": "#FF97FF",
            "pattern": {
             "shape": ""
            }
           },
           "name": "Italy",
           "orientation": "h",
           "showlegend": true,
           "textposition": "auto",
           "type": "bar",
           "x": {
            "bdata": "AAAAAEBT8kA=",
            "dtype": "f8"
           },
           "xaxis": "x",
           "y": [
            "Italy"
           ],
           "yaxis": "y"
          },
          {
           "hovertemplate": "Land=%{y}<br>year=2007<br>Produzierte Menge (nach Einheit)=%{x}<extra></extra>",
           "legendgroup": "Luxembourg",
           "marker": {
            "color": "#FECB52",
            "pattern": {
             "shape": ""
            }
           },
           "name": "Luxembourg",
           "orientation": "h",
           "showlegend": true,
           "textposition": "auto",
           "type": "bar",
           "x": {
            "bdata": "AAAAAAC0nkA=",
            "dtype": "f8"
           },
           "xaxis": "x",
           "y": [
            "Luxembourg"
           ],
           "yaxis": "y"
          },
          {
           "hovertemplate": "Land=%{y}<br>year=2007<br>Produzierte Menge (nach Einheit)=%{x}<extra></extra>",
           "legendgroup": "Netherlands",
           "marker": {
            "color": "#636efa",
            "pattern": {
             "shape": ""
            }
           },
           "name": "Netherlands",
           "orientation": "h",
           "showlegend": true,
           "textposition": "auto",
           "type": "bar",
           "x": {
            "bdata": "AAAAAKBR8UA=",
            "dtype": "f8"
           },
           "xaxis": "x",
           "y": [
            "Netherlands"
           ],
           "yaxis": "y"
          },
          {
           "hovertemplate": "Land=%{y}<br>year=2007<br>Produzierte Menge (nach Einheit)=%{x}<extra></extra>",
           "legendgroup": "Norway",
           "marker": {
            "color": "#EF553B",
            "pattern": {
             "shape": ""
            }
           },
           "name": "Norway",
           "orientation": "h",
           "showlegend": true,
           "textposition": "auto",
           "type": "bar",
           "x": {
            "bdata": "AAAAAAAWw0A=",
            "dtype": "f8"
           },
           "xaxis": "x",
           "y": [
            "Norway"
           ],
           "yaxis": "y"
          },
          {
           "hovertemplate": "Land=%{y}<br>year=2007<br>Produzierte Menge (nach Einheit)=%{x}<extra></extra>",
           "legendgroup": "Poland",
           "marker": {
            "color": "#00cc96",
            "pattern": {
             "shape": ""
            }
           },
           "name": "Poland",
           "orientation": "h",
           "showlegend": true,
           "textposition": "auto",
           "type": "bar",
           "x": {
            "bdata": "AAAAAKD16UA=",
            "dtype": "f8"
           },
           "xaxis": "x",
           "y": [
            "Poland"
           ],
           "yaxis": "y"
          },
          {
           "hovertemplate": "Land=%{y}<br>year=2007<br>Produzierte Menge (nach Einheit)=%{x}<extra></extra>",
           "legendgroup": "Portugal",
           "marker": {
            "color": "#ab63fa",
            "pattern": {
             "shape": ""
            }
           },
           "name": "Portugal",
           "orientation": "h",
           "showlegend": true,
           "textposition": "auto",
           "type": "bar",
           "x": {
            "bdata": "AAAAAOAe5UA=",
            "dtype": "f8"
           },
           "xaxis": "x",
           "y": [
            "Portugal"
           ],
           "yaxis": "y"
          },
          {
           "hovertemplate": "Land=%{y}<br>year=2007<br>Produzierte Menge (nach Einheit)=%{x}<extra></extra>",
           "legendgroup": "Spain",
           "marker": {
            "color": "#FFA15A",
            "pattern": {
             "shape": ""
            }
           },
           "name": "Spain",
           "orientation": "h",
           "showlegend": true,
           "textposition": "auto",
           "type": "bar",
           "x": {
            "bdata": "AAAAAJA08kA=",
            "dtype": "f8"
           },
           "xaxis": "x",
           "y": [
            "Spain"
           ],
           "yaxis": "y"
          },
          {
           "hovertemplate": "Land=%{y}<br>year=2007<br>Produzierte Menge (nach Einheit)=%{x}<extra></extra>",
           "legendgroup": "Sweden",
           "marker": {
            "color": "#19d3f3",
            "pattern": {
             "shape": ""
            }
           },
           "name": "Sweden",
           "orientation": "h",
           "showlegend": true,
           "textposition": "auto",
           "type": "bar",
           "x": {
            "bdata": "AAAAAGAM5EA=",
            "dtype": "f8"
           },
           "xaxis": "x",
           "y": [
            "Sweden"
           ],
           "yaxis": "y"
          },
          {
           "hovertemplate": "Land=%{y}<br>year=2007<br>Produzierte Menge (nach Einheit)=%{x}<extra></extra>",
           "legendgroup": "Switzerland",
           "marker": {
            "color": "#FF6692",
            "pattern": {
             "shape": ""
            }
           },
           "name": "Switzerland",
           "orientation": "h",
           "showlegend": true,
           "textposition": "auto",
           "type": "bar",
           "x": {
            "bdata": "AAAAAMAS50A=",
            "dtype": "f8"
           },
           "xaxis": "x",
           "y": [
            "Switzerland"
           ],
           "yaxis": "y"
          },
          {
           "hovertemplate": "Land=%{y}<br>year=2007<br>Produzierte Menge (nach Einheit)=%{x}<extra></extra>",
           "legendgroup": "United Kingdom",
           "marker": {
            "color": "#B6E880",
            "pattern": {
             "shape": ""
            }
           },
           "name": "United Kingdom",
           "orientation": "h",
           "showlegend": true,
           "textposition": "auto",
           "type": "bar",
           "x": {
            "bdata": "AAAAAHAV/UA=",
            "dtype": "f8"
           },
           "xaxis": "x",
           "y": [
            "United Kingdom"
           ],
           "yaxis": "y"
          },
          {
           "hovertemplate": "Land=%{y}<br>year=2007<br>Produzierte Menge (nach Einheit)=%{x}<extra></extra>",
           "legendgroup": "Germany",
           "marker": {
            "color": "#FF97FF",
            "pattern": {
             "shape": ""
            }
           },
           "name": "Germany",
           "orientation": "h",
           "showlegend": true,
           "textposition": "auto",
           "type": "bar",
           "x": {
            "bdata": "AAAAANhDE0E=",
            "dtype": "f8"
           },
           "xaxis": "x",
           "y": [
            "Germany"
           ],
           "yaxis": "y"
          },
          {
           "hovertemplate": "Land=%{y}<br>year=2007<br>Produzierte Menge (nach Einheit)=%{x}<extra></extra>",
           "legendgroup": "Belarus",
           "marker": {
            "color": "#FECB52",
            "pattern": {
             "shape": ""
            }
           },
           "name": "Belarus",
           "orientation": "h",
           "showlegend": true,
           "textposition": "auto",
           "type": "bar",
           "x": {
            "bdata": "AAAAAABWo0A=",
            "dtype": "f8"
           },
           "xaxis": "x",
           "y": [
            "Belarus"
           ],
           "yaxis": "y"
          },
          {
           "hovertemplate": "Land=%{y}<br>year=2007<br>Produzierte Menge (nach Einheit)=%{x}<extra></extra>",
           "legendgroup": "Croatia",
           "marker": {
            "color": "#636efa",
            "pattern": {
             "shape": ""
            }
           },
           "name": "Croatia",
           "orientation": "h",
           "showlegend": true,
           "textposition": "auto",
           "type": "bar",
           "x": {
            "bdata": "AAAAAACAUUA=",
            "dtype": "f8"
           },
           "xaxis": "x",
           "y": [
            "Croatia"
           ],
           "yaxis": "y"
          },
          {
           "hovertemplate": "Land=%{y}<br>year=2007<br>Produzierte Menge (nach Einheit)=%{x}<extra></extra>",
           "legendgroup": "Czech Republic",
           "marker": {
            "color": "#EF553B",
            "pattern": {
             "shape": ""
            }
           },
           "name": "Czech Republic",
           "orientation": "h",
           "showlegend": true,
           "textposition": "auto",
           "type": "bar",
           "x": {
            "bdata": "AAAAAIDMwEA=",
            "dtype": "f8"
           },
           "xaxis": "x",
           "y": [
            "Czech Republic"
           ],
           "yaxis": "y"
          },
          {
           "hovertemplate": "Land=%{y}<br>year=2007<br>Produzierte Menge (nach Einheit)=%{x}<extra></extra>",
           "legendgroup": "Estonia",
           "marker": {
            "color": "#00cc96",
            "pattern": {
             "shape": ""
            }
           },
           "name": "Estonia",
           "orientation": "h",
           "showlegend": true,
           "textposition": "auto",
           "type": "bar",
           "x": {
            "bdata": "AAAAAAA+ukA=",
            "dtype": "f8"
           },
           "xaxis": "x",
           "y": [
            "Estonia"
           ],
           "yaxis": "y"
          },
          {
           "hovertemplate": "Land=%{y}<br>year=2007<br>Produzierte Menge (nach Einheit)=%{x}<extra></extra>",
           "legendgroup": "Latvia",
           "marker": {
            "color": "#ab63fa",
            "pattern": {
             "shape": ""
            }
           },
           "name": "Latvia",
           "orientation": "h",
           "showlegend": true,
           "textposition": "auto",
           "type": "bar",
           "x": {
            "bdata": "AAAAAAAQdkA=",
            "dtype": "f8"
           },
           "xaxis": "x",
           "y": [
            "Latvia"
           ],
           "yaxis": "y"
          },
          {
           "hovertemplate": "Land=%{y}<br>year=2007<br>Produzierte Menge (nach Einheit)=%{x}<extra></extra>",
           "legendgroup": "Lithuania",
           "marker": {
            "color": "#FFA15A",
            "pattern": {
             "shape": ""
            }
           },
           "name": "Lithuania",
           "orientation": "h",
           "showlegend": true,
           "textposition": "auto",
           "type": "bar",
           "x": {
            "bdata": "AAAAAABQckA=",
            "dtype": "f8"
           },
           "xaxis": "x",
           "y": [
            "Lithuania"
           ],
           "yaxis": "y"
          },
          {
           "hovertemplate": "Land=%{y}<br>year=2007<br>Produzierte Menge (nach Einheit)=%{x}<extra></extra>",
           "legendgroup": "Romania",
           "marker": {
            "color": "#19d3f3",
            "pattern": {
             "shape": ""
            }
           },
           "name": "Romania",
           "orientation": "h",
           "showlegend": true,
           "textposition": "auto",
           "type": "bar",
           "x": {
            "bdata": "AAAAAADAUkA=",
            "dtype": "f8"
           },
           "xaxis": "x",
           "y": [
            "Romania"
           ],
           "yaxis": "y"
          },
          {
           "hovertemplate": "Land=%{y}<br>year=2007<br>Produzierte Menge (nach Einheit)=%{x}<extra></extra>",
           "legendgroup": "Iceland",
           "marker": {
            "color": "#FF6692",
            "pattern": {
             "shape": ""
            }
           },
           "name": "Iceland",
           "orientation": "h",
           "showlegend": true,
           "textposition": "auto",
           "type": "bar",
           "x": {
            "bdata": "AAAAAABwcEA=",
            "dtype": "f8"
           },
           "xaxis": "x",
           "y": [
            "Iceland"
           ],
           "yaxis": "y"
          },
          {
           "hovertemplate": "Land=%{y}<br>year=2007<br>Produzierte Menge (nach Einheit)=%{x}<extra></extra>",
           "legendgroup": "Slovenia",
           "marker": {
            "color": "#B6E880",
            "pattern": {
             "shape": ""
            }
           },
           "name": "Slovenia",
           "orientation": "h",
           "showlegend": true,
           "textposition": "auto",
           "type": "bar",
           "x": {
            "bdata": "AAAAAADwjUA=",
            "dtype": "f8"
           },
           "xaxis": "x",
           "y": [
            "Slovenia"
           ],
           "yaxis": "y"
          },
          {
           "hovertemplate": "Land=%{y}<br>year=2007<br>Produzierte Menge (nach Einheit)=%{x}<extra></extra>",
           "legendgroup": "Cyprus",
           "marker": {
            "color": "#FF97FF",
            "pattern": {
             "shape": ""
            }
           },
           "name": "Cyprus",
           "orientation": "h",
           "showlegend": true,
           "textposition": "auto",
           "type": "bar",
           "x": {
            "bdata": "AAAAAACAYkA=",
            "dtype": "f8"
           },
           "xaxis": "x",
           "y": [
            "Cyprus"
           ],
           "yaxis": "y"
          },
          {
           "hovertemplate": "Land=%{y}<br>year=2007<br>Produzierte Menge (nach Einheit)=%{x}<extra></extra>",
           "legendgroup": "Slovakia",
           "marker": {
            "color": "#FECB52",
            "pattern": {
             "shape": ""
            }
           },
           "name": "Slovakia",
           "orientation": "h",
           "showlegend": true,
           "textposition": "auto",
           "type": "bar",
           "x": {
            "bdata": "AAAAAADEtkA=",
            "dtype": "f8"
           },
           "xaxis": "x",
           "y": [
            "Slovakia"
           ],
           "yaxis": "y"
          },
          {
           "hovertemplate": "Land=%{y}<br>year=2007<br>Produzierte Menge (nach Einheit)=%{x}<extra></extra>",
           "legendgroup": "Andorra",
           "marker": {
            "color": "#636efa",
            "pattern": {
             "shape": ""
            }
           },
           "name": "Andorra",
           "orientation": "h",
           "showlegend": true,
           "textposition": "auto",
           "type": "bar",
           "x": {
            "bdata": "mpmZmZkZcUA=",
            "dtype": "f8"
           },
           "xaxis": "x",
           "y": [
            "Andorra"
           ],
           "yaxis": "y"
          },
          {
           "hovertemplate": "Land=%{y}<br>year=2007<br>Produzierte Menge (nach Einheit)=%{x}<extra></extra>",
           "legendgroup": "Moldova",
           "marker": {
            "color": "#EF553B",
            "pattern": {
             "shape": ""
            }
           },
           "name": "Moldova",
           "orientation": "h",
           "showlegend": true,
           "textposition": "auto",
           "type": "bar",
           "x": {
            "bdata": "AAAAAABwe0A=",
            "dtype": "f8"
           },
           "xaxis": "x",
           "y": [
            "Moldova"
           ],
           "yaxis": "y"
          },
          {
           "hovertemplate": "Land=%{y}<br>year=2007<br>Produzierte Menge (nach Einheit)=%{x}<extra></extra>",
           "legendgroup": "Bulgaria",
           "marker": {
            "color": "#00cc96",
            "pattern": {
             "shape": ""
            }
           },
           "name": "Bulgaria",
           "orientation": "h",
           "showlegend": true,
           "textposition": "auto",
           "type": "bar",
           "x": {
            "bdata": "AAAAAAAAAAA=",
            "dtype": "f8"
           },
           "xaxis": "x",
           "y": [
            "Bulgaria"
           ],
           "yaxis": "y"
          },
          {
           "hovertemplate": "Land=%{y}<br>year=2007<br>Produzierte Menge (nach Einheit)=%{x}<extra></extra>",
           "legendgroup": "Liechtenstein",
           "marker": {
            "color": "#ab63fa",
            "pattern": {
             "shape": ""
            }
           },
           "name": "Liechtenstein",
           "orientation": "h",
           "showlegend": true,
           "textposition": "auto",
           "type": "bar",
           "x": {
            "bdata": "AAAAAAAAAAA=",
            "dtype": "f8"
           },
           "xaxis": "x",
           "y": [
            "Liechtenstein"
           ],
           "yaxis": "y"
          },
          {
           "hovertemplate": "Land=%{y}<br>year=2007<br>Produzierte Menge (nach Einheit)=%{x}<extra></extra>",
           "legendgroup": "Malta",
           "marker": {
            "color": "#FFA15A",
            "pattern": {
             "shape": ""
            }
           },
           "name": "Malta",
           "orientation": "h",
           "showlegend": true,
           "textposition": "auto",
           "type": "bar",
           "x": {
            "bdata": "AAAAAAAAAAA=",
            "dtype": "f8"
           },
           "xaxis": "x",
           "y": [
            "Malta"
           ],
           "yaxis": "y"
          },
          {
           "hovertemplate": "Land=%{y}<br>year=2007<br>Produzierte Menge (nach Einheit)=%{x}<extra></extra>",
           "legendgroup": "North Macedonia",
           "marker": {
            "color": "#19d3f3",
            "pattern": {
             "shape": ""
            }
           },
           "name": "North Macedonia",
           "orientation": "h",
           "showlegend": true,
           "textposition": "auto",
           "type": "bar",
           "x": {
            "bdata": "4XoUrkfhCkA=",
            "dtype": "f8"
           },
           "xaxis": "x",
           "y": [
            "North Macedonia"
           ],
           "yaxis": "y"
          }
         ],
         "name": "2007"
        },
        {
         "data": [
          {
           "hovertemplate": "Land=%{y}<br>year=2008<br>Produzierte Menge (nach Einheit)=%{x}<extra></extra>",
           "legendgroup": "Austria",
           "marker": {
            "color": "#636efa",
            "pattern": {
             "shape": ""
            }
           },
           "name": "Austria",
           "orientation": "h",
           "showlegend": true,
           "textposition": "auto",
           "type": "bar",
           "x": {
            "bdata": "AAAAAIB/20A=",
            "dtype": "f8"
           },
           "xaxis": "x",
           "y": [
            "Austria"
           ],
           "yaxis": "y"
          },
          {
           "hovertemplate": "Land=%{y}<br>year=2008<br>Produzierte Menge (nach Einheit)=%{x}<extra></extra>",
           "legendgroup": "Belgium",
           "marker": {
            "color": "#EF553B",
            "pattern": {
             "shape": ""
            }
           },
           "name": "Belgium",
           "orientation": "h",
           "showlegend": true,
           "textposition": "auto",
           "type": "bar",
           "x": {
            "bdata": "AAAAAABA50A=",
            "dtype": "f8"
           },
           "xaxis": "x",
           "y": [
            "Belgium"
           ],
           "yaxis": "y"
          },
          {
           "hovertemplate": "Land=%{y}<br>year=2008<br>Produzierte Menge (nach Einheit)=%{x}<extra></extra>",
           "legendgroup": "Denmark",
           "marker": {
            "color": "#00cc96",
            "pattern": {
             "shape": ""
            }
           },
           "name": "Denmark",
           "orientation": "h",
           "showlegend": true,
           "textposition": "auto",
           "type": "bar",
           "x": {
            "bdata": "AAAAAODZ7kA=",
            "dtype": "f8"
           },
           "xaxis": "x",
           "y": [
            "Denmark"
           ],
           "yaxis": "y"
          },
          {
           "hovertemplate": "Land=%{y}<br>year=2008<br>Produzierte Menge (nach Einheit)=%{x}<extra></extra>",
           "legendgroup": "Finland",
           "marker": {
            "color": "#ab63fa",
            "pattern": {
             "shape": ""
            }
           },
           "name": "Finland",
           "orientation": "h",
           "showlegend": true,
           "textposition": "auto",
           "type": "bar",
           "x": {
            "bdata": "AAAAAIArx0A=",
            "dtype": "f8"
           },
           "xaxis": "x",
           "y": [
            "Finland"
           ],
           "yaxis": "y"
          },
          {
           "hovertemplate": "Land=%{y}<br>year=2008<br>Produzierte Menge (nach Einheit)=%{x}<extra></extra>",
           "legendgroup": "France",
           "marker": {
            "color": "#FFA15A",
            "pattern": {
             "shape": ""
            }
           },
           "name": "France",
           "orientation": "h",
           "showlegend": true,
           "textposition": "auto",
           "type": "bar",
           "x": {
            "bdata": "AAAAABDj+0A=",
            "dtype": "f8"
           },
           "xaxis": "x",
           "y": [
            "France"
           ],
           "yaxis": "y"
          },
          {
           "hovertemplate": "Land=%{y}<br>year=2008<br>Produzierte Menge (nach Einheit)=%{x}<extra></extra>",
           "legendgroup": "Greece",
           "marker": {
            "color": "#19d3f3",
            "pattern": {
             "shape": ""
            }
           },
           "name": "Greece",
           "orientation": "h",
           "showlegend": true,
           "textposition": "auto",
           "type": "bar",
           "x": {
            "bdata": "AAAAAADKxkA=",
            "dtype": "f8"
           },
           "xaxis": "x",
           "y": [
            "Greece"
           ],
           "yaxis": "y"
          },
          {
           "hovertemplate": "Land=%{y}<br>year=2008<br>Produzierte Menge (nach Einheit)=%{x}<extra></extra>",
           "legendgroup": "Hungary",
           "marker": {
            "color": "#FF6692",
            "pattern": {
             "shape": ""
            }
           },
           "name": "Hungary",
           "orientation": "h",
           "showlegend": true,
           "textposition": "auto",
           "type": "bar",
           "x": {
            "bdata": "AAAAAMCu0kA=",
            "dtype": "f8"
           },
           "xaxis": "x",
           "y": [
            "Hungary"
           ],
           "yaxis": "y"
          },
          {
           "hovertemplate": "Land=%{y}<br>year=2008<br>Produzierte Menge (nach Einheit)=%{x}<extra></extra>",
           "legendgroup": "Ireland",
           "marker": {
            "color": "#B6E880",
            "pattern": {
             "shape": ""
            }
           },
           "name": "Ireland",
           "orientation": "h",
           "showlegend": true,
           "textposition": "auto",
           "type": "bar",
           "x": {
            "bdata": "AAAAAACorUA=",
            "dtype": "f8"
           },
           "xaxis": "x",
           "y": [
            "Ireland"
           ],
           "yaxis": "y"
          },
          {
           "hovertemplate": "Land=%{y}<br>year=2008<br>Produzierte Menge (nach Einheit)=%{x}<extra></extra>",
           "legendgroup": "Italy",
           "marker": {
            "color": "#FF97FF",
            "pattern": {
             "shape": ""
            }
           },
           "name": "Italy",
           "orientation": "h",
           "showlegend": true,
           "textposition": "auto",
           "type": "bar",
           "x": {
            "bdata": "AAAAAJBt8UA=",
            "dtype": "f8"
           },
           "xaxis": "x",
           "y": [
            "Italy"
           ],
           "yaxis": "y"
          },
          {
           "hovertemplate": "Land=%{y}<br>year=2008<br>Produzierte Menge (nach Einheit)=%{x}<extra></extra>",
           "legendgroup": "Luxembourg",
           "marker": {
            "color": "#FECB52",
            "pattern": {
             "shape": ""
            }
           },
           "name": "Luxembourg",
           "orientation": "h",
           "showlegend": true,
           "textposition": "auto",
           "type": "bar",
           "x": {
            "bdata": "AAAAAABon0A=",
            "dtype": "f8"
           },
           "xaxis": "x",
           "y": [
            "Luxembourg"
           ],
           "yaxis": "y"
          },
          {
           "hovertemplate": "Land=%{y}<br>year=2008<br>Produzierte Menge (nach Einheit)=%{x}<extra></extra>",
           "legendgroup": "Netherlands",
           "marker": {
            "color": "#636efa",
            "pattern": {
             "shape": ""
            }
           },
           "name": "Netherlands",
           "orientation": "h",
           "showlegend": true,
           "textposition": "auto",
           "type": "bar",
           "x": {
            "bdata": "AAAAALBD80A=",
            "dtype": "f8"
           },
           "xaxis": "x",
           "y": [
            "Netherlands"
           ],
           "yaxis": "y"
          },
          {
           "hovertemplate": "Land=%{y}<br>year=2008<br>Produzierte Menge (nach Einheit)=%{x}<extra></extra>",
           "legendgroup": "Norway",
           "marker": {
            "color": "#EF553B",
            "pattern": {
             "shape": ""
            }
           },
           "name": "Norway",
           "orientation": "h",
           "showlegend": true,
           "textposition": "auto",
           "type": "bar",
           "x": {
            "bdata": "AAAAAICExEA=",
            "dtype": "f8"
           },
           "xaxis": "x",
           "y": [
            "Norway"
           ],
           "yaxis": "y"
          },
          {
           "hovertemplate": "Land=%{y}<br>year=2008<br>Produzierte Menge (nach Einheit)=%{x}<extra></extra>",
           "legendgroup": "Poland",
           "marker": {
            "color": "#00cc96",
            "pattern": {
             "shape": ""
            }
           },
           "name": "Poland",
           "orientation": "h",
           "showlegend": true,
           "textposition": "auto",
           "type": "bar",
           "x": {
            "bdata": "AAAAACCd60A=",
            "dtype": "f8"
           },
           "xaxis": "x",
           "y": [
            "Poland"
           ],
           "yaxis": "y"
          },
          {
           "hovertemplate": "Land=%{y}<br>year=2008<br>Produzierte Menge (nach Einheit)=%{x}<extra></extra>",
           "legendgroup": "Portugal",
           "marker": {
            "color": "#ab63fa",
            "pattern": {
             "shape": ""
            }
           },
           "name": "Portugal",
           "orientation": "h",
           "showlegend": true,
           "textposition": "auto",
           "type": "bar",
           "x": {
            "bdata": "AAAAAAAl5EA=",
            "dtype": "f8"
           },
           "xaxis": "x",
           "y": [
            "Portugal"
           ],
           "yaxis": "y"
          },
          {
           "hovertemplate": "Land=%{y}<br>year=2008<br>Produzierte Menge (nach Einheit)=%{x}<extra></extra>",
           "legendgroup": "Spain",
           "marker": {
            "color": "#FFA15A",
            "pattern": {
             "shape": ""
            }
           },
           "name": "Spain",
           "orientation": "h",
           "showlegend": true,
           "textposition": "auto",
           "type": "bar",
           "x": {
            "bdata": "AAAAAFDb9EA=",
            "dtype": "f8"
           },
           "xaxis": "x",
           "y": [
            "Spain"
           ],
           "yaxis": "y"
          },
          {
           "hovertemplate": "Land=%{y}<br>year=2008<br>Produzierte Menge (nach Einheit)=%{x}<extra></extra>",
           "legendgroup": "Sweden",
           "marker": {
            "color": "#19d3f3",
            "pattern": {
             "shape": ""
            }
           },
           "name": "Sweden",
           "orientation": "h",
           "showlegend": true,
           "textposition": "auto",
           "type": "bar",
           "x": {
            "bdata": "AAAAAID350A=",
            "dtype": "f8"
           },
           "xaxis": "x",
           "y": [
            "Sweden"
           ],
           "yaxis": "y"
          },
          {
           "hovertemplate": "Land=%{y}<br>year=2008<br>Produzierte Menge (nach Einheit)=%{x}<extra></extra>",
           "legendgroup": "Switzerland",
           "marker": {
            "color": "#FF6692",
            "pattern": {
             "shape": ""
            }
           },
           "name": "Switzerland",
           "orientation": "h",
           "showlegend": true,
           "textposition": "auto",
           "type": "bar",
           "x": {
            "bdata": "AAAAAACr5kA=",
            "dtype": "f8"
           },
           "xaxis": "x",
           "y": [
            "Switzerland"
           ],
           "yaxis": "y"
          },
          {
           "hovertemplate": "Land=%{y}<br>year=2008<br>Produzierte Menge (nach Einheit)=%{x}<extra></extra>",
           "legendgroup": "United Kingdom",
           "marker": {
            "color": "#B6E880",
            "pattern": {
             "shape": ""
            }
           },
           "name": "United Kingdom",
           "orientation": "h",
           "showlegend": true,
           "textposition": "auto",
           "type": "bar",
           "x": {
            "bdata": "AAAAADAF/kA=",
            "dtype": "f8"
           },
           "xaxis": "x",
           "y": [
            "United Kingdom"
           ],
           "yaxis": "y"
          },
          {
           "hovertemplate": "Land=%{y}<br>year=2008<br>Produzierte Menge (nach Einheit)=%{x}<extra></extra>",
           "legendgroup": "Germany",
           "marker": {
            "color": "#FF97FF",
            "pattern": {
             "shape": ""
            }
           },
           "name": "Germany",
           "orientation": "h",
           "showlegend": true,
           "textposition": "auto",
           "type": "bar",
           "x": {
            "bdata": "AAAAABgZE0E=",
            "dtype": "f8"
           },
           "xaxis": "x",
           "y": [
            "Germany"
           ],
           "yaxis": "y"
          },
          {
           "hovertemplate": "Land=%{y}<br>year=2008<br>Produzierte Menge (nach Einheit)=%{x}<extra></extra>",
           "legendgroup": "Belarus",
           "marker": {
            "color": "#FECB52",
            "pattern": {
             "shape": ""
            }
           },
           "name": "Belarus",
           "orientation": "h",
           "showlegend": true,
           "textposition": "auto",
           "type": "bar",
           "x": {
            "bdata": "AAAAAACipkA=",
            "dtype": "f8"
           },
           "xaxis": "x",
           "y": [
            "Belarus"
           ],
           "yaxis": "y"
          },
          {
           "hovertemplate": "Land=%{y}<br>year=2008<br>Produzierte Menge (nach Einheit)=%{x}<extra></extra>",
           "legendgroup": "Croatia",
           "marker": {
            "color": "#636efa",
            "pattern": {
             "shape": ""
            }
           },
           "name": "Croatia",
           "orientation": "h",
           "showlegend": true,
           "textposition": "auto",
           "type": "bar",
           "x": {
            "bdata": "AAAAAABAbEA=",
            "dtype": "f8"
           },
           "xaxis": "x",
           "y": [
            "Croatia"
           ],
           "yaxis": "y"
          },
          {
           "hovertemplate": "Land=%{y}<br>year=2008<br>Produzierte Menge (nach Einheit)=%{x}<extra></extra>",
           "legendgroup": "Czech Republic",
           "marker": {
            "color": "#EF553B",
            "pattern": {
             "shape": ""
            }
           },
           "name": "Czech Republic",
           "orientation": "h",
           "showlegend": true,
           "textposition": "auto",
           "type": "bar",
           "x": {
            "bdata": "AAAAAIC2wkA=",
            "dtype": "f8"
           },
           "xaxis": "x",
           "y": [
            "Czech Republic"
           ],
           "yaxis": "y"
          },
          {
           "hovertemplate": "Land=%{y}<br>year=2008<br>Produzierte Menge (nach Einheit)=%{x}<extra></extra>",
           "legendgroup": "Estonia",
           "marker": {
            "color": "#00cc96",
            "pattern": {
             "shape": ""
            }
           },
           "name": "Estonia",
           "orientation": "h",
           "showlegend": true,
           "textposition": "auto",
           "type": "bar",
           "x": {
            "bdata": "AAAAAADJskA=",
            "dtype": "f8"
           },
           "xaxis": "x",
           "y": [
            "Estonia"
           ],
           "yaxis": "y"
          },
          {
           "hovertemplate": "Land=%{y}<br>year=2008<br>Produzierte Menge (nach Einheit)=%{x}<extra></extra>",
           "legendgroup": "Latvia",
           "marker": {
            "color": "#ab63fa",
            "pattern": {
             "shape": ""
            }
           },
           "name": "Latvia",
           "orientation": "h",
           "showlegend": true,
           "textposition": "auto",
           "type": "bar",
           "x": {
            "bdata": "AAAAAABwekA=",
            "dtype": "f8"
           },
           "xaxis": "x",
           "y": [
            "Latvia"
           ],
           "yaxis": "y"
          },
          {
           "hovertemplate": "Land=%{y}<br>year=2008<br>Produzierte Menge (nach Einheit)=%{x}<extra></extra>",
           "legendgroup": "Lithuania",
           "marker": {
            "color": "#FFA15A",
            "pattern": {
             "shape": ""
            }
           },
           "name": "Lithuania",
           "orientation": "h",
           "showlegend": true,
           "textposition": "auto",
           "type": "bar",
           "x": {
            "bdata": "AAAAAADQd0A=",
            "dtype": "f8"
           },
           "xaxis": "x",
           "y": [
            "Lithuania"
           ],
           "yaxis": "y"
          },
          {
           "hovertemplate": "Land=%{y}<br>year=2008<br>Produzierte Menge (nach Einheit)=%{x}<extra></extra>",
           "legendgroup": "Romania",
           "marker": {
            "color": "#19d3f3",
            "pattern": {
             "shape": ""
            }
           },
           "name": "Romania",
           "orientation": "h",
           "showlegend": true,
           "textposition": "auto",
           "type": "bar",
           "x": {
            "bdata": "AAAAAAAAZ0A=",
            "dtype": "f8"
           },
           "xaxis": "x",
           "y": [
            "Romania"
           ],
           "yaxis": "y"
          },
          {
           "hovertemplate": "Land=%{y}<br>year=2008<br>Produzierte Menge (nach Einheit)=%{x}<extra></extra>",
           "legendgroup": "Iceland",
           "marker": {
            "color": "#FF6692",
            "pattern": {
             "shape": ""
            }
           },
           "name": "Iceland",
           "orientation": "h",
           "showlegend": true,
           "textposition": "auto",
           "type": "bar",
           "x": {
            "bdata": "AAAAAAAgZUA=",
            "dtype": "f8"
           },
           "xaxis": "x",
           "y": [
            "Iceland"
           ],
           "yaxis": "y"
          },
          {
           "hovertemplate": "Land=%{y}<br>year=2008<br>Produzierte Menge (nach Einheit)=%{x}<extra></extra>",
           "legendgroup": "Slovenia",
           "marker": {
            "color": "#B6E880",
            "pattern": {
             "shape": ""
            }
           },
           "name": "Slovenia",
           "orientation": "h",
           "showlegend": true,
           "textposition": "auto",
           "type": "bar",
           "x": {
            "bdata": "AAAAAAAwjkA=",
            "dtype": "f8"
           },
           "xaxis": "x",
           "y": [
            "Slovenia"
           ],
           "yaxis": "y"
          },
          {
           "hovertemplate": "Land=%{y}<br>year=2008<br>Produzierte Menge (nach Einheit)=%{x}<extra></extra>",
           "legendgroup": "Cyprus",
           "marker": {
            "color": "#FF97FF",
            "pattern": {
             "shape": ""
            }
           },
           "name": "Cyprus",
           "orientation": "h",
           "showlegend": true,
           "textposition": "auto",
           "type": "bar",
           "x": {
            "bdata": "AAAAAAAAaEA=",
            "dtype": "f8"
           },
           "xaxis": "x",
           "y": [
            "Cyprus"
           ],
           "yaxis": "y"
          },
          {
           "hovertemplate": "Land=%{y}<br>year=2008<br>Produzierte Menge (nach Einheit)=%{x}<extra></extra>",
           "legendgroup": "Slovakia",
           "marker": {
            "color": "#FECB52",
            "pattern": {
             "shape": ""
            }
           },
           "name": "Slovakia",
           "orientation": "h",
           "showlegend": true,
           "textposition": "auto",
           "type": "bar",
           "x": {
            "bdata": "AAAAAAAEskA=",
            "dtype": "f8"
           },
           "xaxis": "x",
           "y": [
            "Slovakia"
           ],
           "yaxis": "y"
          },
          {
           "hovertemplate": "Land=%{y}<br>year=2008<br>Produzierte Menge (nach Einheit)=%{x}<extra></extra>",
           "legendgroup": "Andorra",
           "marker": {
            "color": "#636efa",
            "pattern": {
             "shape": ""
            }
           },
           "name": "Andorra",
           "orientation": "h",
           "showlegend": true,
           "textposition": "auto",
           "type": "bar",
           "x": {
            "bdata": "MzMzMzNDbEA=",
            "dtype": "f8"
           },
           "xaxis": "x",
           "y": [
            "Andorra"
           ],
           "yaxis": "y"
          },
          {
           "hovertemplate": "Land=%{y}<br>year=2008<br>Produzierte Menge (nach Einheit)=%{x}<extra></extra>",
           "legendgroup": "Moldova",
           "marker": {
            "color": "#EF553B",
            "pattern": {
             "shape": ""
            }
           },
           "name": "Moldova",
           "orientation": "h",
           "showlegend": true,
           "textposition": "auto",
           "type": "bar",
           "x": {
            "bdata": "AAAAAACAg0A=",
            "dtype": "f8"
           },
           "xaxis": "x",
           "y": [
            "Moldova"
           ],
           "yaxis": "y"
          },
          {
           "hovertemplate": "Land=%{y}<br>year=2008<br>Produzierte Menge (nach Einheit)=%{x}<extra></extra>",
           "legendgroup": "Bulgaria",
           "marker": {
            "color": "#00cc96",
            "pattern": {
             "shape": ""
            }
           },
           "name": "Bulgaria",
           "orientation": "h",
           "showlegend": true,
           "textposition": "auto",
           "type": "bar",
           "x": {
            "bdata": "AAAAAADAaUA=",
            "dtype": "f8"
           },
           "xaxis": "x",
           "y": [
            "Bulgaria"
           ],
           "yaxis": "y"
          },
          {
           "hovertemplate": "Land=%{y}<br>year=2008<br>Produzierte Menge (nach Einheit)=%{x}<extra></extra>",
           "legendgroup": "Liechtenstein",
           "marker": {
            "color": "#ab63fa",
            "pattern": {
             "shape": ""
            }
           },
           "name": "Liechtenstein",
           "orientation": "h",
           "showlegend": true,
           "textposition": "auto",
           "type": "bar",
           "x": {
            "bdata": "AAAAAAAAAAA=",
            "dtype": "f8"
           },
           "xaxis": "x",
           "y": [
            "Liechtenstein"
           ],
           "yaxis": "y"
          },
          {
           "hovertemplate": "Land=%{y}<br>year=2008<br>Produzierte Menge (nach Einheit)=%{x}<extra></extra>",
           "legendgroup": "Malta",
           "marker": {
            "color": "#FFA15A",
            "pattern": {
             "shape": ""
            }
           },
           "name": "Malta",
           "orientation": "h",
           "showlegend": true,
           "textposition": "auto",
           "type": "bar",
           "x": {
            "bdata": "AAAAAAAAAAA=",
            "dtype": "f8"
           },
           "xaxis": "x",
           "y": [
            "Malta"
           ],
           "yaxis": "y"
          },
          {
           "hovertemplate": "Land=%{y}<br>year=2008<br>Produzierte Menge (nach Einheit)=%{x}<extra></extra>",
           "legendgroup": "North Macedonia",
           "marker": {
            "color": "#19d3f3",
            "pattern": {
             "shape": ""
            }
           },
           "name": "North Macedonia",
           "orientation": "h",
           "showlegend": true,
           "textposition": "auto",
           "type": "bar",
           "x": {
            "bdata": "XrpJDAIr8z8=",
            "dtype": "f8"
           },
           "xaxis": "x",
           "y": [
            "North Macedonia"
           ],
           "yaxis": "y"
          }
         ],
         "name": "2008"
        },
        {
         "data": [
          {
           "hovertemplate": "Land=%{y}<br>year=2009<br>Produzierte Menge (nach Einheit)=%{x}<extra></extra>",
           "legendgroup": "Austria",
           "marker": {
            "color": "#636efa",
            "pattern": {
             "shape": ""
            }
           },
           "name": "Austria",
           "orientation": "h",
           "showlegend": true,
           "textposition": "auto",
           "type": "bar",
           "x": {
            "bdata": "AAAAAMDc20A=",
            "dtype": "f8"
           },
           "xaxis": "x",
           "y": [
            "Austria"
           ],
           "yaxis": "y"
          },
          {
           "hovertemplate": "Land=%{y}<br>year=2009<br>Produzierte Menge (nach Einheit)=%{x}<extra></extra>",
           "legendgroup": "Belgium",
           "marker": {
            "color": "#EF553B",
            "pattern": {
             "shape": ""
            }
           },
           "name": "Belgium",
           "orientation": "h",
           "showlegend": true,
           "textposition": "auto",
           "type": "bar",
           "x": {
            "bdata": "AAAAAKAQ6kA=",
            "dtype": "f8"
           },
           "xaxis": "x",
           "y": [
            "Belgium"
           ],
           "yaxis": "y"
          },
          {
           "hovertemplate": "Land=%{y}<br>year=2009<br>Produzierte Menge (nach Einheit)=%{x}<extra></extra>",
           "legendgroup": "Denmark",
           "marker": {
            "color": "#00cc96",
            "pattern": {
             "shape": ""
            }
           },
           "name": "Denmark",
           "orientation": "h",
           "showlegend": true,
           "textposition": "auto",
           "type": "bar",
           "x": {
            "bdata": "AAAAAACP7kA=",
            "dtype": "f8"
           },
           "xaxis": "x",
           "y": [
            "Denmark"
           ],
           "yaxis": "y"
          },
          {
           "hovertemplate": "Land=%{y}<br>year=2009<br>Produzierte Menge (nach Einheit)=%{x}<extra></extra>",
           "legendgroup": "Finland",
           "marker": {
            "color": "#ab63fa",
            "pattern": {
             "shape": ""
            }
           },
           "name": "Finland",
           "orientation": "h",
           "showlegend": true,
           "textposition": "auto",
           "type": "bar",
           "x": {
            "bdata": "AAAAAAC5yUA=",
            "dtype": "f8"
           },
           "xaxis": "x",
           "y": [
            "Finland"
           ],
           "yaxis": "y"
          },
          {
           "hovertemplate": "Land=%{y}<br>year=2009<br>Produzierte Menge (nach Einheit)=%{x}<extra></extra>",
           "legendgroup": "France",
           "marker": {
            "color": "#FFA15A",
            "pattern": {
             "shape": ""
            }
           },
           "name": "France",
           "orientation": "h",
           "showlegend": true,
           "textposition": "auto",
           "type": "bar",
           "x": {
            "bdata": "AAAAACBi/kA=",
            "dtype": "f8"
           },
           "xaxis": "x",
           "y": [
            "France"
           ],
           "yaxis": "y"
          },
          {
           "hovertemplate": "Land=%{y}<br>year=2009<br>Produzierte Menge (nach Einheit)=%{x}<extra></extra>",
           "legendgroup": "Greece",
           "marker": {
            "color": "#19d3f3",
            "pattern": {
             "shape": ""
            }
           },
           "name": "Greece",
           "orientation": "h",
           "showlegend": true,
           "textposition": "auto",
           "type": "bar",
           "x": {
            "bdata": "AAAAAADyx0A=",
            "dtype": "f8"
           },
           "xaxis": "x",
           "y": [
            "Greece"
           ],
           "yaxis": "y"
          },
          {
           "hovertemplate": "Land=%{y}<br>year=2009<br>Produzierte Menge (nach Einheit)=%{x}<extra></extra>",
           "legendgroup": "Hungary",
           "marker": {
            "color": "#FF6692",
            "pattern": {
             "shape": ""
            }
           },
           "name": "Hungary",
           "orientation": "h",
           "showlegend": true,
           "textposition": "auto",
           "type": "bar",
           "x": {
            "bdata": "AAAAAMBH00A=",
            "dtype": "f8"
           },
           "xaxis": "x",
           "y": [
            "Hungary"
           ],
           "yaxis": "y"
          },
          {
           "hovertemplate": "Land=%{y}<br>year=2009<br>Produzierte Menge (nach Einheit)=%{x}<extra></extra>",
           "legendgroup": "Ireland",
           "marker": {
            "color": "#B6E880",
            "pattern": {
             "shape": ""
            }
           },
           "name": "Ireland",
           "orientation": "h",
           "showlegend": true,
           "textposition": "auto",
           "type": "bar",
           "x": {
            "bdata": "AAAAAACis0A=",
            "dtype": "f8"
           },
           "xaxis": "x",
           "y": [
            "Ireland"
           ],
           "yaxis": "y"
          },
          {
           "hovertemplate": "Land=%{y}<br>year=2009<br>Produzierte Menge (nach Einheit)=%{x}<extra></extra>",
           "legendgroup": "Italy",
           "marker": {
            "color": "#FF97FF",
            "pattern": {
             "shape": ""
            }
           },
           "name": "Italy",
           "orientation": "h",
           "showlegend": true,
           "textposition": "auto",
           "type": "bar",
           "x": {
            "bdata": "AAAAAHCX8kA=",
            "dtype": "f8"
           },
           "xaxis": "x",
           "y": [
            "Italy"
           ],
           "yaxis": "y"
          },
          {
           "hovertemplate": "Land=%{y}<br>year=2009<br>Produzierte Menge (nach Einheit)=%{x}<extra></extra>",
           "legendgroup": "Luxembourg",
           "marker": {
            "color": "#FECB52",
            "pattern": {
             "shape": ""
            }
           },
           "name": "Luxembourg",
           "orientation": "h",
           "showlegend": true,
           "textposition": "auto",
           "type": "bar",
           "x": {
            "bdata": "AAAAAAAknkA=",
            "dtype": "f8"
           },
           "xaxis": "x",
           "y": [
            "Luxembourg"
           ],
           "yaxis": "y"
          },
          {
           "hovertemplate": "Land=%{y}<br>year=2009<br>Produzierte Menge (nach Einheit)=%{x}<extra></extra>",
           "legendgroup": "Netherlands",
           "marker": {
            "color": "#636efa",
            "pattern": {
             "shape": ""
            }
           },
           "name": "Netherlands",
           "orientation": "h",
           "showlegend": true,
           "textposition": "auto",
           "type": "bar",
           "x": {
            "bdata": "AAAAAAAv9EA=",
            "dtype": "f8"
           },
           "xaxis": "x",
           "y": [
            "Netherlands"
           ],
           "yaxis": "y"
          },
          {
           "hovertemplate": "Land=%{y}<br>year=2009<br>Produzierte Menge (nach Einheit)=%{x}<extra></extra>",
           "legendgroup": "Norway",
           "marker": {
            "color": "#EF553B",
            "pattern": {
             "shape": ""
            }
           },
           "name": "Norway",
           "orientation": "h",
           "showlegend": true,
           "textposition": "auto",
           "type": "bar",
           "x": {
            "bdata": "AAAAAIDvxEA=",
            "dtype": "f8"
           },
           "xaxis": "x",
           "y": [
            "Norway"
           ],
           "yaxis": "y"
          },
          {
           "hovertemplate": "Land=%{y}<br>year=2009<br>Produzierte Menge (nach Einheit)=%{x}<extra></extra>",
           "legendgroup": "Poland",
           "marker": {
            "color": "#00cc96",
            "pattern": {
             "shape": ""
            }
           },
           "name": "Poland",
           "orientation": "h",
           "showlegend": true,
           "textposition": "auto",
           "type": "bar",
           "x": {
            "bdata": "AAAAAEAR7UA=",
            "dtype": "f8"
           },
           "xaxis": "x",
           "y": [
            "Poland"
           ],
           "yaxis": "y"
          },
          {
           "hovertemplate": "Land=%{y}<br>year=2009<br>Produzierte Menge (nach Einheit)=%{x}<extra></extra>",
           "legendgroup": "Portugal",
           "marker": {
            "color": "#ab63fa",
            "pattern": {
             "shape": ""
            }
           },
           "name": "Portugal",
           "orientation": "h",
           "showlegend": true,
           "textposition": "auto",
           "type": "bar",
           "x": {
            "bdata": "AAAAAKCz5UA=",
            "dtype": "f8"
           },
           "xaxis": "x",
           "y": [
            "Portugal"
           ],
           "yaxis": "y"
          },
          {
           "hovertemplate": "Land=%{y}<br>year=2009<br>Produzierte Menge (nach Einheit)=%{x}<extra></extra>",
           "legendgroup": "Spain",
           "marker": {
            "color": "#FFA15A",
            "pattern": {
             "shape": ""
            }
           },
           "name": "Spain",
           "orientation": "h",
           "showlegend": true,
           "textposition": "auto",
           "type": "bar",
           "x": {
            "bdata": "AAAAAPBx8kA=",
            "dtype": "f8"
           },
           "xaxis": "x",
           "y": [
            "Spain"
           ],
           "yaxis": "y"
          },
          {
           "hovertemplate": "Land=%{y}<br>year=2009<br>Produzierte Menge (nach Einheit)=%{x}<extra></extra>",
           "legendgroup": "Sweden",
           "marker": {
            "color": "#19d3f3",
            "pattern": {
             "shape": ""
            }
           },
           "name": "Sweden",
           "orientation": "h",
           "showlegend": true,
           "textposition": "auto",
           "type": "bar",
           "x": {
            "bdata": "AAAAAKB36EA=",
            "dtype": "f8"
           },
           "xaxis": "x",
           "y": [
            "Sweden"
           ],
           "yaxis": "y"
          },
          {
           "hovertemplate": "Land=%{y}<br>year=2009<br>Produzierte Menge (nach Einheit)=%{x}<extra></extra>",
           "legendgroup": "Switzerland",
           "marker": {
            "color": "#FF6692",
            "pattern": {
             "shape": ""
            }
           },
           "name": "Switzerland",
           "orientation": "h",
           "showlegend": true,
           "textposition": "auto",
           "type": "bar",
           "x": {
            "bdata": "AAAAAKCY5kA=",
            "dtype": "f8"
           },
           "xaxis": "x",
           "y": [
            "Switzerland"
           ],
           "yaxis": "y"
          },
          {
           "hovertemplate": "Land=%{y}<br>year=2009<br>Produzierte Menge (nach Einheit)=%{x}<extra></extra>",
           "legendgroup": "United Kingdom",
           "marker": {
            "color": "#B6E880",
            "pattern": {
             "shape": ""
            }
           },
           "name": "United Kingdom",
           "orientation": "h",
           "showlegend": true,
           "textposition": "auto",
           "type": "bar",
           "x": {
            "bdata": "AAAAAHjMAEE=",
            "dtype": "f8"
           },
           "xaxis": "x",
           "y": [
            "United Kingdom"
           ],
           "yaxis": "y"
          },
          {
           "hovertemplate": "Land=%{y}<br>year=2009<br>Produzierte Menge (nach Einheit)=%{x}<extra></extra>",
           "legendgroup": "Germany",
           "marker": {
            "color": "#FF97FF",
            "pattern": {
             "shape": ""
            }
           },
           "name": "Germany",
           "orientation": "h",
           "showlegend": true,
           "textposition": "auto",
           "type": "bar",
           "x": {
            "bdata": "AAAAAMz0E0E=",
            "dtype": "f8"
           },
           "xaxis": "x",
           "y": [
            "Germany"
           ],
           "yaxis": "y"
          },
          {
           "hovertemplate": "Land=%{y}<br>year=2009<br>Produzierte Menge (nach Einheit)=%{x}<extra></extra>",
           "legendgroup": "Belarus",
           "marker": {
            "color": "#FECB52",
            "pattern": {
             "shape": ""
            }
           },
           "name": "Belarus",
           "orientation": "h",
           "showlegend": true,
           "textposition": "auto",
           "type": "bar",
           "x": {
            "bdata": "AAAAAACAp0A=",
            "dtype": "f8"
           },
           "xaxis": "x",
           "y": [
            "Belarus"
           ],
           "yaxis": "y"
          },
          {
           "hovertemplate": "Land=%{y}<br>year=2009<br>Produzierte Menge (nach Einheit)=%{x}<extra></extra>",
           "legendgroup": "Croatia",
           "marker": {
            "color": "#636efa",
            "pattern": {
             "shape": ""
            }
           },
           "name": "Croatia",
           "orientation": "h",
           "showlegend": true,
           "textposition": "auto",
           "type": "bar",
           "x": {
            "bdata": "AAAAAADAakA=",
            "dtype": "f8"
           },
           "xaxis": "x",
           "y": [
            "Croatia"
           ],
           "yaxis": "y"
          },
          {
           "hovertemplate": "Land=%{y}<br>year=2009<br>Produzierte Menge (nach Einheit)=%{x}<extra></extra>",
           "legendgroup": "Czech Republic",
           "marker": {
            "color": "#EF553B",
            "pattern": {
             "shape": ""
            }
           },
           "name": "Czech Republic",
           "orientation": "h",
           "showlegend": true,
           "textposition": "auto",
           "type": "bar",
           "x": {
            "bdata": "AAAAAABiyUA=",
            "dtype": "f8"
           },
           "xaxis": "x",
           "y": [
            "Czech Republic"
           ],
           "yaxis": "y"
          },
          {
           "hovertemplate": "Land=%{y}<br>year=2009<br>Produzierte Menge (nach Einheit)=%{x}<extra></extra>",
           "legendgroup": "Estonia",
           "marker": {
            "color": "#00cc96",
            "pattern": {
             "shape": ""
            }
           },
           "name": "Estonia",
           "orientation": "h",
           "showlegend": true,
           "textposition": "auto",
           "type": "bar",
           "x": {
            "bdata": "AAAAAADLuUA=",
            "dtype": "f8"
           },
           "xaxis": "x",
           "y": [
            "Estonia"
           ],
           "yaxis": "y"
          },
          {
           "hovertemplate": "Land=%{y}<br>year=2009<br>Produzierte Menge (nach Einheit)=%{x}<extra></extra>",
           "legendgroup": "Latvia",
           "marker": {
            "color": "#ab63fa",
            "pattern": {
             "shape": ""
            }
           },
           "name": "Latvia",
           "orientation": "h",
           "showlegend": true,
           "textposition": "auto",
           "type": "bar",
           "x": {
            "bdata": "AAAAAABwgUA=",
            "dtype": "f8"
           },
           "xaxis": "x",
           "y": [
            "Latvia"
           ],
           "yaxis": "y"
          },
          {
           "hovertemplate": "Land=%{y}<br>year=2009<br>Produzierte Menge (nach Einheit)=%{x}<extra></extra>",
           "legendgroup": "Lithuania",
           "marker": {
            "color": "#FFA15A",
            "pattern": {
             "shape": ""
            }
           },
           "name": "Lithuania",
           "orientation": "h",
           "showlegend": true,
           "textposition": "auto",
           "type": "bar",
           "x": {
            "bdata": "AAAAAADAf0A=",
            "dtype": "f8"
           },
           "xaxis": "x",
           "y": [
            "Lithuania"
           ],
           "yaxis": "y"
          },
          {
           "hovertemplate": "Land=%{y}<br>year=2009<br>Produzierte Menge (nach Einheit)=%{x}<extra></extra>",
           "legendgroup": "Romania",
           "marker": {
            "color": "#19d3f3",
            "pattern": {
             "shape": ""
            }
           },
           "name": "Romania",
           "orientation": "h",
           "showlegend": true,
           "textposition": "auto",
           "type": "bar",
           "x": {
            "bdata": "AAAAAABgYEA=",
            "dtype": "f8"
           },
           "xaxis": "x",
           "y": [
            "Romania"
           ],
           "yaxis": "y"
          },
          {
           "hovertemplate": "Land=%{y}<br>year=2009<br>Produzierte Menge (nach Einheit)=%{x}<extra></extra>",
           "legendgroup": "Iceland",
           "marker": {
            "color": "#FF6692",
            "pattern": {
             "shape": ""
            }
           },
           "name": "Iceland",
           "orientation": "h",
           "showlegend": true,
           "textposition": "auto",
           "type": "bar",
           "x": {
            "bdata": "AAAAAACATUA=",
            "dtype": "f8"
           },
           "xaxis": "x",
           "y": [
            "Iceland"
           ],
           "yaxis": "y"
          },
          {
           "hovertemplate": "Land=%{y}<br>year=2009<br>Produzierte Menge (nach Einheit)=%{x}<extra></extra>",
           "legendgroup": "Slovenia",
           "marker": {
            "color": "#B6E880",
            "pattern": {
             "shape": ""
            }
           },
           "name": "Slovenia",
           "orientation": "h",
           "showlegend": true,
           "textposition": "auto",
           "type": "bar",
           "x": {
            "bdata": "AAAAAADUk0A=",
            "dtype": "f8"
           },
           "xaxis": "x",
           "y": [
            "Slovenia"
           ],
           "yaxis": "y"
          },
          {
           "hovertemplate": "Land=%{y}<br>year=2009<br>Produzierte Menge (nach Einheit)=%{x}<extra></extra>",
           "legendgroup": "Cyprus",
           "marker": {
            "color": "#FF97FF",
            "pattern": {
             "shape": ""
            }
           },
           "name": "Cyprus",
           "orientation": "h",
           "showlegend": true,
           "textposition": "auto",
           "type": "bar",
           "x": {
            "bdata": "AAAAAADAdEA=",
            "dtype": "f8"
           },
           "xaxis": "x",
           "y": [
            "Cyprus"
           ],
           "yaxis": "y"
          },
          {
           "hovertemplate": "Land=%{y}<br>year=2009<br>Produzierte Menge (nach Einheit)=%{x}<extra></extra>",
           "legendgroup": "Slovakia",
           "marker": {
            "color": "#FECB52",
            "pattern": {
             "shape": ""
            }
           },
           "name": "Slovakia",
           "orientation": "h",
           "showlegend": true,
           "textposition": "auto",
           "type": "bar",
           "x": {
            "bdata": "AAAAAACbtkA=",
            "dtype": "f8"
           },
           "xaxis": "x",
           "y": [
            "Slovakia"
           ],
           "yaxis": "y"
          },
          {
           "hovertemplate": "Land=%{y}<br>year=2009<br>Produzierte Menge (nach Einheit)=%{x}<extra></extra>",
           "legendgroup": "Andorra",
           "marker": {
            "color": "#636efa",
            "pattern": {
             "shape": ""
            }
           },
           "name": "Andorra",
           "orientation": "h",
           "showlegend": true,
           "textposition": "auto",
           "type": "bar",
           "x": {
            "bdata": "AAAAAADwa0A=",
            "dtype": "f8"
           },
           "xaxis": "x",
           "y": [
            "Andorra"
           ],
           "yaxis": "y"
          },
          {
           "hovertemplate": "Land=%{y}<br>year=2009<br>Produzierte Menge (nach Einheit)=%{x}<extra></extra>",
           "legendgroup": "Moldova",
           "marker": {
            "color": "#EF553B",
            "pattern": {
             "shape": ""
            }
           },
           "name": "Moldova",
           "orientation": "h",
           "showlegend": true,
           "textposition": "auto",
           "type": "bar",
           "x": {
            "bdata": "AAAAAAB4h0A=",
            "dtype": "f8"
           },
           "xaxis": "x",
           "y": [
            "Moldova"
           ],
           "yaxis": "y"
          },
          {
           "hovertemplate": "Land=%{y}<br>year=2009<br>Produzierte Menge (nach Einheit)=%{x}<extra></extra>",
           "legendgroup": "Bulgaria",
           "marker": {
            "color": "#00cc96",
            "pattern": {
             "shape": ""
            }
           },
           "name": "Bulgaria",
           "orientation": "h",
           "showlegend": true,
           "textposition": "auto",
           "type": "bar",
           "x": {
            "bdata": "AAAAAAD4hEA=",
            "dtype": "f8"
           },
           "xaxis": "x",
           "y": [
            "Bulgaria"
           ],
           "yaxis": "y"
          },
          {
           "hovertemplate": "Land=%{y}<br>year=2009<br>Produzierte Menge (nach Einheit)=%{x}<extra></extra>",
           "legendgroup": "Liechtenstein",
           "marker": {
            "color": "#ab63fa",
            "pattern": {
             "shape": ""
            }
           },
           "name": "Liechtenstein",
           "orientation": "h",
           "showlegend": true,
           "textposition": "auto",
           "type": "bar",
           "x": {
            "bdata": "zczMzMyMY0A=",
            "dtype": "f8"
           },
           "xaxis": "x",
           "y": [
            "Liechtenstein"
           ],
           "yaxis": "y"
          },
          {
           "hovertemplate": "Land=%{y}<br>year=2009<br>Produzierte Menge (nach Einheit)=%{x}<extra></extra>",
           "legendgroup": "Malta",
           "marker": {
            "color": "#FFA15A",
            "pattern": {
             "shape": ""
            }
           },
           "name": "Malta",
           "orientation": "h",
           "showlegend": true,
           "textposition": "auto",
           "type": "bar",
           "x": {
            "bdata": "AAAAAAAAAAA=",
            "dtype": "f8"
           },
           "xaxis": "x",
           "y": [
            "Malta"
           ],
           "yaxis": "y"
          },
          {
           "hovertemplate": "Land=%{y}<br>year=2009<br>Produzierte Menge (nach Einheit)=%{x}<extra></extra>",
           "legendgroup": "North Macedonia",
           "marker": {
            "color": "#19d3f3",
            "pattern": {
             "shape": ""
            }
           },
           "name": "North Macedonia",
           "orientation": "h",
           "showlegend": true,
           "textposition": "auto",
           "type": "bar",
           "x": {
            "bdata": "ZmZmZmZm4j8=",
            "dtype": "f8"
           },
           "xaxis": "x",
           "y": [
            "North Macedonia"
           ],
           "yaxis": "y"
          }
         ],
         "name": "2009"
        },
        {
         "data": [
          {
           "hovertemplate": "Land=%{y}<br>year=2010<br>Produzierte Menge (nach Einheit)=%{x}<extra></extra>",
           "legendgroup": "Austria",
           "marker": {
            "color": "#636efa",
            "pattern": {
             "shape": ""
            }
           },
           "name": "Austria",
           "orientation": "h",
           "showlegend": true,
           "textposition": "auto",
           "type": "bar",
           "x": {
            "bdata": "AAAAAMBj3UA=",
            "dtype": "f8"
           },
           "xaxis": "x",
           "y": [
            "Austria"
           ],
           "yaxis": "y"
          },
          {
           "hovertemplate": "Land=%{y}<br>year=2010<br>Produzierte Menge (nach Einheit)=%{x}<extra></extra>",
           "legendgroup": "Belgium",
           "marker": {
            "color": "#EF553B",
            "pattern": {
             "shape": ""
            }
           },
           "name": "Belgium",
           "orientation": "h",
           "showlegend": true,
           "textposition": "auto",
           "type": "bar",
           "x": {
            "bdata": "AAAAAABm7kA=",
            "dtype": "f8"
           },
           "xaxis": "x",
           "y": [
            "Belgium"
           ],
           "yaxis": "y"
          },
          {
           "hovertemplate": "Land=%{y}<br>year=2010<br>Produzierte Menge (nach Einheit)=%{x}<extra></extra>",
           "legendgroup": "Denmark",
           "marker": {
            "color": "#00cc96",
            "pattern": {
             "shape": ""
            }
           },
           "name": "Denmark",
           "orientation": "h",
           "showlegend": true,
           "textposition": "auto",
           "type": "bar",
           "x": {
            "bdata": "AAAAADB78EA=",
            "dtype": "f8"
           },
           "xaxis": "x",
           "y": [
            "Denmark"
           ],
           "yaxis": "y"
          },
          {
           "hovertemplate": "Land=%{y}<br>year=2010<br>Produzierte Menge (nach Einheit)=%{x}<extra></extra>",
           "legendgroup": "Finland",
           "marker": {
            "color": "#ab63fa",
            "pattern": {
             "shape": ""
            }
           },
           "name": "Finland",
           "orientation": "h",
           "showlegend": true,
           "textposition": "auto",
           "type": "bar",
           "x": {
            "bdata": "AAAAAAAdykA=",
            "dtype": "f8"
           },
           "xaxis": "x",
           "y": [
            "Finland"
           ],
           "yaxis": "y"
          },
          {
           "hovertemplate": "Land=%{y}<br>year=2010<br>Produzierte Menge (nach Einheit)=%{x}<extra></extra>",
           "legendgroup": "France",
           "marker": {
            "color": "#FFA15A",
            "pattern": {
             "shape": ""
            }
           },
           "name": "France",
           "orientation": "h",
           "showlegend": true,
           "textposition": "auto",
           "type": "bar",
           "x": {
            "bdata": "AAAAAOCq/kA=",
            "dtype": "f8"
           },
           "xaxis": "x",
           "y": [
            "France"
           ],
           "yaxis": "y"
          },
          {
           "hovertemplate": "Land=%{y}<br>year=2010<br>Produzierte Menge (nach Einheit)=%{x}<extra></extra>",
           "legendgroup": "Greece",
           "marker": {
            "color": "#19d3f3",
            "pattern": {
             "shape": ""
            }
           },
           "name": "Greece",
           "orientation": "h",
           "showlegend": true,
           "textposition": "auto",
           "type": "bar",
           "x": {
            "bdata": "AAAAAABix0A=",
            "dtype": "f8"
           },
           "xaxis": "x",
           "y": [
            "Greece"
           ],
           "yaxis": "y"
          },
          {
           "hovertemplate": "Land=%{y}<br>year=2010<br>Produzierte Menge (nach Einheit)=%{x}<extra></extra>",
           "legendgroup": "Hungary",
           "marker": {
            "color": "#FF6692",
            "pattern": {
             "shape": ""
            }
           },
           "name": "Hungary",
           "orientation": "h",
           "showlegend": true,
           "textposition": "auto",
           "type": "bar",
           "x": {
            "bdata": "AAAAAEAo00A=",
            "dtype": "f8"
           },
           "xaxis": "x",
           "y": [
            "Hungary"
           ],
           "yaxis": "y"
          },
          {
           "hovertemplate": "Land=%{y}<br>year=2010<br>Produzierte Menge (nach Einheit)=%{x}<extra></extra>",
           "legendgroup": "Ireland",
           "marker": {
            "color": "#B6E880",
            "pattern": {
             "shape": ""
            }
           },
           "name": "Ireland",
           "orientation": "h",
           "showlegend": true,
           "textposition": "auto",
           "type": "bar",
           "x": {
            "bdata": "AAAAAAADs0A=",
            "dtype": "f8"
           },
           "xaxis": "x",
           "y": [
            "Ireland"
           ],
           "yaxis": "y"
          },
          {
           "hovertemplate": "Land=%{y}<br>year=2010<br>Produzierte Menge (nach Einheit)=%{x}<extra></extra>",
           "legendgroup": "Italy",
           "marker": {
            "color": "#FF97FF",
            "pattern": {
             "shape": ""
            }
           },
           "name": "Italy",
           "orientation": "h",
           "showlegend": true,
           "textposition": "auto",
           "type": "bar",
           "x": {
            "bdata": "AAAAANBd90A=",
            "dtype": "f8"
           },
           "xaxis": "x",
           "y": [
            "Italy"
           ],
           "yaxis": "y"
          },
          {
           "hovertemplate": "Land=%{y}<br>year=2010<br>Produzierte Menge (nach Einheit)=%{x}<extra></extra>",
           "legendgroup": "Luxembourg",
           "marker": {
            "color": "#FECB52",
            "pattern": {
             "shape": ""
            }
           },
           "name": "Luxembourg",
           "orientation": "h",
           "showlegend": true,
           "textposition": "auto",
           "type": "bar",
           "x": {
            "bdata": "AAAAAADUnUA=",
            "dtype": "f8"
           },
           "xaxis": "x",
           "y": [
            "Luxembourg"
           ],
           "yaxis": "y"
          },
          {
           "hovertemplate": "Land=%{y}<br>year=2010<br>Produzierte Menge (nach Einheit)=%{x}<extra></extra>",
           "legendgroup": "Netherlands",
           "marker": {
            "color": "#636efa",
            "pattern": {
             "shape": ""
            }
           },
           "name": "Netherlands",
           "orientation": "h",
           "showlegend": true,
           "textposition": "auto",
           "type": "bar",
           "x": {
            "bdata": "AAAAAFBT9UA=",
            "dtype": "f8"
           },
           "xaxis": "x",
           "y": [
            "Netherlands"
           ],
           "yaxis": "y"
          },
          {
           "hovertemplate": "Land=%{y}<br>year=2010<br>Produzierte Menge (nach Einheit)=%{x}<extra></extra>",
           "legendgroup": "Norway",
           "marker": {
            "color": "#EF553B",
            "pattern": {
             "shape": ""
            }
           },
           "name": "Norway",
           "orientation": "h",
           "showlegend": true,
           "textposition": "auto",
           "type": "bar",
           "x": {
            "bdata": "AAAAAICAyUA=",
            "dtype": "f8"
           },
           "xaxis": "x",
           "y": [
            "Norway"
           ],
           "yaxis": "y"
          },
          {
           "hovertemplate": "Land=%{y}<br>year=2010<br>Produzierte Menge (nach Einheit)=%{x}<extra></extra>",
           "legendgroup": "Poland",
           "marker": {
            "color": "#00cc96",
            "pattern": {
             "shape": ""
            }
           },
           "name": "Poland",
           "orientation": "h",
           "showlegend": true,
           "textposition": "auto",
           "type": "bar",
           "x": {
            "bdata": "AAAAAFB58kA=",
            "dtype": "f8"
           },
           "xaxis": "x",
           "y": [
            "Poland"
           ],
           "yaxis": "y"
          },
          {
           "hovertemplate": "Land=%{y}<br>year=2010<br>Produzierte Menge (nach Einheit)=%{x}<extra></extra>",
           "legendgroup": "Portugal",
           "marker": {
            "color": "#ab63fa",
            "pattern": {
             "shape": ""
            }
           },
           "name": "Portugal",
           "orientation": "h",
           "showlegend": true,
           "textposition": "auto",
           "type": "bar",
           "x": {
            "bdata": "AAAAAMC16EA=",
            "dtype": "f8"
           },
           "xaxis": "x",
           "y": [
            "Portugal"
           ],
           "yaxis": "y"
          },
          {
           "hovertemplate": "Land=%{y}<br>year=2010<br>Produzierte Menge (nach Einheit)=%{x}<extra></extra>",
           "legendgroup": "Spain",
           "marker": {
            "color": "#FFA15A",
            "pattern": {
             "shape": ""
            }
           },
           "name": "Spain",
           "orientation": "h",
           "showlegend": true,
           "textposition": "auto",
           "type": "bar",
           "x": {
            "bdata": "AAAAACBU8UA=",
            "dtype": "f8"
           },
           "xaxis": "x",
           "y": [
            "Spain"
           ],
           "yaxis": "y"
          },
          {
           "hovertemplate": "Land=%{y}<br>year=2010<br>Produzierte Menge (nach Einheit)=%{x}<extra></extra>",
           "legendgroup": "Sweden",
           "marker": {
            "color": "#19d3f3",
            "pattern": {
             "shape": ""
            }
           },
           "name": "Sweden",
           "orientation": "h",
           "showlegend": true,
           "textposition": "auto",
           "type": "bar",
           "x": {
            "bdata": "AAAAAADR60A=",
            "dtype": "f8"
           },
           "xaxis": "x",
           "y": [
            "Sweden"
           ],
           "yaxis": "y"
          },
          {
           "hovertemplate": "Land=%{y}<br>year=2010<br>Produzierte Menge (nach Einheit)=%{x}<extra></extra>",
           "legendgroup": "Switzerland",
           "marker": {
            "color": "#FF6692",
            "pattern": {
             "shape": ""
            }
           },
           "name": "Switzerland",
           "orientation": "h",
           "showlegend": true,
           "textposition": "auto",
           "type": "bar",
           "x": {
            "bdata": "AAAAAABS50A=",
            "dtype": "f8"
           },
           "xaxis": "x",
           "y": [
            "Switzerland"
           ],
           "yaxis": "y"
          },
          {
           "hovertemplate": "Land=%{y}<br>year=2010<br>Produzierte Menge (nach Einheit)=%{x}<extra></extra>",
           "legendgroup": "United Kingdom",
           "marker": {
            "color": "#B6E880",
            "pattern": {
             "shape": ""
            }
           },
           "name": "United Kingdom",
           "orientation": "h",
           "showlegend": true,
           "textposition": "auto",
           "type": "bar",
           "x": {
            "bdata": "AAAAAMAoAkE=",
            "dtype": "f8"
           },
           "xaxis": "x",
           "y": [
            "United Kingdom"
           ],
           "yaxis": "y"
          },
          {
           "hovertemplate": "Land=%{y}<br>year=2010<br>Produzierte Menge (nach Einheit)=%{x}<extra></extra>",
           "legendgroup": "Germany",
           "marker": {
            "color": "#FF97FF",
            "pattern": {
             "shape": ""
            }
           },
           "name": "Germany",
           "orientation": "h",
           "showlegend": true,
           "textposition": "auto",
           "type": "bar",
           "x": {
            "bdata": "AAAAABT6FkE=",
            "dtype": "f8"
           },
           "xaxis": "x",
           "y": [
            "Germany"
           ],
           "yaxis": "y"
          },
          {
           "hovertemplate": "Land=%{y}<br>year=2010<br>Produzierte Menge (nach Einheit)=%{x}<extra></extra>",
           "legendgroup": "Belarus",
           "marker": {
            "color": "#FECB52",
            "pattern": {
             "shape": ""
            }
           },
           "name": "Belarus",
           "orientation": "h",
           "showlegend": true,
           "textposition": "auto",
           "type": "bar",
           "x": {
            "bdata": "AAAAAABGskA=",
            "dtype": "f8"
           },
           "xaxis": "x",
           "y": [
            "Belarus"
           ],
           "yaxis": "y"
          },
          {
           "hovertemplate": "Land=%{y}<br>year=2010<br>Produzierte Menge (nach Einheit)=%{x}<extra></extra>",
           "legendgroup": "Croatia",
           "marker": {
            "color": "#636efa",
            "pattern": {
             "shape": ""
            }
           },
           "name": "Croatia",
           "orientation": "h",
           "showlegend": true,
           "textposition": "auto",
           "type": "bar",
           "x": {
            "bdata": "AAAAAACQc0A=",
            "dtype": "f8"
           },
           "xaxis": "x",
           "y": [
            "Croatia"
           ],
           "yaxis": "y"
          },
          {
           "hovertemplate": "Land=%{y}<br>year=2010<br>Produzierte Menge (nach Einheit)=%{x}<extra></extra>",
           "legendgroup": "Czech Republic",
           "marker": {
            "color": "#EF553B",
            "pattern": {
             "shape": ""
            }
           },
           "name": "Czech Republic",
           "orientation": "h",
           "showlegend": true,
           "textposition": "auto",
           "type": "bar",
           "x": {
            "bdata": "AAAAAMBe0EA=",
            "dtype": "f8"
           },
           "xaxis": "x",
           "y": [
            "Czech Republic"
           ],
           "yaxis": "y"
          },
          {
           "hovertemplate": "Land=%{y}<br>year=2010<br>Produzierte Menge (nach Einheit)=%{x}<extra></extra>",
           "legendgroup": "Estonia",
           "marker": {
            "color": "#00cc96",
            "pattern": {
             "shape": ""
            }
           },
           "name": "Estonia",
           "orientation": "h",
           "showlegend": true,
           "textposition": "auto",
           "type": "bar",
           "x": {
            "bdata": "AAAAAADbvEA=",
            "dtype": "f8"
           },
           "xaxis": "x",
           "y": [
            "Estonia"
           ],
           "yaxis": "y"
          },
          {
           "hovertemplate": "Land=%{y}<br>year=2010<br>Produzierte Menge (nach Einheit)=%{x}<extra></extra>",
           "legendgroup": "Latvia",
           "marker": {
            "color": "#ab63fa",
            "pattern": {
             "shape": ""
            }
           },
           "name": "Latvia",
           "orientation": "h",
           "showlegend": true,
           "textposition": "auto",
           "type": "bar",
           "x": {
            "bdata": "AAAAAACQj0A=",
            "dtype": "f8"
           },
           "xaxis": "x",
           "y": [
            "Latvia"
           ],
           "yaxis": "y"
          },
          {
           "hovertemplate": "Land=%{y}<br>year=2010<br>Produzierte Menge (nach Einheit)=%{x}<extra></extra>",
           "legendgroup": "Lithuania",
           "marker": {
            "color": "#FFA15A",
            "pattern": {
             "shape": ""
            }
           },
           "name": "Lithuania",
           "orientation": "h",
           "showlegend": true,
           "textposition": "auto",
           "type": "bar",
           "x": {
            "bdata": "AAAAAAAYiEA=",
            "dtype": "f8"
           },
           "xaxis": "x",
           "y": [
            "Lithuania"
           ],
           "yaxis": "y"
          },
          {
           "hovertemplate": "Land=%{y}<br>year=2010<br>Produzierte Menge (nach Einheit)=%{x}<extra></extra>",
           "legendgroup": "Romania",
           "marker": {
            "color": "#19d3f3",
            "pattern": {
             "shape": ""
            }
           },
           "name": "Romania",
           "orientation": "h",
           "showlegend": true,
           "textposition": "auto",
           "type": "bar",
           "x": {
            "bdata": "AAAAAACAaEA=",
            "dtype": "f8"
           },
           "xaxis": "x",
           "y": [
            "Romania"
           ],
           "yaxis": "y"
          },
          {
           "hovertemplate": "Land=%{y}<br>year=2010<br>Produzierte Menge (nach Einheit)=%{x}<extra></extra>",
           "legendgroup": "Iceland",
           "marker": {
            "color": "#FF6692",
            "pattern": {
             "shape": ""
            }
           },
           "name": "Iceland",
           "orientation": "h",
           "showlegend": true,
           "textposition": "auto",
           "type": "bar",
           "x": {
            "bdata": "AAAAAAAATUA=",
            "dtype": "f8"
           },
           "xaxis": "x",
           "y": [
            "Iceland"
           ],
           "yaxis": "y"
          },
          {
           "hovertemplate": "Land=%{y}<br>year=2010<br>Produzierte Menge (nach Einheit)=%{x}<extra></extra>",
           "legendgroup": "Slovenia",
           "marker": {
            "color": "#B6E880",
            "pattern": {
             "shape": ""
            }
           },
           "name": "Slovenia",
           "orientation": "h",
           "showlegend": true,
           "textposition": "auto",
           "type": "bar",
           "x": {
            "bdata": "AAAAAACUmUA=",
            "dtype": "f8"
           },
           "xaxis": "x",
           "y": [
            "Slovenia"
           ],
           "yaxis": "y"
          },
          {
           "hovertemplate": "Land=%{y}<br>year=2010<br>Produzierte Menge (nach Einheit)=%{x}<extra></extra>",
           "legendgroup": "Cyprus",
           "marker": {
            "color": "#FF97FF",
            "pattern": {
             "shape": ""
            }
           },
           "name": "Cyprus",
           "orientation": "h",
           "showlegend": true,
           "textposition": "auto",
           "type": "bar",
           "x": {
            "bdata": "AAAAAACgdkA=",
            "dtype": "f8"
           },
           "xaxis": "x",
           "y": [
            "Cyprus"
           ],
           "yaxis": "y"
          },
          {
           "hovertemplate": "Land=%{y}<br>year=2010<br>Produzierte Menge (nach Einheit)=%{x}<extra></extra>",
           "legendgroup": "Slovakia",
           "marker": {
            "color": "#FECB52",
            "pattern": {
             "shape": ""
            }
           },
           "name": "Slovakia",
           "orientation": "h",
           "showlegend": true,
           "textposition": "auto",
           "type": "bar",
           "x": {
            "bdata": "AAAAAAAqukA=",
            "dtype": "f8"
           },
           "xaxis": "x",
           "y": [
            "Slovakia"
           ],
           "yaxis": "y"
          },
          {
           "hovertemplate": "Land=%{y}<br>year=2010<br>Produzierte Menge (nach Einheit)=%{x}<extra></extra>",
           "legendgroup": "Andorra",
           "marker": {
            "color": "#636efa",
            "pattern": {
             "shape": ""
            }
           },
           "name": "Andorra",
           "orientation": "h",
           "showlegend": true,
           "textposition": "auto",
           "type": "bar",
           "x": {
            "bdata": "AAAAAAAwa0A=",
            "dtype": "f8"
           },
           "xaxis": "x",
           "y": [
            "Andorra"
           ],
           "yaxis": "y"
          },
          {
           "hovertemplate": "Land=%{y}<br>year=2010<br>Produzierte Menge (nach Einheit)=%{x}<extra></extra>",
           "legendgroup": "Moldova",
           "marker": {
            "color": "#EF553B",
            "pattern": {
             "shape": ""
            }
           },
           "name": "Moldova",
           "orientation": "h",
           "showlegend": true,
           "textposition": "auto",
           "type": "bar",
           "x": {
            "bdata": "AAAAAACYh0A=",
            "dtype": "f8"
           },
           "xaxis": "x",
           "y": [
            "Moldova"
           ],
           "yaxis": "y"
          },
          {
           "hovertemplate": "Land=%{y}<br>year=2010<br>Produzierte Menge (nach Einheit)=%{x}<extra></extra>",
           "legendgroup": "Bulgaria",
           "marker": {
            "color": "#00cc96",
            "pattern": {
             "shape": ""
            }
           },
           "name": "Bulgaria",
           "orientation": "h",
           "showlegend": true,
           "textposition": "auto",
           "type": "bar",
           "x": {
            "bdata": "AAAAAACojEA=",
            "dtype": "f8"
           },
           "xaxis": "x",
           "y": [
            "Bulgaria"
           ],
           "yaxis": "y"
          },
          {
           "hovertemplate": "Land=%{y}<br>year=2010<br>Produzierte Menge (nach Einheit)=%{x}<extra></extra>",
           "legendgroup": "Liechtenstein",
           "marker": {
            "color": "#ab63fa",
            "pattern": {
             "shape": ""
            }
           },
           "name": "Liechtenstein",
           "orientation": "h",
           "showlegend": true,
           "textposition": "auto",
           "type": "bar",
           "x": {
            "bdata": "ZmZmZmaGdEA=",
            "dtype": "f8"
           },
           "xaxis": "x",
           "y": [
            "Liechtenstein"
           ],
           "yaxis": "y"
          },
          {
           "hovertemplate": "Land=%{y}<br>year=2010<br>Produzierte Menge (nach Einheit)=%{x}<extra></extra>",
           "legendgroup": "Malta",
           "marker": {
            "color": "#FFA15A",
            "pattern": {
             "shape": ""
            }
           },
           "name": "Malta",
           "orientation": "h",
           "showlegend": true,
           "textposition": "auto",
           "type": "bar",
           "x": {
            "bdata": "AAAAAAAAHEA=",
            "dtype": "f8"
           },
           "xaxis": "x",
           "y": [
            "Malta"
           ],
           "yaxis": "y"
          },
          {
           "hovertemplate": "Land=%{y}<br>year=2010<br>Produzierte Menge (nach Einheit)=%{x}<extra></extra>",
           "legendgroup": "North Macedonia",
           "marker": {
            "color": "#19d3f3",
            "pattern": {
             "shape": ""
            }
           },
           "name": "North Macedonia",
           "orientation": "h",
           "showlegend": true,
           "textposition": "auto",
           "type": "bar",
           "x": {
            "bdata": "lkOLbOf7/z8=",
            "dtype": "f8"
           },
           "xaxis": "x",
           "y": [
            "North Macedonia"
           ],
           "yaxis": "y"
          }
         ],
         "name": "2010"
        },
        {
         "data": [
          {
           "hovertemplate": "Land=%{y}<br>year=2011<br>Produzierte Menge (nach Einheit)=%{x}<extra></extra>",
           "legendgroup": "Austria",
           "marker": {
            "color": "#636efa",
            "pattern": {
             "shape": ""
            }
           },
           "name": "Austria",
           "orientation": "h",
           "showlegend": true,
           "textposition": "auto",
           "type": "bar",
           "x": {
            "bdata": "AAAAAAC030A=",
            "dtype": "f8"
           },
           "xaxis": "x",
           "y": [
            "Austria"
           ],
           "yaxis": "y"
          },
          {
           "hovertemplate": "Land=%{y}<br>year=2011<br>Produzierte Menge (nach Einheit)=%{x}<extra></extra>",
           "legendgroup": "Belgium",
           "marker": {
            "color": "#EF553B",
            "pattern": {
             "shape": ""
            }
           },
           "name": "Belgium",
           "orientation": "h",
           "showlegend": true,
           "textposition": "auto",
           "type": "bar",
           "x": {
            "bdata": "AAAAAOB+7kA=",
            "dtype": "f8"
           },
           "xaxis": "x",
           "y": [
            "Belgium"
           ],
           "yaxis": "y"
          },
          {
           "hovertemplate": "Land=%{y}<br>year=2011<br>Produzierte Menge (nach Einheit)=%{x}<extra></extra>",
           "legendgroup": "Denmark",
           "marker": {
            "color": "#00cc96",
            "pattern": {
             "shape": ""
            }
           },
           "name": "Denmark",
           "orientation": "h",
           "showlegend": true,
           "textposition": "auto",
           "type": "bar",
           "x": {
            "bdata": "AAAAACAQ70A=",
            "dtype": "f8"
           },
           "xaxis": "x",
           "y": [
            "Denmark"
           ],
           "yaxis": "y"
          },
          {
           "hovertemplate": "Land=%{y}<br>year=2011<br>Produzierte Menge (nach Einheit)=%{x}<extra></extra>",
           "legendgroup": "Finland",
           "marker": {
            "color": "#ab63fa",
            "pattern": {
             "shape": ""
            }
           },
           "name": "Finland",
           "orientation": "h",
           "showlegend": true,
           "textposition": "auto",
           "type": "bar",
           "x": {
            "bdata": "AAAAAIBzykA=",
            "dtype": "f8"
           },
           "xaxis": "x",
           "y": [
            "Finland"
           ],
           "yaxis": "y"
          },
          {
           "hovertemplate": "Land=%{y}<br>year=2011<br>Produzierte Menge (nach Einheit)=%{x}<extra></extra>",
           "legendgroup": "France",
           "marker": {
            "color": "#FFA15A",
            "pattern": {
             "shape": ""
            }
           },
           "name": "France",
           "orientation": "h",
           "showlegend": true,
           "textposition": "auto",
           "type": "bar",
           "x": {
            "bdata": "AAAAANBq/UA=",
            "dtype": "f8"
           },
           "xaxis": "x",
           "y": [
            "France"
           ],
           "yaxis": "y"
          },
          {
           "hovertemplate": "Land=%{y}<br>year=2011<br>Produzierte Menge (nach Einheit)=%{x}<extra></extra>",
           "legendgroup": "Greece",
           "marker": {
            "color": "#19d3f3",
            "pattern": {
             "shape": ""
            }
           },
           "name": "Greece",
           "orientation": "h",
           "showlegend": true,
           "textposition": "auto",
           "type": "bar",
           "x": {
            "bdata": "AAAAAABLzEA=",
            "dtype": "f8"
           },
           "xaxis": "x",
           "y": [
            "Greece"
           ],
           "yaxis": "y"
          },
          {
           "hovertemplate": "Land=%{y}<br>year=2011<br>Produzierte Menge (nach Einheit)=%{x}<extra></extra>",
           "legendgroup": "Hungary",
           "marker": {
            "color": "#FF6692",
            "pattern": {
             "shape": ""
            }
           },
           "name": "Hungary",
           "orientation": "h",
           "showlegend": true,
           "textposition": "auto",
           "type": "bar",
           "x": {
            "bdata": "AAAAAABF00A=",
            "dtype": "f8"
           },
           "xaxis": "x",
           "y": [
            "Hungary"
           ],
           "yaxis": "y"
          },
          {
           "hovertemplate": "Land=%{y}<br>year=2011<br>Produzierte Menge (nach Einheit)=%{x}<extra></extra>",
           "legendgroup": "Ireland",
           "marker": {
            "color": "#B6E880",
            "pattern": {
             "shape": ""
            }
           },
           "name": "Ireland",
           "orientation": "h",
           "showlegend": true,
           "textposition": "auto",
           "type": "bar",
           "x": {
            "bdata": "AAAAAAAKs0A=",
            "dtype": "f8"
           },
           "xaxis": "x",
           "y": [
            "Ireland"
           ],
           "yaxis": "y"
          },
          {
           "hovertemplate": "Land=%{y}<br>year=2011<br>Produzierte Menge (nach Einheit)=%{x}<extra></extra>",
           "legendgroup": "Italy",
           "marker": {
            "color": "#FF97FF",
            "pattern": {
             "shape": ""
            }
           },
           "name": "Italy",
           "orientation": "h",
           "showlegend": true,
           "textposition": "auto",
           "type": "bar",
           "x": {
            "bdata": "AAAAAODl/kA=",
            "dtype": "f8"
           },
           "xaxis": "x",
           "y": [
            "Italy"
           ],
           "yaxis": "y"
          },
          {
           "hovertemplate": "Land=%{y}<br>year=2011<br>Produzierte Menge (nach Einheit)=%{x}<extra></extra>",
           "legendgroup": "Luxembourg",
           "marker": {
            "color": "#FECB52",
            "pattern": {
             "shape": ""
            }
           },
           "name": "Luxembourg",
           "orientation": "h",
           "showlegend": true,
           "textposition": "auto",
           "type": "bar",
           "x": {
            "bdata": "AAAAAABsn0A=",
            "dtype": "f8"
           },
           "xaxis": "x",
           "y": [
            "Luxembourg"
           ],
           "yaxis": "y"
          },
          {
           "hovertemplate": "Land=%{y}<br>year=2011<br>Produzierte Menge (nach Einheit)=%{x}<extra></extra>",
           "legendgroup": "Netherlands",
           "marker": {
            "color": "#636efa",
            "pattern": {
             "shape": ""
            }
           },
           "name": "Netherlands",
           "orientation": "h",
           "showlegend": true,
           "textposition": "auto",
           "type": "bar",
           "x": {
            "bdata": "AAAAABBN9kA=",
            "dtype": "f8"
           },
           "xaxis": "x",
           "y": [
            "Netherlands"
           ],
           "yaxis": "y"
          },
          {
           "hovertemplate": "Land=%{y}<br>year=2011<br>Produzierte Menge (nach Einheit)=%{x}<extra></extra>",
           "legendgroup": "Norway",
           "marker": {
            "color": "#EF553B",
            "pattern": {
             "shape": ""
            }
           },
           "name": "Norway",
           "orientation": "h",
           "showlegend": true,
           "textposition": "auto",
           "type": "bar",
           "x": {
            "bdata": "AAAAAACTzkA=",
            "dtype": "f8"
           },
           "xaxis": "x",
           "y": [
            "Norway"
           ],
           "yaxis": "y"
          },
          {
           "hovertemplate": "Land=%{y}<br>year=2011<br>Produzierte Menge (nach Einheit)=%{x}<extra></extra>",
           "legendgroup": "Poland",
           "marker": {
            "color": "#00cc96",
            "pattern": {
             "shape": ""
            }
           },
           "name": "Poland",
           "orientation": "h",
           "showlegend": true,
           "textposition": "auto",
           "type": "bar",
           "x": {
            "bdata": "AAAAACAN9UA=",
            "dtype": "f8"
           },
           "xaxis": "x",
           "y": [
            "Poland"
           ],
           "yaxis": "y"
          },
          {
           "hovertemplate": "Land=%{y}<br>year=2011<br>Produzierte Menge (nach Einheit)=%{x}<extra></extra>",
           "legendgroup": "Portugal",
           "marker": {
            "color": "#ab63fa",
            "pattern": {
             "shape": ""
            }
           },
           "name": "Portugal",
           "orientation": "h",
           "showlegend": true,
           "textposition": "auto",
           "type": "bar",
           "x": {
            "bdata": "AAAAAMBf6UA=",
            "dtype": "f8"
           },
           "xaxis": "x",
           "y": [
            "Portugal"
           ],
           "yaxis": "y"
          },
          {
           "hovertemplate": "Land=%{y}<br>year=2011<br>Produzierte Menge (nach Einheit)=%{x}<extra></extra>",
           "legendgroup": "Spain",
           "marker": {
            "color": "#FFA15A",
            "pattern": {
             "shape": ""
            }
           },
           "name": "Spain",
           "orientation": "h",
           "showlegend": true,
           "textposition": "auto",
           "type": "bar",
           "x": {
            "bdata": "AAAAAEC97UA=",
            "dtype": "f8"
           },
           "xaxis": "x",
           "y": [
            "Spain"
           ],
           "yaxis": "y"
          },
          {
           "hovertemplate": "Land=%{y}<br>year=2011<br>Produzierte Menge (nach Einheit)=%{x}<extra></extra>",
           "legendgroup": "Sweden",
           "marker": {
            "color": "#19d3f3",
            "pattern": {
             "shape": ""
            }
           },
           "name": "Sweden",
           "orientation": "h",
           "showlegend": true,
           "textposition": "auto",
           "type": "bar",
           "x": {
            "bdata": "AAAAAGAJ60A=",
            "dtype": "f8"
           },
           "xaxis": "x",
           "y": [
            "Sweden"
           ],
           "yaxis": "y"
          },
          {
           "hovertemplate": "Land=%{y}<br>year=2011<br>Produzierte Menge (nach Einheit)=%{x}<extra></extra>",
           "legendgroup": "Switzerland",
           "marker": {
            "color": "#FF6692",
            "pattern": {
             "shape": ""
            }
           },
           "name": "Switzerland",
           "orientation": "h",
           "showlegend": true,
           "textposition": "auto",
           "type": "bar",
           "x": {
            "bdata": "AAAAAKDY50A=",
            "dtype": "f8"
           },
           "xaxis": "x",
           "y": [
            "Switzerland"
           ],
           "yaxis": "y"
          },
          {
           "hovertemplate": "Land=%{y}<br>year=2011<br>Produzierte Menge (nach Einheit)=%{x}<extra></extra>",
           "legendgroup": "United Kingdom",
           "marker": {
            "color": "#B6E880",
            "pattern": {
             "shape": ""
            }
           },
           "name": "United Kingdom",
           "orientation": "h",
           "showlegend": true,
           "textposition": "auto",
           "type": "bar",
           "x": {
            "bdata": "AAAAAPgoBEE=",
            "dtype": "f8"
           },
           "xaxis": "x",
           "y": [
            "United Kingdom"
           ],
           "yaxis": "y"
          },
          {
           "hovertemplate": "Land=%{y}<br>year=2011<br>Produzierte Menge (nach Einheit)=%{x}<extra></extra>",
           "legendgroup": "Germany",
           "marker": {
            "color": "#FF97FF",
            "pattern": {
             "shape": ""
            }
           },
           "name": "Germany",
           "orientation": "h",
           "showlegend": true,
           "textposition": "auto",
           "type": "bar",
           "x": {
            "bdata": "AAAAAPS/GUE=",
            "dtype": "f8"
           },
           "xaxis": "x",
           "y": [
            "Germany"
           ],
           "yaxis": "y"
          },
          {
           "hovertemplate": "Land=%{y}<br>year=2011<br>Produzierte Menge (nach Einheit)=%{x}<extra></extra>",
           "legendgroup": "Belarus",
           "marker": {
            "color": "#FECB52",
            "pattern": {
             "shape": ""
            }
           },
           "name": "Belarus",
           "orientation": "h",
           "showlegend": true,
           "textposition": "auto",
           "type": "bar",
           "x": {
            "bdata": "AAAAAACOqkA=",
            "dtype": "f8"
           },
           "xaxis": "x",
           "y": [
            "Belarus"
           ],
           "yaxis": "y"
          },
          {
           "hovertemplate": "Land=%{y}<br>year=2011<br>Produzierte Menge (nach Einheit)=%{x}<extra></extra>",
           "legendgroup": "Croatia",
           "marker": {
            "color": "#636efa",
            "pattern": {
             "shape": ""
            }
           },
           "name": "Croatia",
           "orientation": "h",
           "showlegend": true,
           "textposition": "auto",
           "type": "bar",
           "x": {
            "bdata": "AAAAAADAdEA=",
            "dtype": "f8"
           },
           "xaxis": "x",
           "y": [
            "Croatia"
           ],
           "yaxis": "y"
          },
          {
           "hovertemplate": "Land=%{y}<br>year=2011<br>Produzierte Menge (nach Einheit)=%{x}<extra></extra>",
           "legendgroup": "Czech Republic",
           "marker": {
            "color": "#EF553B",
            "pattern": {
             "shape": ""
            }
           },
           "name": "Czech Republic",
           "orientation": "h",
           "showlegend": true,
           "textposition": "auto",
           "type": "bar",
           "x": {
            "bdata": "AAAAAIDf1EA=",
            "dtype": "f8"
           },
           "xaxis": "x",
           "y": [
            "Czech Republic"
           ],
           "yaxis": "y"
          },
          {
           "hovertemplate": "Land=%{y}<br>year=2011<br>Produzierte Menge (nach Einheit)=%{x}<extra></extra>",
           "legendgroup": "Estonia",
           "marker": {
            "color": "#00cc96",
            "pattern": {
             "shape": ""
            }
           },
           "name": "Estonia",
           "orientation": "h",
           "showlegend": true,
           "textposition": "auto",
           "type": "bar",
           "x": {
            "bdata": "AAAAAABDwUA=",
            "dtype": "f8"
           },
           "xaxis": "x",
           "y": [
            "Estonia"
           ],
           "yaxis": "y"
          },
          {
           "hovertemplate": "Land=%{y}<br>year=2011<br>Produzierte Menge (nach Einheit)=%{x}<extra></extra>",
           "legendgroup": "Latvia",
           "marker": {
            "color": "#ab63fa",
            "pattern": {
             "shape": ""
            }
           },
           "name": "Latvia",
           "orientation": "h",
           "showlegend": true,
           "textposition": "auto",
           "type": "bar",
           "x": {
            "bdata": "AAAAAAAYkUA=",
            "dtype": "f8"
           },
           "xaxis": "x",
           "y": [
            "Latvia"
           ],
           "yaxis": "y"
          },
          {
           "hovertemplate": "Land=%{y}<br>year=2011<br>Produzierte Menge (nach Einheit)=%{x}<extra></extra>",
           "legendgroup": "Lithuania",
           "marker": {
            "color": "#FFA15A",
            "pattern": {
             "shape": ""
            }
           },
           "name": "Lithuania",
           "orientation": "h",
           "showlegend": true,
           "textposition": "auto",
           "type": "bar",
           "x": {
            "bdata": "AAAAAAAoiEA=",
            "dtype": "f8"
           },
           "xaxis": "x",
           "y": [
            "Lithuania"
           ],
           "yaxis": "y"
          },
          {
           "hovertemplate": "Land=%{y}<br>year=2011<br>Produzierte Menge (nach Einheit)=%{x}<extra></extra>",
           "legendgroup": "Romania",
           "marker": {
            "color": "#19d3f3",
            "pattern": {
             "shape": ""
            }
           },
           "name": "Romania",
           "orientation": "h",
           "showlegend": true,
           "textposition": "auto",
           "type": "bar",
           "x": {
            "bdata": "AAAAAAAghkA=",
            "dtype": "f8"
           },
           "xaxis": "x",
           "y": [
            "Romania"
           ],
           "yaxis": "y"
          },
          {
           "hovertemplate": "Land=%{y}<br>year=2011<br>Produzierte Menge (nach Einheit)=%{x}<extra></extra>",
           "legendgroup": "Iceland",
           "marker": {
            "color": "#FF6692",
            "pattern": {
             "shape": ""
            }
           },
           "name": "Iceland",
           "orientation": "h",
           "showlegend": true,
           "textposition": "auto",
           "type": "bar",
           "x": {
            "bdata": "AAAAAAAASEA=",
            "dtype": "f8"
           },
           "xaxis": "x",
           "y": [
            "Iceland"
           ],
           "yaxis": "y"
          },
          {
           "hovertemplate": "Land=%{y}<br>year=2011<br>Produzierte Menge (nach Einheit)=%{x}<extra></extra>",
           "legendgroup": "Slovenia",
           "marker": {
            "color": "#B6E880",
            "pattern": {
             "shape": ""
            }
           },
           "name": "Slovenia",
           "orientation": "h",
           "showlegend": true,
           "textposition": "auto",
           "type": "bar",
           "x": {
            "bdata": "AAAAAAConEA=",
            "dtype": "f8"
           },
           "xaxis": "x",
           "y": [
            "Slovenia"
           ],
           "yaxis": "y"
          },
          {
           "hovertemplate": "Land=%{y}<br>year=2011<br>Produzierte Menge (nach Einheit)=%{x}<extra></extra>",
           "legendgroup": "Cyprus",
           "marker": {
            "color": "#FF97FF",
            "pattern": {
             "shape": ""
            }
           },
           "name": "Cyprus",
           "orientation": "h",
           "showlegend": true,
           "textposition": "auto",
           "type": "bar",
           "x": {
            "bdata": "AAAAAABAfkA=",
            "dtype": "f8"
           },
           "xaxis": "x",
           "y": [
            "Cyprus"
           ],
           "yaxis": "y"
          },
          {
           "hovertemplate": "Land=%{y}<br>year=2011<br>Produzierte Menge (nach Einheit)=%{x}<extra></extra>",
           "legendgroup": "Slovakia",
           "marker": {
            "color": "#FECB52",
            "pattern": {
             "shape": ""
            }
           },
           "name": "Slovakia",
           "orientation": "h",
           "showlegend": true,
           "textposition": "auto",
           "type": "bar",
           "x": {
            "bdata": "AAAAAADuvEA=",
            "dtype": "f8"
           },
           "xaxis": "x",
           "y": [
            "Slovakia"
           ],
           "yaxis": "y"
          },
          {
           "hovertemplate": "Land=%{y}<br>year=2011<br>Produzierte Menge (nach Einheit)=%{x}<extra></extra>",
           "legendgroup": "Andorra",
           "marker": {
            "color": "#636efa",
            "pattern": {
             "shape": ""
            }
           },
           "name": "Andorra",
           "orientation": "h",
           "showlegend": true,
           "textposition": "auto",
           "type": "bar",
           "x": {
            "bdata": "MzMzMzNTakA=",
            "dtype": "f8"
           },
           "xaxis": "x",
           "y": [
            "Andorra"
           ],
           "yaxis": "y"
          },
          {
           "hovertemplate": "Land=%{y}<br>year=2011<br>Produzierte Menge (nach Einheit)=%{x}<extra></extra>",
           "legendgroup": "Moldova",
           "marker": {
            "color": "#EF553B",
            "pattern": {
             "shape": ""
            }
           },
           "name": "Moldova",
           "orientation": "h",
           "showlegend": true,
           "textposition": "auto",
           "type": "bar",
           "x": {
            "bdata": "AAAAAADQikA=",
            "dtype": "f8"
           },
           "xaxis": "x",
           "y": [
            "Moldova"
           ],
           "yaxis": "y"
          },
          {
           "hovertemplate": "Land=%{y}<br>year=2011<br>Produzierte Menge (nach Einheit)=%{x}<extra></extra>",
           "legendgroup": "Bulgaria",
           "marker": {
            "color": "#00cc96",
            "pattern": {
             "shape": ""
            }
           },
           "name": "Bulgaria",
           "orientation": "h",
           "showlegend": true,
           "textposition": "auto",
           "type": "bar",
           "x": {
            "bdata": "AAAAAAAYiUA=",
            "dtype": "f8"
           },
           "xaxis": "x",
           "y": [
            "Bulgaria"
           ],
           "yaxis": "y"
          },
          {
           "hovertemplate": "Land=%{y}<br>year=2011<br>Produzierte Menge (nach Einheit)=%{x}<extra></extra>",
           "legendgroup": "Liechtenstein",
           "marker": {
            "color": "#ab63fa",
            "pattern": {
             "shape": ""
            }
           },
           "name": "Liechtenstein",
           "orientation": "h",
           "showlegend": true,
           "textposition": "auto",
           "type": "bar",
           "x": {
            "bdata": "AAAAAACoc0A=",
            "dtype": "f8"
           },
           "xaxis": "x",
           "y": [
            "Liechtenstein"
           ],
           "yaxis": "y"
          },
          {
           "hovertemplate": "Land=%{y}<br>year=2011<br>Produzierte Menge (nach Einheit)=%{x}<extra></extra>",
           "legendgroup": "Malta",
           "marker": {
            "color": "#FFA15A",
            "pattern": {
             "shape": ""
            }
           },
           "name": "Malta",
           "orientation": "h",
           "showlegend": true,
           "textposition": "auto",
           "type": "bar",
           "x": {
            "bdata": "AAAAAAAATkA=",
            "dtype": "f8"
           },
           "xaxis": "x",
           "y": [
            "Malta"
           ],
           "yaxis": "y"
          },
          {
           "hovertemplate": "Land=%{y}<br>year=2011<br>Produzierte Menge (nach Einheit)=%{x}<extra></extra>",
           "legendgroup": "North Macedonia",
           "marker": {
            "color": "#19d3f3",
            "pattern": {
             "shape": ""
            }
           },
           "name": "North Macedonia",
           "orientation": "h",
           "showlegend": true,
           "textposition": "auto",
           "type": "bar",
           "x": {
            "bdata": "WmQ7308NEkA=",
            "dtype": "f8"
           },
           "xaxis": "x",
           "y": [
            "North Macedonia"
           ],
           "yaxis": "y"
          }
         ],
         "name": "2011"
        },
        {
         "data": [
          {
           "hovertemplate": "Land=%{y}<br>year=2012<br>Produzierte Menge (nach Einheit)=%{x}<extra></extra>",
           "legendgroup": "Austria",
           "marker": {
            "color": "#636efa",
            "pattern": {
             "shape": ""
            }
           },
           "name": "Austria",
           "orientation": "h",
           "showlegend": true,
           "textposition": "auto",
           "type": "bar",
           "x": {
            "bdata": "AAAAAOC54EA=",
            "dtype": "f8"
           },
           "xaxis": "x",
           "y": [
            "Austria"
           ],
           "yaxis": "y"
          },
          {
           "hovertemplate": "Land=%{y}<br>year=2012<br>Produzierte Menge (nach Einheit)=%{x}<extra></extra>",
           "legendgroup": "Belgium",
           "marker": {
            "color": "#EF553B",
            "pattern": {
             "shape": ""
            }
           },
           "name": "Belgium",
           "orientation": "h",
           "showlegend": true,
           "textposition": "auto",
           "type": "bar",
           "x": {
            "bdata": "AAAAAGC45EA=",
            "dtype": "f8"
           },
           "xaxis": "x",
           "y": [
            "Belgium"
           ],
           "yaxis": "y"
          },
          {
           "hovertemplate": "Land=%{y}<br>year=2012<br>Produzierte Menge (nach Einheit)=%{x}<extra></extra>",
           "legendgroup": "Denmark",
           "marker": {
            "color": "#00cc96",
            "pattern": {
             "shape": ""
            }
           },
           "name": "Denmark",
           "orientation": "h",
           "showlegend": true,
           "textposition": "auto",
           "type": "bar",
           "x": {
            "bdata": "AAAAAADH7UA=",
            "dtype": "f8"
           },
           "xaxis": "x",
           "y": [
            "Denmark"
           ],
           "yaxis": "y"
          },
          {
           "hovertemplate": "Land=%{y}<br>year=2012<br>Produzierte Menge (nach Einheit)=%{x}<extra></extra>",
           "legendgroup": "Finland",
           "marker": {
            "color": "#ab63fa",
            "pattern": {
             "shape": ""
            }
           },
           "name": "Finland",
           "orientation": "h",
           "showlegend": true,
           "textposition": "auto",
           "type": "bar",
           "x": {
            "bdata": "AAAAAIBO0EA=",
            "dtype": "f8"
           },
           "xaxis": "x",
           "y": [
            "Finland"
           ],
           "yaxis": "y"
          },
          {
           "hovertemplate": "Land=%{y}<br>year=2012<br>Produzierte Menge (nach Einheit)=%{x}<extra></extra>",
           "legendgroup": "France",
           "marker": {
            "color": "#FFA15A",
            "pattern": {
             "shape": ""
            }
           },
           "name": "France",
           "orientation": "h",
           "showlegend": true,
           "textposition": "auto",
           "type": "bar",
           "x": {
            "bdata": "AAAAALCGAEE=",
            "dtype": "f8"
           },
           "xaxis": "x",
           "y": [
            "France"
           ],
           "yaxis": "y"
          },
          {
           "hovertemplate": "Land=%{y}<br>year=2012<br>Produzierte Menge (nach Einheit)=%{x}<extra></extra>",
           "legendgroup": "Greece",
           "marker": {
            "color": "#19d3f3",
            "pattern": {
             "shape": ""
            }
           },
           "name": "Greece",
           "orientation": "h",
           "showlegend": true,
           "textposition": "auto",
           "type": "bar",
           "x": {
            "bdata": "AAAAAAAQyUA=",
            "dtype": "f8"
           },
           "xaxis": "x",
           "y": [
            "Greece"
           ],
           "yaxis": "y"
          },
          {
           "hovertemplate": "Land=%{y}<br>year=2012<br>Produzierte Menge (nach Einheit)=%{x}<extra></extra>",
           "legendgroup": "Hungary",
           "marker": {
            "color": "#FF6692",
            "pattern": {
             "shape": ""
            }
           },
           "name": "Hungary",
           "orientation": "h",
           "showlegend": true,
           "textposition": "auto",
           "type": "bar",
           "x": {
            "bdata": "AAAAAECG00A=",
            "dtype": "f8"
           },
           "xaxis": "x",
           "y": [
            "Hungary"
           ],
           "yaxis": "y"
          },
          {
           "hovertemplate": "Land=%{y}<br>year=2012<br>Produzierte Menge (nach Einheit)=%{x}<extra></extra>",
           "legendgroup": "Ireland",
           "marker": {
            "color": "#B6E880",
            "pattern": {
             "shape": ""
            }
           },
           "name": "Ireland",
           "orientation": "h",
           "showlegend": true,
           "textposition": "auto",
           "type": "bar",
           "x": {
            "bdata": "AAAAAAAPukA=",
            "dtype": "f8"
           },
           "xaxis": "x",
           "y": [
            "Ireland"
           ],
           "yaxis": "y"
          },
          {
           "hovertemplate": "Land=%{y}<br>year=2012<br>Produzierte Menge (nach Einheit)=%{x}<extra></extra>",
           "legendgroup": "Italy",
           "marker": {
            "color": "#FF97FF",
            "pattern": {
             "shape": ""
            }
           },
           "name": "Italy",
           "orientation": "h",
           "showlegend": true,
           "textposition": "auto",
           "type": "bar",
           "x": {
            "bdata": "AAAAADDc/kA=",
            "dtype": "f8"
           },
           "xaxis": "x",
           "y": [
            "Italy"
           ],
           "yaxis": "y"
          },
          {
           "hovertemplate": "Land=%{y}<br>year=2012<br>Produzierte Menge (nach Einheit)=%{x}<extra></extra>",
           "legendgroup": "Luxembourg",
           "marker": {
            "color": "#FECB52",
            "pattern": {
             "shape": ""
            }
           },
           "name": "Luxembourg",
           "orientation": "h",
           "showlegend": true,
           "textposition": "auto",
           "type": "bar",
           "x": {
            "bdata": "AAAAAACkoEA=",
            "dtype": "f8"
           },
           "xaxis": "x",
           "y": [
            "Luxembourg"
           ],
           "yaxis": "y"
          },
          {
           "hovertemplate": "Land=%{y}<br>year=2012<br>Produzierte Menge (nach Einheit)=%{x}<extra></extra>",
           "legendgroup": "Netherlands",
           "marker": {
            "color": "#636efa",
            "pattern": {
             "shape": ""
            }
           },
           "name": "Netherlands",
           "orientation": "h",
           "showlegend": true,
           "textposition": "auto",
           "type": "bar",
           "x": {
            "bdata": "AAAAAFCk9UA=",
            "dtype": "f8"
           },
           "xaxis": "x",
           "y": [
            "Netherlands"
           ],
           "yaxis": "y"
          },
          {
           "hovertemplate": "Land=%{y}<br>year=2012<br>Produzierte Menge (nach Einheit)=%{x}<extra></extra>",
           "legendgroup": "Norway",
           "marker": {
            "color": "#EF553B",
            "pattern": {
             "shape": ""
            }
           },
           "name": "Norway",
           "orientation": "h",
           "showlegend": true,
           "textposition": "auto",
           "type": "bar",
           "x": {
            "bdata": "AAAAAADgz0A=",
            "dtype": "f8"
           },
           "xaxis": "x",
           "y": [
            "Norway"
           ],
           "yaxis": "y"
          },
          {
           "hovertemplate": "Land=%{y}<br>year=2012<br>Produzierte Menge (nach Einheit)=%{x}<extra></extra>",
           "legendgroup": "Poland",
           "marker": {
            "color": "#00cc96",
            "pattern": {
             "shape": ""
            }
           },
           "name": "Poland",
           "orientation": "h",
           "showlegend": true,
           "textposition": "auto",
           "type": "bar",
           "x": {
            "bdata": "AAAAALCe+UA=",
            "dtype": "f8"
           },
           "xaxis": "x",
           "y": [
            "Poland"
           ],
           "yaxis": "y"
          },
          {
           "hovertemplate": "Land=%{y}<br>year=2012<br>Produzierte Menge (nach Einheit)=%{x}<extra></extra>",
           "legendgroup": "Portugal",
           "marker": {
            "color": "#ab63fa",
            "pattern": {
             "shape": ""
            }
           },
           "name": "Portugal",
           "orientation": "h",
           "showlegend": true,
           "textposition": "auto",
           "type": "bar",
           "x": {
            "bdata": "AAAAAIBz4EA=",
            "dtype": "f8"
           },
           "xaxis": "x",
           "y": [
            "Portugal"
           ],
           "yaxis": "y"
          },
          {
           "hovertemplate": "Land=%{y}<br>year=2012<br>Produzierte Menge (nach Einheit)=%{x}<extra></extra>",
           "legendgroup": "Spain",
           "marker": {
            "color": "#FFA15A",
            "pattern": {
             "shape": ""
            }
           },
           "name": "Spain",
           "orientation": "h",
           "showlegend": true,
           "textposition": "auto",
           "type": "bar",
           "x": {
            "bdata": "AAAAAODH7UA=",
            "dtype": "f8"
           },
           "xaxis": "x",
           "y": [
            "Spain"
           ],
           "yaxis": "y"
          },
          {
           "hovertemplate": "Land=%{y}<br>year=2012<br>Produzierte Menge (nach Einheit)=%{x}<extra></extra>",
           "legendgroup": "Sweden",
           "marker": {
            "color": "#19d3f3",
            "pattern": {
             "shape": ""
            }
           },
           "name": "Sweden",
           "orientation": "h",
           "showlegend": true,
           "textposition": "auto",
           "type": "bar",
           "x": {
            "bdata": "AAAAACA57UA=",
            "dtype": "f8"
           },
           "xaxis": "x",
           "y": [
            "Sweden"
           ],
           "yaxis": "y"
          },
          {
           "hovertemplate": "Land=%{y}<br>year=2012<br>Produzierte Menge (nach Einheit)=%{x}<extra></extra>",
           "legendgroup": "Switzerland",
           "marker": {
            "color": "#FF6692",
            "pattern": {
             "shape": ""
            }
           },
           "name": "Switzerland",
           "orientation": "h",
           "showlegend": true,
           "textposition": "auto",
           "type": "bar",
           "x": {
            "bdata": "AAAAAIBS6EA=",
            "dtype": "f8"
           },
           "xaxis": "x",
           "y": [
            "Switzerland"
           ],
           "yaxis": "y"
          },
          {
           "hovertemplate": "Land=%{y}<br>year=2012<br>Produzierte Menge (nach Einheit)=%{x}<extra></extra>",
           "legendgroup": "United Kingdom",
           "marker": {
            "color": "#B6E880",
            "pattern": {
             "shape": ""
            }
           },
           "name": "United Kingdom",
           "orientation": "h",
           "showlegend": true,
           "textposition": "auto",
           "type": "bar",
           "x": {
            "bdata": "AAAAAGB7BUE=",
            "dtype": "f8"
           },
           "xaxis": "x",
           "y": [
            "United Kingdom"
           ],
           "yaxis": "y"
          },
          {
           "hovertemplate": "Land=%{y}<br>year=2012<br>Produzierte Menge (nach Einheit)=%{x}<extra></extra>",
           "legendgroup": "Germany",
           "marker": {
            "color": "#FF97FF",
            "pattern": {
             "shape": ""
            }
           },
           "name": "Germany",
           "orientation": "h",
           "showlegend": true,
           "textposition": "auto",
           "type": "bar",
           "x": {
            "bdata": "AAAAAFThHUE=",
            "dtype": "f8"
           },
           "xaxis": "x",
           "y": [
            "Germany"
           ],
           "yaxis": "y"
          },
          {
           "hovertemplate": "Land=%{y}<br>year=2012<br>Produzierte Menge (nach Einheit)=%{x}<extra></extra>",
           "legendgroup": "Belarus",
           "marker": {
            "color": "#FECB52",
            "pattern": {
             "shape": ""
            }
           },
           "name": "Belarus",
           "orientation": "h",
           "showlegend": true,
           "textposition": "auto",
           "type": "bar",
           "x": {
            "bdata": "AAAAAAAeq0A=",
            "dtype": "f8"
           },
           "xaxis": "x",
           "y": [
            "Belarus"
           ],
           "yaxis": "y"
          },
          {
           "hovertemplate": "Land=%{y}<br>year=2012<br>Produzierte Menge (nach Einheit)=%{x}<extra></extra>",
           "legendgroup": "Croatia",
           "marker": {
            "color": "#636efa",
            "pattern": {
             "shape": ""
            }
           },
           "name": "Croatia",
           "orientation": "h",
           "showlegend": true,
           "textposition": "auto",
           "type": "bar",
           "x": {
            "bdata": "AAAAAADYgEA=",
            "dtype": "f8"
           },
           "xaxis": "x",
           "y": [
            "Croatia"
           ],
           "yaxis": "y"
          },
          {
           "hovertemplate": "Land=%{y}<br>year=2012<br>Produzierte Menge (nach Einheit)=%{x}<extra></extra>",
           "legendgroup": "Czech Republic",
           "marker": {
            "color": "#EF553B",
            "pattern": {
             "shape": ""
            }
           },
           "name": "Czech Republic",
           "orientation": "h",
           "showlegend": true,
           "textposition": "auto",
           "type": "bar",
           "x": {
            "bdata": "AAAAAEBj2kA=",
            "dtype": "f8"
           },
           "xaxis": "x",
           "y": [
            "Czech Republic"
           ],
           "yaxis": "y"
          },
          {
           "hovertemplate": "Land=%{y}<br>year=2012<br>Produzierte Menge (nach Einheit)=%{x}<extra></extra>",
           "legendgroup": "Estonia",
           "marker": {
            "color": "#00cc96",
            "pattern": {
             "shape": ""
            }
           },
           "name": "Estonia",
           "orientation": "h",
           "showlegend": true,
           "textposition": "auto",
           "type": "bar",
           "x": {
            "bdata": "AAAAAAA/wkA=",
            "dtype": "f8"
           },
           "xaxis": "x",
           "y": [
            "Estonia"
           ],
           "yaxis": "y"
          },
          {
           "hovertemplate": "Land=%{y}<br>year=2012<br>Produzierte Menge (nach Einheit)=%{x}<extra></extra>",
           "legendgroup": "Latvia",
           "marker": {
            "color": "#ab63fa",
            "pattern": {
             "shape": ""
            }
           },
           "name": "Latvia",
           "orientation": "h",
           "showlegend": true,
           "textposition": "auto",
           "type": "bar",
           "x": {
            "bdata": "AAAAAABookA=",
            "dtype": "f8"
           },
           "xaxis": "x",
           "y": [
            "Latvia"
           ],
           "yaxis": "y"
          },
          {
           "hovertemplate": "Land=%{y}<br>year=2012<br>Produzierte Menge (nach Einheit)=%{x}<extra></extra>",
           "legendgroup": "Lithuania",
           "marker": {
            "color": "#FFA15A",
            "pattern": {
             "shape": ""
            }
           },
           "name": "Lithuania",
           "orientation": "h",
           "showlegend": true,
           "textposition": "auto",
           "type": "bar",
           "x": {
            "bdata": "AAAAAACwikA=",
            "dtype": "f8"
           },
           "xaxis": "x",
           "y": [
            "Lithuania"
           ],
           "yaxis": "y"
          },
          {
           "hovertemplate": "Land=%{y}<br>year=2012<br>Produzierte Menge (nach Einheit)=%{x}<extra></extra>",
           "legendgroup": "Romania",
           "marker": {
            "color": "#19d3f3",
            "pattern": {
             "shape": ""
            }
           },
           "name": "Romania",
           "orientation": "h",
           "showlegend": true,
           "textposition": "auto",
           "type": "bar",
           "x": {
            "bdata": "AAAAAACIlEA=",
            "dtype": "f8"
           },
           "xaxis": "x",
           "y": [
            "Romania"
           ],
           "yaxis": "y"
          },
          {
           "hovertemplate": "Land=%{y}<br>year=2012<br>Produzierte Menge (nach Einheit)=%{x}<extra></extra>",
           "legendgroup": "Iceland",
           "marker": {
            "color": "#FF6692",
            "pattern": {
             "shape": ""
            }
           },
           "name": "Iceland",
           "orientation": "h",
           "showlegend": true,
           "textposition": "auto",
           "type": "bar",
           "x": {
            "bdata": "AAAAAABAUkA=",
            "dtype": "f8"
           },
           "xaxis": "x",
           "y": [
            "Iceland"
           ],
           "yaxis": "y"
          },
          {
           "hovertemplate": "Land=%{y}<br>year=2012<br>Produzierte Menge (nach Einheit)=%{x}<extra></extra>",
           "legendgroup": "Slovenia",
           "marker": {
            "color": "#B6E880",
            "pattern": {
             "shape": ""
            }
           },
           "name": "Slovenia",
           "orientation": "h",
           "showlegend": true,
           "textposition": "auto",
           "type": "bar",
           "x": {
            "bdata": "AAAAAACAnUA=",
            "dtype": "f8"
           },
           "xaxis": "x",
           "y": [
            "Slovenia"
           ],
           "yaxis": "y"
          },
          {
           "hovertemplate": "Land=%{y}<br>year=2012<br>Produzierte Menge (nach Einheit)=%{x}<extra></extra>",
           "legendgroup": "Cyprus",
           "marker": {
            "color": "#FF97FF",
            "pattern": {
             "shape": ""
            }
           },
           "name": "Cyprus",
           "orientation": "h",
           "showlegend": true,
           "textposition": "auto",
           "type": "bar",
           "x": {
            "bdata": "AAAAAADwf0A=",
            "dtype": "f8"
           },
           "xaxis": "x",
           "y": [
            "Cyprus"
           ],
           "yaxis": "y"
          },
          {
           "hovertemplate": "Land=%{y}<br>year=2012<br>Produzierte Menge (nach Einheit)=%{x}<extra></extra>",
           "legendgroup": "Slovakia",
           "marker": {
            "color": "#FECB52",
            "pattern": {
             "shape": ""
            }
           },
           "name": "Slovakia",
           "orientation": "h",
           "showlegend": true,
           "textposition": "auto",
           "type": "bar",
           "x": {
            "bdata": "AAAAAADSs0A=",
            "dtype": "f8"
           },
           "xaxis": "x",
           "y": [
            "Slovakia"
           ],
           "yaxis": "y"
          },
          {
           "hovertemplate": "Land=%{y}<br>year=2012<br>Produzierte Menge (nach Einheit)=%{x}<extra></extra>",
           "legendgroup": "Andorra",
           "marker": {
            "color": "#636efa",
            "pattern": {
             "shape": ""
            }
           },
           "name": "Andorra",
           "orientation": "h",
           "showlegend": true,
           "textposition": "auto",
           "type": "bar",
           "x": {
            "bdata": "MzMzMzNTakA=",
            "dtype": "f8"
           },
           "xaxis": "x",
           "y": [
            "Andorra"
           ],
           "yaxis": "y"
          },
          {
           "hovertemplate": "Land=%{y}<br>year=2012<br>Produzierte Menge (nach Einheit)=%{x}<extra></extra>",
           "legendgroup": "Moldova",
           "marker": {
            "color": "#EF553B",
            "pattern": {
             "shape": ""
            }
           },
           "name": "Moldova",
           "orientation": "h",
           "showlegend": true,
           "textposition": "auto",
           "type": "bar",
           "x": {
            "bdata": "AAAAAABwfEA=",
            "dtype": "f8"
           },
           "xaxis": "x",
           "y": [
            "Moldova"
           ],
           "yaxis": "y"
          },
          {
           "hovertemplate": "Land=%{y}<br>year=2012<br>Produzierte Menge (nach Einheit)=%{x}<extra></extra>",
           "legendgroup": "Bulgaria",
           "marker": {
            "color": "#00cc96",
            "pattern": {
             "shape": ""
            }
           },
           "name": "Bulgaria",
           "orientation": "h",
           "showlegend": true,
           "textposition": "auto",
           "type": "bar",
           "x": {
            "bdata": "AAAAAADgmUA=",
            "dtype": "f8"
           },
           "xaxis": "x",
           "y": [
            "Bulgaria"
           ],
           "yaxis": "y"
          },
          {
           "hovertemplate": "Land=%{y}<br>year=2012<br>Produzierte Menge (nach Einheit)=%{x}<extra></extra>",
           "legendgroup": "Liechtenstein",
           "marker": {
            "color": "#ab63fa",
            "pattern": {
             "shape": ""
            }
           },
           "name": "Liechtenstein",
           "orientation": "h",
           "showlegend": true,
           "textposition": "auto",
           "type": "bar",
           "x": {
            "bdata": "AAAAAACAdEA=",
            "dtype": "f8"
           },
           "xaxis": "x",
           "y": [
            "Liechtenstein"
           ],
           "yaxis": "y"
          },
          {
           "hovertemplate": "Land=%{y}<br>year=2012<br>Produzierte Menge (nach Einheit)=%{x}<extra></extra>",
           "legendgroup": "Malta",
           "marker": {
            "color": "#FFA15A",
            "pattern": {
             "shape": ""
            }
           },
           "name": "Malta",
           "orientation": "h",
           "showlegend": true,
           "textposition": "auto",
           "type": "bar",
           "x": {
            "bdata": "AAAAAACAV0A=",
            "dtype": "f8"
           },
           "xaxis": "x",
           "y": [
            "Malta"
           ],
           "yaxis": "y"
          },
          {
           "hovertemplate": "Land=%{y}<br>year=2012<br>Produzierte Menge (nach Einheit)=%{x}<extra></extra>",
           "legendgroup": "North Macedonia",
           "marker": {
            "color": "#19d3f3",
            "pattern": {
             "shape": ""
            }
           },
           "name": "North Macedonia",
           "orientation": "h",
           "showlegend": true,
           "textposition": "auto",
           "type": "bar",
           "x": {
            "bdata": "fT81XrpJ7D8=",
            "dtype": "f8"
           },
           "xaxis": "x",
           "y": [
            "North Macedonia"
           ],
           "yaxis": "y"
          },
          {
           "hovertemplate": "Land=%{y}<br>year=2012<br>Produzierte Menge (nach Einheit)=%{x}<extra></extra>",
           "legendgroup": "Serbia",
           "marker": {
            "color": "#FF6692",
            "pattern": {
             "shape": ""
            }
           },
           "name": "Serbia",
           "orientation": "h",
           "showlegend": true,
           "textposition": "auto",
           "type": "bar",
           "x": {
            "bdata": "AAAAAACAQ0A=",
            "dtype": "f8"
           },
           "xaxis": "x",
           "y": [
            "Serbia"
           ],
           "yaxis": "y"
          }
         ],
         "name": "2012"
        },
        {
         "data": [
          {
           "hovertemplate": "Land=%{y}<br>year=2013<br>Produzierte Menge (nach Einheit)=%{x}<extra></extra>",
           "legendgroup": "Austria",
           "marker": {
            "color": "#636efa",
            "pattern": {
             "shape": ""
            }
           },
           "name": "Austria",
           "orientation": "h",
           "showlegend": true,
           "textposition": "auto",
           "type": "bar",
           "x": {
            "bdata": "AAAAAIDL30A=",
            "dtype": "f8"
           },
           "xaxis": "x",
           "y": [
            "Austria"
           ],
           "yaxis": "y"
          },
          {
           "hovertemplate": "Land=%{y}<br>year=2013<br>Produzierte Menge (nach Einheit)=%{x}<extra></extra>",
           "legendgroup": "Belgium",
           "marker": {
            "color": "#EF553B",
            "pattern": {
             "shape": ""
            }
           },
           "name": "Belgium",
           "orientation": "h",
           "showlegend": true,
           "textposition": "auto",
           "type": "bar",
           "x": {
            "bdata": "AAAAAMC940A=",
            "dtype": "f8"
           },
           "xaxis": "x",
           "y": [
            "Belgium"
           ],
           "yaxis": "y"
          },
          {
           "hovertemplate": "Land=%{y}<br>year=2013<br>Produzierte Menge (nach Einheit)=%{x}<extra></extra>",
           "legendgroup": "Denmark",
           "marker": {
            "color": "#00cc96",
            "pattern": {
             "shape": ""
            }
           },
           "name": "Denmark",
           "orientation": "h",
           "showlegend": true,
           "textposition": "auto",
           "type": "bar",
           "x": {
            "bdata": "AAAAAGDb7kA=",
            "dtype": "f8"
           },
           "xaxis": "x",
           "y": [
            "Denmark"
           ],
           "yaxis": "y"
          },
          {
           "hovertemplate": "Land=%{y}<br>year=2013<br>Produzierte Menge (nach Einheit)=%{x}<extra></extra>",
           "legendgroup": "Finland",
           "marker": {
            "color": "#ab63fa",
            "pattern": {
             "shape": ""
            }
           },
           "name": "Finland",
           "orientation": "h",
           "showlegend": true,
           "textposition": "auto",
           "type": "bar",
           "x": {
            "bdata": "AAAAAEBK1EA=",
            "dtype": "f8"
           },
           "xaxis": "x",
           "y": [
            "Finland"
           ],
           "yaxis": "y"
          },
          {
           "hovertemplate": "Land=%{y}<br>year=2013<br>Produzierte Menge (nach Einheit)=%{x}<extra></extra>",
           "legendgroup": "France",
           "marker": {
            "color": "#FFA15A",
            "pattern": {
             "shape": ""
            }
           },
           "name": "France",
           "orientation": "h",
           "showlegend": true,
           "textposition": "auto",
           "type": "bar",
           "x": {
            "bdata": "AAAAAFBNAEE=",
            "dtype": "f8"
           },
           "xaxis": "x",
           "y": [
            "France"
           ],
           "yaxis": "y"
          },
          {
           "hovertemplate": "Land=%{y}<br>year=2013<br>Produzierte Menge (nach Einheit)=%{x}<extra></extra>",
           "legendgroup": "Greece",
           "marker": {
            "color": "#19d3f3",
            "pattern": {
             "shape": ""
            }
           },
           "name": "Greece",
           "orientation": "h",
           "showlegend": true,
           "textposition": "auto",
           "type": "bar",
           "x": {
            "bdata": "AAAAAIA4w0A=",
            "dtype": "f8"
           },
           "xaxis": "x",
           "y": [
            "Greece"
           ],
           "yaxis": "y"
          },
          {
           "hovertemplate": "Land=%{y}<br>year=2013<br>Produzierte Menge (nach Einheit)=%{x}<extra></extra>",
           "legendgroup": "Hungary",
           "marker": {
            "color": "#FF6692",
            "pattern": {
             "shape": ""
            }
           },
           "name": "Hungary",
           "orientation": "h",
           "showlegend": true,
           "textposition": "auto",
           "type": "bar",
           "x": {
            "bdata": "AAAAAMCk1EA=",
            "dtype": "f8"
           },
           "xaxis": "x",
           "y": [
            "Hungary"
           ],
           "yaxis": "y"
          },
          {
           "hovertemplate": "Land=%{y}<br>year=2013<br>Produzierte Menge (nach Einheit)=%{x}<extra></extra>",
           "legendgroup": "Ireland",
           "marker": {
            "color": "#B6E880",
            "pattern": {
             "shape": ""
            }
           },
           "name": "Ireland",
           "orientation": "h",
           "showlegend": true,
           "textposition": "auto",
           "type": "bar",
           "x": {
            "bdata": "AAAAAADWu0A=",
            "dtype": "f8"
           },
           "xaxis": "x",
           "y": [
            "Ireland"
           ],
           "yaxis": "y"
          },
          {
           "hovertemplate": "Land=%{y}<br>year=2013<br>Produzierte Menge (nach Einheit)=%{x}<extra></extra>",
           "legendgroup": "Italy",
           "marker": {
            "color": "#FF97FF",
            "pattern": {
             "shape": ""
            }
           },
           "name": "Italy",
           "orientation": "h",
           "showlegend": true,
           "textposition": "auto",
           "type": "bar",
           "x": {
            "bdata": "AAAAAMDEAkE=",
            "dtype": "f8"
           },
           "xaxis": "x",
           "y": [
            "Italy"
           ],
           "yaxis": "y"
          },
          {
           "hovertemplate": "Land=%{y}<br>year=2013<br>Produzierte Menge (nach Einheit)=%{x}<extra></extra>",
           "legendgroup": "Luxembourg",
           "marker": {
            "color": "#FECB52",
            "pattern": {
             "shape": ""
            }
           },
           "name": "Luxembourg",
           "orientation": "h",
           "showlegend": true,
           "textposition": "auto",
           "type": "bar",
           "x": {
            "bdata": "AAAAAABuoEA=",
            "dtype": "f8"
           },
           "xaxis": "x",
           "y": [
            "Luxembourg"
           ],
           "yaxis": "y"
          },
          {
           "hovertemplate": "Land=%{y}<br>year=2013<br>Produzierte Menge (nach Einheit)=%{x}<extra></extra>",
           "legendgroup": "Netherlands",
           "marker": {
            "color": "#636efa",
            "pattern": {
             "shape": ""
            }
           },
           "name": "Netherlands",
           "orientation": "h",
           "showlegend": true,
           "textposition": "auto",
           "type": "bar",
           "x": {
            "bdata": "AAAAABBy9UA=",
            "dtype": "f8"
           },
           "xaxis": "x",
           "y": [
            "Netherlands"
           ],
           "yaxis": "y"
          },
          {
           "hovertemplate": "Land=%{y}<br>year=2013<br>Produzierte Menge (nach Einheit)=%{x}<extra></extra>",
           "legendgroup": "Norway",
           "marker": {
            "color": "#EF553B",
            "pattern": {
             "shape": ""
            }
           },
           "name": "Norway",
           "orientation": "h",
           "showlegend": true,
           "textposition": "auto",
           "type": "bar",
           "x": {
            "bdata": "AAAAAECf0UA=",
            "dtype": "f8"
           },
           "xaxis": "x",
           "y": [
            "Norway"
           ],
           "yaxis": "y"
          },
          {
           "hovertemplate": "Land=%{y}<br>year=2013<br>Produzierte Menge (nach Einheit)=%{x}<extra></extra>",
           "legendgroup": "Poland",
           "marker": {
            "color": "#00cc96",
            "pattern": {
             "shape": ""
            }
           },
           "name": "Poland",
           "orientation": "h",
           "showlegend": true,
           "textposition": "auto",
           "type": "bar",
           "x": {
            "bdata": "AAAAAFCV9UA=",
            "dtype": "f8"
           },
           "xaxis": "x",
           "y": [
            "Poland"
           ],
           "yaxis": "y"
          },
          {
           "hovertemplate": "Land=%{y}<br>year=2013<br>Produzierte Menge (nach Einheit)=%{x}<extra></extra>",
           "legendgroup": "Portugal",
           "marker": {
            "color": "#ab63fa",
            "pattern": {
             "shape": ""
            }
           },
           "name": "Portugal",
           "orientation": "h",
           "showlegend": true,
           "textposition": "auto",
           "type": "bar",
           "x": {
            "bdata": "AAAAAODW4kA=",
            "dtype": "f8"
           },
           "xaxis": "x",
           "y": [
            "Portugal"
           ],
           "yaxis": "y"
          },
          {
           "hovertemplate": "Land=%{y}<br>year=2013<br>Produzierte Menge (nach Einheit)=%{x}<extra></extra>",
           "legendgroup": "Spain",
           "marker": {
            "color": "#FFA15A",
            "pattern": {
             "shape": ""
            }
           },
           "name": "Spain",
           "orientation": "h",
           "showlegend": true,
           "textposition": "auto",
           "type": "bar",
           "x": {
            "bdata": "AAAAAKC78UA=",
            "dtype": "f8"
           },
           "xaxis": "x",
           "y": [
            "Spain"
           ],
           "yaxis": "y"
          },
          {
           "hovertemplate": "Land=%{y}<br>year=2013<br>Produzierte Menge (nach Einheit)=%{x}<extra></extra>",
           "legendgroup": "Sweden",
           "marker": {
            "color": "#19d3f3",
            "pattern": {
             "shape": ""
            }
           },
           "name": "Sweden",
           "orientation": "h",
           "showlegend": true,
           "textposition": "auto",
           "type": "bar",
           "x": {
            "bdata": "AAAAAAAv70A=",
            "dtype": "f8"
           },
           "xaxis": "x",
           "y": [
            "Sweden"
           ],
           "yaxis": "y"
          },
          {
           "hovertemplate": "Land=%{y}<br>year=2013<br>Produzierte Menge (nach Einheit)=%{x}<extra></extra>",
           "legendgroup": "Switzerland",
           "marker": {
            "color": "#FF6692",
            "pattern": {
             "shape": ""
            }
           },
           "name": "Switzerland",
           "orientation": "h",
           "showlegend": true,
           "textposition": "auto",
           "type": "bar",
           "x": {
            "bdata": "AAAAAACX50A=",
            "dtype": "f8"
           },
           "xaxis": "x",
           "y": [
            "Switzerland"
           ],
           "yaxis": "y"
          },
          {
           "hovertemplate": "Land=%{y}<br>year=2013<br>Produzierte Menge (nach Einheit)=%{x}<extra></extra>",
           "legendgroup": "United Kingdom",
           "marker": {
            "color": "#B6E880",
            "pattern": {
             "shape": ""
            }
           },
           "name": "United Kingdom",
           "orientation": "h",
           "showlegend": true,
           "textposition": "auto",
           "type": "bar",
           "x": {
            "bdata": "AAAAAPhABkE=",
            "dtype": "f8"
           },
           "xaxis": "x",
           "y": [
            "United Kingdom"
           ],
           "yaxis": "y"
          },
          {
           "hovertemplate": "Land=%{y}<br>year=2013<br>Produzierte Menge (nach Einheit)=%{x}<extra></extra>",
           "legendgroup": "Germany",
           "marker": {
            "color": "#FF97FF",
            "pattern": {
             "shape": ""
            }
           },
           "name": "Germany",
           "orientation": "h",
           "showlegend": true,
           "textposition": "auto",
           "type": "bar",
           "x": {
            "bdata": "AAAAAOyKIEE=",
            "dtype": "f8"
           },
           "xaxis": "x",
           "y": [
            "Germany"
           ],
           "yaxis": "y"
          },
          {
           "hovertemplate": "Land=%{y}<br>year=2013<br>Produzierte Menge (nach Einheit)=%{x}<extra></extra>",
           "legendgroup": "Belarus",
           "marker": {
            "color": "#FECB52",
            "pattern": {
             "shape": ""
            }
           },
           "name": "Belarus",
           "orientation": "h",
           "showlegend": true,
           "textposition": "auto",
           "type": "bar",
           "x": {
            "bdata": "AAAAAAAsq0A=",
            "dtype": "f8"
           },
           "xaxis": "x",
           "y": [
            "Belarus"
           ],
           "yaxis": "y"
          },
          {
           "hovertemplate": "Land=%{y}<br>year=2013<br>Produzierte Menge (nach Einheit)=%{x}<extra></extra>",
           "legendgroup": "Croatia",
           "marker": {
            "color": "#636efa",
            "pattern": {
             "shape": ""
            }
           },
           "name": "Croatia",
           "orientation": "h",
           "showlegend": true,
           "textposition": "auto",
           "type": "bar",
           "x": {
            "bdata": "AAAAAAAQh0A=",
            "dtype": "f8"
           },
           "xaxis": "x",
           "y": [
            "Croatia"
           ],
           "yaxis": "y"
          },
          {
           "hovertemplate": "Land=%{y}<br>year=2013<br>Produzierte Menge (nach Einheit)=%{x}<extra></extra>",
           "legendgroup": "Czech Republic",
           "marker": {
            "color": "#EF553B",
            "pattern": {
             "shape": ""
            }
           },
           "name": "Czech Republic",
           "orientation": "h",
           "showlegend": true,
           "textposition": "auto",
           "type": "bar",
           "x": {
            "bdata": "AAAAAKAQ4kA=",
            "dtype": "f8"
           },
           "xaxis": "x",
           "y": [
            "Czech Republic"
           ],
           "yaxis": "y"
          },
          {
           "hovertemplate": "Land=%{y}<br>year=2013<br>Produzierte Menge (nach Einheit)=%{x}<extra></extra>",
           "legendgroup": "Estonia",
           "marker": {
            "color": "#00cc96",
            "pattern": {
             "shape": ""
            }
           },
           "name": "Estonia",
           "orientation": "h",
           "showlegend": true,
           "textposition": "auto",
           "type": "bar",
           "x": {
            "bdata": "AAAAAADMx0A=",
            "dtype": "f8"
           },
           "xaxis": "x",
           "y": [
            "Estonia"
           ],
           "yaxis": "y"
          },
          {
           "hovertemplate": "Land=%{y}<br>year=2013<br>Produzierte Menge (nach Einheit)=%{x}<extra></extra>",
           "legendgroup": "Latvia",
           "marker": {
            "color": "#ab63fa",
            "pattern": {
             "shape": ""
            }
           },
           "name": "Latvia",
           "orientation": "h",
           "showlegend": true,
           "textposition": "auto",
           "type": "bar",
           "x": {
            "bdata": "AAAAAAC2pkA=",
            "dtype": "f8"
           },
           "xaxis": "x",
           "y": [
            "Latvia"
           ],
           "yaxis": "y"
          },
          {
           "hovertemplate": "Land=%{y}<br>year=2013<br>Produzierte Menge (nach Einheit)=%{x}<extra></extra>",
           "legendgroup": "Lithuania",
           "marker": {
            "color": "#FFA15A",
            "pattern": {
             "shape": ""
            }
           },
           "name": "Lithuania",
           "orientation": "h",
           "showlegend": true,
           "textposition": "auto",
           "type": "bar",
           "x": {
            "bdata": "AAAAAADInkA=",
            "dtype": "f8"
           },
           "xaxis": "x",
           "y": [
            "Lithuania"
           ],
           "yaxis": "y"
          },
          {
           "hovertemplate": "Land=%{y}<br>year=2013<br>Produzierte Menge (nach Einheit)=%{x}<extra></extra>",
           "legendgroup": "Romania",
           "marker": {
            "color": "#19d3f3",
            "pattern": {
             "shape": ""
            }
           },
           "name": "Romania",
           "orientation": "h",
           "showlegend": true,
           "textposition": "auto",
           "type": "bar",
           "x": {
            "bdata": "AAAAAACwj0A=",
            "dtype": "f8"
           },
           "xaxis": "x",
           "y": [
            "Romania"
           ],
           "yaxis": "y"
          },
          {
           "hovertemplate": "Land=%{y}<br>year=2013<br>Produzierte Menge (nach Einheit)=%{x}<extra></extra>",
           "legendgroup": "Iceland",
           "marker": {
            "color": "#FF6692",
            "pattern": {
             "shape": ""
            }
           },
           "name": "Iceland",
           "orientation": "h",
           "showlegend": true,
           "textposition": "auto",
           "type": "bar",
           "x": {
            "bdata": "AAAAAADAUUA=",
            "dtype": "f8"
           },
           "xaxis": "x",
           "y": [
            "Iceland"
           ],
           "yaxis": "y"
          },
          {
           "hovertemplate": "Land=%{y}<br>year=2013<br>Produzierte Menge (nach Einheit)=%{x}<extra></extra>",
           "legendgroup": "Slovenia",
           "marker": {
            "color": "#B6E880",
            "pattern": {
             "shape": ""
            }
           },
           "name": "Slovenia",
           "orientation": "h",
           "showlegend": true,
           "textposition": "auto",
           "type": "bar",
           "x": {
            "bdata": "AAAAAAD0mkA=",
            "dtype": "f8"
           },
           "xaxis": "x",
           "y": [
            "Slovenia"
           ],
           "yaxis": "y"
          },
          {
           "hovertemplate": "Land=%{y}<br>year=2013<br>Produzierte Menge (nach Einheit)=%{x}<extra></extra>",
           "legendgroup": "Cyprus",
           "marker": {
            "color": "#FF97FF",
            "pattern": {
             "shape": ""
            }
           },
           "name": "Cyprus",
           "orientation": "h",
           "showlegend": true,
           "textposition": "auto",
           "type": "bar",
           "x": {
            "bdata": "AAAAAAAAf0A=",
            "dtype": "f8"
           },
           "xaxis": "x",
           "y": [
            "Cyprus"
           ],
           "yaxis": "y"
          },
          {
           "hovertemplate": "Land=%{y}<br>year=2013<br>Produzierte Menge (nach Einheit)=%{x}<extra></extra>",
           "legendgroup": "Slovakia",
           "marker": {
            "color": "#FECB52",
            "pattern": {
             "shape": ""
            }
           },
           "name": "Slovakia",
           "orientation": "h",
           "showlegend": true,
           "textposition": "auto",
           "type": "bar",
           "x": {
            "bdata": "AAAAAACps0A=",
            "dtype": "f8"
           },
           "xaxis": "x",
           "y": [
            "Slovakia"
           ],
           "yaxis": "y"
          },
          {
           "hovertemplate": "Land=%{y}<br>year=2013<br>Produzierte Menge (nach Einheit)=%{x}<extra></extra>",
           "legendgroup": "Andorra",
           "marker": {
            "color": "#636efa",
            "pattern": {
             "shape": ""
            }
           },
           "name": "Andorra",
           "orientation": "h",
           "showlegend": true,
           "textposition": "auto",
           "type": "bar",
           "x": {
            "bdata": "ZmZmZmYGbUA=",
            "dtype": "f8"
           },
           "xaxis": "x",
           "y": [
            "Andorra"
           ],
           "yaxis": "y"
          },
          {
           "hovertemplate": "Land=%{y}<br>year=2013<br>Produzierte Menge (nach Einheit)=%{x}<extra></extra>",
           "legendgroup": "Moldova",
           "marker": {
            "color": "#EF553B",
            "pattern": {
             "shape": ""
            }
           },
           "name": "Moldova",
           "orientation": "h",
           "showlegend": true,
           "textposition": "auto",
           "type": "bar",
           "x": {
            "bdata": "AAAAAABwgEA=",
            "dtype": "f8"
           },
           "xaxis": "x",
           "y": [
            "Moldova"
           ],
           "yaxis": "y"
          },
          {
           "hovertemplate": "Land=%{y}<br>year=2013<br>Produzierte Menge (nach Einheit)=%{x}<extra></extra>",
           "legendgroup": "Bulgaria",
           "marker": {
            "color": "#00cc96",
            "pattern": {
             "shape": ""
            }
           },
           "name": "Bulgaria",
           "orientation": "h",
           "showlegend": true,
           "textposition": "auto",
           "type": "bar",
           "x": {
            "bdata": "AAAAAAComUA=",
            "dtype": "f8"
           },
           "xaxis": "x",
           "y": [
            "Bulgaria"
           ],
           "yaxis": "y"
          },
          {
           "hovertemplate": "Land=%{y}<br>year=2013<br>Produzierte Menge (nach Einheit)=%{x}<extra></extra>",
           "legendgroup": "Liechtenstein",
           "marker": {
            "color": "#ab63fa",
            "pattern": {
             "shape": ""
            }
           },
           "name": "Liechtenstein",
           "orientation": "h",
           "showlegend": true,
           "textposition": "auto",
           "type": "bar",
           "x": {
            "bdata": "MzMzMzNDdkA=",
            "dtype": "f8"
           },
           "xaxis": "x",
           "y": [
            "Liechtenstein"
           ],
           "yaxis": "y"
          },
          {
           "hovertemplate": "Land=%{y}<br>year=2013<br>Produzierte Menge (nach Einheit)=%{x}<extra></extra>",
           "legendgroup": "Malta",
           "marker": {
            "color": "#FFA15A",
            "pattern": {
             "shape": ""
            }
           },
           "name": "Malta",
           "orientation": "h",
           "showlegend": true,
           "textposition": "auto",
           "type": "bar",
           "x": {
            "bdata": "AAAAAAAATkA=",
            "dtype": "f8"
           },
           "xaxis": "x",
           "y": [
            "Malta"
           ],
           "yaxis": "y"
          },
          {
           "hovertemplate": "Land=%{y}<br>year=2013<br>Produzierte Menge (nach Einheit)=%{x}<extra></extra>",
           "legendgroup": "North Macedonia",
           "marker": {
            "color": "#19d3f3",
            "pattern": {
             "shape": ""
            }
           },
           "name": "North Macedonia",
           "orientation": "h",
           "showlegend": true,
           "textposition": "auto",
           "type": "bar",
           "x": {
            "bdata": "2c73U+M1V0A=",
            "dtype": "f8"
           },
           "xaxis": "x",
           "y": [
            "North Macedonia"
           ],
           "yaxis": "y"
          },
          {
           "hovertemplate": "Land=%{y}<br>year=2013<br>Produzierte Menge (nach Einheit)=%{x}<extra></extra>",
           "legendgroup": "Serbia",
           "marker": {
            "color": "#FF6692",
            "pattern": {
             "shape": ""
            }
           },
           "name": "Serbia",
           "orientation": "h",
           "showlegend": true,
           "textposition": "auto",
           "type": "bar",
           "x": {
            "bdata": "AAAAAAAAZ0A=",
            "dtype": "f8"
           },
           "xaxis": "x",
           "y": [
            "Serbia"
           ],
           "yaxis": "y"
          }
         ],
         "name": "2013"
        },
        {
         "data": [
          {
           "hovertemplate": "Land=%{y}<br>year=2014<br>Produzierte Menge (nach Einheit)=%{x}<extra></extra>",
           "legendgroup": "Austria",
           "marker": {
            "color": "#636efa",
            "pattern": {
             "shape": ""
            }
           },
           "name": "Austria",
           "orientation": "h",
           "showlegend": true,
           "textposition": "auto",
           "type": "bar",
           "x": {
            "bdata": "AAAAAABW40A=",
            "dtype": "f8"
           },
           "xaxis": "x",
           "y": [
            "Austria"
           ],
           "yaxis": "y"
          },
          {
           "hovertemplate": "Land=%{y}<br>year=2014<br>Produzierte Menge (nach Einheit)=%{x}<extra></extra>",
           "legendgroup": "Belgium",
           "marker": {
            "color": "#EF553B",
            "pattern": {
             "shape": ""
            }
           },
           "name": "Belgium",
           "orientation": "h",
           "showlegend": true,
           "textposition": "auto",
           "type": "bar",
           "x": {
            "bdata": "AAAAAKCC5UA=",
            "dtype": "f8"
           },
           "xaxis": "x",
           "y": [
            "Belgium"
           ],
           "yaxis": "y"
          },
          {
           "hovertemplate": "Land=%{y}<br>year=2014<br>Produzierte Menge (nach Einheit)=%{x}<extra></extra>",
           "legendgroup": "Denmark",
           "marker": {
            "color": "#00cc96",
            "pattern": {
             "shape": ""
            }
           },
           "name": "Denmark",
           "orientation": "h",
           "showlegend": true,
           "textposition": "auto",
           "type": "bar",
           "x": {
            "bdata": "AAAAAOBb7kA=",
            "dtype": "f8"
           },
           "xaxis": "x",
           "y": [
            "Denmark"
           ],
           "yaxis": "y"
          },
          {
           "hovertemplate": "Land=%{y}<br>year=2014<br>Produzierte Menge (nach Einheit)=%{x}<extra></extra>",
           "legendgroup": "Finland",
           "marker": {
            "color": "#ab63fa",
            "pattern": {
             "shape": ""
            }
           },
           "name": "Finland",
           "orientation": "h",
           "showlegend": true,
           "textposition": "auto",
           "type": "bar",
           "x": {
            "bdata": "AAAAAADQ1kA=",
            "dtype": "f8"
           },
           "xaxis": "x",
           "y": [
            "Finland"
           ],
           "yaxis": "y"
          },
          {
           "hovertemplate": "Land=%{y}<br>year=2014<br>Produzierte Menge (nach Einheit)=%{x}<extra></extra>",
           "legendgroup": "France",
           "marker": {
            "color": "#FFA15A",
            "pattern": {
             "shape": ""
            }
           },
           "name": "France",
           "orientation": "h",
           "showlegend": true,
           "textposition": "auto",
           "type": "bar",
           "x": {
            "bdata": "AAAAABC1/0A=",
            "dtype": "f8"
           },
           "xaxis": "x",
           "y": [
            "France"
           ],
           "yaxis": "y"
          },
          {
           "hovertemplate": "Land=%{y}<br>year=2014<br>Produzierte Menge (nach Einheit)=%{x}<extra></extra>",
           "legendgroup": "Greece",
           "marker": {
            "color": "#19d3f3",
            "pattern": {
             "shape": ""
            }
           },
           "name": "Greece",
           "orientation": "h",
           "showlegend": true,
           "textposition": "auto",
           "type": "bar",
           "x": {
            "bdata": "AAAAAIBexEA=",
            "dtype": "f8"
           },
           "xaxis": "x",
           "y": [
            "Greece"
           ],
           "yaxis": "y"
          },
          {
           "hovertemplate": "Land=%{y}<br>year=2014<br>Produzierte Menge (nach Einheit)=%{x}<extra></extra>",
           "legendgroup": "Hungary",
           "marker": {
            "color": "#FF6692",
            "pattern": {
             "shape": ""
            }
           },
           "name": "Hungary",
           "orientation": "h",
           "showlegend": true,
           "textposition": "auto",
           "type": "bar",
           "x": {
            "bdata": "AAAAAMA900A=",
            "dtype": "f8"
           },
           "xaxis": "x",
           "y": [
            "Hungary"
           ],
           "yaxis": "y"
          },
          {
           "hovertemplate": "Land=%{y}<br>year=2014<br>Produzierte Menge (nach Einheit)=%{x}<extra></extra>",
           "legendgroup": "Ireland",
           "marker": {
            "color": "#B6E880",
            "pattern": {
             "shape": ""
            }
           },
           "name": "Ireland",
           "orientation": "h",
           "showlegend": true,
           "textposition": "auto",
           "type": "bar",
           "x": {
            "bdata": "AAAAAAB6wEA=",
            "dtype": "f8"
           },
           "xaxis": "x",
           "y": [
            "Ireland"
           ],
           "yaxis": "y"
          },
          {
           "hovertemplate": "Land=%{y}<br>year=2014<br>Produzierte Menge (nach Einheit)=%{x}<extra></extra>",
           "legendgroup": "Italy",
           "marker": {
            "color": "#FF97FF",
            "pattern": {
             "shape": ""
            }
           },
           "name": "Italy",
           "orientation": "h",
           "showlegend": true,
           "textposition": "auto",
           "type": "bar",
           "x": {
            "bdata": "AAAAAAj1A0E=",
            "dtype": "f8"
           },
           "xaxis": "x",
           "y": [
            "Italy"
           ],
           "yaxis": "y"
          },
          {
           "hovertemplate": "Land=%{y}<br>year=2014<br>Produzierte Menge (nach Einheit)=%{x}<extra></extra>",
           "legendgroup": "Luxembourg",
           "marker": {
            "color": "#FECB52",
            "pattern": {
             "shape": ""
            }
           },
           "name": "Luxembourg",
           "orientation": "h",
           "showlegend": true,
           "textposition": "auto",
           "type": "bar",
           "x": {
            "bdata": "AAAAAABUoEA=",
            "dtype": "f8"
           },
           "xaxis": "x",
           "y": [
            "Luxembourg"
           ],
           "yaxis": "y"
          },
          {
           "hovertemplate": "Land=%{y}<br>year=2014<br>Produzierte Menge (nach Einheit)=%{x}<extra></extra>",
           "legendgroup": "Netherlands",
           "marker": {
            "color": "#636efa",
            "pattern": {
             "shape": ""
            }
           },
           "name": "Netherlands",
           "orientation": "h",
           "showlegend": true,
           "textposition": "auto",
           "type": "bar",
           "x": {
            "bdata": "AAAAAJDb9UA=",
            "dtype": "f8"
           },
           "xaxis": "x",
           "y": [
            "Netherlands"
           ],
           "yaxis": "y"
          },
          {
           "hovertemplate": "Land=%{y}<br>year=2014<br>Produzierte Menge (nach Einheit)=%{x}<extra></extra>",
           "legendgroup": "Norway",
           "marker": {
            "color": "#EF553B",
            "pattern": {
             "shape": ""
            }
           },
           "name": "Norway",
           "orientation": "h",
           "showlegend": true,
           "textposition": "auto",
           "type": "bar",
           "x": {
            "bdata": "AAAAAMAY00A=",
            "dtype": "f8"
           },
           "xaxis": "x",
           "y": [
            "Norway"
           ],
           "yaxis": "y"
          },
          {
           "hovertemplate": "Land=%{y}<br>year=2014<br>Produzierte Menge (nach Einheit)=%{x}<extra></extra>",
           "legendgroup": "Poland",
           "marker": {
            "color": "#00cc96",
            "pattern": {
             "shape": ""
            }
           },
           "name": "Poland",
           "orientation": "h",
           "showlegend": true,
           "textposition": "auto",
           "type": "bar",
           "x": {
            "bdata": "AAAAAODS8UA=",
            "dtype": "f8"
           },
           "xaxis": "x",
           "y": [
            "Poland"
           ],
           "yaxis": "y"
          },
          {
           "hovertemplate": "Land=%{y}<br>year=2014<br>Produzierte Menge (nach Einheit)=%{x}<extra></extra>",
           "legendgroup": "Portugal",
           "marker": {
            "color": "#ab63fa",
            "pattern": {
             "shape": ""
            }
           },
           "name": "Portugal",
           "orientation": "h",
           "showlegend": true,
           "textposition": "auto",
           "type": "bar",
           "x": {
            "bdata": "AAAAAIBA4kA=",
            "dtype": "f8"
           },
           "xaxis": "x",
           "y": [
            "Portugal"
           ],
           "yaxis": "y"
          },
          {
           "hovertemplate": "Land=%{y}<br>year=2014<br>Produzierte Menge (nach Einheit)=%{x}<extra></extra>",
           "legendgroup": "Spain",
           "marker": {
            "color": "#FFA15A",
            "pattern": {
             "shape": ""
            }
           },
           "name": "Spain",
           "orientation": "h",
           "showlegend": true,
           "textposition": "auto",
           "type": "bar",
           "x": {
            "bdata": "AAAAAOBu7UA=",
            "dtype": "f8"
           },
           "xaxis": "x",
           "y": [
            "Spain"
           ],
           "yaxis": "y"
          },
          {
           "hovertemplate": "Land=%{y}<br>year=2014<br>Produzierte Menge (nach Einheit)=%{x}<extra></extra>",
           "legendgroup": "Sweden",
           "marker": {
            "color": "#19d3f3",
            "pattern": {
             "shape": ""
            }
           },
           "name": "Sweden",
           "orientation": "h",
           "showlegend": true,
           "textposition": "auto",
           "type": "bar",
           "x": {
            "bdata": "AAAAACBF8EA=",
            "dtype": "f8"
           },
           "xaxis": "x",
           "y": [
            "Sweden"
           ],
           "yaxis": "y"
          },
          {
           "hovertemplate": "Land=%{y}<br>year=2014<br>Produzierte Menge (nach Einheit)=%{x}<extra></extra>",
           "legendgroup": "Switzerland",
           "marker": {
            "color": "#FF6692",
            "pattern": {
             "shape": ""
            }
           },
           "name": "Switzerland",
           "orientation": "h",
           "showlegend": true,
           "textposition": "auto",
           "type": "bar",
           "x": {
            "bdata": "AAAAACAg6EA=",
            "dtype": "f8"
           },
           "xaxis": "x",
           "y": [
            "Switzerland"
           ],
           "yaxis": "y"
          },
          {
           "hovertemplate": "Land=%{y}<br>year=2014<br>Produzierte Menge (nach Einheit)=%{x}<extra></extra>",
           "legendgroup": "United Kingdom",
           "marker": {
            "color": "#B6E880",
            "pattern": {
             "shape": ""
            }
           },
           "name": "United Kingdom",
           "orientation": "h",
           "showlegend": true,
           "textposition": "auto",
           "type": "bar",
           "x": {
            "bdata": "AAAAAMCpCEE=",
            "dtype": "f8"
           },
           "xaxis": "x",
           "y": [
            "United Kingdom"
           ],
           "yaxis": "y"
          },
          {
           "hovertemplate": "Land=%{y}<br>year=2014<br>Produzierte Menge (nach Einheit)=%{x}<extra></extra>",
           "legendgroup": "Germany",
           "marker": {
            "color": "#FF97FF",
            "pattern": {
             "shape": ""
            }
           },
           "name": "Germany",
           "orientation": "h",
           "showlegend": true,
           "textposition": "auto",
           "type": "bar",
           "x": {
            "bdata": "AAAAAF6QIUE=",
            "dtype": "f8"
           },
           "xaxis": "x",
           "y": [
            "Germany"
           ],
           "yaxis": "y"
          },
          {
           "hovertemplate": "Land=%{y}<br>year=2014<br>Produzierte Menge (nach Einheit)=%{x}<extra></extra>",
           "legendgroup": "Belarus",
           "marker": {
            "color": "#FECB52",
            "pattern": {
             "shape": ""
            }
           },
           "name": "Belarus",
           "orientation": "h",
           "showlegend": true,
           "textposition": "auto",
           "type": "bar",
           "x": {
            "bdata": "AAAAAABfsEA=",
            "dtype": "f8"
           },
           "xaxis": "x",
           "y": [
            "Belarus"
           ],
           "yaxis": "y"
          },
          {
           "hovertemplate": "Land=%{y}<br>year=2014<br>Produzierte Menge (nach Einheit)=%{x}<extra></extra>",
           "legendgroup": "Croatia",
           "marker": {
            "color": "#636efa",
            "pattern": {
             "shape": ""
            }
           },
           "name": "Croatia",
           "orientation": "h",
           "showlegend": true,
           "textposition": "auto",
           "type": "bar",
           "x": {
            "bdata": "AAAAAADckUA=",
            "dtype": "f8"
           },
           "xaxis": "x",
           "y": [
            "Croatia"
           ],
           "yaxis": "y"
          },
          {
           "hovertemplate": "Land=%{y}<br>year=2014<br>Produzierte Menge (nach Einheit)=%{x}<extra></extra>",
           "legendgroup": "Czech Republic",
           "marker": {
            "color": "#EF553B",
            "pattern": {
             "shape": ""
            }
           },
           "name": "Czech Republic",
           "orientation": "h",
           "showlegend": true,
           "textposition": "auto",
           "type": "bar",
           "x": {
            "bdata": "AAAAAICt4kA=",
            "dtype": "f8"
           },
           "xaxis": "x",
           "y": [
            "Czech Republic"
           ],
           "yaxis": "y"
          },
          {
           "hovertemplate": "Land=%{y}<br>year=2014<br>Produzierte Menge (nach Einheit)=%{x}<extra></extra>",
           "legendgroup": "Estonia",
           "marker": {
            "color": "#00cc96",
            "pattern": {
             "shape": ""
            }
           },
           "name": "Estonia",
           "orientation": "h",
           "showlegend": true,
           "textposition": "auto",
           "type": "bar",
           "x": {
            "bdata": "AAAAAADOxEA=",
            "dtype": "f8"
           },
           "xaxis": "x",
           "y": [
            "Estonia"
           ],
           "yaxis": "y"
          },
          {
           "hovertemplate": "Land=%{y}<br>year=2014<br>Produzierte Menge (nach Einheit)=%{x}<extra></extra>",
           "legendgroup": "Latvia",
           "marker": {
            "color": "#ab63fa",
            "pattern": {
             "shape": ""
            }
           },
           "name": "Latvia",
           "orientation": "h",
           "showlegend": true,
           "textposition": "auto",
           "type": "bar",
           "x": {
            "bdata": "AAAAAAAyq0A=",
            "dtype": "f8"
           },
           "xaxis": "x",
           "y": [
            "Latvia"
           ],
           "yaxis": "y"
          },
          {
           "hovertemplate": "Land=%{y}<br>year=2014<br>Produzierte Menge (nach Einheit)=%{x}<extra></extra>",
           "legendgroup": "Lithuania",
           "marker": {
            "color": "#FFA15A",
            "pattern": {
             "shape": ""
            }
           },
           "name": "Lithuania",
           "orientation": "h",
           "showlegend": true,
           "textposition": "auto",
           "type": "bar",
           "x": {
            "bdata": "AAAAAAACo0A=",
            "dtype": "f8"
           },
           "xaxis": "x",
           "y": [
            "Lithuania"
           ],
           "yaxis": "y"
          },
          {
           "hovertemplate": "Land=%{y}<br>year=2014<br>Produzierte Menge (nach Einheit)=%{x}<extra></extra>",
           "legendgroup": "Romania",
           "marker": {
            "color": "#19d3f3",
            "pattern": {
             "shape": ""
            }
           },
           "name": "Romania",
           "orientation": "h",
           "showlegend": true,
           "textposition": "auto",
           "type": "bar",
           "x": {
            "bdata": "AAAAAACEkUA=",
            "dtype": "f8"
           },
           "xaxis": "x",
           "y": [
            "Romania"
           ],
           "yaxis": "y"
          },
          {
           "hovertemplate": "Land=%{y}<br>year=2014<br>Produzierte Menge (nach Einheit)=%{x}<extra></extra>",
           "legendgroup": "Iceland",
           "marker": {
            "color": "#FF6692",
            "pattern": {
             "shape": ""
            }
           },
           "name": "Iceland",
           "orientation": "h",
           "showlegend": true,
           "textposition": "auto",
           "type": "bar",
           "x": {
            "bdata": "AAAAAABAWUA=",
            "dtype": "f8"
           },
           "xaxis": "x",
           "y": [
            "Iceland"
           ],
           "yaxis": "y"
          },
          {
           "hovertemplate": "Land=%{y}<br>year=2014<br>Produzierte Menge (nach Einheit)=%{x}<extra></extra>",
           "legendgroup": "Slovenia",
           "marker": {
            "color": "#B6E880",
            "pattern": {
             "shape": ""
            }
           },
           "name": "Slovenia",
           "orientation": "h",
           "showlegend": true,
           "textposition": "auto",
           "type": "bar",
           "x": {
            "bdata": "AAAAAABEmEA=",
            "dtype": "f8"
           },
           "xaxis": "x",
           "y": [
            "Slovenia"
           ],
           "yaxis": "y"
          },
          {
           "hovertemplate": "Land=%{y}<br>year=2014<br>Produzierte Menge (nach Einheit)=%{x}<extra></extra>",
           "legendgroup": "Cyprus",
           "marker": {
            "color": "#FF97FF",
            "pattern": {
             "shape": ""
            }
           },
           "name": "Cyprus",
           "orientation": "h",
           "showlegend": true,
           "textposition": "auto",
           "type": "bar",
           "x": {
            "bdata": "AAAAAAAQh0A=",
            "dtype": "f8"
           },
           "xaxis": "x",
           "y": [
            "Cyprus"
           ],
           "yaxis": "y"
          },
          {
           "hovertemplate": "Land=%{y}<br>year=2014<br>Produzierte Menge (nach Einheit)=%{x}<extra></extra>",
           "legendgroup": "Slovakia",
           "marker": {
            "color": "#FECB52",
            "pattern": {
             "shape": ""
            }
           },
           "name": "Slovakia",
           "orientation": "h",
           "showlegend": true,
           "textposition": "auto",
           "type": "bar",
           "x": {
            "bdata": "AAAAAAAJvkA=",
            "dtype": "f8"
           },
           "xaxis": "x",
           "y": [
            "Slovakia"
           ],
           "yaxis": "y"
          },
          {
           "hovertemplate": "Land=%{y}<br>year=2014<br>Produzierte Menge (nach Einheit)=%{x}<extra></extra>",
           "legendgroup": "Andorra",
           "marker": {
            "color": "#636efa",
            "pattern": {
             "shape": ""
            }
           },
           "name": "Andorra",
           "orientation": "h",
           "showlegend": true,
           "textposition": "auto",
           "type": "bar",
           "x": {
            "bdata": "exSuR+EabkA=",
            "dtype": "f8"
           },
           "xaxis": "x",
           "y": [
            "Andorra"
           ],
           "yaxis": "y"
          },
          {
           "hovertemplate": "Land=%{y}<br>year=2014<br>Produzierte Menge (nach Einheit)=%{x}<extra></extra>",
           "legendgroup": "Moldova",
           "marker": {
            "color": "#EF553B",
            "pattern": {
             "shape": ""
            }
           },
           "name": "Moldova",
           "orientation": "h",
           "showlegend": true,
           "textposition": "auto",
           "type": "bar",
           "x": {
            "bdata": "AAAAAACokEA=",
            "dtype": "f8"
           },
           "xaxis": "x",
           "y": [
            "Moldova"
           ],
           "yaxis": "y"
          },
          {
           "hovertemplate": "Land=%{y}<br>year=2014<br>Produzierte Menge (nach Einheit)=%{x}<extra></extra>",
           "legendgroup": "Bulgaria",
           "marker": {
            "color": "#00cc96",
            "pattern": {
             "shape": ""
            }
           },
           "name": "Bulgaria",
           "orientation": "h",
           "showlegend": true,
           "textposition": "auto",
           "type": "bar",
           "x": {
            "bdata": "AAAAAACgiEA=",
            "dtype": "f8"
           },
           "xaxis": "x",
           "y": [
            "Bulgaria"
           ],
           "yaxis": "y"
          },
          {
           "hovertemplate": "Land=%{y}<br>year=2014<br>Produzierte Menge (nach Einheit)=%{x}<extra></extra>",
           "legendgroup": "Liechtenstein",
           "marker": {
            "color": "#ab63fa",
            "pattern": {
             "shape": ""
            }
           },
           "name": "Liechtenstein",
           "orientation": "h",
           "showlegend": true,
           "textposition": "auto",
           "type": "bar",
           "x": {
            "bdata": "ZmZmZmamd0A=",
            "dtype": "f8"
           },
           "xaxis": "x",
           "y": [
            "Liechtenstein"
           ],
           "yaxis": "y"
          },
          {
           "hovertemplate": "Land=%{y}<br>year=2014<br>Produzierte Menge (nach Einheit)=%{x}<extra></extra>",
           "legendgroup": "Malta",
           "marker": {
            "color": "#FFA15A",
            "pattern": {
             "shape": ""
            }
           },
           "name": "Malta",
           "orientation": "h",
           "showlegend": true,
           "textposition": "auto",
           "type": "bar",
           "x": {
            "bdata": "AAAAAACAUEA=",
            "dtype": "f8"
           },
           "xaxis": "x",
           "y": [
            "Malta"
           ],
           "yaxis": "y"
          },
          {
           "hovertemplate": "Land=%{y}<br>year=2014<br>Produzierte Menge (nach Einheit)=%{x}<extra></extra>",
           "legendgroup": "North Macedonia",
           "marker": {
            "color": "#19d3f3",
            "pattern": {
             "shape": ""
            }
           },
           "name": "North Macedonia",
           "orientation": "h",
           "showlegend": true,
           "textposition": "auto",
           "type": "bar",
           "x": {
            "bdata": "9Shcj8L1W0A=",
            "dtype": "f8"
           },
           "xaxis": "x",
           "y": [
            "North Macedonia"
           ],
           "yaxis": "y"
          },
          {
           "hovertemplate": "Land=%{y}<br>year=2014<br>Produzierte Menge (nach Einheit)=%{x}<extra></extra>",
           "legendgroup": "Serbia",
           "marker": {
            "color": "#FF6692",
            "pattern": {
             "shape": ""
            }
           },
           "name": "Serbia",
           "orientation": "h",
           "showlegend": true,
           "textposition": "auto",
           "type": "bar",
           "x": {
            "bdata": "AAAAAADgakA=",
            "dtype": "f8"
           },
           "xaxis": "x",
           "y": [
            "Serbia"
           ],
           "yaxis": "y"
          }
         ],
         "name": "2014"
        }
       ],
       "layout": {
        "barmode": "relative",
        "height": 700,
        "legend": {
         "title": {
          "text": "Land"
         },
         "tracegroupgap": 0
        },
        "showlegend": false,
        "sliders": [
         {
          "active": 0,
          "currentvalue": {
           "prefix": "year="
          },
          "len": 0.9,
          "pad": {
           "b": 10,
           "t": 60
          },
          "steps": [
           {
            "args": [
             [
              "1990"
             ],
             {
              "frame": {
               "duration": 0,
               "redraw": true
              },
              "fromcurrent": true,
              "mode": "immediate",
              "transition": {
               "duration": 0,
               "easing": "linear"
              }
             }
            ],
            "label": "1990",
            "method": "animate"
           },
           {
            "args": [
             [
              "1991"
             ],
             {
              "frame": {
               "duration": 0,
               "redraw": true
              },
              "fromcurrent": true,
              "mode": "immediate",
              "transition": {
               "duration": 0,
               "easing": "linear"
              }
             }
            ],
            "label": "1991",
            "method": "animate"
           },
           {
            "args": [
             [
              "1992"
             ],
             {
              "frame": {
               "duration": 0,
               "redraw": true
              },
              "fromcurrent": true,
              "mode": "immediate",
              "transition": {
               "duration": 0,
               "easing": "linear"
              }
             }
            ],
            "label": "1992",
            "method": "animate"
           },
           {
            "args": [
             [
              "1993"
             ],
             {
              "frame": {
               "duration": 0,
               "redraw": true
              },
              "fromcurrent": true,
              "mode": "immediate",
              "transition": {
               "duration": 0,
               "easing": "linear"
              }
             }
            ],
            "label": "1993",
            "method": "animate"
           },
           {
            "args": [
             [
              "1994"
             ],
             {
              "frame": {
               "duration": 0,
               "redraw": true
              },
              "fromcurrent": true,
              "mode": "immediate",
              "transition": {
               "duration": 0,
               "easing": "linear"
              }
             }
            ],
            "label": "1994",
            "method": "animate"
           },
           {
            "args": [
             [
              "1995"
             ],
             {
              "frame": {
               "duration": 0,
               "redraw": true
              },
              "fromcurrent": true,
              "mode": "immediate",
              "transition": {
               "duration": 0,
               "easing": "linear"
              }
             }
            ],
            "label": "1995",
            "method": "animate"
           },
           {
            "args": [
             [
              "1996"
             ],
             {
              "frame": {
               "duration": 0,
               "redraw": true
              },
              "fromcurrent": true,
              "mode": "immediate",
              "transition": {
               "duration": 0,
               "easing": "linear"
              }
             }
            ],
            "label": "1996",
            "method": "animate"
           },
           {
            "args": [
             [
              "1997"
             ],
             {
              "frame": {
               "duration": 0,
               "redraw": true
              },
              "fromcurrent": true,
              "mode": "immediate",
              "transition": {
               "duration": 0,
               "easing": "linear"
              }
             }
            ],
            "label": "1997",
            "method": "animate"
           },
           {
            "args": [
             [
              "1998"
             ],
             {
              "frame": {
               "duration": 0,
               "redraw": true
              },
              "fromcurrent": true,
              "mode": "immediate",
              "transition": {
               "duration": 0,
               "easing": "linear"
              }
             }
            ],
            "label": "1998",
            "method": "animate"
           },
           {
            "args": [
             [
              "1999"
             ],
             {
              "frame": {
               "duration": 0,
               "redraw": true
              },
              "fromcurrent": true,
              "mode": "immediate",
              "transition": {
               "duration": 0,
               "easing": "linear"
              }
             }
            ],
            "label": "1999",
            "method": "animate"
           },
           {
            "args": [
             [
              "2000"
             ],
             {
              "frame": {
               "duration": 0,
               "redraw": true
              },
              "fromcurrent": true,
              "mode": "immediate",
              "transition": {
               "duration": 0,
               "easing": "linear"
              }
             }
            ],
            "label": "2000",
            "method": "animate"
           },
           {
            "args": [
             [
              "2001"
             ],
             {
              "frame": {
               "duration": 0,
               "redraw": true
              },
              "fromcurrent": true,
              "mode": "immediate",
              "transition": {
               "duration": 0,
               "easing": "linear"
              }
             }
            ],
            "label": "2001",
            "method": "animate"
           },
           {
            "args": [
             [
              "2002"
             ],
             {
              "frame": {
               "duration": 0,
               "redraw": true
              },
              "fromcurrent": true,
              "mode": "immediate",
              "transition": {
               "duration": 0,
               "easing": "linear"
              }
             }
            ],
            "label": "2002",
            "method": "animate"
           },
           {
            "args": [
             [
              "2003"
             ],
             {
              "frame": {
               "duration": 0,
               "redraw": true
              },
              "fromcurrent": true,
              "mode": "immediate",
              "transition": {
               "duration": 0,
               "easing": "linear"
              }
             }
            ],
            "label": "2003",
            "method": "animate"
           },
           {
            "args": [
             [
              "2004"
             ],
             {
              "frame": {
               "duration": 0,
               "redraw": true
              },
              "fromcurrent": true,
              "mode": "immediate",
              "transition": {
               "duration": 0,
               "easing": "linear"
              }
             }
            ],
            "label": "2004",
            "method": "animate"
           },
           {
            "args": [
             [
              "2005"
             ],
             {
              "frame": {
               "duration": 0,
               "redraw": true
              },
              "fromcurrent": true,
              "mode": "immediate",
              "transition": {
               "duration": 0,
               "easing": "linear"
              }
             }
            ],
            "label": "2005",
            "method": "animate"
           },
           {
            "args": [
             [
              "2006"
             ],
             {
              "frame": {
               "duration": 0,
               "redraw": true
              },
              "fromcurrent": true,
              "mode": "immediate",
              "transition": {
               "duration": 0,
               "easing": "linear"
              }
             }
            ],
            "label": "2006",
            "method": "animate"
           },
           {
            "args": [
             [
              "2007"
             ],
             {
              "frame": {
               "duration": 0,
               "redraw": true
              },
              "fromcurrent": true,
              "mode": "immediate",
              "transition": {
               "duration": 0,
               "easing": "linear"
              }
             }
            ],
            "label": "2007",
            "method": "animate"
           },
           {
            "args": [
             [
              "2008"
             ],
             {
              "frame": {
               "duration": 0,
               "redraw": true
              },
              "fromcurrent": true,
              "mode": "immediate",
              "transition": {
               "duration": 0,
               "easing": "linear"
              }
             }
            ],
            "label": "2008",
            "method": "animate"
           },
           {
            "args": [
             [
              "2009"
             ],
             {
              "frame": {
               "duration": 0,
               "redraw": true
              },
              "fromcurrent": true,
              "mode": "immediate",
              "transition": {
               "duration": 0,
               "easing": "linear"
              }
             }
            ],
            "label": "2009",
            "method": "animate"
           },
           {
            "args": [
             [
              "2010"
             ],
             {
              "frame": {
               "duration": 0,
               "redraw": true
              },
              "fromcurrent": true,
              "mode": "immediate",
              "transition": {
               "duration": 0,
               "easing": "linear"
              }
             }
            ],
            "label": "2010",
            "method": "animate"
           },
           {
            "args": [
             [
              "2011"
             ],
             {
              "frame": {
               "duration": 0,
               "redraw": true
              },
              "fromcurrent": true,
              "mode": "immediate",
              "transition": {
               "duration": 0,
               "easing": "linear"
              }
             }
            ],
            "label": "2011",
            "method": "animate"
           },
           {
            "args": [
             [
              "2012"
             ],
             {
              "frame": {
               "duration": 0,
               "redraw": true
              },
              "fromcurrent": true,
              "mode": "immediate",
              "transition": {
               "duration": 0,
               "easing": "linear"
              }
             }
            ],
            "label": "2012",
            "method": "animate"
           },
           {
            "args": [
             [
              "2013"
             ],
             {
              "frame": {
               "duration": 0,
               "redraw": true
              },
              "fromcurrent": true,
              "mode": "immediate",
              "transition": {
               "duration": 0,
               "easing": "linear"
              }
             }
            ],
            "label": "2013",
            "method": "animate"
           },
           {
            "args": [
             [
              "2014"
             ],
             {
              "frame": {
               "duration": 0,
               "redraw": true
              },
              "fromcurrent": true,
              "mode": "immediate",
              "transition": {
               "duration": 0,
               "easing": "linear"
              }
             }
            ],
            "label": "2014",
            "method": "animate"
           }
          ],
          "x": 0.1,
          "xanchor": "left",
          "y": 0,
          "yanchor": "top"
         }
        ],
        "template": {
         "data": {
          "bar": [
           {
            "error_x": {
             "color": "#2a3f5f"
            },
            "error_y": {
             "color": "#2a3f5f"
            },
            "marker": {
             "line": {
              "color": "#E5ECF6",
              "width": 0.5
             },
             "pattern": {
              "fillmode": "overlay",
              "size": 10,
              "solidity": 0.2
             }
            },
            "type": "bar"
           }
          ],
          "barpolar": [
           {
            "marker": {
             "line": {
              "color": "#E5ECF6",
              "width": 0.5
             },
             "pattern": {
              "fillmode": "overlay",
              "size": 10,
              "solidity": 0.2
             }
            },
            "type": "barpolar"
           }
          ],
          "carpet": [
           {
            "aaxis": {
             "endlinecolor": "#2a3f5f",
             "gridcolor": "white",
             "linecolor": "white",
             "minorgridcolor": "white",
             "startlinecolor": "#2a3f5f"
            },
            "baxis": {
             "endlinecolor": "#2a3f5f",
             "gridcolor": "white",
             "linecolor": "white",
             "minorgridcolor": "white",
             "startlinecolor": "#2a3f5f"
            },
            "type": "carpet"
           }
          ],
          "choropleth": [
           {
            "colorbar": {
             "outlinewidth": 0,
             "ticks": ""
            },
            "type": "choropleth"
           }
          ],
          "contour": [
           {
            "colorbar": {
             "outlinewidth": 0,
             "ticks": ""
            },
            "colorscale": [
             [
              0,
              "#0d0887"
             ],
             [
              0.1111111111111111,
              "#46039f"
             ],
             [
              0.2222222222222222,
              "#7201a8"
             ],
             [
              0.3333333333333333,
              "#9c179e"
             ],
             [
              0.4444444444444444,
              "#bd3786"
             ],
             [
              0.5555555555555556,
              "#d8576b"
             ],
             [
              0.6666666666666666,
              "#ed7953"
             ],
             [
              0.7777777777777778,
              "#fb9f3a"
             ],
             [
              0.8888888888888888,
              "#fdca26"
             ],
             [
              1,
              "#f0f921"
             ]
            ],
            "type": "contour"
           }
          ],
          "contourcarpet": [
           {
            "colorbar": {
             "outlinewidth": 0,
             "ticks": ""
            },
            "type": "contourcarpet"
           }
          ],
          "heatmap": [
           {
            "colorbar": {
             "outlinewidth": 0,
             "ticks": ""
            },
            "colorscale": [
             [
              0,
              "#0d0887"
             ],
             [
              0.1111111111111111,
              "#46039f"
             ],
             [
              0.2222222222222222,
              "#7201a8"
             ],
             [
              0.3333333333333333,
              "#9c179e"
             ],
             [
              0.4444444444444444,
              "#bd3786"
             ],
             [
              0.5555555555555556,
              "#d8576b"
             ],
             [
              0.6666666666666666,
              "#ed7953"
             ],
             [
              0.7777777777777778,
              "#fb9f3a"
             ],
             [
              0.8888888888888888,
              "#fdca26"
             ],
             [
              1,
              "#f0f921"
             ]
            ],
            "type": "heatmap"
           }
          ],
          "histogram": [
           {
            "marker": {
             "pattern": {
              "fillmode": "overlay",
              "size": 10,
              "solidity": 0.2
             }
            },
            "type": "histogram"
           }
          ],
          "histogram2d": [
           {
            "colorbar": {
             "outlinewidth": 0,
             "ticks": ""
            },
            "colorscale": [
             [
              0,
              "#0d0887"
             ],
             [
              0.1111111111111111,
              "#46039f"
             ],
             [
              0.2222222222222222,
              "#7201a8"
             ],
             [
              0.3333333333333333,
              "#9c179e"
             ],
             [
              0.4444444444444444,
              "#bd3786"
             ],
             [
              0.5555555555555556,
              "#d8576b"
             ],
             [
              0.6666666666666666,
              "#ed7953"
             ],
             [
              0.7777777777777778,
              "#fb9f3a"
             ],
             [
              0.8888888888888888,
              "#fdca26"
             ],
             [
              1,
              "#f0f921"
             ]
            ],
            "type": "histogram2d"
           }
          ],
          "histogram2dcontour": [
           {
            "colorbar": {
             "outlinewidth": 0,
             "ticks": ""
            },
            "colorscale": [
             [
              0,
              "#0d0887"
             ],
             [
              0.1111111111111111,
              "#46039f"
             ],
             [
              0.2222222222222222,
              "#7201a8"
             ],
             [
              0.3333333333333333,
              "#9c179e"
             ],
             [
              0.4444444444444444,
              "#bd3786"
             ],
             [
              0.5555555555555556,
              "#d8576b"
             ],
             [
              0.6666666666666666,
              "#ed7953"
             ],
             [
              0.7777777777777778,
              "#fb9f3a"
             ],
             [
              0.8888888888888888,
              "#fdca26"
             ],
             [
              1,
              "#f0f921"
             ]
            ],
            "type": "histogram2dcontour"
           }
          ],
          "mesh3d": [
           {
            "colorbar": {
             "outlinewidth": 0,
             "ticks": ""
            },
            "type": "mesh3d"
           }
          ],
          "parcoords": [
           {
            "line": {
             "colorbar": {
              "outlinewidth": 0,
              "ticks": ""
             }
            },
            "type": "parcoords"
           }
          ],
          "pie": [
           {
            "automargin": true,
            "type": "pie"
           }
          ],
          "scatter": [
           {
            "fillpattern": {
             "fillmode": "overlay",
             "size": 10,
             "solidity": 0.2
            },
            "type": "scatter"
           }
          ],
          "scatter3d": [
           {
            "line": {
             "colorbar": {
              "outlinewidth": 0,
              "ticks": ""
             }
            },
            "marker": {
             "colorbar": {
              "outlinewidth": 0,
              "ticks": ""
             }
            },
            "type": "scatter3d"
           }
          ],
          "scattercarpet": [
           {
            "marker": {
             "colorbar": {
              "outlinewidth": 0,
              "ticks": ""
             }
            },
            "type": "scattercarpet"
           }
          ],
          "scattergeo": [
           {
            "marker": {
             "colorbar": {
              "outlinewidth": 0,
              "ticks": ""
             }
            },
            "type": "scattergeo"
           }
          ],
          "scattergl": [
           {
            "marker": {
             "colorbar": {
              "outlinewidth": 0,
              "ticks": ""
             }
            },
            "type": "scattergl"
           }
          ],
          "scattermap": [
           {
            "marker": {
             "colorbar": {
              "outlinewidth": 0,
              "ticks": ""
             }
            },
            "type": "scattermap"
           }
          ],
          "scattermapbox": [
           {
            "marker": {
             "colorbar": {
              "outlinewidth": 0,
              "ticks": ""
             }
            },
            "type": "scattermapbox"
           }
          ],
          "scatterpolar": [
           {
            "marker": {
             "colorbar": {
              "outlinewidth": 0,
              "ticks": ""
             }
            },
            "type": "scatterpolar"
           }
          ],
          "scatterpolargl": [
           {
            "marker": {
             "colorbar": {
              "outlinewidth": 0,
              "ticks": ""
             }
            },
            "type": "scatterpolargl"
           }
          ],
          "scatterternary": [
           {
            "marker": {
             "colorbar": {
              "outlinewidth": 0,
              "ticks": ""
             }
            },
            "type": "scatterternary"
           }
          ],
          "surface": [
           {
            "colorbar": {
             "outlinewidth": 0,
             "ticks": ""
            },
            "colorscale": [
             [
              0,
              "#0d0887"
             ],
             [
              0.1111111111111111,
              "#46039f"
             ],
             [
              0.2222222222222222,
              "#7201a8"
             ],
             [
              0.3333333333333333,
              "#9c179e"
             ],
             [
              0.4444444444444444,
              "#bd3786"
             ],
             [
              0.5555555555555556,
              "#d8576b"
             ],
             [
              0.6666666666666666,
              "#ed7953"
             ],
             [
              0.7777777777777778,
              "#fb9f3a"
             ],
             [
              0.8888888888888888,
              "#fdca26"
             ],
             [
              1,
              "#f0f921"
             ]
            ],
            "type": "surface"
           }
          ],
          "table": [
           {
            "cells": {
             "fill": {
              "color": "#EBF0F8"
             },
             "line": {
              "color": "white"
             }
            },
            "header": {
             "fill": {
              "color": "#C8D4E3"
             },
             "line": {
              "color": "white"
             }
            },
            "type": "table"
           }
          ]
         },
         "layout": {
          "annotationdefaults": {
           "arrowcolor": "#2a3f5f",
           "arrowhead": 0,
           "arrowwidth": 1
          },
          "autotypenumbers": "strict",
          "coloraxis": {
           "colorbar": {
            "outlinewidth": 0,
            "ticks": ""
           }
          },
          "colorscale": {
           "diverging": [
            [
             0,
             "#8e0152"
            ],
            [
             0.1,
             "#c51b7d"
            ],
            [
             0.2,
             "#de77ae"
            ],
            [
             0.3,
             "#f1b6da"
            ],
            [
             0.4,
             "#fde0ef"
            ],
            [
             0.5,
             "#f7f7f7"
            ],
            [
             0.6,
             "#e6f5d0"
            ],
            [
             0.7,
             "#b8e186"
            ],
            [
             0.8,
             "#7fbc41"
            ],
            [
             0.9,
             "#4d9221"
            ],
            [
             1,
             "#276419"
            ]
           ],
           "sequential": [
            [
             0,
             "#0d0887"
            ],
            [
             0.1111111111111111,
             "#46039f"
            ],
            [
             0.2222222222222222,
             "#7201a8"
            ],
            [
             0.3333333333333333,
             "#9c179e"
            ],
            [
             0.4444444444444444,
             "#bd3786"
            ],
            [
             0.5555555555555556,
             "#d8576b"
            ],
            [
             0.6666666666666666,
             "#ed7953"
            ],
            [
             0.7777777777777778,
             "#fb9f3a"
            ],
            [
             0.8888888888888888,
             "#fdca26"
            ],
            [
             1,
             "#f0f921"
            ]
           ],
           "sequentialminus": [
            [
             0,
             "#0d0887"
            ],
            [
             0.1111111111111111,
             "#46039f"
            ],
            [
             0.2222222222222222,
             "#7201a8"
            ],
            [
             0.3333333333333333,
             "#9c179e"
            ],
            [
             0.4444444444444444,
             "#bd3786"
            ],
            [
             0.5555555555555556,
             "#d8576b"
            ],
            [
             0.6666666666666666,
             "#ed7953"
            ],
            [
             0.7777777777777778,
             "#fb9f3a"
            ],
            [
             0.8888888888888888,
             "#fdca26"
            ],
            [
             1,
             "#f0f921"
            ]
           ]
          },
          "colorway": [
           "#636efa",
           "#EF553B",
           "#00cc96",
           "#ab63fa",
           "#FFA15A",
           "#19d3f3",
           "#FF6692",
           "#B6E880",
           "#FF97FF",
           "#FECB52"
          ],
          "font": {
           "color": "#2a3f5f"
          },
          "geo": {
           "bgcolor": "white",
           "lakecolor": "white",
           "landcolor": "#E5ECF6",
           "showlakes": true,
           "showland": true,
           "subunitcolor": "white"
          },
          "hoverlabel": {
           "align": "left"
          },
          "hovermode": "closest",
          "mapbox": {
           "style": "light"
          },
          "paper_bgcolor": "white",
          "plot_bgcolor": "#E5ECF6",
          "polar": {
           "angularaxis": {
            "gridcolor": "white",
            "linecolor": "white",
            "ticks": ""
           },
           "bgcolor": "#E5ECF6",
           "radialaxis": {
            "gridcolor": "white",
            "linecolor": "white",
            "ticks": ""
           }
          },
          "scene": {
           "xaxis": {
            "backgroundcolor": "#E5ECF6",
            "gridcolor": "white",
            "gridwidth": 2,
            "linecolor": "white",
            "showbackground": true,
            "ticks": "",
            "zerolinecolor": "white"
           },
           "yaxis": {
            "backgroundcolor": "#E5ECF6",
            "gridcolor": "white",
            "gridwidth": 2,
            "linecolor": "white",
            "showbackground": true,
            "ticks": "",
            "zerolinecolor": "white"
           },
           "zaxis": {
            "backgroundcolor": "#E5ECF6",
            "gridcolor": "white",
            "gridwidth": 2,
            "linecolor": "white",
            "showbackground": true,
            "ticks": "",
            "zerolinecolor": "white"
           }
          },
          "shapedefaults": {
           "line": {
            "color": "#2a3f5f"
           }
          },
          "ternary": {
           "aaxis": {
            "gridcolor": "white",
            "linecolor": "white",
            "ticks": ""
           },
           "baxis": {
            "gridcolor": "white",
            "linecolor": "white",
            "ticks": ""
           },
           "bgcolor": "#E5ECF6",
           "caxis": {
            "gridcolor": "white",
            "linecolor": "white",
            "ticks": ""
           }
          },
          "title": {
           "x": 0.05
          },
          "xaxis": {
           "automargin": true,
           "gridcolor": "white",
           "linecolor": "white",
           "ticks": "",
           "title": {
            "standoff": 15
           },
           "zerolinecolor": "white",
           "zerolinewidth": 2
          },
          "yaxis": {
           "automargin": true,
           "gridcolor": "white",
           "linecolor": "white",
           "ticks": "",
           "title": {
            "standoff": 15
           },
           "zerolinecolor": "white",
           "zerolinewidth": 2
          }
         }
        },
        "title": {
         "text": "Top 10 Länder mit höchster Produktion von grüner Energie pro Jahr"
        },
        "updatemenus": [
         {
          "buttons": [
           {
            "args": [
             null,
             {
              "frame": {
               "duration": 500,
               "redraw": true
              },
              "fromcurrent": true,
              "mode": "immediate",
              "transition": {
               "duration": 500,
               "easing": "linear"
              }
             }
            ],
            "label": "&#9654;",
            "method": "animate"
           },
           {
            "args": [
             [
              null
             ],
             {
              "frame": {
               "duration": 0,
               "redraw": true
              },
              "fromcurrent": true,
              "mode": "immediate",
              "transition": {
               "duration": 0,
               "easing": "linear"
              }
             }
            ],
            "label": "&#9724;",
            "method": "animate"
           }
          ],
          "direction": "left",
          "pad": {
           "r": 10,
           "t": 70
          },
          "showactive": false,
          "type": "buttons",
          "x": 0.1,
          "xanchor": "right",
          "y": 0,
          "yanchor": "top"
         }
        ],
        "xaxis": {
         "anchor": "y",
         "domain": [
          0,
          1
         ],
         "range": [
          0,
          633088.5
         ],
         "title": {
          "text": "Produzierte Menge (nach Einheit)"
         }
        },
        "yaxis": {
         "anchor": "x",
         "categoryarray": [
          "Serbia",
          "North Macedonia",
          "Malta",
          "Liechtenstein",
          "Bulgaria",
          "Moldova",
          "Andorra",
          "Slovakia",
          "Cyprus",
          "Slovenia",
          "Iceland",
          "Romania",
          "Lithuania",
          "Latvia",
          "Estonia",
          "Czech Republic",
          "Croatia",
          "Belarus",
          "Germany",
          "United Kingdom",
          "Switzerland",
          "Sweden",
          "Spain",
          "Portugal",
          "Poland",
          "Norway",
          "Netherlands",
          "Luxembourg",
          "Italy",
          "Ireland",
          "Hungary",
          "Greece",
          "France",
          "Finland",
          "Denmark",
          "Belgium",
          "Austria"
         ],
         "categoryorder": "total ascending",
         "domain": [
          0,
          1
         ],
         "title": {
          "text": "Land"
         }
        }
       }
      }
     },
     "metadata": {},
     "output_type": "display_data"
    }
   ],
   "source": [
    "# Plot erstellen\n",
    "fig = px.bar(\n",
    "    df_green_year_country,\n",
    "    x='quantity',\n",
    "    y='country_or_area',\n",
    "    color='country_or_area',\n",
    "    animation_frame='year',\n",
    "    orientation='h',\n",
    "    range_x=[0, df_green_year_country['quantity'].max()*1.1],\n",
    "    title='Top 10 Länder mit höchster Produktion von grüner Energie pro Jahr',\n",
    "    labels={'quantity': 'Produzierte Menge (nach Einheit)', 'country_or_area': 'Land'}\n",
    ")\n",
    "\n",
    "# Sortierung innerhalb jedes Frames auf Top 10\n",
    "fig.update_layout(\n",
    "    yaxis={'categoryorder':'total ascending'},\n",
    "    height=700,\n",
    "    showlegend=False\n",
    ")\n",
    "\n",
    "fig.show()"
   ]
  },
  {
   "cell_type": "code",
   "execution_count": null,
   "metadata": {},
   "outputs": [],
   "source": []
  }
 ],
 "metadata": {
  "kernelspec": {
   "display_name": ".venv",
   "language": "python",
   "name": "python3"
  },
  "language_info": {
   "codemirror_mode": {
    "name": "ipython",
    "version": 3
   },
   "file_extension": ".py",
   "mimetype": "text/x-python",
   "name": "python",
   "nbconvert_exporter": "python",
   "pygments_lexer": "ipython3",
   "version": "3.11.11"
  }
 },
 "nbformat": 4,
 "nbformat_minor": 2
}
