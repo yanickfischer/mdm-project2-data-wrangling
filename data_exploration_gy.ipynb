{
 "cells": [
  {
   "cell_type": "code",
   "execution_count": null,
   "metadata": {},
   "outputs": [],
   "source": [
    "# ----------------------------------------\n",
    "# Einheitliche Standardisierung auf Gigajoule (GJ)\n",
    "# ----------------------------------------\n",
    "\n",
    "# Konvertierungstabellen auf Gigajoule (GJ)\n",
    "conversion_to_GJ = {\n",
    "    \"Metric tons,  thousand\": 42,   # Beispiel für Öl\n",
    "    \"Terajoules\": 1,\n",
    "    \"Kilowatt-hours, million\": 3.6,\n",
    "    \"Cubic metres, thousand\": 0.038,\n",
    "    \"Kilowatts,  thousand\": np.nan  # Leistung, keine Energie\n",
    "}\n",
    "\n",
    "# Neue Spalte \"quantity_GJ\" erzeugen\n",
    "df['quantity_GJ'] = df.apply(\n",
    "    lambda row: row['quantity'] * conversion_to_GJ.get(row['unit'], np.nan),\n",
    "    axis=1\n",
    ")\n",
    "\n",
    "# Nur gültige Zeilen behalten\n",
    "df = df[~df['quantity_GJ'].isna()]\n",
    "\n",
    "print(\"Standardisierung abgeschlossen: Neue Spalte 'quantity_GJ' verfügbar.\")"
   ]
  }
 ],
 "metadata": {
  "language_info": {
   "name": "python"
  }
 },
 "nbformat": 4,
 "nbformat_minor": 2
}
