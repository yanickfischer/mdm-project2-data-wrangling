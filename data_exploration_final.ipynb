{
 "cells": [
  {
   "cell_type": "markdown",
   "metadata": {},
   "source": [
    "## Notebook Info:\n",
    "\n",
    "In diesem Notebook wird initial eine Daten-Exploration gemacht, als Vorstufe für die spätere Architektur der ML-Modelle in Java und Springboot.\n",
    "Ebenfalls werden letzte Anpassungen an den Daten vorgenommen.\n",
    "Dazu zählen aufgaben wie:\n",
    "-Vorbereitung Columns für Verwendung in ML-Modellen\n",
    "-Standardisierung / Normailsierung von Daten"
   ]
  },
  {
   "cell_type": "code",
   "execution_count": 2,
   "metadata": {},
   "outputs": [],
   "source": [
    "import pandas as pd\n",
    "import numpy as np\n",
    "import matplotlib.pyplot as plt\n",
    "import seaborn as sns\n"
   ]
  },
  {
   "cell_type": "code",
   "execution_count": 3,
   "metadata": {},
   "outputs": [
    {
     "data": {
      "text/html": [
       "<div>\n",
       "<style scoped>\n",
       "    .dataframe tbody tr th:only-of-type {\n",
       "        vertical-align: middle;\n",
       "    }\n",
       "\n",
       "    .dataframe tbody tr th {\n",
       "        vertical-align: top;\n",
       "    }\n",
       "\n",
       "    .dataframe thead th {\n",
       "        text-align: right;\n",
       "    }\n",
       "</style>\n",
       "<table border=\"1\" class=\"dataframe\">\n",
       "  <thead>\n",
       "    <tr style=\"text-align: right;\">\n",
       "      <th></th>\n",
       "      <th>country_or_area</th>\n",
       "      <th>year</th>\n",
       "      <th>unit</th>\n",
       "      <th>quantity</th>\n",
       "      <th>category</th>\n",
       "      <th>commodity</th>\n",
       "      <th>transaction_type</th>\n",
       "      <th>additional_transaction_info</th>\n",
       "    </tr>\n",
       "  </thead>\n",
       "  <tbody>\n",
       "    <tr>\n",
       "      <th>0</th>\n",
       "      <td>Austria</td>\n",
       "      <td>1996</td>\n",
       "      <td>Metric tons,  thousand</td>\n",
       "      <td>5.0</td>\n",
       "      <td>additives_and_oxygenates</td>\n",
       "      <td>additives and oxygenates</td>\n",
       "      <td>exports</td>\n",
       "      <td>NaN</td>\n",
       "    </tr>\n",
       "    <tr>\n",
       "      <th>1</th>\n",
       "      <td>Austria</td>\n",
       "      <td>1995</td>\n",
       "      <td>Metric tons,  thousand</td>\n",
       "      <td>17.0</td>\n",
       "      <td>additives_and_oxygenates</td>\n",
       "      <td>additives and oxygenates</td>\n",
       "      <td>exports</td>\n",
       "      <td>NaN</td>\n",
       "    </tr>\n",
       "    <tr>\n",
       "      <th>2</th>\n",
       "      <td>Belgium</td>\n",
       "      <td>2014</td>\n",
       "      <td>Metric tons,  thousand</td>\n",
       "      <td>0.0</td>\n",
       "      <td>additives_and_oxygenates</td>\n",
       "      <td>additives and oxygenates</td>\n",
       "      <td>exports</td>\n",
       "      <td>NaN</td>\n",
       "    </tr>\n",
       "    <tr>\n",
       "      <th>3</th>\n",
       "      <td>Belgium</td>\n",
       "      <td>2013</td>\n",
       "      <td>Metric tons,  thousand</td>\n",
       "      <td>0.0</td>\n",
       "      <td>additives_and_oxygenates</td>\n",
       "      <td>additives and oxygenates</td>\n",
       "      <td>exports</td>\n",
       "      <td>NaN</td>\n",
       "    </tr>\n",
       "    <tr>\n",
       "      <th>4</th>\n",
       "      <td>Belgium</td>\n",
       "      <td>2012</td>\n",
       "      <td>Metric tons,  thousand</td>\n",
       "      <td>35.0</td>\n",
       "      <td>additives_and_oxygenates</td>\n",
       "      <td>additives and oxygenates</td>\n",
       "      <td>exports</td>\n",
       "      <td>NaN</td>\n",
       "    </tr>\n",
       "  </tbody>\n",
       "</table>\n",
       "</div>"
      ],
      "text/plain": [
       "  country_or_area  year                    unit  quantity  \\\n",
       "0         Austria  1996  Metric tons,  thousand       5.0   \n",
       "1         Austria  1995  Metric tons,  thousand      17.0   \n",
       "2         Belgium  2014  Metric tons,  thousand       0.0   \n",
       "3         Belgium  2013  Metric tons,  thousand       0.0   \n",
       "4         Belgium  2012  Metric tons,  thousand      35.0   \n",
       "\n",
       "                   category                 commodity transaction_type  \\\n",
       "0  additives_and_oxygenates  additives and oxygenates          exports   \n",
       "1  additives_and_oxygenates  additives and oxygenates          exports   \n",
       "2  additives_and_oxygenates  additives and oxygenates          exports   \n",
       "3  additives_and_oxygenates  additives and oxygenates          exports   \n",
       "4  additives_and_oxygenates  additives and oxygenates          exports   \n",
       "\n",
       "  additional_transaction_info  \n",
       "0                         NaN  \n",
       "1                         NaN  \n",
       "2                         NaN  \n",
       "3                         NaN  \n",
       "4                         NaN  "
      ]
     },
     "metadata": {},
     "output_type": "display_data"
    }
   ],
   "source": [
    "\n",
    "# Bessere Plot-Darstellung direkt im Notebook\n",
    "%matplotlib inline\n",
    "\n",
    "# Pfad zu deiner bereinigten Datei (bitte anpassen falls nötig)\n",
    "DATA_FILE = \"data/energy_cleaned_europe.csv\"\n",
    "\n",
    "# DataFrame laden\n",
    "df = pd.read_csv(DATA_FILE)\n",
    "\n",
    "# Kurze Vorschau auf die Daten\n",
    "display(df.head())"
   ]
  },
  {
   "cell_type": "code",
   "execution_count": 4,
   "metadata": {},
   "outputs": [
    {
     "name": "stdout",
     "output_type": "stream",
     "text": [
      "<class 'pandas.core.frame.DataFrame'>\n",
      "RangeIndex: 446601 entries, 0 to 446600\n",
      "Data columns (total 8 columns):\n",
      " #   Column                       Non-Null Count   Dtype  \n",
      "---  ------                       --------------   -----  \n",
      " 0   country_or_area              446601 non-null  object \n",
      " 1   year                         446601 non-null  int64  \n",
      " 2   unit                         446601 non-null  object \n",
      " 3   quantity                     446601 non-null  float64\n",
      " 4   category                     446601 non-null  object \n",
      " 5   commodity                    446601 non-null  object \n",
      " 6   transaction_type             444961 non-null  object \n",
      " 7   additional_transaction_info  28806 non-null   object \n",
      "dtypes: float64(1), int64(1), object(6)\n",
      "memory usage: 27.3+ MB\n"
     ]
    }
   ],
   "source": [
    "# Struktur der Daten prüfen\n",
    "df.info()\n"
   ]
  },
  {
   "cell_type": "code",
   "execution_count": 5,
   "metadata": {},
   "outputs": [
    {
     "name": "stdout",
     "output_type": "stream",
     "text": [
      "\n",
      "Anzahl fehlender Werte pro Spalte:\n"
     ]
    },
    {
     "data": {
      "text/plain": [
       "country_or_area                     0\n",
       "year                                0\n",
       "unit                                0\n",
       "quantity                            0\n",
       "category                            0\n",
       "commodity                           0\n",
       "transaction_type                 1640\n",
       "additional_transaction_info    417795\n",
       "dtype: int64"
      ]
     },
     "metadata": {},
     "output_type": "display_data"
    },
    {
     "name": "stdout",
     "output_type": "stream",
     "text": [
      "\n",
      "Einzigartige Länder:\n"
     ]
    },
    {
     "data": {
      "text/plain": [
       "array(['Austria', 'Belgium', 'Czech Republic', 'Finland', 'France',\n",
       "       'Greece', 'Hungary', 'Italy', 'Netherlands', 'Romania', 'Serbia',\n",
       "       'Slovakia', 'Ukraine', 'United Kingdom', 'Bulgaria', 'Croatia',\n",
       "       'Lithuania', 'Poland', 'Portugal', 'Spain', 'Sweden',\n",
       "       'Switzerland', 'North Macedonia', 'Germany', 'Norway', 'Denmark',\n",
       "       'Ireland', 'Moldova', 'Iceland', 'Latvia', 'Luxembourg', 'Estonia',\n",
       "       'Slovenia', 'Malta', 'Belarus', 'Cyprus', 'Albania',\n",
       "       'Bosnia and Herzegovina', 'Montenegro', 'Andorra', 'Liechtenstein'],\n",
       "      dtype=object)"
      ]
     },
     "metadata": {},
     "output_type": "display_data"
    },
    {
     "name": "stdout",
     "output_type": "stream",
     "text": [
      "\n",
      "Einzigartige Energieträger:\n"
     ]
    },
    {
     "data": {
      "text/plain": [
       "array(['additives and oxygenates', 'animal waste', 'anthracite',\n",
       "       'aviation gasoline', 'bagasse', 'biodiesel', 'biogases',\n",
       "       'biogasoline', 'bitumen', 'black liquor', 'blast furnace gas',\n",
       "       'brown coal briquettes', 'brown coal', 'lignite brown coal',\n",
       "       'lignite brown coal- recoverable resources', 'charcoal',\n",
       "       'coal tar', 'coke oven gas', 'coking coal',\n",
       "       'conventional crude oil', 'crude petroleum',\n",
       "       'direct use of geothermal heat',\n",
       "       'direct use of solar thermal heat',\n",
       "       'electricity generating capacity', 'electricity', 'ethane',\n",
       "       'falling water', 'fuel oil', 'fuelwood', 'gas coke',\n",
       "       'gas oil/ diesel oil', 'gas oil/ diesel oil ',\n",
       "       'gasoline-type jet fuel', 'gasworks gas', 'coal', 'hard coal',\n",
       "       'hrad coal', 'from chemical sources', 'from combustible fuels',\n",
       "       'from electric boilers', 'from heat pumps', 'from other sources',\n",
       "       'geothermal', 'heat', 'heat production', 'nuclear',\n",
       "       'solar thermal', 'industrial waste', 'kerosene-type jet fuel',\n",
       "       'lignite', 'liquefied petroleum gas (lpg)',\n",
       "       'liquified petroleum gas (lpg)', 'lubricants', 'motor gasoline',\n",
       "       'municipal waste', 'municipal wastes', 'naphtha',\n",
       "       'natural gas (including lng)', 'natural gas liquids',\n",
       "       'of which: biodiesel', 'of which: biogasoline', 'oil shale',\n",
       "       'other bituminous coal', 'other hydrocarbons', 'other kerosene',\n",
       "       'other liquid biofuels', 'other oil products n.e.c.',\n",
       "       'other recovered gases', 'vegetal waste', 'paraffin waxes',\n",
       "       'patent fuel', 'peat', 'peat (for fuel use)', 'peat products',\n",
       "       'petroleum coke', 'feedstocks', 'refinery gas',\n",
       "       'sub-bituminous coal', 'from chemical heat', 'hydro',\n",
       "       'of which: pumped hydro', 'solar', 'solar photovoltaic',\n",
       "       'tide, wave and marine', 'wind', 'total refinery output',\n",
       "       'total refinery throughput', 'uranium',\n",
       "       'white spirit and special boiling point industrial spirits'],\n",
       "      dtype=object)"
      ]
     },
     "metadata": {},
     "output_type": "display_data"
    },
    {
     "name": "stdout",
     "output_type": "stream",
     "text": [
      "\n",
      "Arten von Transaktionen (Exporte, Importe, Produktion, etc.):\n"
     ]
    },
    {
     "data": {
      "text/plain": [
       "array(['exports', 'imports', 'production', 'receipts from other sources',\n",
       "       'stock changes', 'total energy supply',\n",
       "       'transfers and recycled products', 'transformation',\n",
       "       'transformation in oil refineries',\n",
       "       'consumption by food and tobacco',\n",
       "       'consumption by manufacturing, construction and non-fuel industry',\n",
       "       'consumption by non-metallic minerals', 'consumption by other',\n",
       "       'consumption by other manuf., const. and non-fuel min. ind.',\n",
       "       'consumption in agriculture, forestry and fishing',\n",
       "       'consumption not elsewhere specified (industry)',\n",
       "       'final consumption', 'final energy consumption',\n",
       "       'transformation in electricity, chp and heat plants',\n",
       "       'transformation in electricity plants',\n",
       "       'commerce and public services',\n",
       "       'consumption by agriculture, forestry and fishing',\n",
       "       'consumption by chemical and petrochemical',\n",
       "       'consumption by construction', 'consumption by iron and steel',\n",
       "       'consumption by machinery', 'consumption by mining and quarrying',\n",
       "       'consumption by non-ferrous metals',\n",
       "       'consumption by other manuf., const. and non-fuel ind.',\n",
       "       'consumption by paper, pulp and print', 'consumption by rail',\n",
       "       'consumption by textile and leather',\n",
       "       'consumption by wood and wood products industry',\n",
       "       'consumption in households', 'consumption in transport',\n",
       "       'consumption not elsewhere specified (other)',\n",
       "       'consumption not elsewhere specified (transport)',\n",
       "       'energy industries own use', 'losses', 'non-energy use',\n",
       "       'other transformation', 'own use by coal mines',\n",
       "       'own use by coke ovens',\n",
       "       'own use by electricity, chp and heat plants',\n",
       "       'transformation in blast furnaces',\n",
       "       'transformation in briquetting plants',\n",
       "       'transformation in chp plants', 'transformation in heat plants',\n",
       "       'consumption by transport', 'consumption by transport equipment',\n",
       "       'consumption in domestic aviation',\n",
       "       'international aviation bunkers', 'production from plants',\n",
       "       'production from refineries', 'other energy industry own use',\n",
       "       'consumption by commerce and public services',\n",
       "       'consumption by domestic navigation', 'consumption by households',\n",
       "       'consumption by manufacturing, construction and non-fuel mining industry',\n",
       "       'consumption by other manufacturing, construction and non-fuel mining industry',\n",
       "       'consumption by road', 'net transfers',\n",
       "       'other transformation processes not elsewhere classified',\n",
       "       'consumption by wood and wood products',\n",
       "       'own use by biogas production plants',\n",
       "       'transformation in natural gas blending plants',\n",
       "       'consumption by other consumers', 'non-energy uses',\n",
       "       'own use by oil refineries', 'own use by blast furnaces',\n",
       "       'own use by electricity, heat and chp plants',\n",
       "       'transformation in coke ovens',\n",
       "       'consumption by briquetting plants',\n",
       "       'consumption by chemical and petrochemical industry',\n",
       "       'consumption by coal mines',\n",
       "       'consumption by iron and steel industry',\n",
       "       'consumption for non-energy uses', 'consumption in rail',\n",
       "       'transformation in gas works', 'changes in stocks',\n",
       "       'consumption by construction industry',\n",
       "       'consumption by food, beverage and tobacco industry',\n",
       "       'consumption by machinery industry',\n",
       "       'consumption by mining and quarrying industry',\n",
       "       'consumption by non-ferrous metals industry',\n",
       "       'consumption by non-metallic minerals industry',\n",
       "       'consumption by transport equipment industry',\n",
       "       'own use by briquetting plants',\n",
       "       'transformation in autoproducer chp plants',\n",
       "       'transformation in autoproducer electricity plants',\n",
       "       'transformation in autoproducer heat plants',\n",
       "       'transformation in main activity chp plants',\n",
       "       'transformation in main activity electricity plants',\n",
       "       'transformation in main activity heat plants',\n",
       "       'additional resources', nan, 'total known reserves',\n",
       "       'total resources in place', 'own use by gas works',\n",
       "       'consumption by textile and leather industry',\n",
       "       'transformation in main activity producer chp plants',\n",
       "       'transformation in main activity producer electricity plants',\n",
       "       'transformation in main activity producer heat plants',\n",
       "       'own use by oil and gas extraction', 'production from off-shore',\n",
       "       'refinery capacity', 'reserves', 'reserves from oil shale',\n",
       "       'reserves from oil shale and tar sands', 'reserves from tar sands',\n",
       "       'from other sources', 'pumped hydro', 'solar pv', 'solar thermal',\n",
       "       'net installed capacity of electric power plants, public combustible fuels',\n",
       "       'net installed capacity of electric power plants, public geothermal',\n",
       "       'net installed capacity of electric power plants, public hydro',\n",
       "       'net installed capacity of electric power plants, public nuclear',\n",
       "       'net installed capacity of electric power plants public solar',\n",
       "       'net installed capacity of electric power plants, public tide, wave, marine',\n",
       "       'net installed capacity of electric power plants, public wind',\n",
       "       'net installed capacity of electric power plants, self-producer combustible fuels',\n",
       "       'net installed capacity of electric power plants, self-producer geothermal',\n",
       "       'net installed capacity of electric power plants, self-producer hydro',\n",
       "       'net installed capacity of electric power plants, self-producer nuclear',\n",
       "       'net installed capacity of electric power plants, self-producer solar',\n",
       "       'net installed capacity of electric power plants, self-producer tide, wave, marine',\n",
       "       'net installed capacity of electric power plants, self-producer wind',\n",
       "       'total net installed capacity of electric power plants, autoproducer',\n",
       "       'total net installed capacity of electric power plants, combustible fuels',\n",
       "       'total net installed capacity of electric power plants, geothermal',\n",
       "       'total net installed capacity of electric power plants, hydro',\n",
       "       'total net installed capacity of electric power plants, main activity',\n",
       "       'total net installed capacity of electric power plants, main activity & autoproducer',\n",
       "       'total net installed capacity of electric power plants, nuclear',\n",
       "       'total net installed capacity of electric power plants, solar',\n",
       "       'total net installed capacity of electric power plants, tide, wave, marine',\n",
       "       'total net installed capacity of electric power plants, wind',\n",
       "       'consumption by industries not elsewhere specified',\n",
       "       'transformation in petrochemical plants',\n",
       "       'total hydraulic resources', 'consumption by domestic aviation',\n",
       "       'consumption by pipeline transport', 'consumption in road',\n",
       "       'international marine bunkers',\n",
       "       'transformation in charcoal plants',\n",
       "       'consumption in domestic navigation',\n",
       "       'total geothermal production', 'recoverable reserves',\n",
       "       'consumption by food and tobacco industry',\n",
       "       'consumption by other transport',\n",
       "       'own use by other energy producers', 'autoproducer',\n",
       "       'main activity', 'consumption by lng/regasification plants',\n",
       "       'gross demand', 'gross production', 'net production',\n",
       "       'own use by coal liquefaction plants',\n",
       "       'own use by nuclear fuel extraction and processing',\n",
       "       'autoproducer total', 'main activity total',\n",
       "       'used for electricity production', 'total hydro production',\n",
       "       'consumption by other consumers not elsewhere specified',\n",
       "       'transformation in other energy-producing plants',\n",
       "       'own use in coal mines', 'own use in coke ovens',\n",
       "       'consumption by other transportation',\n",
       "       'consumption by other manufacturing, construction and non-fuel',\n",
       "       'extraction loss shrinkage', 'flared', 'flared and vented',\n",
       "       'memo:gross production', 'own use by lng/regasification plants',\n",
       "       're-injected', 'total resources', 'vented',\n",
       "       'total nuclear production',\n",
       "       'transformation in coal liquefaction plants',\n",
       "       'consumption in commerce and public services',\n",
       "       'consumption by chemical and petrochemicalindustry',\n",
       "       'conversion in briquetting plants', 'recoverable',\n",
       "       'own use in electricity, chp and heat plants',\n",
       "       'total solar production', 'consumption by chemical industry',\n",
       "       'consumption by electricity, chp and heat plants',\n",
       "       'consumption by energy sector',\n",
       "       'transformation main activity chp plants',\n",
       "       'transformation main activity heat plants',\n",
       "       'total thermal production', 'total tide, wave production',\n",
       "       'consumption by commercial and public services',\n",
       "       'own use by pump-storage plants', 'total production, autoproducer',\n",
       "       'total production, main activity', 'used for electric boilers',\n",
       "       'used for heat pumps', 'estimated additional reserves',\n",
       "       'reasonably assured reserves',\n",
       "       'consumption by industry & construction',\n",
       "       'consumption by other industries and construction',\n",
       "       'total wind production'], dtype=object)"
      ]
     },
     "metadata": {},
     "output_type": "display_data"
    }
   ],
   "source": [
    "\n",
    "# Überprüfen auf fehlende Werte\n",
    "print(\"\\nAnzahl fehlender Werte pro Spalte:\")\n",
    "display(df.isnull().sum())\n",
    "\n",
    "# Übersicht über alle Länder\n",
    "print(\"\\nEinzigartige Länder:\")\n",
    "display(df['country_or_area'].unique())\n",
    "\n",
    "# Übersicht über alle Energiearten (Commodities)\n",
    "print(\"\\nEinzigartige Energieträger:\")\n",
    "display(df['commodity'].unique())\n",
    "\n",
    "# Übersicht über Transaktionstypen\n",
    "print(\"\\nArten von Transaktionen (Exporte, Importe, Produktion, etc.):\")\n",
    "display(df['transaction_type'].unique())\n",
    "\n"
   ]
  },
  {
   "cell_type": "markdown",
   "metadata": {},
   "source": [
    "# Einheitliche Standardisierung auf Megajoule (MJ)"
   ]
  },
  {
   "cell_type": "code",
   "execution_count": 6,
   "id": "a0255cb7",
   "metadata": {},
   "outputs": [
    {
     "name": "stdout",
     "output_type": "stream",
     "text": [
      "Standardisierung abgeschlossen: Neue Spalte 'quantity_MJ' verfügbar.\n"
     ]
    }
   ],
   "source": [
    "\n",
    "\n",
    "\n",
    "# Konvertierungstabellen auf Megajoule (MJ)\n",
    "conversion_to_MJ = {\n",
    "    \"Metric tons,  thousand\": 42000,   # Rohöltypische Annahme\n",
    "    \"Terajoules\": 1000,\n",
    "    \"Kilowatt-hours, million\": 3600,\n",
    "    \"Cubic metres, thousand\": 38,\n",
    "    \"Kilowatts,  thousand\": np.nan  # Leistung, keine Energie\n",
    "}\n",
    "\n",
    "# Neue Spalte \"quantity_MJ\" erzeugen\n",
    "df['quantity_MJ'] = df.apply(\n",
    "    lambda row: row['quantity'] * conversion_to_MJ.get(row['unit'], np.nan),\n",
    "    axis=1\n",
    ")\n",
    "\n",
    "# Nur Zeilen behalten, wo eine Umrechnung möglich war\n",
    "df = df[~df['quantity_MJ'].isna()]\n",
    "\n",
    "print(\"Standardisierung abgeschlossen: Neue Spalte 'quantity_MJ' verfügbar.\")\n"
   ]
  },
  {
   "cell_type": "markdown",
   "metadata": {},
   "source": [
    "\n",
    "# 4. Fragestellung 1: 🔮 Prognose Schweiz\n",
    "# \"Wie entwickelt sich der Energie-Mix der Schweiz über die Jahre?\""
   ]
  },
  {
   "cell_type": "code",
   "execution_count": 7,
   "metadata": {},
   "outputs": [
    {
     "data": {
      "image/png": "[encoded data removed]",
      "text/plain": [
       "<Figure size 1400x800 with 1 Axes>"
      ]
     },
     "metadata": {},
     "output_type": "display_data"
    }
   ],
   "source": [
    "\n",
    "\n",
    "# Fokus auf die Schweiz\n",
    "df_switzerland = df[df['country_or_area'] == 'Switzerland']\n",
    "\n",
    "# Gruppieren nach Jahr und Energieart\n",
    "pivot_switzerland = df_switzerland.pivot_table(\n",
    "    index='year',\n",
    "    columns='commodity',\n",
    "    values='quantity_MJ',\n",
    "    aggfunc='sum',\n",
    "    fill_value=0\n",
    ")\n",
    "\n",
    "# Entwicklung des Energie-Mixes über die Zeit plotten\n",
    "pivot_switzerland.plot(kind='line', figsize=(14, 8))\n",
    "plt.title('Energie-Mix Entwicklung in der Schweiz')\n",
    "plt.xlabel('Jahr')\n",
    "plt.ylabel('Menge (nach Einheit)')\n",
    "plt.legend(bbox_to_anchor=(1.05, 1), loc='upper left')\n",
    "plt.grid(True)\n",
    "plt.show()\n",
    "\n"
   ]
  },
  {
   "cell_type": "markdown",
   "metadata": {},
   "source": [
    "\n",
    "# 5. Fragestellung 2: 🌍 Vergleich \"Wie grün sind Länder?\"\n",
    "#    Länder auf Basis ihres Energie-Mixes bewerten\n"
   ]
  },
  {
   "cell_type": "code",
   "execution_count": 8,
   "metadata": {},
   "outputs": [
    {
     "name": "stdout",
     "output_type": "stream",
     "text": [
      "Liste der Energieträger (Commodities):\n",
      "- additives and oxygenates\n",
      "- animal waste\n",
      "- anthracite\n",
      "- aviation gasoline\n",
      "- bagasse\n",
      "- biodiesel\n",
      "- biogases\n",
      "- biogasoline\n",
      "- bitumen\n",
      "- black liquor\n",
      "- blast furnace gas\n",
      "- brown coal briquettes\n",
      "- brown coal\n",
      "- lignite brown coal\n",
      "- lignite brown coal- recoverable resources\n",
      "- charcoal\n",
      "- coal tar\n",
      "- coke oven gas\n",
      "- coking coal\n",
      "- conventional crude oil\n",
      "- crude petroleum\n",
      "- direct use of geothermal heat\n",
      "- direct use of solar thermal heat\n",
      "- ethane\n",
      "- falling water\n",
      "- fuel oil\n",
      "- fuelwood\n",
      "- gas coke\n",
      "- gas oil/ diesel oil\n",
      "- gas oil/ diesel oil \n",
      "- gasoline-type jet fuel\n",
      "- gasworks gas\n",
      "- electricity\n",
      "- coal\n",
      "- hard coal\n",
      "- hrad coal\n",
      "- from chemical sources\n",
      "- from combustible fuels\n",
      "- from electric boilers\n",
      "- from heat pumps\n",
      "- from other sources\n",
      "- geothermal\n",
      "- heat\n",
      "- heat production\n",
      "- nuclear\n",
      "- solar thermal\n",
      "- industrial waste\n",
      "- kerosene-type jet fuel\n",
      "- lignite\n",
      "- liquefied petroleum gas (lpg)\n",
      "- liquified petroleum gas (lpg)\n",
      "- lubricants\n",
      "- motor gasoline\n",
      "- municipal waste\n",
      "- municipal wastes\n",
      "- naphtha\n",
      "- natural gas (including lng)\n",
      "- natural gas liquids\n",
      "- of which: biodiesel\n",
      "- of which: biogasoline\n",
      "- oil shale\n",
      "- other bituminous coal\n",
      "- other hydrocarbons\n",
      "- other kerosene\n",
      "- other liquid biofuels\n",
      "- other oil products n.e.c.\n",
      "- other recovered gases\n",
      "- vegetal waste\n",
      "- paraffin waxes\n",
      "- patent fuel\n",
      "- peat\n",
      "- peat (for fuel use)\n",
      "- peat products\n",
      "- petroleum coke\n",
      "- feedstocks\n",
      "- refinery gas\n",
      "- sub-bituminous coal\n",
      "- from chemical heat\n",
      "- hydro\n",
      "- of which: pumped hydro\n",
      "- solar\n",
      "- solar photovoltaic\n",
      "- tide, wave and marine\n",
      "- wind\n",
      "- total refinery output\n",
      "- total refinery throughput\n",
      "- white spirit and special boiling point industrial spirits\n"
     ]
    }
   ],
   "source": [
    "# Alle einzigartigen Energieträger (Commodities) auflisten\n",
    "\n",
    "unique_commodities = df['commodity'].unique()\n",
    "\n",
    "print(\"Liste der Energieträger (Commodities):\")\n",
    "for commodity in unique_commodities:\n",
    "    print(\"-\", commodity)"
   ]
  },
  {
   "cell_type": "code",
   "execution_count": 9,
   "metadata": {},
   "outputs": [],
   "source": [
    "# Definieren der grünen Energieträger (basierend auf GPT-Labelling)\n",
    "green_commodities = [\n",
    "    'solar', 'solar photovoltaic', 'solar thermal', \n",
    "    'wind', 'hydro', 'falling water', \n",
    "    'geothermal', 'direct use of geothermal heat', 'direct use of solar thermal heat',\n",
    "    'tide, wave and marine',\n",
    "    'biodiesel', 'biogases', 'biogasoline',\n",
    "    'vegetal waste', 'animal waste', 'municipal waste', 'municipal wastes'\n",
    "]\n",
    "\n",
    "# Neue Spalte: True wenn Commodity in der Liste der grünen Energieträger\n",
    "df['is_green_energy'] = df['commodity'].str.lower().isin(green_commodities)"
   ]
  },
  {
   "cell_type": "markdown",
   "metadata": {},
   "source": [
    "# 1. Energieproduktion aggregieren nach Ländern basierend auf grüner Energie"
   ]
  },
  {
   "cell_type": "code",
   "execution_count": 10,
   "metadata": {},
   "outputs": [
    {
     "data": {
      "image/png": "[encoded data removed]",
      "text/plain": [
       "<Figure size 1000x600 with 1 Axes>"
      ]
     },
     "metadata": {},
     "output_type": "display_data"
    }
   ],
   "source": [
    "# Fokus auf Produktion\n",
    "df_production = df[df['transaction_type'] == 'production']\n",
    "\n",
    "# Gruppieren: Summe der produzierten Energie je Land und is_green_energy-Kategorie\n",
    "pivot_production = df_production.pivot_table(\n",
    "    index='country_or_area',\n",
    "    columns='is_green_energy',\n",
    "    values='quantity_MJ',\n",
    "    aggfunc='sum',\n",
    "    fill_value=0\n",
    ")\n",
    "\n",
    "# Spalten umbenennen für bessere Lesbarkeit\n",
    "pivot_production = pivot_production.rename(columns={True: 'green_energy_total', False: 'non_green_energy_total'})\n",
    "\n",
    "# Gesamte produzierte Energie (alle Energieträger zusammen)\n",
    "pivot_production['total_energy'] = pivot_production['green_energy_total'] + pivot_production['non_green_energy_total']\n",
    "\n",
    "# Anteil grüner Energie berechnen\n",
    "pivot_production['green_share'] = pivot_production['green_energy_total'] / pivot_production['total_energy']\n",
    "\n",
    "# ----------------------------------------\n",
    "# 2. Ergebnisse visualisieren\n",
    "# ----------------------------------------\n",
    "\n",
    "# Länder sortieren nach Anteil grüner Energie\n",
    "pivot_production_sorted = pivot_production.sort_values('green_share', ascending=False)\n",
    "\n",
    "# Plot: Top 10 Länder mit höchstem Anteil grüner Energie\n",
    "pivot_production_sorted['green_share'].head(10).plot(kind='barh', figsize=(10,6))\n",
    "plt.title('Top 10 Länder mit höchstem Anteil an grüner Energie')\n",
    "plt.xlabel('Anteil grüne Energie (%)')\n",
    "plt.grid(True)\n",
    "plt.show()"
   ]
  },
  {
   "cell_type": "markdown",
   "metadata": {},
   "source": [
    "# Data Discovery with Plotly"
   ]
  },
  {
   "cell_type": "code",
   "execution_count": 11,
   "metadata": {},
   "outputs": [],
   "source": [
    "import plotly.express as px\n"
   ]
  },
  {
   "cell_type": "markdown",
   "metadata": {},
   "source": [
    "# 1. Daten vorbereiten: Grüne Energie pro Land und Jahr\n"
   ]
  },
  {
   "cell_type": "code",
   "execution_count": 12,
   "metadata": {},
   "outputs": [],
   "source": [
    "# Fokus auf Produktionsdaten\n",
    "df_production = df[df['transaction_type'] == 'production']\n",
    "\n",
    "# Nur grüne Energieträger auswählen\n",
    "df_green = df_production[df_production['is_green_energy'] == True]\n",
    "\n",
    "# Aggregieren: Summe der grünen Energie je Jahr und Land\n",
    "df_green_year_country = df_green.groupby(['year', 'country_or_area'])['quantity'].sum().reset_index()\n"
   ]
  },
  {
   "cell_type": "markdown",
   "metadata": {},
   "source": [
    "# 2. Interaktive Visualisierung: Dropdown pro Jahr\n"
   ]
  },
  {
   "cell_type": "code",
   "execution_count": 13,
   "metadata": {},
   "outputs": [
    {
     "data": {
      "application/vnd.plotly.v1+json": {
       "config": {
        "plotlyServerURL": "https://plot.ly"
       },
       "data": [
        {
         "hovertemplate": "Land=%{y}<br>year=1990<br>Produzierte Menge (in MJ)=%{x}<extra></extra>",
         "legendgroup": "Austria",
         "marker": {
          "color": "#636efa",
          "pattern": {
           "shape": ""
          }
         },
         "name": "Austria",
         "orientation": "h",
         "showlegend": true,
         "textposition": "auto",
         "type": "bar",
         "x": {
          "bdata": "AAAAAFIJWEE=",
          "dtype": "f8"
         },
         "xaxis": "x",
         "y": [
          "Austria"
         ],
         "yaxis": "y"
        },
        {
         "hovertemplate": "Land=%{y}<br>year=1990<br>Produzierte Menge (in MJ)=%{x}<extra></extra>",
         "legendgroup": "Belgium",
         "marker": {
          "color": "#EF553B",
          "pattern": {
           "shape": ""
          }
         },
         "name": "Belgium",
         "orientation": "h",
         "showlegend": true,
         "textposition": "auto",
         "type": "bar",
         "x": {
          "bdata": "AAAAAH3zZkE=",
          "dtype": "f8"
         },
         "xaxis": "x",
         "y": [
          "Belgium"
         ],
         "yaxis": "y"
        },
        {
         "hovertemplate": "Land=%{y}<br>year=1990<br>Produzierte Menge (in MJ)=%{x}<extra></extra>",
         "legendgroup": "Denmark",
         "marker": {
          "color": "#00cc96",
          "pattern": {
           "shape": ""
          }
         },
         "name": "Denmark",
         "orientation": "h",
         "showlegend": true,
         "textposition": "auto",
         "type": "bar",
         "x": {
          "bdata": "AAAAAEocfEE=",
          "dtype": "f8"
         },
         "xaxis": "x",
         "y": [
          "Denmark"
         ],
         "yaxis": "y"
        },
        {
         "hovertemplate": "Land=%{y}<br>year=1990<br>Produzierte Menge (in MJ)=%{x}<extra></extra>",
         "legendgroup": "Finland",
         "marker": {
          "color": "#ab63fa",
          "pattern": {
           "shape": ""
          }
         },
         "name": "Finland",
         "orientation": "h",
         "showlegend": true,
         "textposition": "auto",
         "type": "bar",
         "x": {
          "bdata": "AAAAAI7tWkE=",
          "dtype": "f8"
         },
         "xaxis": "x",
         "y": [
          "Finland"
         ],
         "yaxis": "y"
        },
        {
         "hovertemplate": "Land=%{y}<br>year=1990<br>Produzierte Menge (in MJ)=%{x}<extra></extra>",
         "legendgroup": "France",
         "marker": {
          "color": "#FFA15A",
          "pattern": {
           "shape": ""
          }
         },
         "name": "France",
         "orientation": "h",
         "showlegend": true,
         "textposition": "auto",
         "type": "bar",
         "x": {
          "bdata": "AAAAgNAcikE=",
          "dtype": "f8"
         },
         "xaxis": "x",
         "y": [
          "France"
         ],
         "yaxis": "y"
        },
        {
         "hovertemplate": "Land=%{y}<br>year=1990<br>Produzierte Menge (in MJ)=%{x}<extra></extra>",
         "legendgroup": "Greece",
         "marker": {
          "color": "#19d3f3",
          "pattern": {
           "shape": ""
          }
         },
         "name": "Greece",
         "orientation": "h",
         "showlegend": true,
         "textposition": "auto",
         "type": "bar",
         "x": {
          "bdata": "AAAAAEBrTUE=",
          "dtype": "f8"
         },
         "xaxis": "x",
         "y": [
          "Greece"
         ],
         "yaxis": "y"
        },
        {
         "hovertemplate": "Land=%{y}<br>year=1990<br>Produzierte Menge (in MJ)=%{x}<extra></extra>",
         "legendgroup": "Hungary",
         "marker": {
          "color": "#FF6692",
          "pattern": {
           "shape": ""
          }
         },
         "name": "Hungary",
         "orientation": "h",
         "showlegend": true,
         "textposition": "auto",
         "type": "bar",
         "x": {
          "bdata": "AAAAAMHQY0E=",
          "dtype": "f8"
         },
         "xaxis": "x",
         "y": [
          "Hungary"
         ],
         "yaxis": "y"
        },
        {
         "hovertemplate": "Land=%{y}<br>year=1990<br>Produzierte Menge (in MJ)=%{x}<extra></extra>",
         "legendgroup": "Ireland",
         "marker": {
          "color": "#B6E880",
          "pattern": {
           "shape": ""
          }
         },
         "name": "Ireland",
         "orientation": "h",
         "showlegend": true,
         "textposition": "auto",
         "type": "bar",
         "x": {
          "bdata": "AAAAAIAx90A=",
          "dtype": "f8"
         },
         "xaxis": "x",
         "y": [
          "Ireland"
         ],
         "yaxis": "y"
        },
        {
         "hovertemplate": "Land=%{y}<br>year=1990<br>Produzierte Menge (in MJ)=%{x}<extra></extra>",
         "legendgroup": "Italy",
         "marker": {
          "color": "#FF97FF",
          "pattern": {
           "shape": ""
          }
         },
         "name": "Italy",
         "orientation": "h",
         "showlegend": true,
         "textposition": "auto",
         "type": "bar",
         "x": {
          "bdata": "AAAAADzLe0E=",
          "dtype": "f8"
         },
         "xaxis": "x",
         "y": [
          "Italy"
         ],
         "yaxis": "y"
        },
        {
         "hovertemplate": "Land=%{y}<br>year=1990<br>Produzierte Menge (in MJ)=%{x}<extra></extra>",
         "legendgroup": "Luxembourg",
         "marker": {
          "color": "#FECB52",
          "pattern": {
           "shape": ""
          }
         },
         "name": "Luxembourg",
         "orientation": "h",
         "showlegend": true,
         "textposition": "auto",
         "type": "bar",
         "x": {
          "bdata": "AAAAACAdLUE=",
          "dtype": "f8"
         },
         "xaxis": "x",
         "y": [
          "Luxembourg"
         ],
         "yaxis": "y"
        },
        {
         "hovertemplate": "Land=%{y}<br>year=1990<br>Produzierte Menge (in MJ)=%{x}<extra></extra>",
         "legendgroup": "Netherlands",
         "marker": {
          "color": "#636efa",
          "pattern": {
           "shape": ""
          }
         },
         "name": "Netherlands",
         "orientation": "h",
         "showlegend": true,
         "textposition": "auto",
         "type": "bar",
         "x": {
          "bdata": "AAAAAKx3eEE=",
          "dtype": "f8"
         },
         "xaxis": "x",
         "y": [
          "Netherlands"
         ],
         "yaxis": "y"
        },
        {
         "hovertemplate": "Land=%{y}<br>year=1990<br>Produzierte Menge (in MJ)=%{x}<extra></extra>",
         "legendgroup": "Norway",
         "marker": {
          "color": "#EF553B",
          "pattern": {
           "shape": ""
          }
         },
         "name": "Norway",
         "orientation": "h",
         "showlegend": true,
         "textposition": "auto",
         "type": "bar",
         "x": {
          "bdata": "AAAAAC45UUE=",
          "dtype": "f8"
         },
         "xaxis": "x",
         "y": [
          "Norway"
         ],
         "yaxis": "y"
        },
        {
         "hovertemplate": "Land=%{y}<br>year=1990<br>Produzierte Menge (in MJ)=%{x}<extra></extra>",
         "legendgroup": "Poland",
         "marker": {
          "color": "#00cc96",
          "pattern": {
           "shape": ""
          }
         },
         "name": "Poland",
         "orientation": "h",
         "showlegend": true,
         "textposition": "auto",
         "type": "bar",
         "x": {
          "bdata": "AAAAAK8ajUE=",
          "dtype": "f8"
         },
         "xaxis": "x",
         "y": [
          "Poland"
         ],
         "yaxis": "y"
        },
        {
         "hovertemplate": "Land=%{y}<br>year=1990<br>Produzierte Menge (in MJ)=%{x}<extra></extra>",
         "legendgroup": "Portugal",
         "marker": {
          "color": "#ab63fa",
          "pattern": {
           "shape": ""
          }
         },
         "name": "Portugal",
         "orientation": "h",
         "showlegend": true,
         "textposition": "auto",
         "type": "bar",
         "x": {
          "bdata": "AAAAgFJtgEE=",
          "dtype": "f8"
         },
         "xaxis": "x",
         "y": [
          "Portugal"
         ],
         "yaxis": "y"
        },
        {
         "hovertemplate": "Land=%{y}<br>year=1990<br>Produzierte Menge (in MJ)=%{x}<extra></extra>",
         "legendgroup": "Spain",
         "marker": {
          "color": "#FFA15A",
          "pattern": {
           "shape": ""
          }
         },
         "name": "Spain",
         "orientation": "h",
         "showlegend": true,
         "textposition": "auto",
         "type": "bar",
         "x": {
          "bdata": "AAAAwFNgg0E=",
          "dtype": "f8"
         },
         "xaxis": "x",
         "y": [
          "Spain"
         ],
         "yaxis": "y"
        },
        {
         "hovertemplate": "Land=%{y}<br>year=1990<br>Produzierte Menge (in MJ)=%{x}<extra></extra>",
         "legendgroup": "Sweden",
         "marker": {
          "color": "#19d3f3",
          "pattern": {
           "shape": ""
          }
         },
         "name": "Sweden",
         "orientation": "h",
         "showlegend": true,
         "textposition": "auto",
         "type": "bar",
         "x": {
          "bdata": "AAAAAMkidEE=",
          "dtype": "f8"
         },
         "xaxis": "x",
         "y": [
          "Sweden"
         ],
         "yaxis": "y"
        },
        {
         "hovertemplate": "Land=%{y}<br>year=1990<br>Produzierte Menge (in MJ)=%{x}<extra></extra>",
         "legendgroup": "Switzerland",
         "marker": {
          "color": "#FF6692",
          "pattern": {
           "shape": ""
          }
         },
         "name": "Switzerland",
         "orientation": "h",
         "showlegend": true,
         "textposition": "auto",
         "type": "bar",
         "x": {
          "bdata": "AAAAgAyid0E=",
          "dtype": "f8"
         },
         "xaxis": "x",
         "y": [
          "Switzerland"
         ],
         "yaxis": "y"
        },
        {
         "hovertemplate": "Land=%{y}<br>year=1990<br>Produzierte Menge (in MJ)=%{x}<extra></extra>",
         "legendgroup": "United Kingdom",
         "marker": {
          "color": "#B6E880",
          "pattern": {
           "shape": ""
          }
         },
         "name": "United Kingdom",
         "orientation": "h",
         "showlegend": true,
         "textposition": "auto",
         "type": "bar",
         "x": {
          "bdata": "AAAAAHxbbkE=",
          "dtype": "f8"
         },
         "xaxis": "x",
         "y": [
          "United Kingdom"
         ],
         "yaxis": "y"
        }
       ],
       "frames": [
        {
         "data": [
          {
           "hovertemplate": "Land=%{y}<br>year=1990<br>Produzierte Menge (in MJ)=%{x}<extra></extra>",
           "legendgroup": "Austria",
           "marker": {
            "color": "#636efa",
            "pattern": {
             "shape": ""
            }
           },
           "name": "Austria",
           "orientation": "h",
           "showlegend": true,
           "textposition": "auto",
           "type": "bar",
           "x": {
            "bdata": "AAAAAFIJWEE=",
            "dtype": "f8"
           },
           "xaxis": "x",
           "y": [
            "Austria"
           ],
           "yaxis": "y"
          },
          {
           "hovertemplate": "Land=%{y}<br>year=1990<br>Produzierte Menge (in MJ)=%{x}<extra></extra>",
           "legendgroup": "Belgium",
           "marker": {
            "color": "#EF553B",
            "pattern": {
             "shape": ""
            }
           },
           "name": "Belgium",
           "orientation": "h",
           "showlegend": true,
           "textposition": "auto",
           "type": "bar",
           "x": {
            "bdata": "AAAAAH3zZkE=",
            "dtype": "f8"
           },
           "xaxis": "x",
           "y": [
            "Belgium"
           ],
           "yaxis": "y"
          },
          {
           "hovertemplate": "Land=%{y}<br>year=1990<br>Produzierte Menge (in MJ)=%{x}<extra></extra>",
           "legendgroup": "Denmark",
           "marker": {
            "color": "#00cc96",
            "pattern": {
             "shape": ""
            }
           },
           "name": "Denmark",
           "orientation": "h",
           "showlegend": true,
           "textposition": "auto",
           "type": "bar",
           "x": {
            "bdata": "AAAAAEocfEE=",
            "dtype": "f8"
           },
           "xaxis": "x",
           "y": [
            "Denmark"
           ],
           "yaxis": "y"
          },
          {
           "hovertemplate": "Land=%{y}<br>year=1990<br>Produzierte Menge (in MJ)=%{x}<extra></extra>",
           "legendgroup": "Finland",
           "marker": {
            "color": "#ab63fa",
            "pattern": {
             "shape": ""
            }
           },
           "name": "Finland",
           "orientation": "h",
           "showlegend": true,
           "textposition": "auto",
           "type": "bar",
           "x": {
            "bdata": "AAAAAI7tWkE=",
            "dtype": "f8"
           },
           "xaxis": "x",
           "y": [
            "Finland"
           ],
           "yaxis": "y"
          },
          {
           "hovertemplate": "Land=%{y}<br>year=1990<br>Produzierte Menge (in MJ)=%{x}<extra></extra>",
           "legendgroup": "France",
           "marker": {
            "color": "#FFA15A",
            "pattern": {
             "shape": ""
            }
           },
           "name": "France",
           "orientation": "h",
           "showlegend": true,
           "textposition": "auto",
           "type": "bar",
           "x": {
            "bdata": "AAAAgNAcikE=",
            "dtype": "f8"
           },
           "xaxis": "x",
           "y": [
            "France"
           ],
           "yaxis": "y"
          },
          {
           "hovertemplate": "Land=%{y}<br>year=1990<br>Produzierte Menge (in MJ)=%{x}<extra></extra>",
           "legendgroup": "Greece",
           "marker": {
            "color": "#19d3f3",
            "pattern": {
             "shape": ""
            }
           },
           "name": "Greece",
           "orientation": "h",
           "showlegend": true,
           "textposition": "auto",
           "type": "bar",
           "x": {
            "bdata": "AAAAAEBrTUE=",
            "dtype": "f8"
           },
           "xaxis": "x",
           "y": [
            "Greece"
           ],
           "yaxis": "y"
          },
          {
           "hovertemplate": "Land=%{y}<br>year=1990<br>Produzierte Menge (in MJ)=%{x}<extra></extra>",
           "legendgroup": "Hungary",
           "marker": {
            "color": "#FF6692",
            "pattern": {
             "shape": ""
            }
           },
           "name": "Hungary",
           "orientation": "h",
           "showlegend": true,
           "textposition": "auto",
           "type": "bar",
           "x": {
            "bdata": "AAAAAMHQY0E=",
            "dtype": "f8"
           },
           "xaxis": "x",
           "y": [
            "Hungary"
           ],
           "yaxis": "y"
          },
          {
           "hovertemplate": "Land=%{y}<br>year=1990<br>Produzierte Menge (in MJ)=%{x}<extra></extra>",
           "legendgroup": "Ireland",
           "marker": {
            "color": "#B6E880",
            "pattern": {
             "shape": ""
            }
           },
           "name": "Ireland",
           "orientation": "h",
           "showlegend": true,
           "textposition": "auto",
           "type": "bar",
           "x": {
            "bdata": "AAAAAIAx90A=",
            "dtype": "f8"
           },
           "xaxis": "x",
           "y": [
            "Ireland"
           ],
           "yaxis": "y"
          },
          {
           "hovertemplate": "Land=%{y}<br>year=1990<br>Produzierte Menge (in MJ)=%{x}<extra></extra>",
           "legendgroup": "Italy",
           "marker": {
            "color": "#FF97FF",
            "pattern": {
             "shape": ""
            }
           },
           "name": "Italy",
           "orientation": "h",
           "showlegend": true,
           "textposition": "auto",
           "type": "bar",
           "x": {
            "bdata": "AAAAADzLe0E=",
            "dtype": "f8"
           },
           "xaxis": "x",
           "y": [
            "Italy"
           ],
           "yaxis": "y"
          },
          {
           "hovertemplate": "Land=%{y}<br>year=1990<br>Produzierte Menge (in MJ)=%{x}<extra></extra>",
           "legendgroup": "Luxembourg",
           "marker": {
            "color": "#FECB52",
            "pattern": {
             "shape": ""
            }
           },
           "name": "Luxembourg",
           "orientation": "h",
           "showlegend": true,
           "textposition": "auto",
           "type": "bar",
           "x": {
            "bdata": "AAAAACAdLUE=",
            "dtype": "f8"
           },
           "xaxis": "x",
           "y": [
            "Luxembourg"
           ],
           "yaxis": "y"
          },
          {
           "hovertemplate": "Land=%{y}<br>year=1990<br>Produzierte Menge (in MJ)=%{x}<extra></extra>",
           "legendgroup": "Netherlands",
           "marker": {
            "color": "#636efa",
            "pattern": {
             "shape": ""
            }
           },
           "name": "Netherlands",
           "orientation": "h",
           "showlegend": true,
           "textposition": "auto",
           "type": "bar",
           "x": {
            "bdata": "AAAAAKx3eEE=",
            "dtype": "f8"
           },
           "xaxis": "x",
           "y": [
            "Netherlands"
           ],
           "yaxis": "y"
          },
          {
           "hovertemplate": "Land=%{y}<br>year=1990<br>Produzierte Menge (in MJ)=%{x}<extra></extra>",
           "legendgroup": "Norway",
           "marker": {
            "color": "#EF553B",
            "pattern": {
             "shape": ""
            }
           },
           "name": "Norway",
           "orientation": "h",
           "showlegend": true,
           "textposition": "auto",
           "type": "bar",
           "x": {
            "bdata": "AAAAAC45UUE=",
            "dtype": "f8"
           },
           "xaxis": "x",
           "y": [
            "Norway"
           ],
           "yaxis": "y"
          },
          {
           "hovertemplate": "Land=%{y}<br>year=1990<br>Produzierte Menge (in MJ)=%{x}<extra></extra>",
           "legendgroup": "Poland",
           "marker": {
            "color": "#00cc96",
            "pattern": {
             "shape": ""
            }
           },
           "name": "Poland",
           "orientation": "h",
           "showlegend": true,
           "textposition": "auto",
           "type": "bar",
           "x": {
            "bdata": "AAAAAK8ajUE=",
            "dtype": "f8"
           },
           "xaxis": "x",
           "y": [
            "Poland"
           ],
           "yaxis": "y"
          },
          {
           "hovertemplate": "Land=%{y}<br>year=1990<br>Produzierte Menge (in MJ)=%{x}<extra></extra>",
           "legendgroup": "Portugal",
           "marker": {
            "color": "#ab63fa",
            "pattern": {
             "shape": ""
            }
           },
           "name": "Portugal",
           "orientation": "h",
           "showlegend": true,
           "textposition": "auto",
           "type": "bar",
           "x": {
            "bdata": "AAAAgFJtgEE=",
            "dtype": "f8"
           },
           "xaxis": "x",
           "y": [
            "Portugal"
           ],
           "yaxis": "y"
          },
          {
           "hovertemplate": "Land=%{y}<br>year=1990<br>Produzierte Menge (in MJ)=%{x}<extra></extra>",
           "legendgroup": "Spain",
           "marker": {
            "color": "#FFA15A",
            "pattern": {
             "shape": ""
            }
           },
           "name": "Spain",
           "orientation": "h",
           "showlegend": true,
           "textposition": "auto",
           "type": "bar",
           "x": {
            "bdata": "AAAAwFNgg0E=",
            "dtype": "f8"
           },
           "xaxis": "x",
           "y": [
            "Spain"
           ],
           "yaxis": "y"
          },
          {
           "hovertemplate": "Land=%{y}<br>year=1990<br>Produzierte Menge (in MJ)=%{x}<extra></extra>",
           "legendgroup": "Sweden",
           "marker": {
            "color": "#19d3f3",
            "pattern": {
             "shape": ""
            }
           },
           "name": "Sweden",
           "orientation": "h",
           "showlegend": true,
           "textposition": "auto",
           "type": "bar",
           "x": {
            "bdata": "AAAAAMkidEE=",
            "dtype": "f8"
           },
           "xaxis": "x",
           "y": [
            "Sweden"
           ],
           "yaxis": "y"
          },
          {
           "hovertemplate": "Land=%{y}<br>year=1990<br>Produzierte Menge (in MJ)=%{x}<extra></extra>",
           "legendgroup": "Switzerland",
           "marker": {
            "color": "#FF6692",
            "pattern": {
             "shape": ""
            }
           },
           "name": "Switzerland",
           "orientation": "h",
           "showlegend": true,
           "textposition": "auto",
           "type": "bar",
           "x": {
            "bdata": "AAAAgAyid0E=",
            "dtype": "f8"
           },
           "xaxis": "x",
           "y": [
            "Switzerland"
           ],
           "yaxis": "y"
          },
          {
           "hovertemplate": "Land=%{y}<br>year=1990<br>Produzierte Menge (in MJ)=%{x}<extra></extra>",
           "legendgroup": "United Kingdom",
           "marker": {
            "color": "#B6E880",
            "pattern": {
             "shape": ""
            }
           },
           "name": "United Kingdom",
           "orientation": "h",
           "showlegend": true,
           "textposition": "auto",
           "type": "bar",
           "x": {
            "bdata": "AAAAAHxbbkE=",
            "dtype": "f8"
           },
           "xaxis": "x",
           "y": [
            "United Kingdom"
           ],
           "yaxis": "y"
          }
         ],
         "name": "1990"
        },
        {
         "data": [
          {
           "hovertemplate": "Land=%{y}<br>year=1991<br>Produzierte Menge (in MJ)=%{x}<extra></extra>",
           "legendgroup": "Austria",
           "marker": {
            "color": "#636efa",
            "pattern": {
             "shape": ""
            }
           },
           "name": "Austria",
           "orientation": "h",
           "showlegend": true,
           "textposition": "auto",
           "type": "bar",
           "x": {
            "bdata": "AAAAANbVXEE=",
            "dtype": "f8"
           },
           "xaxis": "x",
           "y": [
            "Austria"
           ],
           "yaxis": "y"
          },
          {
           "hovertemplate": "Land=%{y}<br>year=1991<br>Produzierte Menge (in MJ)=%{x}<extra></extra>",
           "legendgroup": "Belgium",
           "marker": {
            "color": "#EF553B",
            "pattern": {
             "shape": ""
            }
           },
           "name": "Belgium",
           "orientation": "h",
           "showlegend": true,
           "textposition": "auto",
           "type": "bar",
           "x": {
            "bdata": "AAAAALPkZ0E=",
            "dtype": "f8"
           },
           "xaxis": "x",
           "y": [
            "Belgium"
           ],
           "yaxis": "y"
          },
          {
           "hovertemplate": "Land=%{y}<br>year=1991<br>Produzierte Menge (in MJ)=%{x}<extra></extra>",
           "legendgroup": "Denmark",
           "marker": {
            "color": "#00cc96",
            "pattern": {
             "shape": ""
            }
           },
           "name": "Denmark",
           "orientation": "h",
           "showlegend": true,
           "textposition": "auto",
           "type": "bar",
           "x": {
            "bdata": "AAAAADw8fkE=",
            "dtype": "f8"
           },
           "xaxis": "x",
           "y": [
            "Denmark"
           ],
           "yaxis": "y"
          },
          {
           "hovertemplate": "Land=%{y}<br>year=1991<br>Produzierte Menge (in MJ)=%{x}<extra></extra>",
           "legendgroup": "Finland",
           "marker": {
            "color": "#ab63fa",
            "pattern": {
             "shape": ""
            }
           },
           "name": "Finland",
           "orientation": "h",
           "showlegend": true,
           "textposition": "auto",
           "type": "bar",
           "x": {
            "bdata": "AAAAANI1W0E=",
            "dtype": "f8"
           },
           "xaxis": "x",
           "y": [
            "Finland"
           ],
           "yaxis": "y"
          },
          {
           "hovertemplate": "Land=%{y}<br>year=1991<br>Produzierte Menge (in MJ)=%{x}<extra></extra>",
           "legendgroup": "France",
           "marker": {
            "color": "#FFA15A",
            "pattern": {
             "shape": ""
            }
           },
           "name": "France",
           "orientation": "h",
           "showlegend": true,
           "textposition": "auto",
           "type": "bar",
           "x": {
            "bdata": "AAAAABB5jEE=",
            "dtype": "f8"
           },
           "xaxis": "x",
           "y": [
            "France"
           ],
           "yaxis": "y"
          },
          {
           "hovertemplate": "Land=%{y}<br>year=1991<br>Produzierte Menge (in MJ)=%{x}<extra></extra>",
           "legendgroup": "Greece",
           "marker": {
            "color": "#19d3f3",
            "pattern": {
             "shape": ""
            }
           },
           "name": "Greece",
           "orientation": "h",
           "showlegend": true,
           "textposition": "auto",
           "type": "bar",
           "x": {
            "bdata": "AAAAAEBrTUE=",
            "dtype": "f8"
           },
           "xaxis": "x",
           "y": [
            "Greece"
           ],
           "yaxis": "y"
          },
          {
           "hovertemplate": "Land=%{y}<br>year=1991<br>Produzierte Menge (in MJ)=%{x}<extra></extra>",
           "legendgroup": "Hungary",
           "marker": {
            "color": "#FF6692",
            "pattern": {
             "shape": ""
            }
           },
           "name": "Hungary",
           "orientation": "h",
           "showlegend": true,
           "textposition": "auto",
           "type": "bar",
           "x": {
            "bdata": "AAAAAMCvbEE=",
            "dtype": "f8"
           },
           "xaxis": "x",
           "y": [
            "Hungary"
           ],
           "yaxis": "y"
          },
          {
           "hovertemplate": "Land=%{y}<br>year=1991<br>Produzierte Menge (in MJ)=%{x}<extra></extra>",
           "legendgroup": "Ireland",
           "marker": {
            "color": "#B6E880",
            "pattern": {
             "shape": ""
            }
           },
           "name": "Ireland",
           "orientation": "h",
           "showlegend": true,
           "textposition": "auto",
           "type": "bar",
           "x": {
            "bdata": "AAAAAIAN/UA=",
            "dtype": "f8"
           },
           "xaxis": "x",
           "y": [
            "Ireland"
           ],
           "yaxis": "y"
          },
          {
           "hovertemplate": "Land=%{y}<br>year=1991<br>Produzierte Menge (in MJ)=%{x}<extra></extra>",
           "legendgroup": "Italy",
           "marker": {
            "color": "#FF97FF",
            "pattern": {
             "shape": ""
            }
           },
           "name": "Italy",
           "orientation": "h",
           "showlegend": true,
           "textposition": "auto",
           "type": "bar",
           "x": {
            "bdata": "AAAAAAJwgEE=",
            "dtype": "f8"
           },
           "xaxis": "x",
           "y": [
            "Italy"
           ],
           "yaxis": "y"
          },
          {
           "hovertemplate": "Land=%{y}<br>year=1991<br>Produzierte Menge (in MJ)=%{x}<extra></extra>",
           "legendgroup": "Luxembourg",
           "marker": {
            "color": "#FECB52",
            "pattern": {
             "shape": ""
            }
           },
           "name": "Luxembourg",
           "orientation": "h",
           "showlegend": true,
           "textposition": "auto",
           "type": "bar",
           "x": {
            "bdata": "AAAAADDBLUE=",
            "dtype": "f8"
           },
           "xaxis": "x",
           "y": [
            "Luxembourg"
           ],
           "yaxis": "y"
          },
          {
           "hovertemplate": "Land=%{y}<br>year=1991<br>Produzierte Menge (in MJ)=%{x}<extra></extra>",
           "legendgroup": "Netherlands",
           "marker": {
            "color": "#636efa",
            "pattern": {
             "shape": ""
            }
           },
           "name": "Netherlands",
           "orientation": "h",
           "showlegend": true,
           "textposition": "auto",
           "type": "bar",
           "x": {
            "bdata": "AAAAAIu7eEE=",
            "dtype": "f8"
           },
           "xaxis": "x",
           "y": [
            "Netherlands"
           ],
           "yaxis": "y"
          },
          {
           "hovertemplate": "Land=%{y}<br>year=1991<br>Produzierte Menge (in MJ)=%{x}<extra></extra>",
           "legendgroup": "Norway",
           "marker": {
            "color": "#EF553B",
            "pattern": {
             "shape": ""
            }
           },
           "name": "Norway",
           "orientation": "h",
           "showlegend": true,
           "textposition": "auto",
           "type": "bar",
           "x": {
            "bdata": "AAAAANwQU0E=",
            "dtype": "f8"
           },
           "xaxis": "x",
           "y": [
            "Norway"
           ],
           "yaxis": "y"
          },
          {
           "hovertemplate": "Land=%{y}<br>year=1991<br>Produzierte Menge (in MJ)=%{x}<extra></extra>",
           "legendgroup": "Poland",
           "marker": {
            "color": "#00cc96",
            "pattern": {
             "shape": ""
            }
           },
           "name": "Poland",
           "orientation": "h",
           "showlegend": true,
           "textposition": "auto",
           "type": "bar",
           "x": {
            "bdata": "AAAAAMKdiEE=",
            "dtype": "f8"
           },
           "xaxis": "x",
           "y": [
            "Poland"
           ],
           "yaxis": "y"
          },
          {
           "hovertemplate": "Land=%{y}<br>year=1991<br>Produzierte Menge (in MJ)=%{x}<extra></extra>",
           "legendgroup": "Portugal",
           "marker": {
            "color": "#ab63fa",
            "pattern": {
             "shape": ""
            }
           },
           "name": "Portugal",
           "orientation": "h",
           "showlegend": true,
           "textposition": "auto",
           "type": "bar",
           "x": {
            "bdata": "AAAAgNYPfEE=",
            "dtype": "f8"
           },
           "xaxis": "x",
           "y": [
            "Portugal"
           ],
           "yaxis": "y"
          },
          {
           "hovertemplate": "Land=%{y}<br>year=1991<br>Produzierte Menge (in MJ)=%{x}<extra></extra>",
           "legendgroup": "Spain",
           "marker": {
            "color": "#FFA15A",
            "pattern": {
             "shape": ""
            }
           },
           "name": "Spain",
           "orientation": "h",
           "showlegend": true,
           "textposition": "auto",
           "type": "bar",
           "x": {
            "bdata": "AAAAQLQBhEE=",
            "dtype": "f8"
           },
           "xaxis": "x",
           "y": [
            "Spain"
           ],
           "yaxis": "y"
          },
          {
           "hovertemplate": "Land=%{y}<br>year=1991<br>Produzierte Menge (in MJ)=%{x}<extra></extra>",
           "legendgroup": "Sweden",
           "marker": {
            "color": "#19d3f3",
            "pattern": {
             "shape": ""
            }
           },
           "name": "Sweden",
           "orientation": "h",
           "showlegend": true,
           "textposition": "auto",
           "type": "bar",
           "x": {
            "bdata": "AAAAANvva0E=",
            "dtype": "f8"
           },
           "xaxis": "x",
           "y": [
            "Sweden"
           ],
           "yaxis": "y"
          },
          {
           "hovertemplate": "Land=%{y}<br>year=1991<br>Produzierte Menge (in MJ)=%{x}<extra></extra>",
           "legendgroup": "Switzerland",
           "marker": {
            "color": "#FF6692",
            "pattern": {
             "shape": ""
            }
           },
           "name": "Switzerland",
           "orientation": "h",
           "showlegend": true,
           "textposition": "auto",
           "type": "bar",
           "x": {
            "bdata": "AAAAAIs+eEE=",
            "dtype": "f8"
           },
           "xaxis": "x",
           "y": [
            "Switzerland"
           ],
           "yaxis": "y"
          },
          {
           "hovertemplate": "Land=%{y}<br>year=1991<br>Produzierte Menge (in MJ)=%{x}<extra></extra>",
           "legendgroup": "United Kingdom",
           "marker": {
            "color": "#B6E880",
            "pattern": {
             "shape": ""
            }
           },
           "name": "United Kingdom",
           "orientation": "h",
           "showlegend": true,
           "textposition": "auto",
           "type": "bar",
           "x": {
            "bdata": "AAAAAKaocEE=",
            "dtype": "f8"
           },
           "xaxis": "x",
           "y": [
            "United Kingdom"
           ],
           "yaxis": "y"
          },
          {
           "hovertemplate": "Land=%{y}<br>year=1991<br>Produzierte Menge (in MJ)=%{x}<extra></extra>",
           "legendgroup": "Germany",
           "marker": {
            "color": "#FF97FF",
            "pattern": {
             "shape": ""
            }
           },
           "name": "Germany",
           "orientation": "h",
           "showlegend": true,
           "textposition": "auto",
           "type": "bar",
           "x": {
            "bdata": "AAAAAH+ri0E=",
            "dtype": "f8"
           },
           "xaxis": "x",
           "y": [
            "Germany"
           ],
           "yaxis": "y"
          }
         ],
         "name": "1991"
        },
        {
         "data": [
          {
           "hovertemplate": "Land=%{y}<br>year=1992<br>Produzierte Menge (in MJ)=%{x}<extra></extra>",
           "legendgroup": "Austria",
           "marker": {
            "color": "#636efa",
            "pattern": {
             "shape": ""
            }
           },
           "name": "Austria",
           "orientation": "h",
           "showlegend": true,
           "textposition": "auto",
           "type": "bar",
           "x": {
            "bdata": "AAAAAGlKYEE=",
            "dtype": "f8"
           },
           "xaxis": "x",
           "y": [
            "Austria"
           ],
           "yaxis": "y"
          },
          {
           "hovertemplate": "Land=%{y}<br>year=1992<br>Produzierte Menge (in MJ)=%{x}<extra></extra>",
           "legendgroup": "Belgium",
           "marker": {
            "color": "#EF553B",
            "pattern": {
             "shape": ""
            }
           },
           "name": "Belgium",
           "orientation": "h",
           "showlegend": true,
           "textposition": "auto",
           "type": "bar",
           "x": {
            "bdata": "AAAAAHlBaEE=",
            "dtype": "f8"
           },
           "xaxis": "x",
           "y": [
            "Belgium"
           ],
           "yaxis": "y"
          },
          {
           "hovertemplate": "Land=%{y}<br>year=1992<br>Produzierte Menge (in MJ)=%{x}<extra></extra>",
           "legendgroup": "Denmark",
           "marker": {
            "color": "#00cc96",
            "pattern": {
             "shape": ""
            }
           },
           "name": "Denmark",
           "orientation": "h",
           "showlegend": true,
           "textposition": "auto",
           "type": "bar",
           "x": {
            "bdata": "AAAAAMTGf0E=",
            "dtype": "f8"
           },
           "xaxis": "x",
           "y": [
            "Denmark"
           ],
           "yaxis": "y"
          },
          {
           "hovertemplate": "Land=%{y}<br>year=1992<br>Produzierte Menge (in MJ)=%{x}<extra></extra>",
           "legendgroup": "Finland",
           "marker": {
            "color": "#ab63fa",
            "pattern": {
             "shape": ""
            }
           },
           "name": "Finland",
           "orientation": "h",
           "showlegend": true,
           "textposition": "auto",
           "type": "bar",
           "x": {
            "bdata": "AAAAACrsVkE=",
            "dtype": "f8"
           },
           "xaxis": "x",
           "y": [
            "Finland"
           ],
           "yaxis": "y"
          },
          {
           "hovertemplate": "Land=%{y}<br>year=1992<br>Produzierte Menge (in MJ)=%{x}<extra></extra>",
           "legendgroup": "France",
           "marker": {
            "color": "#FFA15A",
            "pattern": {
             "shape": ""
            }
           },
           "name": "France",
           "orientation": "h",
           "showlegend": true,
           "textposition": "auto",
           "type": "bar",
           "x": {
            "bdata": "AAAAQBaSjEE=",
            "dtype": "f8"
           },
           "xaxis": "x",
           "y": [
            "France"
           ],
           "yaxis": "y"
          },
          {
           "hovertemplate": "Land=%{y}<br>year=1992<br>Produzierte Menge (in MJ)=%{x}<extra></extra>",
           "legendgroup": "Greece",
           "marker": {
            "color": "#19d3f3",
            "pattern": {
             "shape": ""
            }
           },
           "name": "Greece",
           "orientation": "h",
           "showlegend": true,
           "textposition": "auto",
           "type": "bar",
           "x": {
            "bdata": "AAAAANR8TUE=",
            "dtype": "f8"
           },
           "xaxis": "x",
           "y": [
            "Greece"
           ],
           "yaxis": "y"
          },
          {
           "hovertemplate": "Land=%{y}<br>year=1992<br>Produzierte Menge (in MJ)=%{x}<extra></extra>",
           "legendgroup": "Hungary",
           "marker": {
            "color": "#FF6692",
            "pattern": {
             "shape": ""
            }
           },
           "name": "Hungary",
           "orientation": "h",
           "showlegend": true,
           "textposition": "auto",
           "type": "bar",
           "x": {
            "bdata": "AAAAAGN6bUE=",
            "dtype": "f8"
           },
           "xaxis": "x",
           "y": [
            "Hungary"
           ],
           "yaxis": "y"
          },
          {
           "hovertemplate": "Land=%{y}<br>year=1992<br>Produzierte Menge (in MJ)=%{x}<extra></extra>",
           "legendgroup": "Ireland",
           "marker": {
            "color": "#B6E880",
            "pattern": {
             "shape": ""
            }
           },
           "name": "Ireland",
           "orientation": "h",
           "showlegend": true,
           "textposition": "auto",
           "type": "bar",
           "x": {
            "bdata": "AAAAAICQ/EA=",
            "dtype": "f8"
           },
           "xaxis": "x",
           "y": [
            "Ireland"
           ],
           "yaxis": "y"
          },
          {
           "hovertemplate": "Land=%{y}<br>year=1992<br>Produzierte Menge (in MJ)=%{x}<extra></extra>",
           "legendgroup": "Italy",
           "marker": {
            "color": "#FF97FF",
            "pattern": {
             "shape": ""
            }
           },
           "name": "Italy",
           "orientation": "h",
           "showlegend": true,
           "textposition": "auto",
           "type": "bar",
           "x": {
            "bdata": "AAAAwLF6g0E=",
            "dtype": "f8"
           },
           "xaxis": "x",
           "y": [
            "Italy"
           ],
           "yaxis": "y"
          },
          {
           "hovertemplate": "Land=%{y}<br>year=1992<br>Produzierte Menge (in MJ)=%{x}<extra></extra>",
           "legendgroup": "Luxembourg",
           "marker": {
            "color": "#FECB52",
            "pattern": {
             "shape": ""
            }
           },
           "name": "Luxembourg",
           "orientation": "h",
           "showlegend": true,
           "textposition": "auto",
           "type": "bar",
           "x": {
            "bdata": "AAAAAEDiLkE=",
            "dtype": "f8"
           },
           "xaxis": "x",
           "y": [
            "Luxembourg"
           ],
           "yaxis": "y"
          },
          {
           "hovertemplate": "Land=%{y}<br>year=1992<br>Produzierte Menge (in MJ)=%{x}<extra></extra>",
           "legendgroup": "Netherlands",
           "marker": {
            "color": "#636efa",
            "pattern": {
             "shape": ""
            }
           },
           "name": "Netherlands",
           "orientation": "h",
           "showlegend": true,
           "textposition": "auto",
           "type": "bar",
           "x": {
            "bdata": "AAAAAENEeUE=",
            "dtype": "f8"
           },
           "xaxis": "x",
           "y": [
            "Netherlands"
           ],
           "yaxis": "y"
          },
          {
           "hovertemplate": "Land=%{y}<br>year=1992<br>Produzierte Menge (in MJ)=%{x}<extra></extra>",
           "legendgroup": "Norway",
           "marker": {
            "color": "#EF553B",
            "pattern": {
             "shape": ""
            }
           },
           "name": "Norway",
           "orientation": "h",
           "showlegend": true,
           "textposition": "auto",
           "type": "bar",
           "x": {
            "bdata": "AAAAAPbuUEE=",
            "dtype": "f8"
           },
           "xaxis": "x",
           "y": [
            "Norway"
           ],
           "yaxis": "y"
          },
          {
           "hovertemplate": "Land=%{y}<br>year=1992<br>Produzierte Menge (in MJ)=%{x}<extra></extra>",
           "legendgroup": "Poland",
           "marker": {
            "color": "#00cc96",
            "pattern": {
             "shape": ""
            }
           },
           "name": "Poland",
           "orientation": "h",
           "showlegend": true,
           "textposition": "auto",
           "type": "bar",
           "x": {
            "bdata": "AAAAQAJIi0E=",
            "dtype": "f8"
           },
           "xaxis": "x",
           "y": [
            "Poland"
           ],
           "yaxis": "y"
          },
          {
           "hovertemplate": "Land=%{y}<br>year=1992<br>Produzierte Menge (in MJ)=%{x}<extra></extra>",
           "legendgroup": "Portugal",
           "marker": {
            "color": "#ab63fa",
            "pattern": {
             "shape": ""
            }
           },
           "name": "Portugal",
           "orientation": "h",
           "showlegend": true,
           "textposition": "auto",
           "type": "bar",
           "x": {
            "bdata": "AAAAgG3ueUE=",
            "dtype": "f8"
           },
           "xaxis": "x",
           "y": [
            "Portugal"
           ],
           "yaxis": "y"
          },
          {
           "hovertemplate": "Land=%{y}<br>year=1992<br>Produzierte Menge (in MJ)=%{x}<extra></extra>",
           "legendgroup": "Spain",
           "marker": {
            "color": "#FFA15A",
            "pattern": {
             "shape": ""
            }
           },
           "name": "Spain",
           "orientation": "h",
           "showlegend": true,
           "textposition": "auto",
           "type": "bar",
           "x": {
            "bdata": "AAAAgOoShEE=",
            "dtype": "f8"
           },
           "xaxis": "x",
           "y": [
            "Spain"
           ],
           "yaxis": "y"
          },
          {
           "hovertemplate": "Land=%{y}<br>year=1992<br>Produzierte Menge (in MJ)=%{x}<extra></extra>",
           "legendgroup": "Sweden",
           "marker": {
            "color": "#19d3f3",
            "pattern": {
             "shape": ""
            }
           },
           "name": "Sweden",
           "orientation": "h",
           "showlegend": true,
           "textposition": "auto",
           "type": "bar",
           "x": {
            "bdata": "AAAAABy5cUE=",
            "dtype": "f8"
           },
           "xaxis": "x",
           "y": [
            "Sweden"
           ],
           "yaxis": "y"
          },
          {
           "hovertemplate": "Land=%{y}<br>year=1992<br>Produzierte Menge (in MJ)=%{x}<extra></extra>",
           "legendgroup": "Switzerland",
           "marker": {
            "color": "#FF6692",
            "pattern": {
             "shape": ""
            }
           },
           "name": "Switzerland",
           "orientation": "h",
           "showlegend": true,
           "textposition": "auto",
           "type": "bar",
           "x": {
            "bdata": "AAAAAFnzd0E=",
            "dtype": "f8"
           },
           "xaxis": "x",
           "y": [
            "Switzerland"
           ],
           "yaxis": "y"
          },
          {
           "hovertemplate": "Land=%{y}<br>year=1992<br>Produzierte Menge (in MJ)=%{x}<extra></extra>",
           "legendgroup": "United Kingdom",
           "marker": {
            "color": "#B6E880",
            "pattern": {
             "shape": ""
            }
           },
           "name": "United Kingdom",
           "orientation": "h",
           "showlegend": true,
           "textposition": "auto",
           "type": "bar",
           "x": {
            "bdata": "AAAAAIibc0E=",
            "dtype": "f8"
           },
           "xaxis": "x",
           "y": [
            "United Kingdom"
           ],
           "yaxis": "y"
          },
          {
           "hovertemplate": "Land=%{y}<br>year=1992<br>Produzierte Menge (in MJ)=%{x}<extra></extra>",
           "legendgroup": "Germany",
           "marker": {
            "color": "#FF97FF",
            "pattern": {
             "shape": ""
            }
           },
           "name": "Germany",
           "orientation": "h",
           "showlegend": true,
           "textposition": "auto",
           "type": "bar",
           "x": {
            "bdata": "AAAAgMzni0E=",
            "dtype": "f8"
           },
           "xaxis": "x",
           "y": [
            "Germany"
           ],
           "yaxis": "y"
          },
          {
           "hovertemplate": "Land=%{y}<br>year=1992<br>Produzierte Menge (in MJ)=%{x}<extra></extra>",
           "legendgroup": "Belarus",
           "marker": {
            "color": "#FECB52",
            "pattern": {
             "shape": ""
            }
           },
           "name": "Belarus",
           "orientation": "h",
           "showlegend": true,
           "textposition": "auto",
           "type": "bar",
           "x": {
            "bdata": "AAAAAAAAAAA=",
            "dtype": "f8"
           },
           "xaxis": "x",
           "y": [
            "Belarus"
           ],
           "yaxis": "y"
          },
          {
           "hovertemplate": "Land=%{y}<br>year=1992<br>Produzierte Menge (in MJ)=%{x}<extra></extra>",
           "legendgroup": "Croatia",
           "marker": {
            "color": "#636efa",
            "pattern": {
             "shape": ""
            }
           },
           "name": "Croatia",
           "orientation": "h",
           "showlegend": true,
           "textposition": "auto",
           "type": "bar",
           "x": {
            "bdata": "AAAAAAAAAAA=",
            "dtype": "f8"
           },
           "xaxis": "x",
           "y": [
            "Croatia"
           ],
           "yaxis": "y"
          },
          {
           "hovertemplate": "Land=%{y}<br>year=1992<br>Produzierte Menge (in MJ)=%{x}<extra></extra>",
           "legendgroup": "Czech Republic",
           "marker": {
            "color": "#EF553B",
            "pattern": {
             "shape": ""
            }
           },
           "name": "Czech Republic",
           "orientation": "h",
           "showlegend": true,
           "textposition": "auto",
           "type": "bar",
           "x": {
            "bdata": "AAAAAADD/kA=",
            "dtype": "f8"
           },
           "xaxis": "x",
           "y": [
            "Czech Republic"
           ],
           "yaxis": "y"
          },
          {
           "hovertemplate": "Land=%{y}<br>year=1992<br>Produzierte Menge (in MJ)=%{x}<extra></extra>",
           "legendgroup": "Estonia",
           "marker": {
            "color": "#00cc96",
            "pattern": {
             "shape": ""
            }
           },
           "name": "Estonia",
           "orientation": "h",
           "showlegend": true,
           "textposition": "auto",
           "type": "bar",
           "x": {
            "bdata": "AAAAANhwMUE=",
            "dtype": "f8"
           },
           "xaxis": "x",
           "y": [
            "Estonia"
           ],
           "yaxis": "y"
          },
          {
           "hovertemplate": "Land=%{y}<br>year=1992<br>Produzierte Menge (in MJ)=%{x}<extra></extra>",
           "legendgroup": "Latvia",
           "marker": {
            "color": "#ab63fa",
            "pattern": {
             "shape": ""
            }
           },
           "name": "Latvia",
           "orientation": "h",
           "showlegend": true,
           "textposition": "auto",
           "type": "bar",
           "x": {
            "bdata": "AAAAAAAAAAA=",
            "dtype": "f8"
           },
           "xaxis": "x",
           "y": [
            "Latvia"
           ],
           "yaxis": "y"
          },
          {
           "hovertemplate": "Land=%{y}<br>year=1992<br>Produzierte Menge (in MJ)=%{x}<extra></extra>",
           "legendgroup": "Lithuania",
           "marker": {
            "color": "#FFA15A",
            "pattern": {
             "shape": ""
            }
           },
           "name": "Lithuania",
           "orientation": "h",
           "showlegend": true,
           "textposition": "auto",
           "type": "bar",
           "x": {
            "bdata": "AAAAACg0UkE=",
            "dtype": "f8"
           },
           "xaxis": "x",
           "y": [
            "Lithuania"
           ],
           "yaxis": "y"
          },
          {
           "hovertemplate": "Land=%{y}<br>year=1992<br>Produzierte Menge (in MJ)=%{x}<extra></extra>",
           "legendgroup": "Romania",
           "marker": {
            "color": "#19d3f3",
            "pattern": {
             "shape": ""
            }
           },
           "name": "Romania",
           "orientation": "h",
           "showlegend": true,
           "textposition": "auto",
           "type": "bar",
           "x": {
            "bdata": "AAAAALRwYkE=",
            "dtype": "f8"
           },
           "xaxis": "x",
           "y": [
            "Romania"
           ],
           "yaxis": "y"
          }
         ],
         "name": "1992"
        },
        {
         "data": [
          {
           "hovertemplate": "Land=%{y}<br>year=1993<br>Produzierte Menge (in MJ)=%{x}<extra></extra>",
           "legendgroup": "Austria",
           "marker": {
            "color": "#636efa",
            "pattern": {
             "shape": ""
            }
           },
           "name": "Austria",
           "orientation": "h",
           "showlegend": true,
           "textposition": "auto",
           "type": "bar",
           "x": {
            "bdata": "AAAAAEsfaEE=",
            "dtype": "f8"
           },
           "xaxis": "x",
           "y": [
            "Austria"
           ],
           "yaxis": "y"
          },
          {
           "hovertemplate": "Land=%{y}<br>year=1993<br>Produzierte Menge (in MJ)=%{x}<extra></extra>",
           "legendgroup": "Belgium",
           "marker": {
            "color": "#EF553B",
            "pattern": {
             "shape": ""
            }
           },
           "name": "Belgium",
           "orientation": "h",
           "showlegend": true,
           "textposition": "auto",
           "type": "bar",
           "x": {
            "bdata": "AAAAAI9haUE=",
            "dtype": "f8"
           },
           "xaxis": "x",
           "y": [
            "Belgium"
           ],
           "yaxis": "y"
          },
          {
           "hovertemplate": "Land=%{y}<br>year=1993<br>Produzierte Menge (in MJ)=%{x}<extra></extra>",
           "legendgroup": "Denmark",
           "marker": {
            "color": "#00cc96",
            "pattern": {
             "shape": ""
            }
           },
           "name": "Denmark",
           "orientation": "h",
           "showlegend": true,
           "textposition": "auto",
           "type": "bar",
           "x": {
            "bdata": "AAAAAPuFgEE=",
            "dtype": "f8"
           },
           "xaxis": "x",
           "y": [
            "Denmark"
           ],
           "yaxis": "y"
          },
          {
           "hovertemplate": "Land=%{y}<br>year=1993<br>Produzierte Menge (in MJ)=%{x}<extra></extra>",
           "legendgroup": "Finland",
           "marker": {
            "color": "#ab63fa",
            "pattern": {
             "shape": ""
            }
           },
           "name": "Finland",
           "orientation": "h",
           "showlegend": true,
           "textposition": "auto",
           "type": "bar",
           "x": {
            "bdata": "AAAAAIJsW0E=",
            "dtype": "f8"
           },
           "xaxis": "x",
           "y": [
            "Finland"
           ],
           "yaxis": "y"
          },
          {
           "hovertemplate": "Land=%{y}<br>year=1993<br>Produzierte Menge (in MJ)=%{x}<extra></extra>",
           "legendgroup": "France",
           "marker": {
            "color": "#FFA15A",
            "pattern": {
             "shape": ""
            }
           },
           "name": "France",
           "orientation": "h",
           "showlegend": true,
           "textposition": "auto",
           "type": "bar",
           "x": {
            "bdata": "AAAAANVnjUE=",
            "dtype": "f8"
           },
           "xaxis": "x",
           "y": [
            "France"
           ],
           "yaxis": "y"
          },
          {
           "hovertemplate": "Land=%{y}<br>year=1993<br>Produzierte Menge (in MJ)=%{x}<extra></extra>",
           "legendgroup": "Greece",
           "marker": {
            "color": "#19d3f3",
            "pattern": {
             "shape": ""
            }
           },
           "name": "Greece",
           "orientation": "h",
           "showlegend": true,
           "textposition": "auto",
           "type": "bar",
           "x": {
            "bdata": "AAAAALyATUE=",
            "dtype": "f8"
           },
           "xaxis": "x",
           "y": [
            "Greece"
           ],
           "yaxis": "y"
          },
          {
           "hovertemplate": "Land=%{y}<br>year=1993<br>Produzierte Menge (in MJ)=%{x}<extra></extra>",
           "legendgroup": "Hungary",
           "marker": {
            "color": "#FF6692",
            "pattern": {
             "shape": ""
            }
           },
           "name": "Hungary",
           "orientation": "h",
           "showlegend": true,
           "textposition": "auto",
           "type": "bar",
           "x": {
            "bdata": "AAAAADl7bkE=",
            "dtype": "f8"
           },
           "xaxis": "x",
           "y": [
            "Hungary"
           ],
           "yaxis": "y"
          },
          {
           "hovertemplate": "Land=%{y}<br>year=1993<br>Produzierte Menge (in MJ)=%{x}<extra></extra>",
           "legendgroup": "Ireland",
           "marker": {
            "color": "#B6E880",
            "pattern": {
             "shape": ""
            }
           },
           "name": "Ireland",
           "orientation": "h",
           "showlegend": true,
           "textposition": "auto",
           "type": "bar",
           "x": {
            "bdata": "AAAAAACOAkE=",
            "dtype": "f8"
           },
           "xaxis": "x",
           "y": [
            "Ireland"
           ],
           "yaxis": "y"
          },
          {
           "hovertemplate": "Land=%{y}<br>year=1993<br>Produzierte Menge (in MJ)=%{x}<extra></extra>",
           "legendgroup": "Italy",
           "marker": {
            "color": "#FF97FF",
            "pattern": {
             "shape": ""
            }
           },
           "name": "Italy",
           "orientation": "h",
           "showlegend": true,
           "textposition": "auto",
           "type": "bar",
           "x": {
            "bdata": "AAAAQBVmgkE=",
            "dtype": "f8"
           },
           "xaxis": "x",
           "y": [
            "Italy"
           ],
           "yaxis": "y"
          },
          {
           "hovertemplate": "Land=%{y}<br>year=1993<br>Produzierte Menge (in MJ)=%{x}<extra></extra>",
           "legendgroup": "Luxembourg",
           "marker": {
            "color": "#FECB52",
            "pattern": {
             "shape": ""
            }
           },
           "name": "Luxembourg",
           "orientation": "h",
           "showlegend": true,
           "textposition": "auto",
           "type": "bar",
           "x": {
            "bdata": "AAAAAEBrLUE=",
            "dtype": "f8"
           },
           "xaxis": "x",
           "y": [
            "Luxembourg"
           ],
           "yaxis": "y"
          },
          {
           "hovertemplate": "Land=%{y}<br>year=1993<br>Produzierte Menge (in MJ)=%{x}<extra></extra>",
           "legendgroup": "Netherlands",
           "marker": {
            "color": "#636efa",
            "pattern": {
             "shape": ""
            }
           },
           "name": "Netherlands",
           "orientation": "h",
           "showlegend": true,
           "textposition": "auto",
           "type": "bar",
           "x": {
            "bdata": "AAAAgO/wfEE=",
            "dtype": "f8"
           },
           "xaxis": "x",
           "y": [
            "Netherlands"
           ],
           "yaxis": "y"
          },
          {
           "hovertemplate": "Land=%{y}<br>year=1993<br>Produzierte Menge (in MJ)=%{x}<extra></extra>",
           "legendgroup": "Norway",
           "marker": {
            "color": "#EF553B",
            "pattern": {
             "shape": ""
            }
           },
           "name": "Norway",
           "orientation": "h",
           "showlegend": true,
           "textposition": "auto",
           "type": "bar",
           "x": {
            "bdata": "AAAAAOa7UkE=",
            "dtype": "f8"
           },
           "xaxis": "x",
           "y": [
            "Norway"
           ],
           "yaxis": "y"
          },
          {
           "hovertemplate": "Land=%{y}<br>year=1993<br>Produzierte Menge (in MJ)=%{x}<extra></extra>",
           "legendgroup": "Poland",
           "marker": {
            "color": "#00cc96",
            "pattern": {
             "shape": ""
            }
           },
           "name": "Poland",
           "orientation": "h",
           "showlegend": true,
           "textposition": "auto",
           "type": "bar",
           "x": {
            "bdata": "AAAAgK8BdUE=",
            "dtype": "f8"
           },
           "xaxis": "x",
           "y": [
            "Poland"
           ],
           "yaxis": "y"
          },
          {
           "hovertemplate": "Land=%{y}<br>year=1993<br>Produzierte Menge (in MJ)=%{x}<extra></extra>",
           "legendgroup": "Portugal",
           "marker": {
            "color": "#ab63fa",
            "pattern": {
             "shape": ""
            }
           },
           "name": "Portugal",
           "orientation": "h",
           "showlegend": true,
           "textposition": "auto",
           "type": "bar",
           "x": {
            "bdata": "AAAAAGrzekE=",
            "dtype": "f8"
           },
           "xaxis": "x",
           "y": [
            "Portugal"
           ],
           "yaxis": "y"
          },
          {
           "hovertemplate": "Land=%{y}<br>year=1993<br>Produzierte Menge (in MJ)=%{x}<extra></extra>",
           "legendgroup": "Spain",
           "marker": {
            "color": "#FFA15A",
            "pattern": {
             "shape": ""
            }
           },
           "name": "Spain",
           "orientation": "h",
           "showlegend": true,
           "textposition": "auto",
           "type": "bar",
           "x": {
            "bdata": "AAAAAKYThEE=",
            "dtype": "f8"
           },
           "xaxis": "x",
           "y": [
            "Spain"
           ],
           "yaxis": "y"
          },
          {
           "hovertemplate": "Land=%{y}<br>year=1993<br>Produzierte Menge (in MJ)=%{x}<extra></extra>",
           "legendgroup": "Sweden",
           "marker": {
            "color": "#19d3f3",
            "pattern": {
             "shape": ""
            }
           },
           "name": "Sweden",
           "orientation": "h",
           "showlegend": true,
           "textposition": "auto",
           "type": "bar",
           "x": {
            "bdata": "AAAAAByzckE=",
            "dtype": "f8"
           },
           "xaxis": "x",
           "y": [
            "Sweden"
           ],
           "yaxis": "y"
          },
          {
           "hovertemplate": "Land=%{y}<br>year=1993<br>Produzierte Menge (in MJ)=%{x}<extra></extra>",
           "legendgroup": "Switzerland",
           "marker": {
            "color": "#FF6692",
            "pattern": {
             "shape": ""
            }
           },
           "name": "Switzerland",
           "orientation": "h",
           "showlegend": true,
           "textposition": "auto",
           "type": "bar",
           "x": {
            "bdata": "AAAAgFSQeEE=",
            "dtype": "f8"
           },
           "xaxis": "x",
           "y": [
            "Switzerland"
           ],
           "yaxis": "y"
          },
          {
           "hovertemplate": "Land=%{y}<br>year=1993<br>Produzierte Menge (in MJ)=%{x}<extra></extra>",
           "legendgroup": "United Kingdom",
           "marker": {
            "color": "#B6E880",
            "pattern": {
             "shape": ""
            }
           },
           "name": "United Kingdom",
           "orientation": "h",
           "showlegend": true,
           "textposition": "auto",
           "type": "bar",
           "x": {
            "bdata": "AAAAAAHedkE=",
            "dtype": "f8"
           },
           "xaxis": "x",
           "y": [
            "United Kingdom"
           ],
           "yaxis": "y"
          },
          {
           "hovertemplate": "Land=%{y}<br>year=1993<br>Produzierte Menge (in MJ)=%{x}<extra></extra>",
           "legendgroup": "Germany",
           "marker": {
            "color": "#FF97FF",
            "pattern": {
             "shape": ""
            }
           },
           "name": "Germany",
           "orientation": "h",
           "showlegend": true,
           "textposition": "auto",
           "type": "bar",
           "x": {
            "bdata": "AAAAQOswjEE=",
            "dtype": "f8"
           },
           "xaxis": "x",
           "y": [
            "Germany"
           ],
           "yaxis": "y"
          },
          {
           "hovertemplate": "Land=%{y}<br>year=1993<br>Produzierte Menge (in MJ)=%{x}<extra></extra>",
           "legendgroup": "Belarus",
           "marker": {
            "color": "#FECB52",
            "pattern": {
             "shape": ""
            }
           },
           "name": "Belarus",
           "orientation": "h",
           "showlegend": true,
           "textposition": "auto",
           "type": "bar",
           "x": {
            "bdata": "AAAAAAAAAAA=",
            "dtype": "f8"
           },
           "xaxis": "x",
           "y": [
            "Belarus"
           ],
           "yaxis": "y"
          },
          {
           "hovertemplate": "Land=%{y}<br>year=1993<br>Produzierte Menge (in MJ)=%{x}<extra></extra>",
           "legendgroup": "Croatia",
           "marker": {
            "color": "#636efa",
            "pattern": {
             "shape": ""
            }
           },
           "name": "Croatia",
           "orientation": "h",
           "showlegend": true,
           "textposition": "auto",
           "type": "bar",
           "x": {
            "bdata": "AAAAAAAAAAA=",
            "dtype": "f8"
           },
           "xaxis": "x",
           "y": [
            "Croatia"
           ],
           "yaxis": "y"
          },
          {
           "hovertemplate": "Land=%{y}<br>year=1993<br>Produzierte Menge (in MJ)=%{x}<extra></extra>",
           "legendgroup": "Czech Republic",
           "marker": {
            "color": "#EF553B",
            "pattern": {
             "shape": ""
            }
           },
           "name": "Czech Republic",
           "orientation": "h",
           "showlegend": true,
           "textposition": "auto",
           "type": "bar",
           "x": {
            "bdata": "AAAAAJQuQEE=",
            "dtype": "f8"
           },
           "xaxis": "x",
           "y": [
            "Czech Republic"
           ],
           "yaxis": "y"
          },
          {
           "hovertemplate": "Land=%{y}<br>year=1993<br>Produzierte Menge (in MJ)=%{x}<extra></extra>",
           "legendgroup": "Latvia",
           "marker": {
            "color": "#ab63fa",
            "pattern": {
             "shape": ""
            }
           },
           "name": "Latvia",
           "orientation": "h",
           "showlegend": true,
           "textposition": "auto",
           "type": "bar",
           "x": {
            "bdata": "AAAAAABMLUE=",
            "dtype": "f8"
           },
           "xaxis": "x",
           "y": [
            "Latvia"
           ],
           "yaxis": "y"
          },
          {
           "hovertemplate": "Land=%{y}<br>year=1993<br>Produzierte Menge (in MJ)=%{x}<extra></extra>",
           "legendgroup": "Lithuania",
           "marker": {
            "color": "#FFA15A",
            "pattern": {
             "shape": ""
            }
           },
           "name": "Lithuania",
           "orientation": "h",
           "showlegend": true,
           "textposition": "auto",
           "type": "bar",
           "x": {
            "bdata": "AAAAAKZmW0E=",
            "dtype": "f8"
           },
           "xaxis": "x",
           "y": [
            "Lithuania"
           ],
           "yaxis": "y"
          },
          {
           "hovertemplate": "Land=%{y}<br>year=1993<br>Produzierte Menge (in MJ)=%{x}<extra></extra>",
           "legendgroup": "Romania",
           "marker": {
            "color": "#19d3f3",
            "pattern": {
             "shape": ""
            }
           },
           "name": "Romania",
           "orientation": "h",
           "showlegend": true,
           "textposition": "auto",
           "type": "bar",
           "x": {
            "bdata": "AAAAAAAAAAA=",
            "dtype": "f8"
           },
           "xaxis": "x",
           "y": [
            "Romania"
           ],
           "yaxis": "y"
          },
          {
           "hovertemplate": "Land=%{y}<br>year=1993<br>Produzierte Menge (in MJ)=%{x}<extra></extra>",
           "legendgroup": "Iceland",
           "marker": {
            "color": "#FF6692",
            "pattern": {
             "shape": ""
            }
           },
           "name": "Iceland",
           "orientation": "h",
           "showlegend": true,
           "textposition": "auto",
           "type": "bar",
           "x": {
            "bdata": "AAAAAAD55UA=",
            "dtype": "f8"
           },
           "xaxis": "x",
           "y": [
            "Iceland"
           ],
           "yaxis": "y"
          }
         ],
         "name": "1993"
        },
        {
         "data": [
          {
           "hovertemplate": "Land=%{y}<br>year=1994<br>Produzierte Menge (in MJ)=%{x}<extra></extra>",
           "legendgroup": "Austria",
           "marker": {
            "color": "#636efa",
            "pattern": {
             "shape": ""
            }
           },
           "name": "Austria",
           "orientation": "h",
           "showlegend": true,
           "textposition": "auto",
           "type": "bar",
           "x": {
            "bdata": "AAAAAJezaUE=",
            "dtype": "f8"
           },
           "xaxis": "x",
           "y": [
            "Austria"
           ],
           "yaxis": "y"
          },
          {
           "hovertemplate": "Land=%{y}<br>year=1994<br>Produzierte Menge (in MJ)=%{x}<extra></extra>",
           "legendgroup": "Belgium",
           "marker": {
            "color": "#EF553B",
            "pattern": {
             "shape": ""
            }
           },
           "name": "Belgium",
           "orientation": "h",
           "showlegend": true,
           "textposition": "auto",
           "type": "bar",
           "x": {
            "bdata": "AAAAAASTaEE=",
            "dtype": "f8"
           },
           "xaxis": "x",
           "y": [
            "Belgium"
           ],
           "yaxis": "y"
          },
          {
           "hovertemplate": "Land=%{y}<br>year=1994<br>Produzierte Menge (in MJ)=%{x}<extra></extra>",
           "legendgroup": "Denmark",
           "marker": {
            "color": "#00cc96",
            "pattern": {
             "shape": ""
            }
           },
           "name": "Denmark",
           "orientation": "h",
           "showlegend": true,
           "textposition": "auto",
           "type": "bar",
           "x": {
            "bdata": "AAAAwNBygEE=",
            "dtype": "f8"
           },
           "xaxis": "x",
           "y": [
            "Denmark"
           ],
           "yaxis": "y"
          },
          {
           "hovertemplate": "Land=%{y}<br>year=1994<br>Produzierte Menge (in MJ)=%{x}<extra></extra>",
           "legendgroup": "Finland",
           "marker": {
            "color": "#ab63fa",
            "pattern": {
             "shape": ""
            }
           },
           "name": "Finland",
           "orientation": "h",
           "showlegend": true,
           "textposition": "auto",
           "type": "bar",
           "x": {
            "bdata": "AAAAAHhEW0E=",
            "dtype": "f8"
           },
           "xaxis": "x",
           "y": [
            "Finland"
           ],
           "yaxis": "y"
          },
          {
           "hovertemplate": "Land=%{y}<br>year=1994<br>Produzierte Menge (in MJ)=%{x}<extra></extra>",
           "legendgroup": "France",
           "marker": {
            "color": "#FFA15A",
            "pattern": {
             "shape": ""
            }
           },
           "name": "France",
           "orientation": "h",
           "showlegend": true,
           "textposition": "auto",
           "type": "bar",
           "x": {
            "bdata": "AAAAgN3njkE=",
            "dtype": "f8"
           },
           "xaxis": "x",
           "y": [
            "France"
           ],
           "yaxis": "y"
          },
          {
           "hovertemplate": "Land=%{y}<br>year=1994<br>Produzierte Menge (in MJ)=%{x}<extra></extra>",
           "legendgroup": "Greece",
           "marker": {
            "color": "#19d3f3",
            "pattern": {
             "shape": ""
            }
           },
           "name": "Greece",
           "orientation": "h",
           "showlegend": true,
           "textposition": "auto",
           "type": "bar",
           "x": {
            "bdata": "AAAAAKSETUE=",
            "dtype": "f8"
           },
           "xaxis": "x",
           "y": [
            "Greece"
           ],
           "yaxis": "y"
          },
          {
           "hovertemplate": "Land=%{y}<br>year=1994<br>Produzierte Menge (in MJ)=%{x}<extra></extra>",
           "legendgroup": "Hungary",
           "marker": {
            "color": "#FF6692",
            "pattern": {
             "shape": ""
            }
           },
           "name": "Hungary",
           "orientation": "h",
           "showlegend": true,
           "textposition": "auto",
           "type": "bar",
           "x": {
            "bdata": "AAAAAP5pb0E=",
            "dtype": "f8"
           },
           "xaxis": "x",
           "y": [
            "Hungary"
           ],
           "yaxis": "y"
          },
          {
           "hovertemplate": "Land=%{y}<br>year=1994<br>Produzierte Menge (in MJ)=%{x}<extra></extra>",
           "legendgroup": "Ireland",
           "marker": {
            "color": "#B6E880",
            "pattern": {
             "shape": ""
            }
           },
           "name": "Ireland",
           "orientation": "h",
           "showlegend": true,
           "textposition": "auto",
           "type": "bar",
           "x": {
            "bdata": "AAAAAABk+UA=",
            "dtype": "f8"
           },
           "xaxis": "x",
           "y": [
            "Ireland"
           ],
           "yaxis": "y"
          },
          {
           "hovertemplate": "Land=%{y}<br>year=1994<br>Produzierte Menge (in MJ)=%{x}<extra></extra>",
           "legendgroup": "Italy",
           "marker": {
            "color": "#FF97FF",
            "pattern": {
             "shape": ""
            }
           },
           "name": "Italy",
           "orientation": "h",
           "showlegend": true,
           "textposition": "auto",
           "type": "bar",
           "x": {
            "bdata": "AAAAgFWNhUE=",
            "dtype": "f8"
           },
           "xaxis": "x",
           "y": [
            "Italy"
           ],
           "yaxis": "y"
          },
          {
           "hovertemplate": "Land=%{y}<br>year=1994<br>Produzierte Menge (in MJ)=%{x}<extra></extra>",
           "legendgroup": "Luxembourg",
           "marker": {
            "color": "#FECB52",
            "pattern": {
             "shape": ""
            }
           },
           "name": "Luxembourg",
           "orientation": "h",
           "showlegend": true,
           "textposition": "auto",
           "type": "bar",
           "x": {
            "bdata": "AAAAADDHLEE=",
            "dtype": "f8"
           },
           "xaxis": "x",
           "y": [
            "Luxembourg"
           ],
           "yaxis": "y"
          },
          {
           "hovertemplate": "Land=%{y}<br>year=1994<br>Produzierte Menge (in MJ)=%{x}<extra></extra>",
           "legendgroup": "Netherlands",
           "marker": {
            "color": "#636efa",
            "pattern": {
             "shape": ""
            }
           },
           "name": "Netherlands",
           "orientation": "h",
           "showlegend": true,
           "textposition": "auto",
           "type": "bar",
           "x": {
            "bdata": "AAAAgKaUfEE=",
            "dtype": "f8"
           },
           "xaxis": "x",
           "y": [
            "Netherlands"
           ],
           "yaxis": "y"
          },
          {
           "hovertemplate": "Land=%{y}<br>year=1994<br>Produzierte Menge (in MJ)=%{x}<extra></extra>",
           "legendgroup": "Norway",
           "marker": {
            "color": "#EF553B",
            "pattern": {
             "shape": ""
            }
           },
           "name": "Norway",
           "orientation": "h",
           "showlegend": true,
           "textposition": "auto",
           "type": "bar",
           "x": {
            "bdata": "AAAAAPSJU0E=",
            "dtype": "f8"
           },
           "xaxis": "x",
           "y": [
            "Norway"
           ],
           "yaxis": "y"
          },
          {
           "hovertemplate": "Land=%{y}<br>year=1994<br>Produzierte Menge (in MJ)=%{x}<extra></extra>",
           "legendgroup": "Poland",
           "marker": {
            "color": "#00cc96",
            "pattern": {
             "shape": ""
            }
           },
           "name": "Poland",
           "orientation": "h",
           "showlegend": true,
           "textposition": "auto",
           "type": "bar",
           "x": {
            "bdata": "AAAAgAIbckE=",
            "dtype": "f8"
           },
           "xaxis": "x",
           "y": [
            "Poland"
           ],
           "yaxis": "y"
          },
          {
           "hovertemplate": "Land=%{y}<br>year=1994<br>Produzierte Menge (in MJ)=%{x}<extra></extra>",
           "legendgroup": "Portugal",
           "marker": {
            "color": "#ab63fa",
            "pattern": {
             "shape": ""
            }
           },
           "name": "Portugal",
           "orientation": "h",
           "showlegend": true,
           "textposition": "auto",
           "type": "bar",
           "x": {
            "bdata": "AAAAAJN+e0E=",
            "dtype": "f8"
           },
           "xaxis": "x",
           "y": [
            "Portugal"
           ],
           "yaxis": "y"
          },
          {
           "hovertemplate": "Land=%{y}<br>year=1994<br>Produzierte Menge (in MJ)=%{x}<extra></extra>",
           "legendgroup": "Spain",
           "marker": {
            "color": "#FFA15A",
            "pattern": {
             "shape": ""
            }
           },
           "name": "Spain",
           "orientation": "h",
           "showlegend": true,
           "textposition": "auto",
           "type": "bar",
           "x": {
            "bdata": "AAAAQCfUhEE=",
            "dtype": "f8"
           },
           "xaxis": "x",
           "y": [
            "Spain"
           ],
           "yaxis": "y"
          },
          {
           "hovertemplate": "Land=%{y}<br>year=1994<br>Produzierte Menge (in MJ)=%{x}<extra></extra>",
           "legendgroup": "Sweden",
           "marker": {
            "color": "#19d3f3",
            "pattern": {
             "shape": ""
            }
           },
           "name": "Sweden",
           "orientation": "h",
           "showlegend": true,
           "textposition": "auto",
           "type": "bar",
           "x": {
            "bdata": "AAAAgLomckE=",
            "dtype": "f8"
           },
           "xaxis": "x",
           "y": [
            "Sweden"
           ],
           "yaxis": "y"
          },
          {
           "hovertemplate": "Land=%{y}<br>year=1994<br>Produzierte Menge (in MJ)=%{x}<extra></extra>",
           "legendgroup": "Switzerland",
           "marker": {
            "color": "#FF6692",
            "pattern": {
             "shape": ""
            }
           },
           "name": "Switzerland",
           "orientation": "h",
           "showlegend": true,
           "textposition": "auto",
           "type": "bar",
           "x": {
            "bdata": "AAAAAHk1ekE=",
            "dtype": "f8"
           },
           "xaxis": "x",
           "y": [
            "Switzerland"
           ],
           "yaxis": "y"
          },
          {
           "hovertemplate": "Land=%{y}<br>year=1994<br>Produzierte Menge (in MJ)=%{x}<extra></extra>",
           "legendgroup": "United Kingdom",
           "marker": {
            "color": "#B6E880",
            "pattern": {
             "shape": ""
            }
           },
           "name": "United Kingdom",
           "orientation": "h",
           "showlegend": true,
           "textposition": "auto",
           "type": "bar",
           "x": {
            "bdata": "AAAAABxxfUE=",
            "dtype": "f8"
           },
           "xaxis": "x",
           "y": [
            "United Kingdom"
           ],
           "yaxis": "y"
          },
          {
           "hovertemplate": "Land=%{y}<br>year=1994<br>Produzierte Menge (in MJ)=%{x}<extra></extra>",
           "legendgroup": "Germany",
           "marker": {
            "color": "#FF97FF",
            "pattern": {
             "shape": ""
            }
           },
           "name": "Germany",
           "orientation": "h",
           "showlegend": true,
           "textposition": "auto",
           "type": "bar",
           "x": {
            "bdata": "AAAAAFYUjUE=",
            "dtype": "f8"
           },
           "xaxis": "x",
           "y": [
            "Germany"
           ],
           "yaxis": "y"
          },
          {
           "hovertemplate": "Land=%{y}<br>year=1994<br>Produzierte Menge (in MJ)=%{x}<extra></extra>",
           "legendgroup": "Belarus",
           "marker": {
            "color": "#FECB52",
            "pattern": {
             "shape": ""
            }
           },
           "name": "Belarus",
           "orientation": "h",
           "showlegend": true,
           "textposition": "auto",
           "type": "bar",
           "x": {
            "bdata": "AAAAAAAAAAA=",
            "dtype": "f8"
           },
           "xaxis": "x",
           "y": [
            "Belarus"
           ],
           "yaxis": "y"
          },
          {
           "hovertemplate": "Land=%{y}<br>year=1994<br>Produzierte Menge (in MJ)=%{x}<extra></extra>",
           "legendgroup": "Croatia",
           "marker": {
            "color": "#636efa",
            "pattern": {
             "shape": ""
            }
           },
           "name": "Croatia",
           "orientation": "h",
           "showlegend": true,
           "textposition": "auto",
           "type": "bar",
           "x": {
            "bdata": "AAAAAAAAAAA=",
            "dtype": "f8"
           },
           "xaxis": "x",
           "y": [
            "Croatia"
           ],
           "yaxis": "y"
          },
          {
           "hovertemplate": "Land=%{y}<br>year=1994<br>Produzierte Menge (in MJ)=%{x}<extra></extra>",
           "legendgroup": "Czech Republic",
           "marker": {
            "color": "#EF553B",
            "pattern": {
             "shape": ""
            }
           },
           "name": "Czech Republic",
           "orientation": "h",
           "showlegend": true,
           "textposition": "auto",
           "type": "bar",
           "x": {
            "bdata": "AAAAAMDxQUE=",
            "dtype": "f8"
           },
           "xaxis": "x",
           "y": [
            "Czech Republic"
           ],
           "yaxis": "y"
          },
          {
           "hovertemplate": "Land=%{y}<br>year=1994<br>Produzierte Menge (in MJ)=%{x}<extra></extra>",
           "legendgroup": "Estonia",
           "marker": {
            "color": "#00cc96",
            "pattern": {
             "shape": ""
            }
           },
           "name": "Estonia",
           "orientation": "h",
           "showlegend": true,
           "textposition": "auto",
           "type": "bar",
           "x": {
            "bdata": "AAAAAACI00A=",
            "dtype": "f8"
           },
           "xaxis": "x",
           "y": [
            "Estonia"
           ],
           "yaxis": "y"
          },
          {
           "hovertemplate": "Land=%{y}<br>year=1994<br>Produzierte Menge (in MJ)=%{x}<extra></extra>",
           "legendgroup": "Latvia",
           "marker": {
            "color": "#ab63fa",
            "pattern": {
             "shape": ""
            }
           },
           "name": "Latvia",
           "orientation": "h",
           "showlegend": true,
           "textposition": "auto",
           "type": "bar",
           "x": {
            "bdata": "AAAAABjFPUE=",
            "dtype": "f8"
           },
           "xaxis": "x",
           "y": [
            "Latvia"
           ],
           "yaxis": "y"
          },
          {
           "hovertemplate": "Land=%{y}<br>year=1994<br>Produzierte Menge (in MJ)=%{x}<extra></extra>",
           "legendgroup": "Lithuania",
           "marker": {
            "color": "#FFA15A",
            "pattern": {
             "shape": ""
            }
           },
           "name": "Lithuania",
           "orientation": "h",
           "showlegend": true,
           "textposition": "auto",
           "type": "bar",
           "x": {
            "bdata": "AAAAABz6W0E=",
            "dtype": "f8"
           },
           "xaxis": "x",
           "y": [
            "Lithuania"
           ],
           "yaxis": "y"
          },
          {
           "hovertemplate": "Land=%{y}<br>year=1994<br>Produzierte Menge (in MJ)=%{x}<extra></extra>",
           "legendgroup": "Romania",
           "marker": {
            "color": "#19d3f3",
            "pattern": {
             "shape": ""
            }
           },
           "name": "Romania",
           "orientation": "h",
           "showlegend": true,
           "textposition": "auto",
           "type": "bar",
           "x": {
            "bdata": "AAAAAFDaYUE=",
            "dtype": "f8"
           },
           "xaxis": "x",
           "y": [
            "Romania"
           ],
           "yaxis": "y"
          },
          {
           "hovertemplate": "Land=%{y}<br>year=1994<br>Produzierte Menge (in MJ)=%{x}<extra></extra>",
           "legendgroup": "Iceland",
           "marker": {
            "color": "#FF6692",
            "pattern": {
             "shape": ""
            }
           },
           "name": "Iceland",
           "orientation": "h",
           "showlegend": true,
           "textposition": "auto",
           "type": "bar",
           "x": {
            "bdata": "AAAAAAD55UA=",
            "dtype": "f8"
           },
           "xaxis": "x",
           "y": [
            "Iceland"
           ],
           "yaxis": "y"
          }
         ],
         "name": "1994"
        },
        {
         "data": [
          {
           "hovertemplate": "Land=%{y}<br>year=1995<br>Produzierte Menge (in MJ)=%{x}<extra></extra>",
           "legendgroup": "Austria",
           "marker": {
            "color": "#636efa",
            "pattern": {
             "shape": ""
            }
           },
           "name": "Austria",
           "orientation": "h",
           "showlegend": true,
           "textposition": "auto",
           "type": "bar",
           "x": {
            "bdata": "AAAAAIPmaEE=",
            "dtype": "f8"
           },
           "xaxis": "x",
           "y": [
            "Austria"
           ],
           "yaxis": "y"
          },
          {
           "hovertemplate": "Land=%{y}<br>year=1995<br>Produzierte Menge (in MJ)=%{x}<extra></extra>",
           "legendgroup": "Belgium",
           "marker": {
            "color": "#EF553B",
            "pattern": {
             "shape": ""
            }
           },
           "name": "Belgium",
           "orientation": "h",
           "showlegend": true,
           "textposition": "auto",
           "type": "bar",
           "x": {
            "bdata": "AAAAAHOhbUE=",
            "dtype": "f8"
           },
           "xaxis": "x",
           "y": [
            "Belgium"
           ],
           "yaxis": "y"
          },
          {
           "hovertemplate": "Land=%{y}<br>year=1995<br>Produzierte Menge (in MJ)=%{x}<extra></extra>",
           "legendgroup": "Denmark",
           "marker": {
            "color": "#00cc96",
            "pattern": {
             "shape": ""
            }
           },
           "name": "Denmark",
           "orientation": "h",
           "showlegend": true,
           "textposition": "auto",
           "type": "bar",
           "x": {
            "bdata": "AAAAQGYagkE=",
            "dtype": "f8"
           },
           "xaxis": "x",
           "y": [
            "Denmark"
           ],
           "yaxis": "y"
          },
          {
           "hovertemplate": "Land=%{y}<br>year=1995<br>Produzierte Menge (in MJ)=%{x}<extra></extra>",
           "legendgroup": "Finland",
           "marker": {
            "color": "#ab63fa",
            "pattern": {
             "shape": ""
            }
           },
           "name": "Finland",
           "orientation": "h",
           "showlegend": true,
           "textposition": "auto",
           "type": "bar",
           "x": {
            "bdata": "AAAAAEqlWkE=",
            "dtype": "f8"
           },
           "xaxis": "x",
           "y": [
            "Finland"
           ],
           "yaxis": "y"
          },
          {
           "hovertemplate": "Land=%{y}<br>year=1995<br>Produzierte Menge (in MJ)=%{x}<extra></extra>",
           "legendgroup": "France",
           "marker": {
            "color": "#FFA15A",
            "pattern": {
             "shape": ""
            }
           },
           "name": "France",
           "orientation": "h",
           "showlegend": true,
           "textposition": "auto",
           "type": "bar",
           "x": {
            "bdata": "AAAAgEMlkkE=",
            "dtype": "f8"
           },
           "xaxis": "x",
           "y": [
            "France"
           ],
           "yaxis": "y"
          },
          {
           "hovertemplate": "Land=%{y}<br>year=1995<br>Produzierte Menge (in MJ)=%{x}<extra></extra>",
           "legendgroup": "Greece",
           "marker": {
            "color": "#19d3f3",
            "pattern": {
             "shape": ""
            }
           },
           "name": "Greece",
           "orientation": "h",
           "showlegend": true,
           "textposition": "auto",
           "type": "bar",
           "x": {
            "bdata": "AAAAALyATUE=",
            "dtype": "f8"
           },
           "xaxis": "x",
           "y": [
            "Greece"
           ],
           "yaxis": "y"
          },
          {
           "hovertemplate": "Land=%{y}<br>year=1995<br>Produzierte Menge (in MJ)=%{x}<extra></extra>",
           "legendgroup": "Hungary",
           "marker": {
            "color": "#FF6692",
            "pattern": {
             "shape": ""
            }
           },
           "name": "Hungary",
           "orientation": "h",
           "showlegend": true,
           "textposition": "auto",
           "type": "bar",
           "x": {
            "bdata": "AAAAgMPscEE=",
            "dtype": "f8"
           },
           "xaxis": "x",
           "y": [
            "Hungary"
           ],
           "yaxis": "y"
          },
          {
           "hovertemplate": "Land=%{y}<br>year=1995<br>Produzierte Menge (in MJ)=%{x}<extra></extra>",
           "legendgroup": "Ireland",
           "marker": {
            "color": "#B6E880",
            "pattern": {
             "shape": ""
            }
           },
           "name": "Ireland",
           "orientation": "h",
           "showlegend": true,
           "textposition": "auto",
           "type": "bar",
           "x": {
            "bdata": "AAAAAIAN/UA=",
            "dtype": "f8"
           },
           "xaxis": "x",
           "y": [
            "Ireland"
           ],
           "yaxis": "y"
          },
          {
           "hovertemplate": "Land=%{y}<br>year=1995<br>Produzierte Menge (in MJ)=%{x}<extra></extra>",
           "legendgroup": "Italy",
           "marker": {
            "color": "#FF97FF",
            "pattern": {
             "shape": ""
            }
           },
           "name": "Italy",
           "orientation": "h",
           "showlegend": true,
           "textposition": "auto",
           "type": "bar",
           "x": {
            "bdata": "AAAAgLFUhUE=",
            "dtype": "f8"
           },
           "xaxis": "x",
           "y": [
            "Italy"
           ],
           "yaxis": "y"
          },
          {
           "hovertemplate": "Land=%{y}<br>year=1995<br>Produzierte Menge (in MJ)=%{x}<extra></extra>",
           "legendgroup": "Luxembourg",
           "marker": {
            "color": "#FECB52",
            "pattern": {
             "shape": ""
            }
           },
           "name": "Luxembourg",
           "orientation": "h",
           "showlegend": true,
           "textposition": "auto",
           "type": "bar",
           "x": {
            "bdata": "AAAAAICWK0E=",
            "dtype": "f8"
           },
           "xaxis": "x",
           "y": [
            "Luxembourg"
           ],
           "yaxis": "y"
          },
          {
           "hovertemplate": "Land=%{y}<br>year=1995<br>Produzierte Menge (in MJ)=%{x}<extra></extra>",
           "legendgroup": "Netherlands",
           "marker": {
            "color": "#636efa",
            "pattern": {
             "shape": ""
            }
           },
           "name": "Netherlands",
           "orientation": "h",
           "showlegend": true,
           "textposition": "auto",
           "type": "bar",
           "x": {
            "bdata": "AAAAQAtKgEE=",
            "dtype": "f8"
           },
           "xaxis": "x",
           "y": [
            "Netherlands"
           ],
           "yaxis": "y"
          },
          {
           "hovertemplate": "Land=%{y}<br>year=1995<br>Produzierte Menge (in MJ)=%{x}<extra></extra>",
           "legendgroup": "Norway",
           "marker": {
            "color": "#EF553B",
            "pattern": {
             "shape": ""
            }
           },
           "name": "Norway",
           "orientation": "h",
           "showlegend": true,
           "textposition": "auto",
           "type": "bar",
           "x": {
            "bdata": "AAAAAOTZVEE=",
            "dtype": "f8"
           },
           "xaxis": "x",
           "y": [
            "Norway"
           ],
           "yaxis": "y"
          },
          {
           "hovertemplate": "Land=%{y}<br>year=1995<br>Produzierte Menge (in MJ)=%{x}<extra></extra>",
           "legendgroup": "Poland",
           "marker": {
            "color": "#00cc96",
            "pattern": {
             "shape": ""
            }
           },
           "name": "Poland",
           "orientation": "h",
           "showlegend": true,
           "textposition": "auto",
           "type": "bar",
           "x": {
            "bdata": "AAAAgH6hdEE=",
            "dtype": "f8"
           },
           "xaxis": "x",
           "y": [
            "Poland"
           ],
           "yaxis": "y"
          },
          {
           "hovertemplate": "Land=%{y}<br>year=1995<br>Produzierte Menge (in MJ)=%{x}<extra></extra>",
           "legendgroup": "Portugal",
           "marker": {
            "color": "#ab63fa",
            "pattern": {
             "shape": ""
            }
           },
           "name": "Portugal",
           "orientation": "h",
           "showlegend": true,
           "textposition": "auto",
           "type": "bar",
           "x": {
            "bdata": "AAAAgLXQfEE=",
            "dtype": "f8"
           },
           "xaxis": "x",
           "y": [
            "Portugal"
           ],
           "yaxis": "y"
          },
          {
           "hovertemplate": "Land=%{y}<br>year=1995<br>Produzierte Menge (in MJ)=%{x}<extra></extra>",
           "legendgroup": "Spain",
           "marker": {
            "color": "#FFA15A",
            "pattern": {
             "shape": ""
            }
           },
           "name": "Spain",
           "orientation": "h",
           "showlegend": true,
           "textposition": "auto",
           "type": "bar",
           "x": {
            "bdata": "AAAAgMPag0E=",
            "dtype": "f8"
           },
           "xaxis": "x",
           "y": [
            "Spain"
           ],
           "yaxis": "y"
          },
          {
           "hovertemplate": "Land=%{y}<br>year=1995<br>Produzierte Menge (in MJ)=%{x}<extra></extra>",
           "legendgroup": "Sweden",
           "marker": {
            "color": "#19d3f3",
            "pattern": {
             "shape": ""
            }
           },
           "name": "Sweden",
           "orientation": "h",
           "showlegend": true,
           "textposition": "auto",
           "type": "bar",
           "x": {
            "bdata": "AAAAgLmgdkE=",
            "dtype": "f8"
           },
           "xaxis": "x",
           "y": [
            "Sweden"
           ],
           "yaxis": "y"
          },
          {
           "hovertemplate": "Land=%{y}<br>year=1995<br>Produzierte Menge (in MJ)=%{x}<extra></extra>",
           "legendgroup": "Switzerland",
           "marker": {
            "color": "#FF6692",
            "pattern": {
             "shape": ""
            }
           },
           "name": "Switzerland",
           "orientation": "h",
           "showlegend": true,
           "textposition": "auto",
           "type": "bar",
           "x": {
            "bdata": "AAAAAHWPeUE=",
            "dtype": "f8"
           },
           "xaxis": "x",
           "y": [
            "Switzerland"
           ],
           "yaxis": "y"
          },
          {
           "hovertemplate": "Land=%{y}<br>year=1995<br>Produzierte Menge (in MJ)=%{x}<extra></extra>",
           "legendgroup": "United Kingdom",
           "marker": {
            "color": "#B6E880",
            "pattern": {
             "shape": ""
            }
           },
           "name": "United Kingdom",
           "orientation": "h",
           "showlegend": true,
           "textposition": "auto",
           "type": "bar",
           "x": {
            "bdata": "AAAAAMCdf0E=",
            "dtype": "f8"
           },
           "xaxis": "x",
           "y": [
            "United Kingdom"
           ],
           "yaxis": "y"
          },
          {
           "hovertemplate": "Land=%{y}<br>year=1995<br>Produzierte Menge (in MJ)=%{x}<extra></extra>",
           "legendgroup": "Germany",
           "marker": {
            "color": "#FF97FF",
            "pattern": {
             "shape": ""
            }
           },
           "name": "Germany",
           "orientation": "h",
           "showlegend": true,
           "textposition": "auto",
           "type": "bar",
           "x": {
            "bdata": "AAAAgD7JjUE=",
            "dtype": "f8"
           },
           "xaxis": "x",
           "y": [
            "Germany"
           ],
           "yaxis": "y"
          },
          {
           "hovertemplate": "Land=%{y}<br>year=1995<br>Produzierte Menge (in MJ)=%{x}<extra></extra>",
           "legendgroup": "Belarus",
           "marker": {
            "color": "#FECB52",
            "pattern": {
             "shape": ""
            }
           },
           "name": "Belarus",
           "orientation": "h",
           "showlegend": true,
           "textposition": "auto",
           "type": "bar",
           "x": {
            "bdata": "AAAAAAAAAAA=",
            "dtype": "f8"
           },
           "xaxis": "x",
           "y": [
            "Belarus"
           ],
           "yaxis": "y"
          },
          {
           "hovertemplate": "Land=%{y}<br>year=1995<br>Produzierte Menge (in MJ)=%{x}<extra></extra>",
           "legendgroup": "Croatia",
           "marker": {
            "color": "#636efa",
            "pattern": {
             "shape": ""
            }
           },
           "name": "Croatia",
           "orientation": "h",
           "showlegend": true,
           "textposition": "auto",
           "type": "bar",
           "x": {
            "bdata": "AAAAAAAAAAA=",
            "dtype": "f8"
           },
           "xaxis": "x",
           "y": [
            "Croatia"
           ],
           "yaxis": "y"
          },
          {
           "hovertemplate": "Land=%{y}<br>year=1995<br>Produzierte Menge (in MJ)=%{x}<extra></extra>",
           "legendgroup": "Czech Republic",
           "marker": {
            "color": "#EF553B",
            "pattern": {
             "shape": ""
            }
           },
           "name": "Czech Republic",
           "orientation": "h",
           "showlegend": true,
           "textposition": "auto",
           "type": "bar",
           "x": {
            "bdata": "AAAAAOhPPUE=",
            "dtype": "f8"
           },
           "xaxis": "x",
           "y": [
            "Czech Republic"
           ],
           "yaxis": "y"
          },
          {
           "hovertemplate": "Land=%{y}<br>year=1995<br>Produzierte Menge (in MJ)=%{x}<extra></extra>",
           "legendgroup": "Estonia",
           "marker": {
            "color": "#00cc96",
            "pattern": {
             "shape": ""
            }
           },
           "name": "Estonia",
           "orientation": "h",
           "showlegend": true,
           "textposition": "auto",
           "type": "bar",
           "x": {
            "bdata": "AAAAAIDA9EA=",
            "dtype": "f8"
           },
           "xaxis": "x",
           "y": [
            "Estonia"
           ],
           "yaxis": "y"
          },
          {
           "hovertemplate": "Land=%{y}<br>year=1995<br>Produzierte Menge (in MJ)=%{x}<extra></extra>",
           "legendgroup": "Latvia",
           "marker": {
            "color": "#ab63fa",
            "pattern": {
             "shape": ""
            }
           },
           "name": "Latvia",
           "orientation": "h",
           "showlegend": true,
           "textposition": "auto",
           "type": "bar",
           "x": {
            "bdata": "AAAAAOwlRkE=",
            "dtype": "f8"
           },
           "xaxis": "x",
           "y": [
            "Latvia"
           ],
           "yaxis": "y"
          },
          {
           "hovertemplate": "Land=%{y}<br>year=1995<br>Produzierte Menge (in MJ)=%{x}<extra></extra>",
           "legendgroup": "Lithuania",
           "marker": {
            "color": "#FFA15A",
            "pattern": {
             "shape": ""
            }
           },
           "name": "Lithuania",
           "orientation": "h",
           "showlegend": true,
           "textposition": "auto",
           "type": "bar",
           "x": {
            "bdata": "AAAAAPL0XUE=",
            "dtype": "f8"
           },
           "xaxis": "x",
           "y": [
            "Lithuania"
           ],
           "yaxis": "y"
          },
          {
           "hovertemplate": "Land=%{y}<br>year=1995<br>Produzierte Menge (in MJ)=%{x}<extra></extra>",
           "legendgroup": "Romania",
           "marker": {
            "color": "#19d3f3",
            "pattern": {
             "shape": ""
            }
           },
           "name": "Romania",
           "orientation": "h",
           "showlegend": true,
           "textposition": "auto",
           "type": "bar",
           "x": {
            "bdata": "AAAAAMyhXkE=",
            "dtype": "f8"
           },
           "xaxis": "x",
           "y": [
            "Romania"
           ],
           "yaxis": "y"
          },
          {
           "hovertemplate": "Land=%{y}<br>year=1995<br>Produzierte Menge (in MJ)=%{x}<extra></extra>",
           "legendgroup": "Iceland",
           "marker": {
            "color": "#FF6692",
            "pattern": {
             "shape": ""
            }
           },
           "name": "Iceland",
           "orientation": "h",
           "showlegend": true,
           "textposition": "auto",
           "type": "bar",
           "x": {
            "bdata": "AAAAAAD55UA=",
            "dtype": "f8"
           },
           "xaxis": "x",
           "y": [
            "Iceland"
           ],
           "yaxis": "y"
          }
         ],
         "name": "1995"
        },
        {
         "data": [
          {
           "hovertemplate": "Land=%{y}<br>year=1996<br>Produzierte Menge (in MJ)=%{x}<extra></extra>",
           "legendgroup": "Austria",
           "marker": {
            "color": "#636efa",
            "pattern": {
             "shape": ""
            }
           },
           "name": "Austria",
           "orientation": "h",
           "showlegend": true,
           "textposition": "auto",
           "type": "bar",
           "x": {
            "bdata": "AAAAALnjZ0E=",
            "dtype": "f8"
           },
           "xaxis": "x",
           "y": [
            "Austria"
           ],
           "yaxis": "y"
          },
          {
           "hovertemplate": "Land=%{y}<br>year=1996<br>Produzierte Menge (in MJ)=%{x}<extra></extra>",
           "legendgroup": "Belgium",
           "marker": {
            "color": "#EF553B",
            "pattern": {
             "shape": ""
            }
           },
           "name": "Belgium",
           "orientation": "h",
           "showlegend": true,
           "textposition": "auto",
           "type": "bar",
           "x": {
            "bdata": "AAAAANp7bUE=",
            "dtype": "f8"
           },
           "xaxis": "x",
           "y": [
            "Belgium"
           ],
           "yaxis": "y"
          },
          {
           "hovertemplate": "Land=%{y}<br>year=1996<br>Produzierte Menge (in MJ)=%{x}<extra></extra>",
           "legendgroup": "Denmark",
           "marker": {
            "color": "#00cc96",
            "pattern": {
             "shape": ""
            }
           },
           "name": "Denmark",
           "orientation": "h",
           "showlegend": true,
           "textposition": "auto",
           "type": "bar",
           "x": {
            "bdata": "AAAAQNRVg0E=",
            "dtype": "f8"
           },
           "xaxis": "x",
           "y": [
            "Denmark"
           ],
           "yaxis": "y"
          },
          {
           "hovertemplate": "Land=%{y}<br>year=1996<br>Produzierte Menge (in MJ)=%{x}<extra></extra>",
           "legendgroup": "Finland",
           "marker": {
            "color": "#ab63fa",
            "pattern": {
             "shape": ""
            }
           },
           "name": "Finland",
           "orientation": "h",
           "showlegend": true,
           "textposition": "auto",
           "type": "bar",
           "x": {
            "bdata": "AAAAAIwFXkE=",
            "dtype": "f8"
           },
           "xaxis": "x",
           "y": [
            "Finland"
           ],
           "yaxis": "y"
          },
          {
           "hovertemplate": "Land=%{y}<br>year=1996<br>Produzierte Menge (in MJ)=%{x}<extra></extra>",
           "legendgroup": "France",
           "marker": {
            "color": "#FFA15A",
            "pattern": {
             "shape": ""
            }
           },
           "name": "France",
           "orientation": "h",
           "showlegend": true,
           "textposition": "auto",
           "type": "bar",
           "x": {
            "bdata": "AAAAoHqLk0E=",
            "dtype": "f8"
           },
           "xaxis": "x",
           "y": [
            "France"
           ],
           "yaxis": "y"
          },
          {
           "hovertemplate": "Land=%{y}<br>year=1996<br>Produzierte Menge (in MJ)=%{x}<extra></extra>",
           "legendgroup": "Greece",
           "marker": {
            "color": "#19d3f3",
            "pattern": {
             "shape": ""
            }
           },
           "name": "Greece",
           "orientation": "h",
           "showlegend": true,
           "textposition": "auto",
           "type": "bar",
           "x": {
            "bdata": "AAAAAASBW0E=",
            "dtype": "f8"
           },
           "xaxis": "x",
           "y": [
            "Greece"
           ],
           "yaxis": "y"
          },
          {
           "hovertemplate": "Land=%{y}<br>year=1996<br>Produzierte Menge (in MJ)=%{x}<extra></extra>",
           "legendgroup": "Hungary",
           "marker": {
            "color": "#FF6692",
            "pattern": {
             "shape": ""
            }
           },
           "name": "Hungary",
           "orientation": "h",
           "showlegend": true,
           "textposition": "auto",
           "type": "bar",
           "x": {
            "bdata": "AAAAAJyjb0E=",
            "dtype": "f8"
           },
           "xaxis": "x",
           "y": [
            "Hungary"
           ],
           "yaxis": "y"
          },
          {
           "hovertemplate": "Land=%{y}<br>year=1996<br>Produzierte Menge (in MJ)=%{x}<extra></extra>",
           "legendgroup": "Ireland",
           "marker": {
            "color": "#B6E880",
            "pattern": {
             "shape": ""
            }
           },
           "name": "Ireland",
           "orientation": "h",
           "showlegend": true,
           "textposition": "auto",
           "type": "bar",
           "x": {
            "bdata": "AAAAAIAZG0E=",
            "dtype": "f8"
           },
           "xaxis": "x",
           "y": [
            "Ireland"
           ],
           "yaxis": "y"
          },
          {
           "hovertemplate": "Land=%{y}<br>year=1996<br>Produzierte Menge (in MJ)=%{x}<extra></extra>",
           "legendgroup": "Italy",
           "marker": {
            "color": "#FF97FF",
            "pattern": {
             "shape": ""
            }
           },
           "name": "Italy",
           "orientation": "h",
           "showlegend": true,
           "textposition": "auto",
           "type": "bar",
           "x": {
            "bdata": "AAAAAP4ohUE=",
            "dtype": "f8"
           },
           "xaxis": "x",
           "y": [
            "Italy"
           ],
           "yaxis": "y"
          },
          {
           "hovertemplate": "Land=%{y}<br>year=1996<br>Produzierte Menge (in MJ)=%{x}<extra></extra>",
           "legendgroup": "Luxembourg",
           "marker": {
            "color": "#FECB52",
            "pattern": {
             "shape": ""
            }
           },
           "name": "Luxembourg",
           "orientation": "h",
           "showlegend": true,
           "textposition": "auto",
           "type": "bar",
           "x": {
            "bdata": "AAAAAAB8JUE=",
            "dtype": "f8"
           },
           "xaxis": "x",
           "y": [
            "Luxembourg"
           ],
           "yaxis": "y"
          },
          {
           "hovertemplate": "Land=%{y}<br>year=1996<br>Produzierte Menge (in MJ)=%{x}<extra></extra>",
           "legendgroup": "Netherlands",
           "marker": {
            "color": "#636efa",
            "pattern": {
             "shape": ""
            }
           },
           "name": "Netherlands",
           "orientation": "h",
           "showlegend": true,
           "textposition": "auto",
           "type": "bar",
           "x": {
            "bdata": "AAAAgAeghEE=",
            "dtype": "f8"
           },
           "xaxis": "x",
           "y": [
            "Netherlands"
           ],
           "yaxis": "y"
          },
          {
           "hovertemplate": "Land=%{y}<br>year=1996<br>Produzierte Menge (in MJ)=%{x}<extra></extra>",
           "legendgroup": "Norway",
           "marker": {
            "color": "#EF553B",
            "pattern": {
             "shape": ""
            }
           },
           "name": "Norway",
           "orientation": "h",
           "showlegend": true,
           "textposition": "auto",
           "type": "bar",
           "x": {
            "bdata": "AAAAAMxgVEE=",
            "dtype": "f8"
           },
           "xaxis": "x",
           "y": [
            "Norway"
           ],
           "yaxis": "y"
          },
          {
           "hovertemplate": "Land=%{y}<br>year=1996<br>Produzierte Menge (in MJ)=%{x}<extra></extra>",
           "legendgroup": "Poland",
           "marker": {
            "color": "#00cc96",
            "pattern": {
             "shape": ""
            }
           },
           "name": "Poland",
           "orientation": "h",
           "showlegend": true,
           "textposition": "auto",
           "type": "bar",
           "x": {
            "bdata": "AAAAgKzPckE=",
            "dtype": "f8"
           },
           "xaxis": "x",
           "y": [
            "Poland"
           ],
           "yaxis": "y"
          },
          {
           "hovertemplate": "Land=%{y}<br>year=1996<br>Produzierte Menge (in MJ)=%{x}<extra></extra>",
           "legendgroup": "Portugal",
           "marker": {
            "color": "#ab63fa",
            "pattern": {
             "shape": ""
            }
           },
           "name": "Portugal",
           "orientation": "h",
           "showlegend": true,
           "textposition": "auto",
           "type": "bar",
           "x": {
            "bdata": "AAAAAINXe0E=",
            "dtype": "f8"
           },
           "xaxis": "x",
           "y": [
            "Portugal"
           ],
           "yaxis": "y"
          },
          {
           "hovertemplate": "Land=%{y}<br>year=1996<br>Produzierte Menge (in MJ)=%{x}<extra></extra>",
           "legendgroup": "Spain",
           "marker": {
            "color": "#FFA15A",
            "pattern": {
             "shape": ""
            }
           },
           "name": "Spain",
           "orientation": "h",
           "showlegend": true,
           "textposition": "auto",
           "type": "bar",
           "x": {
            "bdata": "AAAAAHNahEE=",
            "dtype": "f8"
           },
           "xaxis": "x",
           "y": [
            "Spain"
           ],
           "yaxis": "y"
          },
          {
           "hovertemplate": "Land=%{y}<br>year=1996<br>Produzierte Menge (in MJ)=%{x}<extra></extra>",
           "legendgroup": "Sweden",
           "marker": {
            "color": "#19d3f3",
            "pattern": {
             "shape": ""
            }
           },
           "name": "Sweden",
           "orientation": "h",
           "showlegend": true,
           "textposition": "auto",
           "type": "bar",
           "x": {
            "bdata": "AAAAAEC5gEE=",
            "dtype": "f8"
           },
           "xaxis": "x",
           "y": [
            "Sweden"
           ],
           "yaxis": "y"
          },
          {
           "hovertemplate": "Land=%{y}<br>year=1996<br>Produzierte Menge (in MJ)=%{x}<extra></extra>",
           "legendgroup": "Switzerland",
           "marker": {
            "color": "#FF6692",
            "pattern": {
             "shape": ""
            }
           },
           "name": "Switzerland",
           "orientation": "h",
           "showlegend": true,
           "textposition": "auto",
           "type": "bar",
           "x": {
            "bdata": "AAAAAGZTeUE=",
            "dtype": "f8"
           },
           "xaxis": "x",
           "y": [
            "Switzerland"
           ],
           "yaxis": "y"
          },
          {
           "hovertemplate": "Land=%{y}<br>year=1996<br>Produzierte Menge (in MJ)=%{x}<extra></extra>",
           "legendgroup": "United Kingdom",
           "marker": {
            "color": "#B6E880",
            "pattern": {
             "shape": ""
            }
           },
           "name": "United Kingdom",
           "orientation": "h",
           "showlegend": true,
           "textposition": "auto",
           "type": "bar",
           "x": {
            "bdata": "AAAAgLLagEE=",
            "dtype": "f8"
           },
           "xaxis": "x",
           "y": [
            "United Kingdom"
           ],
           "yaxis": "y"
          },
          {
           "hovertemplate": "Land=%{y}<br>year=1996<br>Produzierte Menge (in MJ)=%{x}<extra></extra>",
           "legendgroup": "Germany",
           "marker": {
            "color": "#FF97FF",
            "pattern": {
             "shape": ""
            }
           },
           "name": "Germany",
           "orientation": "h",
           "showlegend": true,
           "textposition": "auto",
           "type": "bar",
           "x": {
            "bdata": "AAAAIP5TkEE=",
            "dtype": "f8"
           },
           "xaxis": "x",
           "y": [
            "Germany"
           ],
           "yaxis": "y"
          },
          {
           "hovertemplate": "Land=%{y}<br>year=1996<br>Produzierte Menge (in MJ)=%{x}<extra></extra>",
           "legendgroup": "Belarus",
           "marker": {
            "color": "#FECB52",
            "pattern": {
             "shape": ""
            }
           },
           "name": "Belarus",
           "orientation": "h",
           "showlegend": true,
           "textposition": "auto",
           "type": "bar",
           "x": {
            "bdata": "AAAAAIDG80A=",
            "dtype": "f8"
           },
           "xaxis": "x",
           "y": [
            "Belarus"
           ],
           "yaxis": "y"
          },
          {
           "hovertemplate": "Land=%{y}<br>year=1996<br>Produzierte Menge (in MJ)=%{x}<extra></extra>",
           "legendgroup": "Croatia",
           "marker": {
            "color": "#636efa",
            "pattern": {
             "shape": ""
            }
           },
           "name": "Croatia",
           "orientation": "h",
           "showlegend": true,
           "textposition": "auto",
           "type": "bar",
           "x": {
            "bdata": "AAAAAAAAAAA=",
            "dtype": "f8"
           },
           "xaxis": "x",
           "y": [
            "Croatia"
           ],
           "yaxis": "y"
          },
          {
           "hovertemplate": "Land=%{y}<br>year=1996<br>Produzierte Menge (in MJ)=%{x}<extra></extra>",
           "legendgroup": "Czech Republic",
           "marker": {
            "color": "#EF553B",
            "pattern": {
             "shape": ""
            }
           },
           "name": "Czech Republic",
           "orientation": "h",
           "showlegend": true,
           "textposition": "auto",
           "type": "bar",
           "x": {
            "bdata": "AAAAABh4NUE=",
            "dtype": "f8"
           },
           "xaxis": "x",
           "y": [
            "Czech Republic"
           ],
           "yaxis": "y"
          },
          {
           "hovertemplate": "Land=%{y}<br>year=1996<br>Produzierte Menge (in MJ)=%{x}<extra></extra>",
           "legendgroup": "Estonia",
           "marker": {
            "color": "#00cc96",
            "pattern": {
             "shape": ""
            }
           },
           "name": "Estonia",
           "orientation": "h",
           "showlegend": true,
           "textposition": "auto",
           "type": "bar",
           "x": {
            "bdata": "AAAAAABY60A=",
            "dtype": "f8"
           },
           "xaxis": "x",
           "y": [
            "Estonia"
           ],
           "yaxis": "y"
          },
          {
           "hovertemplate": "Land=%{y}<br>year=1996<br>Produzierte Menge (in MJ)=%{x}<extra></extra>",
           "legendgroup": "Latvia",
           "marker": {
            "color": "#ab63fa",
            "pattern": {
             "shape": ""
            }
           },
           "name": "Latvia",
           "orientation": "h",
           "showlegend": true,
           "textposition": "auto",
           "type": "bar",
           "x": {
            "bdata": "AAAAACDERkE=",
            "dtype": "f8"
           },
           "xaxis": "x",
           "y": [
            "Latvia"
           ],
           "yaxis": "y"
          },
          {
           "hovertemplate": "Land=%{y}<br>year=1996<br>Produzierte Menge (in MJ)=%{x}<extra></extra>",
           "legendgroup": "Lithuania",
           "marker": {
            "color": "#FFA15A",
            "pattern": {
             "shape": ""
            }
           },
           "name": "Lithuania",
           "orientation": "h",
           "showlegend": true,
           "textposition": "auto",
           "type": "bar",
           "x": {
            "bdata": "AAAAAAUxYEE=",
            "dtype": "f8"
           },
           "xaxis": "x",
           "y": [
            "Lithuania"
           ],
           "yaxis": "y"
          },
          {
           "hovertemplate": "Land=%{y}<br>year=1996<br>Produzierte Menge (in MJ)=%{x}<extra></extra>",
           "legendgroup": "Iceland",
           "marker": {
            "color": "#FF6692",
            "pattern": {
             "shape": ""
            }
           },
           "name": "Iceland",
           "orientation": "h",
           "showlegend": true,
           "textposition": "auto",
           "type": "bar",
           "x": {
            "bdata": "AAAAAAD55UA=",
            "dtype": "f8"
           },
           "xaxis": "x",
           "y": [
            "Iceland"
           ],
           "yaxis": "y"
          }
         ],
         "name": "1996"
        },
        {
         "data": [
          {
           "hovertemplate": "Land=%{y}<br>year=1997<br>Produzierte Menge (in MJ)=%{x}<extra></extra>",
           "legendgroup": "Austria",
           "marker": {
            "color": "#636efa",
            "pattern": {
             "shape": ""
            }
           },
           "name": "Austria",
           "orientation": "h",
           "showlegend": true,
           "textposition": "auto",
           "type": "bar",
           "x": {
            "bdata": "AAAAANz4ZkE=",
            "dtype": "f8"
           },
           "xaxis": "x",
           "y": [
            "Austria"
           ],
           "yaxis": "y"
          },
          {
           "hovertemplate": "Land=%{y}<br>year=1997<br>Produzierte Menge (in MJ)=%{x}<extra></extra>",
           "legendgroup": "Belgium",
           "marker": {
            "color": "#EF553B",
            "pattern": {
             "shape": ""
            }
           },
           "name": "Belgium",
           "orientation": "h",
           "showlegend": true,
           "textposition": "auto",
           "type": "bar",
           "x": {
            "bdata": "AAAAAAVUb0E=",
            "dtype": "f8"
           },
           "xaxis": "x",
           "y": [
            "Belgium"
           ],
           "yaxis": "y"
          },
          {
           "hovertemplate": "Land=%{y}<br>year=1997<br>Produzierte Menge (in MJ)=%{x}<extra></extra>",
           "legendgroup": "Denmark",
           "marker": {
            "color": "#00cc96",
            "pattern": {
             "shape": ""
            }
           },
           "name": "Denmark",
           "orientation": "h",
           "showlegend": true,
           "textposition": "auto",
           "type": "bar",
           "x": {
            "bdata": "AAAAwCGMhEE=",
            "dtype": "f8"
           },
           "xaxis": "x",
           "y": [
            "Denmark"
           ],
           "yaxis": "y"
          },
          {
           "hovertemplate": "Land=%{y}<br>year=1997<br>Produzierte Menge (in MJ)=%{x}<extra></extra>",
           "legendgroup": "Finland",
           "marker": {
            "color": "#ab63fa",
            "pattern": {
             "shape": ""
            }
           },
           "name": "Finland",
           "orientation": "h",
           "showlegend": true,
           "textposition": "auto",
           "type": "bar",
           "x": {
            "bdata": "AAAAAFDOM0E=",
            "dtype": "f8"
           },
           "xaxis": "x",
           "y": [
            "Finland"
           ],
           "yaxis": "y"
          },
          {
           "hovertemplate": "Land=%{y}<br>year=1997<br>Produzierte Menge (in MJ)=%{x}<extra></extra>",
           "legendgroup": "France",
           "marker": {
            "color": "#FFA15A",
            "pattern": {
             "shape": ""
            }
           },
           "name": "France",
           "orientation": "h",
           "showlegend": true,
           "textposition": "auto",
           "type": "bar",
           "x": {
            "bdata": "AAAAwFNalEE=",
            "dtype": "f8"
           },
           "xaxis": "x",
           "y": [
            "France"
           ],
           "yaxis": "y"
          },
          {
           "hovertemplate": "Land=%{y}<br>year=1997<br>Produzierte Menge (in MJ)=%{x}<extra></extra>",
           "legendgroup": "Greece",
           "marker": {
            "color": "#19d3f3",
            "pattern": {
             "shape": ""
            }
           },
           "name": "Greece",
           "orientation": "h",
           "showlegend": true,
           "textposition": "auto",
           "type": "bar",
           "x": {
            "bdata": "AAAAAAxWW0E=",
            "dtype": "f8"
           },
           "xaxis": "x",
           "y": [
            "Greece"
           ],
           "yaxis": "y"
          },
          {
           "hovertemplate": "Land=%{y}<br>year=1997<br>Produzierte Menge (in MJ)=%{x}<extra></extra>",
           "legendgroup": "Hungary",
           "marker": {
            "color": "#FF6692",
            "pattern": {
             "shape": ""
            }
           },
           "name": "Hungary",
           "orientation": "h",
           "showlegend": true,
           "textposition": "auto",
           "type": "bar",
           "x": {
            "bdata": "AAAAgFYZcEE=",
            "dtype": "f8"
           },
           "xaxis": "x",
           "y": [
            "Hungary"
           ],
           "yaxis": "y"
          },
          {
           "hovertemplate": "Land=%{y}<br>year=1997<br>Produzierte Menge (in MJ)=%{x}<extra></extra>",
           "legendgroup": "Ireland",
           "marker": {
            "color": "#B6E880",
            "pattern": {
             "shape": ""
            }
           },
           "name": "Ireland",
           "orientation": "h",
           "showlegend": true,
           "textposition": "auto",
           "type": "bar",
           "x": {
            "bdata": "AAAAALilMEE=",
            "dtype": "f8"
           },
           "xaxis": "x",
           "y": [
            "Ireland"
           ],
           "yaxis": "y"
          },
          {
           "hovertemplate": "Land=%{y}<br>year=1997<br>Produzierte Menge (in MJ)=%{x}<extra></extra>",
           "legendgroup": "Italy",
           "marker": {
            "color": "#FF97FF",
            "pattern": {
             "shape": ""
            }
           },
           "name": "Italy",
           "orientation": "h",
           "showlegend": true,
           "textposition": "auto",
           "type": "bar",
           "x": {
            "bdata": "AAAAQEPnh0E=",
            "dtype": "f8"
           },
           "xaxis": "x",
           "y": [
            "Italy"
           ],
           "yaxis": "y"
          },
          {
           "hovertemplate": "Land=%{y}<br>year=1997<br>Produzierte Menge (in MJ)=%{x}<extra></extra>",
           "legendgroup": "Luxembourg",
           "marker": {
            "color": "#FECB52",
            "pattern": {
             "shape": ""
            }
           },
           "name": "Luxembourg",
           "orientation": "h",
           "showlegend": true,
           "textposition": "auto",
           "type": "bar",
           "x": {
            "bdata": "AAAAAFAtKUE=",
            "dtype": "f8"
           },
           "xaxis": "x",
           "y": [
            "Luxembourg"
           ],
           "yaxis": "y"
          },
          {
           "hovertemplate": "Land=%{y}<br>year=1997<br>Produzierte Menge (in MJ)=%{x}<extra></extra>",
           "legendgroup": "Netherlands",
           "marker": {
            "color": "#636efa",
            "pattern": {
             "shape": ""
            }
           },
           "name": "Netherlands",
           "orientation": "h",
           "showlegend": true,
           "textposition": "auto",
           "type": "bar",
           "x": {
            "bdata": "AAAAwPnTh0E=",
            "dtype": "f8"
           },
           "xaxis": "x",
           "y": [
            "Netherlands"
           ],
           "yaxis": "y"
          },
          {
           "hovertemplate": "Land=%{y}<br>year=1997<br>Produzierte Menge (in MJ)=%{x}<extra></extra>",
           "legendgroup": "Norway",
           "marker": {
            "color": "#EF553B",
            "pattern": {
             "shape": ""
            }
           },
           "name": "Norway",
           "orientation": "h",
           "showlegend": true,
           "textposition": "auto",
           "type": "bar",
           "x": {
            "bdata": "AAAAAIY2VkE=",
            "dtype": "f8"
           },
           "xaxis": "x",
           "y": [
            "Norway"
           ],
           "yaxis": "y"
          },
          {
           "hovertemplate": "Land=%{y}<br>year=1997<br>Produzierte Menge (in MJ)=%{x}<extra></extra>",
           "legendgroup": "Poland",
           "marker": {
            "color": "#00cc96",
            "pattern": {
             "shape": ""
            }
           },
           "name": "Poland",
           "orientation": "h",
           "showlegend": true,
           "textposition": "auto",
           "type": "bar",
           "x": {
            "bdata": "AAAAAI0IekE=",
            "dtype": "f8"
           },
           "xaxis": "x",
           "y": [
            "Poland"
           ],
           "yaxis": "y"
          },
          {
           "hovertemplate": "Land=%{y}<br>year=1997<br>Produzierte Menge (in MJ)=%{x}<extra></extra>",
           "legendgroup": "Portugal",
           "marker": {
            "color": "#ab63fa",
            "pattern": {
             "shape": ""
            }
           },
           "name": "Portugal",
           "orientation": "h",
           "showlegend": true,
           "textposition": "auto",
           "type": "bar",
           "x": {
            "bdata": "AAAAAL9HfEE=",
            "dtype": "f8"
           },
           "xaxis": "x",
           "y": [
            "Portugal"
           ],
           "yaxis": "y"
          },
          {
           "hovertemplate": "Land=%{y}<br>year=1997<br>Produzierte Menge (in MJ)=%{x}<extra></extra>",
           "legendgroup": "Spain",
           "marker": {
            "color": "#FFA15A",
            "pattern": {
             "shape": ""
            }
           },
           "name": "Spain",
           "orientation": "h",
           "showlegend": true,
           "textposition": "auto",
           "type": "bar",
           "x": {
            "bdata": "AAAAwMXEhEE=",
            "dtype": "f8"
           },
           "xaxis": "x",
           "y": [
            "Spain"
           ],
           "yaxis": "y"
          },
          {
           "hovertemplate": "Land=%{y}<br>year=1997<br>Produzierte Menge (in MJ)=%{x}<extra></extra>",
           "legendgroup": "Sweden",
           "marker": {
            "color": "#19d3f3",
            "pattern": {
             "shape": ""
            }
           },
           "name": "Sweden",
           "orientation": "h",
           "showlegend": true,
           "textposition": "auto",
           "type": "bar",
           "x": {
            "bdata": "AAAAwFypgUE=",
            "dtype": "f8"
           },
           "xaxis": "x",
           "y": [
            "Sweden"
           ],
           "yaxis": "y"
          },
          {
           "hovertemplate": "Land=%{y}<br>year=1997<br>Produzierte Menge (in MJ)=%{x}<extra></extra>",
           "legendgroup": "Switzerland",
           "marker": {
            "color": "#FF6692",
            "pattern": {
             "shape": ""
            }
           },
           "name": "Switzerland",
           "orientation": "h",
           "showlegend": true,
           "textposition": "auto",
           "type": "bar",
           "x": {
            "bdata": "AAAAALo/ekE=",
            "dtype": "f8"
           },
           "xaxis": "x",
           "y": [
            "Switzerland"
           ],
           "yaxis": "y"
          },
          {
           "hovertemplate": "Land=%{y}<br>year=1997<br>Produzierte Menge (in MJ)=%{x}<extra></extra>",
           "legendgroup": "United Kingdom",
           "marker": {
            "color": "#B6E880",
            "pattern": {
             "shape": ""
            }
           },
           "name": "United Kingdom",
           "orientation": "h",
           "showlegend": true,
           "textposition": "auto",
           "type": "bar",
           "x": {
            "bdata": "AAAAQJnNgkE=",
            "dtype": "f8"
           },
           "xaxis": "x",
           "y": [
            "United Kingdom"
           ],
           "yaxis": "y"
          },
          {
           "hovertemplate": "Land=%{y}<br>year=1997<br>Produzierte Menge (in MJ)=%{x}<extra></extra>",
           "legendgroup": "Germany",
           "marker": {
            "color": "#FF97FF",
            "pattern": {
             "shape": ""
            }
           },
           "name": "Germany",
           "orientation": "h",
           "showlegend": true,
           "textposition": "auto",
           "type": "bar",
           "x": {
            "bdata": "AAAA4PkKkUE=",
            "dtype": "f8"
           },
           "xaxis": "x",
           "y": [
            "Germany"
           ],
           "yaxis": "y"
          },
          {
           "hovertemplate": "Land=%{y}<br>year=1997<br>Produzierte Menge (in MJ)=%{x}<extra></extra>",
           "legendgroup": "Belarus",
           "marker": {
            "color": "#FECB52",
            "pattern": {
             "shape": ""
            }
           },
           "name": "Belarus",
           "orientation": "h",
           "showlegend": true,
           "textposition": "auto",
           "type": "bar",
           "x": {
            "bdata": "AAAAAIATDEE=",
            "dtype": "f8"
           },
           "xaxis": "x",
           "y": [
            "Belarus"
           ],
           "yaxis": "y"
          },
          {
           "hovertemplate": "Land=%{y}<br>year=1997<br>Produzierte Menge (in MJ)=%{x}<extra></extra>",
           "legendgroup": "Croatia",
           "marker": {
            "color": "#636efa",
            "pattern": {
             "shape": ""
            }
           },
           "name": "Croatia",
           "orientation": "h",
           "showlegend": true,
           "textposition": "auto",
           "type": "bar",
           "x": {
            "bdata": "AAAAAAAAAAA=",
            "dtype": "f8"
           },
           "xaxis": "x",
           "y": [
            "Croatia"
           ],
           "yaxis": "y"
          },
          {
           "hovertemplate": "Land=%{y}<br>year=1997<br>Produzierte Menge (in MJ)=%{x}<extra></extra>",
           "legendgroup": "Czech Republic",
           "marker": {
            "color": "#EF553B",
            "pattern": {
             "shape": ""
            }
           },
           "name": "Czech Republic",
           "orientation": "h",
           "showlegend": true,
           "textposition": "auto",
           "type": "bar",
           "x": {
            "bdata": "AAAAAOyQSUE=",
            "dtype": "f8"
           },
           "xaxis": "x",
           "y": [
            "Czech Republic"
           ],
           "yaxis": "y"
          },
          {
           "hovertemplate": "Land=%{y}<br>year=1997<br>Produzierte Menge (in MJ)=%{x}<extra></extra>",
           "legendgroup": "Estonia",
           "marker": {
            "color": "#00cc96",
            "pattern": {
             "shape": ""
            }
           },
           "name": "Estonia",
           "orientation": "h",
           "showlegend": true,
           "textposition": "auto",
           "type": "bar",
           "x": {
            "bdata": "AAAAAABS7EA=",
            "dtype": "f8"
           },
           "xaxis": "x",
           "y": [
            "Estonia"
           ],
           "yaxis": "y"
          },
          {
           "hovertemplate": "Land=%{y}<br>year=1997<br>Produzierte Menge (in MJ)=%{x}<extra></extra>",
           "legendgroup": "Latvia",
           "marker": {
            "color": "#ab63fa",
            "pattern": {
             "shape": ""
            }
           },
           "name": "Latvia",
           "orientation": "h",
           "showlegend": true,
           "textposition": "auto",
           "type": "bar",
           "x": {
            "bdata": "AAAAAML2XkE=",
            "dtype": "f8"
           },
           "xaxis": "x",
           "y": [
            "Latvia"
           ],
           "yaxis": "y"
          },
          {
           "hovertemplate": "Land=%{y}<br>year=1997<br>Produzierte Menge (in MJ)=%{x}<extra></extra>",
           "legendgroup": "Lithuania",
           "marker": {
            "color": "#FFA15A",
            "pattern": {
             "shape": ""
            }
           },
           "name": "Lithuania",
           "orientation": "h",
           "showlegend": true,
           "textposition": "auto",
           "type": "bar",
           "x": {
            "bdata": "AAAAAK59YEE=",
            "dtype": "f8"
           },
           "xaxis": "x",
           "y": [
            "Lithuania"
           ],
           "yaxis": "y"
          },
          {
           "hovertemplate": "Land=%{y}<br>year=1997<br>Produzierte Menge (in MJ)=%{x}<extra></extra>",
           "legendgroup": "Iceland",
           "marker": {
            "color": "#FF6692",
            "pattern": {
             "shape": ""
            }
           },
           "name": "Iceland",
           "orientation": "h",
           "showlegend": true,
           "textposition": "auto",
           "type": "bar",
           "x": {
            "bdata": "AAAAAAD55UA=",
            "dtype": "f8"
           },
           "xaxis": "x",
           "y": [
            "Iceland"
           ],
           "yaxis": "y"
          }
         ],
         "name": "1997"
        },
        {
         "data": [
          {
           "hovertemplate": "Land=%{y}<br>year=1998<br>Produzierte Menge (in MJ)=%{x}<extra></extra>",
           "legendgroup": "Austria",
           "marker": {
            "color": "#636efa",
            "pattern": {
             "shape": ""
            }
           },
           "name": "Austria",
           "orientation": "h",
           "showlegend": true,
           "textposition": "auto",
           "type": "bar",
           "x": {
            "bdata": "AAAAAAuJZkE=",
            "dtype": "f8"
           },
           "xaxis": "x",
           "y": [
            "Austria"
           ],
           "yaxis": "y"
          },
          {
           "hovertemplate": "Land=%{y}<br>year=1998<br>Produzierte Menge (in MJ)=%{x}<extra></extra>",
           "legendgroup": "Belgium",
           "marker": {
            "color": "#EF553B",
            "pattern": {
             "shape": ""
            }
           },
           "name": "Belgium",
           "orientation": "h",
           "showlegend": true,
           "textposition": "auto",
           "type": "bar",
           "x": {
            "bdata": "AAAAAJypbkE=",
            "dtype": "f8"
           },
           "xaxis": "x",
           "y": [
            "Belgium"
           ],
           "yaxis": "y"
          },
          {
           "hovertemplate": "Land=%{y}<br>year=1998<br>Produzierte Menge (in MJ)=%{x}<extra></extra>",
           "legendgroup": "Denmark",
           "marker": {
            "color": "#00cc96",
            "pattern": {
             "shape": ""
            }
           },
           "name": "Denmark",
           "orientation": "h",
           "showlegend": true,
           "textposition": "auto",
           "type": "bar",
           "x": {
            "bdata": "AAAAgMCWhEE=",
            "dtype": "f8"
           },
           "xaxis": "x",
           "y": [
            "Denmark"
           ],
           "yaxis": "y"
          },
          {
           "hovertemplate": "Land=%{y}<br>year=1998<br>Produzierte Menge (in MJ)=%{x}<extra></extra>",
           "legendgroup": "Finland",
           "marker": {
            "color": "#ab63fa",
            "pattern": {
             "shape": ""
            }
           },
           "name": "Finland",
           "orientation": "h",
           "showlegend": true,
           "textposition": "auto",
           "type": "bar",
           "x": {
            "bdata": "AAAAAIgqMUE=",
            "dtype": "f8"
           },
           "xaxis": "x",
           "y": [
            "Finland"
           ],
           "yaxis": "y"
          },
          {
           "hovertemplate": "Land=%{y}<br>year=1998<br>Produzierte Menge (in MJ)=%{x}<extra></extra>",
           "legendgroup": "France",
           "marker": {
            "color": "#FFA15A",
            "pattern": {
             "shape": ""
            }
           },
           "name": "France",
           "orientation": "h",
           "showlegend": true,
           "textposition": "auto",
           "type": "bar",
           "x": {
            "bdata": "AAAAQAuvlEE=",
            "dtype": "f8"
           },
           "xaxis": "x",
           "y": [
            "France"
           ],
           "yaxis": "y"
          },
          {
           "hovertemplate": "Land=%{y}<br>year=1998<br>Produzierte Menge (in MJ)=%{x}<extra></extra>",
           "legendgroup": "Greece",
           "marker": {
            "color": "#19d3f3",
            "pattern": {
             "shape": ""
            }
           },
           "name": "Greece",
           "orientation": "h",
           "showlegend": true,
           "textposition": "auto",
           "type": "bar",
           "x": {
            "bdata": "AAAAAJTmW0E=",
            "dtype": "f8"
           },
           "xaxis": "x",
           "y": [
            "Greece"
           ],
           "yaxis": "y"
          },
          {
           "hovertemplate": "Land=%{y}<br>year=1998<br>Produzierte Menge (in MJ)=%{x}<extra></extra>",
           "legendgroup": "Hungary",
           "marker": {
            "color": "#FF6692",
            "pattern": {
             "shape": ""
            }
           },
           "name": "Hungary",
           "orientation": "h",
           "showlegend": true,
           "textposition": "auto",
           "type": "bar",
           "x": {
            "bdata": "AAAAAOULbkE=",
            "dtype": "f8"
           },
           "xaxis": "x",
           "y": [
            "Hungary"
           ],
           "yaxis": "y"
          },
          {
           "hovertemplate": "Land=%{y}<br>year=1998<br>Produzierte Menge (in MJ)=%{x}<extra></extra>",
           "legendgroup": "Ireland",
           "marker": {
            "color": "#B6E880",
            "pattern": {
             "shape": ""
            }
           },
           "name": "Ireland",
           "orientation": "h",
           "showlegend": true,
           "textposition": "auto",
           "type": "bar",
           "x": {
            "bdata": "AAAAAPhHMEE=",
            "dtype": "f8"
           },
           "xaxis": "x",
           "y": [
            "Ireland"
           ],
           "yaxis": "y"
          },
          {
           "hovertemplate": "Land=%{y}<br>year=1998<br>Produzierte Menge (in MJ)=%{x}<extra></extra>",
           "legendgroup": "Italy",
           "marker": {
            "color": "#FF97FF",
            "pattern": {
             "shape": ""
            }
           },
           "name": "Italy",
           "orientation": "h",
           "showlegend": true,
           "textposition": "auto",
           "type": "bar",
           "x": {
            "bdata": "AAAAAFj2ikE=",
            "dtype": "f8"
           },
           "xaxis": "x",
           "y": [
            "Italy"
           ],
           "yaxis": "y"
          },
          {
           "hovertemplate": "Land=%{y}<br>year=1998<br>Produzierte Menge (in MJ)=%{x}<extra></extra>",
           "legendgroup": "Luxembourg",
           "marker": {
            "color": "#FECB52",
            "pattern": {
             "shape": ""
            }
           },
           "name": "Luxembourg",
           "orientation": "h",
           "showlegend": true,
           "textposition": "auto",
           "type": "bar",
           "x": {
            "bdata": "AAAAAKAmMUE=",
            "dtype": "f8"
           },
           "xaxis": "x",
           "y": [
            "Luxembourg"
           ],
           "yaxis": "y"
          },
          {
           "hovertemplate": "Land=%{y}<br>year=1998<br>Produzierte Menge (in MJ)=%{x}<extra></extra>",
           "legendgroup": "Netherlands",
           "marker": {
            "color": "#636efa",
            "pattern": {
             "shape": ""
            }
           },
           "name": "Netherlands",
           "orientation": "h",
           "showlegend": true,
           "textposition": "auto",
           "type": "bar",
           "x": {
            "bdata": "AAAAgD7hiUE=",
            "dtype": "f8"
           },
           "xaxis": "x",
           "y": [
            "Netherlands"
           ],
           "yaxis": "y"
          },
          {
           "hovertemplate": "Land=%{y}<br>year=1998<br>Produzierte Menge (in MJ)=%{x}<extra></extra>",
           "legendgroup": "Norway",
           "marker": {
            "color": "#EF553B",
            "pattern": {
             "shape": ""
            }
           },
           "name": "Norway",
           "orientation": "h",
           "showlegend": true,
           "textposition": "auto",
           "type": "bar",
           "x": {
            "bdata": "AAAAABQ9WEE=",
            "dtype": "f8"
           },
           "xaxis": "x",
           "y": [
            "Norway"
           ],
           "yaxis": "y"
          },
          {
           "hovertemplate": "Land=%{y}<br>year=1998<br>Produzierte Menge (in MJ)=%{x}<extra></extra>",
           "legendgroup": "Poland",
           "marker": {
            "color": "#00cc96",
            "pattern": {
             "shape": ""
            }
           },
           "name": "Poland",
           "orientation": "h",
           "showlegend": true,
           "textposition": "auto",
           "type": "bar",
           "x": {
            "bdata": "AAAAgOE0eUE=",
            "dtype": "f8"
           },
           "xaxis": "x",
           "y": [
            "Poland"
           ],
           "yaxis": "y"
          },
          {
           "hovertemplate": "Land=%{y}<br>year=1998<br>Produzierte Menge (in MJ)=%{x}<extra></extra>",
           "legendgroup": "Portugal",
           "marker": {
            "color": "#ab63fa",
            "pattern": {
             "shape": ""
            }
           },
           "name": "Portugal",
           "orientation": "h",
           "showlegend": true,
           "textposition": "auto",
           "type": "bar",
           "x": {
            "bdata": "AAAAgPzfe0E=",
            "dtype": "f8"
           },
           "xaxis": "x",
           "y": [
            "Portugal"
           ],
           "yaxis": "y"
          },
          {
           "hovertemplate": "Land=%{y}<br>year=1998<br>Produzierte Menge (in MJ)=%{x}<extra></extra>",
           "legendgroup": "Spain",
           "marker": {
            "color": "#FFA15A",
            "pattern": {
             "shape": ""
            }
           },
           "name": "Spain",
           "orientation": "h",
           "showlegend": true,
           "textposition": "auto",
           "type": "bar",
           "x": {
            "bdata": "AAAAAA++hEE=",
            "dtype": "f8"
           },
           "xaxis": "x",
           "y": [
            "Spain"
           ],
           "yaxis": "y"
          },
          {
           "hovertemplate": "Land=%{y}<br>year=1998<br>Produzierte Menge (in MJ)=%{x}<extra></extra>",
           "legendgroup": "Sweden",
           "marker": {
            "color": "#19d3f3",
            "pattern": {
             "shape": ""
            }
           },
           "name": "Sweden",
           "orientation": "h",
           "showlegend": true,
           "textposition": "auto",
           "type": "bar",
           "x": {
            "bdata": "AAAAQJJygEE=",
            "dtype": "f8"
           },
           "xaxis": "x",
           "y": [
            "Sweden"
           ],
           "yaxis": "y"
          },
          {
           "hovertemplate": "Land=%{y}<br>year=1998<br>Produzierte Menge (in MJ)=%{x}<extra></extra>",
           "legendgroup": "Switzerland",
           "marker": {
            "color": "#FF6692",
            "pattern": {
             "shape": ""
            }
           },
           "name": "Switzerland",
           "orientation": "h",
           "showlegend": true,
           "textposition": "auto",
           "type": "bar",
           "x": {
            "bdata": "AAAAgFBPfEE=",
            "dtype": "f8"
           },
           "xaxis": "x",
           "y": [
            "Switzerland"
           ],
           "yaxis": "y"
          },
          {
           "hovertemplate": "Land=%{y}<br>year=1998<br>Produzierte Menge (in MJ)=%{x}<extra></extra>",
           "legendgroup": "United Kingdom",
           "marker": {
            "color": "#B6E880",
            "pattern": {
             "shape": ""
            }
           },
           "name": "United Kingdom",
           "orientation": "h",
           "showlegend": true,
           "textposition": "auto",
           "type": "bar",
           "x": {
            "bdata": "AAAAgBIqhkE=",
            "dtype": "f8"
           },
           "xaxis": "x",
           "y": [
            "United Kingdom"
           ],
           "yaxis": "y"
          },
          {
           "hovertemplate": "Land=%{y}<br>year=1998<br>Produzierte Menge (in MJ)=%{x}<extra></extra>",
           "legendgroup": "Germany",
           "marker": {
            "color": "#FF97FF",
            "pattern": {
             "shape": ""
            }
           },
           "name": "Germany",
           "orientation": "h",
           "showlegend": true,
           "textposition": "auto",
           "type": "bar",
           "x": {
            "bdata": "AAAAINROkkE=",
            "dtype": "f8"
           },
           "xaxis": "x",
           "y": [
            "Germany"
           ],
           "yaxis": "y"
          },
          {
           "hovertemplate": "Land=%{y}<br>year=1998<br>Produzierte Menge (in MJ)=%{x}<extra></extra>",
           "legendgroup": "Belarus",
           "marker": {
            "color": "#FECB52",
            "pattern": {
             "shape": ""
            }
           },
           "name": "Belarus",
           "orientation": "h",
           "showlegend": true,
           "textposition": "auto",
           "type": "bar",
           "x": {
            "bdata": "AAAAAMB6EEE=",
            "dtype": "f8"
           },
           "xaxis": "x",
           "y": [
            "Belarus"
           ],
           "yaxis": "y"
          },
          {
           "hovertemplate": "Land=%{y}<br>year=1998<br>Produzierte Menge (in MJ)=%{x}<extra></extra>",
           "legendgroup": "Croatia",
           "marker": {
            "color": "#636efa",
            "pattern": {
             "shape": ""
            }
           },
           "name": "Croatia",
           "orientation": "h",
           "showlegend": true,
           "textposition": "auto",
           "type": "bar",
           "x": {
            "bdata": "AAAAAAAAAAA=",
            "dtype": "f8"
           },
           "xaxis": "x",
           "y": [
            "Croatia"
           ],
           "yaxis": "y"
          },
          {
           "hovertemplate": "Land=%{y}<br>year=1998<br>Produzierte Menge (in MJ)=%{x}<extra></extra>",
           "legendgroup": "Czech Republic",
           "marker": {
            "color": "#EF553B",
            "pattern": {
             "shape": ""
            }
           },
           "name": "Czech Republic",
           "orientation": "h",
           "showlegend": true,
           "textposition": "auto",
           "type": "bar",
           "x": {
            "bdata": "AAAAAGB4Q0E=",
            "dtype": "f8"
           },
           "xaxis": "x",
           "y": [
            "Czech Republic"
           ],
           "yaxis": "y"
          },
          {
           "hovertemplate": "Land=%{y}<br>year=1998<br>Produzierte Menge (in MJ)=%{x}<extra></extra>",
           "legendgroup": "Estonia",
           "marker": {
            "color": "#00cc96",
            "pattern": {
             "shape": ""
            }
           },
           "name": "Estonia",
           "orientation": "h",
           "showlegend": true,
           "textposition": "auto",
           "type": "bar",
           "x": {
            "bdata": "AAAAAAAX8UA=",
            "dtype": "f8"
           },
           "xaxis": "x",
           "y": [
            "Estonia"
           ],
           "yaxis": "y"
          },
          {
           "hovertemplate": "Land=%{y}<br>year=1998<br>Produzierte Menge (in MJ)=%{x}<extra></extra>",
           "legendgroup": "Latvia",
           "marker": {
            "color": "#ab63fa",
            "pattern": {
             "shape": ""
            }
           },
           "name": "Latvia",
           "orientation": "h",
           "showlegend": true,
           "textposition": "auto",
           "type": "bar",
           "x": {
            "bdata": "AAAAAC6SV0E=",
            "dtype": "f8"
           },
           "xaxis": "x",
           "y": [
            "Latvia"
           ],
           "yaxis": "y"
          },
          {
           "hovertemplate": "Land=%{y}<br>year=1998<br>Produzierte Menge (in MJ)=%{x}<extra></extra>",
           "legendgroup": "Lithuania",
           "marker": {
            "color": "#FFA15A",
            "pattern": {
             "shape": ""
            }
           },
           "name": "Lithuania",
           "orientation": "h",
           "showlegend": true,
           "textposition": "auto",
           "type": "bar",
           "x": {
            "bdata": "AAAAAAJkYkE=",
            "dtype": "f8"
           },
           "xaxis": "x",
           "y": [
            "Lithuania"
           ],
           "yaxis": "y"
          },
          {
           "hovertemplate": "Land=%{y}<br>year=1998<br>Produzierte Menge (in MJ)=%{x}<extra></extra>",
           "legendgroup": "Iceland",
           "marker": {
            "color": "#FF6692",
            "pattern": {
             "shape": ""
            }
           },
           "name": "Iceland",
           "orientation": "h",
           "showlegend": true,
           "textposition": "auto",
           "type": "bar",
           "x": {
            "bdata": "AAAAAAD55UA=",
            "dtype": "f8"
           },
           "xaxis": "x",
           "y": [
            "Iceland"
           ],
           "yaxis": "y"
          }
         ],
         "name": "1998"
        },
        {
         "data": [
          {
           "hovertemplate": "Land=%{y}<br>year=1999<br>Produzierte Menge (in MJ)=%{x}<extra></extra>",
           "legendgroup": "Austria",
           "marker": {
            "color": "#636efa",
            "pattern": {
             "shape": ""
            }
           },
           "name": "Austria",
           "orientation": "h",
           "showlegend": true,
           "textposition": "auto",
           "type": "bar",
           "x": {
            "bdata": "AAAAACORZEE=",
            "dtype": "f8"
           },
           "xaxis": "x",
           "y": [
            "Austria"
           ],
           "yaxis": "y"
          },
          {
           "hovertemplate": "Land=%{y}<br>year=1999<br>Produzierte Menge (in MJ)=%{x}<extra></extra>",
           "legendgroup": "Belgium",
           "marker": {
            "color": "#EF553B",
            "pattern": {
             "shape": ""
            }
           },
           "name": "Belgium",
           "orientation": "h",
           "showlegend": true,
           "textposition": "auto",
           "type": "bar",
           "x": {
            "bdata": "AAAAANgcb0E=",
            "dtype": "f8"
           },
           "xaxis": "x",
           "y": [
            "Belgium"
           ],
           "yaxis": "y"
          },
          {
           "hovertemplate": "Land=%{y}<br>year=1999<br>Produzierte Menge (in MJ)=%{x}<extra></extra>",
           "legendgroup": "Denmark",
           "marker": {
            "color": "#00cc96",
            "pattern": {
             "shape": ""
            }
           },
           "name": "Denmark",
           "orientation": "h",
           "showlegend": true,
           "textposition": "auto",
           "type": "bar",
           "x": {
            "bdata": "AAAAQNuwhUE=",
            "dtype": "f8"
           },
           "xaxis": "x",
           "y": [
            "Denmark"
           ],
           "yaxis": "y"
          },
          {
           "hovertemplate": "Land=%{y}<br>year=1999<br>Produzierte Menge (in MJ)=%{x}<extra></extra>",
           "legendgroup": "Finland",
           "marker": {
            "color": "#ab63fa",
            "pattern": {
             "shape": ""
            }
           },
           "name": "Finland",
           "orientation": "h",
           "showlegend": true,
           "textposition": "auto",
           "type": "bar",
           "x": {
            "bdata": "AAAAAOgCNUE=",
            "dtype": "f8"
           },
           "xaxis": "x",
           "y": [
            "Finland"
           ],
           "yaxis": "y"
          },
          {
           "hovertemplate": "Land=%{y}<br>year=1999<br>Produzierte Menge (in MJ)=%{x}<extra></extra>",
           "legendgroup": "France",
           "marker": {
            "color": "#FFA15A",
            "pattern": {
             "shape": ""
            }
           },
           "name": "France",
           "orientation": "h",
           "showlegend": true,
           "textposition": "auto",
           "type": "bar",
           "x": {
            "bdata": "AAAAIHnXlkE=",
            "dtype": "f8"
           },
           "xaxis": "x",
           "y": [
            "France"
           ],
           "yaxis": "y"
          },
          {
           "hovertemplate": "Land=%{y}<br>year=1999<br>Produzierte Menge (in MJ)=%{x}<extra></extra>",
           "legendgroup": "Greece",
           "marker": {
            "color": "#19d3f3",
            "pattern": {
             "shape": ""
            }
           },
           "name": "Greece",
           "orientation": "h",
           "showlegend": true,
           "textposition": "auto",
           "type": "bar",
           "x": {
            "bdata": "AAAAAERZYkE=",
            "dtype": "f8"
           },
           "xaxis": "x",
           "y": [
            "Greece"
           ],
           "yaxis": "y"
          },
          {
           "hovertemplate": "Land=%{y}<br>year=1999<br>Produzierte Menge (in MJ)=%{x}<extra></extra>",
           "legendgroup": "Hungary",
           "marker": {
            "color": "#FF6692",
            "pattern": {
             "shape": ""
            }
           },
           "name": "Hungary",
           "orientation": "h",
           "showlegend": true,
           "textposition": "auto",
           "type": "bar",
           "x": {
            "bdata": "AAAAAIRyQ0E=",
            "dtype": "f8"
           },
           "xaxis": "x",
           "y": [
            "Hungary"
           ],
           "yaxis": "y"
          },
          {
           "hovertemplate": "Land=%{y}<br>year=1999<br>Produzierte Menge (in MJ)=%{x}<extra></extra>",
           "legendgroup": "Ireland",
           "marker": {
            "color": "#B6E880",
            "pattern": {
             "shape": ""
            }
           },
           "name": "Ireland",
           "orientation": "h",
           "showlegend": true,
           "textposition": "auto",
           "type": "bar",
           "x": {
            "bdata": "AAAAAEiIMUE=",
            "dtype": "f8"
           },
           "xaxis": "x",
           "y": [
            "Ireland"
           ],
           "yaxis": "y"
          },
          {
           "hovertemplate": "Land=%{y}<br>year=1999<br>Produzierte Menge (in MJ)=%{x}<extra></extra>",
           "legendgroup": "Italy",
           "marker": {
            "color": "#FF97FF",
            "pattern": {
             "shape": ""
            }
           },
           "name": "Italy",
           "orientation": "h",
           "showlegend": true,
           "textposition": "auto",
           "type": "bar",
           "x": {
            "bdata": "AAAAAD3gdEE=",
            "dtype": "f8"
           },
           "xaxis": "x",
           "y": [
            "Italy"
           ],
           "yaxis": "y"
          },
          {
           "hovertemplate": "Land=%{y}<br>year=1999<br>Produzierte Menge (in MJ)=%{x}<extra></extra>",
           "legendgroup": "Luxembourg",
           "marker": {
            "color": "#FECB52",
            "pattern": {
             "shape": ""
            }
           },
           "name": "Luxembourg",
           "orientation": "h",
           "showlegend": true,
           "textposition": "auto",
           "type": "bar",
           "x": {
            "bdata": "AAAAAIihMkE=",
            "dtype": "f8"
           },
           "xaxis": "x",
           "y": [
            "Luxembourg"
           ],
           "yaxis": "y"
          },
          {
           "hovertemplate": "Land=%{y}<br>year=1999<br>Produzierte Menge (in MJ)=%{x}<extra></extra>",
           "legendgroup": "Netherlands",
           "marker": {
            "color": "#636efa",
            "pattern": {
             "shape": ""
            }
           },
           "name": "Netherlands",
           "orientation": "h",
           "showlegend": true,
           "textposition": "auto",
           "type": "bar",
           "x": {
            "bdata": "AAAAQE16i0E=",
            "dtype": "f8"
           },
           "xaxis": "x",
           "y": [
            "Netherlands"
           ],
           "yaxis": "y"
          },
          {
           "hovertemplate": "Land=%{y}<br>year=1999<br>Produzierte Menge (in MJ)=%{x}<extra></extra>",
           "legendgroup": "Norway",
           "marker": {
            "color": "#EF553B",
            "pattern": {
             "shape": ""
            }
           },
           "name": "Norway",
           "orientation": "h",
           "showlegend": true,
           "textposition": "auto",
           "type": "bar",
           "x": {
            "bdata": "AAAAAO7jWUE=",
            "dtype": "f8"
           },
           "xaxis": "x",
           "y": [
            "Norway"
           ],
           "yaxis": "y"
          },
          {
           "hovertemplate": "Land=%{y}<br>year=1999<br>Produzierte Menge (in MJ)=%{x}<extra></extra>",
           "legendgroup": "Poland",
           "marker": {
            "color": "#00cc96",
            "pattern": {
             "shape": ""
            }
           },
           "name": "Poland",
           "orientation": "h",
           "showlegend": true,
           "textposition": "auto",
           "type": "bar",
           "x": {
            "bdata": "AAAAgFkbekE=",
            "dtype": "f8"
           },
           "xaxis": "x",
           "y": [
            "Poland"
           ],
           "yaxis": "y"
          },
          {
           "hovertemplate": "Land=%{y}<br>year=1999<br>Produzierte Menge (in MJ)=%{x}<extra></extra>",
           "legendgroup": "Portugal",
           "marker": {
            "color": "#ab63fa",
            "pattern": {
             "shape": ""
            }
           },
           "name": "Portugal",
           "orientation": "h",
           "showlegend": true,
           "textposition": "auto",
           "type": "bar",
           "x": {
            "bdata": "AAAAgFrofkE=",
            "dtype": "f8"
           },
           "xaxis": "x",
           "y": [
            "Portugal"
           ],
           "yaxis": "y"
          },
          {
           "hovertemplate": "Land=%{y}<br>year=1999<br>Produzierte Menge (in MJ)=%{x}<extra></extra>",
           "legendgroup": "Spain",
           "marker": {
            "color": "#FFA15A",
            "pattern": {
             "shape": ""
            }
           },
           "name": "Spain",
           "orientation": "h",
           "showlegend": true,
           "textposition": "auto",
           "type": "bar",
           "x": {
            "bdata": "AAAAAPeRfEE=",
            "dtype": "f8"
           },
           "xaxis": "x",
           "y": [
            "Spain"
           ],
           "yaxis": "y"
          },
          {
           "hovertemplate": "Land=%{y}<br>year=1999<br>Produzierte Menge (in MJ)=%{x}<extra></extra>",
           "legendgroup": "Sweden",
           "marker": {
            "color": "#19d3f3",
            "pattern": {
             "shape": ""
            }
           },
           "name": "Sweden",
           "orientation": "h",
           "showlegend": true,
           "textposition": "auto",
           "type": "bar",
           "x": {
            "bdata": "AAAAYDRTk0E=",
            "dtype": "f8"
           },
           "xaxis": "x",
           "y": [
            "Sweden"
           ],
           "yaxis": "y"
          },
          {
           "hovertemplate": "Land=%{y}<br>year=1999<br>Produzierte Menge (in MJ)=%{x}<extra></extra>",
           "legendgroup": "Switzerland",
           "marker": {
            "color": "#FF6692",
            "pattern": {
             "shape": ""
            }
           },
           "name": "Switzerland",
           "orientation": "h",
           "showlegend": true,
           "textposition": "auto",
           "type": "bar",
           "x": {
            "bdata": "AAAAgELDgEE=",
            "dtype": "f8"
           },
           "xaxis": "x",
           "y": [
            "Switzerland"
           ],
           "yaxis": "y"
          },
          {
           "hovertemplate": "Land=%{y}<br>year=1999<br>Produzierte Menge (in MJ)=%{x}<extra></extra>",
           "legendgroup": "United Kingdom",
           "marker": {
            "color": "#B6E880",
            "pattern": {
             "shape": ""
            }
           },
           "name": "United Kingdom",
           "orientation": "h",
           "showlegend": true,
           "textposition": "auto",
           "type": "bar",
           "x": {
            "bdata": "AAAAQNNAikE=",
            "dtype": "f8"
           },
           "xaxis": "x",
           "y": [
            "United Kingdom"
           ],
           "yaxis": "y"
          },
          {
           "hovertemplate": "Land=%{y}<br>year=1999<br>Produzierte Menge (in MJ)=%{x}<extra></extra>",
           "legendgroup": "Germany",
           "marker": {
            "color": "#FF97FF",
            "pattern": {
             "shape": ""
            }
           },
           "name": "Germany",
           "orientation": "h",
           "showlegend": true,
           "textposition": "auto",
           "type": "bar",
           "x": {
            "bdata": "AAAAoITor0E=",
            "dtype": "f8"
           },
           "xaxis": "x",
           "y": [
            "Germany"
           ],
           "yaxis": "y"
          },
          {
           "hovertemplate": "Land=%{y}<br>year=1999<br>Produzierte Menge (in MJ)=%{x}<extra></extra>",
           "legendgroup": "Belarus",
           "marker": {
            "color": "#FECB52",
            "pattern": {
             "shape": ""
            }
           },
           "name": "Belarus",
           "orientation": "h",
           "showlegend": true,
           "textposition": "auto",
           "type": "bar",
           "x": {
            "bdata": "AAAAAKCXE0E=",
            "dtype": "f8"
           },
           "xaxis": "x",
           "y": [
            "Belarus"
           ],
           "yaxis": "y"
          },
          {
           "hovertemplate": "Land=%{y}<br>year=1999<br>Produzierte Menge (in MJ)=%{x}<extra></extra>",
           "legendgroup": "Croatia",
           "marker": {
            "color": "#636efa",
            "pattern": {
             "shape": ""
            }
           },
           "name": "Croatia",
           "orientation": "h",
           "showlegend": true,
           "textposition": "auto",
           "type": "bar",
           "x": {
            "bdata": "AAAAAAAAAAA=",
            "dtype": "f8"
           },
           "xaxis": "x",
           "y": [
            "Croatia"
           ],
           "yaxis": "y"
          },
          {
           "hovertemplate": "Land=%{y}<br>year=1999<br>Produzierte Menge (in MJ)=%{x}<extra></extra>",
           "legendgroup": "Czech Republic",
           "marker": {
            "color": "#EF553B",
            "pattern": {
             "shape": ""
            }
           },
           "name": "Czech Republic",
           "orientation": "h",
           "showlegend": true,
           "textposition": "auto",
           "type": "bar",
           "x": {
            "bdata": "AAAAADqQV0E=",
            "dtype": "f8"
           },
           "xaxis": "x",
           "y": [
            "Czech Republic"
           ],
           "yaxis": "y"
          },
          {
           "hovertemplate": "Land=%{y}<br>year=1999<br>Produzierte Menge (in MJ)=%{x}<extra></extra>",
           "legendgroup": "Estonia",
           "marker": {
            "color": "#00cc96",
            "pattern": {
             "shape": ""
            }
           },
           "name": "Estonia",
           "orientation": "h",
           "showlegend": true,
           "textposition": "auto",
           "type": "bar",
           "x": {
            "bdata": "AAAAAABe+kA=",
            "dtype": "f8"
           },
           "xaxis": "x",
           "y": [
            "Estonia"
           ],
           "yaxis": "y"
          },
          {
           "hovertemplate": "Land=%{y}<br>year=1999<br>Produzierte Menge (in MJ)=%{x}<extra></extra>",
           "legendgroup": "Latvia",
           "marker": {
            "color": "#ab63fa",
            "pattern": {
             "shape": ""
            }
           },
           "name": "Latvia",
           "orientation": "h",
           "showlegend": true,
           "textposition": "auto",
           "type": "bar",
           "x": {
            "bdata": "AAAAAAAAAAA=",
            "dtype": "f8"
           },
           "xaxis": "x",
           "y": [
            "Latvia"
           ],
           "yaxis": "y"
          },
          {
           "hovertemplate": "Land=%{y}<br>year=1999<br>Produzierte Menge (in MJ)=%{x}<extra></extra>",
           "legendgroup": "Lithuania",
           "marker": {
            "color": "#FFA15A",
            "pattern": {
             "shape": ""
            }
           },
           "name": "Lithuania",
           "orientation": "h",
           "showlegend": true,
           "textposition": "auto",
           "type": "bar",
           "x": {
            "bdata": "AAAAADjSY0E=",
            "dtype": "f8"
           },
           "xaxis": "x",
           "y": [
            "Lithuania"
           ],
           "yaxis": "y"
          },
          {
           "hovertemplate": "Land=%{y}<br>year=1999<br>Produzierte Menge (in MJ)=%{x}<extra></extra>",
           "legendgroup": "Iceland",
           "marker": {
            "color": "#FF6692",
            "pattern": {
             "shape": ""
            }
           },
           "name": "Iceland",
           "orientation": "h",
           "showlegend": true,
           "textposition": "auto",
           "type": "bar",
           "x": {
            "bdata": "AAAAAAD55UA=",
            "dtype": "f8"
           },
           "xaxis": "x",
           "y": [
            "Iceland"
           ],
           "yaxis": "y"
          },
          {
           "hovertemplate": "Land=%{y}<br>year=1999<br>Produzierte Menge (in MJ)=%{x}<extra></extra>",
           "legendgroup": "Slovenia",
           "marker": {
            "color": "#B6E880",
            "pattern": {
             "shape": ""
            }
           },
           "name": "Slovenia",
           "orientation": "h",
           "showlegend": true,
           "textposition": "auto",
           "type": "bar",
           "x": {
            "bdata": "AAAAAAB21kA=",
            "dtype": "f8"
           },
           "xaxis": "x",
           "y": [
            "Slovenia"
           ],
           "yaxis": "y"
          }
         ],
         "name": "1999"
        },
        {
         "data": [
          {
           "hovertemplate": "Land=%{y}<br>year=2000<br>Produzierte Menge (in MJ)=%{x}<extra></extra>",
           "legendgroup": "Austria",
           "marker": {
            "color": "#636efa",
            "pattern": {
             "shape": ""
            }
           },
           "name": "Austria",
           "orientation": "h",
           "showlegend": true,
           "textposition": "auto",
           "type": "bar",
           "x": {
            "bdata": "AAAAAKAaY0E=",
            "dtype": "f8"
           },
           "xaxis": "x",
           "y": [
            "Austria"
           ],
           "yaxis": "y"
          },
          {
           "hovertemplate": "Land=%{y}<br>year=2000<br>Produzierte Menge (in MJ)=%{x}<extra></extra>",
           "legendgroup": "Belgium",
           "marker": {
            "color": "#EF553B",
            "pattern": {
             "shape": ""
            }
           },
           "name": "Belgium",
           "orientation": "h",
           "showlegend": true,
           "textposition": "auto",
           "type": "bar",
           "x": {
            "bdata": "AAAAAIVpcUE=",
            "dtype": "f8"
           },
           "xaxis": "x",
           "y": [
            "Belgium"
           ],
           "yaxis": "y"
          },
          {
           "hovertemplate": "Land=%{y}<br>year=2000<br>Produzierte Menge (in MJ)=%{x}<extra></extra>",
           "legendgroup": "Denmark",
           "marker": {
            "color": "#00cc96",
            "pattern": {
             "shape": ""
            }
           },
           "name": "Denmark",
           "orientation": "h",
           "showlegend": true,
           "textposition": "auto",
           "type": "bar",
           "x": {
            "bdata": "AAAAAP26hUE=",
            "dtype": "f8"
           },
           "xaxis": "x",
           "y": [
            "Denmark"
           ],
           "yaxis": "y"
          },
          {
           "hovertemplate": "Land=%{y}<br>year=2000<br>Produzierte Menge (in MJ)=%{x}<extra></extra>",
           "legendgroup": "Finland",
           "marker": {
            "color": "#ab63fa",
            "pattern": {
             "shape": ""
            }
           },
           "name": "Finland",
           "orientation": "h",
           "showlegend": true,
           "textposition": "auto",
           "type": "bar",
           "x": {
            "bdata": "AAAAAH4CUUE=",
            "dtype": "f8"
           },
           "xaxis": "x",
           "y": [
            "Finland"
           ],
           "yaxis": "y"
          },
          {
           "hovertemplate": "Land=%{y}<br>year=2000<br>Produzierte Menge (in MJ)=%{x}<extra></extra>",
           "legendgroup": "France",
           "marker": {
            "color": "#FFA15A",
            "pattern": {
             "shape": ""
            }
           },
           "name": "France",
           "orientation": "h",
           "showlegend": true,
           "textposition": "auto",
           "type": "bar",
           "x": {
            "bdata": "AAAAgN72mEE=",
            "dtype": "f8"
           },
           "xaxis": "x",
           "y": [
            "France"
           ],
           "yaxis": "y"
          },
          {
           "hovertemplate": "Land=%{y}<br>year=2000<br>Produzierte Menge (in MJ)=%{x}<extra></extra>",
           "legendgroup": "Greece",
           "marker": {
            "color": "#19d3f3",
            "pattern": {
             "shape": ""
            }
           },
           "name": "Greece",
           "orientation": "h",
           "showlegend": true,
           "textposition": "auto",
           "type": "bar",
           "x": {
            "bdata": "AAAAABgHY0E=",
            "dtype": "f8"
           },
           "xaxis": "x",
           "y": [
            "Greece"
           ],
           "yaxis": "y"
          },
          {
           "hovertemplate": "Land=%{y}<br>year=2000<br>Produzierte Menge (in MJ)=%{x}<extra></extra>",
           "legendgroup": "Hungary",
           "marker": {
            "color": "#FF6692",
            "pattern": {
             "shape": ""
            }
           },
           "name": "Hungary",
           "orientation": "h",
           "showlegend": true,
           "textposition": "auto",
           "type": "bar",
           "x": {
            "bdata": "AAAAAIRyQ0E=",
            "dtype": "f8"
           },
           "xaxis": "x",
           "y": [
            "Hungary"
           ],
           "yaxis": "y"
          },
          {
           "hovertemplate": "Land=%{y}<br>year=2000<br>Produzierte Menge (in MJ)=%{x}<extra></extra>",
           "legendgroup": "Ireland",
           "marker": {
            "color": "#B6E880",
            "pattern": {
             "shape": ""
            }
           },
           "name": "Ireland",
           "orientation": "h",
           "showlegend": true,
           "textposition": "auto",
           "type": "bar",
           "x": {
            "bdata": "AAAAAIDSMUE=",
            "dtype": "f8"
           },
           "xaxis": "x",
           "y": [
            "Ireland"
           ],
           "yaxis": "y"
          },
          {
           "hovertemplate": "Land=%{y}<br>year=2000<br>Produzierte Menge (in MJ)=%{x}<extra></extra>",
           "legendgroup": "Italy",
           "marker": {
            "color": "#FF97FF",
            "pattern": {
             "shape": ""
            }
           },
           "name": "Italy",
           "orientation": "h",
           "showlegend": true,
           "textposition": "auto",
           "type": "bar",
           "x": {
            "bdata": "AAAAAPSPckE=",
            "dtype": "f8"
           },
           "xaxis": "x",
           "y": [
            "Italy"
           ],
           "yaxis": "y"
          },
          {
           "hovertemplate": "Land=%{y}<br>year=2000<br>Produzierte Menge (in MJ)=%{x}<extra></extra>",
           "legendgroup": "Luxembourg",
           "marker": {
            "color": "#FECB52",
            "pattern": {
             "shape": ""
            }
           },
           "name": "Luxembourg",
           "orientation": "h",
           "showlegend": true,
           "textposition": "auto",
           "type": "bar",
           "x": {
            "bdata": "AAAAAACOMkE=",
            "dtype": "f8"
           },
           "xaxis": "x",
           "y": [
            "Luxembourg"
           ],
           "yaxis": "y"
          },
          {
           "hovertemplate": "Land=%{y}<br>year=2000<br>Produzierte Menge (in MJ)=%{x}<extra></extra>",
           "legendgroup": "Netherlands",
           "marker": {
            "color": "#636efa",
            "pattern": {
             "shape": ""
            }
           },
           "name": "Netherlands",
           "orientation": "h",
           "showlegend": true,
           "textposition": "auto",
           "type": "bar",
           "x": {
            "bdata": "AAAAwLoEjEE=",
            "dtype": "f8"
           },
           "xaxis": "x",
           "y": [
            "Netherlands"
           ],
           "yaxis": "y"
          },
          {
           "hovertemplate": "Land=%{y}<br>year=2000<br>Produzierte Menge (in MJ)=%{x}<extra></extra>",
           "legendgroup": "Norway",
           "marker": {
            "color": "#EF553B",
            "pattern": {
             "shape": ""
            }
           },
           "name": "Norway",
           "orientation": "h",
           "showlegend": true,
           "textposition": "auto",
           "type": "bar",
           "x": {
            "bdata": "AAAAALCgWEE=",
            "dtype": "f8"
           },
           "xaxis": "x",
           "y": [
            "Norway"
           ],
           "yaxis": "y"
          },
          {
           "hovertemplate": "Land=%{y}<br>year=2000<br>Produzierte Menge (in MJ)=%{x}<extra></extra>",
           "legendgroup": "Poland",
           "marker": {
            "color": "#00cc96",
            "pattern": {
             "shape": ""
            }
           },
           "name": "Poland",
           "orientation": "h",
           "showlegend": true,
           "textposition": "auto",
           "type": "bar",
           "x": {
            "bdata": "AAAAAGrzekE=",
            "dtype": "f8"
           },
           "xaxis": "x",
           "y": [
            "Poland"
           ],
           "yaxis": "y"
          },
          {
           "hovertemplate": "Land=%{y}<br>year=2000<br>Produzierte Menge (in MJ)=%{x}<extra></extra>",
           "legendgroup": "Portugal",
           "marker": {
            "color": "#ab63fa",
            "pattern": {
             "shape": ""
            }
           },
           "name": "Portugal",
           "orientation": "h",
           "showlegend": true,
           "textposition": "auto",
           "type": "bar",
           "x": {
            "bdata": "AAAAQKpogUE=",
            "dtype": "f8"
           },
           "xaxis": "x",
           "y": [
            "Portugal"
           ],
           "yaxis": "y"
          },
          {
           "hovertemplate": "Land=%{y}<br>year=2000<br>Produzierte Menge (in MJ)=%{x}<extra></extra>",
           "legendgroup": "Spain",
           "marker": {
            "color": "#FFA15A",
            "pattern": {
             "shape": ""
            }
           },
           "name": "Spain",
           "orientation": "h",
           "showlegend": true,
           "textposition": "auto",
           "type": "bar",
           "x": {
            "bdata": "AAAAAAi2eUE=",
            "dtype": "f8"
           },
           "xaxis": "x",
           "y": [
            "Spain"
           ],
           "yaxis": "y"
          },
          {
           "hovertemplate": "Land=%{y}<br>year=2000<br>Produzierte Menge (in MJ)=%{x}<extra></extra>",
           "legendgroup": "Sweden",
           "marker": {
            "color": "#19d3f3",
            "pattern": {
             "shape": ""
            }
           },
           "name": "Sweden",
           "orientation": "h",
           "showlegend": true,
           "textposition": "auto",
           "type": "bar",
           "x": {
            "bdata": "AAAAQCxZh0E=",
            "dtype": "f8"
           },
           "xaxis": "x",
           "y": [
            "Sweden"
           ],
           "yaxis": "y"
          },
          {
           "hovertemplate": "Land=%{y}<br>year=2000<br>Produzierte Menge (in MJ)=%{x}<extra></extra>",
           "legendgroup": "Switzerland",
           "marker": {
            "color": "#FF6692",
            "pattern": {
             "shape": ""
            }
           },
           "name": "Switzerland",
           "orientation": "h",
           "showlegend": true,
           "textposition": "auto",
           "type": "bar",
           "x": {
            "bdata": "AAAAAGfrgUE=",
            "dtype": "f8"
           },
           "xaxis": "x",
           "y": [
            "Switzerland"
           ],
           "yaxis": "y"
          },
          {
           "hovertemplate": "Land=%{y}<br>year=2000<br>Produzierte Menge (in MJ)=%{x}<extra></extra>",
           "legendgroup": "United Kingdom",
           "marker": {
            "color": "#B6E880",
            "pattern": {
             "shape": ""
            }
           },
           "name": "United Kingdom",
           "orientation": "h",
           "showlegend": true,
           "textposition": "auto",
           "type": "bar",
           "x": {
            "bdata": "AAAAwMdejkE=",
            "dtype": "f8"
           },
           "xaxis": "x",
           "y": [
            "United Kingdom"
           ],
           "yaxis": "y"
          },
          {
           "hovertemplate": "Land=%{y}<br>year=2000<br>Produzierte Menge (in MJ)=%{x}<extra></extra>",
           "legendgroup": "Germany",
           "marker": {
            "color": "#FF97FF",
            "pattern": {
             "shape": ""
            }
           },
           "name": "Germany",
           "orientation": "h",
           "showlegend": true,
           "textposition": "auto",
           "type": "bar",
           "x": {
            "bdata": "AAAASL4fsUE=",
            "dtype": "f8"
           },
           "xaxis": "x",
           "y": [
            "Germany"
           ],
           "yaxis": "y"
          },
          {
           "hovertemplate": "Land=%{y}<br>year=2000<br>Produzierte Menge (in MJ)=%{x}<extra></extra>",
           "legendgroup": "Belarus",
           "marker": {
            "color": "#FECB52",
            "pattern": {
             "shape": ""
            }
           },
           "name": "Belarus",
           "orientation": "h",
           "showlegend": true,
           "textposition": "auto",
           "type": "bar",
           "x": {
            "bdata": "AAAAAADPHEE=",
            "dtype": "f8"
           },
           "xaxis": "x",
           "y": [
            "Belarus"
           ],
           "yaxis": "y"
          },
          {
           "hovertemplate": "Land=%{y}<br>year=2000<br>Produzierte Menge (in MJ)=%{x}<extra></extra>",
           "legendgroup": "Croatia",
           "marker": {
            "color": "#636efa",
            "pattern": {
             "shape": ""
            }
           },
           "name": "Croatia",
           "orientation": "h",
           "showlegend": true,
           "textposition": "auto",
           "type": "bar",
           "x": {
            "bdata": "AAAAAAAAAAA=",
            "dtype": "f8"
           },
           "xaxis": "x",
           "y": [
            "Croatia"
           ],
           "yaxis": "y"
          },
          {
           "hovertemplate": "Land=%{y}<br>year=2000<br>Produzierte Menge (in MJ)=%{x}<extra></extra>",
           "legendgroup": "Czech Republic",
           "marker": {
            "color": "#EF553B",
            "pattern": {
             "shape": ""
            }
           },
           "name": "Czech Republic",
           "orientation": "h",
           "showlegend": true,
           "textposition": "auto",
           "type": "bar",
           "x": {
            "bdata": "AAAAAN6eXkE=",
            "dtype": "f8"
           },
           "xaxis": "x",
           "y": [
            "Czech Republic"
           ],
           "yaxis": "y"
          },
          {
           "hovertemplate": "Land=%{y}<br>year=2000<br>Produzierte Menge (in MJ)=%{x}<extra></extra>",
           "legendgroup": "Estonia",
           "marker": {
            "color": "#00cc96",
            "pattern": {
             "shape": ""
            }
           },
           "name": "Estonia",
           "orientation": "h",
           "showlegend": true,
           "textposition": "auto",
           "type": "bar",
           "x": {
            "bdata": "AAAAAACO8kA=",
            "dtype": "f8"
           },
           "xaxis": "x",
           "y": [
            "Estonia"
           ],
           "yaxis": "y"
          },
          {
           "hovertemplate": "Land=%{y}<br>year=2000<br>Produzierte Menge (in MJ)=%{x}<extra></extra>",
           "legendgroup": "Latvia",
           "marker": {
            "color": "#ab63fa",
            "pattern": {
             "shape": ""
            }
           },
           "name": "Latvia",
           "orientation": "h",
           "showlegend": true,
           "textposition": "auto",
           "type": "bar",
           "x": {
            "bdata": "AAAAAAAAAAA=",
            "dtype": "f8"
           },
           "xaxis": "x",
           "y": [
            "Latvia"
           ],
           "yaxis": "y"
          },
          {
           "hovertemplate": "Land=%{y}<br>year=2000<br>Produzierte Menge (in MJ)=%{x}<extra></extra>",
           "legendgroup": "Lithuania",
           "marker": {
            "color": "#FFA15A",
            "pattern": {
             "shape": ""
            }
           },
           "name": "Lithuania",
           "orientation": "h",
           "showlegend": true,
           "textposition": "auto",
           "type": "bar",
           "x": {
            "bdata": "AAAAAAYEZEE=",
            "dtype": "f8"
           },
           "xaxis": "x",
           "y": [
            "Lithuania"
           ],
           "yaxis": "y"
          },
          {
           "hovertemplate": "Land=%{y}<br>year=2000<br>Produzierte Menge (in MJ)=%{x}<extra></extra>",
           "legendgroup": "Iceland",
           "marker": {
            "color": "#FF6692",
            "pattern": {
             "shape": ""
            }
           },
           "name": "Iceland",
           "orientation": "h",
           "showlegend": true,
           "textposition": "auto",
           "type": "bar",
           "x": {
            "bdata": "AAAAAABY60A=",
            "dtype": "f8"
           },
           "xaxis": "x",
           "y": [
            "Iceland"
           ],
           "yaxis": "y"
          },
          {
           "hovertemplate": "Land=%{y}<br>year=2000<br>Produzierte Menge (in MJ)=%{x}<extra></extra>",
           "legendgroup": "Slovenia",
           "marker": {
            "color": "#B6E880",
            "pattern": {
             "shape": ""
            }
           },
           "name": "Slovenia",
           "orientation": "h",
           "showlegend": true,
           "textposition": "auto",
           "type": "bar",
           "x": {
            "bdata": "AAAAAACOAkE=",
            "dtype": "f8"
           },
           "xaxis": "x",
           "y": [
            "Slovenia"
           ],
           "yaxis": "y"
          },
          {
           "hovertemplate": "Land=%{y}<br>year=2000<br>Produzierte Menge (in MJ)=%{x}<extra></extra>",
           "legendgroup": "Cyprus",
           "marker": {
            "color": "#FF97FF",
            "pattern": {
             "shape": ""
            }
           },
           "name": "Cyprus",
           "orientation": "h",
           "showlegend": true,
           "textposition": "auto",
           "type": "bar",
           "x": {
            "bdata": "AAAAAAAF5EA=",
            "dtype": "f8"
           },
           "xaxis": "x",
           "y": [
            "Cyprus"
           ],
           "yaxis": "y"
          }
         ],
         "name": "2000"
        },
        {
         "data": [
          {
           "hovertemplate": "Land=%{y}<br>year=2001<br>Produzierte Menge (in MJ)=%{x}<extra></extra>",
           "legendgroup": "Austria",
           "marker": {
            "color": "#636efa",
            "pattern": {
             "shape": ""
            }
           },
           "name": "Austria",
           "orientation": "h",
           "showlegend": true,
           "textposition": "auto",
           "type": "bar",
           "x": {
            "bdata": "AAAAAJ01aUE=",
            "dtype": "f8"
           },
           "xaxis": "x",
           "y": [
            "Austria"
           ],
           "yaxis": "y"
          },
          {
           "hovertemplate": "Land=%{y}<br>year=2001<br>Produzierte Menge (in MJ)=%{x}<extra></extra>",
           "legendgroup": "Belgium",
           "marker": {
            "color": "#EF553B",
            "pattern": {
             "shape": ""
            }
           },
           "name": "Belgium",
           "orientation": "h",
           "showlegend": true,
           "textposition": "auto",
           "type": "bar",
           "x": {
            "bdata": "AAAAALcldEE=",
            "dtype": "f8"
           },
           "xaxis": "x",
           "y": [
            "Belgium"
           ],
           "yaxis": "y"
          },
          {
           "hovertemplate": "Land=%{y}<br>year=2001<br>Produzierte Menge (in MJ)=%{x}<extra></extra>",
           "legendgroup": "Denmark",
           "marker": {
            "color": "#00cc96",
            "pattern": {
             "shape": ""
            }
           },
           "name": "Denmark",
           "orientation": "h",
           "showlegend": true,
           "textposition": "auto",
           "type": "bar",
           "x": {
            "bdata": "AAAAAF/yh0E=",
            "dtype": "f8"
           },
           "xaxis": "x",
           "y": [
            "Denmark"
           ],
           "yaxis": "y"
          },
          {
           "hovertemplate": "Land=%{y}<br>year=2001<br>Produzierte Menge (in MJ)=%{x}<extra></extra>",
           "legendgroup": "Finland",
           "marker": {
            "color": "#ab63fa",
            "pattern": {
             "shape": ""
            }
           },
           "name": "Finland",
           "orientation": "h",
           "showlegend": true,
           "textposition": "auto",
           "type": "bar",
           "x": {
            "bdata": "AAAAAD5OVEE=",
            "dtype": "f8"
           },
           "xaxis": "x",
           "y": [
            "Finland"
           ],
           "yaxis": "y"
          },
          {
           "hovertemplate": "Land=%{y}<br>year=2001<br>Produzierte Menge (in MJ)=%{x}<extra></extra>",
           "legendgroup": "France",
           "marker": {
            "color": "#FFA15A",
            "pattern": {
             "shape": ""
            }
           },
           "name": "France",
           "orientation": "h",
           "showlegend": true,
           "textposition": "auto",
           "type": "bar",
           "x": {
            "bdata": "AAAAYBTbmUE=",
            "dtype": "f8"
           },
           "xaxis": "x",
           "y": [
            "France"
           ],
           "yaxis": "y"
          },
          {
           "hovertemplate": "Land=%{y}<br>year=2001<br>Produzierte Menge (in MJ)=%{x}<extra></extra>",
           "legendgroup": "Greece",
           "marker": {
            "color": "#19d3f3",
            "pattern": {
             "shape": ""
            }
           },
           "name": "Greece",
           "orientation": "h",
           "showlegend": true,
           "textposition": "auto",
           "type": "bar",
           "x": {
            "bdata": "AAAAAH5nZUE=",
            "dtype": "f8"
           },
           "xaxis": "x",
           "y": [
            "Greece"
           ],
           "yaxis": "y"
          },
          {
           "hovertemplate": "Land=%{y}<br>year=2001<br>Produzierte Menge (in MJ)=%{x}<extra></extra>",
           "legendgroup": "Hungary",
           "marker": {
            "color": "#FF6692",
            "pattern": {
             "shape": ""
            }
           },
           "name": "Hungary",
           "orientation": "h",
           "showlegend": true,
           "textposition": "auto",
           "type": "bar",
           "x": {
            "bdata": "AAAAAMBcRUE=",
            "dtype": "f8"
           },
           "xaxis": "x",
           "y": [
            "Hungary"
           ],
           "yaxis": "y"
          },
          {
           "hovertemplate": "Land=%{y}<br>year=2001<br>Produzierte Menge (in MJ)=%{x}<extra></extra>",
           "legendgroup": "Ireland",
           "marker": {
            "color": "#B6E880",
            "pattern": {
             "shape": ""
            }
           },
           "name": "Ireland",
           "orientation": "h",
           "showlegend": true,
           "textposition": "auto",
           "type": "bar",
           "x": {
            "bdata": "AAAAAOgUMkE=",
            "dtype": "f8"
           },
           "xaxis": "x",
           "y": [
            "Ireland"
           ],
           "yaxis": "y"
          },
          {
           "hovertemplate": "Land=%{y}<br>year=2001<br>Produzierte Menge (in MJ)=%{x}<extra></extra>",
           "legendgroup": "Italy",
           "marker": {
            "color": "#FF97FF",
            "pattern": {
             "shape": ""
            }
           },
           "name": "Italy",
           "orientation": "h",
           "showlegend": true,
           "textposition": "auto",
           "type": "bar",
           "x": {
            "bdata": "AAAAgLkjdkE=",
            "dtype": "f8"
           },
           "xaxis": "x",
           "y": [
            "Italy"
           ],
           "yaxis": "y"
          },
          {
           "hovertemplate": "Land=%{y}<br>year=2001<br>Produzierte Menge (in MJ)=%{x}<extra></extra>",
           "legendgroup": "Luxembourg",
           "marker": {
            "color": "#FECB52",
            "pattern": {
             "shape": ""
            }
           },
           "name": "Luxembourg",
           "orientation": "h",
           "showlegend": true,
           "textposition": "auto",
           "type": "bar",
           "x": {
            "bdata": "AAAAAIDMMkE=",
            "dtype": "f8"
           },
           "xaxis": "x",
           "y": [
            "Luxembourg"
           ],
           "yaxis": "y"
          },
          {
           "hovertemplate": "Land=%{y}<br>year=2001<br>Produzierte Menge (in MJ)=%{x}<extra></extra>",
           "legendgroup": "Netherlands",
           "marker": {
            "color": "#636efa",
            "pattern": {
             "shape": ""
            }
           },
           "name": "Netherlands",
           "orientation": "h",
           "showlegend": true,
           "textposition": "auto",
           "type": "bar",
           "x": {
            "bdata": "AAAAgB9mjUE=",
            "dtype": "f8"
           },
           "xaxis": "x",
           "y": [
            "Netherlands"
           ],
           "yaxis": "y"
          },
          {
           "hovertemplate": "Land=%{y}<br>year=2001<br>Produzierte Menge (in MJ)=%{x}<extra></extra>",
           "legendgroup": "Norway",
           "marker": {
            "color": "#EF553B",
            "pattern": {
             "shape": ""
            }
           },
           "name": "Norway",
           "orientation": "h",
           "showlegend": true,
           "textposition": "auto",
           "type": "bar",
           "x": {
            "bdata": "AAAAAFhzW0E=",
            "dtype": "f8"
           },
           "xaxis": "x",
           "y": [
            "Norway"
           ],
           "yaxis": "y"
          },
          {
           "hovertemplate": "Land=%{y}<br>year=2001<br>Produzierte Menge (in MJ)=%{x}<extra></extra>",
           "legendgroup": "Poland",
           "marker": {
            "color": "#00cc96",
            "pattern": {
             "shape": ""
            }
           },
           "name": "Poland",
           "orientation": "h",
           "showlegend": true,
           "textposition": "auto",
           "type": "bar",
           "x": {
            "bdata": "AAAAAMnsfEE=",
            "dtype": "f8"
           },
           "xaxis": "x",
           "y": [
            "Poland"
           ],
           "yaxis": "y"
          },
          {
           "hovertemplate": "Land=%{y}<br>year=2001<br>Produzierte Menge (in MJ)=%{x}<extra></extra>",
           "legendgroup": "Portugal",
           "marker": {
            "color": "#ab63fa",
            "pattern": {
             "shape": ""
            }
           },
           "name": "Portugal",
           "orientation": "h",
           "showlegend": true,
           "textposition": "auto",
           "type": "bar",
           "x": {
            "bdata": "AAAAAGUbgUE=",
            "dtype": "f8"
           },
           "xaxis": "x",
           "y": [
            "Portugal"
           ],
           "yaxis": "y"
          },
          {
           "hovertemplate": "Land=%{y}<br>year=2001<br>Produzierte Menge (in MJ)=%{x}<extra></extra>",
           "legendgroup": "Spain",
           "marker": {
            "color": "#FFA15A",
            "pattern": {
             "shape": ""
            }
           },
           "name": "Spain",
           "orientation": "h",
           "showlegend": true,
           "textposition": "auto",
           "type": "bar",
           "x": {
            "bdata": "AAAAgKA8hkE=",
            "dtype": "f8"
           },
           "xaxis": "x",
           "y": [
            "Spain"
           ],
           "yaxis": "y"
          },
          {
           "hovertemplate": "Land=%{y}<br>year=2001<br>Produzierte Menge (in MJ)=%{x}<extra></extra>",
           "legendgroup": "Sweden",
           "marker": {
            "color": "#19d3f3",
            "pattern": {
             "shape": ""
            }
           },
           "name": "Sweden",
           "orientation": "h",
           "showlegend": true,
           "textposition": "auto",
           "type": "bar",
           "x": {
            "bdata": "AAAAgHGgiEE=",
            "dtype": "f8"
           },
           "xaxis": "x",
           "y": [
            "Sweden"
           ],
           "yaxis": "y"
          },
          {
           "hovertemplate": "Land=%{y}<br>year=2001<br>Produzierte Menge (in MJ)=%{x}<extra></extra>",
           "legendgroup": "Switzerland",
           "marker": {
            "color": "#FF6692",
            "pattern": {
             "shape": ""
            }
           },
           "name": "Switzerland",
           "orientation": "h",
           "showlegend": true,
           "textposition": "auto",
           "type": "bar",
           "x": {
            "bdata": "AAAAAGJUgkE=",
            "dtype": "f8"
           },
           "xaxis": "x",
           "y": [
            "Switzerland"
           ],
           "yaxis": "y"
          },
          {
           "hovertemplate": "Land=%{y}<br>year=2001<br>Produzierte Menge (in MJ)=%{x}<extra></extra>",
           "legendgroup": "United Kingdom",
           "marker": {
            "color": "#B6E880",
            "pattern": {
             "shape": ""
            }
           },
           "name": "United Kingdom",
           "orientation": "h",
           "showlegend": true,
           "textposition": "auto",
           "type": "bar",
           "x": {
            "bdata": "AAAAQExOkUE=",
            "dtype": "f8"
           },
           "xaxis": "x",
           "y": [
            "United Kingdom"
           ],
           "yaxis": "y"
          },
          {
           "hovertemplate": "Land=%{y}<br>year=2001<br>Produzierte Menge (in MJ)=%{x}<extra></extra>",
           "legendgroup": "Germany",
           "marker": {
            "color": "#FF97FF",
            "pattern": {
             "shape": ""
            }
           },
           "name": "Germany",
           "orientation": "h",
           "showlegend": true,
           "textposition": "auto",
           "type": "bar",
           "x": {
            "bdata": "AAAAmD1PskE=",
            "dtype": "f8"
           },
           "xaxis": "x",
           "y": [
            "Germany"
           ],
           "yaxis": "y"
          },
          {
           "hovertemplate": "Land=%{y}<br>year=2001<br>Produzierte Menge (in MJ)=%{x}<extra></extra>",
           "legendgroup": "Belarus",
           "marker": {
            "color": "#FECB52",
            "pattern": {
             "shape": ""
            }
           },
           "name": "Belarus",
           "orientation": "h",
           "showlegend": true,
           "textposition": "auto",
           "type": "bar",
           "x": {
            "bdata": "AAAAABCvI0E=",
            "dtype": "f8"
           },
           "xaxis": "x",
           "y": [
            "Belarus"
           ],
           "yaxis": "y"
          },
          {
           "hovertemplate": "Land=%{y}<br>year=2001<br>Produzierte Menge (in MJ)=%{x}<extra></extra>",
           "legendgroup": "Croatia",
           "marker": {
            "color": "#636efa",
            "pattern": {
             "shape": ""
            }
           },
           "name": "Croatia",
           "orientation": "h",
           "showlegend": true,
           "textposition": "auto",
           "type": "bar",
           "x": {
            "bdata": "AAAAAAAAAAA=",
            "dtype": "f8"
           },
           "xaxis": "x",
           "y": [
            "Croatia"
           ],
           "yaxis": "y"
          },
          {
           "hovertemplate": "Land=%{y}<br>year=2001<br>Produzierte Menge (in MJ)=%{x}<extra></extra>",
           "legendgroup": "Czech Republic",
           "marker": {
            "color": "#EF553B",
            "pattern": {
             "shape": ""
            }
           },
           "name": "Czech Republic",
           "orientation": "h",
           "showlegend": true,
           "textposition": "auto",
           "type": "bar",
           "x": {
            "bdata": "AAAAABIUYUE=",
            "dtype": "f8"
           },
           "xaxis": "x",
           "y": [
            "Czech Republic"
           ],
           "yaxis": "y"
          },
          {
           "hovertemplate": "Land=%{y}<br>year=2001<br>Produzierte Menge (in MJ)=%{x}<extra></extra>",
           "legendgroup": "Estonia",
           "marker": {
            "color": "#00cc96",
            "pattern": {
             "shape": ""
            }
           },
           "name": "Estonia",
           "orientation": "h",
           "showlegend": true,
           "textposition": "auto",
           "type": "bar",
           "x": {
            "bdata": "AAAAAAAF9EA=",
            "dtype": "f8"
           },
           "xaxis": "x",
           "y": [
            "Estonia"
           ],
           "yaxis": "y"
          },
          {
           "hovertemplate": "Land=%{y}<br>year=2001<br>Produzierte Menge (in MJ)=%{x}<extra></extra>",
           "legendgroup": "Latvia",
           "marker": {
            "color": "#ab63fa",
            "pattern": {
             "shape": ""
            }
           },
           "name": "Latvia",
           "orientation": "h",
           "showlegend": true,
           "textposition": "auto",
           "type": "bar",
           "x": {
            "bdata": "AAAAAAAAAAA=",
            "dtype": "f8"
           },
           "xaxis": "x",
           "y": [
            "Latvia"
           ],
           "yaxis": "y"
          },
          {
           "hovertemplate": "Land=%{y}<br>year=2001<br>Produzierte Menge (in MJ)=%{x}<extra></extra>",
           "legendgroup": "Lithuania",
           "marker": {
            "color": "#FFA15A",
            "pattern": {
             "shape": ""
            }
           },
           "name": "Lithuania",
           "orientation": "h",
           "showlegend": true,
           "textposition": "auto",
           "type": "bar",
           "x": {
            "bdata": "AAAAAGodZEE=",
            "dtype": "f8"
           },
           "xaxis": "x",
           "y": [
            "Lithuania"
           ],
           "yaxis": "y"
          },
          {
           "hovertemplate": "Land=%{y}<br>year=2001<br>Produzierte Menge (in MJ)=%{x}<extra></extra>",
           "legendgroup": "Romania",
           "marker": {
            "color": "#19d3f3",
            "pattern": {
             "shape": ""
            }
           },
           "name": "Romania",
           "orientation": "h",
           "showlegend": true,
           "textposition": "auto",
           "type": "bar",
           "x": {
            "bdata": "AAAAAAAAAAA=",
            "dtype": "f8"
           },
           "xaxis": "x",
           "y": [
            "Romania"
           ],
           "yaxis": "y"
          },
          {
           "hovertemplate": "Land=%{y}<br>year=2001<br>Produzierte Menge (in MJ)=%{x}<extra></extra>",
           "legendgroup": "Iceland",
           "marker": {
            "color": "#FF6692",
            "pattern": {
             "shape": ""
            }
           },
           "name": "Iceland",
           "orientation": "h",
           "showlegend": true,
           "textposition": "auto",
           "type": "bar",
           "x": {
            "bdata": "AAAAAABY60A=",
            "dtype": "f8"
           },
           "xaxis": "x",
           "y": [
            "Iceland"
           ],
           "yaxis": "y"
          },
          {
           "hovertemplate": "Land=%{y}<br>year=2001<br>Produzierte Menge (in MJ)=%{x}<extra></extra>",
           "legendgroup": "Slovenia",
           "marker": {
            "color": "#B6E880",
            "pattern": {
             "shape": ""
            }
           },
           "name": "Slovenia",
           "orientation": "h",
           "showlegend": true,
           "textposition": "auto",
           "type": "bar",
           "x": {
            "bdata": "AAAAAIA3BkE=",
            "dtype": "f8"
           },
           "xaxis": "x",
           "y": [
            "Slovenia"
           ],
           "yaxis": "y"
          },
          {
           "hovertemplate": "Land=%{y}<br>year=2001<br>Produzierte Menge (in MJ)=%{x}<extra></extra>",
           "legendgroup": "Cyprus",
           "marker": {
            "color": "#FF97FF",
            "pattern": {
             "shape": ""
            }
           },
           "name": "Cyprus",
           "orientation": "h",
           "showlegend": true,
           "textposition": "auto",
           "type": "bar",
           "x": {
            "bdata": "AAAAAAAX8UA=",
            "dtype": "f8"
           },
           "xaxis": "x",
           "y": [
            "Cyprus"
           ],
           "yaxis": "y"
          },
          {
           "hovertemplate": "Land=%{y}<br>year=2001<br>Produzierte Menge (in MJ)=%{x}<extra></extra>",
           "legendgroup": "Slovakia",
           "marker": {
            "color": "#FECB52",
            "pattern": {
             "shape": ""
            }
           },
           "name": "Slovakia",
           "orientation": "h",
           "showlegend": true,
           "textposition": "auto",
           "type": "bar",
           "x": {
            "bdata": "AAAAAKS0RUE=",
            "dtype": "f8"
           },
           "xaxis": "x",
           "y": [
            "Slovakia"
           ],
           "yaxis": "y"
          }
         ],
         "name": "2001"
        },
        {
         "data": [
          {
           "hovertemplate": "Land=%{y}<br>year=2002<br>Produzierte Menge (in MJ)=%{x}<extra></extra>",
           "legendgroup": "Austria",
           "marker": {
            "color": "#636efa",
            "pattern": {
             "shape": ""
            }
           },
           "name": "Austria",
           "orientation": "h",
           "showlegend": true,
           "textposition": "auto",
           "type": "bar",
           "x": {
            "bdata": "AAAAABjpZ0E=",
            "dtype": "f8"
           },
           "xaxis": "x",
           "y": [
            "Austria"
           ],
           "yaxis": "y"
          },
          {
           "hovertemplate": "Land=%{y}<br>year=2002<br>Produzierte Menge (in MJ)=%{x}<extra></extra>",
           "legendgroup": "Belgium",
           "marker": {
            "color": "#EF553B",
            "pattern": {
             "shape": ""
            }
           },
           "name": "Belgium",
           "orientation": "h",
           "showlegend": true,
           "textposition": "auto",
           "type": "bar",
           "x": {
            "bdata": "AAAAgHIsc0E=",
            "dtype": "f8"
           },
           "xaxis": "x",
           "y": [
            "Belgium"
           ],
           "yaxis": "y"
          },
          {
           "hovertemplate": "Land=%{y}<br>year=2002<br>Produzierte Menge (in MJ)=%{x}<extra></extra>",
           "legendgroup": "Denmark",
           "marker": {
            "color": "#00cc96",
            "pattern": {
             "shape": ""
            }
           },
           "name": "Denmark",
           "orientation": "h",
           "showlegend": true,
           "textposition": "auto",
           "type": "bar",
           "x": {
            "bdata": "AAAAgIMUikE=",
            "dtype": "f8"
           },
           "xaxis": "x",
           "y": [
            "Denmark"
           ],
           "yaxis": "y"
          },
          {
           "hovertemplate": "Land=%{y}<br>year=2002<br>Produzierte Menge (in MJ)=%{x}<extra></extra>",
           "legendgroup": "Finland",
           "marker": {
            "color": "#ab63fa",
            "pattern": {
             "shape": ""
            }
           },
           "name": "Finland",
           "orientation": "h",
           "showlegend": true,
           "textposition": "auto",
           "type": "bar",
           "x": {
            "bdata": "AAAAADLNVEE=",
            "dtype": "f8"
           },
           "xaxis": "x",
           "y": [
            "Finland"
           ],
           "yaxis": "y"
          },
          {
           "hovertemplate": "Land=%{y}<br>year=2002<br>Produzierte Menge (in MJ)=%{x}<extra></extra>",
           "legendgroup": "France",
           "marker": {
            "color": "#FFA15A",
            "pattern": {
             "shape": ""
            }
           },
           "name": "France",
           "orientation": "h",
           "showlegend": true,
           "textposition": "auto",
           "type": "bar",
           "x": {
            "bdata": "AAAAQJOYm0E=",
            "dtype": "f8"
           },
           "xaxis": "x",
           "y": [
            "France"
           ],
           "yaxis": "y"
          },
          {
           "hovertemplate": "Land=%{y}<br>year=2002<br>Produzierte Menge (in MJ)=%{x}<extra></extra>",
           "legendgroup": "Greece",
           "marker": {
            "color": "#19d3f3",
            "pattern": {
             "shape": ""
            }
           },
           "name": "Greece",
           "orientation": "h",
           "showlegend": true,
           "textposition": "auto",
           "type": "bar",
           "x": {
            "bdata": "AAAAAHFyZ0E=",
            "dtype": "f8"
           },
           "xaxis": "x",
           "y": [
            "Greece"
           ],
           "yaxis": "y"
          },
          {
           "hovertemplate": "Land=%{y}<br>year=2002<br>Produzierte Menge (in MJ)=%{x}<extra></extra>",
           "legendgroup": "Hungary",
           "marker": {
            "color": "#FF6692",
            "pattern": {
             "shape": ""
            }
           },
           "name": "Hungary",
           "orientation": "h",
           "showlegend": true,
           "textposition": "auto",
           "type": "bar",
           "x": {
            "bdata": "AAAAAMBWRkE=",
            "dtype": "f8"
           },
           "xaxis": "x",
           "y": [
            "Hungary"
           ],
           "yaxis": "y"
          },
          {
           "hovertemplate": "Land=%{y}<br>year=2002<br>Produzierte Menge (in MJ)=%{x}<extra></extra>",
           "legendgroup": "Ireland",
           "marker": {
            "color": "#B6E880",
            "pattern": {
             "shape": ""
            }
           },
           "name": "Ireland",
           "orientation": "h",
           "showlegend": true,
           "textposition": "auto",
           "type": "bar",
           "x": {
            "bdata": "AAAAADA+LkE=",
            "dtype": "f8"
           },
           "xaxis": "x",
           "y": [
            "Ireland"
           ],
           "yaxis": "y"
          },
          {
           "hovertemplate": "Land=%{y}<br>year=2002<br>Produzierte Menge (in MJ)=%{x}<extra></extra>",
           "legendgroup": "Italy",
           "marker": {
            "color": "#FF97FF",
            "pattern": {
             "shape": ""
            }
           },
           "name": "Italy",
           "orientation": "h",
           "showlegend": true,
           "textposition": "auto",
           "type": "bar",
           "x": {
            "bdata": "AAAAAPGkeUE=",
            "dtype": "f8"
           },
           "xaxis": "x",
           "y": [
            "Italy"
           ],
           "yaxis": "y"
          },
          {
           "hovertemplate": "Land=%{y}<br>year=2002<br>Produzierte Menge (in MJ)=%{x}<extra></extra>",
           "legendgroup": "Luxembourg",
           "marker": {
            "color": "#FECB52",
            "pattern": {
             "shape": ""
            }
           },
           "name": "Luxembourg",
           "orientation": "h",
           "showlegend": true,
           "textposition": "auto",
           "type": "bar",
           "x": {
            "bdata": "AAAAAKhsM0E=",
            "dtype": "f8"
           },
           "xaxis": "x",
           "y": [
            "Luxembourg"
           ],
           "yaxis": "y"
          },
          {
           "hovertemplate": "Land=%{y}<br>year=2002<br>Produzierte Menge (in MJ)=%{x}<extra></extra>",
           "legendgroup": "Netherlands",
           "marker": {
            "color": "#636efa",
            "pattern": {
             "shape": ""
            }
           },
           "name": "Netherlands",
           "orientation": "h",
           "showlegend": true,
           "textposition": "auto",
           "type": "bar",
           "x": {
            "bdata": "AAAAQPPtj0E=",
            "dtype": "f8"
           },
           "xaxis": "x",
           "y": [
            "Netherlands"
           ],
           "yaxis": "y"
          },
          {
           "hovertemplate": "Land=%{y}<br>year=2002<br>Produzierte Menge (in MJ)=%{x}<extra></extra>",
           "legendgroup": "Norway",
           "marker": {
            "color": "#EF553B",
            "pattern": {
             "shape": ""
            }
           },
           "name": "Norway",
           "orientation": "h",
           "showlegend": true,
           "textposition": "auto",
           "type": "bar",
           "x": {
            "bdata": "AAAAAJDJWUE=",
            "dtype": "f8"
           },
           "xaxis": "x",
           "y": [
            "Norway"
           ],
           "yaxis": "y"
          },
          {
           "hovertemplate": "Land=%{y}<br>year=2002<br>Produzierte Menge (in MJ)=%{x}<extra></extra>",
           "legendgroup": "Poland",
           "marker": {
            "color": "#00cc96",
            "pattern": {
             "shape": ""
            }
           },
           "name": "Poland",
           "orientation": "h",
           "showlegend": true,
           "textposition": "auto",
           "type": "bar",
           "x": {
            "bdata": "AAAAADTef0E=",
            "dtype": "f8"
           },
           "xaxis": "x",
           "y": [
            "Poland"
           ],
           "yaxis": "y"
          },
          {
           "hovertemplate": "Land=%{y}<br>year=2002<br>Produzierte Menge (in MJ)=%{x}<extra></extra>",
           "legendgroup": "Portugal",
           "marker": {
            "color": "#ab63fa",
            "pattern": {
             "shape": ""
            }
           },
           "name": "Portugal",
           "orientation": "h",
           "showlegend": true,
           "textposition": "auto",
           "type": "bar",
           "x": {
            "bdata": "AAAAADjegUE=",
            "dtype": "f8"
           },
           "xaxis": "x",
           "y": [
            "Portugal"
           ],
           "yaxis": "y"
          },
          {
           "hovertemplate": "Land=%{y}<br>year=2002<br>Produzierte Menge (in MJ)=%{x}<extra></extra>",
           "legendgroup": "Spain",
           "marker": {
            "color": "#FFA15A",
            "pattern": {
             "shape": ""
            }
           },
           "name": "Spain",
           "orientation": "h",
           "showlegend": true,
           "textposition": "auto",
           "type": "bar",
           "x": {
            "bdata": "AAAAAGxGi0E=",
            "dtype": "f8"
           },
           "xaxis": "x",
           "y": [
            "Spain"
           ],
           "yaxis": "y"
          },
          {
           "hovertemplate": "Land=%{y}<br>year=2002<br>Produzierte Menge (in MJ)=%{x}<extra></extra>",
           "legendgroup": "Sweden",
           "marker": {
            "color": "#19d3f3",
            "pattern": {
             "shape": ""
            }
           },
           "name": "Sweden",
           "orientation": "h",
           "showlegend": true,
           "textposition": "auto",
           "type": "bar",
           "x": {
            "bdata": "AAAAgMJah0E=",
            "dtype": "f8"
           },
           "xaxis": "x",
           "y": [
            "Sweden"
           ],
           "yaxis": "y"
          },
          {
           "hovertemplate": "Land=%{y}<br>year=2002<br>Produzierte Menge (in MJ)=%{x}<extra></extra>",
           "legendgroup": "Switzerland",
           "marker": {
            "color": "#FF6692",
            "pattern": {
             "shape": ""
            }
           },
           "name": "Switzerland",
           "orientation": "h",
           "showlegend": true,
           "textposition": "auto",
           "type": "bar",
           "x": {
            "bdata": "AAAAwAFEg0E=",
            "dtype": "f8"
           },
           "xaxis": "x",
           "y": [
            "Switzerland"
           ],
           "yaxis": "y"
          },
          {
           "hovertemplate": "Land=%{y}<br>year=2002<br>Produzierte Menge (in MJ)=%{x}<extra></extra>",
           "legendgroup": "United Kingdom",
           "marker": {
            "color": "#B6E880",
            "pattern": {
             "shape": ""
            }
           },
           "name": "United Kingdom",
           "orientation": "h",
           "showlegend": true,
           "textposition": "auto",
           "type": "bar",
           "x": {
            "bdata": "AAAAwKQUk0E=",
            "dtype": "f8"
           },
           "xaxis": "x",
           "y": [
            "United Kingdom"
           ],
           "yaxis": "y"
          },
          {
           "hovertemplate": "Land=%{y}<br>year=2002<br>Produzierte Menge (in MJ)=%{x}<extra></extra>",
           "legendgroup": "Germany",
           "marker": {
            "color": "#FF97FF",
            "pattern": {
             "shape": ""
            }
           },
           "name": "Germany",
           "orientation": "h",
           "showlegend": true,
           "textposition": "auto",
           "type": "bar",
           "x": {
            "bdata": "AAAAKK3us0E=",
            "dtype": "f8"
           },
           "xaxis": "x",
           "y": [
            "Germany"
           ],
           "yaxis": "y"
          },
          {
           "hovertemplate": "Land=%{y}<br>year=2002<br>Produzierte Menge (in MJ)=%{x}<extra></extra>",
           "legendgroup": "Belarus",
           "marker": {
            "color": "#FECB52",
            "pattern": {
             "shape": ""
            }
           },
           "name": "Belarus",
           "orientation": "h",
           "showlegend": true,
           "textposition": "auto",
           "type": "bar",
           "x": {
            "bdata": "AAAAAOCALEE=",
            "dtype": "f8"
           },
           "xaxis": "x",
           "y": [
            "Belarus"
           ],
           "yaxis": "y"
          },
          {
           "hovertemplate": "Land=%{y}<br>year=2002<br>Produzierte Menge (in MJ)=%{x}<extra></extra>",
           "legendgroup": "Croatia",
           "marker": {
            "color": "#636efa",
            "pattern": {
             "shape": ""
            }
           },
           "name": "Croatia",
           "orientation": "h",
           "showlegend": true,
           "textposition": "auto",
           "type": "bar",
           "x": {
            "bdata": "AAAAAAAAAAA=",
            "dtype": "f8"
           },
           "xaxis": "x",
           "y": [
            "Croatia"
           ],
           "yaxis": "y"
          },
          {
           "hovertemplate": "Land=%{y}<br>year=2002<br>Produzierte Menge (in MJ)=%{x}<extra></extra>",
           "legendgroup": "Czech Republic",
           "marker": {
            "color": "#EF553B",
            "pattern": {
             "shape": ""
            }
           },
           "name": "Czech Republic",
           "orientation": "h",
           "showlegend": true,
           "textposition": "auto",
           "type": "bar",
           "x": {
            "bdata": "AAAAAETQY0E=",
            "dtype": "f8"
           },
           "xaxis": "x",
           "y": [
            "Czech Republic"
           ],
           "yaxis": "y"
          },
          {
           "hovertemplate": "Land=%{y}<br>year=2002<br>Produzierte Menge (in MJ)=%{x}<extra></extra>",
           "legendgroup": "Estonia",
           "marker": {
            "color": "#00cc96",
            "pattern": {
             "shape": ""
            }
           },
           "name": "Estonia",
           "orientation": "h",
           "showlegend": true,
           "textposition": "auto",
           "type": "bar",
           "x": {
            "bdata": "AAAAAIA99UA=",
            "dtype": "f8"
           },
           "xaxis": "x",
           "y": [
            "Estonia"
           ],
           "yaxis": "y"
          },
          {
           "hovertemplate": "Land=%{y}<br>year=2002<br>Produzierte Menge (in MJ)=%{x}<extra></extra>",
           "legendgroup": "Latvia",
           "marker": {
            "color": "#ab63fa",
            "pattern": {
             "shape": ""
            }
           },
           "name": "Latvia",
           "orientation": "h",
           "showlegend": true,
           "textposition": "auto",
           "type": "bar",
           "x": {
            "bdata": "AAAAAADb6kA=",
            "dtype": "f8"
           },
           "xaxis": "x",
           "y": [
            "Latvia"
           ],
           "yaxis": "y"
          },
          {
           "hovertemplate": "Land=%{y}<br>year=2002<br>Produzierte Menge (in MJ)=%{x}<extra></extra>",
           "legendgroup": "Lithuania",
           "marker": {
            "color": "#FFA15A",
            "pattern": {
             "shape": ""
            }
           },
           "name": "Lithuania",
           "orientation": "h",
           "showlegend": true,
           "textposition": "auto",
           "type": "bar",
           "x": {
            "bdata": "AAAAAAx6ZUE=",
            "dtype": "f8"
           },
           "xaxis": "x",
           "y": [
            "Lithuania"
           ],
           "yaxis": "y"
          },
          {
           "hovertemplate": "Land=%{y}<br>year=2002<br>Produzierte Menge (in MJ)=%{x}<extra></extra>",
           "legendgroup": "Romania",
           "marker": {
            "color": "#19d3f3",
            "pattern": {
             "shape": ""
            }
           },
           "name": "Romania",
           "orientation": "h",
           "showlegend": true,
           "textposition": "auto",
           "type": "bar",
           "x": {
            "bdata": "AAAAAABM3UA=",
            "dtype": "f8"
           },
           "xaxis": "x",
           "y": [
            "Romania"
           ],
           "yaxis": "y"
          },
          {
           "hovertemplate": "Land=%{y}<br>year=2002<br>Produzierte Menge (in MJ)=%{x}<extra></extra>",
           "legendgroup": "Iceland",
           "marker": {
            "color": "#FF6692",
            "pattern": {
             "shape": ""
            }
           },
           "name": "Iceland",
           "orientation": "h",
           "showlegend": true,
           "textposition": "auto",
           "type": "bar",
           "x": {
            "bdata": "AAAAAAAX8UA=",
            "dtype": "f8"
           },
           "xaxis": "x",
           "y": [
            "Iceland"
           ],
           "yaxis": "y"
          },
          {
           "hovertemplate": "Land=%{y}<br>year=2002<br>Produzierte Menge (in MJ)=%{x}<extra></extra>",
           "legendgroup": "Slovenia",
           "marker": {
            "color": "#B6E880",
            "pattern": {
             "shape": ""
            }
           },
           "name": "Slovenia",
           "orientation": "h",
           "showlegend": true,
           "textposition": "auto",
           "type": "bar",
           "x": {
            "bdata": "AAAAAMAgH0E=",
            "dtype": "f8"
           },
           "xaxis": "x",
           "y": [
            "Slovenia"
           ],
           "yaxis": "y"
          },
          {
           "hovertemplate": "Land=%{y}<br>year=2002<br>Produzierte Menge (in MJ)=%{x}<extra></extra>",
           "legendgroup": "Cyprus",
           "marker": {
            "color": "#FF97FF",
            "pattern": {
             "shape": ""
            }
           },
           "name": "Cyprus",
           "orientation": "h",
           "showlegend": true,
           "textposition": "auto",
           "type": "bar",
           "x": {
            "bdata": "AAAAAAD59UA=",
            "dtype": "f8"
           },
           "xaxis": "x",
           "y": [
            "Cyprus"
           ],
           "yaxis": "y"
          },
          {
           "hovertemplate": "Land=%{y}<br>year=2002<br>Produzierte Menge (in MJ)=%{x}<extra></extra>",
           "legendgroup": "Slovakia",
           "marker": {
            "color": "#FECB52",
            "pattern": {
             "shape": ""
            }
           },
           "name": "Slovakia",
           "orientation": "h",
           "showlegend": true,
           "textposition": "auto",
           "type": "bar",
           "x": {
            "bdata": "AAAAAOCMGkE=",
            "dtype": "f8"
           },
           "xaxis": "x",
           "y": [
            "Slovakia"
           ],
           "yaxis": "y"
          },
          {
           "hovertemplate": "Land=%{y}<br>year=2002<br>Produzierte Menge (in MJ)=%{x}<extra></extra>",
           "legendgroup": "Andorra",
           "marker": {
            "color": "#636efa",
            "pattern": {
             "shape": ""
            }
           },
           "name": "Andorra",
           "orientation": "h",
           "showlegend": true,
           "textposition": "auto",
           "type": "bar",
           "x": {
            "bdata": "AAAAAAAAAAA=",
            "dtype": "f8"
           },
           "xaxis": "x",
           "y": [
            "Andorra"
           ],
           "yaxis": "y"
          }
         ],
         "name": "2002"
        },
        {
         "data": [
          {
           "hovertemplate": "Land=%{y}<br>year=2003<br>Produzierte Menge (in MJ)=%{x}<extra></extra>",
           "legendgroup": "Austria",
           "marker": {
            "color": "#636efa",
            "pattern": {
             "shape": ""
            }
           },
           "name": "Austria",
           "orientation": "h",
           "showlegend": true,
           "textposition": "auto",
           "type": "bar",
           "x": {
            "bdata": "AAAAAGZNakE=",
            "dtype": "f8"
           },
           "xaxis": "x",
           "y": [
            "Austria"
           ],
           "yaxis": "y"
          },
          {
           "hovertemplate": "Land=%{y}<br>year=2003<br>Produzierte Menge (in MJ)=%{x}<extra></extra>",
           "legendgroup": "Belgium",
           "marker": {
            "color": "#EF553B",
            "pattern": {
             "shape": ""
            }
           },
           "name": "Belgium",
           "orientation": "h",
           "showlegend": true,
           "textposition": "auto",
           "type": "bar",
           "x": {
            "bdata": "AAAAgMqmeEE=",
            "dtype": "f8"
           },
           "xaxis": "x",
           "y": [
            "Belgium"
           ],
           "yaxis": "y"
          },
          {
           "hovertemplate": "Land=%{y}<br>year=2003<br>Produzierte Menge (in MJ)=%{x}<extra></extra>",
           "legendgroup": "Denmark",
           "marker": {
            "color": "#00cc96",
            "pattern": {
             "shape": ""
            }
           },
           "name": "Denmark",
           "orientation": "h",
           "showlegend": true,
           "textposition": "auto",
           "type": "bar",
           "x": {
            "bdata": "AAAAwG9PjEE=",
            "dtype": "f8"
           },
           "xaxis": "x",
           "y": [
            "Denmark"
           ],
           "yaxis": "y"
          },
          {
           "hovertemplate": "Land=%{y}<br>year=2003<br>Produzierte Menge (in MJ)=%{x}<extra></extra>",
           "legendgroup": "Finland",
           "marker": {
            "color": "#ab63fa",
            "pattern": {
             "shape": ""
            }
           },
           "name": "Finland",
           "orientation": "h",
           "showlegend": true,
           "textposition": "auto",
           "type": "bar",
           "x": {
            "bdata": "AAAAACL/WkE=",
            "dtype": "f8"
           },
           "xaxis": "x",
           "y": [
            "Finland"
           ],
           "yaxis": "y"
          },
          {
           "hovertemplate": "Land=%{y}<br>year=2003<br>Produzierte Menge (in MJ)=%{x}<extra></extra>",
           "legendgroup": "France",
           "marker": {
            "color": "#FFA15A",
            "pattern": {
             "shape": ""
            }
           },
           "name": "France",
           "orientation": "h",
           "showlegend": true,
           "textposition": "auto",
           "type": "bar",
           "x": {
            "bdata": "AAAAAMcWnUE=",
            "dtype": "f8"
           },
           "xaxis": "x",
           "y": [
            "France"
           ],
           "yaxis": "y"
          },
          {
           "hovertemplate": "Land=%{y}<br>year=2003<br>Produzierte Menge (in MJ)=%{x}<extra></extra>",
           "legendgroup": "Greece",
           "marker": {
            "color": "#19d3f3",
            "pattern": {
             "shape": ""
            }
           },
           "name": "Greece",
           "orientation": "h",
           "showlegend": true,
           "textposition": "auto",
           "type": "bar",
           "x": {
            "bdata": "AAAAAOkFYUE=",
            "dtype": "f8"
           },
           "xaxis": "x",
           "y": [
            "Greece"
           ],
           "yaxis": "y"
          },
          {
           "hovertemplate": "Land=%{y}<br>year=2003<br>Produzierte Menge (in MJ)=%{x}<extra></extra>",
           "legendgroup": "Hungary",
           "marker": {
            "color": "#FF6692",
            "pattern": {
             "shape": ""
            }
           },
           "name": "Hungary",
           "orientation": "h",
           "showlegend": true,
           "textposition": "auto",
           "type": "bar",
           "x": {
            "bdata": "AAAAAKwSREE=",
            "dtype": "f8"
           },
           "xaxis": "x",
           "y": [
            "Hungary"
           ],
           "yaxis": "y"
          },
          {
           "hovertemplate": "Land=%{y}<br>year=2003<br>Produzierte Menge (in MJ)=%{x}<extra></extra>",
           "legendgroup": "Ireland",
           "marker": {
            "color": "#B6E880",
            "pattern": {
             "shape": ""
            }
           },
           "name": "Ireland",
           "orientation": "h",
           "showlegend": true,
           "textposition": "auto",
           "type": "bar",
           "x": {
            "bdata": "AAAAAMzdREE=",
            "dtype": "f8"
           },
           "xaxis": "x",
           "y": [
            "Ireland"
           ],
           "yaxis": "y"
          },
          {
           "hovertemplate": "Land=%{y}<br>year=2003<br>Produzierte Menge (in MJ)=%{x}<extra></extra>",
           "legendgroup": "Italy",
           "marker": {
            "color": "#FF97FF",
            "pattern": {
             "shape": ""
            }
           },
           "name": "Italy",
           "orientation": "h",
           "showlegend": true,
           "textposition": "auto",
           "type": "bar",
           "x": {
            "bdata": "AAAAQHrngkE=",
            "dtype": "f8"
           },
           "xaxis": "x",
           "y": [
            "Italy"
           ],
           "yaxis": "y"
          },
          {
           "hovertemplate": "Land=%{y}<br>year=2003<br>Produzierte Menge (in MJ)=%{x}<extra></extra>",
           "legendgroup": "Luxembourg",
           "marker": {
            "color": "#FECB52",
            "pattern": {
             "shape": ""
            }
           },
           "name": "Luxembourg",
           "orientation": "h",
           "showlegend": true,
           "textposition": "auto",
           "type": "bar",
           "x": {
            "bdata": "AAAAAOCqNUE=",
            "dtype": "f8"
           },
           "xaxis": "x",
           "y": [
            "Luxembourg"
           ],
           "yaxis": "y"
          },
          {
           "hovertemplate": "Land=%{y}<br>year=2003<br>Produzierte Menge (in MJ)=%{x}<extra></extra>",
           "legendgroup": "Netherlands",
           "marker": {
            "color": "#636efa",
            "pattern": {
             "shape": ""
            }
           },
           "name": "Netherlands",
           "orientation": "h",
           "showlegend": true,
           "textposition": "auto",
           "type": "bar",
           "x": {
            "bdata": "AAAAIApSkEE=",
            "dtype": "f8"
           },
           "xaxis": "x",
           "y": [
            "Netherlands"
           ],
           "yaxis": "y"
          },
          {
           "hovertemplate": "Land=%{y}<br>year=2003<br>Produzierte Menge (in MJ)=%{x}<extra></extra>",
           "legendgroup": "Norway",
           "marker": {
            "color": "#EF553B",
            "pattern": {
             "shape": ""
            }
           },
           "name": "Norway",
           "orientation": "h",
           "showlegend": true,
           "textposition": "auto",
           "type": "bar",
           "x": {
            "bdata": "AAAAAF6uYUE=",
            "dtype": "f8"
           },
           "xaxis": "x",
           "y": [
            "Norway"
           ],
           "yaxis": "y"
          },
          {
           "hovertemplate": "Land=%{y}<br>year=2003<br>Produzierte Menge (in MJ)=%{x}<extra></extra>",
           "legendgroup": "Poland",
           "marker": {
            "color": "#00cc96",
            "pattern": {
             "shape": ""
            }
           },
           "name": "Poland",
           "orientation": "h",
           "showlegend": true,
           "textposition": "auto",
           "type": "bar",
           "x": {
            "bdata": "AAAAwAbhgUE=",
            "dtype": "f8"
           },
           "xaxis": "x",
           "y": [
            "Poland"
           ],
           "yaxis": "y"
          },
          {
           "hovertemplate": "Land=%{y}<br>year=2003<br>Produzierte Menge (in MJ)=%{x}<extra></extra>",
           "legendgroup": "Portugal",
           "marker": {
            "color": "#ab63fa",
            "pattern": {
             "shape": ""
            }
           },
           "name": "Portugal",
           "orientation": "h",
           "showlegend": true,
           "textposition": "auto",
           "type": "bar",
           "x": {
            "bdata": "AAAAAH2OgkE=",
            "dtype": "f8"
           },
           "xaxis": "x",
           "y": [
            "Portugal"
           ],
           "yaxis": "y"
          },
          {
           "hovertemplate": "Land=%{y}<br>year=2003<br>Produzierte Menge (in MJ)=%{x}<extra></extra>",
           "legendgroup": "Spain",
           "marker": {
            "color": "#FFA15A",
            "pattern": {
             "shape": ""
            }
           },
           "name": "Spain",
           "orientation": "h",
           "showlegend": true,
           "textposition": "auto",
           "type": "bar",
           "x": {
            "bdata": "AAAAgLYJkEE=",
            "dtype": "f8"
           },
           "xaxis": "x",
           "y": [
            "Spain"
           ],
           "yaxis": "y"
          },
          {
           "hovertemplate": "Land=%{y}<br>year=2003<br>Produzierte Menge (in MJ)=%{x}<extra></extra>",
           "legendgroup": "Sweden",
           "marker": {
            "color": "#19d3f3",
            "pattern": {
             "shape": ""
            }
           },
           "name": "Sweden",
           "orientation": "h",
           "showlegend": true,
           "textposition": "auto",
           "type": "bar",
           "x": {
            "bdata": "AAAAwCkxjEE=",
            "dtype": "f8"
           },
           "xaxis": "x",
           "y": [
            "Sweden"
           ],
           "yaxis": "y"
          },
          {
           "hovertemplate": "Land=%{y}<br>year=2003<br>Produzierte Menge (in MJ)=%{x}<extra></extra>",
           "legendgroup": "Switzerland",
           "marker": {
            "color": "#FF6692",
            "pattern": {
             "shape": ""
            }
           },
           "name": "Switzerland",
           "orientation": "h",
           "showlegend": true,
           "textposition": "auto",
           "type": "bar",
           "x": {
            "bdata": "AAAAAL4Vg0E=",
            "dtype": "f8"
           },
           "xaxis": "x",
           "y": [
            "Switzerland"
           ],
           "yaxis": "y"
          },
          {
           "hovertemplate": "Land=%{y}<br>year=2003<br>Produzierte Menge (in MJ)=%{x}<extra></extra>",
           "legendgroup": "United Kingdom",
           "marker": {
            "color": "#B6E880",
            "pattern": {
             "shape": ""
            }
           },
           "name": "United Kingdom",
           "orientation": "h",
           "showlegend": true,
           "textposition": "auto",
           "type": "bar",
           "x": {
            "bdata": "AAAAQLc5lUE=",
            "dtype": "f8"
           },
           "xaxis": "x",
           "y": [
            "United Kingdom"
           ],
           "yaxis": "y"
          },
          {
           "hovertemplate": "Land=%{y}<br>year=2003<br>Produzierte Menge (in MJ)=%{x}<extra></extra>",
           "legendgroup": "Germany",
           "marker": {
            "color": "#FF97FF",
            "pattern": {
             "shape": ""
            }
           },
           "name": "Germany",
           "orientation": "h",
           "showlegend": true,
           "textposition": "auto",
           "type": "bar",
           "x": {
            "bdata": "AAAAcOL4o0E=",
            "dtype": "f8"
           },
           "xaxis": "x",
           "y": [
            "Germany"
           ],
           "yaxis": "y"
          },
          {
           "hovertemplate": "Land=%{y}<br>year=2003<br>Produzierte Menge (in MJ)=%{x}<extra></extra>",
           "legendgroup": "Belarus",
           "marker": {
            "color": "#FECB52",
            "pattern": {
             "shape": ""
            }
           },
           "name": "Belarus",
           "orientation": "h",
           "showlegend": true,
           "textposition": "auto",
           "type": "bar",
           "x": {
            "bdata": "AAAAANjtMUE=",
            "dtype": "f8"
           },
           "xaxis": "x",
           "y": [
            "Belarus"
           ],
           "yaxis": "y"
          },
          {
           "hovertemplate": "Land=%{y}<br>year=2003<br>Produzierte Menge (in MJ)=%{x}<extra></extra>",
           "legendgroup": "Croatia",
           "marker": {
            "color": "#636efa",
            "pattern": {
             "shape": ""
            }
           },
           "name": "Croatia",
           "orientation": "h",
           "showlegend": true,
           "textposition": "auto",
           "type": "bar",
           "x": {
            "bdata": "AAAAAAAAAAA=",
            "dtype": "f8"
           },
           "xaxis": "x",
           "y": [
            "Croatia"
           ],
           "yaxis": "y"
          },
          {
           "hovertemplate": "Land=%{y}<br>year=2003<br>Produzierte Menge (in MJ)=%{x}<extra></extra>",
           "legendgroup": "Czech Republic",
           "marker": {
            "color": "#EF553B",
            "pattern": {
             "shape": ""
            }
           },
           "name": "Czech Republic",
           "orientation": "h",
           "showlegend": true,
           "textposition": "auto",
           "type": "bar",
           "x": {
            "bdata": "AAAAAPVuZEE=",
            "dtype": "f8"
           },
           "xaxis": "x",
           "y": [
            "Czech Republic"
           ],
           "yaxis": "y"
          },
          {
           "hovertemplate": "Land=%{y}<br>year=2003<br>Produzierte Menge (in MJ)=%{x}<extra></extra>",
           "legendgroup": "Estonia",
           "marker": {
            "color": "#00cc96",
            "pattern": {
             "shape": ""
            }
           },
           "name": "Estonia",
           "orientation": "h",
           "showlegend": true,
           "textposition": "auto",
           "type": "bar",
           "x": {
            "bdata": "AAAAABz6S0E=",
            "dtype": "f8"
           },
           "xaxis": "x",
           "y": [
            "Estonia"
           ],
           "yaxis": "y"
          },
          {
           "hovertemplate": "Land=%{y}<br>year=2003<br>Produzierte Menge (in MJ)=%{x}<extra></extra>",
           "legendgroup": "Latvia",
           "marker": {
            "color": "#ab63fa",
            "pattern": {
             "shape": ""
            }
           },
           "name": "Latvia",
           "orientation": "h",
           "showlegend": true,
           "textposition": "auto",
           "type": "bar",
           "x": {
            "bdata": "AAAAAMBoA0E=",
            "dtype": "f8"
           },
           "xaxis": "x",
           "y": [
            "Latvia"
           ],
           "yaxis": "y"
          },
          {
           "hovertemplate": "Land=%{y}<br>year=2003<br>Produzierte Menge (in MJ)=%{x}<extra></extra>",
           "legendgroup": "Lithuania",
           "marker": {
            "color": "#FFA15A",
            "pattern": {
             "shape": ""
            }
           },
           "name": "Lithuania",
           "orientation": "h",
           "showlegend": true,
           "textposition": "auto",
           "type": "bar",
           "x": {
            "bdata": "AAAAABu2ZUE=",
            "dtype": "f8"
           },
           "xaxis": "x",
           "y": [
            "Lithuania"
           ],
           "yaxis": "y"
          },
          {
           "hovertemplate": "Land=%{y}<br>year=2003<br>Produzierte Menge (in MJ)=%{x}<extra></extra>",
           "legendgroup": "Romania",
           "marker": {
            "color": "#19d3f3",
            "pattern": {
             "shape": ""
            }
           },
           "name": "Romania",
           "orientation": "h",
           "showlegend": true,
           "textposition": "auto",
           "type": "bar",
           "x": {
            "bdata": "AAAAAAAAAAA=",
            "dtype": "f8"
           },
           "xaxis": "x",
           "y": [
            "Romania"
           ],
           "yaxis": "y"
          },
          {
           "hovertemplate": "Land=%{y}<br>year=2003<br>Produzierte Menge (in MJ)=%{x}<extra></extra>",
           "legendgroup": "Iceland",
           "marker": {
            "color": "#FF6692",
            "pattern": {
             "shape": ""
            }
           },
           "name": "Iceland",
           "orientation": "h",
           "showlegend": true,
           "textposition": "auto",
           "type": "bar",
           "x": {
            "bdata": "AAAAAAAX8UA=",
            "dtype": "f8"
           },
           "xaxis": "x",
           "y": [
            "Iceland"
           ],
           "yaxis": "y"
          },
          {
           "hovertemplate": "Land=%{y}<br>year=2003<br>Produzierte Menge (in MJ)=%{x}<extra></extra>",
           "legendgroup": "Slovenia",
           "marker": {
            "color": "#B6E880",
            "pattern": {
             "shape": ""
            }
           },
           "name": "Slovenia",
           "orientation": "h",
           "showlegend": true,
           "textposition": "auto",
           "type": "bar",
           "x": {
            "bdata": "AAAAAAARIkE=",
            "dtype": "f8"
           },
           "xaxis": "x",
           "y": [
            "Slovenia"
           ],
           "yaxis": "y"
          },
          {
           "hovertemplate": "Land=%{y}<br>year=2003<br>Produzierte Menge (in MJ)=%{x}<extra></extra>",
           "legendgroup": "Cyprus",
           "marker": {
            "color": "#FF97FF",
            "pattern": {
             "shape": ""
            }
           },
           "name": "Cyprus",
           "orientation": "h",
           "showlegend": true,
           "textposition": "auto",
           "type": "bar",
           "x": {
            "bdata": "AAAAAMDBCUE=",
            "dtype": "f8"
           },
           "xaxis": "x",
           "y": [
            "Cyprus"
           ],
           "yaxis": "y"
          },
          {
           "hovertemplate": "Land=%{y}<br>year=2003<br>Produzierte Menge (in MJ)=%{x}<extra></extra>",
           "legendgroup": "Slovakia",
           "marker": {
            "color": "#FECB52",
            "pattern": {
             "shape": ""
            }
           },
           "name": "Slovakia",
           "orientation": "h",
           "showlegend": true,
           "textposition": "auto",
           "type": "bar",
           "x": {
            "bdata": "AAAAALgQNEE=",
            "dtype": "f8"
           },
           "xaxis": "x",
           "y": [
            "Slovakia"
           ],
           "yaxis": "y"
          },
          {
           "hovertemplate": "Land=%{y}<br>year=2003<br>Produzierte Menge (in MJ)=%{x}<extra></extra>",
           "legendgroup": "Andorra",
           "marker": {
            "color": "#636efa",
            "pattern": {
             "shape": ""
            }
           },
           "name": "Andorra",
           "orientation": "h",
           "showlegend": true,
           "textposition": "auto",
           "type": "bar",
           "x": {
            "bdata": "AAAAAAAAAAA=",
            "dtype": "f8"
           },
           "xaxis": "x",
           "y": [
            "Andorra"
           ],
           "yaxis": "y"
          },
          {
           "hovertemplate": "Land=%{y}<br>year=2003<br>Produzierte Menge (in MJ)=%{x}<extra></extra>",
           "legendgroup": "Moldova",
           "marker": {
            "color": "#EF553B",
            "pattern": {
             "shape": ""
            }
           },
           "name": "Moldova",
           "orientation": "h",
           "showlegend": true,
           "textposition": "auto",
           "type": "bar",
           "x": {
            "bdata": "AAAAAECnE0E=",
            "dtype": "f8"
           },
           "xaxis": "x",
           "y": [
            "Moldova"
           ],
           "yaxis": "y"
          }
         ],
         "name": "2003"
        },
        {
         "data": [
          {
           "hovertemplate": "Land=%{y}<br>year=2004<br>Produzierte Menge (in MJ)=%{x}<extra></extra>",
           "legendgroup": "Austria",
           "marker": {
            "color": "#636efa",
            "pattern": {
             "shape": ""
            }
           },
           "name": "Austria",
           "orientation": "h",
           "showlegend": true,
           "textposition": "auto",
           "type": "bar",
           "x": {
            "bdata": "AAAAgIQvckE=",
            "dtype": "f8"
           },
           "xaxis": "x",
           "y": [
            "Austria"
           ],
           "yaxis": "y"
          },
          {
           "hovertemplate": "Land=%{y}<br>year=2004<br>Produzierte Menge (in MJ)=%{x}<extra></extra>",
           "legendgroup": "Belgium",
           "marker": {
            "color": "#EF553B",
            "pattern": {
             "shape": ""
            }
           },
           "name": "Belgium",
           "orientation": "h",
           "showlegend": true,
           "textposition": "auto",
           "type": "bar",
           "x": {
            "bdata": "AAAAAOjqeEE=",
            "dtype": "f8"
           },
           "xaxis": "x",
           "y": [
            "Belgium"
           ],
           "yaxis": "y"
          },
          {
           "hovertemplate": "Land=%{y}<br>year=2004<br>Produzierte Menge (in MJ)=%{x}<extra></extra>",
           "legendgroup": "Denmark",
           "marker": {
            "color": "#00cc96",
            "pattern": {
             "shape": ""
            }
           },
           "name": "Denmark",
           "orientation": "h",
           "showlegend": true,
           "textposition": "auto",
           "type": "bar",
           "x": {
            "bdata": "AAAAAGa4jUE=",
            "dtype": "f8"
           },
           "xaxis": "x",
           "y": [
            "Denmark"
           ],
           "yaxis": "y"
          },
          {
           "hovertemplate": "Land=%{y}<br>year=2004<br>Produzierte Menge (in MJ)=%{x}<extra></extra>",
           "legendgroup": "Finland",
           "marker": {
            "color": "#ab63fa",
            "pattern": {
             "shape": ""
            }
           },
           "name": "Finland",
           "orientation": "h",
           "showlegend": true,
           "textposition": "auto",
           "type": "bar",
           "x": {
            "bdata": "AAAAABzoXkE=",
            "dtype": "f8"
           },
           "xaxis": "x",
           "y": [
            "Finland"
           ],
           "yaxis": "y"
          },
          {
           "hovertemplate": "Land=%{y}<br>year=2004<br>Produzierte Menge (in MJ)=%{x}<extra></extra>",
           "legendgroup": "France",
           "marker": {
            "color": "#FFA15A",
            "pattern": {
             "shape": ""
            }
           },
           "name": "France",
           "orientation": "h",
           "showlegend": true,
           "textposition": "auto",
           "type": "bar",
           "x": {
            "bdata": "AAAAgP4gn0E=",
            "dtype": "f8"
           },
           "xaxis": "x",
           "y": [
            "France"
           ],
           "yaxis": "y"
          },
          {
           "hovertemplate": "Land=%{y}<br>year=2004<br>Produzierte Menge (in MJ)=%{x}<extra></extra>",
           "legendgroup": "Greece",
           "marker": {
            "color": "#19d3f3",
            "pattern": {
             "shape": ""
            }
           },
           "name": "Greece",
           "orientation": "h",
           "showlegend": true,
           "textposition": "auto",
           "type": "bar",
           "x": {
            "bdata": "AAAAAGQqYkE=",
            "dtype": "f8"
           },
           "xaxis": "x",
           "y": [
            "Greece"
           ],
           "yaxis": "y"
          },
          {
           "hovertemplate": "Land=%{y}<br>year=2004<br>Produzierte Menge (in MJ)=%{x}<extra></extra>",
           "legendgroup": "Hungary",
           "marker": {
            "color": "#FF6692",
            "pattern": {
             "shape": ""
            }
           },
           "name": "Hungary",
           "orientation": "h",
           "showlegend": true,
           "textposition": "auto",
           "type": "bar",
           "x": {
            "bdata": "AAAAALhjO0E=",
            "dtype": "f8"
           },
           "xaxis": "x",
           "y": [
            "Hungary"
           ],
           "yaxis": "y"
          },
          {
           "hovertemplate": "Land=%{y}<br>year=2004<br>Produzierte Menge (in MJ)=%{x}<extra></extra>",
           "legendgroup": "Ireland",
           "marker": {
            "color": "#B6E880",
            "pattern": {
             "shape": ""
            }
           },
           "name": "Ireland",
           "orientation": "h",
           "showlegend": true,
           "textposition": "auto",
           "type": "bar",
           "x": {
            "bdata": "AAAAAPxMRkE=",
            "dtype": "f8"
           },
           "xaxis": "x",
           "y": [
            "Ireland"
           ],
           "yaxis": "y"
          },
          {
           "hovertemplate": "Land=%{y}<br>year=2004<br>Produzierte Menge (in MJ)=%{x}<extra></extra>",
           "legendgroup": "Italy",
           "marker": {
            "color": "#FF97FF",
            "pattern": {
             "shape": ""
            }
           },
           "name": "Italy",
           "orientation": "h",
           "showlegend": true,
           "textposition": "auto",
           "type": "bar",
           "x": {
            "bdata": "AAAAADvIj0E=",
            "dtype": "f8"
           },
           "xaxis": "x",
           "y": [
            "Italy"
           ],
           "yaxis": "y"
          },
          {
           "hovertemplate": "Land=%{y}<br>year=2004<br>Produzierte Menge (in MJ)=%{x}<extra></extra>",
           "legendgroup": "Luxembourg",
           "marker": {
            "color": "#FECB52",
            "pattern": {
             "shape": ""
            }
           },
           "name": "Luxembourg",
           "orientation": "h",
           "showlegend": true,
           "textposition": "auto",
           "type": "bar",
           "x": {
            "bdata": "AAAAAPiUOEE=",
            "dtype": "f8"
           },
           "xaxis": "x",
           "y": [
            "Luxembourg"
           ],
           "yaxis": "y"
          },
          {
           "hovertemplate": "Land=%{y}<br>year=2004<br>Produzierte Menge (in MJ)=%{x}<extra></extra>",
           "legendgroup": "Netherlands",
           "marker": {
            "color": "#636efa",
            "pattern": {
             "shape": ""
            }
           },
           "name": "Netherlands",
           "orientation": "h",
           "showlegend": true,
           "textposition": "auto",
           "type": "bar",
           "x": {
            "bdata": "AAAA4PBKkUE=",
            "dtype": "f8"
           },
           "xaxis": "x",
           "y": [
            "Netherlands"
           ],
           "yaxis": "y"
          },
          {
           "hovertemplate": "Land=%{y}<br>year=2004<br>Produzierte Menge (in MJ)=%{x}<extra></extra>",
           "legendgroup": "Norway",
           "marker": {
            "color": "#EF553B",
            "pattern": {
             "shape": ""
            }
           },
           "name": "Norway",
           "orientation": "h",
           "showlegend": true,
           "textposition": "auto",
           "type": "bar",
           "x": {
            "bdata": "AAAAACqTYEE=",
            "dtype": "f8"
           },
           "xaxis": "x",
           "y": [
            "Norway"
           ],
           "yaxis": "y"
          },
          {
           "hovertemplate": "Land=%{y}<br>year=2004<br>Produzierte Menge (in MJ)=%{x}<extra></extra>",
           "legendgroup": "Poland",
           "marker": {
            "color": "#00cc96",
            "pattern": {
             "shape": ""
            }
           },
           "name": "Poland",
           "orientation": "h",
           "showlegend": true,
           "textposition": "auto",
           "type": "bar",
           "x": {
            "bdata": "AAAAwPvBg0E=",
            "dtype": "f8"
           },
           "xaxis": "x",
           "y": [
            "Poland"
           ],
           "yaxis": "y"
          },
          {
           "hovertemplate": "Land=%{y}<br>year=2004<br>Produzierte Menge (in MJ)=%{x}<extra></extra>",
           "legendgroup": "Portugal",
           "marker": {
            "color": "#ab63fa",
            "pattern": {
             "shape": ""
            }
           },
           "name": "Portugal",
           "orientation": "h",
           "showlegend": true,
           "textposition": "auto",
           "type": "bar",
           "x": {
            "bdata": "AAAAAIczg0E=",
            "dtype": "f8"
           },
           "xaxis": "x",
           "y": [
            "Portugal"
           ],
           "yaxis": "y"
          },
          {
           "hovertemplate": "Land=%{y}<br>year=2004<br>Produzierte Menge (in MJ)=%{x}<extra></extra>",
           "legendgroup": "Spain",
           "marker": {
            "color": "#FFA15A",
            "pattern": {
             "shape": ""
            }
           },
           "name": "Spain",
           "orientation": "h",
           "showlegend": true,
           "textposition": "auto",
           "type": "bar",
           "x": {
            "bdata": "AAAAYNtekEE=",
            "dtype": "f8"
           },
           "xaxis": "x",
           "y": [
            "Spain"
           ],
           "yaxis": "y"
          },
          {
           "hovertemplate": "Land=%{y}<br>year=2004<br>Produzierte Menge (in MJ)=%{x}<extra></extra>",
           "legendgroup": "Sweden",
           "marker": {
            "color": "#19d3f3",
            "pattern": {
             "shape": ""
            }
           },
           "name": "Sweden",
           "orientation": "h",
           "showlegend": true,
           "textposition": "auto",
           "type": "bar",
           "x": {
            "bdata": "AAAAQLnTjkE=",
            "dtype": "f8"
           },
           "xaxis": "x",
           "y": [
            "Sweden"
           ],
           "yaxis": "y"
          },
          {
           "hovertemplate": "Land=%{y}<br>year=2004<br>Produzierte Menge (in MJ)=%{x}<extra></extra>",
           "legendgroup": "Switzerland",
           "marker": {
            "color": "#FF6692",
            "pattern": {
             "shape": ""
            }
           },
           "name": "Switzerland",
           "orientation": "h",
           "showlegend": true,
           "textposition": "auto",
           "type": "bar",
           "x": {
            "bdata": "AAAAAHNgg0E=",
            "dtype": "f8"
           },
           "xaxis": "x",
           "y": [
            "Switzerland"
           ],
           "yaxis": "y"
          },
          {
           "hovertemplate": "Land=%{y}<br>year=2004<br>Produzierte Menge (in MJ)=%{x}<extra></extra>",
           "legendgroup": "United Kingdom",
           "marker": {
            "color": "#B6E880",
            "pattern": {
             "shape": ""
            }
           },
           "name": "United Kingdom",
           "orientation": "h",
           "showlegend": true,
           "textposition": "auto",
           "type": "bar",
           "x": {
            "bdata": "AAAAoPH9lUE=",
            "dtype": "f8"
           },
           "xaxis": "x",
           "y": [
            "United Kingdom"
           ],
           "yaxis": "y"
          },
          {
           "hovertemplate": "Land=%{y}<br>year=2004<br>Produzierte Menge (in MJ)=%{x}<extra></extra>",
           "legendgroup": "Germany",
           "marker": {
            "color": "#FF97FF",
            "pattern": {
             "shape": ""
            }
           },
           "name": "Germany",
           "orientation": "h",
           "showlegend": true,
           "textposition": "auto",
           "type": "bar",
           "x": {
            "bdata": "AAAAANLWpUE=",
            "dtype": "f8"
           },
           "xaxis": "x",
           "y": [
            "Germany"
           ],
           "yaxis": "y"
          },
          {
           "hovertemplate": "Land=%{y}<br>year=2004<br>Produzierte Menge (in MJ)=%{x}<extra></extra>",
           "legendgroup": "Belarus",
           "marker": {
            "color": "#FECB52",
            "pattern": {
             "shape": ""
            }
           },
           "name": "Belarus",
           "orientation": "h",
           "showlegend": true,
           "textposition": "auto",
           "type": "bar",
           "x": {
            "bdata": "AAAAAJi8NEE=",
            "dtype": "f8"
           },
           "xaxis": "x",
           "y": [
            "Belarus"
           ],
           "yaxis": "y"
          },
          {
           "hovertemplate": "Land=%{y}<br>year=2004<br>Produzierte Menge (in MJ)=%{x}<extra></extra>",
           "legendgroup": "Croatia",
           "marker": {
            "color": "#636efa",
            "pattern": {
             "shape": ""
            }
           },
           "name": "Croatia",
           "orientation": "h",
           "showlegend": true,
           "textposition": "auto",
           "type": "bar",
           "x": {
            "bdata": "AAAAAAAAAAA=",
            "dtype": "f8"
           },
           "xaxis": "x",
           "y": [
            "Croatia"
           ],
           "yaxis": "y"
          },
          {
           "hovertemplate": "Land=%{y}<br>year=2004<br>Produzierte Menge (in MJ)=%{x}<extra></extra>",
           "legendgroup": "Czech Republic",
           "marker": {
            "color": "#EF553B",
            "pattern": {
             "shape": ""
            }
           },
           "name": "Czech Republic",
           "orientation": "h",
           "showlegend": true,
           "textposition": "auto",
           "type": "bar",
           "x": {
            "bdata": "AAAAAGUJZEE=",
            "dtype": "f8"
           },
           "xaxis": "x",
           "y": [
            "Czech Republic"
           ],
           "yaxis": "y"
          },
          {
           "hovertemplate": "Land=%{y}<br>year=2004<br>Produzierte Menge (in MJ)=%{x}<extra></extra>",
           "legendgroup": "Estonia",
           "marker": {
            "color": "#00cc96",
            "pattern": {
             "shape": ""
            }
           },
           "name": "Estonia",
           "orientation": "h",
           "showlegend": true,
           "textposition": "auto",
           "type": "bar",
           "x": {
            "bdata": "AAAAAAgnTEE=",
            "dtype": "f8"
           },
           "xaxis": "x",
           "y": [
            "Estonia"
           ],
           "yaxis": "y"
          },
          {
           "hovertemplate": "Land=%{y}<br>year=2004<br>Produzierte Menge (in MJ)=%{x}<extra></extra>",
           "legendgroup": "Latvia",
           "marker": {
            "color": "#ab63fa",
            "pattern": {
             "shape": ""
            }
           },
           "name": "Latvia",
           "orientation": "h",
           "showlegend": true,
           "textposition": "auto",
           "type": "bar",
           "x": {
            "bdata": "AAAAAGABEkE=",
            "dtype": "f8"
           },
           "xaxis": "x",
           "y": [
            "Latvia"
           ],
           "yaxis": "y"
          },
          {
           "hovertemplate": "Land=%{y}<br>year=2004<br>Produzierte Menge (in MJ)=%{x}<extra></extra>",
           "legendgroup": "Lithuania",
           "marker": {
            "color": "#FFA15A",
            "pattern": {
             "shape": ""
            }
           },
           "name": "Lithuania",
           "orientation": "h",
           "showlegend": true,
           "textposition": "auto",
           "type": "bar",
           "x": {
            "bdata": "AAAAADHWZkE=",
            "dtype": "f8"
           },
           "xaxis": "x",
           "y": [
            "Lithuania"
           ],
           "yaxis": "y"
          },
          {
           "hovertemplate": "Land=%{y}<br>year=2004<br>Produzierte Menge (in MJ)=%{x}<extra></extra>",
           "legendgroup": "Romania",
           "marker": {
            "color": "#19d3f3",
            "pattern": {
             "shape": ""
            }
           },
           "name": "Romania",
           "orientation": "h",
           "showlegend": true,
           "textposition": "auto",
           "type": "bar",
           "x": {
            "bdata": "AAAAAAAAAAA=",
            "dtype": "f8"
           },
           "xaxis": "x",
           "y": [
            "Romania"
           ],
           "yaxis": "y"
          },
          {
           "hovertemplate": "Land=%{y}<br>year=2004<br>Produzierte Menge (in MJ)=%{x}<extra></extra>",
           "legendgroup": "Iceland",
           "marker": {
            "color": "#FF6692",
            "pattern": {
             "shape": ""
            }
           },
           "name": "Iceland",
           "orientation": "h",
           "showlegend": true,
           "textposition": "auto",
           "type": "bar",
           "x": {
            "bdata": "AAAAAADt90A=",
            "dtype": "f8"
           },
           "xaxis": "x",
           "y": [
            "Iceland"
           ],
           "yaxis": "y"
          },
          {
           "hovertemplate": "Land=%{y}<br>year=2004<br>Produzierte Menge (in MJ)=%{x}<extra></extra>",
           "legendgroup": "Slovenia",
           "marker": {
            "color": "#B6E880",
            "pattern": {
             "shape": ""
            }
           },
           "name": "Slovenia",
           "orientation": "h",
           "showlegend": true,
           "textposition": "auto",
           "type": "bar",
           "x": {
            "bdata": "AAAAAJDhJUE=",
            "dtype": "f8"
           },
           "xaxis": "x",
           "y": [
            "Slovenia"
           ],
           "yaxis": "y"
          },
          {
           "hovertemplate": "Land=%{y}<br>year=2004<br>Produzierte Menge (in MJ)=%{x}<extra></extra>",
           "legendgroup": "Cyprus",
           "marker": {
            "color": "#FF97FF",
            "pattern": {
             "shape": ""
            }
           },
           "name": "Cyprus",
           "orientation": "h",
           "showlegend": true,
           "textposition": "auto",
           "type": "bar",
           "x": {
            "bdata": "AAAAAIAB/0A=",
            "dtype": "f8"
           },
           "xaxis": "x",
           "y": [
            "Cyprus"
           ],
           "yaxis": "y"
          },
          {
           "hovertemplate": "Land=%{y}<br>year=2004<br>Produzierte Menge (in MJ)=%{x}<extra></extra>",
           "legendgroup": "Slovakia",
           "marker": {
            "color": "#FECB52",
            "pattern": {
             "shape": ""
            }
           },
           "name": "Slovakia",
           "orientation": "h",
           "showlegend": true,
           "textposition": "auto",
           "type": "bar",
           "x": {
            "bdata": "AAAAAFj8SUE=",
            "dtype": "f8"
           },
           "xaxis": "x",
           "y": [
            "Slovakia"
           ],
           "yaxis": "y"
          },
          {
           "hovertemplate": "Land=%{y}<br>year=2004<br>Produzierte Menge (in MJ)=%{x}<extra></extra>",
           "legendgroup": "Andorra",
           "marker": {
            "color": "#636efa",
            "pattern": {
             "shape": ""
            }
           },
           "name": "Andorra",
           "orientation": "h",
           "showlegend": true,
           "textposition": "auto",
           "type": "bar",
           "x": {
            "bdata": "AAAAAAAgzEA=",
            "dtype": "f8"
           },
           "xaxis": "x",
           "y": [
            "Andorra"
           ],
           "yaxis": "y"
          },
          {
           "hovertemplate": "Land=%{y}<br>year=2004<br>Produzierte Menge (in MJ)=%{x}<extra></extra>",
           "legendgroup": "Moldova",
           "marker": {
            "color": "#EF553B",
            "pattern": {
             "shape": ""
            }
           },
           "name": "Moldova",
           "orientation": "h",
           "showlegend": true,
           "textposition": "auto",
           "type": "bar",
           "x": {
            "bdata": "AAAAAOADHEE=",
            "dtype": "f8"
           },
           "xaxis": "x",
           "y": [
            "Moldova"
           ],
           "yaxis": "y"
          }
         ],
         "name": "2004"
        },
        {
         "data": [
          {
           "hovertemplate": "Land=%{y}<br>year=2005<br>Produzierte Menge (in MJ)=%{x}<extra></extra>",
           "legendgroup": "Austria",
           "marker": {
            "color": "#636efa",
            "pattern": {
             "shape": ""
            }
           },
           "name": "Austria",
           "orientation": "h",
           "showlegend": true,
           "textposition": "auto",
           "type": "bar",
           "x": {
            "bdata": "AAAAAAH2ckE=",
            "dtype": "f8"
           },
           "xaxis": "x",
           "y": [
            "Austria"
           ],
           "yaxis": "y"
          },
          {
           "hovertemplate": "Land=%{y}<br>year=2005<br>Produzierte Menge (in MJ)=%{x}<extra></extra>",
           "legendgroup": "Belgium",
           "marker": {
            "color": "#EF553B",
            "pattern": {
             "shape": ""
            }
           },
           "name": "Belgium",
           "orientation": "h",
           "showlegend": true,
           "textposition": "auto",
           "type": "bar",
           "x": {
            "bdata": "AAAAgEWzfUE=",
            "dtype": "f8"
           },
           "xaxis": "x",
           "y": [
            "Belgium"
           ],
           "yaxis": "y"
          },
          {
           "hovertemplate": "Land=%{y}<br>year=2005<br>Produzierte Menge (in MJ)=%{x}<extra></extra>",
           "legendgroup": "Denmark",
           "marker": {
            "color": "#00cc96",
            "pattern": {
             "shape": ""
            }
           },
           "name": "Denmark",
           "orientation": "h",
           "showlegend": true,
           "textposition": "auto",
           "type": "bar",
           "x": {
            "bdata": "AAAAABBtjkE=",
            "dtype": "f8"
           },
           "xaxis": "x",
           "y": [
            "Denmark"
           ],
           "yaxis": "y"
          },
          {
           "hovertemplate": "Land=%{y}<br>year=2005<br>Produzierte Menge (in MJ)=%{x}<extra></extra>",
           "legendgroup": "Finland",
           "marker": {
            "color": "#ab63fa",
            "pattern": {
             "shape": ""
            }
           },
           "name": "Finland",
           "orientation": "h",
           "showlegend": true,
           "textposition": "auto",
           "type": "bar",
           "x": {
            "bdata": "AAAAAGopYkE=",
            "dtype": "f8"
           },
           "xaxis": "x",
           "y": [
            "Finland"
           ],
           "yaxis": "y"
          },
          {
           "hovertemplate": "Land=%{y}<br>year=2005<br>Produzierte Menge (in MJ)=%{x}<extra></extra>",
           "legendgroup": "France",
           "marker": {
            "color": "#FFA15A",
            "pattern": {
             "shape": ""
            }
           },
           "name": "France",
           "orientation": "h",
           "showlegend": true,
           "textposition": "auto",
           "type": "bar",
           "x": {
            "bdata": "AAAAcJjDoEE=",
            "dtype": "f8"
           },
           "xaxis": "x",
           "y": [
            "France"
           ],
           "yaxis": "y"
          },
          {
           "hovertemplate": "Land=%{y}<br>year=2005<br>Produzierte Menge (in MJ)=%{x}<extra></extra>",
           "legendgroup": "Greece",
           "marker": {
            "color": "#19d3f3",
            "pattern": {
             "shape": ""
            }
           },
           "name": "Greece",
           "orientation": "h",
           "showlegend": true,
           "textposition": "auto",
           "type": "bar",
           "x": {
            "bdata": "AAAAAMK1ZEE=",
            "dtype": "f8"
           },
           "xaxis": "x",
           "y": [
            "Greece"
           ],
           "yaxis": "y"
          },
          {
           "hovertemplate": "Land=%{y}<br>year=2005<br>Produzierte Menge (in MJ)=%{x}<extra></extra>",
           "legendgroup": "Hungary",
           "marker": {
            "color": "#FF6692",
            "pattern": {
             "shape": ""
            }
           },
           "name": "Hungary",
           "orientation": "h",
           "showlegend": true,
           "textposition": "auto",
           "type": "bar",
           "x": {
            "bdata": "AAAAAHiAUUE=",
            "dtype": "f8"
           },
           "xaxis": "x",
           "y": [
            "Hungary"
           ],
           "yaxis": "y"
          },
          {
           "hovertemplate": "Land=%{y}<br>year=2005<br>Produzierte Menge (in MJ)=%{x}<extra></extra>",
           "legendgroup": "Ireland",
           "marker": {
            "color": "#B6E880",
            "pattern": {
             "shape": ""
            }
           },
           "name": "Ireland",
           "orientation": "h",
           "showlegend": true,
           "textposition": "auto",
           "type": "bar",
           "x": {
            "bdata": "AAAAAHhES0E=",
            "dtype": "f8"
           },
           "xaxis": "x",
           "y": [
            "Ireland"
           ],
           "yaxis": "y"
          },
          {
           "hovertemplate": "Land=%{y}<br>year=2005<br>Produzierte Menge (in MJ)=%{x}<extra></extra>",
           "legendgroup": "Italy",
           "marker": {
            "color": "#FF97FF",
            "pattern": {
             "shape": ""
            }
           },
           "name": "Italy",
           "orientation": "h",
           "showlegend": true,
           "textposition": "auto",
           "type": "bar",
           "x": {
            "bdata": "AAAAgHFTkEE=",
            "dtype": "f8"
           },
           "xaxis": "x",
           "y": [
            "Italy"
           ],
           "yaxis": "y"
          },
          {
           "hovertemplate": "Land=%{y}<br>year=2005<br>Produzierte Menge (in MJ)=%{x}<extra></extra>",
           "legendgroup": "Luxembourg",
           "marker": {
            "color": "#FECB52",
            "pattern": {
             "shape": ""
            }
           },
           "name": "Luxembourg",
           "orientation": "h",
           "showlegend": true,
           "textposition": "auto",
           "type": "bar",
           "x": {
            "bdata": "AAAAACBBN0E=",
            "dtype": "f8"
           },
           "xaxis": "x",
           "y": [
            "Luxembourg"
           ],
           "yaxis": "y"
          },
          {
           "hovertemplate": "Land=%{y}<br>year=2005<br>Produzierte Menge (in MJ)=%{x}<extra></extra>",
           "legendgroup": "Netherlands",
           "marker": {
            "color": "#636efa",
            "pattern": {
             "shape": ""
            }
           },
           "name": "Netherlands",
           "orientation": "h",
           "showlegend": true,
           "textposition": "auto",
           "type": "bar",
           "x": {
            "bdata": "AAAAIKwxkUE=",
            "dtype": "f8"
           },
           "xaxis": "x",
           "y": [
            "Netherlands"
           ],
           "yaxis": "y"
          },
          {
           "hovertemplate": "Land=%{y}<br>year=2005<br>Produzierte Menge (in MJ)=%{x}<extra></extra>",
           "legendgroup": "Norway",
           "marker": {
            "color": "#EF553B",
            "pattern": {
             "shape": ""
            }
           },
           "name": "Norway",
           "orientation": "h",
           "showlegend": true,
           "textposition": "auto",
           "type": "bar",
           "x": {
            "bdata": "AAAAAEAwYkE=",
            "dtype": "f8"
           },
           "xaxis": "x",
           "y": [
            "Norway"
           ],
           "yaxis": "y"
          },
          {
           "hovertemplate": "Land=%{y}<br>year=2005<br>Produzierte Menge (in MJ)=%{x}<extra></extra>",
           "legendgroup": "Poland",
           "marker": {
            "color": "#00cc96",
            "pattern": {
             "shape": ""
            }
           },
           "name": "Poland",
           "orientation": "h",
           "showlegend": true,
           "textposition": "auto",
           "type": "bar",
           "x": {
            "bdata": "AAAAQCzQiEE=",
            "dtype": "f8"
           },
           "xaxis": "x",
           "y": [
            "Poland"
           ],
           "yaxis": "y"
          },
          {
           "hovertemplate": "Land=%{y}<br>year=2005<br>Produzierte Menge (in MJ)=%{x}<extra></extra>",
           "legendgroup": "Portugal",
           "marker": {
            "color": "#ab63fa",
            "pattern": {
             "shape": ""
            }
           },
           "name": "Portugal",
           "orientation": "h",
           "showlegend": true,
           "textposition": "auto",
           "type": "bar",
           "x": {
            "bdata": "AAAAQERnhEE=",
            "dtype": "f8"
           },
           "xaxis": "x",
           "y": [
            "Portugal"
           ],
           "yaxis": "y"
          },
          {
           "hovertemplate": "Land=%{y}<br>year=2005<br>Produzierte Menge (in MJ)=%{x}<extra></extra>",
           "legendgroup": "Spain",
           "marker": {
            "color": "#FFA15A",
            "pattern": {
             "shape": ""
            }
           },
           "name": "Spain",
           "orientation": "h",
           "showlegend": true,
           "textposition": "auto",
           "type": "bar",
           "x": {
            "bdata": "AAAAAPMhk0E=",
            "dtype": "f8"
           },
           "xaxis": "x",
           "y": [
            "Spain"
           ],
           "yaxis": "y"
          },
          {
           "hovertemplate": "Land=%{y}<br>year=2005<br>Produzierte Menge (in MJ)=%{x}<extra></extra>",
           "legendgroup": "Sweden",
           "marker": {
            "color": "#19d3f3",
            "pattern": {
             "shape": ""
            }
           },
           "name": "Sweden",
           "orientation": "h",
           "showlegend": true,
           "textposition": "auto",
           "type": "bar",
           "x": {
            "bdata": "AAAAYDs3lEE=",
            "dtype": "f8"
           },
           "xaxis": "x",
           "y": [
            "Sweden"
           ],
           "yaxis": "y"
          },
          {
           "hovertemplate": "Land=%{y}<br>year=2005<br>Produzierte Menge (in MJ)=%{x}<extra></extra>",
           "legendgroup": "Switzerland",
           "marker": {
            "color": "#FF6692",
            "pattern": {
             "shape": ""
            }
           },
           "name": "Switzerland",
           "orientation": "h",
           "showlegend": true,
           "textposition": "auto",
           "type": "bar",
           "x": {
            "bdata": "AAAAgIuKhEE=",
            "dtype": "f8"
           },
           "xaxis": "x",
           "y": [
            "Switzerland"
           ],
           "yaxis": "y"
          },
          {
           "hovertemplate": "Land=%{y}<br>year=2005<br>Produzierte Menge (in MJ)=%{x}<extra></extra>",
           "legendgroup": "United Kingdom",
           "marker": {
            "color": "#B6E880",
            "pattern": {
             "shape": ""
            }
           },
           "name": "United Kingdom",
           "orientation": "h",
           "showlegend": true,
           "textposition": "auto",
           "type": "bar",
           "x": {
            "bdata": "AAAAwAeQm0E=",
            "dtype": "f8"
           },
           "xaxis": "x",
           "y": [
            "United Kingdom"
           ],
           "yaxis": "y"
          },
          {
           "hovertemplate": "Land=%{y}<br>year=2005<br>Produzierte Menge (in MJ)=%{x}<extra></extra>",
           "legendgroup": "Germany",
           "marker": {
            "color": "#FF97FF",
            "pattern": {
             "shape": ""
            }
           },
           "name": "Germany",
           "orientation": "h",
           "showlegend": true,
           "textposition": "auto",
           "type": "bar",
           "x": {
            "bdata": "AAAAYFltr0E=",
            "dtype": "f8"
           },
           "xaxis": "x",
           "y": [
            "Germany"
           ],
           "yaxis": "y"
          },
          {
           "hovertemplate": "Land=%{y}<br>year=2005<br>Produzierte Menge (in MJ)=%{x}<extra></extra>",
           "legendgroup": "Belarus",
           "marker": {
            "color": "#FECB52",
            "pattern": {
             "shape": ""
            }
           },
           "name": "Belarus",
           "orientation": "h",
           "showlegend": true,
           "textposition": "auto",
           "type": "bar",
           "x": {
            "bdata": "AAAAADDfOEE=",
            "dtype": "f8"
           },
           "xaxis": "x",
           "y": [
            "Belarus"
           ],
           "yaxis": "y"
          },
          {
           "hovertemplate": "Land=%{y}<br>year=2005<br>Produzierte Menge (in MJ)=%{x}<extra></extra>",
           "legendgroup": "Croatia",
           "marker": {
            "color": "#636efa",
            "pattern": {
             "shape": ""
            }
           },
           "name": "Croatia",
           "orientation": "h",
           "showlegend": true,
           "textposition": "auto",
           "type": "bar",
           "x": {
            "bdata": "AAAAAEA2AUE=",
            "dtype": "f8"
           },
           "xaxis": "x",
           "y": [
            "Croatia"
           ],
           "yaxis": "y"
          },
          {
           "hovertemplate": "Land=%{y}<br>year=2005<br>Produzierte Menge (in MJ)=%{x}<extra></extra>",
           "legendgroup": "Czech Republic",
           "marker": {
            "color": "#EF553B",
            "pattern": {
             "shape": ""
            }
           },
           "name": "Czech Republic",
           "orientation": "h",
           "showlegend": true,
           "textposition": "auto",
           "type": "bar",
           "x": {
            "bdata": "AAAAAJe/Z0E=",
            "dtype": "f8"
           },
           "xaxis": "x",
           "y": [
            "Czech Republic"
           ],
           "yaxis": "y"
          },
          {
           "hovertemplate": "Land=%{y}<br>year=2005<br>Produzierte Menge (in MJ)=%{x}<extra></extra>",
           "legendgroup": "Estonia",
           "marker": {
            "color": "#00cc96",
            "pattern": {
             "shape": ""
            }
           },
           "name": "Estonia",
           "orientation": "h",
           "showlegend": true,
           "textposition": "auto",
           "type": "bar",
           "x": {
            "bdata": "AAAAAJjOUUE=",
            "dtype": "f8"
           },
           "xaxis": "x",
           "y": [
            "Estonia"
           ],
           "yaxis": "y"
          },
          {
           "hovertemplate": "Land=%{y}<br>year=2005<br>Produzierte Menge (in MJ)=%{x}<extra></extra>",
           "legendgroup": "Latvia",
           "marker": {
            "color": "#ab63fa",
            "pattern": {
             "shape": ""
            }
           },
           "name": "Latvia",
           "orientation": "h",
           "showlegend": true,
           "textposition": "auto",
           "type": "bar",
           "x": {
            "bdata": "AAAAAKDwGUE=",
            "dtype": "f8"
           },
           "xaxis": "x",
           "y": [
            "Latvia"
           ],
           "yaxis": "y"
          },
          {
           "hovertemplate": "Land=%{y}<br>year=2005<br>Produzierte Menge (in MJ)=%{x}<extra></extra>",
           "legendgroup": "Lithuania",
           "marker": {
            "color": "#FFA15A",
            "pattern": {
             "shape": ""
            }
           },
           "name": "Lithuania",
           "orientation": "h",
           "showlegend": true,
           "textposition": "auto",
           "type": "bar",
           "x": {
            "bdata": "AAAAANFEbEE=",
            "dtype": "f8"
           },
           "xaxis": "x",
           "y": [
            "Lithuania"
           ],
           "yaxis": "y"
          },
          {
           "hovertemplate": "Land=%{y}<br>year=2005<br>Produzierte Menge (in MJ)=%{x}<extra></extra>",
           "legendgroup": "Romania",
           "marker": {
            "color": "#19d3f3",
            "pattern": {
             "shape": ""
            }
           },
           "name": "Romania",
           "orientation": "h",
           "showlegend": true,
           "textposition": "auto",
           "type": "bar",
           "x": {
            "bdata": "AAAAAAAAAAA=",
            "dtype": "f8"
           },
           "xaxis": "x",
           "y": [
            "Romania"
           ],
           "yaxis": "y"
          },
          {
           "hovertemplate": "Land=%{y}<br>year=2005<br>Produzierte Menge (in MJ)=%{x}<extra></extra>",
           "legendgroup": "Iceland",
           "marker": {
            "color": "#FF6692",
            "pattern": {
             "shape": ""
            }
           },
           "name": "Iceland",
           "orientation": "h",
           "showlegend": true,
           "textposition": "auto",
           "type": "bar",
           "x": {
            "bdata": "AAAAAABY+0A=",
            "dtype": "f8"
           },
           "xaxis": "x",
           "y": [
            "Iceland"
           ],
           "yaxis": "y"
          },
          {
           "hovertemplate": "Land=%{y}<br>year=2005<br>Produzierte Menge (in MJ)=%{x}<extra></extra>",
           "legendgroup": "Slovenia",
           "marker": {
            "color": "#B6E880",
            "pattern": {
             "shape": ""
            }
           },
           "name": "Slovenia",
           "orientation": "h",
           "showlegend": true,
           "textposition": "auto",
           "type": "bar",
           "x": {
            "bdata": "AAAAAKACJ0E=",
            "dtype": "f8"
           },
           "xaxis": "x",
           "y": [
            "Slovenia"
           ],
           "yaxis": "y"
          },
          {
           "hovertemplate": "Land=%{y}<br>year=2005<br>Produzierte Menge (in MJ)=%{x}<extra></extra>",
           "legendgroup": "Cyprus",
           "marker": {
            "color": "#FF97FF",
            "pattern": {
             "shape": ""
            }
           },
           "name": "Cyprus",
           "orientation": "h",
           "showlegend": true,
           "textposition": "auto",
           "type": "bar",
           "x": {
            "bdata": "AAAAAACO4kA=",
            "dtype": "f8"
           },
           "xaxis": "x",
           "y": [
            "Cyprus"
           ],
           "yaxis": "y"
          },
          {
           "hovertemplate": "Land=%{y}<br>year=2005<br>Produzierte Menge (in MJ)=%{x}<extra></extra>",
           "legendgroup": "Slovakia",
           "marker": {
            "color": "#FECB52",
            "pattern": {
             "shape": ""
            }
           },
           "name": "Slovakia",
           "orientation": "h",
           "showlegend": true,
           "textposition": "auto",
           "type": "bar",
           "x": {
            "bdata": "AAAAALrgVEE=",
            "dtype": "f8"
           },
           "xaxis": "x",
           "y": [
            "Slovakia"
           ],
           "yaxis": "y"
          },
          {
           "hovertemplate": "Land=%{y}<br>year=2005<br>Produzierte Menge (in MJ)=%{x}<extra></extra>",
           "legendgroup": "Andorra",
           "marker": {
            "color": "#636efa",
            "pattern": {
             "shape": ""
            }
           },
           "name": "Andorra",
           "orientation": "h",
           "showlegend": true,
           "textposition": "auto",
           "type": "bar",
           "x": {
            "bdata": "AAAAAAAgzEA=",
            "dtype": "f8"
           },
           "xaxis": "x",
           "y": [
            "Andorra"
           ],
           "yaxis": "y"
          },
          {
           "hovertemplate": "Land=%{y}<br>year=2005<br>Produzierte Menge (in MJ)=%{x}<extra></extra>",
           "legendgroup": "Moldova",
           "marker": {
            "color": "#EF553B",
            "pattern": {
             "shape": ""
            }
           },
           "name": "Moldova",
           "orientation": "h",
           "showlegend": true,
           "textposition": "auto",
           "type": "bar",
           "x": {
            "bdata": "AAAAAGDFG0E=",
            "dtype": "f8"
           },
           "xaxis": "x",
           "y": [
            "Moldova"
           ],
           "yaxis": "y"
          }
         ],
         "name": "2005"
        },
        {
         "data": [
          {
           "hovertemplate": "Land=%{y}<br>year=2006<br>Produzierte Menge (in MJ)=%{x}<extra></extra>",
           "legendgroup": "Austria",
           "marker": {
            "color": "#636efa",
            "pattern": {
             "shape": ""
            }
           },
           "name": "Austria",
           "orientation": "h",
           "showlegend": true,
           "textposition": "auto",
           "type": "bar",
           "x": {
            "bdata": "AAAAgHRPe0E=",
            "dtype": "f8"
           },
           "xaxis": "x",
           "y": [
            "Austria"
           ],
           "yaxis": "y"
          },
          {
           "hovertemplate": "Land=%{y}<br>year=2006<br>Produzierte Menge (in MJ)=%{x}<extra></extra>",
           "legendgroup": "Belgium",
           "marker": {
            "color": "#EF553B",
            "pattern": {
             "shape": ""
            }
           },
           "name": "Belgium",
           "orientation": "h",
           "showlegend": true,
           "textposition": "auto",
           "type": "bar",
           "x": {
            "bdata": "AAAAwJvjgEE=",
            "dtype": "f8"
           },
           "xaxis": "x",
           "y": [
            "Belgium"
           ],
           "yaxis": "y"
          },
          {
           "hovertemplate": "Land=%{y}<br>year=2006<br>Produzierte Menge (in MJ)=%{x}<extra></extra>",
           "legendgroup": "Denmark",
           "marker": {
            "color": "#00cc96",
            "pattern": {
             "shape": ""
            }
           },
           "name": "Denmark",
           "orientation": "h",
           "showlegend": true,
           "textposition": "auto",
           "type": "bar",
           "x": {
            "bdata": "AAAAgHf4jkE=",
            "dtype": "f8"
           },
           "xaxis": "x",
           "y": [
            "Denmark"
           ],
           "yaxis": "y"
          },
          {
           "hovertemplate": "Land=%{y}<br>year=2006<br>Produzierte Menge (in MJ)=%{x}<extra></extra>",
           "legendgroup": "Finland",
           "marker": {
            "color": "#ab63fa",
            "pattern": {
             "shape": ""
            }
           },
           "name": "Finland",
           "orientation": "h",
           "showlegend": true,
           "textposition": "auto",
           "type": "bar",
           "x": {
            "bdata": "AAAAAFdNYEE=",
            "dtype": "f8"
           },
           "xaxis": "x",
           "y": [
            "Finland"
           ],
           "yaxis": "y"
          },
          {
           "hovertemplate": "Land=%{y}<br>year=2006<br>Produzierte Menge (in MJ)=%{x}<extra></extra>",
           "legendgroup": "France",
           "marker": {
            "color": "#FFA15A",
            "pattern": {
             "shape": ""
            }
           },
           "name": "France",
           "orientation": "h",
           "showlegend": true,
           "textposition": "auto",
           "type": "bar",
           "x": {
            "bdata": "AAAAEBaIoEE=",
            "dtype": "f8"
           },
           "xaxis": "x",
           "y": [
            "France"
           ],
           "yaxis": "y"
          },
          {
           "hovertemplate": "Land=%{y}<br>year=2006<br>Produzierte Menge (in MJ)=%{x}<extra></extra>",
           "legendgroup": "Greece",
           "marker": {
            "color": "#19d3f3",
            "pattern": {
             "shape": ""
            }
           },
           "name": "Greece",
           "orientation": "h",
           "showlegend": true,
           "textposition": "auto",
           "type": "bar",
           "x": {
            "bdata": "AAAAACiZZkE=",
            "dtype": "f8"
           },
           "xaxis": "x",
           "y": [
            "Greece"
           ],
           "yaxis": "y"
          },
          {
           "hovertemplate": "Land=%{y}<br>year=2006<br>Produzierte Menge (in MJ)=%{x}<extra></extra>",
           "legendgroup": "Hungary",
           "marker": {
            "color": "#FF6692",
            "pattern": {
             "shape": ""
            }
           },
           "name": "Hungary",
           "orientation": "h",
           "showlegend": true,
           "textposition": "auto",
           "type": "bar",
           "x": {
            "bdata": "AAAAAHCZZEE=",
            "dtype": "f8"
           },
           "xaxis": "x",
           "y": [
            "Hungary"
           ],
           "yaxis": "y"
          },
          {
           "hovertemplate": "Land=%{y}<br>year=2006<br>Produzierte Menge (in MJ)=%{x}<extra></extra>",
           "legendgroup": "Ireland",
           "marker": {
            "color": "#B6E880",
            "pattern": {
             "shape": ""
            }
           },
           "name": "Ireland",
           "orientation": "h",
           "showlegend": true,
           "textposition": "auto",
           "type": "bar",
           "x": {
            "bdata": "AAAAAGw0TkE=",
            "dtype": "f8"
           },
           "xaxis": "x",
           "y": [
            "Ireland"
           ],
           "yaxis": "y"
          },
          {
           "hovertemplate": "Land=%{y}<br>year=2006<br>Produzierte Menge (in MJ)=%{x}<extra></extra>",
           "legendgroup": "Italy",
           "marker": {
            "color": "#FF97FF",
            "pattern": {
             "shape": ""
            }
           },
           "name": "Italy",
           "orientation": "h",
           "showlegend": true,
           "textposition": "auto",
           "type": "bar",
           "x": {
            "bdata": "AAAAoD6bkkE=",
            "dtype": "f8"
           },
           "xaxis": "x",
           "y": [
            "Italy"
           ],
           "yaxis": "y"
          },
          {
           "hovertemplate": "Land=%{y}<br>year=2006<br>Produzierte Menge (in MJ)=%{x}<extra></extra>",
           "legendgroup": "Luxembourg",
           "marker": {
            "color": "#FECB52",
            "pattern": {
             "shape": ""
            }
           },
           "name": "Luxembourg",
           "orientation": "h",
           "showlegend": true,
           "textposition": "auto",
           "type": "bar",
           "x": {
            "bdata": "AAAAAFh/OUE=",
            "dtype": "f8"
           },
           "xaxis": "x",
           "y": [
            "Luxembourg"
           ],
           "yaxis": "y"
          },
          {
           "hovertemplate": "Land=%{y}<br>year=2006<br>Produzierte Menge (in MJ)=%{x}<extra></extra>",
           "legendgroup": "Netherlands",
           "marker": {
            "color": "#636efa",
            "pattern": {
             "shape": ""
            }
           },
           "name": "Netherlands",
           "orientation": "h",
           "showlegend": true,
           "textposition": "auto",
           "type": "bar",
           "x": {
            "bdata": "AAAA4Nm8kEE=",
            "dtype": "f8"
           },
           "xaxis": "x",
           "y": [
            "Netherlands"
           ],
           "yaxis": "y"
          },
          {
           "hovertemplate": "Land=%{y}<br>year=2006<br>Produzierte Menge (in MJ)=%{x}<extra></extra>",
           "legendgroup": "Norway",
           "marker": {
            "color": "#EF553B",
            "pattern": {
             "shape": ""
            }
           },
           "name": "Norway",
           "orientation": "h",
           "showlegend": true,
           "textposition": "auto",
           "type": "bar",
           "x": {
            "bdata": "AAAAABefYkE=",
            "dtype": "f8"
           },
           "xaxis": "x",
           "y": [
            "Norway"
           ],
           "yaxis": "y"
          },
          {
           "hovertemplate": "Land=%{y}<br>year=2006<br>Produzierte Menge (in MJ)=%{x}<extra></extra>",
           "legendgroup": "Poland",
           "marker": {
            "color": "#00cc96",
            "pattern": {
             "shape": ""
            }
           },
           "name": "Poland",
           "orientation": "h",
           "showlegend": true,
           "textposition": "auto",
           "type": "bar",
           "x": {
            "bdata": "AAAAwE6Zi0E=",
            "dtype": "f8"
           },
           "xaxis": "x",
           "y": [
            "Poland"
           ],
           "yaxis": "y"
          },
          {
           "hovertemplate": "Land=%{y}<br>year=2006<br>Produzierte Menge (in MJ)=%{x}<extra></extra>",
           "legendgroup": "Portugal",
           "marker": {
            "color": "#ab63fa",
            "pattern": {
             "shape": ""
            }
           },
           "name": "Portugal",
           "orientation": "h",
           "showlegend": true,
           "textposition": "auto",
           "type": "bar",
           "x": {
            "bdata": "AAAAQJSnhUE=",
            "dtype": "f8"
           },
           "xaxis": "x",
           "y": [
            "Portugal"
           ],
           "yaxis": "y"
          },
          {
           "hovertemplate": "Land=%{y}<br>year=2006<br>Produzierte Menge (in MJ)=%{x}<extra></extra>",
           "legendgroup": "Spain",
           "marker": {
            "color": "#FFA15A",
            "pattern": {
             "shape": ""
            }
           },
           "name": "Spain",
           "orientation": "h",
           "showlegend": true,
           "textposition": "auto",
           "type": "bar",
           "x": {
            "bdata": "AAAAYPnKkkE=",
            "dtype": "f8"
           },
           "xaxis": "x",
           "y": [
            "Spain"
           ],
           "yaxis": "y"
          },
          {
           "hovertemplate": "Land=%{y}<br>year=2006<br>Produzierte Menge (in MJ)=%{x}<extra></extra>",
           "legendgroup": "Sweden",
           "marker": {
            "color": "#19d3f3",
            "pattern": {
             "shape": ""
            }
           },
           "name": "Sweden",
           "orientation": "h",
           "showlegend": true,
           "textposition": "auto",
           "type": "bar",
           "x": {
            "bdata": "AAAAABljhUE=",
            "dtype": "f8"
           },
           "xaxis": "x",
           "y": [
            "Sweden"
           ],
           "yaxis": "y"
          },
          {
           "hovertemplate": "Land=%{y}<br>year=2006<br>Produzierte Menge (in MJ)=%{x}<extra></extra>",
           "legendgroup": "Switzerland",
           "marker": {
            "color": "#FF6692",
            "pattern": {
             "shape": ""
            }
           },
           "name": "Switzerland",
           "orientation": "h",
           "showlegend": true,
           "textposition": "auto",
           "type": "bar",
           "x": {
            "bdata": "AAAAQKlfhkE=",
            "dtype": "f8"
           },
           "xaxis": "x",
           "y": [
            "Switzerland"
           ],
           "yaxis": "y"
          },
          {
           "hovertemplate": "Land=%{y}<br>year=2006<br>Produzierte Menge (in MJ)=%{x}<extra></extra>",
           "legendgroup": "United Kingdom",
           "marker": {
            "color": "#B6E880",
            "pattern": {
             "shape": ""
            }
           },
           "name": "United Kingdom",
           "orientation": "h",
           "showlegend": true,
           "textposition": "auto",
           "type": "bar",
           "x": {
            "bdata": "AAAA4Pb7nUE=",
            "dtype": "f8"
           },
           "xaxis": "x",
           "y": [
            "United Kingdom"
           ],
           "yaxis": "y"
          },
          {
           "hovertemplate": "Land=%{y}<br>year=2006<br>Produzierte Menge (in MJ)=%{x}<extra></extra>",
           "legendgroup": "Germany",
           "marker": {
            "color": "#FF97FF",
            "pattern": {
             "shape": ""
            }
           },
           "name": "Germany",
           "orientation": "h",
           "showlegend": true,
           "textposition": "auto",
           "type": "bar",
           "x": {
            "bdata": "AAAAsN/OtEE=",
            "dtype": "f8"
           },
           "xaxis": "x",
           "y": [
            "Germany"
           ],
           "yaxis": "y"
          },
          {
           "hovertemplate": "Land=%{y}<br>year=2006<br>Produzierte Menge (in MJ)=%{x}<extra></extra>",
           "legendgroup": "Belarus",
           "marker": {
            "color": "#FECB52",
            "pattern": {
             "shape": ""
            }
           },
           "name": "Belarus",
           "orientation": "h",
           "showlegend": true,
           "textposition": "auto",
           "type": "bar",
           "x": {
            "bdata": "AAAAAKwkQUE=",
            "dtype": "f8"
           },
           "xaxis": "x",
           "y": [
            "Belarus"
           ],
           "yaxis": "y"
          },
          {
           "hovertemplate": "Land=%{y}<br>year=2006<br>Produzierte Menge (in MJ)=%{x}<extra></extra>",
           "legendgroup": "Croatia",
           "marker": {
            "color": "#636efa",
            "pattern": {
             "shape": ""
            }
           },
           "name": "Croatia",
           "orientation": "h",
           "showlegend": true,
           "textposition": "auto",
           "type": "bar",
           "x": {
            "bdata": "AAAAAIDM8kA=",
            "dtype": "f8"
           },
           "xaxis": "x",
           "y": [
            "Croatia"
           ],
           "yaxis": "y"
          },
          {
           "hovertemplate": "Land=%{y}<br>year=2006<br>Produzierte Menge (in MJ)=%{x}<extra></extra>",
           "legendgroup": "Czech Republic",
           "marker": {
            "color": "#EF553B",
            "pattern": {
             "shape": ""
            }
           },
           "name": "Czech Republic",
           "orientation": "h",
           "showlegend": true,
           "textposition": "auto",
           "type": "bar",
           "x": {
            "bdata": "AAAAABCRaEE=",
            "dtype": "f8"
           },
           "xaxis": "x",
           "y": [
            "Czech Republic"
           ],
           "yaxis": "y"
          },
          {
           "hovertemplate": "Land=%{y}<br>year=2006<br>Produzierte Menge (in MJ)=%{x}<extra></extra>",
           "legendgroup": "Estonia",
           "marker": {
            "color": "#00cc96",
            "pattern": {
             "shape": ""
            }
           },
           "name": "Estonia",
           "orientation": "h",
           "showlegend": true,
           "textposition": "auto",
           "type": "bar",
           "x": {
            "bdata": "AAAAABYrVEE=",
            "dtype": "f8"
           },
           "xaxis": "x",
           "y": [
            "Estonia"
           ],
           "yaxis": "y"
          },
          {
           "hovertemplate": "Land=%{y}<br>year=2006<br>Produzierte Menge (in MJ)=%{x}<extra></extra>",
           "legendgroup": "Latvia",
           "marker": {
            "color": "#ab63fa",
            "pattern": {
             "shape": ""
            }
           },
           "name": "Latvia",
           "orientation": "h",
           "showlegend": true,
           "textposition": "auto",
           "type": "bar",
           "x": {
            "bdata": "AAAAAABkKUE=",
            "dtype": "f8"
           },
           "xaxis": "x",
           "y": [
            "Latvia"
           ],
           "yaxis": "y"
          },
          {
           "hovertemplate": "Land=%{y}<br>year=2006<br>Produzierte Menge (in MJ)=%{x}<extra></extra>",
           "legendgroup": "Lithuania",
           "marker": {
            "color": "#FFA15A",
            "pattern": {
             "shape": ""
            }
           },
           "name": "Lithuania",
           "orientation": "h",
           "showlegend": true,
           "textposition": "auto",
           "type": "bar",
           "x": {
            "bdata": "AAAAALWQbkE=",
            "dtype": "f8"
           },
           "xaxis": "x",
           "y": [
            "Lithuania"
           ],
           "yaxis": "y"
          },
          {
           "hovertemplate": "Land=%{y}<br>year=2006<br>Produzierte Menge (in MJ)=%{x}<extra></extra>",
           "legendgroup": "Romania",
           "marker": {
            "color": "#19d3f3",
            "pattern": {
             "shape": ""
            }
           },
           "name": "Romania",
           "orientation": "h",
           "showlegend": true,
           "textposition": "auto",
           "type": "bar",
           "x": {
            "bdata": "AAAAAAAAAAA=",
            "dtype": "f8"
           },
           "xaxis": "x",
           "y": [
            "Romania"
           ],
           "yaxis": "y"
          },
          {
           "hovertemplate": "Land=%{y}<br>year=2006<br>Produzierte Menge (in MJ)=%{x}<extra></extra>",
           "legendgroup": "Iceland",
           "marker": {
            "color": "#FF6692",
            "pattern": {
             "shape": ""
            }
           },
           "name": "Iceland",
           "orientation": "h",
           "showlegend": true,
           "textposition": "auto",
           "type": "bar",
           "x": {
            "bdata": "AAAAAABw90A=",
            "dtype": "f8"
           },
           "xaxis": "x",
           "y": [
            "Iceland"
           ],
           "yaxis": "y"
          },
          {
           "hovertemplate": "Land=%{y}<br>year=2006<br>Produzierte Menge (in MJ)=%{x}<extra></extra>",
           "legendgroup": "Slovenia",
           "marker": {
            "color": "#B6E880",
            "pattern": {
             "shape": ""
            }
           },
           "name": "Slovenia",
           "orientation": "h",
           "showlegend": true,
           "textposition": "auto",
           "type": "bar",
           "x": {
            "bdata": "AAAAAGDLKkE=",
            "dtype": "f8"
           },
           "xaxis": "x",
           "y": [
            "Slovenia"
           ],
           "yaxis": "y"
          },
          {
           "hovertemplate": "Land=%{y}<br>year=2006<br>Produzierte Menge (in MJ)=%{x}<extra></extra>",
           "legendgroup": "Cyprus",
           "marker": {
            "color": "#FF97FF",
            "pattern": {
             "shape": ""
            }
           },
           "name": "Cyprus",
           "orientation": "h",
           "showlegend": true,
           "textposition": "auto",
           "type": "bar",
           "x": {
            "bdata": "AAAAAABG7kA=",
            "dtype": "f8"
           },
           "xaxis": "x",
           "y": [
            "Cyprus"
           ],
           "yaxis": "y"
          },
          {
           "hovertemplate": "Land=%{y}<br>year=2006<br>Produzierte Menge (in MJ)=%{x}<extra></extra>",
           "legendgroup": "Slovakia",
           "marker": {
            "color": "#FECB52",
            "pattern": {
             "shape": ""
            }
           },
           "name": "Slovakia",
           "orientation": "h",
           "showlegend": true,
           "textposition": "auto",
           "type": "bar",
           "x": {
            "bdata": "AAAAAOo9WUE=",
            "dtype": "f8"
           },
           "xaxis": "x",
           "y": [
            "Slovakia"
           ],
           "yaxis": "y"
          },
          {
           "hovertemplate": "Land=%{y}<br>year=2006<br>Produzierte Menge (in MJ)=%{x}<extra></extra>",
           "legendgroup": "Andorra",
           "marker": {
            "color": "#636efa",
            "pattern": {
             "shape": ""
            }
           },
           "name": "Andorra",
           "orientation": "h",
           "showlegend": true,
           "textposition": "auto",
           "type": "bar",
           "x": {
            "bdata": "AAAAAAAg7EA=",
            "dtype": "f8"
           },
           "xaxis": "x",
           "y": [
            "Andorra"
           ],
           "yaxis": "y"
          },
          {
           "hovertemplate": "Land=%{y}<br>year=2006<br>Produzierte Menge (in MJ)=%{x}<extra></extra>",
           "legendgroup": "Moldova",
           "marker": {
            "color": "#EF553B",
            "pattern": {
             "shape": ""
            }
           },
           "name": "Moldova",
           "orientation": "h",
           "showlegend": true,
           "textposition": "auto",
           "type": "bar",
           "x": {
            "bdata": "AAAAAKBbHUE=",
            "dtype": "f8"
           },
           "xaxis": "x",
           "y": [
            "Moldova"
           ],
           "yaxis": "y"
          }
         ],
         "name": "2006"
        },
        {
         "data": [
          {
           "hovertemplate": "Land=%{y}<br>year=2007<br>Produzierte Menge (in MJ)=%{x}<extra></extra>",
           "legendgroup": "Austria",
           "marker": {
            "color": "#636efa",
            "pattern": {
             "shape": ""
            }
           },
           "name": "Austria",
           "orientation": "h",
           "showlegend": true,
           "textposition": "auto",
           "type": "bar",
           "x": {
            "bdata": "AAAAQI3bgEE=",
            "dtype": "f8"
           },
           "xaxis": "x",
           "y": [
            "Austria"
           ],
           "yaxis": "y"
          },
          {
           "hovertemplate": "Land=%{y}<br>year=2007<br>Produzierte Menge (in MJ)=%{x}<extra></extra>",
           "legendgroup": "Belgium",
           "marker": {
            "color": "#EF553B",
            "pattern": {
             "shape": ""
            }
           },
           "name": "Belgium",
           "orientation": "h",
           "showlegend": true,
           "textposition": "auto",
           "type": "bar",
           "x": {
            "bdata": "AAAAgFUcg0E=",
            "dtype": "f8"
           },
           "xaxis": "x",
           "y": [
            "Belgium"
           ],
           "yaxis": "y"
          },
          {
           "hovertemplate": "Land=%{y}<br>year=2007<br>Produzierte Menge (in MJ)=%{x}<extra></extra>",
           "legendgroup": "Denmark",
           "marker": {
            "color": "#00cc96",
            "pattern": {
             "shape": ""
            }
           },
           "name": "Denmark",
           "orientation": "h",
           "showlegend": true,
           "textposition": "auto",
           "type": "bar",
           "x": {
            "bdata": "AAAAAPq9j0E=",
            "dtype": "f8"
           },
           "xaxis": "x",
           "y": [
            "Denmark"
           ],
           "yaxis": "y"
          },
          {
           "hovertemplate": "Land=%{y}<br>year=2007<br>Produzierte Menge (in MJ)=%{x}<extra></extra>",
           "legendgroup": "Finland",
           "marker": {
            "color": "#ab63fa",
            "pattern": {
             "shape": ""
            }
           },
           "name": "Finland",
           "orientation": "h",
           "showlegend": true,
           "textposition": "auto",
           "type": "bar",
           "x": {
            "bdata": "AAAAAPzhYkE=",
            "dtype": "f8"
           },
           "xaxis": "x",
           "y": [
            "Finland"
           ],
           "yaxis": "y"
          },
          {
           "hovertemplate": "Land=%{y}<br>year=2007<br>Produzierte Menge (in MJ)=%{x}<extra></extra>",
           "legendgroup": "France",
           "marker": {
            "color": "#FFA15A",
            "pattern": {
             "shape": ""
            }
           },
           "name": "France",
           "orientation": "h",
           "showlegend": true,
           "textposition": "auto",
           "type": "bar",
           "x": {
            "bdata": "AAAAsMjDo0E=",
            "dtype": "f8"
           },
           "xaxis": "x",
           "y": [
            "France"
           ],
           "yaxis": "y"
          },
          {
           "hovertemplate": "Land=%{y}<br>year=2007<br>Produzierte Menge (in MJ)=%{x}<extra></extra>",
           "legendgroup": "Greece",
           "marker": {
            "color": "#19d3f3",
            "pattern": {
             "shape": ""
            }
           },
           "name": "Greece",
           "orientation": "h",
           "showlegend": true,
           "textposition": "auto",
           "type": "bar",
           "x": {
            "bdata": "AAAAALunakE=",
            "dtype": "f8"
           },
           "xaxis": "x",
           "y": [
            "Greece"
           ],
           "yaxis": "y"
          },
          {
           "hovertemplate": "Land=%{y}<br>year=2007<br>Produzierte Menge (in MJ)=%{x}<extra></extra>",
           "legendgroup": "Hungary",
           "marker": {
            "color": "#FF6692",
            "pattern": {
             "shape": ""
            }
           },
           "name": "Hungary",
           "orientation": "h",
           "showlegend": true,
           "textposition": "auto",
           "type": "bar",
           "x": {
            "bdata": "AAAAAPp2ZkE=",
            "dtype": "f8"
           },
           "xaxis": "x",
           "y": [
            "Hungary"
           ],
           "yaxis": "y"
          },
          {
           "hovertemplate": "Land=%{y}<br>year=2007<br>Produzierte Menge (in MJ)=%{x}<extra></extra>",
           "legendgroup": "Ireland",
           "marker": {
            "color": "#B6E880",
            "pattern": {
             "shape": ""
            }
           },
           "name": "Ireland",
           "orientation": "h",
           "showlegend": true,
           "textposition": "auto",
           "type": "bar",
           "x": {
            "bdata": "AAAAABh+VEE=",
            "dtype": "f8"
           },
           "xaxis": "x",
           "y": [
            "Ireland"
           ],
           "yaxis": "y"
          },
          {
           "hovertemplate": "Land=%{y}<br>year=2007<br>Produzierte Menge (in MJ)=%{x}<extra></extra>",
           "legendgroup": "Italy",
           "marker": {
            "color": "#FF97FF",
            "pattern": {
             "shape": ""
            }
           },
           "name": "Italy",
           "orientation": "h",
           "showlegend": true,
           "textposition": "auto",
           "type": "bar",
           "x": {
            "bdata": "AAAAwMrek0E=",
            "dtype": "f8"
           },
           "xaxis": "x",
           "y": [
            "Italy"
           ],
           "yaxis": "y"
          },
          {
           "hovertemplate": "Land=%{y}<br>year=2007<br>Produzierte Menge (in MJ)=%{x}<extra></extra>",
           "legendgroup": "Luxembourg",
           "marker": {
            "color": "#FECB52",
            "pattern": {
             "shape": ""
            }
           },
           "name": "Luxembourg",
           "orientation": "h",
           "showlegend": true,
           "textposition": "auto",
           "type": "bar",
           "x": {
            "bdata": "AAAAAMj7PUE=",
            "dtype": "f8"
           },
           "xaxis": "x",
           "y": [
            "Luxembourg"
           ],
           "yaxis": "y"
          },
          {
           "hovertemplate": "Land=%{y}<br>year=2007<br>Produzierte Menge (in MJ)=%{x}<extra></extra>",
           "legendgroup": "Netherlands",
           "marker": {
            "color": "#636efa",
            "pattern": {
             "shape": ""
            }
           },
           "name": "Netherlands",
           "orientation": "h",
           "showlegend": true,
           "textposition": "auto",
           "type": "bar",
           "x": {
            "bdata": "AAAAoHHXkUE=",
            "dtype": "f8"
           },
           "xaxis": "x",
           "y": [
            "Netherlands"
           ],
           "yaxis": "y"
          },
          {
           "hovertemplate": "Land=%{y}<br>year=2007<br>Produzierte Menge (in MJ)=%{x}<extra></extra>",
           "legendgroup": "Norway",
           "marker": {
            "color": "#EF553B",
            "pattern": {
             "shape": ""
            }
           },
           "name": "Norway",
           "orientation": "h",
           "showlegend": true,
           "textposition": "auto",
           "type": "bar",
           "x": {
            "bdata": "AAAAAHyjYkE=",
            "dtype": "f8"
           },
           "xaxis": "x",
           "y": [
            "Norway"
           ],
           "yaxis": "y"
          },
          {
           "hovertemplate": "Land=%{y}<br>year=2007<br>Produzierte Menge (in MJ)=%{x}<extra></extra>",
           "legendgroup": "Poland",
           "marker": {
            "color": "#00cc96",
            "pattern": {
             "shape": ""
            }
           },
           "name": "Poland",
           "orientation": "h",
           "showlegend": true,
           "textposition": "auto",
           "type": "bar",
           "x": {
            "bdata": "AAAAQI0WjEE=",
            "dtype": "f8"
           },
           "xaxis": "x",
           "y": [
            "Poland"
           ],
           "yaxis": "y"
          },
          {
           "hovertemplate": "Land=%{y}<br>year=2007<br>Produzierte Menge (in MJ)=%{x}<extra></extra>",
           "legendgroup": "Portugal",
           "marker": {
            "color": "#ab63fa",
            "pattern": {
             "shape": ""
            }
           },
           "name": "Portugal",
           "orientation": "h",
           "showlegend": true,
           "textposition": "auto",
           "type": "bar",
           "x": {
            "bdata": "AAAAAAkqiEE=",
            "dtype": "f8"
           },
           "xaxis": "x",
           "y": [
            "Portugal"
           ],
           "yaxis": "y"
          },
          {
           "hovertemplate": "Land=%{y}<br>year=2007<br>Produzierte Menge (in MJ)=%{x}<extra></extra>",
           "legendgroup": "Spain",
           "marker": {
            "color": "#FFA15A",
            "pattern": {
             "shape": ""
            }
           },
           "name": "Spain",
           "orientation": "h",
           "showlegend": true,
           "textposition": "auto",
           "type": "bar",
           "x": {
            "bdata": "AAAA4JrhlkE=",
            "dtype": "f8"
           },
           "xaxis": "x",
           "y": [
            "Spain"
           ],
           "yaxis": "y"
          },
          {
           "hovertemplate": "Land=%{y}<br>year=2007<br>Produzierte Menge (in MJ)=%{x}<extra></extra>",
           "legendgroup": "Sweden",
           "marker": {
            "color": "#19d3f3",
            "pattern": {
             "shape": ""
            }
           },
           "name": "Sweden",
           "orientation": "h",
           "showlegend": true,
           "textposition": "auto",
           "type": "bar",
           "x": {
            "bdata": "AAAAQAdci0E=",
            "dtype": "f8"
           },
           "xaxis": "x",
           "y": [
            "Sweden"
           ],
           "yaxis": "y"
          },
          {
           "hovertemplate": "Land=%{y}<br>year=2007<br>Produzierte Menge (in MJ)=%{x}<extra></extra>",
           "legendgroup": "Switzerland",
           "marker": {
            "color": "#FF6692",
            "pattern": {
             "shape": ""
            }
           },
           "name": "Switzerland",
           "orientation": "h",
           "showlegend": true,
           "textposition": "auto",
           "type": "bar",
           "x": {
            "bdata": "AAAAAGHOhkE=",
            "dtype": "f8"
           },
           "xaxis": "x",
           "y": [
            "Switzerland"
           ],
           "yaxis": "y"
          },
          {
           "hovertemplate": "Land=%{y}<br>year=2007<br>Produzierte Menge (in MJ)=%{x}<extra></extra>",
           "legendgroup": "United Kingdom",
           "marker": {
            "color": "#B6E880",
            "pattern": {
             "shape": ""
            }
           },
           "name": "United Kingdom",
           "orientation": "h",
           "showlegend": true,
           "textposition": "auto",
           "type": "bar",
           "x": {
            "bdata": "AAAAgEFboEE=",
            "dtype": "f8"
           },
           "xaxis": "x",
           "y": [
            "United Kingdom"
           ],
           "yaxis": "y"
          },
          {
           "hovertemplate": "Land=%{y}<br>year=2007<br>Produzierte Menge (in MJ)=%{x}<extra></extra>",
           "legendgroup": "Germany",
           "marker": {
            "color": "#FF97FF",
            "pattern": {
             "shape": ""
            }
           },
           "name": "Germany",
           "orientation": "h",
           "showlegend": true,
           "textposition": "auto",
           "type": "bar",
           "x": {
            "bdata": "AAAA2OLZukE=",
            "dtype": "f8"
           },
           "xaxis": "x",
           "y": [
            "Germany"
           ],
           "yaxis": "y"
          },
          {
           "hovertemplate": "Land=%{y}<br>year=2007<br>Produzierte Menge (in MJ)=%{x}<extra></extra>",
           "legendgroup": "Belarus",
           "marker": {
            "color": "#FECB52",
            "pattern": {
             "shape": ""
            }
           },
           "name": "Belarus",
           "orientation": "h",
           "showlegend": true,
           "textposition": "auto",
           "type": "bar",
           "x": {
            "bdata": "AAAAAPzhQkE=",
            "dtype": "f8"
           },
           "xaxis": "x",
           "y": [
            "Belarus"
           ],
           "yaxis": "y"
          },
          {
           "hovertemplate": "Land=%{y}<br>year=2007<br>Produzierte Menge (in MJ)=%{x}<extra></extra>",
           "legendgroup": "Croatia",
           "marker": {
            "color": "#636efa",
            "pattern": {
             "shape": ""
            }
           },
           "name": "Croatia",
           "orientation": "h",
           "showlegend": true,
           "textposition": "auto",
           "type": "bar",
           "x": {
            "bdata": "AAAAAICQDEE=",
            "dtype": "f8"
           },
           "xaxis": "x",
           "y": [
            "Croatia"
           ],
           "yaxis": "y"
          },
          {
           "hovertemplate": "Land=%{y}<br>year=2007<br>Produzierte Menge (in MJ)=%{x}<extra></extra>",
           "legendgroup": "Czech Republic",
           "marker": {
            "color": "#EF553B",
            "pattern": {
             "shape": ""
            }
           },
           "name": "Czech Republic",
           "orientation": "h",
           "showlegend": true,
           "textposition": "auto",
           "type": "bar",
           "x": {
            "bdata": "AAAAANbtaEE=",
            "dtype": "f8"
           },
           "xaxis": "x",
           "y": [
            "Czech Republic"
           ],
           "yaxis": "y"
          },
          {
           "hovertemplate": "Land=%{y}<br>year=2007<br>Produzierte Menge (in MJ)=%{x}<extra></extra>",
           "legendgroup": "Estonia",
           "marker": {
            "color": "#00cc96",
            "pattern": {
             "shape": ""
            }
           },
           "name": "Estonia",
           "orientation": "h",
           "showlegend": true,
           "textposition": "auto",
           "type": "bar",
           "x": {
            "bdata": "AAAAAIygWUE=",
            "dtype": "f8"
           },
           "xaxis": "x",
           "y": [
            "Estonia"
           ],
           "yaxis": "y"
          },
          {
           "hovertemplate": "Land=%{y}<br>year=2007<br>Produzierte Menge (in MJ)=%{x}<extra></extra>",
           "legendgroup": "Latvia",
           "marker": {
            "color": "#ab63fa",
            "pattern": {
             "shape": ""
            }
           },
           "name": "Latvia",
           "orientation": "h",
           "showlegend": true,
           "textposition": "auto",
           "type": "bar",
           "x": {
            "bdata": "AAAAADCGMkE=",
            "dtype": "f8"
           },
           "xaxis": "x",
           "y": [
            "Latvia"
           ],
           "yaxis": "y"
          },
          {
           "hovertemplate": "Land=%{y}<br>year=2007<br>Produzierte Menge (in MJ)=%{x}<extra></extra>",
           "legendgroup": "Lithuania",
           "marker": {
            "color": "#FFA15A",
            "pattern": {
             "shape": ""
            }
           },
           "name": "Lithuania",
           "orientation": "h",
           "showlegend": true,
           "textposition": "auto",
           "type": "bar",
           "x": {
            "bdata": "AAAAAMh+PUE=",
            "dtype": "f8"
           },
           "xaxis": "x",
           "y": [
            "Lithuania"
           ],
           "yaxis": "y"
          },
          {
           "hovertemplate": "Land=%{y}<br>year=2007<br>Produzierte Menge (in MJ)=%{x}<extra></extra>",
           "legendgroup": "Romania",
           "marker": {
            "color": "#19d3f3",
            "pattern": {
             "shape": ""
            }
           },
           "name": "Romania",
           "orientation": "h",
           "showlegend": true,
           "textposition": "auto",
           "type": "bar",
           "x": {
            "bdata": "AAAAANDQLUE=",
            "dtype": "f8"
           },
           "xaxis": "x",
           "y": [
            "Romania"
           ],
           "yaxis": "y"
          },
          {
           "hovertemplate": "Land=%{y}<br>year=2007<br>Produzierte Menge (in MJ)=%{x}<extra></extra>",
           "legendgroup": "Iceland",
           "marker": {
            "color": "#FF6692",
            "pattern": {
             "shape": ""
            }
           },
           "name": "Iceland",
           "orientation": "h",
           "showlegend": true,
           "textposition": "auto",
           "type": "bar",
           "x": {
            "bdata": "AAAAAGANEEE=",
            "dtype": "f8"
           },
           "xaxis": "x",
           "y": [
            "Iceland"
           ],
           "yaxis": "y"
          },
          {
           "hovertemplate": "Land=%{y}<br>year=2007<br>Produzierte Menge (in MJ)=%{x}<extra></extra>",
           "legendgroup": "Slovenia",
           "marker": {
            "color": "#B6E880",
            "pattern": {
             "shape": ""
            }
           },
           "name": "Slovenia",
           "orientation": "h",
           "showlegend": true,
           "textposition": "auto",
           "type": "bar",
           "x": {
            "bdata": "AAAAAPi+MUE=",
            "dtype": "f8"
           },
           "xaxis": "x",
           "y": [
            "Slovenia"
           ],
           "yaxis": "y"
          },
          {
           "hovertemplate": "Land=%{y}<br>year=2007<br>Produzierte Menge (in MJ)=%{x}<extra></extra>",
           "legendgroup": "Cyprus",
           "marker": {
            "color": "#FF97FF",
            "pattern": {
             "shape": ""
            }
           },
           "name": "Cyprus",
           "orientation": "h",
           "showlegend": true,
           "textposition": "auto",
           "type": "bar",
           "x": {
            "bdata": "AAAAAAARAkE=",
            "dtype": "f8"
           },
           "xaxis": "x",
           "y": [
            "Cyprus"
           ],
           "yaxis": "y"
          },
          {
           "hovertemplate": "Land=%{y}<br>year=2007<br>Produzierte Menge (in MJ)=%{x}<extra></extra>",
           "legendgroup": "Slovakia",
           "marker": {
            "color": "#FECB52",
            "pattern": {
             "shape": ""
            }
           },
           "name": "Slovakia",
           "orientation": "h",
           "showlegend": true,
           "textposition": "auto",
           "type": "bar",
           "x": {
            "bdata": "AAAAABKXYEE=",
            "dtype": "f8"
           },
           "xaxis": "x",
           "y": [
            "Slovakia"
           ],
           "yaxis": "y"
          },
          {
           "hovertemplate": "Land=%{y}<br>year=2007<br>Produzierte Menge (in MJ)=%{x}<extra></extra>",
           "legendgroup": "Andorra",
           "marker": {
            "color": "#636efa",
            "pattern": {
             "shape": ""
            }
           },
           "name": "Andorra",
           "orientation": "h",
           "showlegend": true,
           "textposition": "auto",
           "type": "bar",
           "x": {
            "bdata": "AAAAAACzEEE=",
            "dtype": "f8"
           },
           "xaxis": "x",
           "y": [
            "Andorra"
           ],
           "yaxis": "y"
          },
          {
           "hovertemplate": "Land=%{y}<br>year=2007<br>Produzierte Menge (in MJ)=%{x}<extra></extra>",
           "legendgroup": "Moldova",
           "marker": {
            "color": "#EF553B",
            "pattern": {
             "shape": ""
            }
           },
           "name": "Moldova",
           "orientation": "h",
           "showlegend": true,
           "textposition": "auto",
           "type": "bar",
           "x": {
            "bdata": "AAAAAGDLGkE=",
            "dtype": "f8"
           },
           "xaxis": "x",
           "y": [
            "Moldova"
           ],
           "yaxis": "y"
          },
          {
           "hovertemplate": "Land=%{y}<br>year=2007<br>Produzierte Menge (in MJ)=%{x}<extra></extra>",
           "legendgroup": "Bulgaria",
           "marker": {
            "color": "#00cc96",
            "pattern": {
             "shape": ""
            }
           },
           "name": "Bulgaria",
           "orientation": "h",
           "showlegend": true,
           "textposition": "auto",
           "type": "bar",
           "x": {
            "bdata": "AAAAAAAAAAA=",
            "dtype": "f8"
           },
           "xaxis": "x",
           "y": [
            "Bulgaria"
           ],
           "yaxis": "y"
          },
          {
           "hovertemplate": "Land=%{y}<br>year=2007<br>Produzierte Menge (in MJ)=%{x}<extra></extra>",
           "legendgroup": "Liechtenstein",
           "marker": {
            "color": "#ab63fa",
            "pattern": {
             "shape": ""
            }
           },
           "name": "Liechtenstein",
           "orientation": "h",
           "showlegend": true,
           "textposition": "auto",
           "type": "bar",
           "x": {
            "bdata": "AAAAAAAAAAA=",
            "dtype": "f8"
           },
           "xaxis": "x",
           "y": [
            "Liechtenstein"
           ],
           "yaxis": "y"
          },
          {
           "hovertemplate": "Land=%{y}<br>year=2007<br>Produzierte Menge (in MJ)=%{x}<extra></extra>",
           "legendgroup": "Malta",
           "marker": {
            "color": "#FFA15A",
            "pattern": {
             "shape": ""
            }
           },
           "name": "Malta",
           "orientation": "h",
           "showlegend": true,
           "textposition": "auto",
           "type": "bar",
           "x": {
            "bdata": "AAAAAAAAAAA=",
            "dtype": "f8"
           },
           "xaxis": "x",
           "y": [
            "Malta"
           ],
           "yaxis": "y"
          },
          {
           "hovertemplate": "Land=%{y}<br>year=2007<br>Produzierte Menge (in MJ)=%{x}<extra></extra>",
           "legendgroup": "North Macedonia",
           "marker": {
            "color": "#19d3f3",
            "pattern": {
             "shape": ""
            }
           },
           "name": "North Macedonia",
           "orientation": "h",
           "showlegend": true,
           "textposition": "auto",
           "type": "bar",
           "x": {
            "bdata": "AAAAAAA6AUE=",
            "dtype": "f8"
           },
           "xaxis": "x",
           "y": [
            "North Macedonia"
           ],
           "yaxis": "y"
          }
         ],
         "name": "2007"
        },
        {
         "data": [
          {
           "hovertemplate": "Land=%{y}<br>year=2008<br>Produzierte Menge (in MJ)=%{x}<extra></extra>",
           "legendgroup": "Austria",
           "marker": {
            "color": "#636efa",
            "pattern": {
             "shape": ""
            }
           },
           "name": "Austria",
           "orientation": "h",
           "showlegend": true,
           "textposition": "auto",
           "type": "bar",
           "x": {
            "bdata": "AAAAwNKzg0E=",
            "dtype": "f8"
           },
           "xaxis": "x",
           "y": [
            "Austria"
           ],
           "yaxis": "y"
          },
          {
           "hovertemplate": "Land=%{y}<br>year=2008<br>Produzierte Menge (in MJ)=%{x}<extra></extra>",
           "legendgroup": "Belgium",
           "marker": {
            "color": "#EF553B",
            "pattern": {
             "shape": ""
            }
           },
           "name": "Belgium",
           "orientation": "h",
           "showlegend": true,
           "textposition": "auto",
           "type": "bar",
           "x": {
            "bdata": "AAAAQO5ujEE=",
            "dtype": "f8"
           },
           "xaxis": "x",
           "y": [
            "Belgium"
           ],
           "yaxis": "y"
          },
          {
           "hovertemplate": "Land=%{y}<br>year=2008<br>Produzierte Menge (in MJ)=%{x}<extra></extra>",
           "legendgroup": "Denmark",
           "marker": {
            "color": "#00cc96",
            "pattern": {
             "shape": ""
            }
           },
           "name": "Denmark",
           "orientation": "h",
           "showlegend": true,
           "textposition": "auto",
           "type": "bar",
           "x": {
            "bdata": "AAAAQCAIkEE=",
            "dtype": "f8"
           },
           "xaxis": "x",
           "y": [
            "Denmark"
           ],
           "yaxis": "y"
          },
          {
           "hovertemplate": "Land=%{y}<br>year=2008<br>Produzierte Menge (in MJ)=%{x}<extra></extra>",
           "legendgroup": "Finland",
           "marker": {
            "color": "#ab63fa",
            "pattern": {
             "shape": ""
            }
           },
           "name": "Finland",
           "orientation": "h",
           "showlegend": true,
           "textposition": "auto",
           "type": "bar",
           "x": {
            "bdata": "AAAAABoebUE=",
            "dtype": "f8"
           },
           "xaxis": "x",
           "y": [
            "Finland"
           ],
           "yaxis": "y"
          },
          {
           "hovertemplate": "Land=%{y}<br>year=2008<br>Produzierte Menge (in MJ)=%{x}<extra></extra>",
           "legendgroup": "France",
           "marker": {
            "color": "#FFA15A",
            "pattern": {
             "shape": ""
            }
           },
           "name": "France",
           "orientation": "h",
           "showlegend": true,
           "textposition": "auto",
           "type": "bar",
           "x": {
            "bdata": "AAAAEAAmqkE=",
            "dtype": "f8"
           },
           "xaxis": "x",
           "y": [
            "France"
           ],
           "yaxis": "y"
          },
          {
           "hovertemplate": "Land=%{y}<br>year=2008<br>Produzierte Menge (in MJ)=%{x}<extra></extra>",
           "legendgroup": "Greece",
           "marker": {
            "color": "#19d3f3",
            "pattern": {
             "shape": ""
            }
           },
           "name": "Greece",
           "orientation": "h",
           "showlegend": true,
           "textposition": "auto",
           "type": "bar",
           "x": {
            "bdata": "AAAAAJ2ma0E=",
            "dtype": "f8"
           },
           "xaxis": "x",
           "y": [
            "Greece"
           ],
           "yaxis": "y"
          },
          {
           "hovertemplate": "Land=%{y}<br>year=2008<br>Produzierte Menge (in MJ)=%{x}<extra></extra>",
           "legendgroup": "Hungary",
           "marker": {
            "color": "#FF6692",
            "pattern": {
             "shape": ""
            }
           },
           "name": "Hungary",
           "orientation": "h",
           "showlegend": true,
           "textposition": "auto",
           "type": "bar",
           "x": {
            "bdata": "AAAAAJkGekE=",
            "dtype": "f8"
           },
           "xaxis": "x",
           "y": [
            "Hungary"
           ],
           "yaxis": "y"
          },
          {
           "hovertemplate": "Land=%{y}<br>year=2008<br>Produzierte Menge (in MJ)=%{x}<extra></extra>",
           "legendgroup": "Ireland",
           "marker": {
            "color": "#B6E880",
            "pattern": {
             "shape": ""
            }
           },
           "name": "Ireland",
           "orientation": "h",
           "showlegend": true,
           "textposition": "auto",
           "type": "bar",
           "x": {
            "bdata": "AAAAALY0VUE=",
            "dtype": "f8"
           },
           "xaxis": "x",
           "y": [
            "Ireland"
           ],
           "yaxis": "y"
          },
          {
           "hovertemplate": "Land=%{y}<br>year=2008<br>Produzierte Menge (in MJ)=%{x}<extra></extra>",
           "legendgroup": "Italy",
           "marker": {
            "color": "#FF97FF",
            "pattern": {
             "shape": ""
            }
           },
           "name": "Italy",
           "orientation": "h",
           "showlegend": true,
           "textposition": "auto",
           "type": "bar",
           "x": {
            "bdata": "AAAAwDnzl0E=",
            "dtype": "f8"
           },
           "xaxis": "x",
           "y": [
            "Italy"
           ],
           "yaxis": "y"
          },
          {
           "hovertemplate": "Land=%{y}<br>year=2008<br>Produzierte Menge (in MJ)=%{x}<extra></extra>",
           "legendgroup": "Luxembourg",
           "marker": {
            "color": "#FECB52",
            "pattern": {
             "shape": ""
            }
           },
           "name": "Luxembourg",
           "orientation": "h",
           "showlegend": true,
           "textposition": "auto",
           "type": "bar",
           "x": {
            "bdata": "AAAAAJCrPkE=",
            "dtype": "f8"
           },
           "xaxis": "x",
           "y": [
            "Luxembourg"
           ],
           "yaxis": "y"
          },
          {
           "hovertemplate": "Land=%{y}<br>year=2008<br>Produzierte Menge (in MJ)=%{x}<extra></extra>",
           "legendgroup": "Netherlands",
           "marker": {
            "color": "#636efa",
            "pattern": {
             "shape": ""
            }
           },
           "name": "Netherlands",
           "orientation": "h",
           "showlegend": true,
           "textposition": "auto",
           "type": "bar",
           "x": {
            "bdata": "AAAAIFKxk0E=",
            "dtype": "f8"
           },
           "xaxis": "x",
           "y": [
            "Netherlands"
           ],
           "yaxis": "y"
          },
          {
           "hovertemplate": "Land=%{y}<br>year=2008<br>Produzierte Menge (in MJ)=%{x}<extra></extra>",
           "legendgroup": "Norway",
           "marker": {
            "color": "#EF553B",
            "pattern": {
             "shape": ""
            }
           },
           "name": "Norway",
           "orientation": "h",
           "showlegend": true,
           "textposition": "auto",
           "type": "bar",
           "x": {
            "bdata": "AAAAAGUJZEE=",
            "dtype": "f8"
           },
           "xaxis": "x",
           "y": [
            "Norway"
           ],
           "yaxis": "y"
          },
          {
           "hovertemplate": "Land=%{y}<br>year=2008<br>Produzierte Menge (in MJ)=%{x}<extra></extra>",
           "legendgroup": "Poland",
           "marker": {
            "color": "#00cc96",
            "pattern": {
             "shape": ""
            }
           },
           "name": "Poland",
           "orientation": "h",
           "showlegend": true,
           "textposition": "auto",
           "type": "bar",
           "x": {
            "bdata": "AAAAIJf2kEE=",
            "dtype": "f8"
           },
           "xaxis": "x",
           "y": [
            "Poland"
           ],
           "yaxis": "y"
          },
          {
           "hovertemplate": "Land=%{y}<br>year=2008<br>Produzierte Menge (in MJ)=%{x}<extra></extra>",
           "legendgroup": "Portugal",
           "marker": {
            "color": "#ab63fa",
            "pattern": {
             "shape": ""
            }
           },
           "name": "Portugal",
           "orientation": "h",
           "showlegend": true,
           "textposition": "auto",
           "type": "bar",
           "x": {
            "bdata": "AAAAwO3bhkE=",
            "dtype": "f8"
           },
           "xaxis": "x",
           "y": [
            "Portugal"
           ],
           "yaxis": "y"
          },
          {
           "hovertemplate": "Land=%{y}<br>year=2008<br>Produzierte Menge (in MJ)=%{x}<extra></extra>",
           "legendgroup": "Spain",
           "marker": {
            "color": "#FFA15A",
            "pattern": {
             "shape": ""
            }
           },
           "name": "Spain",
           "orientation": "h",
           "showlegend": true,
           "textposition": "auto",
           "type": "bar",
           "x": {
            "bdata": "AAAAQOAvmUE=",
            "dtype": "f8"
           },
           "xaxis": "x",
           "y": [
            "Spain"
           ],
           "yaxis": "y"
          },
          {
           "hovertemplate": "Land=%{y}<br>year=2008<br>Produzierte Menge (in MJ)=%{x}<extra></extra>",
           "legendgroup": "Sweden",
           "marker": {
            "color": "#19d3f3",
            "pattern": {
             "shape": ""
            }
           },
           "name": "Sweden",
           "orientation": "h",
           "showlegend": true,
           "textposition": "auto",
           "type": "bar",
           "x": {
            "bdata": "AAAAQARgkEE=",
            "dtype": "f8"
           },
           "xaxis": "x",
           "y": [
            "Sweden"
           ],
           "yaxis": "y"
          },
          {
           "hovertemplate": "Land=%{y}<br>year=2008<br>Produzierte Menge (in MJ)=%{x}<extra></extra>",
           "legendgroup": "Switzerland",
           "marker": {
            "color": "#FF6692",
            "pattern": {
             "shape": ""
            }
           },
           "name": "Switzerland",
           "orientation": "h",
           "showlegend": true,
           "textposition": "auto",
           "type": "bar",
           "x": {
            "bdata": "AAAAgA9phkE=",
            "dtype": "f8"
           },
           "xaxis": "x",
           "y": [
            "Switzerland"
           ],
           "yaxis": "y"
          },
          {
           "hovertemplate": "Land=%{y}<br>year=2008<br>Produzierte Menge (in MJ)=%{x}<extra></extra>",
           "legendgroup": "United Kingdom",
           "marker": {
            "color": "#B6E880",
            "pattern": {
             "shape": ""
            }
           },
           "name": "United Kingdom",
           "orientation": "h",
           "showlegend": true,
           "textposition": "auto",
           "type": "bar",
           "x": {
            "bdata": "AAAAADNToEE=",
            "dtype": "f8"
           },
           "xaxis": "x",
           "y": [
            "United Kingdom"
           ],
           "yaxis": "y"
          },
          {
           "hovertemplate": "Land=%{y}<br>year=2008<br>Produzierte Menge (in MJ)=%{x}<extra></extra>",
           "legendgroup": "Germany",
           "marker": {
            "color": "#FF97FF",
            "pattern": {
             "shape": ""
            }
           },
           "name": "Germany",
           "orientation": "h",
           "showlegend": true,
           "textposition": "auto",
           "type": "bar",
           "x": {
            "bdata": "AAAA+HHquUE=",
            "dtype": "f8"
           },
           "xaxis": "x",
           "y": [
            "Germany"
           ],
           "yaxis": "y"
          },
          {
           "hovertemplate": "Land=%{y}<br>year=2008<br>Produzierte Menge (in MJ)=%{x}<extra></extra>",
           "legendgroup": "Belarus",
           "marker": {
            "color": "#FECB52",
            "pattern": {
             "shape": ""
            }
           },
           "name": "Belarus",
           "orientation": "h",
           "showlegend": true,
           "textposition": "auto",
           "type": "bar",
           "x": {
            "bdata": "AAAAANSaSEE=",
            "dtype": "f8"
           },
           "xaxis": "x",
           "y": [
            "Belarus"
           ],
           "yaxis": "y"
          },
          {
           "hovertemplate": "Land=%{y}<br>year=2008<br>Produzierte Menge (in MJ)=%{x}<extra></extra>",
           "legendgroup": "Croatia",
           "marker": {
            "color": "#636efa",
            "pattern": {
             "shape": ""
            }
           },
           "name": "Croatia",
           "orientation": "h",
           "showlegend": true,
           "textposition": "auto",
           "type": "bar",
           "x": {
            "bdata": "AAAAAMDNF0E=",
            "dtype": "f8"
           },
           "xaxis": "x",
           "y": [
            "Croatia"
           ],
           "yaxis": "y"
          },
          {
           "hovertemplate": "Land=%{y}<br>year=2008<br>Produzierte Menge (in MJ)=%{x}<extra></extra>",
           "legendgroup": "Czech Republic",
           "marker": {
            "color": "#EF553B",
            "pattern": {
             "shape": ""
            }
           },
           "name": "Czech Republic",
           "orientation": "h",
           "showlegend": true,
           "textposition": "auto",
           "type": "bar",
           "x": {
            "bdata": "AAAAAOb8bEE=",
            "dtype": "f8"
           },
           "xaxis": "x",
           "y": [
            "Czech Republic"
           ],
           "yaxis": "y"
          },
          {
           "hovertemplate": "Land=%{y}<br>year=2008<br>Produzierte Menge (in MJ)=%{x}<extra></extra>",
           "legendgroup": "Estonia",
           "marker": {
            "color": "#00cc96",
            "pattern": {
             "shape": ""
            }
           },
           "name": "Estonia",
           "orientation": "h",
           "showlegend": true,
           "textposition": "auto",
           "type": "bar",
           "x": {
            "bdata": "AAAAAEpYUkE=",
            "dtype": "f8"
           },
           "xaxis": "x",
           "y": [
            "Estonia"
           ],
           "yaxis": "y"
          },
          {
           "hovertemplate": "Land=%{y}<br>year=2008<br>Produzierte Menge (in MJ)=%{x}<extra></extra>",
           "legendgroup": "Latvia",
           "marker": {
            "color": "#ab63fa",
            "pattern": {
             "shape": ""
            }
           },
           "name": "Latvia",
           "orientation": "h",
           "showlegend": true,
           "textposition": "auto",
           "type": "bar",
           "x": {
            "bdata": "AAAAAJh6P0E=",
            "dtype": "f8"
           },
           "xaxis": "x",
           "y": [
            "Latvia"
           ],
           "yaxis": "y"
          },
          {
           "hovertemplate": "Land=%{y}<br>year=2008<br>Produzierte Menge (in MJ)=%{x}<extra></extra>",
           "legendgroup": "Lithuania",
           "marker": {
            "color": "#FFA15A",
            "pattern": {
             "shape": ""
            }
           },
           "name": "Lithuania",
           "orientation": "h",
           "showlegend": true,
           "textposition": "auto",
           "type": "bar",
           "x": {
            "bdata": "AAAAAIyOTEE=",
            "dtype": "f8"
           },
           "xaxis": "x",
           "y": [
            "Lithuania"
           ],
           "yaxis": "y"
          },
          {
           "hovertemplate": "Land=%{y}<br>year=2008<br>Produzierte Menge (in MJ)=%{x}<extra></extra>",
           "legendgroup": "Romania",
           "marker": {
            "color": "#19d3f3",
            "pattern": {
             "shape": ""
            }
           },
           "name": "Romania",
           "orientation": "h",
           "showlegend": true,
           "textposition": "auto",
           "type": "bar",
           "x": {
            "bdata": "AAAAAOaRWUE=",
            "dtype": "f8"
           },
           "xaxis": "x",
           "y": [
            "Romania"
           ],
           "yaxis": "y"
          },
          {
           "hovertemplate": "Land=%{y}<br>year=2008<br>Produzierte Menge (in MJ)=%{x}<extra></extra>",
           "legendgroup": "Iceland",
           "marker": {
            "color": "#FF6692",
            "pattern": {
             "shape": ""
            }
           },
           "name": "Iceland",
           "orientation": "h",
           "showlegend": true,
           "textposition": "auto",
           "type": "bar",
           "x": {
            "bdata": "AAAAAEChBEE=",
            "dtype": "f8"
           },
           "xaxis": "x",
           "y": [
            "Iceland"
           ],
           "yaxis": "y"
          },
          {
           "hovertemplate": "Land=%{y}<br>year=2008<br>Produzierte Menge (in MJ)=%{x}<extra></extra>",
           "legendgroup": "Slovenia",
           "marker": {
            "color": "#B6E880",
            "pattern": {
             "shape": ""
            }
           },
           "name": "Slovenia",
           "orientation": "h",
           "showlegend": true,
           "textposition": "auto",
           "type": "bar",
           "x": {
            "bdata": "AAAAALC+M0E=",
            "dtype": "f8"
           },
           "xaxis": "x",
           "y": [
            "Slovenia"
           ],
           "yaxis": "y"
          },
          {
           "hovertemplate": "Land=%{y}<br>year=2008<br>Produzierte Menge (in MJ)=%{x}<extra></extra>",
           "legendgroup": "Cyprus",
           "marker": {
            "color": "#FF97FF",
            "pattern": {
             "shape": ""
            }
           },
           "name": "Cyprus",
           "orientation": "h",
           "showlegend": true,
           "textposition": "auto",
           "type": "bar",
           "x": {
            "bdata": "AAAAAGA8HUE=",
            "dtype": "f8"
           },
           "xaxis": "x",
           "y": [
            "Cyprus"
           ],
           "yaxis": "y"
          },
          {
           "hovertemplate": "Land=%{y}<br>year=2008<br>Produzierte Menge (in MJ)=%{x}<extra></extra>",
           "legendgroup": "Slovakia",
           "marker": {
            "color": "#FECB52",
            "pattern": {
             "shape": ""
            }
           },
           "name": "Slovakia",
           "orientation": "h",
           "showlegend": true,
           "textposition": "auto",
           "type": "bar",
           "x": {
            "bdata": "AAAAAHPLZkE=",
            "dtype": "f8"
           },
           "xaxis": "x",
           "y": [
            "Slovakia"
           ],
           "yaxis": "y"
          },
          {
           "hovertemplate": "Land=%{y}<br>year=2008<br>Produzierte Menge (in MJ)=%{x}<extra></extra>",
           "legendgroup": "Andorra",
           "marker": {
            "color": "#636efa",
            "pattern": {
             "shape": ""
            }
           },
           "name": "Andorra",
           "orientation": "h",
           "showlegend": true,
           "textposition": "auto",
           "type": "bar",
           "x": {
            "bdata": "AAAAAKCZC0E=",
            "dtype": "f8"
           },
           "xaxis": "x",
           "y": [
            "Andorra"
           ],
           "yaxis": "y"
          },
          {
           "hovertemplate": "Land=%{y}<br>year=2008<br>Produzierte Menge (in MJ)=%{x}<extra></extra>",
           "legendgroup": "Moldova",
           "marker": {
            "color": "#EF553B",
            "pattern": {
             "shape": ""
            }
           },
           "name": "Moldova",
           "orientation": "h",
           "showlegend": true,
           "textposition": "auto",
           "type": "bar",
           "x": {
            "bdata": "AAAAAAALI0E=",
            "dtype": "f8"
           },
           "xaxis": "x",
           "y": [
            "Moldova"
           ],
           "yaxis": "y"
          },
          {
           "hovertemplate": "Land=%{y}<br>year=2008<br>Produzierte Menge (in MJ)=%{x}<extra></extra>",
           "legendgroup": "Bulgaria",
           "marker": {
            "color": "#00cc96",
            "pattern": {
             "shape": ""
            }
           },
           "name": "Bulgaria",
           "orientation": "h",
           "showlegend": true,
           "textposition": "auto",
           "type": "bar",
           "x": {
            "bdata": "AAAAAIDMIkE=",
            "dtype": "f8"
           },
           "xaxis": "x",
           "y": [
            "Bulgaria"
           ],
           "yaxis": "y"
          },
          {
           "hovertemplate": "Land=%{y}<br>year=2008<br>Produzierte Menge (in MJ)=%{x}<extra></extra>",
           "legendgroup": "Liechtenstein",
           "marker": {
            "color": "#ab63fa",
            "pattern": {
             "shape": ""
            }
           },
           "name": "Liechtenstein",
           "orientation": "h",
           "showlegend": true,
           "textposition": "auto",
           "type": "bar",
           "x": {
            "bdata": "AAAAAAAAAAA=",
            "dtype": "f8"
           },
           "xaxis": "x",
           "y": [
            "Liechtenstein"
           ],
           "yaxis": "y"
          },
          {
           "hovertemplate": "Land=%{y}<br>year=2008<br>Produzierte Menge (in MJ)=%{x}<extra></extra>",
           "legendgroup": "Malta",
           "marker": {
            "color": "#FFA15A",
            "pattern": {
             "shape": ""
            }
           },
           "name": "Malta",
           "orientation": "h",
           "showlegend": true,
           "textposition": "auto",
           "type": "bar",
           "x": {
            "bdata": "AAAAAAAAAAA=",
            "dtype": "f8"
           },
           "xaxis": "x",
           "y": [
            "Malta"
           ],
           "yaxis": "y"
          },
          {
           "hovertemplate": "Land=%{y}<br>year=2008<br>Produzierte Menge (in MJ)=%{x}<extra></extra>",
           "legendgroup": "North Macedonia",
           "marker": {
            "color": "#19d3f3",
            "pattern": {
             "shape": ""
            }
           },
           "name": "North Macedonia",
           "orientation": "h",
           "showlegend": true,
           "textposition": "auto",
           "type": "bar",
           "x": {
            "bdata": "AAAAAICR6EA=",
            "dtype": "f8"
           },
           "xaxis": "x",
           "y": [
            "North Macedonia"
           ],
           "yaxis": "y"
          }
         ],
         "name": "2008"
        },
        {
         "data": [
          {
           "hovertemplate": "Land=%{y}<br>year=2009<br>Produzierte Menge (in MJ)=%{x}<extra></extra>",
           "legendgroup": "Austria",
           "marker": {
            "color": "#636efa",
            "pattern": {
             "shape": ""
            }
           },
           "name": "Austria",
           "orientation": "h",
           "showlegend": true,
           "textposition": "auto",
           "type": "bar",
           "x": {
            "bdata": "AAAAgIWLhEE=",
            "dtype": "f8"
           },
           "xaxis": "x",
           "y": [
            "Austria"
           ],
           "yaxis": "y"
          },
          {
           "hovertemplate": "Land=%{y}<br>year=2009<br>Produzierte Menge (in MJ)=%{x}<extra></extra>",
           "legendgroup": "Belgium",
           "marker": {
            "color": "#EF553B",
            "pattern": {
             "shape": ""
            }
           },
           "name": "Belgium",
           "orientation": "h",
           "showlegend": true,
           "textposition": "auto",
           "type": "bar",
           "x": {
            "bdata": "AAAAgLlqj0E=",
            "dtype": "f8"
           },
           "xaxis": "x",
           "y": [
            "Belgium"
           ],
           "yaxis": "y"
          },
          {
           "hovertemplate": "Land=%{y}<br>year=2009<br>Produzierte Menge (in MJ)=%{x}<extra></extra>",
           "legendgroup": "Denmark",
           "marker": {
            "color": "#00cc96",
            "pattern": {
             "shape": ""
            }
           },
           "name": "Denmark",
           "orientation": "h",
           "showlegend": true,
           "textposition": "auto",
           "type": "bar",
           "x": {
            "bdata": "AAAAwBKLj0E=",
            "dtype": "f8"
           },
           "xaxis": "x",
           "y": [
            "Denmark"
           ],
           "yaxis": "y"
          },
          {
           "hovertemplate": "Land=%{y}<br>year=2009<br>Produzierte Menge (in MJ)=%{x}<extra></extra>",
           "legendgroup": "Finland",
           "marker": {
            "color": "#ab63fa",
            "pattern": {
             "shape": ""
            }
           },
           "name": "Finland",
           "orientation": "h",
           "showlegend": true,
           "textposition": "auto",
           "type": "bar",
           "x": {
            "bdata": "AAAAgH0zdUE=",
            "dtype": "f8"
           },
           "xaxis": "x",
           "y": [
            "Finland"
           ],
           "yaxis": "y"
          },
          {
           "hovertemplate": "Land=%{y}<br>year=2009<br>Produzierte Menge (in MJ)=%{x}<extra></extra>",
           "legendgroup": "France",
           "marker": {
            "color": "#FFA15A",
            "pattern": {
             "shape": ""
            }
           },
           "name": "France",
           "orientation": "h",
           "showlegend": true,
           "textposition": "auto",
           "type": "bar",
           "x": {
            "bdata": "AAAAwNylrEE=",
            "dtype": "f8"
           },
           "xaxis": "x",
           "y": [
            "France"
           ],
           "yaxis": "y"
          },
          {
           "hovertemplate": "Land=%{y}<br>year=2009<br>Produzierte Menge (in MJ)=%{x}<extra></extra>",
           "legendgroup": "Greece",
           "marker": {
            "color": "#19d3f3",
            "pattern": {
             "shape": ""
            }
           },
           "name": "Greece",
           "orientation": "h",
           "showlegend": true,
           "textposition": "auto",
           "type": "bar",
           "x": {
            "bdata": "AAAAANp7bUE=",
            "dtype": "f8"
           },
           "xaxis": "x",
           "y": [
            "Greece"
           ],
           "yaxis": "y"
          },
          {
           "hovertemplate": "Land=%{y}<br>year=2009<br>Produzierte Menge (in MJ)=%{x}<extra></extra>",
           "legendgroup": "Hungary",
           "marker": {
            "color": "#FF6692",
            "pattern": {
             "shape": ""
            }
           },
           "name": "Hungary",
           "orientation": "h",
           "showlegend": true,
           "textposition": "auto",
           "type": "bar",
           "x": {
            "bdata": "AAAAgOxBekE=",
            "dtype": "f8"
           },
           "xaxis": "x",
           "y": [
            "Hungary"
           ],
           "yaxis": "y"
          },
          {
           "hovertemplate": "Land=%{y}<br>year=2009<br>Produzierte Menge (in MJ)=%{x}<extra></extra>",
           "legendgroup": "Ireland",
           "marker": {
            "color": "#B6E880",
            "pattern": {
             "shape": ""
            }
           },
           "name": "Ireland",
           "orientation": "h",
           "showlegend": true,
           "textposition": "auto",
           "type": "bar",
           "x": {
            "bdata": "AAAAAL5WXUE=",
            "dtype": "f8"
           },
           "xaxis": "x",
           "y": [
            "Ireland"
           ],
           "yaxis": "y"
          },
          {
           "hovertemplate": "Land=%{y}<br>year=2009<br>Produzierte Menge (in MJ)=%{x}<extra></extra>",
           "legendgroup": "Italy",
           "marker": {
            "color": "#FF97FF",
            "pattern": {
             "shape": ""
            }
           },
           "name": "Italy",
           "orientation": "h",
           "showlegend": true,
           "textposition": "auto",
           "type": "bar",
           "x": {
            "bdata": "AAAAIPRsmkE=",
            "dtype": "f8"
           },
           "xaxis": "x",
           "y": [
            "Italy"
           ],
           "yaxis": "y"
          },
          {
           "hovertemplate": "Land=%{y}<br>year=2009<br>Produzierte Menge (in MJ)=%{x}<extra></extra>",
           "legendgroup": "Luxembourg",
           "marker": {
            "color": "#FECB52",
            "pattern": {
             "shape": ""
            }
           },
           "name": "Luxembourg",
           "orientation": "h",
           "showlegend": true,
           "textposition": "auto",
           "type": "bar",
           "x": {
            "bdata": "AAAAAChvPUE=",
            "dtype": "f8"
           },
           "xaxis": "x",
           "y": [
            "Luxembourg"
           ],
           "yaxis": "y"
          },
          {
           "hovertemplate": "Land=%{y}<br>year=2009<br>Produzierte Menge (in MJ)=%{x}<extra></extra>",
           "legendgroup": "Netherlands",
           "marker": {
            "color": "#636efa",
            "pattern": {
             "shape": ""
            }
           },
           "name": "Netherlands",
           "orientation": "h",
           "showlegend": true,
           "textposition": "auto",
           "type": "bar",
           "x": {
            "bdata": "AAAAQJFjlkE=",
            "dtype": "f8"
           },
           "xaxis": "x",
           "y": [
            "Netherlands"
           ],
           "yaxis": "y"
          },
          {
           "hovertemplate": "Land=%{y}<br>year=2009<br>Produzierte Menge (in MJ)=%{x}<extra></extra>",
           "legendgroup": "Norway",
           "marker": {
            "color": "#EF553B",
            "pattern": {
             "shape": ""
            }
           },
           "name": "Norway",
           "orientation": "h",
           "showlegend": true,
           "textposition": "auto",
           "type": "bar",
           "x": {
            "bdata": "AAAAAONxZEE=",
            "dtype": "f8"
           },
           "xaxis": "x",
           "y": [
            "Norway"
           ],
           "yaxis": "y"
          },
          {
           "hovertemplate": "Land=%{y}<br>year=2009<br>Produzierte Menge (in MJ)=%{x}<extra></extra>",
           "legendgroup": "Poland",
           "marker": {
            "color": "#00cc96",
            "pattern": {
             "shape": ""
            }
           },
           "name": "Poland",
           "orientation": "h",
           "showlegend": true,
           "textposition": "auto",
           "type": "bar",
           "x": {
            "bdata": "AAAAIB/+kkE=",
            "dtype": "f8"
           },
           "xaxis": "x",
           "y": [
            "Poland"
           ],
           "yaxis": "y"
          },
          {
           "hovertemplate": "Land=%{y}<br>year=2009<br>Produzierte Menge (in MJ)=%{x}<extra></extra>",
           "legendgroup": "Portugal",
           "marker": {
            "color": "#ab63fa",
            "pattern": {
             "shape": ""
            }
           },
           "name": "Portugal",
           "orientation": "h",
           "showlegend": true,
           "textposition": "auto",
           "type": "bar",
           "x": {
            "bdata": "AAAAAKQZikE=",
            "dtype": "f8"
           },
           "xaxis": "x",
           "y": [
            "Portugal"
           ],
           "yaxis": "y"
          },
          {
           "hovertemplate": "Land=%{y}<br>year=2009<br>Produzierte Menge (in MJ)=%{x}<extra></extra>",
           "legendgroup": "Spain",
           "marker": {
            "color": "#FFA15A",
            "pattern": {
             "shape": ""
            }
           },
           "name": "Spain",
           "orientation": "h",
           "showlegend": true,
           "textposition": "auto",
           "type": "bar",
           "x": {
            "bdata": "AAAAIPC0nEE=",
            "dtype": "f8"
           },
           "xaxis": "x",
           "y": [
            "Spain"
           ],
           "yaxis": "y"
          },
          {
           "hovertemplate": "Land=%{y}<br>year=2009<br>Produzierte Menge (in MJ)=%{x}<extra></extra>",
           "legendgroup": "Sweden",
           "marker": {
            "color": "#19d3f3",
            "pattern": {
             "shape": ""
            }
           },
           "name": "Sweden",
           "orientation": "h",
           "showlegend": true,
           "textposition": "auto",
           "type": "bar",
           "x": {
            "bdata": "AAAAYJu8kEE=",
            "dtype": "f8"
           },
           "xaxis": "x",
           "y": [
            "Sweden"
           ],
           "yaxis": "y"
          },
          {
           "hovertemplate": "Land=%{y}<br>year=2009<br>Produzierte Menge (in MJ)=%{x}<extra></extra>",
           "legendgroup": "Switzerland",
           "marker": {
            "color": "#FF6692",
            "pattern": {
             "shape": ""
            }
           },
           "name": "Switzerland",
           "orientation": "h",
           "showlegend": true,
           "textposition": "auto",
           "type": "bar",
           "x": {
            "bdata": "AAAAwBMvhkE=",
            "dtype": "f8"
           },
           "xaxis": "x",
           "y": [
            "Switzerland"
           ],
           "yaxis": "y"
          },
          {
           "hovertemplate": "Land=%{y}<br>year=2009<br>Produzierte Menge (in MJ)=%{x}<extra></extra>",
           "legendgroup": "United Kingdom",
           "marker": {
            "color": "#B6E880",
            "pattern": {
             "shape": ""
            }
           },
           "name": "United Kingdom",
           "orientation": "h",
           "showlegend": true,
           "textposition": "auto",
           "type": "bar",
           "x": {
            "bdata": "AAAA0H2qoUE=",
            "dtype": "f8"
           },
           "xaxis": "x",
           "y": [
            "United Kingdom"
           ],
           "yaxis": "y"
          },
          {
           "hovertemplate": "Land=%{y}<br>year=2009<br>Produzierte Menge (in MJ)=%{x}<extra></extra>",
           "legendgroup": "Germany",
           "marker": {
            "color": "#FF97FF",
            "pattern": {
             "shape": ""
            }
           },
           "name": "Germany",
           "orientation": "h",
           "showlegend": true,
           "textposition": "auto",
           "type": "bar",
           "x": {
            "bdata": "AAAAYIXXukE=",
            "dtype": "f8"
           },
           "xaxis": "x",
           "y": [
            "Germany"
           ],
           "yaxis": "y"
          },
          {
           "hovertemplate": "Land=%{y}<br>year=2009<br>Produzierte Menge (in MJ)=%{x}<extra></extra>",
           "legendgroup": "Belarus",
           "marker": {
            "color": "#FECB52",
            "pattern": {
             "shape": ""
            }
           },
           "name": "Belarus",
           "orientation": "h",
           "showlegend": true,
           "textposition": "auto",
           "type": "bar",
           "x": {
            "bdata": "AAAAAMwkTkE=",
            "dtype": "f8"
           },
           "xaxis": "x",
           "y": [
            "Belarus"
           ],
           "yaxis": "y"
          },
          {
           "hovertemplate": "Land=%{y}<br>year=2009<br>Produzierte Menge (in MJ)=%{x}<extra></extra>",
           "legendgroup": "Croatia",
           "marker": {
            "color": "#636efa",
            "pattern": {
             "shape": ""
            }
           },
           "name": "Croatia",
           "orientation": "h",
           "showlegend": true,
           "textposition": "auto",
           "type": "bar",
           "x": {
            "bdata": "AAAAAIATHEE=",
            "dtype": "f8"
           },
           "xaxis": "x",
           "y": [
            "Croatia"
           ],
           "yaxis": "y"
          },
          {
           "hovertemplate": "Land=%{y}<br>year=2009<br>Produzierte Menge (in MJ)=%{x}<extra></extra>",
           "legendgroup": "Czech Republic",
           "marker": {
            "color": "#EF553B",
            "pattern": {
             "shape": ""
            }
           },
           "name": "Czech Republic",
           "orientation": "h",
           "showlegend": true,
           "textposition": "auto",
           "type": "bar",
           "x": {
            "bdata": "AAAAgD75dUE=",
            "dtype": "f8"
           },
           "xaxis": "x",
           "y": [
            "Czech Republic"
           ],
           "yaxis": "y"
          },
          {
           "hovertemplate": "Land=%{y}<br>year=2009<br>Produzierte Menge (in MJ)=%{x}<extra></extra>",
           "legendgroup": "Estonia",
           "marker": {
            "color": "#00cc96",
            "pattern": {
             "shape": ""
            }
           },
           "name": "Estonia",
           "orientation": "h",
           "showlegend": true,
           "textposition": "auto",
           "type": "bar",
           "x": {
            "bdata": "AAAAAD4wWUE=",
            "dtype": "f8"
           },
           "xaxis": "x",
           "y": [
            "Estonia"
           ],
           "yaxis": "y"
          },
          {
           "hovertemplate": "Land=%{y}<br>year=2009<br>Produzierte Menge (in MJ)=%{x}<extra></extra>",
           "legendgroup": "Latvia",
           "marker": {
            "color": "#ab63fa",
            "pattern": {
             "shape": ""
            }
           },
           "name": "Latvia",
           "orientation": "h",
           "showlegend": true,
           "textposition": "auto",
           "type": "bar",
           "x": {
            "bdata": "AAAAAHS2RkE=",
            "dtype": "f8"
           },
           "xaxis": "x",
           "y": [
            "Latvia"
           ],
           "yaxis": "y"
          },
          {
           "hovertemplate": "Land=%{y}<br>year=2009<br>Produzierte Menge (in MJ)=%{x}<extra></extra>",
           "legendgroup": "Lithuania",
           "marker": {
            "color": "#FFA15A",
            "pattern": {
             "shape": ""
            }
           },
           "name": "Lithuania",
           "orientation": "h",
           "showlegend": true,
           "textposition": "auto",
           "type": "bar",
           "x": {
            "bdata": "AAAAACIdVkE=",
            "dtype": "f8"
           },
           "xaxis": "x",
           "y": [
            "Lithuania"
           ],
           "yaxis": "y"
          },
          {
           "hovertemplate": "Land=%{y}<br>year=2009<br>Produzierte Menge (in MJ)=%{x}<extra></extra>",
           "legendgroup": "Romania",
           "marker": {
            "color": "#19d3f3",
            "pattern": {
             "shape": ""
            }
           },
           "name": "Romania",
           "orientation": "h",
           "showlegend": true,
           "textposition": "auto",
           "type": "bar",
           "x": {
            "bdata": "AAAAAJTmS0E=",
            "dtype": "f8"
           },
           "xaxis": "x",
           "y": [
            "Romania"
           ],
           "yaxis": "y"
          },
          {
           "hovertemplate": "Land=%{y}<br>year=2009<br>Produzierte Menge (in MJ)=%{x}<extra></extra>",
           "legendgroup": "Iceland",
           "marker": {
            "color": "#FF6692",
            "pattern": {
             "shape": ""
            }
           },
           "name": "Iceland",
           "orientation": "h",
           "showlegend": true,
           "textposition": "auto",
           "type": "bar",
           "x": {
            "bdata": "AAAAAADP7EA=",
            "dtype": "f8"
           },
           "xaxis": "x",
           "y": [
            "Iceland"
           ],
           "yaxis": "y"
          },
          {
           "hovertemplate": "Land=%{y}<br>year=2009<br>Produzierte Menge (in MJ)=%{x}<extra></extra>",
           "legendgroup": "Slovenia",
           "marker": {
            "color": "#B6E880",
            "pattern": {
             "shape": ""
            }
           },
           "name": "Slovenia",
           "orientation": "h",
           "showlegend": true,
           "textposition": "auto",
           "type": "bar",
           "x": {
            "bdata": "AAAAACC+N0E=",
            "dtype": "f8"
           },
           "xaxis": "x",
           "y": [
            "Slovenia"
           ],
           "yaxis": "y"
          },
          {
           "hovertemplate": "Land=%{y}<br>year=2009<br>Produzierte Menge (in MJ)=%{x}<extra></extra>",
           "legendgroup": "Cyprus",
           "marker": {
            "color": "#FF97FF",
            "pattern": {
             "shape": ""
            }
           },
           "name": "Cyprus",
           "orientation": "h",
           "showlegend": true,
           "textposition": "auto",
           "type": "bar",
           "x": {
            "bdata": "AAAAAPDjIkE=",
            "dtype": "f8"
           },
           "xaxis": "x",
           "y": [
            "Cyprus"
           ],
           "yaxis": "y"
          },
          {
           "hovertemplate": "Land=%{y}<br>year=2009<br>Produzierte Menge (in MJ)=%{x}<extra></extra>",
           "legendgroup": "Slovakia",
           "marker": {
            "color": "#FECB52",
            "pattern": {
             "shape": ""
            }
           },
           "name": "Slovakia",
           "orientation": "h",
           "showlegend": true,
           "textposition": "auto",
           "type": "bar",
           "x": {
            "bdata": "AAAAAINdakE=",
            "dtype": "f8"
           },
           "xaxis": "x",
           "y": [
            "Slovakia"
           ],
           "yaxis": "y"
          },
          {
           "hovertemplate": "Land=%{y}<br>year=2009<br>Produzierte Menge (in MJ)=%{x}<extra></extra>",
           "legendgroup": "Andorra",
           "marker": {
            "color": "#636efa",
            "pattern": {
             "shape": ""
            }
           },
           "name": "Andorra",
           "orientation": "h",
           "showlegend": true,
           "textposition": "auto",
           "type": "bar",
           "x": {
            "bdata": "AAAAAGBIC0E=",
            "dtype": "f8"
           },
           "xaxis": "x",
           "y": [
            "Andorra"
           ],
           "yaxis": "y"
          },
          {
           "hovertemplate": "Land=%{y}<br>year=2009<br>Produzierte Menge (in MJ)=%{x}<extra></extra>",
           "legendgroup": "Moldova",
           "marker": {
            "color": "#EF553B",
            "pattern": {
             "shape": ""
            }
           },
           "name": "Moldova",
           "orientation": "h",
           "showlegend": true,
           "textposition": "auto",
           "type": "bar",
           "x": {
            "bdata": "AAAAADDrJkE=",
            "dtype": "f8"
           },
           "xaxis": "x",
           "y": [
            "Moldova"
           ],
           "yaxis": "y"
          },
          {
           "hovertemplate": "Land=%{y}<br>year=2009<br>Produzierte Menge (in MJ)=%{x}<extra></extra>",
           "legendgroup": "Bulgaria",
           "marker": {
            "color": "#00cc96",
            "pattern": {
             "shape": ""
            }
           },
           "name": "Bulgaria",
           "orientation": "h",
           "showlegend": true,
           "textposition": "auto",
           "type": "bar",
           "x": {
            "bdata": "AAAAABAgNkE=",
            "dtype": "f8"
           },
           "xaxis": "x",
           "y": [
            "Bulgaria"
           ],
           "yaxis": "y"
          },
          {
           "hovertemplate": "Land=%{y}<br>year=2009<br>Produzierte Menge (in MJ)=%{x}<extra></extra>",
           "legendgroup": "Liechtenstein",
           "marker": {
            "color": "#ab63fa",
            "pattern": {
             "shape": ""
            }
           },
           "name": "Liechtenstein",
           "orientation": "h",
           "showlegend": true,
           "textposition": "auto",
           "type": "bar",
           "x": {
            "bdata": "AAAAAIAXA0E=",
            "dtype": "f8"
           },
           "xaxis": "x",
           "y": [
            "Liechtenstein"
           ],
           "yaxis": "y"
          },
          {
           "hovertemplate": "Land=%{y}<br>year=2009<br>Produzierte Menge (in MJ)=%{x}<extra></extra>",
           "legendgroup": "Malta",
           "marker": {
            "color": "#FFA15A",
            "pattern": {
             "shape": ""
            }
           },
           "name": "Malta",
           "orientation": "h",
           "showlegend": true,
           "textposition": "auto",
           "type": "bar",
           "x": {
            "bdata": "AAAAAAAAAAA=",
            "dtype": "f8"
           },
           "xaxis": "x",
           "y": [
            "Malta"
           ],
           "yaxis": "y"
          },
          {
           "hovertemplate": "Land=%{y}<br>year=2009<br>Produzierte Menge (in MJ)=%{x}<extra></extra>",
           "legendgroup": "North Macedonia",
           "marker": {
            "color": "#19d3f3",
            "pattern": {
             "shape": ""
            }
           },
           "name": "North Macedonia",
           "orientation": "h",
           "showlegend": true,
           "textposition": "auto",
           "type": "bar",
           "x": {
            "bdata": "/////3+V10A=",
            "dtype": "f8"
           },
           "xaxis": "x",
           "y": [
            "North Macedonia"
           ],
           "yaxis": "y"
          }
         ],
         "name": "2009"
        },
        {
         "data": [
          {
           "hovertemplate": "Land=%{y}<br>year=2010<br>Produzierte Menge (in MJ)=%{x}<extra></extra>",
           "legendgroup": "Austria",
           "marker": {
            "color": "#636efa",
            "pattern": {
             "shape": ""
            }
           },
           "name": "Austria",
           "orientation": "h",
           "showlegend": true,
           "textposition": "auto",
           "type": "bar",
           "x": {
            "bdata": "AAAAgHVehUE=",
            "dtype": "f8"
           },
           "xaxis": "x",
           "y": [
            "Austria"
           ],
           "yaxis": "y"
          },
          {
           "hovertemplate": "Land=%{y}<br>year=2010<br>Produzierte Menge (in MJ)=%{x}<extra></extra>",
           "legendgroup": "Belgium",
           "marker": {
            "color": "#EF553B",
            "pattern": {
             "shape": ""
            }
           },
           "name": "Belgium",
           "orientation": "h",
           "showlegend": true,
           "textposition": "auto",
           "type": "bar",
           "x": {
            "bdata": "AAAAAMOskkE=",
            "dtype": "f8"
           },
           "xaxis": "x",
           "y": [
            "Belgium"
           ],
           "yaxis": "y"
          },
          {
           "hovertemplate": "Land=%{y}<br>year=2010<br>Produzierte Menge (in MJ)=%{x}<extra></extra>",
           "legendgroup": "Denmark",
           "marker": {
            "color": "#00cc96",
            "pattern": {
             "shape": ""
            }
           },
           "name": "Denmark",
           "orientation": "h",
           "showlegend": true,
           "textposition": "auto",
           "type": "bar",
           "x": {
            "bdata": "AAAAAP3YkEE=",
            "dtype": "f8"
           },
           "xaxis": "x",
           "y": [
            "Denmark"
           ],
           "yaxis": "y"
          },
          {
           "hovertemplate": "Land=%{y}<br>year=2010<br>Produzierte Menge (in MJ)=%{x}<extra></extra>",
           "legendgroup": "Finland",
           "marker": {
            "color": "#ab63fa",
            "pattern": {
             "shape": ""
            }
           },
           "name": "Finland",
           "orientation": "h",
           "showlegend": true,
           "textposition": "auto",
           "type": "bar",
           "x": {
            "bdata": "AAAAAP4WeEE=",
            "dtype": "f8"
           },
           "xaxis": "x",
           "y": [
            "Finland"
           ],
           "yaxis": "y"
          },
          {
           "hovertemplate": "Land=%{y}<br>year=2010<br>Produzierte Menge (in MJ)=%{x}<extra></extra>",
           "legendgroup": "France",
           "marker": {
            "color": "#FFA15A",
            "pattern": {
             "shape": ""
            }
           },
           "name": "France",
           "orientation": "h",
           "showlegend": true,
           "textposition": "auto",
           "type": "bar",
           "x": {
            "bdata": "AAAAgE55rEE=",
            "dtype": "f8"
           },
           "xaxis": "x",
           "y": [
            "France"
           ],
           "yaxis": "y"
          },
          {
           "hovertemplate": "Land=%{y}<br>year=2010<br>Produzierte Menge (in MJ)=%{x}<extra></extra>",
           "legendgroup": "Greece",
           "marker": {
            "color": "#19d3f3",
            "pattern": {
             "shape": ""
            }
           },
           "name": "Greece",
           "orientation": "h",
           "showlegend": true,
           "textposition": "auto",
           "type": "bar",
           "x": {
            "bdata": "AAAAABBEcEE=",
            "dtype": "f8"
           },
           "xaxis": "x",
           "y": [
            "Greece"
           ],
           "yaxis": "y"
          },
          {
           "hovertemplate": "Land=%{y}<br>year=2010<br>Produzierte Menge (in MJ)=%{x}<extra></extra>",
           "legendgroup": "Hungary",
           "marker": {
            "color": "#FF6692",
            "pattern": {
             "shape": ""
            }
           },
           "name": "Hungary",
           "orientation": "h",
           "showlegend": true,
           "textposition": "auto",
           "type": "bar",
           "x": {
            "bdata": "AAAAAOsoeUE=",
            "dtype": "f8"
           },
           "xaxis": "x",
           "y": [
            "Hungary"
           ],
           "yaxis": "y"
          },
          {
           "hovertemplate": "Land=%{y}<br>year=2010<br>Produzierte Menge (in MJ)=%{x}<extra></extra>",
           "legendgroup": "Ireland",
           "marker": {
            "color": "#B6E880",
            "pattern": {
             "shape": ""
            }
           },
           "name": "Ireland",
           "orientation": "h",
           "showlegend": true,
           "textposition": "auto",
           "type": "bar",
           "x": {
            "bdata": "AAAAALSrXUE=",
            "dtype": "f8"
           },
           "xaxis": "x",
           "y": [
            "Ireland"
           ],
           "yaxis": "y"
          },
          {
           "hovertemplate": "Land=%{y}<br>year=2010<br>Produzierte Menge (in MJ)=%{x}<extra></extra>",
           "legendgroup": "Italy",
           "marker": {
            "color": "#FF97FF",
            "pattern": {
             "shape": ""
            }
           },
           "name": "Italy",
           "orientation": "h",
           "showlegend": true,
           "textposition": "auto",
           "type": "bar",
           "x": {
            "bdata": "AAAAAEVzn0E=",
            "dtype": "f8"
           },
           "xaxis": "x",
           "y": [
            "Italy"
           ],
           "yaxis": "y"
          },
          {
           "hovertemplate": "Land=%{y}<br>year=2010<br>Produzierte Menge (in MJ)=%{x}<extra></extra>",
           "legendgroup": "Luxembourg",
           "marker": {
            "color": "#FECB52",
            "pattern": {
             "shape": ""
            }
           },
           "name": "Luxembourg",
           "orientation": "h",
           "showlegend": true,
           "textposition": "auto",
           "type": "bar",
           "x": {
            "bdata": "AAAAAAghPUE=",
            "dtype": "f8"
           },
           "xaxis": "x",
           "y": [
            "Luxembourg"
           ],
           "yaxis": "y"
          },
          {
           "hovertemplate": "Land=%{y}<br>year=2010<br>Produzierte Menge (in MJ)=%{x}<extra></extra>",
           "legendgroup": "Netherlands",
           "marker": {
            "color": "#636efa",
            "pattern": {
             "shape": ""
            }
           },
           "name": "Netherlands",
           "orientation": "h",
           "showlegend": true,
           "textposition": "auto",
           "type": "bar",
           "x": {
            "bdata": "AAAA4EqPmEE=",
            "dtype": "f8"
           },
           "xaxis": "x",
           "y": [
            "Netherlands"
           ],
           "yaxis": "y"
          },
          {
           "hovertemplate": "Land=%{y}<br>year=2010<br>Produzierte Menge (in MJ)=%{x}<extra></extra>",
           "legendgroup": "Norway",
           "marker": {
            "color": "#EF553B",
            "pattern": {
             "shape": ""
            }
           },
           "name": "Norway",
           "orientation": "h",
           "showlegend": true,
           "textposition": "auto",
           "type": "bar",
           "x": {
            "bdata": "AAAAAH3naEE=",
            "dtype": "f8"
           },
           "xaxis": "x",
           "y": [
            "Norway"
           ],
           "yaxis": "y"
          },
          {
           "hovertemplate": "Land=%{y}<br>year=2010<br>Produzierte Menge (in MJ)=%{x}<extra></extra>",
           "legendgroup": "Poland",
           "marker": {
            "color": "#00cc96",
            "pattern": {
             "shape": ""
            }
           },
           "name": "Poland",
           "orientation": "h",
           "showlegend": true,
           "textposition": "auto",
           "type": "bar",
           "x": {
            "bdata": "AAAAQEVAl0E=",
            "dtype": "f8"
           },
           "xaxis": "x",
           "y": [
            "Poland"
           ],
           "yaxis": "y"
          },
          {
           "hovertemplate": "Land=%{y}<br>year=2010<br>Produzierte Menge (in MJ)=%{x}<extra></extra>",
           "legendgroup": "Portugal",
           "marker": {
            "color": "#ab63fa",
            "pattern": {
             "shape": ""
            }
           },
           "name": "Portugal",
           "orientation": "h",
           "showlegend": true,
           "textposition": "auto",
           "type": "bar",
           "x": {
            "bdata": "AAAAwAlUjkE=",
            "dtype": "f8"
           },
           "xaxis": "x",
           "y": [
            "Portugal"
           ],
           "yaxis": "y"
          },
          {
           "hovertemplate": "Land=%{y}<br>year=2010<br>Produzierte Menge (in MJ)=%{x}<extra></extra>",
           "legendgroup": "Spain",
           "marker": {
            "color": "#FFA15A",
            "pattern": {
             "shape": ""
            }
           },
           "name": "Spain",
           "orientation": "h",
           "showlegend": true,
           "textposition": "auto",
           "type": "bar",
           "x": {
            "bdata": "AAAAYLs/nUE=",
            "dtype": "f8"
           },
           "xaxis": "x",
           "y": [
            "Spain"
           ],
           "yaxis": "y"
          },
          {
           "hovertemplate": "Land=%{y}<br>year=2010<br>Produzierte Menge (in MJ)=%{x}<extra></extra>",
           "legendgroup": "Sweden",
           "marker": {
            "color": "#19d3f3",
            "pattern": {
             "shape": ""
            }
           },
           "name": "Sweden",
           "orientation": "h",
           "showlegend": true,
           "textposition": "auto",
           "type": "bar",
           "x": {
            "bdata": "AAAAQE6bkkE=",
            "dtype": "f8"
           },
           "xaxis": "x",
           "y": [
            "Sweden"
           ],
           "yaxis": "y"
          },
          {
           "hovertemplate": "Land=%{y}<br>year=2010<br>Produzierte Menge (in MJ)=%{x}<extra></extra>",
           "legendgroup": "Switzerland",
           "marker": {
            "color": "#FF6692",
            "pattern": {
             "shape": ""
            }
           },
           "name": "Switzerland",
           "orientation": "h",
           "showlegend": true,
           "textposition": "auto",
           "type": "bar",
           "x": {
            "bdata": "AAAAwBzphkE=",
            "dtype": "f8"
           },
           "xaxis": "x",
           "y": [
            "Switzerland"
           ],
           "yaxis": "y"
          },
          {
           "hovertemplate": "Land=%{y}<br>year=2010<br>Produzierte Menge (in MJ)=%{x}<extra></extra>",
           "legendgroup": "United Kingdom",
           "marker": {
            "color": "#B6E880",
            "pattern": {
             "shape": ""
            }
           },
           "name": "United Kingdom",
           "orientation": "h",
           "showlegend": true,
           "textposition": "auto",
           "type": "bar",
           "x": {
            "bdata": "AAAAoMGUo0E=",
            "dtype": "f8"
           },
           "xaxis": "x",
           "y": [
            "United Kingdom"
           ],
           "yaxis": "y"
          },
          {
           "hovertemplate": "Land=%{y}<br>year=2010<br>Produzierte Menge (in MJ)=%{x}<extra></extra>",
           "legendgroup": "Germany",
           "marker": {
            "color": "#FF97FF",
            "pattern": {
             "shape": ""
            }
           },
           "name": "Germany",
           "orientation": "h",
           "showlegend": true,
           "textposition": "auto",
           "type": "bar",
           "x": {
            "bdata": "AAAAINp8v0E=",
            "dtype": "f8"
           },
           "xaxis": "x",
           "y": [
            "Germany"
           ],
           "yaxis": "y"
          },
          {
           "hovertemplate": "Land=%{y}<br>year=2010<br>Produzierte Menge (in MJ)=%{x}<extra></extra>",
           "legendgroup": "Belarus",
           "marker": {
            "color": "#FECB52",
            "pattern": {
             "shape": ""
            }
           },
           "name": "Belarus",
           "orientation": "h",
           "showlegend": true,
           "textposition": "auto",
           "type": "bar",
           "x": {
            "bdata": "AAAAANjJV0E=",
            "dtype": "f8"
           },
           "xaxis": "x",
           "y": [
            "Belarus"
           ],
           "yaxis": "y"
          },
          {
           "hovertemplate": "Land=%{y}<br>year=2010<br>Produzierte Menge (in MJ)=%{x}<extra></extra>",
           "legendgroup": "Croatia",
           "marker": {
            "color": "#636efa",
            "pattern": {
             "shape": ""
            }
           },
           "name": "Croatia",
           "orientation": "h",
           "showlegend": true,
           "textposition": "auto",
           "type": "bar",
           "x": {
            "bdata": "AAAAALARK0E=",
            "dtype": "f8"
           },
           "xaxis": "x",
           "y": [
            "Croatia"
           ],
           "yaxis": "y"
          },
          {
           "hovertemplate": "Land=%{y}<br>year=2010<br>Produzierte Menge (in MJ)=%{x}<extra></extra>",
           "legendgroup": "Czech Republic",
           "marker": {
            "color": "#EF553B",
            "pattern": {
             "shape": ""
            }
           },
           "name": "Czech Republic",
           "orientation": "h",
           "showlegend": true,
           "textposition": "auto",
           "type": "bar",
           "x": {
            "bdata": "AAAAAGRxe0E=",
            "dtype": "f8"
           },
           "xaxis": "x",
           "y": [
            "Czech Republic"
           ],
           "yaxis": "y"
          },
          {
           "hovertemplate": "Land=%{y}<br>year=2010<br>Produzierte Menge (in MJ)=%{x}<extra></extra>",
           "legendgroup": "Estonia",
           "marker": {
            "color": "#00cc96",
            "pattern": {
             "shape": ""
            }
           },
           "name": "Estonia",
           "orientation": "h",
           "showlegend": true,
           "textposition": "auto",
           "type": "bar",
           "x": {
            "bdata": "AAAAAN4tXEE=",
            "dtype": "f8"
           },
           "xaxis": "x",
           "y": [
            "Estonia"
           ],
           "yaxis": "y"
          },
          {
           "hovertemplate": "Land=%{y}<br>year=2010<br>Produzierte Menge (in MJ)=%{x}<extra></extra>",
           "legendgroup": "Latvia",
           "marker": {
            "color": "#ab63fa",
            "pattern": {
             "shape": ""
            }
           },
           "name": "Latvia",
           "orientation": "h",
           "showlegend": true,
           "textposition": "auto",
           "type": "bar",
           "x": {
            "bdata": "AAAAADDZSUE=",
            "dtype": "f8"
           },
           "xaxis": "x",
           "y": [
            "Latvia"
           ],
           "yaxis": "y"
          },
          {
           "hovertemplate": "Land=%{y}<br>year=2010<br>Produzierte Menge (in MJ)=%{x}<extra></extra>",
           "legendgroup": "Lithuania",
           "marker": {
            "color": "#FFA15A",
            "pattern": {
             "shape": ""
            }
           },
           "name": "Lithuania",
           "orientation": "h",
           "showlegend": true,
           "textposition": "auto",
           "type": "bar",
           "x": {
            "bdata": "AAAAANB9VkE=",
            "dtype": "f8"
           },
           "xaxis": "x",
           "y": [
            "Lithuania"
           ],
           "yaxis": "y"
          },
          {
           "hovertemplate": "Land=%{y}<br>year=2010<br>Produzierte Menge (in MJ)=%{x}<extra></extra>",
           "legendgroup": "Romania",
           "marker": {
            "color": "#19d3f3",
            "pattern": {
             "shape": ""
            }
           },
           "name": "Romania",
           "orientation": "h",
           "showlegend": true,
           "textposition": "auto",
           "type": "bar",
           "x": {
            "bdata": "AAAAAAx0RkE=",
            "dtype": "f8"
           },
           "xaxis": "x",
           "y": [
            "Romania"
           ],
           "yaxis": "y"
          },
          {
           "hovertemplate": "Land=%{y}<br>year=2010<br>Produzierte Menge (in MJ)=%{x}<extra></extra>",
           "legendgroup": "Iceland",
           "marker": {
            "color": "#FF6692",
            "pattern": {
             "shape": ""
            }
           },
           "name": "Iceland",
           "orientation": "h",
           "showlegend": true,
           "textposition": "auto",
           "type": "bar",
           "x": {
            "bdata": "AAAAAABS7EA=",
            "dtype": "f8"
           },
           "xaxis": "x",
           "y": [
            "Iceland"
           ],
           "yaxis": "y"
          },
          {
           "hovertemplate": "Land=%{y}<br>year=2010<br>Produzierte Menge (in MJ)=%{x}<extra></extra>",
           "legendgroup": "Slovenia",
           "marker": {
            "color": "#B6E880",
            "pattern": {
             "shape": ""
            }
           },
           "name": "Slovenia",
           "orientation": "h",
           "showlegend": true,
           "textposition": "auto",
           "type": "bar",
           "x": {
            "bdata": "AAAAAMBuQkE=",
            "dtype": "f8"
           },
           "xaxis": "x",
           "y": [
            "Slovenia"
           ],
           "yaxis": "y"
          },
          {
           "hovertemplate": "Land=%{y}<br>year=2010<br>Produzierte Menge (in MJ)=%{x}<extra></extra>",
           "legendgroup": "Cyprus",
           "marker": {
            "color": "#FF97FF",
            "pattern": {
             "shape": ""
            }
           },
           "name": "Cyprus",
           "orientation": "h",
           "showlegend": true,
           "textposition": "auto",
           "type": "bar",
           "x": {
            "bdata": "AAAAAACOIkE=",
            "dtype": "f8"
           },
           "xaxis": "x",
           "y": [
            "Cyprus"
           ],
           "yaxis": "y"
          },
          {
           "hovertemplate": "Land=%{y}<br>year=2010<br>Produzierte Menge (in MJ)=%{x}<extra></extra>",
           "legendgroup": "Slovakia",
           "marker": {
            "color": "#FECB52",
            "pattern": {
             "shape": ""
            }
           },
           "name": "Slovakia",
           "orientation": "h",
           "showlegend": true,
           "textposition": "auto",
           "type": "bar",
           "x": {
            "bdata": "AAAAAJwybUE=",
            "dtype": "f8"
           },
           "xaxis": "x",
           "y": [
            "Slovakia"
           ],
           "yaxis": "y"
          },
          {
           "hovertemplate": "Land=%{y}<br>year=2010<br>Produzierte Menge (in MJ)=%{x}<extra></extra>",
           "legendgroup": "Andorra",
           "marker": {
            "color": "#636efa",
            "pattern": {
             "shape": ""
            }
           },
           "name": "Andorra",
           "orientation": "h",
           "showlegend": true,
           "textposition": "auto",
           "type": "bar",
           "x": {
            "bdata": "AAAAAOCMCkE=",
            "dtype": "f8"
           },
           "xaxis": "x",
           "y": [
            "Andorra"
           ],
           "yaxis": "y"
          },
          {
           "hovertemplate": "Land=%{y}<br>year=2010<br>Produzierte Menge (in MJ)=%{x}<extra></extra>",
           "legendgroup": "Moldova",
           "marker": {
            "color": "#EF553B",
            "pattern": {
             "shape": ""
            }
           },
           "name": "Moldova",
           "orientation": "h",
           "showlegend": true,
           "textposition": "auto",
           "type": "bar",
           "x": {
            "bdata": "AAAAAHAKJ0E=",
            "dtype": "f8"
           },
           "xaxis": "x",
           "y": [
            "Moldova"
           ],
           "yaxis": "y"
          },
          {
           "hovertemplate": "Land=%{y}<br>year=2010<br>Produzierte Menge (in MJ)=%{x}<extra></extra>",
           "legendgroup": "Bulgaria",
           "marker": {
            "color": "#00cc96",
            "pattern": {
             "shape": ""
            }
           },
           "name": "Bulgaria",
           "orientation": "h",
           "showlegend": true,
           "textposition": "auto",
           "type": "bar",
           "x": {
            "bdata": "AAAAAADhOUE=",
            "dtype": "f8"
           },
           "xaxis": "x",
           "y": [
            "Bulgaria"
           ],
           "yaxis": "y"
          },
          {
           "hovertemplate": "Land=%{y}<br>year=2010<br>Produzierte Menge (in MJ)=%{x}<extra></extra>",
           "legendgroup": "Liechtenstein",
           "marker": {
            "color": "#ab63fa",
            "pattern": {
             "shape": ""
            }
           },
           "name": "Liechtenstein",
           "orientation": "h",
           "showlegend": true,
           "textposition": "auto",
           "type": "bar",
           "x": {
            "bdata": "AAAAAEALFEE=",
            "dtype": "f8"
           },
           "xaxis": "x",
           "y": [
            "Liechtenstein"
           ],
           "yaxis": "y"
          },
          {
           "hovertemplate": "Land=%{y}<br>year=2010<br>Produzierte Menge (in MJ)=%{x}<extra></extra>",
           "legendgroup": "Malta",
           "marker": {
            "color": "#FFA15A",
            "pattern": {
             "shape": ""
            }
           },
           "name": "Malta",
           "orientation": "h",
           "showlegend": true,
           "textposition": "auto",
           "type": "bar",
           "x": {
            "bdata": "AAAAAABw50A=",
            "dtype": "f8"
           },
           "xaxis": "x",
           "y": [
            "Malta"
           ],
           "yaxis": "y"
          },
          {
           "hovertemplate": "Land=%{y}<br>year=2010<br>Produzierte Menge (in MJ)=%{x}<extra></extra>",
           "legendgroup": "North Macedonia",
           "marker": {
            "color": "#19d3f3",
            "pattern": {
             "shape": ""
            }
           },
           "name": "North Macedonia",
           "orientation": "h",
           "showlegend": true,
           "textposition": "auto",
           "type": "bar",
           "x": {
            "bdata": "AAAAAGB/9EA=",
            "dtype": "f8"
           },
           "xaxis": "x",
           "y": [
            "North Macedonia"
           ],
           "yaxis": "y"
          }
         ],
         "name": "2010"
        },
        {
         "data": [
          {
           "hovertemplate": "Land=%{y}<br>year=2011<br>Produzierte Menge (in MJ)=%{x}<extra></extra>",
           "legendgroup": "Austria",
           "marker": {
            "color": "#636efa",
            "pattern": {
             "shape": ""
            }
           },
           "name": "Austria",
           "orientation": "h",
           "showlegend": true,
           "textposition": "auto",
           "type": "bar",
           "x": {
            "bdata": "AAAAQHCthUE=",
            "dtype": "f8"
           },
           "xaxis": "x",
           "y": [
            "Austria"
           ],
           "yaxis": "y"
          },
          {
           "hovertemplate": "Land=%{y}<br>year=2011<br>Produzierte Menge (in MJ)=%{x}<extra></extra>",
           "legendgroup": "Belgium",
           "marker": {
            "color": "#EF553B",
            "pattern": {
             "shape": ""
            }
           },
           "name": "Belgium",
           "orientation": "h",
           "showlegend": true,
           "textposition": "auto",
           "type": "bar",
           "x": {
            "bdata": "AAAAoCWuk0E=",
            "dtype": "f8"
           },
           "xaxis": "x",
           "y": [
            "Belgium"
           ],
           "yaxis": "y"
          },
          {
           "hovertemplate": "Land=%{y}<br>year=2011<br>Produzierte Menge (in MJ)=%{x}<extra></extra>",
           "legendgroup": "Denmark",
           "marker": {
            "color": "#00cc96",
            "pattern": {
             "shape": ""
            }
           },
           "name": "Denmark",
           "orientation": "h",
           "showlegend": true,
           "textposition": "auto",
           "type": "bar",
           "x": {
            "bdata": "AAAAACLhj0E=",
            "dtype": "f8"
           },
           "xaxis": "x",
           "y": [
            "Denmark"
           ],
           "yaxis": "y"
          },
          {
           "hovertemplate": "Land=%{y}<br>year=2011<br>Produzierte Menge (in MJ)=%{x}<extra></extra>",
           "legendgroup": "Finland",
           "marker": {
            "color": "#ab63fa",
            "pattern": {
             "shape": ""
            }
           },
           "name": "Finland",
           "orientation": "h",
           "showlegend": true,
           "textposition": "auto",
           "type": "bar",
           "x": {
            "bdata": "AAAAAGbudEE=",
            "dtype": "f8"
           },
           "xaxis": "x",
           "y": [
            "Finland"
           ],
           "yaxis": "y"
          },
          {
           "hovertemplate": "Land=%{y}<br>year=2011<br>Produzierte Menge (in MJ)=%{x}<extra></extra>",
           "legendgroup": "France",
           "marker": {
            "color": "#FFA15A",
            "pattern": {
             "shape": ""
            }
           },
           "name": "France",
           "orientation": "h",
           "showlegend": true,
           "textposition": "auto",
           "type": "bar",
           "x": {
            "bdata": "AAAA8LehqkE=",
            "dtype": "f8"
           },
           "xaxis": "x",
           "y": [
            "France"
           ],
           "yaxis": "y"
          },
          {
           "hovertemplate": "Land=%{y}<br>year=2011<br>Produzierte Menge (in MJ)=%{x}<extra></extra>",
           "legendgroup": "Greece",
           "marker": {
            "color": "#19d3f3",
            "pattern": {
             "shape": ""
            }
           },
           "name": "Greece",
           "orientation": "h",
           "showlegend": true,
           "textposition": "auto",
           "type": "bar",
           "x": {
            "bdata": "AAAAAK0JckE=",
            "dtype": "f8"
           },
           "xaxis": "x",
           "y": [
            "Greece"
           ],
           "yaxis": "y"
          },
          {
           "hovertemplate": "Land=%{y}<br>year=2011<br>Produzierte Menge (in MJ)=%{x}<extra></extra>",
           "legendgroup": "Hungary",
           "marker": {
            "color": "#FF6692",
            "pattern": {
             "shape": ""
            }
           },
           "name": "Hungary",
           "orientation": "h",
           "showlegend": true,
           "textposition": "auto",
           "type": "bar",
           "x": {
            "bdata": "AAAAgCv5eUE=",
            "dtype": "f8"
           },
           "xaxis": "x",
           "y": [
            "Hungary"
           ],
           "yaxis": "y"
          },
          {
           "hovertemplate": "Land=%{y}<br>year=2011<br>Produzierte Menge (in MJ)=%{x}<extra></extra>",
           "legendgroup": "Ireland",
           "marker": {
            "color": "#B6E880",
            "pattern": {
             "shape": ""
            }
           },
           "name": "Ireland",
           "orientation": "h",
           "showlegend": true,
           "textposition": "auto",
           "type": "bar",
           "x": {
            "bdata": "AAAAANLQVkE=",
            "dtype": "f8"
           },
           "xaxis": "x",
           "y": [
            "Ireland"
           ],
           "yaxis": "y"
          },
          {
           "hovertemplate": "Land=%{y}<br>year=2011<br>Produzierte Menge (in MJ)=%{x}<extra></extra>",
           "legendgroup": "Italy",
           "marker": {
            "color": "#FF97FF",
            "pattern": {
             "shape": ""
            }
           },
           "name": "Italy",
           "orientation": "h",
           "showlegend": true,
           "textposition": "auto",
           "type": "bar",
           "x": {
            "bdata": "AAAAME5WokE=",
            "dtype": "f8"
           },
           "xaxis": "x",
           "y": [
            "Italy"
           ],
           "yaxis": "y"
          },
          {
           "hovertemplate": "Land=%{y}<br>year=2011<br>Produzierte Menge (in MJ)=%{x}<extra></extra>",
           "legendgroup": "Luxembourg",
           "marker": {
            "color": "#FECB52",
            "pattern": {
             "shape": ""
            }
           },
           "name": "Luxembourg",
           "orientation": "h",
           "showlegend": true,
           "textposition": "auto",
           "type": "bar",
           "x": {
            "bdata": "AAAAAHivPkE=",
            "dtype": "f8"
           },
           "xaxis": "x",
           "y": [
            "Luxembourg"
           ],
           "yaxis": "y"
          },
          {
           "hovertemplate": "Land=%{y}<br>year=2011<br>Produzierte Menge (in MJ)=%{x}<extra></extra>",
           "legendgroup": "Netherlands",
           "marker": {
            "color": "#636efa",
            "pattern": {
             "shape": ""
            }
           },
           "name": "Netherlands",
           "orientation": "h",
           "showlegend": true,
           "textposition": "auto",
           "type": "bar",
           "x": {
            "bdata": "AAAAgPSTmkE=",
            "dtype": "f8"
           },
           "xaxis": "x",
           "y": [
            "Netherlands"
           ],
           "yaxis": "y"
          },
          {
           "hovertemplate": "Land=%{y}<br>year=2011<br>Produzierte Menge (in MJ)=%{x}<extra></extra>",
           "legendgroup": "Norway",
           "marker": {
            "color": "#EF553B",
            "pattern": {
             "shape": ""
            }
           },
           "name": "Norway",
           "orientation": "h",
           "showlegend": true,
           "textposition": "auto",
           "type": "bar",
           "x": {
            "bdata": "AAAAgKp8ckE=",
            "dtype": "f8"
           },
           "xaxis": "x",
           "y": [
            "Norway"
           ],
           "yaxis": "y"
          },
          {
           "hovertemplate": "Land=%{y}<br>year=2011<br>Produzierte Menge (in MJ)=%{x}<extra></extra>",
           "legendgroup": "Poland",
           "marker": {
            "color": "#00cc96",
            "pattern": {
             "shape": ""
            }
           },
           "name": "Poland",
           "orientation": "h",
           "showlegend": true,
           "textposition": "auto",
           "type": "bar",
           "x": {
            "bdata": "AAAAwAlymUE=",
            "dtype": "f8"
           },
           "xaxis": "x",
           "y": [
            "Poland"
           ],
           "yaxis": "y"
          },
          {
           "hovertemplate": "Land=%{y}<br>year=2011<br>Produzierte Menge (in MJ)=%{x}<extra></extra>",
           "legendgroup": "Portugal",
           "marker": {
            "color": "#ab63fa",
            "pattern": {
             "shape": ""
            }
           },
           "name": "Portugal",
           "orientation": "h",
           "showlegend": true,
           "textposition": "auto",
           "type": "bar",
           "x": {
            "bdata": "AAAAAEvvj0E=",
            "dtype": "f8"
           },
           "xaxis": "x",
           "y": [
            "Portugal"
           ],
           "yaxis": "y"
          },
          {
           "hovertemplate": "Land=%{y}<br>year=2011<br>Produzierte Menge (in MJ)=%{x}<extra></extra>",
           "legendgroup": "Spain",
           "marker": {
            "color": "#FFA15A",
            "pattern": {
             "shape": ""
            }
           },
           "name": "Spain",
           "orientation": "h",
           "showlegend": true,
           "textposition": "auto",
           "type": "bar",
           "x": {
            "bdata": "AAAAoHbBmEE=",
            "dtype": "f8"
           },
           "xaxis": "x",
           "y": [
            "Spain"
           ],
           "yaxis": "y"
          },
          {
           "hovertemplate": "Land=%{y}<br>year=2011<br>Produzierte Menge (in MJ)=%{x}<extra></extra>",
           "legendgroup": "Sweden",
           "marker": {
            "color": "#19d3f3",
            "pattern": {
             "shape": ""
            }
           },
           "name": "Sweden",
           "orientation": "h",
           "showlegend": true,
           "textposition": "auto",
           "type": "bar",
           "x": {
            "bdata": "AAAA4AX9kkE=",
            "dtype": "f8"
           },
           "xaxis": "x",
           "y": [
            "Sweden"
           ],
           "yaxis": "y"
          },
          {
           "hovertemplate": "Land=%{y}<br>year=2011<br>Produzierte Menge (in MJ)=%{x}<extra></extra>",
           "legendgroup": "Switzerland",
           "marker": {
            "color": "#FF6692",
            "pattern": {
             "shape": ""
            }
           },
           "name": "Switzerland",
           "orientation": "h",
           "showlegend": true,
           "textposition": "auto",
           "type": "bar",
           "x": {
            "bdata": "AAAAwJNnh0E=",
            "dtype": "f8"
           },
           "xaxis": "x",
           "y": [
            "Switzerland"
           ],
           "yaxis": "y"
          },
          {
           "hovertemplate": "Land=%{y}<br>year=2011<br>Produzierte Menge (in MJ)=%{x}<extra></extra>",
           "legendgroup": "United Kingdom",
           "marker": {
            "color": "#B6E880",
            "pattern": {
             "shape": ""
            }
           },
           "name": "United Kingdom",
           "orientation": "h",
           "showlegend": true,
           "textposition": "auto",
           "type": "bar",
           "x": {
            "bdata": "AAAAUMGspEE=",
            "dtype": "f8"
           },
           "xaxis": "x",
           "y": [
            "United Kingdom"
           ],
           "yaxis": "y"
          },
          {
           "hovertemplate": "Land=%{y}<br>year=2011<br>Produzierte Menge (in MJ)=%{x}<extra></extra>",
           "legendgroup": "Germany",
           "marker": {
            "color": "#FF97FF",
            "pattern": {
             "shape": ""
            }
           },
           "name": "Germany",
           "orientation": "h",
           "showlegend": true,
           "textposition": "auto",
           "type": "bar",
           "x": {
            "bdata": "AAAA/DYHwUE=",
            "dtype": "f8"
           },
           "xaxis": "x",
           "y": [
            "Germany"
           ],
           "yaxis": "y"
          },
          {
           "hovertemplate": "Land=%{y}<br>year=2011<br>Produzierte Menge (in MJ)=%{x}<extra></extra>",
           "legendgroup": "Belarus",
           "marker": {
            "color": "#FECB52",
            "pattern": {
             "shape": ""
            }
           },
           "name": "Belarus",
           "orientation": "h",
           "showlegend": true,
           "textposition": "auto",
           "type": "bar",
           "x": {
            "bdata": "AAAAAIzQUUE=",
            "dtype": "f8"
           },
           "xaxis": "x",
           "y": [
            "Belarus"
           ],
           "yaxis": "y"
          },
          {
           "hovertemplate": "Land=%{y}<br>year=2011<br>Produzierte Menge (in MJ)=%{x}<extra></extra>",
           "legendgroup": "Croatia",
           "marker": {
            "color": "#636efa",
            "pattern": {
             "shape": ""
            }
           },
           "name": "Croatia",
           "orientation": "h",
           "showlegend": true,
           "textposition": "auto",
           "type": "bar",
           "x": {
            "bdata": "AAAAAEAkJEE=",
            "dtype": "f8"
           },
           "xaxis": "x",
           "y": [
            "Croatia"
           ],
           "yaxis": "y"
          },
          {
           "hovertemplate": "Land=%{y}<br>year=2011<br>Produzierte Menge (in MJ)=%{x}<extra></extra>",
           "legendgroup": "Czech Republic",
           "marker": {
            "color": "#EF553B",
            "pattern": {
             "shape": ""
            }
           },
           "name": "Czech Republic",
           "orientation": "h",
           "showlegend": true,
           "textposition": "auto",
           "type": "bar",
           "x": {
            "bdata": "AAAAANe0fkE=",
            "dtype": "f8"
           },
           "xaxis": "x",
           "y": [
            "Czech Republic"
           ],
           "yaxis": "y"
          },
          {
           "hovertemplate": "Land=%{y}<br>year=2011<br>Produzierte Menge (in MJ)=%{x}<extra></extra>",
           "legendgroup": "Estonia",
           "marker": {
            "color": "#00cc96",
            "pattern": {
             "shape": ""
            }
           },
           "name": "Estonia",
           "orientation": "h",
           "showlegend": true,
           "textposition": "auto",
           "type": "bar",
           "x": {
            "bdata": "AAAAAG7bYEE=",
            "dtype": "f8"
           },
           "xaxis": "x",
           "y": [
            "Estonia"
           ],
           "yaxis": "y"
          },
          {
           "hovertemplate": "Land=%{y}<br>year=2011<br>Produzierte Menge (in MJ)=%{x}<extra></extra>",
           "legendgroup": "Latvia",
           "marker": {
            "color": "#ab63fa",
            "pattern": {
             "shape": ""
            }
           },
           "name": "Latvia",
           "orientation": "h",
           "showlegend": true,
           "textposition": "auto",
           "type": "bar",
           "x": {
            "bdata": "AAAAAJC9S0E=",
            "dtype": "f8"
           },
           "xaxis": "x",
           "y": [
            "Latvia"
           ],
           "yaxis": "y"
          },
          {
           "hovertemplate": "Land=%{y}<br>year=2011<br>Produzierte Menge (in MJ)=%{x}<extra></extra>",
           "legendgroup": "Lithuania",
           "marker": {
            "color": "#FFA15A",
            "pattern": {
             "shape": ""
            }
           },
           "name": "Lithuania",
           "orientation": "h",
           "showlegend": true,
           "textposition": "auto",
           "type": "bar",
           "x": {
            "bdata": "AAAAALZGUkE=",
            "dtype": "f8"
           },
           "xaxis": "x",
           "y": [
            "Lithuania"
           ],
           "yaxis": "y"
          },
          {
           "hovertemplate": "Land=%{y}<br>year=2011<br>Produzierte Menge (in MJ)=%{x}<extra></extra>",
           "legendgroup": "Romania",
           "marker": {
            "color": "#19d3f3",
            "pattern": {
             "shape": ""
            }
           },
           "name": "Romania",
           "orientation": "h",
           "showlegend": true,
           "textposition": "auto",
           "type": "bar",
           "x": {
            "bdata": "AAAAALLhW0E=",
            "dtype": "f8"
           },
           "xaxis": "x",
           "y": [
            "Romania"
           ],
           "yaxis": "y"
          },
          {
           "hovertemplate": "Land=%{y}<br>year=2011<br>Produzierte Menge (in MJ)=%{x}<extra></extra>",
           "legendgroup": "Iceland",
           "marker": {
            "color": "#FF6692",
            "pattern": {
             "shape": ""
            }
           },
           "name": "Iceland",
           "orientation": "h",
           "showlegend": true,
           "textposition": "auto",
           "type": "bar",
           "x": {
            "bdata": "AAAAAABw50A=",
            "dtype": "f8"
           },
           "xaxis": "x",
           "y": [
            "Iceland"
           ],
           "yaxis": "y"
          },
          {
           "hovertemplate": "Land=%{y}<br>year=2011<br>Produzierte Menge (in MJ)=%{x}<extra></extra>",
           "legendgroup": "Slovenia",
           "marker": {
            "color": "#B6E880",
            "pattern": {
             "shape": ""
            }
           },
           "name": "Slovenia",
           "orientation": "h",
           "showlegend": true,
           "textposition": "auto",
           "type": "bar",
           "x": {
            "bdata": "AAAAABD8O0E=",
            "dtype": "f8"
           },
           "xaxis": "x",
           "y": [
            "Slovenia"
           ],
           "yaxis": "y"
          },
          {
           "hovertemplate": "Land=%{y}<br>year=2011<br>Produzierte Menge (in MJ)=%{x}<extra></extra>",
           "legendgroup": "Cyprus",
           "marker": {
            "color": "#FF97FF",
            "pattern": {
             "shape": ""
            }
           },
           "name": "Cyprus",
           "orientation": "h",
           "showlegend": true,
           "textposition": "auto",
           "type": "bar",
           "x": {
            "bdata": "AAAAACBHJkE=",
            "dtype": "f8"
           },
           "xaxis": "x",
           "y": [
            "Cyprus"
           ],
           "yaxis": "y"
          },
          {
           "hovertemplate": "Land=%{y}<br>year=2011<br>Produzierte Menge (in MJ)=%{x}<extra></extra>",
           "legendgroup": "Slovakia",
           "marker": {
            "color": "#FECB52",
            "pattern": {
             "shape": ""
            }
           },
           "name": "Slovakia",
           "orientation": "h",
           "showlegend": true,
           "textposition": "auto",
           "type": "bar",
           "x": {
            "bdata": "AAAAAFoOcEE=",
            "dtype": "f8"
           },
           "xaxis": "x",
           "y": [
            "Slovakia"
           ],
           "yaxis": "y"
          },
          {
           "hovertemplate": "Land=%{y}<br>year=2011<br>Produzierte Menge (in MJ)=%{x}<extra></extra>",
           "legendgroup": "Andorra",
           "marker": {
            "color": "#636efa",
            "pattern": {
             "shape": ""
            }
           },
           "name": "Andorra",
           "orientation": "h",
           "showlegend": true,
           "textposition": "auto",
           "type": "bar",
           "x": {
            "bdata": "AAAAAEC1CUE=",
            "dtype": "f8"
           },
           "xaxis": "x",
           "y": [
            "Andorra"
           ],
           "yaxis": "y"
          },
          {
           "hovertemplate": "Land=%{y}<br>year=2011<br>Produzierte Menge (in MJ)=%{x}<extra></extra>",
           "legendgroup": "Moldova",
           "marker": {
            "color": "#EF553B",
            "pattern": {
             "shape": ""
            }
           },
           "name": "Moldova",
           "orientation": "h",
           "showlegend": true,
           "textposition": "auto",
           "type": "bar",
           "x": {
            "bdata": "AAAAACAvKkE=",
            "dtype": "f8"
           },
           "xaxis": "x",
           "y": [
            "Moldova"
           ],
           "yaxis": "y"
          },
          {
           "hovertemplate": "Land=%{y}<br>year=2011<br>Produzierte Menge (in MJ)=%{x}<extra></extra>",
           "legendgroup": "Bulgaria",
           "marker": {
            "color": "#00cc96",
            "pattern": {
             "shape": ""
            }
           },
           "name": "Bulgaria",
           "orientation": "h",
           "showlegend": true,
           "textposition": "auto",
           "type": "bar",
           "x": {
            "bdata": "AAAAADhDNkE=",
            "dtype": "f8"
           },
           "xaxis": "x",
           "y": [
            "Bulgaria"
           ],
           "yaxis": "y"
          },
          {
           "hovertemplate": "Land=%{y}<br>year=2011<br>Produzierte Menge (in MJ)=%{x}<extra></extra>",
           "legendgroup": "Liechtenstein",
           "marker": {
            "color": "#ab63fa",
            "pattern": {
             "shape": ""
            }
           },
           "name": "Liechtenstein",
           "orientation": "h",
           "showlegend": true,
           "textposition": "auto",
           "type": "bar",
           "x": {
            "bdata": "AAAAABAyE0E=",
            "dtype": "f8"
           },
           "xaxis": "x",
           "y": [
            "Liechtenstein"
           ],
           "yaxis": "y"
          },
          {
           "hovertemplate": "Land=%{y}<br>year=2011<br>Produzierte Menge (in MJ)=%{x}<extra></extra>",
           "legendgroup": "Malta",
           "marker": {
            "color": "#FFA15A",
            "pattern": {
             "shape": ""
            }
           },
           "name": "Malta",
           "orientation": "h",
           "showlegend": true,
           "textposition": "auto",
           "type": "bar",
           "x": {
            "bdata": "AAAAAICo+EA=",
            "dtype": "f8"
           },
           "xaxis": "x",
           "y": [
            "Malta"
           ],
           "yaxis": "y"
          },
          {
           "hovertemplate": "Land=%{y}<br>year=2011<br>Produzierte Menge (in MJ)=%{x}<extra></extra>",
           "legendgroup": "North Macedonia",
           "marker": {
            "color": "#19d3f3",
            "pattern": {
             "shape": ""
            }
           },
           "name": "North Macedonia",
           "orientation": "h",
           "showlegend": true,
           "textposition": "auto",
           "type": "bar",
           "x": {
            "bdata": "AAAAAFAjB0E=",
            "dtype": "f8"
           },
           "xaxis": "x",
           "y": [
            "North Macedonia"
           ],
           "yaxis": "y"
          }
         ],
         "name": "2011"
        },
        {
         "data": [
          {
           "hovertemplate": "Land=%{y}<br>year=2012<br>Produzierte Menge (in MJ)=%{x}<extra></extra>",
           "legendgroup": "Austria",
           "marker": {
            "color": "#636efa",
            "pattern": {
             "shape": ""
            }
           },
           "name": "Austria",
           "orientation": "h",
           "showlegend": true,
           "textposition": "auto",
           "type": "bar",
           "x": {
            "bdata": "AAAAgBOShkE=",
            "dtype": "f8"
           },
           "xaxis": "x",
           "y": [
            "Austria"
           ],
           "yaxis": "y"
          },
          {
           "hovertemplate": "Land=%{y}<br>year=2012<br>Produzierte Menge (in MJ)=%{x}<extra></extra>",
           "legendgroup": "Belgium",
           "marker": {
            "color": "#EF553B",
            "pattern": {
             "shape": ""
            }
           },
           "name": "Belgium",
           "orientation": "h",
           "showlegend": true,
           "textposition": "auto",
           "type": "bar",
           "x": {
            "bdata": "AAAAgK/FjkE=",
            "dtype": "f8"
           },
           "xaxis": "x",
           "y": [
            "Belgium"
           ],
           "yaxis": "y"
          },
          {
           "hovertemplate": "Land=%{y}<br>year=2012<br>Produzierte Menge (in MJ)=%{x}<extra></extra>",
           "legendgroup": "Denmark",
           "marker": {
            "color": "#00cc96",
            "pattern": {
             "shape": ""
            }
           },
           "name": "Denmark",
           "orientation": "h",
           "showlegend": true,
           "textposition": "auto",
           "type": "bar",
           "x": {
            "bdata": "AAAAAFYUjUE=",
            "dtype": "f8"
           },
           "xaxis": "x",
           "y": [
            "Denmark"
           ],
           "yaxis": "y"
          },
          {
           "hovertemplate": "Land=%{y}<br>year=2012<br>Produzierte Menge (in MJ)=%{x}<extra></extra>",
           "legendgroup": "Finland",
           "marker": {
            "color": "#ab63fa",
            "pattern": {
             "shape": ""
            }
           },
           "name": "Finland",
           "orientation": "h",
           "showlegend": true,
           "textposition": "auto",
           "type": "bar",
           "x": {
            "bdata": "AAAAgDUhekE=",
            "dtype": "f8"
           },
           "xaxis": "x",
           "y": [
            "Finland"
           ],
           "yaxis": "y"
          },
          {
           "hovertemplate": "Land=%{y}<br>year=2012<br>Produzierte Menge (in MJ)=%{x}<extra></extra>",
           "legendgroup": "France",
           "marker": {
            "color": "#FFA15A",
            "pattern": {
             "shape": ""
            }
           },
           "name": "France",
           "orientation": "h",
           "showlegend": true,
           "textposition": "auto",
           "type": "bar",
           "x": {
            "bdata": "AAAAIAgorkE=",
            "dtype": "f8"
           },
           "xaxis": "x",
           "y": [
            "France"
           ],
           "yaxis": "y"
          },
          {
           "hovertemplate": "Land=%{y}<br>year=2012<br>Produzierte Menge (in MJ)=%{x}<extra></extra>",
           "legendgroup": "Greece",
           "marker": {
            "color": "#19d3f3",
            "pattern": {
             "shape": ""
            }
           },
           "name": "Greece",
           "orientation": "h",
           "showlegend": true,
           "textposition": "auto",
           "type": "bar",
           "x": {
            "bdata": "AAAAgCaYcUE=",
            "dtype": "f8"
           },
           "xaxis": "x",
           "y": [
            "Greece"
           ],
           "yaxis": "y"
          },
          {
           "hovertemplate": "Land=%{y}<br>year=2012<br>Produzierte Menge (in MJ)=%{x}<extra></extra>",
           "legendgroup": "Hungary",
           "marker": {
            "color": "#FF6692",
            "pattern": {
             "shape": ""
            }
           },
           "name": "Hungary",
           "orientation": "h",
           "showlegend": true,
           "textposition": "auto",
           "type": "bar",
           "x": {
            "bdata": "AAAAQG0KgUE=",
            "dtype": "f8"
           },
           "xaxis": "x",
           "y": [
            "Hungary"
           ],
           "yaxis": "y"
          },
          {
           "hovertemplate": "Land=%{y}<br>year=2012<br>Produzierte Menge (in MJ)=%{x}<extra></extra>",
           "legendgroup": "Ireland",
           "marker": {
            "color": "#B6E880",
            "pattern": {
             "shape": ""
            }
           },
           "name": "Ireland",
           "orientation": "h",
           "showlegend": true,
           "textposition": "auto",
           "type": "bar",
           "x": {
            "bdata": "AAAAALSrXUE=",
            "dtype": "f8"
           },
           "xaxis": "x",
           "y": [
            "Ireland"
           ],
           "yaxis": "y"
          },
          {
           "hovertemplate": "Land=%{y}<br>year=2012<br>Produzierte Menge (in MJ)=%{x}<extra></extra>",
           "legendgroup": "Italy",
           "marker": {
            "color": "#FF97FF",
            "pattern": {
             "shape": ""
            }
           },
           "name": "Italy",
           "orientation": "h",
           "showlegend": true,
           "textposition": "auto",
           "type": "bar",
           "x": {
            "bdata": "AAAAYLLNoEE=",
            "dtype": "f8"
           },
           "xaxis": "x",
           "y": [
            "Italy"
           ],
           "yaxis": "y"
          },
          {
           "hovertemplate": "Land=%{y}<br>year=2012<br>Produzierte Menge (in MJ)=%{x}<extra></extra>",
           "legendgroup": "Luxembourg",
           "marker": {
            "color": "#FECB52",
            "pattern": {
             "shape": ""
            }
           },
           "name": "Luxembourg",
           "orientation": "h",
           "showlegend": true,
           "textposition": "auto",
           "type": "bar",
           "x": {
            "bdata": "AAAAAChAQEE=",
            "dtype": "f8"
           },
           "xaxis": "x",
           "y": [
            "Luxembourg"
           ],
           "yaxis": "y"
          },
          {
           "hovertemplate": "Land=%{y}<br>year=2012<br>Produzierte Menge (in MJ)=%{x}<extra></extra>",
           "legendgroup": "Netherlands",
           "marker": {
            "color": "#636efa",
            "pattern": {
             "shape": ""
            }
           },
           "name": "Netherlands",
           "orientation": "h",
           "showlegend": true,
           "textposition": "auto",
           "type": "bar",
           "x": {
            "bdata": "AAAA4OpRoEE=",
            "dtype": "f8"
           },
           "xaxis": "x",
           "y": [
            "Netherlands"
           ],
           "yaxis": "y"
          },
          {
           "hovertemplate": "Land=%{y}<br>year=2012<br>Produzierte Menge (in MJ)=%{x}<extra></extra>",
           "legendgroup": "Norway",
           "marker": {
            "color": "#EF553B",
            "pattern": {
             "shape": ""
            }
           },
           "name": "Norway",
           "orientation": "h",
           "showlegend": true,
           "textposition": "auto",
           "type": "bar",
           "x": {
            "bdata": "AAAAgBFXckE=",
            "dtype": "f8"
           },
           "xaxis": "x",
           "y": [
            "Norway"
           ],
           "yaxis": "y"
          },
          {
           "hovertemplate": "Land=%{y}<br>year=2012<br>Produzierte Menge (in MJ)=%{x}<extra></extra>",
           "legendgroup": "Poland",
           "marker": {
            "color": "#00cc96",
            "pattern": {
             "shape": ""
            }
           },
           "name": "Poland",
           "orientation": "h",
           "showlegend": true,
           "textposition": "auto",
           "type": "bar",
           "x": {
            "bdata": "AAAAEO9PoEE=",
            "dtype": "f8"
           },
           "xaxis": "x",
           "y": [
            "Poland"
           ],
           "yaxis": "y"
          },
          {
           "hovertemplate": "Land=%{y}<br>year=2012<br>Produzierte Menge (in MJ)=%{x}<extra></extra>",
           "legendgroup": "Portugal",
           "marker": {
            "color": "#ab63fa",
            "pattern": {
             "shape": ""
            }
           },
           "name": "Portugal",
           "orientation": "h",
           "showlegend": true,
           "textposition": "auto",
           "type": "bar",
           "x": {
            "bdata": "AAAAAEcChkE=",
            "dtype": "f8"
           },
           "xaxis": "x",
           "y": [
            "Portugal"
           ],
           "yaxis": "y"
          },
          {
           "hovertemplate": "Land=%{y}<br>year=2012<br>Produzierte Menge (in MJ)=%{x}<extra></extra>",
           "legendgroup": "Spain",
           "marker": {
            "color": "#FFA15A",
            "pattern": {
             "shape": ""
            }
           },
           "name": "Spain",
           "orientation": "h",
           "showlegend": true,
           "textposition": "auto",
           "type": "bar",
           "x": {
            "bdata": "AAAAwAtalkE=",
            "dtype": "f8"
           },
           "xaxis": "x",
           "y": [
            "Spain"
           ],
           "yaxis": "y"
          },
          {
           "hovertemplate": "Land=%{y}<br>year=2012<br>Produzierte Menge (in MJ)=%{x}<extra></extra>",
           "legendgroup": "Sweden",
           "marker": {
            "color": "#19d3f3",
            "pattern": {
             "shape": ""
            }
           },
           "name": "Sweden",
           "orientation": "h",
           "showlegend": true,
           "textposition": "auto",
           "type": "bar",
           "x": {
            "bdata": "AAAAABcQlUE=",
            "dtype": "f8"
           },
           "xaxis": "x",
           "y": [
            "Sweden"
           ],
           "yaxis": "y"
          },
          {
           "hovertemplate": "Land=%{y}<br>year=2012<br>Produzierte Menge (in MJ)=%{x}<extra></extra>",
           "legendgroup": "Switzerland",
           "marker": {
            "color": "#FF6692",
            "pattern": {
             "shape": ""
            }
           },
           "name": "Switzerland",
           "orientation": "h",
           "showlegend": true,
           "textposition": "auto",
           "type": "bar",
           "x": {
            "bdata": "AAAAwJnjh0E=",
            "dtype": "f8"
           },
           "xaxis": "x",
           "y": [
            "Switzerland"
           ],
           "yaxis": "y"
          },
          {
           "hovertemplate": "Land=%{y}<br>year=2012<br>Produzierte Menge (in MJ)=%{x}<extra></extra>",
           "legendgroup": "United Kingdom",
           "marker": {
            "color": "#B6E880",
            "pattern": {
             "shape": ""
            }
           },
           "name": "United Kingdom",
           "orientation": "h",
           "showlegend": true,
           "textposition": "auto",
           "type": "bar",
           "x": {
            "bdata": "AAAAsK/KpkE=",
            "dtype": "f8"
           },
           "xaxis": "x",
           "y": [
            "United Kingdom"
           ],
           "yaxis": "y"
          },
          {
           "hovertemplate": "Land=%{y}<br>year=2012<br>Produzierte Menge (in MJ)=%{x}<extra></extra>",
           "legendgroup": "Germany",
           "marker": {
            "color": "#FF97FF",
            "pattern": {
             "shape": ""
            }
           },
           "name": "Germany",
           "orientation": "h",
           "showlegend": true,
           "textposition": "auto",
           "type": "bar",
           "x": {
            "bdata": "AAAAIHywwkE=",
            "dtype": "f8"
           },
           "xaxis": "x",
           "y": [
            "Germany"
           ],
           "yaxis": "y"
          },
          {
           "hovertemplate": "Land=%{y}<br>year=2012<br>Produzierte Menge (in MJ)=%{x}<extra></extra>",
           "legendgroup": "Belarus",
           "marker": {
            "color": "#FECB52",
            "pattern": {
             "shape": ""
            }
           },
           "name": "Belarus",
           "orientation": "h",
           "showlegend": true,
           "textposition": "auto",
           "type": "bar",
           "x": {
            "bdata": "AAAAAPBmUkE=",
            "dtype": "f8"
           },
           "xaxis": "x",
           "y": [
            "Belarus"
           ],
           "yaxis": "y"
          },
          {
           "hovertemplate": "Land=%{y}<br>year=2012<br>Produzierte Menge (in MJ)=%{x}<extra></extra>",
           "legendgroup": "Croatia",
           "marker": {
            "color": "#636efa",
            "pattern": {
             "shape": ""
            }
           },
           "name": "Croatia",
           "orientation": "h",
           "showlegend": true,
           "textposition": "auto",
           "type": "bar",
           "x": {
            "bdata": "AAAAAMhPQEE=",
            "dtype": "f8"
           },
           "xaxis": "x",
           "y": [
            "Croatia"
           ],
           "yaxis": "y"
          },
          {
           "hovertemplate": "Land=%{y}<br>year=2012<br>Produzierte Menge (in MJ)=%{x}<extra></extra>",
           "legendgroup": "Czech Republic",
           "marker": {
            "color": "#EF553B",
            "pattern": {
             "shape": ""
            }
           },
           "name": "Czech Republic",
           "orientation": "h",
           "showlegend": true,
           "textposition": "auto",
           "type": "bar",
           "x": {
            "bdata": "AAAAAM5CgkE=",
            "dtype": "f8"
           },
           "xaxis": "x",
           "y": [
            "Czech Republic"
           ],
           "yaxis": "y"
          },
          {
           "hovertemplate": "Land=%{y}<br>year=2012<br>Produzierte Menge (in MJ)=%{x}<extra></extra>",
           "legendgroup": "Estonia",
           "marker": {
            "color": "#00cc96",
            "pattern": {
             "shape": ""
            }
           },
           "name": "Estonia",
           "orientation": "h",
           "showlegend": true,
           "textposition": "auto",
           "type": "bar",
           "x": {
            "bdata": "AAAAAIbRYUE=",
            "dtype": "f8"
           },
           "xaxis": "x",
           "y": [
            "Estonia"
           ],
           "yaxis": "y"
          },
          {
           "hovertemplate": "Land=%{y}<br>year=2012<br>Produzierte Menge (in MJ)=%{x}<extra></extra>",
           "legendgroup": "Latvia",
           "marker": {
            "color": "#ab63fa",
            "pattern": {
             "shape": ""
            }
           },
           "name": "Latvia",
           "orientation": "h",
           "showlegend": true,
           "textposition": "auto",
           "type": "bar",
           "x": {
            "bdata": "AAAAAGBgV0E=",
            "dtype": "f8"
           },
           "xaxis": "x",
           "y": [
            "Latvia"
           ],
           "yaxis": "y"
          },
          {
           "hovertemplate": "Land=%{y}<br>year=2012<br>Produzierte Menge (in MJ)=%{x}<extra></extra>",
           "legendgroup": "Lithuania",
           "marker": {
            "color": "#FFA15A",
            "pattern": {
             "shape": ""
            }
           },
           "name": "Lithuania",
           "orientation": "h",
           "showlegend": true,
           "textposition": "auto",
           "type": "bar",
           "x": {
            "bdata": "AAAAAPxGV0E=",
            "dtype": "f8"
           },
           "xaxis": "x",
           "y": [
            "Lithuania"
           ],
           "yaxis": "y"
          },
          {
           "hovertemplate": "Land=%{y}<br>year=2012<br>Produzierte Menge (in MJ)=%{x}<extra></extra>",
           "legendgroup": "Romania",
           "marker": {
            "color": "#19d3f3",
            "pattern": {
             "shape": ""
            }
           },
           "name": "Romania",
           "orientation": "h",
           "showlegend": true,
           "textposition": "auto",
           "type": "bar",
           "x": {
            "bdata": "AAAAALohX0E=",
            "dtype": "f8"
           },
           "xaxis": "x",
           "y": [
            "Romania"
           ],
           "yaxis": "y"
          },
          {
           "hovertemplate": "Land=%{y}<br>year=2012<br>Produzierte Menge (in MJ)=%{x}<extra></extra>",
           "legendgroup": "Iceland",
           "marker": {
            "color": "#FF6692",
            "pattern": {
             "shape": ""
            }
           },
           "name": "Iceland",
           "orientation": "h",
           "showlegend": true,
           "textposition": "auto",
           "type": "bar",
           "x": {
            "bdata": "AAAAAIDS8UA=",
            "dtype": "f8"
           },
           "xaxis": "x",
           "y": [
            "Iceland"
           ],
           "yaxis": "y"
          },
          {
           "hovertemplate": "Land=%{y}<br>year=2012<br>Produzierte Menge (in MJ)=%{x}<extra></extra>",
           "legendgroup": "Slovenia",
           "marker": {
            "color": "#B6E880",
            "pattern": {
             "shape": ""
            }
           },
           "name": "Slovenia",
           "orientation": "h",
           "showlegend": true,
           "textposition": "auto",
           "type": "bar",
           "x": {
            "bdata": "AAAAAChvPUE=",
            "dtype": "f8"
           },
           "xaxis": "x",
           "y": [
            "Slovenia"
           ],
           "yaxis": "y"
          },
          {
           "hovertemplate": "Land=%{y}<br>year=2012<br>Produzierte Menge (in MJ)=%{x}<extra></extra>",
           "legendgroup": "Cyprus",
           "marker": {
            "color": "#FF97FF",
            "pattern": {
             "shape": ""
            }
           },
           "name": "Cyprus",
           "orientation": "h",
           "showlegend": true,
           "textposition": "auto",
           "type": "bar",
           "x": {
            "bdata": "AAAAAGBaKEE=",
            "dtype": "f8"
           },
           "xaxis": "x",
           "y": [
            "Cyprus"
           ],
           "yaxis": "y"
          },
          {
           "hovertemplate": "Land=%{y}<br>year=2012<br>Produzierte Menge (in MJ)=%{x}<extra></extra>",
           "legendgroup": "Slovakia",
           "marker": {
            "color": "#FECB52",
            "pattern": {
             "shape": ""
            }
           },
           "name": "Slovakia",
           "orientation": "h",
           "showlegend": true,
           "textposition": "auto",
           "type": "bar",
           "x": {
            "bdata": "AAAAAK5BakE=",
            "dtype": "f8"
           },
           "xaxis": "x",
           "y": [
            "Slovakia"
           ],
           "yaxis": "y"
          },
          {
           "hovertemplate": "Land=%{y}<br>year=2012<br>Produzierte Menge (in MJ)=%{x}<extra></extra>",
           "legendgroup": "Andorra",
           "marker": {
            "color": "#636efa",
            "pattern": {
             "shape": ""
            }
           },
           "name": "Andorra",
           "orientation": "h",
           "showlegend": true,
           "textposition": "auto",
           "type": "bar",
           "x": {
            "bdata": "AAAAAEC1CUE=",
            "dtype": "f8"
           },
           "xaxis": "x",
           "y": [
            "Andorra"
           ],
           "yaxis": "y"
          },
          {
           "hovertemplate": "Land=%{y}<br>year=2012<br>Produzierte Menge (in MJ)=%{x}<extra></extra>",
           "legendgroup": "Moldova",
           "marker": {
            "color": "#EF553B",
            "pattern": {
             "shape": ""
            }
           },
           "name": "Moldova",
           "orientation": "h",
           "showlegend": true,
           "textposition": "auto",
           "type": "bar",
           "x": {
            "bdata": "AAAAAGDFG0E=",
            "dtype": "f8"
           },
           "xaxis": "x",
           "y": [
            "Moldova"
           ],
           "yaxis": "y"
          },
          {
           "hovertemplate": "Land=%{y}<br>year=2012<br>Produzierte Menge (in MJ)=%{x}<extra></extra>",
           "legendgroup": "Bulgaria",
           "marker": {
            "color": "#00cc96",
            "pattern": {
             "shape": ""
            }
           },
           "name": "Bulgaria",
           "orientation": "h",
           "showlegend": true,
           "textposition": "auto",
           "type": "bar",
           "x": {
            "bdata": "AAAAAABGPkE=",
            "dtype": "f8"
           },
           "xaxis": "x",
           "y": [
            "Bulgaria"
           ],
           "yaxis": "y"
          },
          {
           "hovertemplate": "Land=%{y}<br>year=2012<br>Produzierte Menge (in MJ)=%{x}<extra></extra>",
           "legendgroup": "Liechtenstein",
           "marker": {
            "color": "#ab63fa",
            "pattern": {
             "shape": ""
            }
           },
           "name": "Liechtenstein",
           "orientation": "h",
           "showlegend": true,
           "textposition": "auto",
           "type": "bar",
           "x": {
            "bdata": "AAAAAAAFFEE=",
            "dtype": "f8"
           },
           "xaxis": "x",
           "y": [
            "Liechtenstein"
           ],
           "yaxis": "y"
          },
          {
           "hovertemplate": "Land=%{y}<br>year=2012<br>Produzierte Menge (in MJ)=%{x}<extra></extra>",
           "legendgroup": "Malta",
           "marker": {
            "color": "#FFA15A",
            "pattern": {
             "shape": ""
            }
           },
           "name": "Malta",
           "orientation": "h",
           "showlegend": true,
           "textposition": "auto",
           "type": "bar",
           "x": {
            "bdata": "AAAAAMB6AEE=",
            "dtype": "f8"
           },
           "xaxis": "x",
           "y": [
            "Malta"
           ],
           "yaxis": "y"
          },
          {
           "hovertemplate": "Land=%{y}<br>year=2012<br>Produzierte Menge (in MJ)=%{x}<extra></extra>",
           "legendgroup": "North Macedonia",
           "marker": {
            "color": "#19d3f3",
            "pattern": {
             "shape": ""
            }
           },
           "name": "North Macedonia",
           "orientation": "h",
           "showlegend": true,
           "textposition": "auto",
           "type": "bar",
           "x": {
            "bdata": "AAAAAAAh4kA=",
            "dtype": "f8"
           },
           "xaxis": "x",
           "y": [
            "North Macedonia"
           ],
           "yaxis": "y"
          },
          {
           "hovertemplate": "Land=%{y}<br>year=2012<br>Produzierte Menge (in MJ)=%{x}<extra></extra>",
           "legendgroup": "Serbia",
           "marker": {
            "color": "#FF6692",
            "pattern": {
             "shape": ""
            }
           },
           "name": "Serbia",
           "orientation": "h",
           "showlegend": true,
           "textposition": "auto",
           "type": "bar",
           "x": {
            "bdata": "AAAAAAAL40A=",
            "dtype": "f8"
           },
           "xaxis": "x",
           "y": [
            "Serbia"
           ],
           "yaxis": "y"
          }
         ],
         "name": "2012"
        },
        {
         "data": [
          {
           "hovertemplate": "Land=%{y}<br>year=2013<br>Produzierte Menge (in MJ)=%{x}<extra></extra>",
           "legendgroup": "Austria",
           "marker": {
            "color": "#636efa",
            "pattern": {
             "shape": ""
            }
           },
           "name": "Austria",
           "orientation": "h",
           "showlegend": true,
           "textposition": "auto",
           "type": "bar",
           "x": {
            "bdata": "AAAAwLfwhEE=",
            "dtype": "f8"
           },
           "xaxis": "x",
           "y": [
            "Austria"
           ],
           "yaxis": "y"
          },
          {
           "hovertemplate": "Land=%{y}<br>year=2013<br>Produzierte Menge (in MJ)=%{x}<extra></extra>",
           "legendgroup": "Belgium",
           "marker": {
            "color": "#EF553B",
            "pattern": {
             "shape": ""
            }
           },
           "name": "Belgium",
           "orientation": "h",
           "showlegend": true,
           "textposition": "auto",
           "type": "bar",
           "x": {
            "bdata": "AAAAAOm3jUE=",
            "dtype": "f8"
           },
           "xaxis": "x",
           "y": [
            "Belgium"
           ],
           "yaxis": "y"
          },
          {
           "hovertemplate": "Land=%{y}<br>year=2013<br>Produzierte Menge (in MJ)=%{x}<extra></extra>",
           "legendgroup": "Denmark",
           "marker": {
            "color": "#00cc96",
            "pattern": {
             "shape": ""
            }
           },
           "name": "Denmark",
           "orientation": "h",
           "showlegend": true,
           "textposition": "auto",
           "type": "bar",
           "x": {
            "bdata": "AAAAwDsijkE=",
            "dtype": "f8"
           },
           "xaxis": "x",
           "y": [
            "Denmark"
           ],
           "yaxis": "y"
          },
          {
           "hovertemplate": "Land=%{y}<br>year=2013<br>Produzierte Menge (in MJ)=%{x}<extra></extra>",
           "legendgroup": "Finland",
           "marker": {
            "color": "#ab63fa",
            "pattern": {
             "shape": ""
            }
           },
           "name": "Finland",
           "orientation": "h",
           "showlegend": true,
           "textposition": "auto",
           "type": "bar",
           "x": {
            "bdata": "AAAAQNtRgEE=",
            "dtype": "f8"
           },
           "xaxis": "x",
           "y": [
            "Finland"
           ],
           "yaxis": "y"
          },
          {
           "hovertemplate": "Land=%{y}<br>year=2013<br>Produzierte Menge (in MJ)=%{x}<extra></extra>",
           "legendgroup": "France",
           "marker": {
            "color": "#FFA15A",
            "pattern": {
             "shape": ""
            }
           },
           "name": "France",
           "orientation": "h",
           "showlegend": true,
           "textposition": "auto",
           "type": "bar",
           "x": {
            "bdata": "AAAAsF5prkE=",
            "dtype": "f8"
           },
           "xaxis": "x",
           "y": [
            "France"
           ],
           "yaxis": "y"
          },
          {
           "hovertemplate": "Land=%{y}<br>year=2013<br>Produzierte Menge (in MJ)=%{x}<extra></extra>",
           "legendgroup": "Greece",
           "marker": {
            "color": "#19d3f3",
            "pattern": {
             "shape": ""
            }
           },
           "name": "Greece",
           "orientation": "h",
           "showlegend": true,
           "textposition": "auto",
           "type": "bar",
           "x": {
            "bdata": "AAAAACWobkE=",
            "dtype": "f8"
           },
           "xaxis": "x",
           "y": [
            "Greece"
           ],
           "yaxis": "y"
          },
          {
           "hovertemplate": "Land=%{y}<br>year=2013<br>Produzierte Menge (in MJ)=%{x}<extra></extra>",
           "legendgroup": "Hungary",
           "marker": {
            "color": "#FF6692",
            "pattern": {
             "shape": ""
            }
           },
           "name": "Hungary",
           "orientation": "h",
           "showlegend": true,
           "textposition": "auto",
           "type": "bar",
           "x": {
            "bdata": "AAAAgIJZgkE=",
            "dtype": "f8"
           },
           "xaxis": "x",
           "y": [
            "Hungary"
           ],
           "yaxis": "y"
          },
          {
           "hovertemplate": "Land=%{y}<br>year=2013<br>Produzierte Menge (in MJ)=%{x}<extra></extra>",
           "legendgroup": "Ireland",
           "marker": {
            "color": "#B6E880",
            "pattern": {
             "shape": ""
            }
           },
           "name": "Ireland",
           "orientation": "h",
           "showlegend": true,
           "textposition": "auto",
           "type": "bar",
           "x": {
            "bdata": "AAAAAPYXX0E=",
            "dtype": "f8"
           },
           "xaxis": "x",
           "y": [
            "Ireland"
           ],
           "yaxis": "y"
          },
          {
           "hovertemplate": "Land=%{y}<br>year=2013<br>Produzierte Menge (in MJ)=%{x}<extra></extra>",
           "legendgroup": "Italy",
           "marker": {
            "color": "#FF97FF",
            "pattern": {
             "shape": ""
            }
           },
           "name": "Italy",
           "orientation": "h",
           "showlegend": true,
           "textposition": "auto",
           "type": "bar",
           "x": {
            "bdata": "AAAAsIXdpEE=",
            "dtype": "f8"
           },
           "xaxis": "x",
           "y": [
            "Italy"
           ],
           "yaxis": "y"
          },
          {
           "hovertemplate": "Land=%{y}<br>year=2013<br>Produzierte Menge (in MJ)=%{x}<extra></extra>",
           "legendgroup": "Luxembourg",
           "marker": {
            "color": "#FECB52",
            "pattern": {
             "shape": ""
            }
           },
           "name": "Luxembourg",
           "orientation": "h",
           "showlegend": true,
           "textposition": "auto",
           "type": "bar",
           "x": {
            "bdata": "AAAAAGwLQEE=",
            "dtype": "f8"
           },
           "xaxis": "x",
           "y": [
            "Luxembourg"
           ],
           "yaxis": "y"
          },
          {
           "hovertemplate": "Land=%{y}<br>year=2013<br>Produzierte Menge (in MJ)=%{x}<extra></extra>",
           "legendgroup": "Netherlands",
           "marker": {
            "color": "#636efa",
            "pattern": {
             "shape": ""
            }
           },
           "name": "Netherlands",
           "orientation": "h",
           "showlegend": true,
           "textposition": "auto",
           "type": "bar",
           "x": {
            "bdata": "AAAA4CA3o0E=",
            "dtype": "f8"
           },
           "xaxis": "x",
           "y": [
            "Netherlands"
           ],
           "yaxis": "y"
          },
          {
           "hovertemplate": "Land=%{y}<br>year=2013<br>Produzierte Menge (in MJ)=%{x}<extra></extra>",
           "legendgroup": "Norway",
           "marker": {
            "color": "#EF553B",
            "pattern": {
             "shape": ""
            }
           },
           "name": "Norway",
           "orientation": "h",
           "showlegend": true,
           "textposition": "auto",
           "type": "bar",
           "x": {
            "bdata": "AAAAANd/ckE=",
            "dtype": "f8"
           },
           "xaxis": "x",
           "y": [
            "Norway"
           ],
           "yaxis": "y"
          },
          {
           "hovertemplate": "Land=%{y}<br>year=2013<br>Produzierte Menge (in MJ)=%{x}<extra></extra>",
           "legendgroup": "Poland",
           "marker": {
            "color": "#00cc96",
            "pattern": {
             "shape": ""
            }
           },
           "name": "Poland",
           "orientation": "h",
           "showlegend": true,
           "textposition": "auto",
           "type": "bar",
           "x": {
            "bdata": "AAAAwFg4nUE=",
            "dtype": "f8"
           },
           "xaxis": "x",
           "y": [
            "Poland"
           ],
           "yaxis": "y"
          },
          {
           "hovertemplate": "Land=%{y}<br>year=2013<br>Produzierte Menge (in MJ)=%{x}<extra></extra>",
           "legendgroup": "Portugal",
           "marker": {
            "color": "#ab63fa",
            "pattern": {
             "shape": ""
            }
           },
           "name": "Portugal",
           "orientation": "h",
           "showlegend": true,
           "textposition": "auto",
           "type": "bar",
           "x": {
            "bdata": "AAAAgEw+iEE=",
            "dtype": "f8"
           },
           "xaxis": "x",
           "y": [
            "Portugal"
           ],
           "yaxis": "y"
          },
          {
           "hovertemplate": "Land=%{y}<br>year=2013<br>Produzierte Menge (in MJ)=%{x}<extra></extra>",
           "legendgroup": "Spain",
           "marker": {
            "color": "#FFA15A",
            "pattern": {
             "shape": ""
            }
           },
           "name": "Spain",
           "orientation": "h",
           "showlegend": true,
           "textposition": "auto",
           "type": "bar",
           "x": {
            "bdata": "AAAAgN7km0E=",
            "dtype": "f8"
           },
           "xaxis": "x",
           "y": [
            "Spain"
           ],
           "yaxis": "y"
          },
          {
           "hovertemplate": "Land=%{y}<br>year=2013<br>Produzierte Menge (in MJ)=%{x}<extra></extra>",
           "legendgroup": "Sweden",
           "marker": {
            "color": "#19d3f3",
            "pattern": {
             "shape": ""
            }
           },
           "name": "Sweden",
           "orientation": "h",
           "showlegend": true,
           "textposition": "auto",
           "type": "bar",
           "x": {
            "bdata": "AAAAgPRAk0E=",
            "dtype": "f8"
           },
           "xaxis": "x",
           "y": [
            "Sweden"
           ],
           "yaxis": "y"
          },
          {
           "hovertemplate": "Land=%{y}<br>year=2013<br>Produzierte Menge (in MJ)=%{x}<extra></extra>",
           "legendgroup": "Switzerland",
           "marker": {
            "color": "#FF6692",
            "pattern": {
             "shape": ""
            }
           },
           "name": "Switzerland",
           "orientation": "h",
           "showlegend": true,
           "textposition": "auto",
           "type": "bar",
           "x": {
            "bdata": "AAAAQHwih0E=",
            "dtype": "f8"
           },
           "xaxis": "x",
           "y": [
            "Switzerland"
           ],
           "yaxis": "y"
          },
          {
           "hovertemplate": "Land=%{y}<br>year=2013<br>Produzierte Menge (in MJ)=%{x}<extra></extra>",
           "legendgroup": "United Kingdom",
           "marker": {
            "color": "#B6E880",
            "pattern": {
             "shape": ""
            }
           },
           "name": "United Kingdom",
           "orientation": "h",
           "showlegend": true,
           "textposition": "auto",
           "type": "bar",
           "x": {
            "bdata": "AAAAoAcSqUE=",
            "dtype": "f8"
           },
           "xaxis": "x",
           "y": [
            "United Kingdom"
           ],
           "yaxis": "y"
          },
          {
           "hovertemplate": "Land=%{y}<br>year=2013<br>Produzierte Menge (in MJ)=%{x}<extra></extra>",
           "legendgroup": "Germany",
           "marker": {
            "color": "#FF97FF",
            "pattern": {
             "shape": ""
            }
           },
           "name": "Germany",
           "orientation": "h",
           "showlegend": true,
           "textposition": "auto",
           "type": "bar",
           "x": {
            "bdata": "AAAA5G9+xEE=",
            "dtype": "f8"
           },
           "xaxis": "x",
           "y": [
            "Germany"
           ],
           "yaxis": "y"
          },
          {
           "hovertemplate": "Land=%{y}<br>year=2013<br>Produzierte Menge (in MJ)=%{x}<extra></extra>",
           "legendgroup": "Belarus",
           "marker": {
            "color": "#FECB52",
            "pattern": {
             "shape": ""
            }
           },
           "name": "Belarus",
           "orientation": "h",
           "showlegend": true,
           "textposition": "auto",
           "type": "bar",
           "x": {
            "bdata": "AAAAAIBVUUE=",
            "dtype": "f8"
           },
           "xaxis": "x",
           "y": [
            "Belarus"
           ],
           "yaxis": "y"
          },
          {
           "hovertemplate": "Land=%{y}<br>year=2013<br>Produzierte Menge (in MJ)=%{x}<extra></extra>",
           "legendgroup": "Croatia",
           "marker": {
            "color": "#636efa",
            "pattern": {
             "shape": ""
            }
           },
           "name": "Croatia",
           "orientation": "h",
           "showlegend": true,
           "textposition": "auto",
           "type": "bar",
           "x": {
            "bdata": "AAAAAPjnP0E=",
            "dtype": "f8"
           },
           "xaxis": "x",
           "y": [
            "Croatia"
           ],
           "yaxis": "y"
          },
          {
           "hovertemplate": "Land=%{y}<br>year=2013<br>Produzierte Menge (in MJ)=%{x}<extra></extra>",
           "legendgroup": "Czech Republic",
           "marker": {
            "color": "#EF553B",
            "pattern": {
             "shape": ""
            }
           },
           "name": "Czech Republic",
           "orientation": "h",
           "showlegend": true,
           "textposition": "auto",
           "type": "bar",
           "x": {
            "bdata": "AAAAwKE7h0E=",
            "dtype": "f8"
           },
           "xaxis": "x",
           "y": [
            "Czech Republic"
           ],
           "yaxis": "y"
          },
          {
           "hovertemplate": "Land=%{y}<br>year=2013<br>Produzierte Menge (in MJ)=%{x}<extra></extra>",
           "legendgroup": "Estonia",
           "marker": {
            "color": "#00cc96",
            "pattern": {
             "shape": ""
            }
           },
           "name": "Estonia",
           "orientation": "h",
           "showlegend": true,
           "textposition": "auto",
           "type": "bar",
           "x": {
            "bdata": "AAAAADg9Z0E=",
            "dtype": "f8"
           },
           "xaxis": "x",
           "y": [
            "Estonia"
           ],
           "yaxis": "y"
          },
          {
           "hovertemplate": "Land=%{y}<br>year=2013<br>Produzierte Menge (in MJ)=%{x}<extra></extra>",
           "legendgroup": "Latvia",
           "marker": {
            "color": "#ab63fa",
            "pattern": {
             "shape": ""
            }
           },
           "name": "Latvia",
           "orientation": "h",
           "showlegend": true,
           "textposition": "auto",
           "type": "bar",
           "x": {
            "bdata": "AAAAAJDhVUE=",
            "dtype": "f8"
           },
           "xaxis": "x",
           "y": [
            "Latvia"
           ],
           "yaxis": "y"
          },
          {
           "hovertemplate": "Land=%{y}<br>year=2013<br>Produzierte Menge (in MJ)=%{x}<extra></extra>",
           "legendgroup": "Lithuania",
           "marker": {
            "color": "#FFA15A",
            "pattern": {
             "shape": ""
            }
           },
           "name": "Lithuania",
           "orientation": "h",
           "showlegend": true,
           "textposition": "auto",
           "type": "bar",
           "x": {
            "bdata": "AAAAAExpXUE=",
            "dtype": "f8"
           },
           "xaxis": "x",
           "y": [
            "Lithuania"
           ],
           "yaxis": "y"
          },
          {
           "hovertemplate": "Land=%{y}<br>year=2013<br>Produzierte Menge (in MJ)=%{x}<extra></extra>",
           "legendgroup": "Romania",
           "marker": {
            "color": "#19d3f3",
            "pattern": {
             "shape": ""
            }
           },
           "name": "Romania",
           "orientation": "h",
           "showlegend": true,
           "textposition": "auto",
           "type": "bar",
           "x": {
            "bdata": "AAAAADC1X0E=",
            "dtype": "f8"
           },
           "xaxis": "x",
           "y": [
            "Romania"
           ],
           "yaxis": "y"
          },
          {
           "hovertemplate": "Land=%{y}<br>year=2013<br>Produzierte Menge (in MJ)=%{x}<extra></extra>",
           "legendgroup": "Iceland",
           "marker": {
            "color": "#FF6692",
            "pattern": {
             "shape": ""
            }
           },
           "name": "Iceland",
           "orientation": "h",
           "showlegend": true,
           "textposition": "auto",
           "type": "bar",
           "x": {
            "bdata": "AAAAAIBV8UA=",
            "dtype": "f8"
           },
           "xaxis": "x",
           "y": [
            "Iceland"
           ],
           "yaxis": "y"
          },
          {
           "hovertemplate": "Land=%{y}<br>year=2013<br>Produzierte Menge (in MJ)=%{x}<extra></extra>",
           "legendgroup": "Slovenia",
           "marker": {
            "color": "#B6E880",
            "pattern": {
             "shape": ""
            }
           },
           "name": "Slovenia",
           "orientation": "h",
           "showlegend": true,
           "textposition": "auto",
           "type": "bar",
           "x": {
            "bdata": "AAAAAJiSO0E=",
            "dtype": "f8"
           },
           "xaxis": "x",
           "y": [
            "Slovenia"
           ],
           "yaxis": "y"
          },
          {
           "hovertemplate": "Land=%{y}<br>year=2013<br>Produzierte Menge (in MJ)=%{x}<extra></extra>",
           "legendgroup": "Cyprus",
           "marker": {
            "color": "#FF97FF",
            "pattern": {
             "shape": ""
            }
           },
           "name": "Cyprus",
           "orientation": "h",
           "showlegend": true,
           "textposition": "auto",
           "type": "bar",
           "x": {
            "bdata": "AAAAAKCjIUE=",
            "dtype": "f8"
           },
           "xaxis": "x",
           "y": [
            "Cyprus"
           ],
           "yaxis": "y"
          },
          {
           "hovertemplate": "Land=%{y}<br>year=2013<br>Produzierte Menge (in MJ)=%{x}<extra></extra>",
           "legendgroup": "Slovakia",
           "marker": {
            "color": "#FECB52",
            "pattern": {
             "shape": ""
            }
           },
           "name": "Slovakia",
           "orientation": "h",
           "showlegend": true,
           "textposition": "auto",
           "type": "bar",
           "x": {
            "bdata": "AAAAAJrxaUE=",
            "dtype": "f8"
           },
           "xaxis": "x",
           "y": [
            "Slovakia"
           ],
           "yaxis": "y"
          },
          {
           "hovertemplate": "Land=%{y}<br>year=2013<br>Produzierte Menge (in MJ)=%{x}<extra></extra>",
           "legendgroup": "Andorra",
           "marker": {
            "color": "#636efa",
            "pattern": {
             "shape": ""
            }
           },
           "name": "Andorra",
           "orientation": "h",
           "showlegend": true,
           "textposition": "auto",
           "type": "bar",
           "x": {
            "bdata": "AAAAAEBYDEE=",
            "dtype": "f8"
           },
           "xaxis": "x",
           "y": [
            "Andorra"
           ],
           "yaxis": "y"
          },
          {
           "hovertemplate": "Land=%{y}<br>year=2013<br>Produzierte Menge (in MJ)=%{x}<extra></extra>",
           "legendgroup": "Moldova",
           "marker": {
            "color": "#EF553B",
            "pattern": {
             "shape": ""
            }
           },
           "name": "Moldova",
           "orientation": "h",
           "showlegend": true,
           "textposition": "auto",
           "type": "bar",
           "x": {
            "bdata": "AAAAAGANIEE=",
            "dtype": "f8"
           },
           "xaxis": "x",
           "y": [
            "Moldova"
           ],
           "yaxis": "y"
          },
          {
           "hovertemplate": "Land=%{y}<br>year=2013<br>Produzierte Menge (in MJ)=%{x}<extra></extra>",
           "legendgroup": "Bulgaria",
           "marker": {
            "color": "#00cc96",
            "pattern": {
             "shape": ""
            }
           },
           "name": "Bulgaria",
           "orientation": "h",
           "showlegend": true,
           "textposition": "auto",
           "type": "bar",
           "x": {
            "bdata": "AAAAAFS7TUE=",
            "dtype": "f8"
           },
           "xaxis": "x",
           "y": [
            "Bulgaria"
           ],
           "yaxis": "y"
          },
          {
           "hovertemplate": "Land=%{y}<br>year=2013<br>Produzierte Menge (in MJ)=%{x}<extra></extra>",
           "legendgroup": "Liechtenstein",
           "marker": {
            "color": "#ab63fa",
            "pattern": {
             "shape": ""
            }
           },
           "name": "Liechtenstein",
           "orientation": "h",
           "showlegend": true,
           "textposition": "auto",
           "type": "bar",
           "x": {
            "bdata": "AAAAAKC9FUE=",
            "dtype": "f8"
           },
           "xaxis": "x",
           "y": [
            "Liechtenstein"
           ],
           "yaxis": "y"
          },
          {
           "hovertemplate": "Land=%{y}<br>year=2013<br>Produzierte Menge (in MJ)=%{x}<extra></extra>",
           "legendgroup": "Malta",
           "marker": {
            "color": "#FFA15A",
            "pattern": {
             "shape": ""
            }
           },
           "name": "Malta",
           "orientation": "h",
           "showlegend": true,
           "textposition": "auto",
           "type": "bar",
           "x": {
            "bdata": "AAAAAICo+EA=",
            "dtype": "f8"
           },
           "xaxis": "x",
           "y": [
            "Malta"
           ],
           "yaxis": "y"
          },
          {
           "hovertemplate": "Land=%{y}<br>year=2013<br>Produzierte Menge (in MJ)=%{x}<extra></extra>",
           "legendgroup": "North Macedonia",
           "marker": {
            "color": "#19d3f3",
            "pattern": {
             "shape": ""
            }
           },
           "name": "North Macedonia",
           "orientation": "h",
           "showlegend": true,
           "textposition": "auto",
           "type": "bar",
           "x": {
            "bdata": "AAAAAKCq9kA=",
            "dtype": "f8"
           },
           "xaxis": "x",
           "y": [
            "North Macedonia"
           ],
           "yaxis": "y"
          },
          {
           "hovertemplate": "Land=%{y}<br>year=2013<br>Produzierte Menge (in MJ)=%{x}<extra></extra>",
           "legendgroup": "Serbia",
           "marker": {
            "color": "#FF6692",
            "pattern": {
             "shape": ""
            }
           },
           "name": "Serbia",
           "orientation": "h",
           "showlegend": true,
           "textposition": "auto",
           "type": "bar",
           "x": {
            "bdata": "AAAAAAB2BkE=",
            "dtype": "f8"
           },
           "xaxis": "x",
           "y": [
            "Serbia"
           ],
           "yaxis": "y"
          }
         ],
         "name": "2013"
        },
        {
         "data": [
          {
           "hovertemplate": "Land=%{y}<br>year=2014<br>Produzierte Menge (in MJ)=%{x}<extra></extra>",
           "legendgroup": "Austria",
           "marker": {
            "color": "#636efa",
            "pattern": {
             "shape": ""
            }
           },
           "name": "Austria",
           "orientation": "h",
           "showlegend": true,
           "textposition": "auto",
           "type": "bar",
           "x": {
            "bdata": "AAAAQEYNjEE=",
            "dtype": "f8"
           },
           "xaxis": "x",
           "y": [
            "Austria"
           ],
           "yaxis": "y"
          },
          {
           "hovertemplate": "Land=%{y}<br>year=2014<br>Produzierte Menge (in MJ)=%{x}<extra></extra>",
           "legendgroup": "Belgium",
           "marker": {
            "color": "#EF553B",
            "pattern": {
             "shape": ""
            }
           },
           "name": "Belgium",
           "orientation": "h",
           "showlegend": true,
           "textposition": "auto",
           "type": "bar",
           "x": {
            "bdata": "AAAAgNKrkEE=",
            "dtype": "f8"
           },
           "xaxis": "x",
           "y": [
            "Belgium"
           ],
           "yaxis": "y"
          },
          {
           "hovertemplate": "Land=%{y}<br>year=2014<br>Produzierte Menge (in MJ)=%{x}<extra></extra>",
           "legendgroup": "Denmark",
           "marker": {
            "color": "#00cc96",
            "pattern": {
             "shape": ""
            }
           },
           "name": "Denmark",
           "orientation": "h",
           "showlegend": true,
           "textposition": "auto",
           "type": "bar",
           "x": {
            "bdata": "AAAAwLiljUE=",
            "dtype": "f8"
           },
           "xaxis": "x",
           "y": [
            "Denmark"
           ],
           "yaxis": "y"
          },
          {
           "hovertemplate": "Land=%{y}<br>year=2014<br>Produzierte Menge (in MJ)=%{x}<extra></extra>",
           "legendgroup": "Finland",
           "marker": {
            "color": "#ab63fa",
            "pattern": {
             "shape": ""
            }
           },
           "name": "Finland",
           "orientation": "h",
           "showlegend": true,
           "textposition": "auto",
           "type": "bar",
           "x": {
            "bdata": "AAAAQFMygkE=",
            "dtype": "f8"
           },
           "xaxis": "x",
           "y": [
            "Finland"
           ],
           "yaxis": "y"
          },
          {
           "hovertemplate": "Land=%{y}<br>year=2014<br>Produzierte Menge (in MJ)=%{x}<extra></extra>",
           "legendgroup": "France",
           "marker": {
            "color": "#FFA15A",
            "pattern": {
             "shape": ""
            }
           },
           "name": "France",
           "orientation": "h",
           "showlegend": true,
           "textposition": "auto",
           "type": "bar",
           "x": {
            "bdata": "AAAA8LrHrkE=",
            "dtype": "f8"
           },
           "xaxis": "x",
           "y": [
            "France"
           ],
           "yaxis": "y"
          },
          {
           "hovertemplate": "Land=%{y}<br>year=2014<br>Produzierte Menge (in MJ)=%{x}<extra></extra>",
           "legendgroup": "Greece",
           "marker": {
            "color": "#19d3f3",
            "pattern": {
             "shape": ""
            }
           },
           "name": "Greece",
           "orientation": "h",
           "showlegend": true,
           "textposition": "auto",
           "type": "bar",
           "x": {
            "bdata": "AAAAgKoLcEE=",
            "dtype": "f8"
           },
           "xaxis": "x",
           "y": [
            "Greece"
           ],
           "yaxis": "y"
          },
          {
           "hovertemplate": "Land=%{y}<br>year=2014<br>Produzierte Menge (in MJ)=%{x}<extra></extra>",
           "legendgroup": "Hungary",
           "marker": {
            "color": "#FF6692",
            "pattern": {
             "shape": ""
            }
           },
           "name": "Hungary",
           "orientation": "h",
           "showlegend": true,
           "textposition": "auto",
           "type": "bar",
           "x": {
            "bdata": "AAAAwD3DgUE=",
            "dtype": "f8"
           },
           "xaxis": "x",
           "y": [
            "Hungary"
           ],
           "yaxis": "y"
          },
          {
           "hovertemplate": "Land=%{y}<br>year=2014<br>Produzierte Menge (in MJ)=%{x}<extra></extra>",
           "legendgroup": "Ireland",
           "marker": {
            "color": "#B6E880",
            "pattern": {
             "shape": ""
            }
           },
           "name": "Ireland",
           "orientation": "h",
           "showlegend": true,
           "textposition": "auto",
           "type": "bar",
           "x": {
            "bdata": "AAAAAKszYkE=",
            "dtype": "f8"
           },
           "xaxis": "x",
           "y": [
            "Ireland"
           ],
           "yaxis": "y"
          },
          {
           "hovertemplate": "Land=%{y}<br>year=2014<br>Produzierte Menge (in MJ)=%{x}<extra></extra>",
           "legendgroup": "Italy",
           "marker": {
            "color": "#FF97FF",
            "pattern": {
             "shape": ""
            }
           },
           "name": "Italy",
           "orientation": "h",
           "showlegend": true,
           "textposition": "auto",
           "type": "bar",
           "x": {
            "bdata": "AAAAYD9UpkE=",
            "dtype": "f8"
           },
           "xaxis": "x",
           "y": [
            "Italy"
           ],
           "yaxis": "y"
          },
          {
           "hovertemplate": "Land=%{y}<br>year=2014<br>Produzierte Menge (in MJ)=%{x}<extra></extra>",
           "legendgroup": "Luxembourg",
           "marker": {
            "color": "#FECB52",
            "pattern": {
             "shape": ""
            }
           },
           "name": "Luxembourg",
           "orientation": "h",
           "showlegend": true,
           "textposition": "auto",
           "type": "bar",
           "x": {
            "bdata": "AAAAABDkP0E=",
            "dtype": "f8"
           },
           "xaxis": "x",
           "y": [
            "Luxembourg"
           ],
           "yaxis": "y"
          },
          {
           "hovertemplate": "Land=%{y}<br>year=2014<br>Produzierte Menge (in MJ)=%{x}<extra></extra>",
           "legendgroup": "Netherlands",
           "marker": {
            "color": "#636efa",
            "pattern": {
             "shape": ""
            }
           },
           "name": "Netherlands",
           "orientation": "h",
           "showlegend": true,
           "textposition": "auto",
           "type": "bar",
           "x": {
            "bdata": "AAAA0E4Uo0E=",
            "dtype": "f8"
           },
           "xaxis": "x",
           "y": [
            "Netherlands"
           ],
           "yaxis": "y"
          },
          {
           "hovertemplate": "Land=%{y}<br>year=2014<br>Produzierte Menge (in MJ)=%{x}<extra></extra>",
           "legendgroup": "Norway",
           "marker": {
            "color": "#EF553B",
            "pattern": {
             "shape": ""
            }
           },
           "name": "Norway",
           "orientation": "h",
           "showlegend": true,
           "textposition": "auto",
           "type": "bar",
           "x": {
            "bdata": "AAAAgCumckE=",
            "dtype": "f8"
           },
           "xaxis": "x",
           "y": [
            "Norway"
           ],
           "yaxis": "y"
          },
          {
           "hovertemplate": "Land=%{y}<br>year=2014<br>Produzierte Menge (in MJ)=%{x}<extra></extra>",
           "legendgroup": "Poland",
           "marker": {
            "color": "#00cc96",
            "pattern": {
             "shape": ""
            }
           },
           "name": "Poland",
           "orientation": "h",
           "showlegend": true,
           "textposition": "auto",
           "type": "bar",
           "x": {
            "bdata": "AAAAABYHmkE=",
            "dtype": "f8"
           },
           "xaxis": "x",
           "y": [
            "Poland"
           ],
           "yaxis": "y"
          },
          {
           "hovertemplate": "Land=%{y}<br>year=2014<br>Produzierte Menge (in MJ)=%{x}<extra></extra>",
           "legendgroup": "Portugal",
           "marker": {
            "color": "#ab63fa",
            "pattern": {
             "shape": ""
            }
           },
           "name": "Portugal",
           "orientation": "h",
           "showlegend": true,
           "textposition": "auto",
           "type": "bar",
           "x": {
            "bdata": "AAAAAJIoiEE=",
            "dtype": "f8"
           },
           "xaxis": "x",
           "y": [
            "Portugal"
           ],
           "yaxis": "y"
          },
          {
           "hovertemplate": "Land=%{y}<br>year=2014<br>Produzierte Menge (in MJ)=%{x}<extra></extra>",
           "legendgroup": "Spain",
           "marker": {
            "color": "#FFA15A",
            "pattern": {
             "shape": ""
            }
           },
           "name": "Spain",
           "orientation": "h",
           "showlegend": true,
           "textposition": "auto",
           "type": "bar",
           "x": {
            "bdata": "AAAA4Aj5nUE=",
            "dtype": "f8"
           },
           "xaxis": "x",
           "y": [
            "Spain"
           ],
           "yaxis": "y"
          },
          {
           "hovertemplate": "Land=%{y}<br>year=2014<br>Produzierte Menge (in MJ)=%{x}<extra></extra>",
           "legendgroup": "Sweden",
           "marker": {
            "color": "#19d3f3",
            "pattern": {
             "shape": ""
            }
           },
           "name": "Sweden",
           "orientation": "h",
           "showlegend": true,
           "textposition": "auto",
           "type": "bar",
           "x": {
            "bdata": "AAAA4KFmkkE=",
            "dtype": "f8"
           },
           "xaxis": "x",
           "y": [
            "Sweden"
           ],
           "yaxis": "y"
          },
          {
           "hovertemplate": "Land=%{y}<br>year=2014<br>Produzierte Menge (in MJ)=%{x}<extra></extra>",
           "legendgroup": "Switzerland",
           "marker": {
            "color": "#FF6692",
            "pattern": {
             "shape": ""
            }
           },
           "name": "Switzerland",
           "orientation": "h",
           "showlegend": true,
           "textposition": "auto",
           "type": "bar",
           "x": {
            "bdata": "AAAAgGWoh0E=",
            "dtype": "f8"
           },
           "xaxis": "x",
           "y": [
            "Switzerland"
           ],
           "yaxis": "y"
          },
          {
           "hovertemplate": "Land=%{y}<br>year=2014<br>Produzierte Menge (in MJ)=%{x}<extra></extra>",
           "legendgroup": "United Kingdom",
           "marker": {
            "color": "#B6E880",
            "pattern": {
             "shape": ""
            }
           },
           "name": "United Kingdom",
           "orientation": "h",
           "showlegend": true,
           "textposition": "auto",
           "type": "bar",
           "x": {
            "bdata": "AAAAULLJqkE=",
            "dtype": "f8"
           },
           "xaxis": "x",
           "y": [
            "United Kingdom"
           ],
           "yaxis": "y"
          },
          {
           "hovertemplate": "Land=%{y}<br>year=2014<br>Produzierte Menge (in MJ)=%{x}<extra></extra>",
           "legendgroup": "Germany",
           "marker": {
            "color": "#FF97FF",
            "pattern": {
             "shape": ""
            }
           },
           "name": "Germany",
           "orientation": "h",
           "showlegend": true,
           "textposition": "auto",
           "type": "bar",
           "x": {
            "bdata": "AAAAEEkdxkE=",
            "dtype": "f8"
           },
           "xaxis": "x",
           "y": [
            "Germany"
           ],
           "yaxis": "y"
          },
          {
           "hovertemplate": "Land=%{y}<br>year=2014<br>Produzierte Menge (in MJ)=%{x}<extra></extra>",
           "legendgroup": "Belarus",
           "marker": {
            "color": "#FECB52",
            "pattern": {
             "shape": ""
            }
           },
           "name": "Belarus",
           "orientation": "h",
           "showlegend": true,
           "textposition": "auto",
           "type": "bar",
           "x": {
            "bdata": "AAAAAN5dVEE=",
            "dtype": "f8"
           },
           "xaxis": "x",
           "y": [
            "Belarus"
           ],
           "yaxis": "y"
          },
          {
           "hovertemplate": "Land=%{y}<br>year=2014<br>Produzierte Menge (in MJ)=%{x}<extra></extra>",
           "legendgroup": "Croatia",
           "marker": {
            "color": "#636efa",
            "pattern": {
             "shape": ""
            }
           },
           "name": "Croatia",
           "orientation": "h",
           "showlegend": true,
           "textposition": "auto",
           "type": "bar",
           "x": {
            "bdata": "AAAAACirQ0E=",
            "dtype": "f8"
           },
           "xaxis": "x",
           "y": [
            "Croatia"
           ],
           "yaxis": "y"
          },
          {
           "hovertemplate": "Land=%{y}<br>year=2014<br>Produzierte Menge (in MJ)=%{x}<extra></extra>",
           "legendgroup": "Czech Republic",
           "marker": {
            "color": "#EF553B",
            "pattern": {
             "shape": ""
            }
           },
           "name": "Czech Republic",
           "orientation": "h",
           "showlegend": true,
           "textposition": "auto",
           "type": "bar",
           "x": {
            "bdata": "AAAAwAKOiEE=",
            "dtype": "f8"
           },
           "xaxis": "x",
           "y": [
            "Czech Republic"
           ],
           "yaxis": "y"
          },
          {
           "hovertemplate": "Land=%{y}<br>year=2014<br>Produzierte Menge (in MJ)=%{x}<extra></extra>",
           "legendgroup": "Estonia",
           "marker": {
            "color": "#00cc96",
            "pattern": {
             "shape": ""
            }
           },
           "name": "Estonia",
           "orientation": "h",
           "showlegend": true,
           "textposition": "auto",
           "type": "bar",
           "x": {
            "bdata": "AAAAACxRZEE=",
            "dtype": "f8"
           },
           "xaxis": "x",
           "y": [
            "Estonia"
           ],
           "yaxis": "y"
          },
          {
           "hovertemplate": "Land=%{y}<br>year=2014<br>Produzierte Menge (in MJ)=%{x}<extra></extra>",
           "legendgroup": "Latvia",
           "marker": {
            "color": "#ab63fa",
            "pattern": {
             "shape": ""
            }
           },
           "name": "Latvia",
           "orientation": "h",
           "showlegend": true,
           "textposition": "auto",
           "type": "bar",
           "x": {
            "bdata": "AAAAAFgCWUE=",
            "dtype": "f8"
           },
           "xaxis": "x",
           "y": [
            "Latvia"
           ],
           "yaxis": "y"
          },
          {
           "hovertemplate": "Land=%{y}<br>year=2014<br>Produzierte Menge (in MJ)=%{x}<extra></extra>",
           "legendgroup": "Lithuania",
           "marker": {
            "color": "#FFA15A",
            "pattern": {
             "shape": ""
            }
           },
           "name": "Lithuania",
           "orientation": "h",
           "showlegend": true,
           "textposition": "auto",
           "type": "bar",
           "x": {
            "bdata": "AAAAAA6dXUE=",
            "dtype": "f8"
           },
           "xaxis": "x",
           "y": [
            "Lithuania"
           ],
           "yaxis": "y"
          },
          {
           "hovertemplate": "Land=%{y}<br>year=2014<br>Produzierte Menge (in MJ)=%{x}<extra></extra>",
           "legendgroup": "Romania",
           "marker": {
            "color": "#19d3f3",
            "pattern": {
             "shape": ""
            }
           },
           "name": "Romania",
           "orientation": "h",
           "showlegend": true,
           "textposition": "auto",
           "type": "bar",
           "x": {
            "bdata": "AAAAAH5bV0E=",
            "dtype": "f8"
           },
           "xaxis": "x",
           "y": [
            "Romania"
           ],
           "yaxis": "y"
          },
          {
           "hovertemplate": "Land=%{y}<br>year=2014<br>Produzierte Menge (in MJ)=%{x}<extra></extra>",
           "legendgroup": "Iceland",
           "marker": {
            "color": "#FF6692",
            "pattern": {
             "shape": ""
            }
           },
           "name": "Iceland",
           "orientation": "h",
           "showlegend": true,
           "textposition": "auto",
           "type": "bar",
           "x": {
            "bdata": "AAAAAICo+EA=",
            "dtype": "f8"
           },
           "xaxis": "x",
           "y": [
            "Iceland"
           ],
           "yaxis": "y"
          },
          {
           "hovertemplate": "Land=%{y}<br>year=2014<br>Produzierte Menge (in MJ)=%{x}<extra></extra>",
           "legendgroup": "Slovenia",
           "marker": {
            "color": "#B6E880",
            "pattern": {
             "shape": ""
            }
           },
           "name": "Slovenia",
           "orientation": "h",
           "showlegend": true,
           "textposition": "auto",
           "type": "bar",
           "x": {
            "bdata": "AAAAAGiyN0E=",
            "dtype": "f8"
           },
           "xaxis": "x",
           "y": [
            "Slovenia"
           ],
           "yaxis": "y"
          },
          {
           "hovertemplate": "Land=%{y}<br>year=2014<br>Produzierte Menge (in MJ)=%{x}<extra></extra>",
           "legendgroup": "Cyprus",
           "marker": {
            "color": "#FF97FF",
            "pattern": {
             "shape": ""
            }
           },
           "name": "Cyprus",
           "orientation": "h",
           "showlegend": true,
           "textposition": "auto",
           "type": "bar",
           "x": {
            "bdata": "AAAAAKCFJkE=",
            "dtype": "f8"
           },
           "xaxis": "x",
           "y": [
            "Cyprus"
           ],
           "yaxis": "y"
          },
          {
           "hovertemplate": "Land=%{y}<br>year=2014<br>Produzierte Menge (in MJ)=%{x}<extra></extra>",
           "legendgroup": "Slovakia",
           "marker": {
            "color": "#FECB52",
            "pattern": {
             "shape": ""
            }
           },
           "name": "Slovakia",
           "orientation": "h",
           "showlegend": true,
           "textposition": "auto",
           "type": "bar",
           "x": {
            "bdata": "AAAAAHDabkE=",
            "dtype": "f8"
           },
           "xaxis": "x",
           "y": [
            "Slovakia"
           ],
           "yaxis": "y"
          },
          {
           "hovertemplate": "Land=%{y}<br>year=2014<br>Produzierte Menge (in MJ)=%{x}<extra></extra>",
           "legendgroup": "Andorra",
           "marker": {
            "color": "#636efa",
            "pattern": {
             "shape": ""
            }
           },
           "name": "Andorra",
           "orientation": "h",
           "showlegend": true,
           "textposition": "auto",
           "type": "bar",
           "x": {
            "bdata": "AAAAAEBmDUE=",
            "dtype": "f8"
           },
           "xaxis": "x",
           "y": [
            "Andorra"
           ],
           "yaxis": "y"
          },
          {
           "hovertemplate": "Land=%{y}<br>year=2014<br>Produzierte Menge (in MJ)=%{x}<extra></extra>",
           "legendgroup": "Moldova",
           "marker": {
            "color": "#EF553B",
            "pattern": {
             "shape": ""
            }
           },
           "name": "Moldova",
           "orientation": "h",
           "showlegend": true,
           "textposition": "auto",
           "type": "bar",
           "x": {
            "bdata": "AAAAABBEMEE=",
            "dtype": "f8"
           },
           "xaxis": "x",
           "y": [
            "Moldova"
           ],
           "yaxis": "y"
          },
          {
           "hovertemplate": "Land=%{y}<br>year=2014<br>Produzierte Menge (in MJ)=%{x}<extra></extra>",
           "legendgroup": "Bulgaria",
           "marker": {
            "color": "#00cc96",
            "pattern": {
             "shape": ""
            }
           },
           "name": "Bulgaria",
           "orientation": "h",
           "showlegend": true,
           "textposition": "auto",
           "type": "bar",
           "x": {
            "bdata": "AAAAAGRZT0E=",
            "dtype": "f8"
           },
           "xaxis": "x",
           "y": [
            "Bulgaria"
           ],
           "yaxis": "y"
          },
          {
           "hovertemplate": "Land=%{y}<br>year=2014<br>Produzierte Menge (in MJ)=%{x}<extra></extra>",
           "legendgroup": "Liechtenstein",
           "marker": {
            "color": "#ab63fa",
            "pattern": {
             "shape": ""
            }
           },
           "name": "Liechtenstein",
           "orientation": "h",
           "showlegend": true,
           "textposition": "auto",
           "type": "bar",
           "x": {
            "bdata": "AAAAAIAYF0E=",
            "dtype": "f8"
           },
           "xaxis": "x",
           "y": [
            "Liechtenstein"
           ],
           "yaxis": "y"
          },
          {
           "hovertemplate": "Land=%{y}<br>year=2014<br>Produzierte Menge (in MJ)=%{x}<extra></extra>",
           "legendgroup": "Malta",
           "marker": {
            "color": "#FFA15A",
            "pattern": {
             "shape": ""
            }
           },
           "name": "Malta",
           "orientation": "h",
           "showlegend": true,
           "textposition": "auto",
           "type": "bar",
           "x": {
            "bdata": "AAAAAIAf+kA=",
            "dtype": "f8"
           },
           "xaxis": "x",
           "y": [
            "Malta"
           ],
           "yaxis": "y"
          },
          {
           "hovertemplate": "Land=%{y}<br>year=2014<br>Produzierte Menge (in MJ)=%{x}<extra></extra>",
           "legendgroup": "North Macedonia",
           "marker": {
            "color": "#19d3f3",
            "pattern": {
             "shape": ""
            }
           },
           "name": "North Macedonia",
           "orientation": "h",
           "showlegend": true,
           "textposition": "auto",
           "type": "bar",
           "x": {
            "bdata": "AAAAADAPD0E=",
            "dtype": "f8"
           },
           "xaxis": "x",
           "y": [
            "North Macedonia"
           ],
           "yaxis": "y"
          },
          {
           "hovertemplate": "Land=%{y}<br>year=2014<br>Produzierte Menge (in MJ)=%{x}<extra></extra>",
           "legendgroup": "Serbia",
           "marker": {
            "color": "#FF6692",
            "pattern": {
             "shape": ""
            }
           },
           "name": "Serbia",
           "orientation": "h",
           "showlegend": true,
           "textposition": "auto",
           "type": "bar",
           "x": {
            "bdata": "AAAAAMA+CkE=",
            "dtype": "f8"
           },
           "xaxis": "x",
           "y": [
            "Serbia"
           ],
           "yaxis": "y"
          }
         ],
         "name": "2014"
        }
       ],
       "layout": {
        "barmode": "relative",
        "height": 700,
        "legend": {
         "title": {
          "text": "Land"
         },
         "tracegroupgap": 0
        },
        "showlegend": false,
        "sliders": [
         {
          "active": 0,
          "currentvalue": {
           "prefix": "year="
          },
          "len": 0.9,
          "pad": {
           "b": 10,
           "t": 60
          },
          "steps": [
           {
            "args": [
             [
              "1990"
             ],
             {
              "frame": {
               "duration": 0,
               "redraw": true
              },
              "fromcurrent": true,
              "mode": "immediate",
              "transition": {
               "duration": 0,
               "easing": "linear"
              }
             }
            ],
            "label": "1990",
            "method": "animate"
           },
           {
            "args": [
             [
              "1991"
             ],
             {
              "frame": {
               "duration": 0,
               "redraw": true
              },
              "fromcurrent": true,
              "mode": "immediate",
              "transition": {
               "duration": 0,
               "easing": "linear"
              }
             }
            ],
            "label": "1991",
            "method": "animate"
           },
           {
            "args": [
             [
              "1992"
             ],
             {
              "frame": {
               "duration": 0,
               "redraw": true
              },
              "fromcurrent": true,
              "mode": "immediate",
              "transition": {
               "duration": 0,
               "easing": "linear"
              }
             }
            ],
            "label": "1992",
            "method": "animate"
           },
           {
            "args": [
             [
              "1993"
             ],
             {
              "frame": {
               "duration": 0,
               "redraw": true
              },
              "fromcurrent": true,
              "mode": "immediate",
              "transition": {
               "duration": 0,
               "easing": "linear"
              }
             }
            ],
            "label": "1993",
            "method": "animate"
           },
           {
            "args": [
             [
              "1994"
             ],
             {
              "frame": {
               "duration": 0,
               "redraw": true
              },
              "fromcurrent": true,
              "mode": "immediate",
              "transition": {
               "duration": 0,
               "easing": "linear"
              }
             }
            ],
            "label": "1994",
            "method": "animate"
           },
           {
            "args": [
             [
              "1995"
             ],
             {
              "frame": {
               "duration": 0,
               "redraw": true
              },
              "fromcurrent": true,
              "mode": "immediate",
              "transition": {
               "duration": 0,
               "easing": "linear"
              }
             }
            ],
            "label": "1995",
            "method": "animate"
           },
           {
            "args": [
             [
              "1996"
             ],
             {
              "frame": {
               "duration": 0,
               "redraw": true
              },
              "fromcurrent": true,
              "mode": "immediate",
              "transition": {
               "duration": 0,
               "easing": "linear"
              }
             }
            ],
            "label": "1996",
            "method": "animate"
           },
           {
            "args": [
             [
              "1997"
             ],
             {
              "frame": {
               "duration": 0,
               "redraw": true
              },
              "fromcurrent": true,
              "mode": "immediate",
              "transition": {
               "duration": 0,
               "easing": "linear"
              }
             }
            ],
            "label": "1997",
            "method": "animate"
           },
           {
            "args": [
             [
              "1998"
             ],
             {
              "frame": {
               "duration": 0,
               "redraw": true
              },
              "fromcurrent": true,
              "mode": "immediate",
              "transition": {
               "duration": 0,
               "easing": "linear"
              }
             }
            ],
            "label": "1998",
            "method": "animate"
           },
           {
            "args": [
             [
              "1999"
             ],
             {
              "frame": {
               "duration": 0,
               "redraw": true
              },
              "fromcurrent": true,
              "mode": "immediate",
              "transition": {
               "duration": 0,
               "easing": "linear"
              }
             }
            ],
            "label": "1999",
            "method": "animate"
           },
           {
            "args": [
             [
              "2000"
             ],
             {
              "frame": {
               "duration": 0,
               "redraw": true
              },
              "fromcurrent": true,
              "mode": "immediate",
              "transition": {
               "duration": 0,
               "easing": "linear"
              }
             }
            ],
            "label": "2000",
            "method": "animate"
           },
           {
            "args": [
             [
              "2001"
             ],
             {
              "frame": {
               "duration": 0,
               "redraw": true
              },
              "fromcurrent": true,
              "mode": "immediate",
              "transition": {
               "duration": 0,
               "easing": "linear"
              }
             }
            ],
            "label": "2001",
            "method": "animate"
           },
           {
            "args": [
             [
              "2002"
             ],
             {
              "frame": {
               "duration": 0,
               "redraw": true
              },
              "fromcurrent": true,
              "mode": "immediate",
              "transition": {
               "duration": 0,
               "easing": "linear"
              }
             }
            ],
            "label": "2002",
            "method": "animate"
           },
           {
            "args": [
             [
              "2003"
             ],
             {
              "frame": {
               "duration": 0,
               "redraw": true
              },
              "fromcurrent": true,
              "mode": "immediate",
              "transition": {
               "duration": 0,
               "easing": "linear"
              }
             }
            ],
            "label": "2003",
            "method": "animate"
           },
           {
            "args": [
             [
              "2004"
             ],
             {
              "frame": {
               "duration": 0,
               "redraw": true
              },
              "fromcurrent": true,
              "mode": "immediate",
              "transition": {
               "duration": 0,
               "easing": "linear"
              }
             }
            ],
            "label": "2004",
            "method": "animate"
           },
           {
            "args": [
             [
              "2005"
             ],
             {
              "frame": {
               "duration": 0,
               "redraw": true
              },
              "fromcurrent": true,
              "mode": "immediate",
              "transition": {
               "duration": 0,
               "easing": "linear"
              }
             }
            ],
            "label": "2005",
            "method": "animate"
           },
           {
            "args": [
             [
              "2006"
             ],
             {
              "frame": {
               "duration": 0,
               "redraw": true
              },
              "fromcurrent": true,
              "mode": "immediate",
              "transition": {
               "duration": 0,
               "easing": "linear"
              }
             }
            ],
            "label": "2006",
            "method": "animate"
           },
           {
            "args": [
             [
              "2007"
             ],
             {
              "frame": {
               "duration": 0,
               "redraw": true
              },
              "fromcurrent": true,
              "mode": "immediate",
              "transition": {
               "duration": 0,
               "easing": "linear"
              }
             }
            ],
            "label": "2007",
            "method": "animate"
           },
           {
            "args": [
             [
              "2008"
             ],
             {
              "frame": {
               "duration": 0,
               "redraw": true
              },
              "fromcurrent": true,
              "mode": "immediate",
              "transition": {
               "duration": 0,
               "easing": "linear"
              }
             }
            ],
            "label": "2008",
            "method": "animate"
           },
           {
            "args": [
             [
              "2009"
             ],
             {
              "frame": {
               "duration": 0,
               "redraw": true
              },
              "fromcurrent": true,
              "mode": "immediate",
              "transition": {
               "duration": 0,
               "easing": "linear"
              }
             }
            ],
            "label": "2009",
            "method": "animate"
           },
           {
            "args": [
             [
              "2010"
             ],
             {
              "frame": {
               "duration": 0,
               "redraw": true
              },
              "fromcurrent": true,
              "mode": "immediate",
              "transition": {
               "duration": 0,
               "easing": "linear"
              }
             }
            ],
            "label": "2010",
            "method": "animate"
           },
           {
            "args": [
             [
              "2011"
             ],
             {
              "frame": {
               "duration": 0,
               "redraw": true
              },
              "fromcurrent": true,
              "mode": "immediate",
              "transition": {
               "duration": 0,
               "easing": "linear"
              }
             }
            ],
            "label": "2011",
            "method": "animate"
           },
           {
            "args": [
             [
              "2012"
             ],
             {
              "frame": {
               "duration": 0,
               "redraw": true
              },
              "fromcurrent": true,
              "mode": "immediate",
              "transition": {
               "duration": 0,
               "easing": "linear"
              }
             }
            ],
            "label": "2012",
            "method": "animate"
           },
           {
            "args": [
             [
              "2013"
             ],
             {
              "frame": {
               "duration": 0,
               "redraw": true
              },
              "fromcurrent": true,
              "mode": "immediate",
              "transition": {
               "duration": 0,
               "easing": "linear"
              }
             }
            ],
            "label": "2013",
            "method": "animate"
           },
           {
            "args": [
             [
              "2014"
             ],
             {
              "frame": {
               "duration": 0,
               "redraw": true
              },
              "fromcurrent": true,
              "mode": "immediate",
              "transition": {
               "duration": 0,
               "easing": "linear"
              }
             }
            ],
            "label": "2014",
            "method": "animate"
           }
          ],
          "x": 0.1,
          "xanchor": "left",
          "y": 0,
          "yanchor": "top"
         }
        ],
        "template": {
         "data": {
          "bar": [
           {
            "error_x": {
             "color": "#2a3f5f"
            },
            "error_y": {
             "color": "#2a3f5f"
            },
            "marker": {
             "line": {
              "color": "#E5ECF6",
              "width": 0.5
             },
             "pattern": {
              "fillmode": "overlay",
              "size": 10,
              "solidity": 0.2
             }
            },
            "type": "bar"
           }
          ],
          "barpolar": [
           {
            "marker": {
             "line": {
              "color": "#E5ECF6",
              "width": 0.5
             },
             "pattern": {
              "fillmode": "overlay",
              "size": 10,
              "solidity": 0.2
             }
            },
            "type": "barpolar"
           }
          ],
          "carpet": [
           {
            "aaxis": {
             "endlinecolor": "#2a3f5f",
             "gridcolor": "white",
             "linecolor": "white",
             "minorgridcolor": "white",
             "startlinecolor": "#2a3f5f"
            },
            "baxis": {
             "endlinecolor": "#2a3f5f",
             "gridcolor": "white",
             "linecolor": "white",
             "minorgridcolor": "white",
             "startlinecolor": "#2a3f5f"
            },
            "type": "carpet"
           }
          ],
          "choropleth": [
           {
            "colorbar": {
             "outlinewidth": 0,
             "ticks": ""
            },
            "type": "choropleth"
           }
          ],
          "contour": [
           {
            "colorbar": {
             "outlinewidth": 0,
             "ticks": ""
            },
            "colorscale": [
             [
              0,
              "#0d0887"
             ],
             [
              0.1111111111111111,
              "#46039f"
             ],
             [
              0.2222222222222222,
              "#7201a8"
             ],
             [
              0.3333333333333333,
              "#9c179e"
             ],
             [
              0.4444444444444444,
              "#bd3786"
             ],
             [
              0.5555555555555556,
              "#d8576b"
             ],
             [
              0.6666666666666666,
              "#ed7953"
             ],
             [
              0.7777777777777778,
              "#fb9f3a"
             ],
             [
              0.8888888888888888,
              "#fdca26"
             ],
             [
              1,
              "#f0f921"
             ]
            ],
            "type": "contour"
           }
          ],
          "contourcarpet": [
           {
            "colorbar": {
             "outlinewidth": 0,
             "ticks": ""
            },
            "type": "contourcarpet"
           }
          ],
          "heatmap": [
           {
            "colorbar": {
             "outlinewidth": 0,
             "ticks": ""
            },
            "colorscale": [
             [
              0,
              "#0d0887"
             ],
             [
              0.1111111111111111,
              "#46039f"
             ],
             [
              0.2222222222222222,
              "#7201a8"
             ],
             [
              0.3333333333333333,
              "#9c179e"
             ],
             [
              0.4444444444444444,
              "#bd3786"
             ],
             [
              0.5555555555555556,
              "#d8576b"
             ],
             [
              0.6666666666666666,
              "#ed7953"
             ],
             [
              0.7777777777777778,
              "#fb9f3a"
             ],
             [
              0.8888888888888888,
              "#fdca26"
             ],
             [
              1,
              "#f0f921"
             ]
            ],
            "type": "heatmap"
           }
          ],
          "histogram": [
           {
            "marker": {
             "pattern": {
              "fillmode": "overlay",
              "size": 10,
              "solidity": 0.2
             }
            },
            "type": "histogram"
           }
          ],
          "histogram2d": [
           {
            "colorbar": {
             "outlinewidth": 0,
             "ticks": ""
            },
            "colorscale": [
             [
              0,
              "#0d0887"
             ],
             [
              0.1111111111111111,
              "#46039f"
             ],
             [
              0.2222222222222222,
              "#7201a8"
             ],
             [
              0.3333333333333333,
              "#9c179e"
             ],
             [
              0.4444444444444444,
              "#bd3786"
             ],
             [
              0.5555555555555556,
              "#d8576b"
             ],
             [
              0.6666666666666666,
              "#ed7953"
             ],
             [
              0.7777777777777778,
              "#fb9f3a"
             ],
             [
              0.8888888888888888,
              "#fdca26"
             ],
             [
              1,
              "#f0f921"
             ]
            ],
            "type": "histogram2d"
           }
          ],
          "histogram2dcontour": [
           {
            "colorbar": {
             "outlinewidth": 0,
             "ticks": ""
            },
            "colorscale": [
             [
              0,
              "#0d0887"
             ],
             [
              0.1111111111111111,
              "#46039f"
             ],
             [
              0.2222222222222222,
              "#7201a8"
             ],
             [
              0.3333333333333333,
              "#9c179e"
             ],
             [
              0.4444444444444444,
              "#bd3786"
             ],
             [
              0.5555555555555556,
              "#d8576b"
             ],
             [
              0.6666666666666666,
              "#ed7953"
             ],
             [
              0.7777777777777778,
              "#fb9f3a"
             ],
             [
              0.8888888888888888,
              "#fdca26"
             ],
             [
              1,
              "#f0f921"
             ]
            ],
            "type": "histogram2dcontour"
           }
          ],
          "mesh3d": [
           {
            "colorbar": {
             "outlinewidth": 0,
             "ticks": ""
            },
            "type": "mesh3d"
           }
          ],
          "parcoords": [
           {
            "line": {
             "colorbar": {
              "outlinewidth": 0,
              "ticks": ""
             }
            },
            "type": "parcoords"
           }
          ],
          "pie": [
           {
            "automargin": true,
            "type": "pie"
           }
          ],
          "scatter": [
           {
            "fillpattern": {
             "fillmode": "overlay",
             "size": 10,
             "solidity": 0.2
            },
            "type": "scatter"
           }
          ],
          "scatter3d": [
           {
            "line": {
             "colorbar": {
              "outlinewidth": 0,
              "ticks": ""
             }
            },
            "marker": {
             "colorbar": {
              "outlinewidth": 0,
              "ticks": ""
             }
            },
            "type": "scatter3d"
           }
          ],
          "scattercarpet": [
           {
            "marker": {
             "colorbar": {
              "outlinewidth": 0,
              "ticks": ""
             }
            },
            "type": "scattercarpet"
           }
          ],
          "scattergeo": [
           {
            "marker": {
             "colorbar": {
              "outlinewidth": 0,
              "ticks": ""
             }
            },
            "type": "scattergeo"
           }
          ],
          "scattergl": [
           {
            "marker": {
             "colorbar": {
              "outlinewidth": 0,
              "ticks": ""
             }
            },
            "type": "scattergl"
           }
          ],
          "scattermap": [
           {
            "marker": {
             "colorbar": {
              "outlinewidth": 0,
              "ticks": ""
             }
            },
            "type": "scattermap"
           }
          ],
          "scattermapbox": [
           {
            "marker": {
             "colorbar": {
              "outlinewidth": 0,
              "ticks": ""
             }
            },
            "type": "scattermapbox"
           }
          ],
          "scatterpolar": [
           {
            "marker": {
             "colorbar": {
              "outlinewidth": 0,
              "ticks": ""
             }
            },
            "type": "scatterpolar"
           }
          ],
          "scatterpolargl": [
           {
            "marker": {
             "colorbar": {
              "outlinewidth": 0,
              "ticks": ""
             }
            },
            "type": "scatterpolargl"
           }
          ],
          "scatterternary": [
           {
            "marker": {
             "colorbar": {
              "outlinewidth": 0,
              "ticks": ""
             }
            },
            "type": "scatterternary"
           }
          ],
          "surface": [
           {
            "colorbar": {
             "outlinewidth": 0,
             "ticks": ""
            },
            "colorscale": [
             [
              0,
              "#0d0887"
             ],
             [
              0.1111111111111111,
              "#46039f"
             ],
             [
              0.2222222222222222,
              "#7201a8"
             ],
             [
              0.3333333333333333,
              "#9c179e"
             ],
             [
              0.4444444444444444,
              "#bd3786"
             ],
             [
              0.5555555555555556,
              "#d8576b"
             ],
             [
              0.6666666666666666,
              "#ed7953"
             ],
             [
              0.7777777777777778,
              "#fb9f3a"
             ],
             [
              0.8888888888888888,
              "#fdca26"
             ],
             [
              1,
              "#f0f921"
             ]
            ],
            "type": "surface"
           }
          ],
          "table": [
           {
            "cells": {
             "fill": {
              "color": "#EBF0F8"
             },
             "line": {
              "color": "white"
             }
            },
            "header": {
             "fill": {
              "color": "#C8D4E3"
             },
             "line": {
              "color": "white"
             }
            },
            "type": "table"
           }
          ]
         },
         "layout": {
          "annotationdefaults": {
           "arrowcolor": "#2a3f5f",
           "arrowhead": 0,
           "arrowwidth": 1
          },
          "autotypenumbers": "strict",
          "coloraxis": {
           "colorbar": {
            "outlinewidth": 0,
            "ticks": ""
           }
          },
          "colorscale": {
           "diverging": [
            [
             0,
             "#8e0152"
            ],
            [
             0.1,
             "#c51b7d"
            ],
            [
             0.2,
             "#de77ae"
            ],
            [
             0.3,
             "#f1b6da"
            ],
            [
             0.4,
             "#fde0ef"
            ],
            [
             0.5,
             "#f7f7f7"
            ],
            [
             0.6,
             "#e6f5d0"
            ],
            [
             0.7,
             "#b8e186"
            ],
            [
             0.8,
             "#7fbc41"
            ],
            [
             0.9,
             "#4d9221"
            ],
            [
             1,
             "#276419"
            ]
           ],
           "sequential": [
            [
             0,
             "#0d0887"
            ],
            [
             0.1111111111111111,
             "#46039f"
            ],
            [
             0.2222222222222222,
             "#7201a8"
            ],
            [
             0.3333333333333333,
             "#9c179e"
            ],
            [
             0.4444444444444444,
             "#bd3786"
            ],
            [
             0.5555555555555556,
             "#d8576b"
            ],
            [
             0.6666666666666666,
             "#ed7953"
            ],
            [
             0.7777777777777778,
             "#fb9f3a"
            ],
            [
             0.8888888888888888,
             "#fdca26"
            ],
            [
             1,
             "#f0f921"
            ]
           ],
           "sequentialminus": [
            [
             0,
             "#0d0887"
            ],
            [
             0.1111111111111111,
             "#46039f"
            ],
            [
             0.2222222222222222,
             "#7201a8"
            ],
            [
             0.3333333333333333,
             "#9c179e"
            ],
            [
             0.4444444444444444,
             "#bd3786"
            ],
            [
             0.5555555555555556,
             "#d8576b"
            ],
            [
             0.6666666666666666,
             "#ed7953"
            ],
            [
             0.7777777777777778,
             "#fb9f3a"
            ],
            [
             0.8888888888888888,
             "#fdca26"
            ],
            [
             1,
             "#f0f921"
            ]
           ]
          },
          "colorway": [
           "#636efa",
           "#EF553B",
           "#00cc96",
           "#ab63fa",
           "#FFA15A",
           "#19d3f3",
           "#FF6692",
           "#B6E880",
           "#FF97FF",
           "#FECB52"
          ],
          "font": {
           "color": "#2a3f5f"
          },
          "geo": {
           "bgcolor": "white",
           "lakecolor": "white",
           "landcolor": "#E5ECF6",
           "showlakes": true,
           "showland": true,
           "subunitcolor": "white"
          },
          "hoverlabel": {
           "align": "left"
          },
          "hovermode": "closest",
          "mapbox": {
           "style": "light"
          },
          "paper_bgcolor": "white",
          "plot_bgcolor": "#E5ECF6",
          "polar": {
           "angularaxis": {
            "gridcolor": "white",
            "linecolor": "white",
            "ticks": ""
           },
           "bgcolor": "#E5ECF6",
           "radialaxis": {
            "gridcolor": "white",
            "linecolor": "white",
            "ticks": ""
           }
          },
          "scene": {
           "xaxis": {
            "backgroundcolor": "#E5ECF6",
            "gridcolor": "white",
            "gridwidth": 2,
            "linecolor": "white",
            "showbackground": true,
            "ticks": "",
            "zerolinecolor": "white"
           },
           "yaxis": {
            "backgroundcolor": "#E5ECF6",
            "gridcolor": "white",
            "gridwidth": 2,
            "linecolor": "white",
            "showbackground": true,
            "ticks": "",
            "zerolinecolor": "white"
           },
           "zaxis": {
            "backgroundcolor": "#E5ECF6",
            "gridcolor": "white",
            "gridwidth": 2,
            "linecolor": "white",
            "showbackground": true,
            "ticks": "",
            "zerolinecolor": "white"
           }
          },
          "shapedefaults": {
           "line": {
            "color": "#2a3f5f"
           }
          },
          "ternary": {
           "aaxis": {
            "gridcolor": "white",
            "linecolor": "white",
            "ticks": ""
           },
           "baxis": {
            "gridcolor": "white",
            "linecolor": "white",
            "ticks": ""
           },
           "bgcolor": "#E5ECF6",
           "caxis": {
            "gridcolor": "white",
            "linecolor": "white",
            "ticks": ""
           }
          },
          "title": {
           "x": 0.05
          },
          "xaxis": {
           "automargin": true,
           "gridcolor": "white",
           "linecolor": "white",
           "ticks": "",
           "title": {
            "standoff": 15
           },
           "zerolinecolor": "white",
           "zerolinewidth": 2
          },
          "yaxis": {
           "automargin": true,
           "gridcolor": "white",
           "linecolor": "white",
           "ticks": "",
           "title": {
            "standoff": 15
           },
           "zerolinecolor": "white",
           "zerolinewidth": 2
          }
         }
        },
        "title": {
         "text": "Top 10 Länder mit höchster Produktion von grüner Energie pro Jahr"
        },
        "updatemenus": [
         {
          "buttons": [
           {
            "args": [
             null,
             {
              "frame": {
               "duration": 500,
               "redraw": true
              },
              "fromcurrent": true,
              "mode": "immediate",
              "transition": {
               "duration": 500,
               "easing": "linear"
              }
             }
            ],
            "label": "&#9654;",
            "method": "animate"
           },
           {
            "args": [
             [
              null
             ],
             {
              "frame": {
               "duration": 0,
               "redraw": true
              },
              "fromcurrent": true,
              "mode": "immediate",
              "transition": {
               "duration": 0,
               "easing": "linear"
              }
             }
            ],
            "label": "&#9724;",
            "method": "animate"
           }
          ],
          "direction": "left",
          "pad": {
           "r": 10,
           "t": 70
          },
          "showactive": false,
          "type": "buttons",
          "x": 0.1,
          "xanchor": "right",
          "y": 0,
          "yanchor": "top"
         }
        ],
        "xaxis": {
         "anchor": "y",
         "domain": [
          0,
          1
         ],
         "range": [
          0,
          816239600.0000001
         ],
         "title": {
          "text": "Produzierte Menge (in MJ)"
         }
        },
        "yaxis": {
         "anchor": "x",
         "categoryarray": [
          "Serbia",
          "North Macedonia",
          "Malta",
          "Liechtenstein",
          "Bulgaria",
          "Moldova",
          "Andorra",
          "Slovakia",
          "Cyprus",
          "Slovenia",
          "Iceland",
          "Romania",
          "Lithuania",
          "Latvia",
          "Estonia",
          "Czech Republic",
          "Croatia",
          "Belarus",
          "Germany",
          "United Kingdom",
          "Switzerland",
          "Sweden",
          "Spain",
          "Portugal",
          "Poland",
          "Norway",
          "Netherlands",
          "Luxembourg",
          "Italy",
          "Ireland",
          "Hungary",
          "Greece",
          "France",
          "Finland",
          "Denmark",
          "Belgium",
          "Austria"
         ],
         "categoryorder": "total ascending",
         "domain": [
          0,
          1
         ],
         "title": {
          "text": "Land"
         }
        }
       }
      }
     },
     "metadata": {},
     "output_type": "display_data"
    }
   ],
   "source": [
    "# Neu Aggregieren auf Basis der standardisierten MJ-Daten\n",
    "df_green_year_country = df[df['is_green_energy'] & (df['transaction_type'] == 'production')].groupby(\n",
    "    ['year', 'country_or_area']\n",
    ")['quantity_MJ'].sum().reset_index()\n",
    "\n",
    "# Plot erstellen\n",
    "fig = px.bar(\n",
    "    df_green_year_country,\n",
    "    x='quantity_MJ',\n",
    "    y='country_or_area',\n",
    "    color='country_or_area',\n",
    "    animation_frame='year',\n",
    "    orientation='h',\n",
    "    range_x=[0, df_green_year_country['quantity_MJ'].max()*1.1],\n",
    "    title='Top 10 Länder mit höchster Produktion von grüner Energie pro Jahr',\n",
    "    labels={'quantity_MJ': 'Produzierte Menge (in MJ)', 'country_or_area': 'Land'}\n",
    ")\n",
    "\n",
    "# Sortierung innerhalb jedes Frames auf Top 10\n",
    "fig.update_layout(\n",
    "    yaxis={'categoryorder':'total ascending'},\n",
    "    height=700,\n",
    "    showlegend=False\n",
    ")\n",
    "\n",
    "fig.show()"
   ]
  },
  {
   "cell_type": "markdown",
   "metadata": {},
   "source": [
    "## Dataframe exportieren für weitere Verwendung in Java-Applikation"
   ]
  },
  {
   "cell_type": "code",
   "execution_count": 14,
   "metadata": {},
   "outputs": [
    {
     "name": "stdout",
     "output_type": "stream",
     "text": [
      "Datei erfolgreich gespeichert: data/energy_cleaned_europe_final.csv\n"
     ]
    }
   ],
   "source": [
    "# Neuen Dateipfad definieren (anpassen falls nötig)\n",
    "output_file = \"data/energy_cleaned_europe_final.csv\"\n",
    "\n",
    "# Das aktuelle DataFrame als CSV speichern\n",
    "df.to_csv(output_file, index=False)\n",
    "\n",
    "print(f\"Datei erfolgreich gespeichert: {output_file}\")"
   ]
  },
  {
   "cell_type": "code",
   "execution_count": null,
   "metadata": {},
   "outputs": [],
   "source": []
  },
  {
   "cell_type": "markdown",
   "metadata": {},
   "source": [
    "# Einheitliche Standardisierung auf Gigajoule (GJ)\n"
   ]
  },
  {
   "cell_type": "code",
   "execution_count": 17,
   "metadata": {},
   "outputs": [
    {
     "name": "stdout",
     "output_type": "stream",
     "text": [
      "Standardisierung abgeschlossen: Neue Spalte 'quantity_GJ' verfügbar.\n",
      "Datei erfolgreich gespeichert: data/energy_cleaned_europe_final_gj.csv\n"
     ]
    }
   ],
   "source": [
    "# Konvertierungstabellen auf Gigajoule (GJ)\n",
    "conversion_to_GJ = {\n",
    "    \"Metric tons,  thousand\": 42,   # Beispiel für Öl\n",
    "    \"Terajoules\": 1,\n",
    "    \"Kilowatt-hours, million\": 3.6,\n",
    "    \"Cubic metres, thousand\": 0.038,\n",
    "    \"Kilowatts,  thousand\": np.nan  # Leistung, keine Energie\n",
    "}\n",
    "\n",
    "# Neue Spalte \"quantity_GJ\" erzeugen\n",
    "df['quantity_GJ'] = df.apply(\n",
    "    lambda row: row['quantity'] * conversion_to_GJ.get(row['unit'], np.nan),\n",
    "    axis=1\n",
    ")\n",
    "\n",
    "# Nur gültige Zeilen behalten\n",
    "df = df[~df['quantity_GJ'].isna()]\n",
    "\n",
    "print(\"Standardisierung abgeschlossen: Neue Spalte 'quantity_GJ' verfügbar.\")\n",
    "\n",
    "# ----------------------------------------\n",
    "# Exportieren des finalen DataFrames in eine CSV-Datei\n",
    "# ----------------------------------------\n",
    "\n",
    "# Pfad und Dateiname (anpassen falls nötig)\n",
    "output_file = \"data/energy_cleaned_europe_final_gj.csv\"\n",
    "\n",
    "# Speichern als CSV\n",
    "df.to_csv(output_file, index=False)\n",
    "\n",
    "print(f\"Datei erfolgreich gespeichert: {output_file}\")"
   ]
  },
  {
   "cell_type": "markdown",
   "metadata": {},
   "source": []
  }
 ],
 "metadata": {
  "kernelspec": {
   "display_name": ".venv",
   "language": "python",
   "name": "python3"
  },
  "language_info": {
   "codemirror_mode": {
    "name": "ipython",
    "version": 3
   },
   "file_extension": ".py",
   "mimetype": "text/x-python",
   "name": "python",
   "nbconvert_exporter": "python",
   "pygments_lexer": "ipython3",
   "version": "3.11.11"
  }
 },
 "nbformat": 4,
 "nbformat_minor": 2
}
